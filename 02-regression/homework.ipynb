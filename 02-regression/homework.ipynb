{
 "cells": [
  {
   "cell_type": "code",
   "execution_count": 248,
   "id": "6374bd8d-1e5b-4fd0-9dd8-fbefc6b39232",
   "metadata": {
    "tags": []
   },
   "outputs": [],
   "source": [
    "import numpy as np \n",
    "import pandas as pd"
   ]
  },
  {
   "cell_type": "code",
   "execution_count": 249,
   "id": "8a683ee8-1a0f-4618-983c-6eca906383fa",
   "metadata": {
    "tags": []
   },
   "outputs": [],
   "source": [
    "# !wget https://raw.githubusercontent.com/alexeygrigorev/datasets/master/housing.csv"
   ]
  },
  {
   "cell_type": "code",
   "execution_count": 250,
   "id": "ff73fc59-e86f-4d42-8675-da1be5262086",
   "metadata": {
    "tags": []
   },
   "outputs": [],
   "source": [
    "df = pd.read_csv('housing.csv')"
   ]
  },
  {
   "cell_type": "code",
   "execution_count": 251,
   "id": "f04f65e5-d0c1-4cac-9b78-3faab523b43e",
   "metadata": {
    "tags": []
   },
   "outputs": [],
   "source": [
    "df = df[['latitude',\n",
    "'longitude',\n",
    "'housing_median_age',\n",
    "'total_rooms',\n",
    "'total_bedrooms',\n",
    "'population',\n",
    "'households',\n",
    "'median_income',\n",
    "'median_house_value']]"
   ]
  },
  {
   "cell_type": "code",
   "execution_count": 252,
   "id": "e80d0655-8297-41a6-b3c8-ea9914648feb",
   "metadata": {
    "tags": []
   },
   "outputs": [
    {
     "data": {
      "text/html": [
       "<div>\n",
       "<style scoped>\n",
       "    .dataframe tbody tr th:only-of-type {\n",
       "        vertical-align: middle;\n",
       "    }\n",
       "\n",
       "    .dataframe tbody tr th {\n",
       "        vertical-align: top;\n",
       "    }\n",
       "\n",
       "    .dataframe thead th {\n",
       "        text-align: right;\n",
       "    }\n",
       "</style>\n",
       "<table border=\"1\" class=\"dataframe\">\n",
       "  <thead>\n",
       "    <tr style=\"text-align: right;\">\n",
       "      <th></th>\n",
       "      <th>0</th>\n",
       "      <th>1</th>\n",
       "      <th>2</th>\n",
       "      <th>3</th>\n",
       "      <th>4</th>\n",
       "      <th>5</th>\n",
       "      <th>6</th>\n",
       "      <th>7</th>\n",
       "      <th>8</th>\n",
       "      <th>9</th>\n",
       "      <th>...</th>\n",
       "      <th>20630</th>\n",
       "      <th>20631</th>\n",
       "      <th>20632</th>\n",
       "      <th>20633</th>\n",
       "      <th>20634</th>\n",
       "      <th>20635</th>\n",
       "      <th>20636</th>\n",
       "      <th>20637</th>\n",
       "      <th>20638</th>\n",
       "      <th>20639</th>\n",
       "    </tr>\n",
       "  </thead>\n",
       "  <tbody>\n",
       "    <tr>\n",
       "      <th>latitude</th>\n",
       "      <td>37.8800</td>\n",
       "      <td>37.8600</td>\n",
       "      <td>37.8500</td>\n",
       "      <td>37.8500</td>\n",
       "      <td>37.8500</td>\n",
       "      <td>37.8500</td>\n",
       "      <td>37.8400</td>\n",
       "      <td>37.84</td>\n",
       "      <td>37.8400</td>\n",
       "      <td>37.8400</td>\n",
       "      <td>...</td>\n",
       "      <td>39.2900</td>\n",
       "      <td>39.3300</td>\n",
       "      <td>39.260</td>\n",
       "      <td>39.1900</td>\n",
       "      <td>39.2700</td>\n",
       "      <td>39.4800</td>\n",
       "      <td>39.4900</td>\n",
       "      <td>39.43</td>\n",
       "      <td>39.4300</td>\n",
       "      <td>39.3700</td>\n",
       "    </tr>\n",
       "    <tr>\n",
       "      <th>longitude</th>\n",
       "      <td>-122.2300</td>\n",
       "      <td>-122.2200</td>\n",
       "      <td>-122.2400</td>\n",
       "      <td>-122.2500</td>\n",
       "      <td>-122.2500</td>\n",
       "      <td>-122.2500</td>\n",
       "      <td>-122.2500</td>\n",
       "      <td>-122.25</td>\n",
       "      <td>-122.2600</td>\n",
       "      <td>-122.2500</td>\n",
       "      <td>...</td>\n",
       "      <td>-121.3200</td>\n",
       "      <td>-121.4000</td>\n",
       "      <td>-121.450</td>\n",
       "      <td>-121.5300</td>\n",
       "      <td>-121.5600</td>\n",
       "      <td>-121.0900</td>\n",
       "      <td>-121.2100</td>\n",
       "      <td>-121.22</td>\n",
       "      <td>-121.3200</td>\n",
       "      <td>-121.2400</td>\n",
       "    </tr>\n",
       "    <tr>\n",
       "      <th>housing_median_age</th>\n",
       "      <td>41.0000</td>\n",
       "      <td>21.0000</td>\n",
       "      <td>52.0000</td>\n",
       "      <td>52.0000</td>\n",
       "      <td>52.0000</td>\n",
       "      <td>52.0000</td>\n",
       "      <td>52.0000</td>\n",
       "      <td>52.00</td>\n",
       "      <td>42.0000</td>\n",
       "      <td>52.0000</td>\n",
       "      <td>...</td>\n",
       "      <td>11.0000</td>\n",
       "      <td>15.0000</td>\n",
       "      <td>15.000</td>\n",
       "      <td>27.0000</td>\n",
       "      <td>28.0000</td>\n",
       "      <td>25.0000</td>\n",
       "      <td>18.0000</td>\n",
       "      <td>17.00</td>\n",
       "      <td>18.0000</td>\n",
       "      <td>16.0000</td>\n",
       "    </tr>\n",
       "    <tr>\n",
       "      <th>total_rooms</th>\n",
       "      <td>880.0000</td>\n",
       "      <td>7099.0000</td>\n",
       "      <td>1467.0000</td>\n",
       "      <td>1274.0000</td>\n",
       "      <td>1627.0000</td>\n",
       "      <td>919.0000</td>\n",
       "      <td>2535.0000</td>\n",
       "      <td>3104.00</td>\n",
       "      <td>2555.0000</td>\n",
       "      <td>3549.0000</td>\n",
       "      <td>...</td>\n",
       "      <td>2640.0000</td>\n",
       "      <td>2655.0000</td>\n",
       "      <td>2319.000</td>\n",
       "      <td>2080.0000</td>\n",
       "      <td>2332.0000</td>\n",
       "      <td>1665.0000</td>\n",
       "      <td>697.0000</td>\n",
       "      <td>2254.00</td>\n",
       "      <td>1860.0000</td>\n",
       "      <td>2785.0000</td>\n",
       "    </tr>\n",
       "    <tr>\n",
       "      <th>total_bedrooms</th>\n",
       "      <td>129.0000</td>\n",
       "      <td>1106.0000</td>\n",
       "      <td>190.0000</td>\n",
       "      <td>235.0000</td>\n",
       "      <td>280.0000</td>\n",
       "      <td>213.0000</td>\n",
       "      <td>489.0000</td>\n",
       "      <td>687.00</td>\n",
       "      <td>665.0000</td>\n",
       "      <td>707.0000</td>\n",
       "      <td>...</td>\n",
       "      <td>505.0000</td>\n",
       "      <td>493.0000</td>\n",
       "      <td>416.000</td>\n",
       "      <td>412.0000</td>\n",
       "      <td>395.0000</td>\n",
       "      <td>374.0000</td>\n",
       "      <td>150.0000</td>\n",
       "      <td>485.00</td>\n",
       "      <td>409.0000</td>\n",
       "      <td>616.0000</td>\n",
       "    </tr>\n",
       "    <tr>\n",
       "      <th>population</th>\n",
       "      <td>322.0000</td>\n",
       "      <td>2401.0000</td>\n",
       "      <td>496.0000</td>\n",
       "      <td>558.0000</td>\n",
       "      <td>565.0000</td>\n",
       "      <td>413.0000</td>\n",
       "      <td>1094.0000</td>\n",
       "      <td>1157.00</td>\n",
       "      <td>1206.0000</td>\n",
       "      <td>1551.0000</td>\n",
       "      <td>...</td>\n",
       "      <td>1257.0000</td>\n",
       "      <td>1200.0000</td>\n",
       "      <td>1047.000</td>\n",
       "      <td>1082.0000</td>\n",
       "      <td>1041.0000</td>\n",
       "      <td>845.0000</td>\n",
       "      <td>356.0000</td>\n",
       "      <td>1007.00</td>\n",
       "      <td>741.0000</td>\n",
       "      <td>1387.0000</td>\n",
       "    </tr>\n",
       "    <tr>\n",
       "      <th>households</th>\n",
       "      <td>126.0000</td>\n",
       "      <td>1138.0000</td>\n",
       "      <td>177.0000</td>\n",
       "      <td>219.0000</td>\n",
       "      <td>259.0000</td>\n",
       "      <td>193.0000</td>\n",
       "      <td>514.0000</td>\n",
       "      <td>647.00</td>\n",
       "      <td>595.0000</td>\n",
       "      <td>714.0000</td>\n",
       "      <td>...</td>\n",
       "      <td>445.0000</td>\n",
       "      <td>432.0000</td>\n",
       "      <td>385.000</td>\n",
       "      <td>382.0000</td>\n",
       "      <td>344.0000</td>\n",
       "      <td>330.0000</td>\n",
       "      <td>114.0000</td>\n",
       "      <td>433.00</td>\n",
       "      <td>349.0000</td>\n",
       "      <td>530.0000</td>\n",
       "    </tr>\n",
       "    <tr>\n",
       "      <th>median_income</th>\n",
       "      <td>8.3252</td>\n",
       "      <td>8.3014</td>\n",
       "      <td>7.2574</td>\n",
       "      <td>5.6431</td>\n",
       "      <td>3.8462</td>\n",
       "      <td>4.0368</td>\n",
       "      <td>3.6591</td>\n",
       "      <td>3.12</td>\n",
       "      <td>2.0804</td>\n",
       "      <td>3.6912</td>\n",
       "      <td>...</td>\n",
       "      <td>3.5673</td>\n",
       "      <td>3.5179</td>\n",
       "      <td>3.125</td>\n",
       "      <td>2.5495</td>\n",
       "      <td>3.7125</td>\n",
       "      <td>1.5603</td>\n",
       "      <td>2.5568</td>\n",
       "      <td>1.70</td>\n",
       "      <td>1.8672</td>\n",
       "      <td>2.3886</td>\n",
       "    </tr>\n",
       "    <tr>\n",
       "      <th>median_house_value</th>\n",
       "      <td>452600.0000</td>\n",
       "      <td>358500.0000</td>\n",
       "      <td>352100.0000</td>\n",
       "      <td>341300.0000</td>\n",
       "      <td>342200.0000</td>\n",
       "      <td>269700.0000</td>\n",
       "      <td>299200.0000</td>\n",
       "      <td>241400.00</td>\n",
       "      <td>226700.0000</td>\n",
       "      <td>261100.0000</td>\n",
       "      <td>...</td>\n",
       "      <td>112000.0000</td>\n",
       "      <td>107200.0000</td>\n",
       "      <td>115600.000</td>\n",
       "      <td>98300.0000</td>\n",
       "      <td>116800.0000</td>\n",
       "      <td>78100.0000</td>\n",
       "      <td>77100.0000</td>\n",
       "      <td>92300.00</td>\n",
       "      <td>84700.0000</td>\n",
       "      <td>89400.0000</td>\n",
       "    </tr>\n",
       "  </tbody>\n",
       "</table>\n",
       "<p>9 rows × 20640 columns</p>\n",
       "</div>"
      ],
      "text/plain": [
       "                          0            1            2            3       \n",
       "latitude                37.8800      37.8600      37.8500      37.8500  \\\n",
       "longitude             -122.2300    -122.2200    -122.2400    -122.2500   \n",
       "housing_median_age      41.0000      21.0000      52.0000      52.0000   \n",
       "total_rooms            880.0000    7099.0000    1467.0000    1274.0000   \n",
       "total_bedrooms         129.0000    1106.0000     190.0000     235.0000   \n",
       "population             322.0000    2401.0000     496.0000     558.0000   \n",
       "households             126.0000    1138.0000     177.0000     219.0000   \n",
       "median_income            8.3252       8.3014       7.2574       5.6431   \n",
       "median_house_value  452600.0000  358500.0000  352100.0000  341300.0000   \n",
       "\n",
       "                          4            5            6          7       \n",
       "latitude                37.8500      37.8500      37.8400      37.84  \\\n",
       "longitude             -122.2500    -122.2500    -122.2500    -122.25   \n",
       "housing_median_age      52.0000      52.0000      52.0000      52.00   \n",
       "total_rooms           1627.0000     919.0000    2535.0000    3104.00   \n",
       "total_bedrooms         280.0000     213.0000     489.0000     687.00   \n",
       "population             565.0000     413.0000    1094.0000    1157.00   \n",
       "households             259.0000     193.0000     514.0000     647.00   \n",
       "median_income            3.8462       4.0368       3.6591       3.12   \n",
       "median_house_value  342200.0000  269700.0000  299200.0000  241400.00   \n",
       "\n",
       "                          8            9      ...        20630        20631   \n",
       "latitude                37.8400      37.8400  ...      39.2900      39.3300  \\\n",
       "longitude             -122.2600    -122.2500  ...    -121.3200    -121.4000   \n",
       "housing_median_age      42.0000      52.0000  ...      11.0000      15.0000   \n",
       "total_rooms           2555.0000    3549.0000  ...    2640.0000    2655.0000   \n",
       "total_bedrooms         665.0000     707.0000  ...     505.0000     493.0000   \n",
       "population            1206.0000    1551.0000  ...    1257.0000    1200.0000   \n",
       "households             595.0000     714.0000  ...     445.0000     432.0000   \n",
       "median_income            2.0804       3.6912  ...       3.5673       3.5179   \n",
       "median_house_value  226700.0000  261100.0000  ...  112000.0000  107200.0000   \n",
       "\n",
       "                         20632       20633        20634       20635   \n",
       "latitude                39.260     39.1900      39.2700     39.4800  \\\n",
       "longitude             -121.450   -121.5300    -121.5600   -121.0900   \n",
       "housing_median_age      15.000     27.0000      28.0000     25.0000   \n",
       "total_rooms           2319.000   2080.0000    2332.0000   1665.0000   \n",
       "total_bedrooms         416.000    412.0000     395.0000    374.0000   \n",
       "population            1047.000   1082.0000    1041.0000    845.0000   \n",
       "households             385.000    382.0000     344.0000    330.0000   \n",
       "median_income            3.125      2.5495       3.7125      1.5603   \n",
       "median_house_value  115600.000  98300.0000  116800.0000  78100.0000   \n",
       "\n",
       "                         20636     20637       20638       20639  \n",
       "latitude               39.4900     39.43     39.4300     39.3700  \n",
       "longitude            -121.2100   -121.22   -121.3200   -121.2400  \n",
       "housing_median_age     18.0000     17.00     18.0000     16.0000  \n",
       "total_rooms           697.0000   2254.00   1860.0000   2785.0000  \n",
       "total_bedrooms        150.0000    485.00    409.0000    616.0000  \n",
       "population            356.0000   1007.00    741.0000   1387.0000  \n",
       "households            114.0000    433.00    349.0000    530.0000  \n",
       "median_income           2.5568      1.70      1.8672      2.3886  \n",
       "median_house_value  77100.0000  92300.00  84700.0000  89400.0000  \n",
       "\n",
       "[9 rows x 20640 columns]"
      ]
     },
     "execution_count": 252,
     "metadata": {},
     "output_type": "execute_result"
    }
   ],
   "source": [
    "df.T"
   ]
  },
  {
   "cell_type": "code",
   "execution_count": 253,
   "id": "2bb67b47-c710-40ab-9939-cc98bfd3a997",
   "metadata": {
    "tags": []
   },
   "outputs": [],
   "source": [
    "#DAta is already clean so let's do some EDA"
   ]
  },
  {
   "cell_type": "code",
   "execution_count": 254,
   "id": "149c8ec1-205a-4c7d-a1ee-de954793217e",
   "metadata": {
    "tags": []
   },
   "outputs": [],
   "source": [
    "import matplotlib as plt \n",
    "import seaborn as sns "
   ]
  },
  {
   "cell_type": "code",
   "execution_count": 255,
   "id": "059eeb96-02d0-4557-a18a-7252b6872051",
   "metadata": {
    "tags": []
   },
   "outputs": [
    {
     "data": {
      "text/plain": [
       "<Axes: xlabel='median_house_value', ylabel='Count'>"
      ]
     },
     "execution_count": 255,
     "metadata": {},
     "output_type": "execute_result"
    },
    {
     "data": {
      "image/png": "[encoded data removed]",
      "text/plain": [
       "<Figure size 640x480 with 1 Axes>"
      ]
     },
     "metadata": {},
     "output_type": "display_data"
    }
   ],
   "source": [
    "sns.histplot(df.median_house_value)"
   ]
  },
  {
   "cell_type": "code",
   "execution_count": 256,
   "id": "e9ce06f7-e7f7-4b07-9c89-05004bb669ae",
   "metadata": {
    "tags": []
   },
   "outputs": [
    {
     "data": {
      "text/plain": [
       "latitude                0\n",
       "longitude               0\n",
       "housing_median_age      0\n",
       "total_rooms             0\n",
       "total_bedrooms        207\n",
       "population              0\n",
       "households              0\n",
       "median_income           0\n",
       "median_house_value      0\n",
       "dtype: int64"
      ]
     },
     "execution_count": 256,
     "metadata": {},
     "output_type": "execute_result"
    }
   ],
   "source": [
    "df.isnull().sum()"
   ]
  },
  {
   "cell_type": "code",
   "execution_count": 257,
   "id": "10ac4f28-f056-4735-b55b-39602cfec8bc",
   "metadata": {
    "tags": []
   },
   "outputs": [],
   "source": [
    "# Find a feature with missing values. How many missing values does it have?\n",
    "# 207 "
   ]
  },
  {
   "cell_type": "code",
   "execution_count": 258,
   "id": "8c644fa6-a53e-4ae8-b193-dc8a47c5869b",
   "metadata": {
    "tags": []
   },
   "outputs": [
    {
     "data": {
      "text/plain": [
       "1166.0"
      ]
     },
     "execution_count": 258,
     "metadata": {},
     "output_type": "execute_result"
    }
   ],
   "source": [
    "df.population.median()"
   ]
  },
  {
   "cell_type": "code",
   "execution_count": 259,
   "id": "ba7494e8-1980-4af3-b3b3-a72444b08624",
   "metadata": {
    "tags": []
   },
   "outputs": [
    {
     "data": {
      "text/plain": [
       "count    20640.000000\n",
       "mean      1425.476744\n",
       "std       1132.462122\n",
       "min          3.000000\n",
       "25%        787.000000\n",
       "50%       1166.000000\n",
       "75%       1725.000000\n",
       "max      35682.000000\n",
       "Name: population, dtype: float64"
      ]
     },
     "execution_count": 259,
     "metadata": {},
     "output_type": "execute_result"
    }
   ],
   "source": [
    "df.population.describe()"
   ]
  },
  {
   "cell_type": "code",
   "execution_count": 260,
   "id": "d0462708-d304-482d-8cde-bec9a97ff344",
   "metadata": {
    "tags": []
   },
   "outputs": [],
   "source": [
    "# What's the median (50% percentile) for variable 'population'?\n",
    "# 1166.0"
   ]
  },
  {
   "cell_type": "code",
   "execution_count": 261,
   "id": "a98c1aa7-3198-4fc3-bd70-7eef4580c776",
   "metadata": {
    "tags": []
   },
   "outputs": [],
   "source": [
    "# Setting up framework \n",
    "np.random.seed(42)\n",
    "n = len(df)\n",
    "n_val =  int( 0.2 * n)\n",
    "n_test =  int(0.2 * n )\n",
    "n_train = n - n_val - n_test"
   ]
  },
  {
   "cell_type": "code",
   "execution_count": 262,
   "id": "3985a582-c1ec-4803-8e9f-e37b39a9ba0a",
   "metadata": {
    "tags": []
   },
   "outputs": [
    {
     "data": {
      "text/plain": [
       "(20640, 4128, 4128, 12384)"
      ]
     },
     "execution_count": 262,
     "metadata": {},
     "output_type": "execute_result"
    }
   ],
   "source": [
    "n,n_val,n_test,n_train"
   ]
  },
  {
   "cell_type": "code",
   "execution_count": 263,
   "id": "62de32fc-9eb8-47c3-a29c-71c22a166c44",
   "metadata": {
    "tags": []
   },
   "outputs": [],
   "source": [
    "idx = np.arange(n)"
   ]
  },
  {
   "cell_type": "code",
   "execution_count": 264,
   "id": "31b60909-990c-4520-b4de-7b1b49d08644",
   "metadata": {
    "tags": []
   },
   "outputs": [],
   "source": [
    "np.random.shuffle(idx)"
   ]
  },
  {
   "cell_type": "code",
   "execution_count": 265,
   "id": "0068ab7b-196c-49c1-a834-c39b2f30f432",
   "metadata": {
    "tags": []
   },
   "outputs": [],
   "source": [
    "df_shuffled = df.iloc[idx]"
   ]
  },
  {
   "cell_type": "code",
   "execution_count": 266,
   "id": "45f303b0-9537-4012-97db-b2ddce2445ba",
   "metadata": {
    "tags": []
   },
   "outputs": [],
   "source": [
    "df_train = df_shuffled.iloc[:n_train]\n",
    "df_val = df_shuffled.iloc[n_train: n_train + n_val ] \n",
    "df_test = df_shuffled.iloc[n_train+n_val:]\n",
    "\n",
    "df_train = df_train.reset_index(drop=True)\n",
    "df_val = df_val.reset_index(drop=True)\n",
    "df_test = df_test.reset_index(drop=True)"
   ]
  },
  {
   "cell_type": "code",
   "execution_count": 267,
   "id": "f654dac4-c73a-4f81-bef5-4ecdb9200722",
   "metadata": {
    "tags": []
   },
   "outputs": [],
   "source": [
    "y_train_orig = df_train.median_house_value.values\n",
    "y_val_orig = df_val.median_house_value.values\n",
    "y_test_orig = df_test.median_house_value.values"
   ]
  },
  {
   "cell_type": "code",
   "execution_count": 268,
   "id": "cee76eeb-4183-4ab5-8701-d3b77abd3729",
   "metadata": {
    "tags": []
   },
   "outputs": [],
   "source": [
    "y_train = np.log1p(y_train_orig)\n",
    "y_val = np.log1p(y_val_orig)\n",
    "y_test = np.log1p(y_test_orig)"
   ]
  },
  {
   "cell_type": "code",
   "execution_count": 269,
   "id": "869ef586-44aa-4e3e-b9c0-e62728aa1321",
   "metadata": {
    "tags": []
   },
   "outputs": [],
   "source": [
    "del df_test['median_house_value']\n",
    "del df_train['median_house_value']\n",
    "del df_val['median_house_value']"
   ]
  },
  {
   "cell_type": "code",
   "execution_count": 270,
   "id": "88d6959b-536a-4b7b-9978-aa8a0c7720af",
   "metadata": {
    "tags": []
   },
   "outputs": [],
   "source": [
    "#simple linear regression \n",
    "\n",
    "def train_linear_regression(X,y):\n",
    "    ones = np.ones(X.shape[0])\n",
    "    X = np.column_stack([ones, X])\n",
    "    XTX = X.T.dot(X)\n",
    "    XTX_inv = np.linalg.inv(XTX)\n",
    "    w = XTX_inv.dot(X.T).dot(y)\n",
    "    \n",
    "    return w[0], w[1:]"
   ]
  },
  {
   "cell_type": "code",
   "execution_count": 271,
   "id": "a1eb6575-9995-451a-9b32-f3db6857b7b0",
   "metadata": {
    "tags": []
   },
   "outputs": [],
   "source": [
    "# preparing the dataset \n",
    "\n",
    "check=[\"longitude\", \"latitude\", \"housing_median_age\", \"total_rooms\", \"total_bedrooms\", \n",
    "       \"population\", \"households\", \"median_income\"]\n",
    "\n",
    "def prepare_X(df, fillna_values):\n",
    "    df_num = df[check]\n",
    "    df_num = df.fillna(fillna_values)\n",
    "    X = df_num.values\n",
    "    return X"
   ]
  },
  {
   "cell_type": "code",
   "execution_count": 272,
   "id": "7fa95d89-85d5-48d2-a8c3-274a8681b4c4",
   "metadata": {
    "tags": []
   },
   "outputs": [],
   "source": [
    "#@ FUNCTION FOR RMSE VALUES:\n",
    "\n",
    "def rmse(y_pred, y_val):\n",
    "    e = y_pred - y_val\n",
    "    se = e ** 2 \n",
    "    mse = se.mean()\n",
    "    rmse = np.sqrt(mse)\n",
    "    return rmse"
   ]
  },
  {
   "cell_type": "code",
   "execution_count": 273,
   "id": "965ddf3a-66d9-4c30-9237-068975a78c13",
   "metadata": {
    "tags": []
   },
   "outputs": [
    {
     "data": {
      "text/plain": [
       "0.33"
      ]
     },
     "execution_count": 273,
     "metadata": {},
     "output_type": "execute_result"
    }
   ],
   "source": [
    "X = prepare_X(df_train, 0)\n",
    "w0, w = train_linear_regression(X, y_train)\n",
    "\n",
    "X = prepare_X(df_val,0)\n",
    "y_pred = w0 + X.dot(w)\n",
    "\n",
    "rmse(y_pred, y_val).round(2)"
   ]
  },
  {
   "cell_type": "code",
   "execution_count": 274,
   "id": "ef05f9e6-9c16-4805-bcfc-6e8d90aabe76",
   "metadata": {
    "tags": []
   },
   "outputs": [
    {
     "data": {
      "text/plain": [
       "0.33"
      ]
     },
     "execution_count": 274,
     "metadata": {},
     "output_type": "execute_result"
    }
   ],
   "source": [
    "mean = df_train.total_bedrooms.mean()\n",
    "\n",
    "X = prepare_X(df_train, mean)\n",
    "w0, w = train_linear_regression(X, y_train)\n",
    "\n",
    "X = prepare_X(df_val, mean)\n",
    "y_pred = w0 + X.dot(w)\n",
    "\n",
    "rmse(y_pred, y_val).round(2)"
   ]
  },
  {
   "cell_type": "code",
   "execution_count": 275,
   "id": "0a90f937-4c3e-4201-b2d0-92ede20bab0a",
   "metadata": {},
   "outputs": [],
   "source": [
    "# Q3 : So both are same "
   ]
  },
  {
   "cell_type": "code",
   "execution_count": 276,
   "id": "4c47ea99-1b8f-496c-86c6-749eed5d2cff",
   "metadata": {
    "tags": []
   },
   "outputs": [],
   "source": [
    "#simple linear regression \n",
    "\n",
    "def train_linear_regression_r(X,y,r=0.1):\n",
    "    ones = np.ones(X.shape[0])\n",
    "    X = np.column_stack([ones, X])\n",
    "    XTX = X.T.dot(X)\n",
    "    XTX = XTX  + np.eye(XTX.shape[0]) * r \n",
    "    XTX_inv = np.linalg.inv(XTX)\n",
    "    w = XTX_inv.dot(X.T).dot(y)\n",
    "    \n",
    "    return w[0], w[1:]"
   ]
  },
  {
   "cell_type": "code",
   "execution_count": 277,
   "id": "9bc98ed1-c0e8-48d9-81bc-449b0391a2dd",
   "metadata": {
    "tags": []
   },
   "outputs": [
    {
     "name": "stdout",
     "output_type": "stream",
     "text": [
      "r:: 0, 0.33\n",
      "r:: 1e-06, 0.33\n",
      "r:: 0.0001, 0.33\n",
      "r:: 0.001, 0.33\n",
      "r:: 0.01, 0.33\n",
      "r:: 0.1, 0.33\n",
      "r:: 1, 0.33\n",
      "r:: 5, 0.34\n",
      "r:: 10, 0.34\n"
     ]
    }
   ],
   "source": [
    "for r in [0, 0.000001, 0.0001, 0.001, 0.01, 0.1, 1, 5, 10]:\n",
    "    X = prepare_X(df_train, 0)\n",
    "    w0, w = train_linear_regression_r(X, y_train, r)\n",
    "\n",
    "    X = prepare_X(df_val,0)\n",
    "    y_pred = w0 + X.dot(w)\n",
    "\n",
    "    print(f\"r:: {r}, {rmse(y_pred, y_val).round(2)}\")\n",
    "    "
   ]
  },
  {
   "cell_type": "code",
   "execution_count": 278,
   "id": "31e4ad2d-6ce9-4a44-b66c-0ae1b5fe6af1",
   "metadata": {
    "tags": []
   },
   "outputs": [],
   "source": [
    "# //Question 4 r = 0 "
   ]
  },
  {
   "cell_type": "code",
   "execution_count": 285,
   "id": "e9755faa-3bc7-4bf8-bdf1-e50ccbbccc6b",
   "metadata": {
    "tags": []
   },
   "outputs": [
    {
     "name": "stdout",
     "output_type": "stream",
     "text": [
      "seed:: 0, rmse:: 0.34\n",
      "seed:: 1, rmse:: 0.34\n",
      "seed:: 2, rmse:: 0.33\n",
      "seed:: 3, rmse:: 0.34\n",
      "seed:: 4, rmse:: 0.34\n",
      "seed:: 5, rmse:: 0.34\n",
      "seed:: 6, rmse:: 0.35\n",
      "seed:: 7, rmse:: 0.34\n",
      "seed:: 8, rmse:: 0.35\n",
      "seed:: 9, rmse:: 0.34\n"
     ]
    }
   ],
   "source": [
    "rmse_res = []\n",
    "for seed in [0, 1, 2, 3, 4, 5, 6, 7, 8, 9]:\n",
    "    np.random.seed(seed)\n",
    "    idx = np.arange(n)\n",
    "    np.random.shuffle(idx)\n",
    "    \n",
    "    df_shuffled = df.iloc[idx]\n",
    "    \n",
    "    df_train = df_shuffled.iloc[:n_train]\n",
    "    df_val = df_shuffled.iloc[n_train: n_train + n_val ] \n",
    "    df_test = df_shuffled.iloc[n_train+n_val:]\n",
    "\n",
    "    df_train = df_train.reset_index(drop=True)\n",
    "    df_val = df_val.reset_index(drop=True)\n",
    "    df_test = df_test.reset_index(drop=True)\n",
    "    \n",
    "    y_train_orig = df_train.median_house_value\n",
    "    y_val_orig = df_val.median_house_value\n",
    "    y_test_orig = df_test.median_house_value\n",
    "    \n",
    "    y_train = np.log1p(y_train_orig)\n",
    "    y_val = np.log1p(y_val_orig)\n",
    "    y_test = np.log1p(y_test_orig)\n",
    "    \n",
    "    del df_test['median_house_value']\n",
    "    del df_train['median_house_value']\n",
    "    del df_val['median_house_value']\n",
    "    \n",
    "    \n",
    "    X = prepare_X(df_train, 0)\n",
    "    w0, w = train_linear_regression(X, y_train)\n",
    "\n",
    "    X = prepare_X(df_val,0)\n",
    "    y_pred = w0 + X.dot(w)\n",
    "\n",
    "    res = rmse(y_pred, y_val).round(2)\n",
    "    rmse_res.append(res)\n",
    "    print(f\"seed:: {seed}, rmse:: {res}\")"
   ]
  },
  {
   "cell_type": "code",
   "execution_count": 286,
   "id": "ec61d50a-2316-439d-aa34-c8763b816790",
   "metadata": {
    "tags": []
   },
   "outputs": [
    {
     "data": {
      "text/plain": [
       "0.005385164807134491"
      ]
     },
     "execution_count": 286,
     "metadata": {},
     "output_type": "execute_result"
    }
   ],
   "source": [
    "np.std(rmse_res)"
   ]
  },
  {
   "cell_type": "code",
   "execution_count": 281,
   "id": "c1632597-b34b-4093-b014-f932694d0a13",
   "metadata": {
    "tags": []
   },
   "outputs": [],
   "source": [
    "\n",
    "#@ INITIALIZING SEED AND REGULARIZATION:\n",
    "r = 9\n",
    "\n",
    "idx = np.arange(n)\n",
    "np.random.seed(r)\n",
    "np.random.shuffle(idx)\n",
    "\n",
    "df_shuffled = df.iloc[idx]\n",
    "    \n",
    "df_train = df_shuffled.iloc[:n_train].copy()\n",
    "df_val = df_shuffled.iloc[n_train:n_train+n_val].copy()\n",
    "df_test = df_shuffled.iloc[n_train+n_val:].copy()\n",
    "\n",
    "frames = [df_train, df_val]\n",
    "df_train_val = pd.concat(frames)\n",
    "\n",
    "df_train_val = df_train_val.reset_index(drop=True)\n",
    "df_test = df_test.reset_index(drop=True)\n",
    "\n",
    "y_train_val_orig = df_train_val.median_house_value.values\n",
    "y_test_orig = df_test.median_house_value.values\n",
    "\n",
    "y_train_val = np.log1p(y_train_val_orig)\n",
    "y_test = np.log1p(y_test_orig)\n",
    "\n",
    "del df_train_val['median_house_value']\n",
    "del df_test['median_house_value']"
   ]
  },
  {
   "cell_type": "code",
   "execution_count": 282,
   "id": "521b625c-0eca-4bfa-9183-fd4f1f60ff01",
   "metadata": {
    "tags": []
   },
   "outputs": [
    {
     "data": {
      "text/plain": [
       "0.35"
      ]
     },
     "execution_count": 282,
     "metadata": {},
     "output_type": "execute_result"
    }
   ],
   "source": [
    "\n",
    "#@ INSPECTING RMSE:\n",
    "X_null_train_val = prepare_X(df_train_val, 0)\n",
    "w_0_train_val, w_train_val = train_linear_regression_r(X_null_train_val, y_train_val, r=0.001)\n",
    "\n",
    "X_null_test = prepare_X(df_test, 0)\n",
    "y_null_pred_test = w_0_train_val + X_null_test.dot(w_train_val)\n",
    "\n",
    "np.round(rmse(y_test, y_null_pred_test),2)"
   ]
  }
 ],
 "metadata": {
  "kernelspec": {
   "display_name": "Python 3 (ipykernel)",
   "language": "python",
   "name": "python3"
  },
  "language_info": {
   "codemirror_mode": {
    "name": "ipython",
    "version": 3
   },
   "file_extension": ".py",
   "mimetype": "text/x-python",
   "name": "python",
   "nbconvert_exporter": "python",
   "pygments_lexer": "ipython3",
   "version": "3.9.16"
  }
 },
 "nbformat": 4,
 "nbformat_minor": 5
}
