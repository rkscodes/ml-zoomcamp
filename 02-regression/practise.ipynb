{
 "cells": [
  {
   "cell_type": "code",
   "execution_count": 205,
   "id": "ceab1acc-8f27-4622-a8a0-82974737cd3e",
   "metadata": {
    "tags": []
   },
   "outputs": [],
   "source": [
    "import pandas as pd\n",
    "import numpy as np \n",
    "import matplotlib as plt\n",
    "import seaborn as sb \n",
    "%matplotlib inline"
   ]
  },
  {
   "cell_type": "markdown",
   "id": "e5eda89b-c689-4d5a-8062-28ff9f415dee",
   "metadata": {},
   "source": [
    "## 01-Cleaning the Data"
   ]
  },
  {
   "cell_type": "code",
   "execution_count": 206,
   "id": "d339a615-c227-465f-9046-4b9f81dfee9f",
   "metadata": {
    "tags": []
   },
   "outputs": [],
   "source": [
    "df = pd.read_csv('data.csv')"
   ]
  },
  {
   "cell_type": "code",
   "execution_count": 207,
   "id": "6a2e4dd9-83f5-4648-9d73-d7a673861a14",
   "metadata": {
    "tags": []
   },
   "outputs": [
    {
     "data": {
      "text/html": [
       "<div>\n",
       "<style scoped>\n",
       "    .dataframe tbody tr th:only-of-type {\n",
       "        vertical-align: middle;\n",
       "    }\n",
       "\n",
       "    .dataframe tbody tr th {\n",
       "        vertical-align: top;\n",
       "    }\n",
       "\n",
       "    .dataframe thead th {\n",
       "        text-align: right;\n",
       "    }\n",
       "</style>\n",
       "<table border=\"1\" class=\"dataframe\">\n",
       "  <thead>\n",
       "    <tr style=\"text-align: right;\">\n",
       "      <th></th>\n",
       "      <th>Make</th>\n",
       "      <th>Model</th>\n",
       "      <th>Year</th>\n",
       "      <th>Engine Fuel Type</th>\n",
       "      <th>Engine HP</th>\n",
       "      <th>Engine Cylinders</th>\n",
       "      <th>Transmission Type</th>\n",
       "      <th>Driven_Wheels</th>\n",
       "      <th>Number of Doors</th>\n",
       "      <th>Market Category</th>\n",
       "      <th>Vehicle Size</th>\n",
       "      <th>Vehicle Style</th>\n",
       "      <th>highway MPG</th>\n",
       "      <th>city mpg</th>\n",
       "      <th>Popularity</th>\n",
       "      <th>MSRP</th>\n",
       "    </tr>\n",
       "  </thead>\n",
       "  <tbody>\n",
       "    <tr>\n",
       "      <th>0</th>\n",
       "      <td>BMW</td>\n",
       "      <td>1 Series M</td>\n",
       "      <td>2011</td>\n",
       "      <td>premium unleaded (required)</td>\n",
       "      <td>335.0</td>\n",
       "      <td>6.0</td>\n",
       "      <td>MANUAL</td>\n",
       "      <td>rear wheel drive</td>\n",
       "      <td>2.0</td>\n",
       "      <td>Factory Tuner,Luxury,High-Performance</td>\n",
       "      <td>Compact</td>\n",
       "      <td>Coupe</td>\n",
       "      <td>26</td>\n",
       "      <td>19</td>\n",
       "      <td>3916</td>\n",
       "      <td>46135</td>\n",
       "    </tr>\n",
       "    <tr>\n",
       "      <th>1</th>\n",
       "      <td>BMW</td>\n",
       "      <td>1 Series</td>\n",
       "      <td>2011</td>\n",
       "      <td>premium unleaded (required)</td>\n",
       "      <td>300.0</td>\n",
       "      <td>6.0</td>\n",
       "      <td>MANUAL</td>\n",
       "      <td>rear wheel drive</td>\n",
       "      <td>2.0</td>\n",
       "      <td>Luxury,Performance</td>\n",
       "      <td>Compact</td>\n",
       "      <td>Convertible</td>\n",
       "      <td>28</td>\n",
       "      <td>19</td>\n",
       "      <td>3916</td>\n",
       "      <td>40650</td>\n",
       "    </tr>\n",
       "    <tr>\n",
       "      <th>2</th>\n",
       "      <td>BMW</td>\n",
       "      <td>1 Series</td>\n",
       "      <td>2011</td>\n",
       "      <td>premium unleaded (required)</td>\n",
       "      <td>300.0</td>\n",
       "      <td>6.0</td>\n",
       "      <td>MANUAL</td>\n",
       "      <td>rear wheel drive</td>\n",
       "      <td>2.0</td>\n",
       "      <td>Luxury,High-Performance</td>\n",
       "      <td>Compact</td>\n",
       "      <td>Coupe</td>\n",
       "      <td>28</td>\n",
       "      <td>20</td>\n",
       "      <td>3916</td>\n",
       "      <td>36350</td>\n",
       "    </tr>\n",
       "    <tr>\n",
       "      <th>3</th>\n",
       "      <td>BMW</td>\n",
       "      <td>1 Series</td>\n",
       "      <td>2011</td>\n",
       "      <td>premium unleaded (required)</td>\n",
       "      <td>230.0</td>\n",
       "      <td>6.0</td>\n",
       "      <td>MANUAL</td>\n",
       "      <td>rear wheel drive</td>\n",
       "      <td>2.0</td>\n",
       "      <td>Luxury,Performance</td>\n",
       "      <td>Compact</td>\n",
       "      <td>Coupe</td>\n",
       "      <td>28</td>\n",
       "      <td>18</td>\n",
       "      <td>3916</td>\n",
       "      <td>29450</td>\n",
       "    </tr>\n",
       "    <tr>\n",
       "      <th>4</th>\n",
       "      <td>BMW</td>\n",
       "      <td>1 Series</td>\n",
       "      <td>2011</td>\n",
       "      <td>premium unleaded (required)</td>\n",
       "      <td>230.0</td>\n",
       "      <td>6.0</td>\n",
       "      <td>MANUAL</td>\n",
       "      <td>rear wheel drive</td>\n",
       "      <td>2.0</td>\n",
       "      <td>Luxury</td>\n",
       "      <td>Compact</td>\n",
       "      <td>Convertible</td>\n",
       "      <td>28</td>\n",
       "      <td>18</td>\n",
       "      <td>3916</td>\n",
       "      <td>34500</td>\n",
       "    </tr>\n",
       "    <tr>\n",
       "      <th>...</th>\n",
       "      <td>...</td>\n",
       "      <td>...</td>\n",
       "      <td>...</td>\n",
       "      <td>...</td>\n",
       "      <td>...</td>\n",
       "      <td>...</td>\n",
       "      <td>...</td>\n",
       "      <td>...</td>\n",
       "      <td>...</td>\n",
       "      <td>...</td>\n",
       "      <td>...</td>\n",
       "      <td>...</td>\n",
       "      <td>...</td>\n",
       "      <td>...</td>\n",
       "      <td>...</td>\n",
       "      <td>...</td>\n",
       "    </tr>\n",
       "    <tr>\n",
       "      <th>11909</th>\n",
       "      <td>Acura</td>\n",
       "      <td>ZDX</td>\n",
       "      <td>2012</td>\n",
       "      <td>premium unleaded (required)</td>\n",
       "      <td>300.0</td>\n",
       "      <td>6.0</td>\n",
       "      <td>AUTOMATIC</td>\n",
       "      <td>all wheel drive</td>\n",
       "      <td>4.0</td>\n",
       "      <td>Crossover,Hatchback,Luxury</td>\n",
       "      <td>Midsize</td>\n",
       "      <td>4dr Hatchback</td>\n",
       "      <td>23</td>\n",
       "      <td>16</td>\n",
       "      <td>204</td>\n",
       "      <td>46120</td>\n",
       "    </tr>\n",
       "    <tr>\n",
       "      <th>11910</th>\n",
       "      <td>Acura</td>\n",
       "      <td>ZDX</td>\n",
       "      <td>2012</td>\n",
       "      <td>premium unleaded (required)</td>\n",
       "      <td>300.0</td>\n",
       "      <td>6.0</td>\n",
       "      <td>AUTOMATIC</td>\n",
       "      <td>all wheel drive</td>\n",
       "      <td>4.0</td>\n",
       "      <td>Crossover,Hatchback,Luxury</td>\n",
       "      <td>Midsize</td>\n",
       "      <td>4dr Hatchback</td>\n",
       "      <td>23</td>\n",
       "      <td>16</td>\n",
       "      <td>204</td>\n",
       "      <td>56670</td>\n",
       "    </tr>\n",
       "    <tr>\n",
       "      <th>11911</th>\n",
       "      <td>Acura</td>\n",
       "      <td>ZDX</td>\n",
       "      <td>2012</td>\n",
       "      <td>premium unleaded (required)</td>\n",
       "      <td>300.0</td>\n",
       "      <td>6.0</td>\n",
       "      <td>AUTOMATIC</td>\n",
       "      <td>all wheel drive</td>\n",
       "      <td>4.0</td>\n",
       "      <td>Crossover,Hatchback,Luxury</td>\n",
       "      <td>Midsize</td>\n",
       "      <td>4dr Hatchback</td>\n",
       "      <td>23</td>\n",
       "      <td>16</td>\n",
       "      <td>204</td>\n",
       "      <td>50620</td>\n",
       "    </tr>\n",
       "    <tr>\n",
       "      <th>11912</th>\n",
       "      <td>Acura</td>\n",
       "      <td>ZDX</td>\n",
       "      <td>2013</td>\n",
       "      <td>premium unleaded (recommended)</td>\n",
       "      <td>300.0</td>\n",
       "      <td>6.0</td>\n",
       "      <td>AUTOMATIC</td>\n",
       "      <td>all wheel drive</td>\n",
       "      <td>4.0</td>\n",
       "      <td>Crossover,Hatchback,Luxury</td>\n",
       "      <td>Midsize</td>\n",
       "      <td>4dr Hatchback</td>\n",
       "      <td>23</td>\n",
       "      <td>16</td>\n",
       "      <td>204</td>\n",
       "      <td>50920</td>\n",
       "    </tr>\n",
       "    <tr>\n",
       "      <th>11913</th>\n",
       "      <td>Lincoln</td>\n",
       "      <td>Zephyr</td>\n",
       "      <td>2006</td>\n",
       "      <td>regular unleaded</td>\n",
       "      <td>221.0</td>\n",
       "      <td>6.0</td>\n",
       "      <td>AUTOMATIC</td>\n",
       "      <td>front wheel drive</td>\n",
       "      <td>4.0</td>\n",
       "      <td>Luxury</td>\n",
       "      <td>Midsize</td>\n",
       "      <td>Sedan</td>\n",
       "      <td>26</td>\n",
       "      <td>17</td>\n",
       "      <td>61</td>\n",
       "      <td>28995</td>\n",
       "    </tr>\n",
       "  </tbody>\n",
       "</table>\n",
       "<p>11914 rows × 16 columns</p>\n",
       "</div>"
      ],
      "text/plain": [
       "          Make       Model  Year                Engine Fuel Type  Engine HP   \n",
       "0          BMW  1 Series M  2011     premium unleaded (required)      335.0  \\\n",
       "1          BMW    1 Series  2011     premium unleaded (required)      300.0   \n",
       "2          BMW    1 Series  2011     premium unleaded (required)      300.0   \n",
       "3          BMW    1 Series  2011     premium unleaded (required)      230.0   \n",
       "4          BMW    1 Series  2011     premium unleaded (required)      230.0   \n",
       "...        ...         ...   ...                             ...        ...   \n",
       "11909    Acura         ZDX  2012     premium unleaded (required)      300.0   \n",
       "11910    Acura         ZDX  2012     premium unleaded (required)      300.0   \n",
       "11911    Acura         ZDX  2012     premium unleaded (required)      300.0   \n",
       "11912    Acura         ZDX  2013  premium unleaded (recommended)      300.0   \n",
       "11913  Lincoln      Zephyr  2006                regular unleaded      221.0   \n",
       "\n",
       "       Engine Cylinders Transmission Type      Driven_Wheels  Number of Doors   \n",
       "0                   6.0            MANUAL   rear wheel drive              2.0  \\\n",
       "1                   6.0            MANUAL   rear wheel drive              2.0   \n",
       "2                   6.0            MANUAL   rear wheel drive              2.0   \n",
       "3                   6.0            MANUAL   rear wheel drive              2.0   \n",
       "4                   6.0            MANUAL   rear wheel drive              2.0   \n",
       "...                 ...               ...                ...              ...   \n",
       "11909               6.0         AUTOMATIC    all wheel drive              4.0   \n",
       "11910               6.0         AUTOMATIC    all wheel drive              4.0   \n",
       "11911               6.0         AUTOMATIC    all wheel drive              4.0   \n",
       "11912               6.0         AUTOMATIC    all wheel drive              4.0   \n",
       "11913               6.0         AUTOMATIC  front wheel drive              4.0   \n",
       "\n",
       "                             Market Category Vehicle Size  Vehicle Style   \n",
       "0      Factory Tuner,Luxury,High-Performance      Compact          Coupe  \\\n",
       "1                         Luxury,Performance      Compact    Convertible   \n",
       "2                    Luxury,High-Performance      Compact          Coupe   \n",
       "3                         Luxury,Performance      Compact          Coupe   \n",
       "4                                     Luxury      Compact    Convertible   \n",
       "...                                      ...          ...            ...   \n",
       "11909             Crossover,Hatchback,Luxury      Midsize  4dr Hatchback   \n",
       "11910             Crossover,Hatchback,Luxury      Midsize  4dr Hatchback   \n",
       "11911             Crossover,Hatchback,Luxury      Midsize  4dr Hatchback   \n",
       "11912             Crossover,Hatchback,Luxury      Midsize  4dr Hatchback   \n",
       "11913                                 Luxury      Midsize          Sedan   \n",
       "\n",
       "       highway MPG  city mpg  Popularity   MSRP  \n",
       "0               26        19        3916  46135  \n",
       "1               28        19        3916  40650  \n",
       "2               28        20        3916  36350  \n",
       "3               28        18        3916  29450  \n",
       "4               28        18        3916  34500  \n",
       "...            ...       ...         ...    ...  \n",
       "11909           23        16         204  46120  \n",
       "11910           23        16         204  56670  \n",
       "11911           23        16         204  50620  \n",
       "11912           23        16         204  50920  \n",
       "11913           26        17          61  28995  \n",
       "\n",
       "[11914 rows x 16 columns]"
      ]
     },
     "execution_count": 207,
     "metadata": {},
     "output_type": "execute_result"
    }
   ],
   "source": [
    "df"
   ]
  },
  {
   "cell_type": "code",
   "execution_count": 208,
   "id": "58516e2d-70e5-4434-bd44-31c04588bc89",
   "metadata": {
    "tags": []
   },
   "outputs": [],
   "source": [
    "df.columns = df.columns.str.replace(' ', '_').str.lower()"
   ]
  },
  {
   "cell_type": "code",
   "execution_count": 209,
   "id": "c88a90c0-09f8-4d9e-ba11-bd97e32da1a8",
   "metadata": {
    "tags": []
   },
   "outputs": [
    {
     "data": {
      "text/plain": [
       "Index(['make', 'model', 'year', 'engine_fuel_type', 'engine_hp',\n",
       "       'engine_cylinders', 'transmission_type', 'driven_wheels',\n",
       "       'number_of_doors', 'market_category', 'vehicle_size', 'vehicle_style',\n",
       "       'highway_mpg', 'city_mpg', 'popularity', 'msrp'],\n",
       "      dtype='object')"
      ]
     },
     "execution_count": 209,
     "metadata": {},
     "output_type": "execute_result"
    }
   ],
   "source": [
    "df.columns"
   ]
  },
  {
   "cell_type": "code",
   "execution_count": 210,
   "id": "ddcb78cb-ba55-46fe-a043-b3e73102cc7c",
   "metadata": {
    "tags": []
   },
   "outputs": [
    {
     "data": {
      "text/plain": [
       "['make',\n",
       " 'model',\n",
       " 'engine_fuel_type',\n",
       " 'transmission_type',\n",
       " 'driven_wheels',\n",
       " 'market_category',\n",
       " 'vehicle_size',\n",
       " 'vehicle_style']"
      ]
     },
     "execution_count": 210,
     "metadata": {},
     "output_type": "execute_result"
    }
   ],
   "source": [
    "str_columns = list(df.dtypes[df.dtypes == 'object'].index)\n",
    "str_columns"
   ]
  },
  {
   "cell_type": "code",
   "execution_count": 211,
   "id": "b9376868-32e3-4843-a51e-b7afe706c869",
   "metadata": {
    "tags": []
   },
   "outputs": [],
   "source": [
    "for col in str_columns: \n",
    "    df[col] = df[col].str.replace(' ', '_').str.lower()"
   ]
  },
  {
   "cell_type": "markdown",
   "id": "35bcbfbd-0137-4091-8c91-26f80df87457",
   "metadata": {
    "tags": []
   },
   "source": [
    "## 02-Exploratory Analysis"
   ]
  },
  {
   "cell_type": "code",
   "execution_count": 212,
   "id": "29fd7486-7b5b-4826-9e47-a2a18d320e2c",
   "metadata": {
    "tags": []
   },
   "outputs": [
    {
     "name": "stdout",
     "output_type": "stream",
     "text": [
      "make\n",
      "['bmw' 'audi' 'fiat' 'mercedes-benz' 'chrysler']\n",
      "48\n",
      "\n",
      "model\n",
      "['1_series_m' '1_series' '100' '124_spider' '190-class']\n",
      "914\n",
      "\n",
      "year\n",
      "[2011 2012 2013 1992 1993]\n",
      "28\n",
      "\n",
      "engine_fuel_type\n",
      "['premium_unleaded_(required)' 'regular_unleaded'\n",
      " 'premium_unleaded_(recommended)' 'flex-fuel_(unleaded/e85)' 'diesel']\n",
      "10\n",
      "\n",
      "engine_hp\n",
      "[335. 300. 230. 320. 172.]\n",
      "356\n",
      "\n",
      "engine_cylinders\n",
      "[ 6.  4.  5.  8. 12.]\n",
      "9\n",
      "\n",
      "transmission_type\n",
      "['manual' 'automatic' 'automated_manual' 'direct_drive' 'unknown']\n",
      "5\n",
      "\n",
      "driven_wheels\n",
      "['rear_wheel_drive' 'front_wheel_drive' 'all_wheel_drive'\n",
      " 'four_wheel_drive']\n",
      "4\n",
      "\n",
      "number_of_doors\n",
      "[ 2.  4.  3. nan]\n",
      "3\n",
      "\n",
      "market_category\n",
      "['factory_tuner,luxury,high-performance' 'luxury,performance'\n",
      " 'luxury,high-performance' 'luxury' 'performance']\n",
      "71\n",
      "\n",
      "vehicle_size\n",
      "['compact' 'midsize' 'large']\n",
      "3\n",
      "\n",
      "vehicle_style\n",
      "['coupe' 'convertible' 'sedan' 'wagon' '4dr_hatchback']\n",
      "16\n",
      "\n",
      "highway_mpg\n",
      "[26 28 27 25 24]\n",
      "59\n",
      "\n",
      "city_mpg\n",
      "[19 20 18 17 16]\n",
      "69\n",
      "\n",
      "popularity\n",
      "[3916 3105  819  617 1013]\n",
      "48\n",
      "\n",
      "msrp\n",
      "[46135 40650 36350 29450 34500]\n",
      "6049\n",
      "\n"
     ]
    }
   ],
   "source": [
    "for col in df.columns: \n",
    "    print(col)\n",
    "    print(df[col].unique()[:5])\n",
    "    print(df[col].nunique())\n",
    "    print()"
   ]
  },
  {
   "cell_type": "code",
   "execution_count": 213,
   "id": "5c0d1f76-166b-4fc8-ba69-73cf7902eb10",
   "metadata": {
    "tags": []
   },
   "outputs": [
    {
     "data": {
      "text/plain": [
       "<Axes: xlabel='msrp', ylabel='Count'>"
      ]
     },
     "execution_count": 213,
     "metadata": {},
     "output_type": "execute_result"
    },
    {
     "data": {
      "image/png": "[encoded data removed]",
      "text/plain": [
       "<Figure size 640x480 with 1 Axes>"
      ]
     },
     "metadata": {},
     "output_type": "display_data"
    }
   ],
   "source": [
    "sb.histplot( df.msrp[df.msrp <= 100000], bins=50, color='purple')"
   ]
  },
  {
   "cell_type": "code",
   "execution_count": 214,
   "id": "ba2ab37b-7f35-49e1-b66b-f6f8e2d93207",
   "metadata": {
    "tags": []
   },
   "outputs": [
    {
     "data": {
      "text/plain": [
       "make                    0\n",
       "model                   0\n",
       "year                    0\n",
       "engine_fuel_type        3\n",
       "engine_hp              69\n",
       "engine_cylinders       30\n",
       "transmission_type       0\n",
       "driven_wheels           0\n",
       "number_of_doors         6\n",
       "market_category      3742\n",
       "vehicle_size            0\n",
       "vehicle_style           0\n",
       "highway_mpg             0\n",
       "city_mpg                0\n",
       "popularity              0\n",
       "msrp                    0\n",
       "dtype: int64"
      ]
     },
     "execution_count": 214,
     "metadata": {},
     "output_type": "execute_result"
    }
   ],
   "source": [
    "df.isnull().sum()"
   ]
  },
  {
   "cell_type": "markdown",
   "id": "75cc8059-49ad-48eb-9ad2-7d5c2a4f30ca",
   "metadata": {},
   "source": [
    "## 03-Setting Validation Framework"
   ]
  },
  {
   "cell_type": "code",
   "execution_count": 215,
   "id": "1e2f6dc3-0565-4b1e-98ea-fb11ab790b1e",
   "metadata": {
    "tags": []
   },
   "outputs": [],
   "source": [
    "np.random.seed(1)\n",
    "\n",
    "n = len(df)\n",
    "n_train = int(.6 * n)\n",
    "n_val = int(.2*n)\n",
    "n_test = n - n_train - n_val"
   ]
  },
  {
   "cell_type": "code",
   "execution_count": 216,
   "id": "3535acfb-a74f-4f73-8c95-c3227e2c89f9",
   "metadata": {
    "tags": []
   },
   "outputs": [],
   "source": [
    "#reshuffle the whole array once"
   ]
  },
  {
   "cell_type": "code",
   "execution_count": 217,
   "id": "ea9942bc-6576-4deb-9dc3-39f1ec118a95",
   "metadata": {
    "tags": []
   },
   "outputs": [
    {
     "data": {
      "text/plain": [
       "array([ 4257, 11151,  5262, ...,   905,  5192,   235])"
      ]
     },
     "execution_count": 217,
     "metadata": {},
     "output_type": "execute_result"
    }
   ],
   "source": [
    "idx = np.arange(n)\n",
    "np.random.shuffle(idx)\n",
    "idx"
   ]
  },
  {
   "cell_type": "code",
   "execution_count": 218,
   "id": "01a5a8b5-1404-42e2-8cb1-1639b833ee59",
   "metadata": {
    "tags": []
   },
   "outputs": [],
   "source": [
    "df_shuffled = df.iloc[idx]"
   ]
  },
  {
   "cell_type": "code",
   "execution_count": 219,
   "id": "3a375996-2257-4789-8577-c6155f12256b",
   "metadata": {
    "tags": []
   },
   "outputs": [
    {
     "data": {
      "text/html": [
       "<div>\n",
       "<style scoped>\n",
       "    .dataframe tbody tr th:only-of-type {\n",
       "        vertical-align: middle;\n",
       "    }\n",
       "\n",
       "    .dataframe tbody tr th {\n",
       "        vertical-align: top;\n",
       "    }\n",
       "\n",
       "    .dataframe thead th {\n",
       "        text-align: right;\n",
       "    }\n",
       "</style>\n",
       "<table border=\"1\" class=\"dataframe\">\n",
       "  <thead>\n",
       "    <tr style=\"text-align: right;\">\n",
       "      <th></th>\n",
       "      <th>make</th>\n",
       "      <th>model</th>\n",
       "      <th>year</th>\n",
       "      <th>engine_fuel_type</th>\n",
       "      <th>engine_hp</th>\n",
       "      <th>engine_cylinders</th>\n",
       "      <th>transmission_type</th>\n",
       "      <th>driven_wheels</th>\n",
       "      <th>number_of_doors</th>\n",
       "      <th>market_category</th>\n",
       "      <th>vehicle_size</th>\n",
       "      <th>vehicle_style</th>\n",
       "      <th>highway_mpg</th>\n",
       "      <th>city_mpg</th>\n",
       "      <th>popularity</th>\n",
       "      <th>msrp</th>\n",
       "    </tr>\n",
       "  </thead>\n",
       "  <tbody>\n",
       "    <tr>\n",
       "      <th>0</th>\n",
       "      <td>lotus</td>\n",
       "      <td>evora_400</td>\n",
       "      <td>2017</td>\n",
       "      <td>premium_unleaded_(required)</td>\n",
       "      <td>400.0</td>\n",
       "      <td>6.0</td>\n",
       "      <td>manual</td>\n",
       "      <td>rear_wheel_drive</td>\n",
       "      <td>2.0</td>\n",
       "      <td>exotic,high-performance</td>\n",
       "      <td>compact</td>\n",
       "      <td>coupe</td>\n",
       "      <td>39</td>\n",
       "      <td>21</td>\n",
       "      <td>613</td>\n",
       "      <td>91900</td>\n",
       "    </tr>\n",
       "    <tr>\n",
       "      <th>1</th>\n",
       "      <td>aston_martin</td>\n",
       "      <td>v8_vantage</td>\n",
       "      <td>2014</td>\n",
       "      <td>premium_unleaded_(required)</td>\n",
       "      <td>420.0</td>\n",
       "      <td>8.0</td>\n",
       "      <td>automated_manual</td>\n",
       "      <td>rear_wheel_drive</td>\n",
       "      <td>2.0</td>\n",
       "      <td>exotic,high-performance</td>\n",
       "      <td>compact</td>\n",
       "      <td>convertible</td>\n",
       "      <td>21</td>\n",
       "      <td>14</td>\n",
       "      <td>259</td>\n",
       "      <td>136900</td>\n",
       "    </tr>\n",
       "    <tr>\n",
       "      <th>2</th>\n",
       "      <td>hyundai</td>\n",
       "      <td>genesis</td>\n",
       "      <td>2015</td>\n",
       "      <td>regular_unleaded</td>\n",
       "      <td>311.0</td>\n",
       "      <td>6.0</td>\n",
       "      <td>automatic</td>\n",
       "      <td>rear_wheel_drive</td>\n",
       "      <td>4.0</td>\n",
       "      <td>luxury,performance</td>\n",
       "      <td>large</td>\n",
       "      <td>sedan</td>\n",
       "      <td>29</td>\n",
       "      <td>18</td>\n",
       "      <td>1439</td>\n",
       "      <td>38000</td>\n",
       "    </tr>\n",
       "    <tr>\n",
       "      <th>3</th>\n",
       "      <td>suzuki</td>\n",
       "      <td>samurai</td>\n",
       "      <td>1993</td>\n",
       "      <td>regular_unleaded</td>\n",
       "      <td>66.0</td>\n",
       "      <td>4.0</td>\n",
       "      <td>manual</td>\n",
       "      <td>four_wheel_drive</td>\n",
       "      <td>2.0</td>\n",
       "      <td>NaN</td>\n",
       "      <td>compact</td>\n",
       "      <td>convertible_suv</td>\n",
       "      <td>26</td>\n",
       "      <td>24</td>\n",
       "      <td>481</td>\n",
       "      <td>2000</td>\n",
       "    </tr>\n",
       "    <tr>\n",
       "      <th>4</th>\n",
       "      <td>mitsubishi</td>\n",
       "      <td>outlander</td>\n",
       "      <td>2015</td>\n",
       "      <td>regular_unleaded</td>\n",
       "      <td>166.0</td>\n",
       "      <td>4.0</td>\n",
       "      <td>automatic</td>\n",
       "      <td>all_wheel_drive</td>\n",
       "      <td>4.0</td>\n",
       "      <td>crossover</td>\n",
       "      <td>midsize</td>\n",
       "      <td>4dr_suv</td>\n",
       "      <td>29</td>\n",
       "      <td>24</td>\n",
       "      <td>436</td>\n",
       "      <td>26195</td>\n",
       "    </tr>\n",
       "    <tr>\n",
       "      <th>...</th>\n",
       "      <td>...</td>\n",
       "      <td>...</td>\n",
       "      <td>...</td>\n",
       "      <td>...</td>\n",
       "      <td>...</td>\n",
       "      <td>...</td>\n",
       "      <td>...</td>\n",
       "      <td>...</td>\n",
       "      <td>...</td>\n",
       "      <td>...</td>\n",
       "      <td>...</td>\n",
       "      <td>...</td>\n",
       "      <td>...</td>\n",
       "      <td>...</td>\n",
       "      <td>...</td>\n",
       "      <td>...</td>\n",
       "    </tr>\n",
       "    <tr>\n",
       "      <th>11909</th>\n",
       "      <td>audi</td>\n",
       "      <td>q5</td>\n",
       "      <td>2016</td>\n",
       "      <td>premium_unleaded_(required)</td>\n",
       "      <td>272.0</td>\n",
       "      <td>6.0</td>\n",
       "      <td>automatic</td>\n",
       "      <td>all_wheel_drive</td>\n",
       "      <td>4.0</td>\n",
       "      <td>crossover,luxury</td>\n",
       "      <td>midsize</td>\n",
       "      <td>4dr_suv</td>\n",
       "      <td>26</td>\n",
       "      <td>18</td>\n",
       "      <td>3105</td>\n",
       "      <td>53500</td>\n",
       "    </tr>\n",
       "    <tr>\n",
       "      <th>11910</th>\n",
       "      <td>toyota</td>\n",
       "      <td>tundra</td>\n",
       "      <td>2015</td>\n",
       "      <td>regular_unleaded</td>\n",
       "      <td>381.0</td>\n",
       "      <td>8.0</td>\n",
       "      <td>automatic</td>\n",
       "      <td>four_wheel_drive</td>\n",
       "      <td>4.0</td>\n",
       "      <td>NaN</td>\n",
       "      <td>large</td>\n",
       "      <td>crew_cab_pickup</td>\n",
       "      <td>17</td>\n",
       "      <td>13</td>\n",
       "      <td>2031</td>\n",
       "      <td>47975</td>\n",
       "    </tr>\n",
       "    <tr>\n",
       "      <th>11911</th>\n",
       "      <td>saab</td>\n",
       "      <td>900</td>\n",
       "      <td>1997</td>\n",
       "      <td>regular_unleaded</td>\n",
       "      <td>150.0</td>\n",
       "      <td>4.0</td>\n",
       "      <td>manual</td>\n",
       "      <td>front_wheel_drive</td>\n",
       "      <td>4.0</td>\n",
       "      <td>hatchback,luxury</td>\n",
       "      <td>compact</td>\n",
       "      <td>4dr_hatchback</td>\n",
       "      <td>26</td>\n",
       "      <td>18</td>\n",
       "      <td>376</td>\n",
       "      <td>2000</td>\n",
       "    </tr>\n",
       "    <tr>\n",
       "      <th>11912</th>\n",
       "      <td>pontiac</td>\n",
       "      <td>g6</td>\n",
       "      <td>2009</td>\n",
       "      <td>regular_unleaded</td>\n",
       "      <td>164.0</td>\n",
       "      <td>4.0</td>\n",
       "      <td>automatic</td>\n",
       "      <td>front_wheel_drive</td>\n",
       "      <td>2.0</td>\n",
       "      <td>NaN</td>\n",
       "      <td>midsize</td>\n",
       "      <td>coupe</td>\n",
       "      <td>33</td>\n",
       "      <td>22</td>\n",
       "      <td>210</td>\n",
       "      <td>22220</td>\n",
       "    </tr>\n",
       "    <tr>\n",
       "      <th>11913</th>\n",
       "      <td>chrysler</td>\n",
       "      <td>300m</td>\n",
       "      <td>2003</td>\n",
       "      <td>premium_unleaded_(required)</td>\n",
       "      <td>255.0</td>\n",
       "      <td>6.0</td>\n",
       "      <td>automatic</td>\n",
       "      <td>front_wheel_drive</td>\n",
       "      <td>4.0</td>\n",
       "      <td>performance</td>\n",
       "      <td>large</td>\n",
       "      <td>sedan</td>\n",
       "      <td>25</td>\n",
       "      <td>16</td>\n",
       "      <td>1013</td>\n",
       "      <td>32315</td>\n",
       "    </tr>\n",
       "  </tbody>\n",
       "</table>\n",
       "<p>11914 rows × 16 columns</p>\n",
       "</div>"
      ],
      "text/plain": [
       "               make       model  year             engine_fuel_type  engine_hp   \n",
       "0             lotus   evora_400  2017  premium_unleaded_(required)      400.0  \\\n",
       "1      aston_martin  v8_vantage  2014  premium_unleaded_(required)      420.0   \n",
       "2           hyundai     genesis  2015             regular_unleaded      311.0   \n",
       "3            suzuki     samurai  1993             regular_unleaded       66.0   \n",
       "4        mitsubishi   outlander  2015             regular_unleaded      166.0   \n",
       "...             ...         ...   ...                          ...        ...   \n",
       "11909          audi          q5  2016  premium_unleaded_(required)      272.0   \n",
       "11910        toyota      tundra  2015             regular_unleaded      381.0   \n",
       "11911          saab         900  1997             regular_unleaded      150.0   \n",
       "11912       pontiac          g6  2009             regular_unleaded      164.0   \n",
       "11913      chrysler        300m  2003  premium_unleaded_(required)      255.0   \n",
       "\n",
       "       engine_cylinders transmission_type      driven_wheels  number_of_doors   \n",
       "0                   6.0            manual   rear_wheel_drive              2.0  \\\n",
       "1                   8.0  automated_manual   rear_wheel_drive              2.0   \n",
       "2                   6.0         automatic   rear_wheel_drive              4.0   \n",
       "3                   4.0            manual   four_wheel_drive              2.0   \n",
       "4                   4.0         automatic    all_wheel_drive              4.0   \n",
       "...                 ...               ...                ...              ...   \n",
       "11909               6.0         automatic    all_wheel_drive              4.0   \n",
       "11910               8.0         automatic   four_wheel_drive              4.0   \n",
       "11911               4.0            manual  front_wheel_drive              4.0   \n",
       "11912               4.0         automatic  front_wheel_drive              2.0   \n",
       "11913               6.0         automatic  front_wheel_drive              4.0   \n",
       "\n",
       "               market_category vehicle_size    vehicle_style  highway_mpg   \n",
       "0      exotic,high-performance      compact            coupe           39  \\\n",
       "1      exotic,high-performance      compact      convertible           21   \n",
       "2           luxury,performance        large            sedan           29   \n",
       "3                          NaN      compact  convertible_suv           26   \n",
       "4                    crossover      midsize          4dr_suv           29   \n",
       "...                        ...          ...              ...          ...   \n",
       "11909         crossover,luxury      midsize          4dr_suv           26   \n",
       "11910                      NaN        large  crew_cab_pickup           17   \n",
       "11911         hatchback,luxury      compact    4dr_hatchback           26   \n",
       "11912                      NaN      midsize            coupe           33   \n",
       "11913              performance        large            sedan           25   \n",
       "\n",
       "       city_mpg  popularity    msrp  \n",
       "0            21         613   91900  \n",
       "1            14         259  136900  \n",
       "2            18        1439   38000  \n",
       "3            24         481    2000  \n",
       "4            24         436   26195  \n",
       "...         ...         ...     ...  \n",
       "11909        18        3105   53500  \n",
       "11910        13        2031   47975  \n",
       "11911        18         376    2000  \n",
       "11912        22         210   22220  \n",
       "11913        16        1013   32315  \n",
       "\n",
       "[11914 rows x 16 columns]"
      ]
     },
     "execution_count": 219,
     "metadata": {},
     "output_type": "execute_result"
    }
   ],
   "source": [
    "df_shuffled = df_shuffled.reset_index(drop=True)\n",
    "df_shuffled"
   ]
  },
  {
   "cell_type": "code",
   "execution_count": 220,
   "id": "b1759f14-d7bd-4b4d-9bf8-3df7be57fd15",
   "metadata": {
    "tags": []
   },
   "outputs": [],
   "source": [
    "df_train = df_shuffled.iloc[:n_train]\n",
    "df_val = df_shuffled.iloc[n_train:n_train+n_val]\n",
    "df_test = df_shuffled.iloc[n_train+n_val:]"
   ]
  },
  {
   "cell_type": "code",
   "execution_count": 221,
   "id": "aa1325e1-1ccf-416c-80b0-6faabd98e152",
   "metadata": {
    "tags": []
   },
   "outputs": [],
   "source": [
    "y_train_orig = df_train.msrp.values\n",
    "y_val_orig = df_val.msrp.values\n",
    "y_test_orig = df_test.msrp.values"
   ]
  },
  {
   "cell_type": "code",
   "execution_count": 222,
   "id": "2a925521-0a0a-4142-8a28-250b27e1fa4e",
   "metadata": {
    "tags": []
   },
   "outputs": [],
   "source": [
    "y_train = np.log1p(y_train_orig)\n",
    "y_val = np.log1p(y_val_orig)\n",
    "y_test = np.log1p(y_test_orig)"
   ]
  },
  {
   "cell_type": "code",
   "execution_count": 223,
   "id": "e5ceb5be-42f8-4824-b025-5aeb82859b66",
   "metadata": {
    "tags": []
   },
   "outputs": [],
   "source": [
    "del df_train['msrp']\n",
    "del df_val['msrp']\n",
    "del df_test['msrp']"
   ]
  },
  {
   "cell_type": "markdown",
   "id": "42253e72-71f8-4134-9b26-4cf9b271e4a6",
   "metadata": {
    "tags": []
   },
   "source": [
    "## 04-Preparing the X"
   ]
  },
  {
   "cell_type": "code",
   "execution_count": 224,
   "id": "b98e7506-13b2-4015-a4a4-01810f592f3c",
   "metadata": {
    "tags": []
   },
   "outputs": [
    {
     "data": {
      "text/plain": [
       "make                  object\n",
       "model                 object\n",
       "year                   int64\n",
       "engine_fuel_type      object\n",
       "engine_hp            float64\n",
       "engine_cylinders     float64\n",
       "transmission_type     object\n",
       "driven_wheels         object\n",
       "number_of_doors      float64\n",
       "market_category       object\n",
       "vehicle_size          object\n",
       "vehicle_style         object\n",
       "highway_mpg            int64\n",
       "city_mpg               int64\n",
       "popularity             int64\n",
       "dtype: object"
      ]
     },
     "execution_count": 224,
     "metadata": {},
     "output_type": "execute_result"
    }
   ],
   "source": [
    "df_train.dtypes"
   ]
  },
  {
   "cell_type": "code",
   "execution_count": 225,
   "id": "820e4083-3d90-436c-840d-916370ffd42e",
   "metadata": {
    "tags": []
   },
   "outputs": [],
   "source": [
    "base = ['engine_hp', 'engine_cylinders','popularity']"
   ]
  },
  {
   "cell_type": "code",
   "execution_count": 226,
   "id": "ec533634-5b5a-4cb3-940d-6d52e50e4988",
   "metadata": {
    "tags": []
   },
   "outputs": [],
   "source": [
    "def prepare_X(df):\n",
    "    df = df.copy()\n",
    "    features = base.copy()\n",
    "    df_num = df[features]\n",
    "    df_num = df_num.fillna(0)\n",
    "    X = df_num.values\n",
    "    return X"
   ]
  },
  {
   "cell_type": "code",
   "execution_count": 227,
   "id": "bc447d8a-e196-458f-af1e-a2c93c25570b",
   "metadata": {
    "tags": []
   },
   "outputs": [
    {
     "data": {
      "text/plain": [
       "array([[ 241.,    4.,  454.],\n",
       "       [ 185.,    4., 2202.],\n",
       "       [ 210.,    4.,  873.],\n",
       "       ...,\n",
       "       [ 150.,    4.,  376.],\n",
       "       [ 164.,    4.,  210.],\n",
       "       [ 255.,    6., 1013.]])"
      ]
     },
     "execution_count": 227,
     "metadata": {},
     "output_type": "execute_result"
    }
   ],
   "source": [
    "prepare_X(df_test)"
   ]
  },
  {
   "cell_type": "markdown",
   "id": "bdf6df92-b76f-4a25-86b4-db9daf163776",
   "metadata": {
    "tags": []
   },
   "source": [
    "### A bit of feature engineering "
   ]
  },
  {
   "cell_type": "code",
   "execution_count": 228,
   "id": "01a98217-004b-492b-868a-580f35f0dd11",
   "metadata": {
    "tags": []
   },
   "outputs": [],
   "source": [
    "def prepare_X(df):\n",
    "    df = df.copy()\n",
    "    features = base.copy()\n",
    "    #feature engineering \n",
    "    df['age'] = df.year.max() - df.year\n",
    "    df['cmb_mpg'] = (df.highway_mpg + df.city_mpg)/2\n",
    "    features += ['age', 'cmb_mpg']\n",
    "    \n",
    "    df_num = df[features]\n",
    "    df_num = df_num.fillna(0)\n",
    "    X = df_num.values\n",
    "    return X"
   ]
  },
  {
   "cell_type": "code",
   "execution_count": 229,
   "id": "48556634-83a6-47ee-8e3d-a575a4543570",
   "metadata": {
    "tags": []
   },
   "outputs": [
    {
     "data": {
      "text/plain": [
       "array([[2.410e+02, 4.000e+00, 4.540e+02, 0.000e+00, 2.700e+01],\n",
       "       [1.850e+02, 4.000e+00, 2.202e+03, 2.000e+00, 3.050e+01],\n",
       "       [2.100e+02, 4.000e+00, 8.730e+02, 3.000e+00, 2.800e+01],\n",
       "       ...,\n",
       "       [1.500e+02, 4.000e+00, 3.760e+02, 2.000e+01, 2.200e+01],\n",
       "       [1.640e+02, 4.000e+00, 2.100e+02, 8.000e+00, 2.750e+01],\n",
       "       [2.550e+02, 6.000e+00, 1.013e+03, 1.400e+01, 2.050e+01]])"
      ]
     },
     "execution_count": 229,
     "metadata": {},
     "output_type": "execute_result"
    }
   ],
   "source": [
    "prepare_X(df_test)"
   ]
  },
  {
   "cell_type": "markdown",
   "id": "c5d941cd-2e77-4e94-9652-cf92519cdc93",
   "metadata": {},
   "source": [
    "### Adding Cateogrical Values"
   ]
  },
  {
   "cell_type": "code",
   "execution_count": 230,
   "id": "9c8ed850-a01b-4f07-8256-0277ab7c52ed",
   "metadata": {
    "tags": []
   },
   "outputs": [],
   "source": [
    "columns = list(df.dtypes[df.dtypes=='object'].index)"
   ]
  },
  {
   "cell_type": "code",
   "execution_count": 231,
   "id": "056a8659-cde7-4b12-8b8e-93350517fcb5",
   "metadata": {
    "tags": []
   },
   "outputs": [
    {
     "data": {
      "text/plain": [
       "['make',\n",
       " 'model',\n",
       " 'engine_fuel_type',\n",
       " 'transmission_type',\n",
       " 'driven_wheels',\n",
       " 'market_category',\n",
       " 'vehicle_size',\n",
       " 'vehicle_style']"
      ]
     },
     "execution_count": 231,
     "metadata": {},
     "output_type": "execute_result"
    }
   ],
   "source": [
    "columns"
   ]
  },
  {
   "cell_type": "code",
   "execution_count": 232,
   "id": "187fb3c0-fbed-46e9-a625-05c9a7994335",
   "metadata": {
    "tags": []
   },
   "outputs": [
    {
     "data": {
      "text/plain": [
       "make\n",
       "chevrolet     1123\n",
       "ford           881\n",
       "volkswagen     809\n",
       "toyota         746\n",
       "dodge          626\n",
       "Name: count, dtype: int64"
      ]
     },
     "execution_count": 232,
     "metadata": {},
     "output_type": "execute_result"
    }
   ],
   "source": [
    "df.make.value_counts().head()"
   ]
  },
  {
   "cell_type": "code",
   "execution_count": 233,
   "id": "4ecc6535-ee07-46f3-baba-9668f655b3b7",
   "metadata": {
    "tags": []
   },
   "outputs": [
    {
     "data": {
      "text/plain": [
       "{'make': ['chevrolet', 'ford', 'volkswagen', 'toyota', 'dodge'],\n",
       " 'model': ['silverado_1500',\n",
       "  'tundra',\n",
       "  'f-150',\n",
       "  'sierra_1500',\n",
       "  'beetle_convertible'],\n",
       " 'engine_fuel_type': ['regular_unleaded',\n",
       "  'premium_unleaded_(required)',\n",
       "  'premium_unleaded_(recommended)',\n",
       "  'flex-fuel_(unleaded/e85)',\n",
       "  'diesel'],\n",
       " 'transmission_type': ['automatic',\n",
       "  'manual',\n",
       "  'automated_manual',\n",
       "  'direct_drive',\n",
       "  'unknown'],\n",
       " 'driven_wheels': ['front_wheel_drive',\n",
       "  'rear_wheel_drive',\n",
       "  'all_wheel_drive',\n",
       "  'four_wheel_drive'],\n",
       " 'market_category': ['crossover',\n",
       "  'flex_fuel',\n",
       "  'luxury',\n",
       "  'luxury,performance',\n",
       "  'hatchback'],\n",
       " 'vehicle_size': ['compact', 'midsize', 'large'],\n",
       " 'vehicle_style': ['sedan',\n",
       "  '4dr_suv',\n",
       "  'coupe',\n",
       "  'convertible',\n",
       "  '4dr_hatchback'],\n",
       " 'number_of_doors': [2, 3, 4]}"
      ]
     },
     "execution_count": 233,
     "metadata": {},
     "output_type": "execute_result"
    }
   ],
   "source": [
    "cateogries ={}\n",
    "for col in columns: \n",
    "    cateogries[col] = list(df[col].value_counts().head().index)\n",
    "    \n",
    "cateogries['number_of_doors'] = [2,3,4]\n",
    "\n",
    "cateogries"
   ]
  },
  {
   "cell_type": "code",
   "execution_count": 234,
   "id": "f1fc7782-6e60-4fc3-b407-25791b3cc1d1",
   "metadata": {},
   "outputs": [],
   "source": [
    "def prepare_X(df):\n",
    "    df = df.copy()\n",
    "    features = base.copy()\n",
    "    #feature engineering \n",
    "    df['age'] = df.year.max() - df.year\n",
    "    df['cmb_mpg'] = (df.highway_mpg + df.city_mpg)/2\n",
    "    features += ['age', 'cmb_mpg']\n",
    "    \n",
    "    #cateogrical values \n",
    "    for c,values in cateogries.items(): \n",
    "        for v in values: \n",
    "            df[f\"{c}_{v}\"] = (df[c] == v).astype(int)\n",
    "            features.append(f\"{c}_{v}\")\n",
    "            \n",
    "    df_num = df[features]\n",
    "    df_num = df_num.fillna(0)\n",
    "    X = df_num.values\n",
    "    return X"
   ]
  },
  {
   "cell_type": "code",
   "execution_count": 235,
   "id": "6d5bcfb6-0c7e-4bd1-bc55-d9c683652d18",
   "metadata": {
    "tags": []
   },
   "outputs": [
    {
     "data": {
      "text/plain": [
       "array([[4.000e+02, 6.000e+00, 6.130e+02, ..., 1.000e+00, 0.000e+00,\n",
       "        0.000e+00],\n",
       "       [4.200e+02, 8.000e+00, 2.590e+02, ..., 1.000e+00, 0.000e+00,\n",
       "        0.000e+00],\n",
       "       [3.110e+02, 6.000e+00, 1.439e+03, ..., 0.000e+00, 0.000e+00,\n",
       "        1.000e+00],\n",
       "       ...,\n",
       "       [2.810e+02, 6.000e+00, 1.385e+03, ..., 0.000e+00, 0.000e+00,\n",
       "        1.000e+00],\n",
       "       [3.150e+02, 6.000e+00, 3.916e+03, ..., 1.000e+00, 0.000e+00,\n",
       "        0.000e+00],\n",
       "       [1.600e+02, 4.000e+00, 8.190e+02, ..., 0.000e+00, 0.000e+00,\n",
       "        1.000e+00]])"
      ]
     },
     "execution_count": 235,
     "metadata": {},
     "output_type": "execute_result"
    }
   ],
   "source": [
    "prepare_X(df_train)"
   ]
  },
  {
   "cell_type": "markdown",
   "id": "de9720c5-fea5-4dc4-bcc0-cc037ecab870",
   "metadata": {},
   "source": [
    "## Linear Regression"
   ]
  },
  {
   "cell_type": "code",
   "execution_count": 240,
   "id": "327ae8ee-b8a0-4e85-bef1-2cad9a4f8774",
   "metadata": {
    "tags": []
   },
   "outputs": [],
   "source": [
    "def train_linear_regression(X, y, r=0.001): # using regularisation\n",
    "    col = np.ones(X.shape[0])\n",
    "    X = np.column_stack([col, X])\n",
    "    XTX = X.T.dot(X)\n",
    "    XTX = XTX + np.eye(XTX.shape[0])*r\n",
    "    \n",
    "    XTX_inv = np.linalg.inv(XTX)\n",
    "    w = XTX_inv.dot(X.T).dot(y)\n",
    "    return (w[:1], w[1:])"
   ]
  },
  {
   "cell_type": "code",
   "execution_count": 241,
   "id": "074f16d1-a71d-41ac-993c-7853e387f3f9",
   "metadata": {
    "tags": []
   },
   "outputs": [],
   "source": [
    "def rmse(y_pred, y):\n",
    "    error = y_pred- y \n",
    "    se = error ** 2\n",
    "    mse = se.mean()\n",
    "    rmse = np.sqrt(mse)\n",
    "    return rmse"
   ]
  },
  {
   "cell_type": "code",
   "execution_count": 242,
   "id": "dd4b06a1-28f3-4e32-a00d-f00bab5eca7b",
   "metadata": {
    "tags": []
   },
   "outputs": [],
   "source": [
    "#train the model \n",
    "X = prepare_X(df_train)\n",
    "w0, w = train_linear_regression(X, y_train)\n",
    "\n",
    "#test it on df_val\n",
    "X = prepare_X(df_val)\n",
    "y_pred = w0 + X.dot(w)"
   ]
  },
  {
   "cell_type": "code",
   "execution_count": 243,
   "id": "5d993fd9-78f9-4388-a962-a055d369553d",
   "metadata": {
    "tags": []
   },
   "outputs": [
    {
     "data": {
      "text/plain": [
       "0.4613786013539689"
      ]
     },
     "execution_count": 243,
     "metadata": {},
     "output_type": "execute_result"
    }
   ],
   "source": [
    "rmse(y_pred, y_val)"
   ]
  },
  {
   "cell_type": "markdown",
   "id": "064de6b4-61b2-44ad-8a28-d16248e42fbd",
   "metadata": {},
   "source": [
    "## Full train the model "
   ]
  },
  {
   "cell_type": "code",
   "execution_count": 245,
   "id": "e5ee5fb9-03a3-41fd-a7cf-8d22cb8cb937",
   "metadata": {
    "tags": []
   },
   "outputs": [],
   "source": [
    "df_full_train = pd.concat([df_train, df_val])\n",
    "y_full = np.concatenate([y_train, y_val])"
   ]
  },
  {
   "cell_type": "code",
   "execution_count": 246,
   "id": "53de2973-0211-4aa0-b2d3-8182652061b6",
   "metadata": {
    "tags": []
   },
   "outputs": [],
   "source": [
    "#train the model \n",
    "X = prepare_X(df_full_train)\n",
    "w0, w = train_linear_regression(X, y_full)\n",
    "\n",
    "#test it on df_test\n",
    "X = prepare_X(df_test)\n",
    "y_pred = w0 + X.dot(w)"
   ]
  },
  {
   "cell_type": "code",
   "execution_count": 247,
   "id": "5fd8b377-058c-41d2-9e8c-90ae547390a8",
   "metadata": {
    "tags": []
   },
   "outputs": [
    {
     "data": {
      "text/plain": [
       "0.460741706562873"
      ]
     },
     "execution_count": 247,
     "metadata": {},
     "output_type": "execute_result"
    }
   ],
   "source": [
    "rmse(y_pred, y_test)"
   ]
  },
  {
   "cell_type": "markdown",
   "id": "3dd2f550-977e-4d63-b096-32a860ee0a46",
   "metadata": {
    "tags": []
   },
   "source": [
    "## Get prediction for some input from user say "
   ]
  },
  {
   "cell_type": "code",
   "execution_count": 268,
   "id": "4221fe4a-a3b6-4acb-a6b4-845f862c2d9b",
   "metadata": {
    "tags": []
   },
   "outputs": [],
   "source": [
    "car = df_test.iloc[23].to_dict()"
   ]
  },
  {
   "cell_type": "code",
   "execution_count": 270,
   "id": "4fe10e53-1f58-4674-b2d0-01155e149bb8",
   "metadata": {
    "tags": []
   },
   "outputs": [
    {
     "data": {
      "text/plain": [
       "{'make': 'subaru',\n",
       " 'model': 'outback',\n",
       " 'year': 2016,\n",
       " 'engine_fuel_type': 'regular_unleaded',\n",
       " 'engine_hp': 175.0,\n",
       " 'engine_cylinders': 4.0,\n",
       " 'transmission_type': 'automatic',\n",
       " 'driven_wheels': 'all_wheel_drive',\n",
       " 'number_of_doors': 4.0,\n",
       " 'market_category': 'crossover',\n",
       " 'vehicle_size': 'midsize',\n",
       " 'vehicle_style': '4dr_suv',\n",
       " 'highway_mpg': 33,\n",
       " 'city_mpg': 25,\n",
       " 'popularity': 640}"
      ]
     },
     "execution_count": 270,
     "metadata": {},
     "output_type": "execute_result"
    }
   ],
   "source": [
    "car "
   ]
  },
  {
   "cell_type": "code",
   "execution_count": 271,
   "id": "e1e0428e-fde0-4592-9cb5-b4e34237cde4",
   "metadata": {
    "tags": []
   },
   "outputs": [],
   "source": [
    "df_small = pd.DataFrame([car])"
   ]
  },
  {
   "cell_type": "code",
   "execution_count": 272,
   "id": "230122c4-f567-4c20-93dd-b21a3c047224",
   "metadata": {
    "tags": []
   },
   "outputs": [
    {
     "data": {
      "text/plain": [
       "29712.79"
      ]
     },
     "execution_count": 272,
     "metadata": {},
     "output_type": "execute_result"
    }
   ],
   "source": [
    "X = prepare_X(df_small)\n",
    "\n",
    "y_pred = w0 + X.dot(w)\n",
    "\n",
    "y_pred = y_pred[0]\n",
    "np.expm1(y_pred).round(2)"
   ]
  },
  {
   "cell_type": "code",
   "execution_count": 274,
   "id": "7060098b-2f7f-4b56-97c5-dfd987330023",
   "metadata": {
    "tags": []
   },
   "outputs": [
    {
     "data": {
      "text/plain": [
       "27395.0"
      ]
     },
     "execution_count": 274,
     "metadata": {},
     "output_type": "execute_result"
    }
   ],
   "source": [
    "np.expm1(y_test[23]).round(2)"
   ]
  }
 ],
 "metadata": {
  "kernelspec": {
   "display_name": "Python 3 (ipykernel)",
   "language": "python",
   "name": "python3"
  },
  "language_info": {
   "codemirror_mode": {
    "name": "ipython",
    "version": 3
   },
   "file_extension": ".py",
   "mimetype": "text/x-python",
   "name": "python",
   "nbconvert_exporter": "python",
   "pygments_lexer": "ipython3",
   "version": "3.9.18"
  }
 },
 "nbformat": 4,
 "nbformat_minor": 5
}
