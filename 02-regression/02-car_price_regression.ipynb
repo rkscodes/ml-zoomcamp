{
 "cells": [
  {
   "cell_type": "code",
   "execution_count": 1,
   "id": "c81d4a02-3d3c-4eca-a788-b774ee0bf5f9",
   "metadata": {
    "execution": {
     "iopub.execute_input": "2023-09-25T04:21:45.280189Z",
     "iopub.status.busy": "2023-09-25T04:21:45.280013Z",
     "iopub.status.idle": "2023-09-25T04:21:45.558067Z",
     "shell.execute_reply": "2023-09-25T04:21:45.557156Z",
     "shell.execute_reply.started": "2023-09-25T04:21:45.280168Z"
    },
    "tags": []
   },
   "outputs": [],
   "source": [
    "import pandas as pd\n",
    "import numpy as np"
   ]
  },
  {
   "cell_type": "code",
   "execution_count": 2,
   "id": "c42355fe-ea7f-46db-82e4-9d206391b2d3",
   "metadata": {
    "execution": {
     "iopub.execute_input": "2023-09-25T04:21:45.564506Z",
     "iopub.status.busy": "2023-09-25T04:21:45.563327Z",
     "iopub.status.idle": "2023-09-25T04:21:45.570677Z",
     "shell.execute_reply": "2023-09-25T04:21:45.569645Z",
     "shell.execute_reply.started": "2023-09-25T04:21:45.564475Z"
    },
    "tags": []
   },
   "outputs": [],
   "source": [
    "data=\"https://raw.githubusercontent.com/alexeygrigorev/mlbookcamp-code/master/chapter-02-car-price/data.csv\""
   ]
  },
  {
   "cell_type": "code",
   "execution_count": 3,
   "id": "ab1e42df-d077-4a87-bc49-65c39384df87",
   "metadata": {
    "execution": {
     "iopub.execute_input": "2023-09-25T04:21:45.572640Z",
     "iopub.status.busy": "2023-09-25T04:21:45.571816Z",
     "iopub.status.idle": "2023-09-25T04:21:45.577396Z",
     "shell.execute_reply": "2023-09-25T04:21:45.576682Z",
     "shell.execute_reply.started": "2023-09-25T04:21:45.572553Z"
    },
    "tags": []
   },
   "outputs": [],
   "source": [
    "# !wget $data"
   ]
  },
  {
   "cell_type": "markdown",
   "id": "41f71b82-e0ae-4e2b-b673-b7ac84e77cdf",
   "metadata": {},
   "source": [
    "### Cleaning the data"
   ]
  },
  {
   "cell_type": "code",
   "execution_count": 4,
   "id": "1c08569c-70f4-4104-a53b-7a23ea04a4f2",
   "metadata": {
    "execution": {
     "iopub.execute_input": "2023-09-25T04:21:45.578060Z",
     "iopub.status.busy": "2023-09-25T04:21:45.577959Z",
     "iopub.status.idle": "2023-09-25T04:21:45.594780Z",
     "shell.execute_reply": "2023-09-25T04:21:45.594478Z",
     "shell.execute_reply.started": "2023-09-25T04:21:45.578050Z"
    },
    "tags": []
   },
   "outputs": [],
   "source": [
    "df = pd.read_csv('data.csv')"
   ]
  },
  {
   "cell_type": "code",
   "execution_count": 5,
   "id": "eb039349-dca8-4b3a-866b-dd43f0a0c225",
   "metadata": {
    "execution": {
     "iopub.execute_input": "2023-09-25T04:21:45.595315Z",
     "iopub.status.busy": "2023-09-25T04:21:45.595226Z",
     "iopub.status.idle": "2023-09-25T04:21:45.609703Z",
     "shell.execute_reply": "2023-09-25T04:21:45.608713Z",
     "shell.execute_reply.started": "2023-09-25T04:21:45.595306Z"
    },
    "tags": []
   },
   "outputs": [
    {
     "data": {
      "text/html": [
       "<div>\n",
       "<style scoped>\n",
       "    .dataframe tbody tr th:only-of-type {\n",
       "        vertical-align: middle;\n",
       "    }\n",
       "\n",
       "    .dataframe tbody tr th {\n",
       "        vertical-align: top;\n",
       "    }\n",
       "\n",
       "    .dataframe thead th {\n",
       "        text-align: right;\n",
       "    }\n",
       "</style>\n",
       "<table border=\"1\" class=\"dataframe\">\n",
       "  <thead>\n",
       "    <tr style=\"text-align: right;\">\n",
       "      <th></th>\n",
       "      <th>Make</th>\n",
       "      <th>Model</th>\n",
       "      <th>Year</th>\n",
       "      <th>Engine Fuel Type</th>\n",
       "      <th>Engine HP</th>\n",
       "      <th>Engine Cylinders</th>\n",
       "      <th>Transmission Type</th>\n",
       "      <th>Driven_Wheels</th>\n",
       "      <th>Number of Doors</th>\n",
       "      <th>Market Category</th>\n",
       "      <th>Vehicle Size</th>\n",
       "      <th>Vehicle Style</th>\n",
       "      <th>highway MPG</th>\n",
       "      <th>city mpg</th>\n",
       "      <th>Popularity</th>\n",
       "      <th>MSRP</th>\n",
       "    </tr>\n",
       "  </thead>\n",
       "  <tbody>\n",
       "    <tr>\n",
       "      <th>0</th>\n",
       "      <td>BMW</td>\n",
       "      <td>1 Series M</td>\n",
       "      <td>2011</td>\n",
       "      <td>premium unleaded (required)</td>\n",
       "      <td>335.0</td>\n",
       "      <td>6.0</td>\n",
       "      <td>MANUAL</td>\n",
       "      <td>rear wheel drive</td>\n",
       "      <td>2.0</td>\n",
       "      <td>Factory Tuner,Luxury,High-Performance</td>\n",
       "      <td>Compact</td>\n",
       "      <td>Coupe</td>\n",
       "      <td>26</td>\n",
       "      <td>19</td>\n",
       "      <td>3916</td>\n",
       "      <td>46135</td>\n",
       "    </tr>\n",
       "    <tr>\n",
       "      <th>1</th>\n",
       "      <td>BMW</td>\n",
       "      <td>1 Series</td>\n",
       "      <td>2011</td>\n",
       "      <td>premium unleaded (required)</td>\n",
       "      <td>300.0</td>\n",
       "      <td>6.0</td>\n",
       "      <td>MANUAL</td>\n",
       "      <td>rear wheel drive</td>\n",
       "      <td>2.0</td>\n",
       "      <td>Luxury,Performance</td>\n",
       "      <td>Compact</td>\n",
       "      <td>Convertible</td>\n",
       "      <td>28</td>\n",
       "      <td>19</td>\n",
       "      <td>3916</td>\n",
       "      <td>40650</td>\n",
       "    </tr>\n",
       "    <tr>\n",
       "      <th>2</th>\n",
       "      <td>BMW</td>\n",
       "      <td>1 Series</td>\n",
       "      <td>2011</td>\n",
       "      <td>premium unleaded (required)</td>\n",
       "      <td>300.0</td>\n",
       "      <td>6.0</td>\n",
       "      <td>MANUAL</td>\n",
       "      <td>rear wheel drive</td>\n",
       "      <td>2.0</td>\n",
       "      <td>Luxury,High-Performance</td>\n",
       "      <td>Compact</td>\n",
       "      <td>Coupe</td>\n",
       "      <td>28</td>\n",
       "      <td>20</td>\n",
       "      <td>3916</td>\n",
       "      <td>36350</td>\n",
       "    </tr>\n",
       "    <tr>\n",
       "      <th>3</th>\n",
       "      <td>BMW</td>\n",
       "      <td>1 Series</td>\n",
       "      <td>2011</td>\n",
       "      <td>premium unleaded (required)</td>\n",
       "      <td>230.0</td>\n",
       "      <td>6.0</td>\n",
       "      <td>MANUAL</td>\n",
       "      <td>rear wheel drive</td>\n",
       "      <td>2.0</td>\n",
       "      <td>Luxury,Performance</td>\n",
       "      <td>Compact</td>\n",
       "      <td>Coupe</td>\n",
       "      <td>28</td>\n",
       "      <td>18</td>\n",
       "      <td>3916</td>\n",
       "      <td>29450</td>\n",
       "    </tr>\n",
       "    <tr>\n",
       "      <th>4</th>\n",
       "      <td>BMW</td>\n",
       "      <td>1 Series</td>\n",
       "      <td>2011</td>\n",
       "      <td>premium unleaded (required)</td>\n",
       "      <td>230.0</td>\n",
       "      <td>6.0</td>\n",
       "      <td>MANUAL</td>\n",
       "      <td>rear wheel drive</td>\n",
       "      <td>2.0</td>\n",
       "      <td>Luxury</td>\n",
       "      <td>Compact</td>\n",
       "      <td>Convertible</td>\n",
       "      <td>28</td>\n",
       "      <td>18</td>\n",
       "      <td>3916</td>\n",
       "      <td>34500</td>\n",
       "    </tr>\n",
       "    <tr>\n",
       "      <th>...</th>\n",
       "      <td>...</td>\n",
       "      <td>...</td>\n",
       "      <td>...</td>\n",
       "      <td>...</td>\n",
       "      <td>...</td>\n",
       "      <td>...</td>\n",
       "      <td>...</td>\n",
       "      <td>...</td>\n",
       "      <td>...</td>\n",
       "      <td>...</td>\n",
       "      <td>...</td>\n",
       "      <td>...</td>\n",
       "      <td>...</td>\n",
       "      <td>...</td>\n",
       "      <td>...</td>\n",
       "      <td>...</td>\n",
       "    </tr>\n",
       "    <tr>\n",
       "      <th>11909</th>\n",
       "      <td>Acura</td>\n",
       "      <td>ZDX</td>\n",
       "      <td>2012</td>\n",
       "      <td>premium unleaded (required)</td>\n",
       "      <td>300.0</td>\n",
       "      <td>6.0</td>\n",
       "      <td>AUTOMATIC</td>\n",
       "      <td>all wheel drive</td>\n",
       "      <td>4.0</td>\n",
       "      <td>Crossover,Hatchback,Luxury</td>\n",
       "      <td>Midsize</td>\n",
       "      <td>4dr Hatchback</td>\n",
       "      <td>23</td>\n",
       "      <td>16</td>\n",
       "      <td>204</td>\n",
       "      <td>46120</td>\n",
       "    </tr>\n",
       "    <tr>\n",
       "      <th>11910</th>\n",
       "      <td>Acura</td>\n",
       "      <td>ZDX</td>\n",
       "      <td>2012</td>\n",
       "      <td>premium unleaded (required)</td>\n",
       "      <td>300.0</td>\n",
       "      <td>6.0</td>\n",
       "      <td>AUTOMATIC</td>\n",
       "      <td>all wheel drive</td>\n",
       "      <td>4.0</td>\n",
       "      <td>Crossover,Hatchback,Luxury</td>\n",
       "      <td>Midsize</td>\n",
       "      <td>4dr Hatchback</td>\n",
       "      <td>23</td>\n",
       "      <td>16</td>\n",
       "      <td>204</td>\n",
       "      <td>56670</td>\n",
       "    </tr>\n",
       "    <tr>\n",
       "      <th>11911</th>\n",
       "      <td>Acura</td>\n",
       "      <td>ZDX</td>\n",
       "      <td>2012</td>\n",
       "      <td>premium unleaded (required)</td>\n",
       "      <td>300.0</td>\n",
       "      <td>6.0</td>\n",
       "      <td>AUTOMATIC</td>\n",
       "      <td>all wheel drive</td>\n",
       "      <td>4.0</td>\n",
       "      <td>Crossover,Hatchback,Luxury</td>\n",
       "      <td>Midsize</td>\n",
       "      <td>4dr Hatchback</td>\n",
       "      <td>23</td>\n",
       "      <td>16</td>\n",
       "      <td>204</td>\n",
       "      <td>50620</td>\n",
       "    </tr>\n",
       "    <tr>\n",
       "      <th>11912</th>\n",
       "      <td>Acura</td>\n",
       "      <td>ZDX</td>\n",
       "      <td>2013</td>\n",
       "      <td>premium unleaded (recommended)</td>\n",
       "      <td>300.0</td>\n",
       "      <td>6.0</td>\n",
       "      <td>AUTOMATIC</td>\n",
       "      <td>all wheel drive</td>\n",
       "      <td>4.0</td>\n",
       "      <td>Crossover,Hatchback,Luxury</td>\n",
       "      <td>Midsize</td>\n",
       "      <td>4dr Hatchback</td>\n",
       "      <td>23</td>\n",
       "      <td>16</td>\n",
       "      <td>204</td>\n",
       "      <td>50920</td>\n",
       "    </tr>\n",
       "    <tr>\n",
       "      <th>11913</th>\n",
       "      <td>Lincoln</td>\n",
       "      <td>Zephyr</td>\n",
       "      <td>2006</td>\n",
       "      <td>regular unleaded</td>\n",
       "      <td>221.0</td>\n",
       "      <td>6.0</td>\n",
       "      <td>AUTOMATIC</td>\n",
       "      <td>front wheel drive</td>\n",
       "      <td>4.0</td>\n",
       "      <td>Luxury</td>\n",
       "      <td>Midsize</td>\n",
       "      <td>Sedan</td>\n",
       "      <td>26</td>\n",
       "      <td>17</td>\n",
       "      <td>61</td>\n",
       "      <td>28995</td>\n",
       "    </tr>\n",
       "  </tbody>\n",
       "</table>\n",
       "<p>11914 rows × 16 columns</p>\n",
       "</div>"
      ],
      "text/plain": [
       "          Make       Model  Year                Engine Fuel Type  Engine HP   \n",
       "0          BMW  1 Series M  2011     premium unleaded (required)      335.0  \\\n",
       "1          BMW    1 Series  2011     premium unleaded (required)      300.0   \n",
       "2          BMW    1 Series  2011     premium unleaded (required)      300.0   \n",
       "3          BMW    1 Series  2011     premium unleaded (required)      230.0   \n",
       "4          BMW    1 Series  2011     premium unleaded (required)      230.0   \n",
       "...        ...         ...   ...                             ...        ...   \n",
       "11909    Acura         ZDX  2012     premium unleaded (required)      300.0   \n",
       "11910    Acura         ZDX  2012     premium unleaded (required)      300.0   \n",
       "11911    Acura         ZDX  2012     premium unleaded (required)      300.0   \n",
       "11912    Acura         ZDX  2013  premium unleaded (recommended)      300.0   \n",
       "11913  Lincoln      Zephyr  2006                regular unleaded      221.0   \n",
       "\n",
       "       Engine Cylinders Transmission Type      Driven_Wheels  Number of Doors   \n",
       "0                   6.0            MANUAL   rear wheel drive              2.0  \\\n",
       "1                   6.0            MANUAL   rear wheel drive              2.0   \n",
       "2                   6.0            MANUAL   rear wheel drive              2.0   \n",
       "3                   6.0            MANUAL   rear wheel drive              2.0   \n",
       "4                   6.0            MANUAL   rear wheel drive              2.0   \n",
       "...                 ...               ...                ...              ...   \n",
       "11909               6.0         AUTOMATIC    all wheel drive              4.0   \n",
       "11910               6.0         AUTOMATIC    all wheel drive              4.0   \n",
       "11911               6.0         AUTOMATIC    all wheel drive              4.0   \n",
       "11912               6.0         AUTOMATIC    all wheel drive              4.0   \n",
       "11913               6.0         AUTOMATIC  front wheel drive              4.0   \n",
       "\n",
       "                             Market Category Vehicle Size  Vehicle Style   \n",
       "0      Factory Tuner,Luxury,High-Performance      Compact          Coupe  \\\n",
       "1                         Luxury,Performance      Compact    Convertible   \n",
       "2                    Luxury,High-Performance      Compact          Coupe   \n",
       "3                         Luxury,Performance      Compact          Coupe   \n",
       "4                                     Luxury      Compact    Convertible   \n",
       "...                                      ...          ...            ...   \n",
       "11909             Crossover,Hatchback,Luxury      Midsize  4dr Hatchback   \n",
       "11910             Crossover,Hatchback,Luxury      Midsize  4dr Hatchback   \n",
       "11911             Crossover,Hatchback,Luxury      Midsize  4dr Hatchback   \n",
       "11912             Crossover,Hatchback,Luxury      Midsize  4dr Hatchback   \n",
       "11913                                 Luxury      Midsize          Sedan   \n",
       "\n",
       "       highway MPG  city mpg  Popularity   MSRP  \n",
       "0               26        19        3916  46135  \n",
       "1               28        19        3916  40650  \n",
       "2               28        20        3916  36350  \n",
       "3               28        18        3916  29450  \n",
       "4               28        18        3916  34500  \n",
       "...            ...       ...         ...    ...  \n",
       "11909           23        16         204  46120  \n",
       "11910           23        16         204  56670  \n",
       "11911           23        16         204  50620  \n",
       "11912           23        16         204  50920  \n",
       "11913           26        17          61  28995  \n",
       "\n",
       "[11914 rows x 16 columns]"
      ]
     },
     "execution_count": 5,
     "metadata": {},
     "output_type": "execute_result"
    }
   ],
   "source": [
    "df"
   ]
  },
  {
   "cell_type": "code",
   "execution_count": 6,
   "id": "11a7ddcc-96e8-455d-91e0-9809faa10e8e",
   "metadata": {
    "execution": {
     "iopub.execute_input": "2023-09-25T04:21:45.610694Z",
     "iopub.status.busy": "2023-09-25T04:21:45.610394Z",
     "iopub.status.idle": "2023-09-25T04:21:45.614163Z",
     "shell.execute_reply": "2023-09-25T04:21:45.613572Z",
     "shell.execute_reply.started": "2023-09-25T04:21:45.610681Z"
    },
    "tags": []
   },
   "outputs": [],
   "source": [
    "df.columns = df.columns.str.replace(' ', '_').str.lower()"
   ]
  },
  {
   "cell_type": "code",
   "execution_count": 7,
   "id": "8d8fcea0-304b-429b-9a26-54f5cd226e78",
   "metadata": {
    "execution": {
     "iopub.execute_input": "2023-09-25T04:21:45.617703Z",
     "iopub.status.busy": "2023-09-25T04:21:45.617334Z",
     "iopub.status.idle": "2023-09-25T04:21:45.628173Z",
     "shell.execute_reply": "2023-09-25T04:21:45.627544Z",
     "shell.execute_reply.started": "2023-09-25T04:21:45.617689Z"
    },
    "tags": []
   },
   "outputs": [
    {
     "data": {
      "text/html": [
       "<div>\n",
       "<style scoped>\n",
       "    .dataframe tbody tr th:only-of-type {\n",
       "        vertical-align: middle;\n",
       "    }\n",
       "\n",
       "    .dataframe tbody tr th {\n",
       "        vertical-align: top;\n",
       "    }\n",
       "\n",
       "    .dataframe thead th {\n",
       "        text-align: right;\n",
       "    }\n",
       "</style>\n",
       "<table border=\"1\" class=\"dataframe\">\n",
       "  <thead>\n",
       "    <tr style=\"text-align: right;\">\n",
       "      <th></th>\n",
       "      <th>make</th>\n",
       "      <th>model</th>\n",
       "      <th>year</th>\n",
       "      <th>engine_fuel_type</th>\n",
       "      <th>engine_hp</th>\n",
       "      <th>engine_cylinders</th>\n",
       "      <th>transmission_type</th>\n",
       "      <th>driven_wheels</th>\n",
       "      <th>number_of_doors</th>\n",
       "      <th>market_category</th>\n",
       "      <th>vehicle_size</th>\n",
       "      <th>vehicle_style</th>\n",
       "      <th>highway_mpg</th>\n",
       "      <th>city_mpg</th>\n",
       "      <th>popularity</th>\n",
       "      <th>msrp</th>\n",
       "    </tr>\n",
       "  </thead>\n",
       "  <tbody>\n",
       "    <tr>\n",
       "      <th>0</th>\n",
       "      <td>BMW</td>\n",
       "      <td>1 Series M</td>\n",
       "      <td>2011</td>\n",
       "      <td>premium unleaded (required)</td>\n",
       "      <td>335.0</td>\n",
       "      <td>6.0</td>\n",
       "      <td>MANUAL</td>\n",
       "      <td>rear wheel drive</td>\n",
       "      <td>2.0</td>\n",
       "      <td>Factory Tuner,Luxury,High-Performance</td>\n",
       "      <td>Compact</td>\n",
       "      <td>Coupe</td>\n",
       "      <td>26</td>\n",
       "      <td>19</td>\n",
       "      <td>3916</td>\n",
       "      <td>46135</td>\n",
       "    </tr>\n",
       "    <tr>\n",
       "      <th>1</th>\n",
       "      <td>BMW</td>\n",
       "      <td>1 Series</td>\n",
       "      <td>2011</td>\n",
       "      <td>premium unleaded (required)</td>\n",
       "      <td>300.0</td>\n",
       "      <td>6.0</td>\n",
       "      <td>MANUAL</td>\n",
       "      <td>rear wheel drive</td>\n",
       "      <td>2.0</td>\n",
       "      <td>Luxury,Performance</td>\n",
       "      <td>Compact</td>\n",
       "      <td>Convertible</td>\n",
       "      <td>28</td>\n",
       "      <td>19</td>\n",
       "      <td>3916</td>\n",
       "      <td>40650</td>\n",
       "    </tr>\n",
       "    <tr>\n",
       "      <th>2</th>\n",
       "      <td>BMW</td>\n",
       "      <td>1 Series</td>\n",
       "      <td>2011</td>\n",
       "      <td>premium unleaded (required)</td>\n",
       "      <td>300.0</td>\n",
       "      <td>6.0</td>\n",
       "      <td>MANUAL</td>\n",
       "      <td>rear wheel drive</td>\n",
       "      <td>2.0</td>\n",
       "      <td>Luxury,High-Performance</td>\n",
       "      <td>Compact</td>\n",
       "      <td>Coupe</td>\n",
       "      <td>28</td>\n",
       "      <td>20</td>\n",
       "      <td>3916</td>\n",
       "      <td>36350</td>\n",
       "    </tr>\n",
       "    <tr>\n",
       "      <th>3</th>\n",
       "      <td>BMW</td>\n",
       "      <td>1 Series</td>\n",
       "      <td>2011</td>\n",
       "      <td>premium unleaded (required)</td>\n",
       "      <td>230.0</td>\n",
       "      <td>6.0</td>\n",
       "      <td>MANUAL</td>\n",
       "      <td>rear wheel drive</td>\n",
       "      <td>2.0</td>\n",
       "      <td>Luxury,Performance</td>\n",
       "      <td>Compact</td>\n",
       "      <td>Coupe</td>\n",
       "      <td>28</td>\n",
       "      <td>18</td>\n",
       "      <td>3916</td>\n",
       "      <td>29450</td>\n",
       "    </tr>\n",
       "    <tr>\n",
       "      <th>4</th>\n",
       "      <td>BMW</td>\n",
       "      <td>1 Series</td>\n",
       "      <td>2011</td>\n",
       "      <td>premium unleaded (required)</td>\n",
       "      <td>230.0</td>\n",
       "      <td>6.0</td>\n",
       "      <td>MANUAL</td>\n",
       "      <td>rear wheel drive</td>\n",
       "      <td>2.0</td>\n",
       "      <td>Luxury</td>\n",
       "      <td>Compact</td>\n",
       "      <td>Convertible</td>\n",
       "      <td>28</td>\n",
       "      <td>18</td>\n",
       "      <td>3916</td>\n",
       "      <td>34500</td>\n",
       "    </tr>\n",
       "  </tbody>\n",
       "</table>\n",
       "</div>"
      ],
      "text/plain": [
       "  make       model  year             engine_fuel_type  engine_hp   \n",
       "0  BMW  1 Series M  2011  premium unleaded (required)      335.0  \\\n",
       "1  BMW    1 Series  2011  premium unleaded (required)      300.0   \n",
       "2  BMW    1 Series  2011  premium unleaded (required)      300.0   \n",
       "3  BMW    1 Series  2011  premium unleaded (required)      230.0   \n",
       "4  BMW    1 Series  2011  premium unleaded (required)      230.0   \n",
       "\n",
       "   engine_cylinders transmission_type     driven_wheels  number_of_doors   \n",
       "0               6.0            MANUAL  rear wheel drive              2.0  \\\n",
       "1               6.0            MANUAL  rear wheel drive              2.0   \n",
       "2               6.0            MANUAL  rear wheel drive              2.0   \n",
       "3               6.0            MANUAL  rear wheel drive              2.0   \n",
       "4               6.0            MANUAL  rear wheel drive              2.0   \n",
       "\n",
       "                         market_category vehicle_size vehicle_style   \n",
       "0  Factory Tuner,Luxury,High-Performance      Compact         Coupe  \\\n",
       "1                     Luxury,Performance      Compact   Convertible   \n",
       "2                Luxury,High-Performance      Compact         Coupe   \n",
       "3                     Luxury,Performance      Compact         Coupe   \n",
       "4                                 Luxury      Compact   Convertible   \n",
       "\n",
       "   highway_mpg  city_mpg  popularity   msrp  \n",
       "0           26        19        3916  46135  \n",
       "1           28        19        3916  40650  \n",
       "2           28        20        3916  36350  \n",
       "3           28        18        3916  29450  \n",
       "4           28        18        3916  34500  "
      ]
     },
     "execution_count": 7,
     "metadata": {},
     "output_type": "execute_result"
    }
   ],
   "source": [
    "df.head(5)"
   ]
  },
  {
   "cell_type": "code",
   "execution_count": 8,
   "id": "cc5b669b-8235-4977-b6bc-4398d8ae091d",
   "metadata": {
    "execution": {
     "iopub.execute_input": "2023-09-25T04:21:45.628713Z",
     "iopub.status.busy": "2023-09-25T04:21:45.628621Z",
     "iopub.status.idle": "2023-09-25T04:21:45.632625Z",
     "shell.execute_reply": "2023-09-25T04:21:45.632364Z",
     "shell.execute_reply.started": "2023-09-25T04:21:45.628704Z"
    },
    "tags": []
   },
   "outputs": [
    {
     "data": {
      "text/plain": [
       "['make',\n",
       " 'model',\n",
       " 'engine_fuel_type',\n",
       " 'transmission_type',\n",
       " 'driven_wheels',\n",
       " 'market_category',\n",
       " 'vehicle_size',\n",
       " 'vehicle_style']"
      ]
     },
     "execution_count": 8,
     "metadata": {},
     "output_type": "execute_result"
    }
   ],
   "source": [
    "string = list(df.dtypes[df.dtypes=='object'].index)\n",
    "string"
   ]
  },
  {
   "cell_type": "code",
   "execution_count": 9,
   "id": "c6412f57-e52f-43e1-94bd-8c38dbb606d2",
   "metadata": {
    "execution": {
     "iopub.execute_input": "2023-09-25T04:21:45.633216Z",
     "iopub.status.busy": "2023-09-25T04:21:45.633130Z",
     "iopub.status.idle": "2023-09-25T04:21:45.659355Z",
     "shell.execute_reply": "2023-09-25T04:21:45.659038Z",
     "shell.execute_reply.started": "2023-09-25T04:21:45.633207Z"
    },
    "tags": []
   },
   "outputs": [],
   "source": [
    "for col in string: \n",
    "    df[col] = df[col].str.lower().str.replace(' ','_')\n",
    "    "
   ]
  },
  {
   "cell_type": "code",
   "execution_count": 10,
   "id": "ec42cb8b-1bb6-448f-a4d2-824d8d2f79de",
   "metadata": {
    "execution": {
     "iopub.execute_input": "2023-09-25T04:21:45.659950Z",
     "iopub.status.busy": "2023-09-25T04:21:45.659849Z",
     "iopub.status.idle": "2023-09-25T04:21:45.666204Z",
     "shell.execute_reply": "2023-09-25T04:21:45.665913Z",
     "shell.execute_reply.started": "2023-09-25T04:21:45.659940Z"
    },
    "tags": []
   },
   "outputs": [
    {
     "data": {
      "text/html": [
       "<div>\n",
       "<style scoped>\n",
       "    .dataframe tbody tr th:only-of-type {\n",
       "        vertical-align: middle;\n",
       "    }\n",
       "\n",
       "    .dataframe tbody tr th {\n",
       "        vertical-align: top;\n",
       "    }\n",
       "\n",
       "    .dataframe thead th {\n",
       "        text-align: right;\n",
       "    }\n",
       "</style>\n",
       "<table border=\"1\" class=\"dataframe\">\n",
       "  <thead>\n",
       "    <tr style=\"text-align: right;\">\n",
       "      <th></th>\n",
       "      <th>make</th>\n",
       "      <th>model</th>\n",
       "      <th>year</th>\n",
       "      <th>engine_fuel_type</th>\n",
       "      <th>engine_hp</th>\n",
       "      <th>engine_cylinders</th>\n",
       "      <th>transmission_type</th>\n",
       "      <th>driven_wheels</th>\n",
       "      <th>number_of_doors</th>\n",
       "      <th>market_category</th>\n",
       "      <th>vehicle_size</th>\n",
       "      <th>vehicle_style</th>\n",
       "      <th>highway_mpg</th>\n",
       "      <th>city_mpg</th>\n",
       "      <th>popularity</th>\n",
       "      <th>msrp</th>\n",
       "    </tr>\n",
       "  </thead>\n",
       "  <tbody>\n",
       "    <tr>\n",
       "      <th>0</th>\n",
       "      <td>bmw</td>\n",
       "      <td>1_series_m</td>\n",
       "      <td>2011</td>\n",
       "      <td>premium_unleaded_(required)</td>\n",
       "      <td>335.0</td>\n",
       "      <td>6.0</td>\n",
       "      <td>manual</td>\n",
       "      <td>rear_wheel_drive</td>\n",
       "      <td>2.0</td>\n",
       "      <td>factory_tuner,luxury,high-performance</td>\n",
       "      <td>compact</td>\n",
       "      <td>coupe</td>\n",
       "      <td>26</td>\n",
       "      <td>19</td>\n",
       "      <td>3916</td>\n",
       "      <td>46135</td>\n",
       "    </tr>\n",
       "    <tr>\n",
       "      <th>1</th>\n",
       "      <td>bmw</td>\n",
       "      <td>1_series</td>\n",
       "      <td>2011</td>\n",
       "      <td>premium_unleaded_(required)</td>\n",
       "      <td>300.0</td>\n",
       "      <td>6.0</td>\n",
       "      <td>manual</td>\n",
       "      <td>rear_wheel_drive</td>\n",
       "      <td>2.0</td>\n",
       "      <td>luxury,performance</td>\n",
       "      <td>compact</td>\n",
       "      <td>convertible</td>\n",
       "      <td>28</td>\n",
       "      <td>19</td>\n",
       "      <td>3916</td>\n",
       "      <td>40650</td>\n",
       "    </tr>\n",
       "    <tr>\n",
       "      <th>2</th>\n",
       "      <td>bmw</td>\n",
       "      <td>1_series</td>\n",
       "      <td>2011</td>\n",
       "      <td>premium_unleaded_(required)</td>\n",
       "      <td>300.0</td>\n",
       "      <td>6.0</td>\n",
       "      <td>manual</td>\n",
       "      <td>rear_wheel_drive</td>\n",
       "      <td>2.0</td>\n",
       "      <td>luxury,high-performance</td>\n",
       "      <td>compact</td>\n",
       "      <td>coupe</td>\n",
       "      <td>28</td>\n",
       "      <td>20</td>\n",
       "      <td>3916</td>\n",
       "      <td>36350</td>\n",
       "    </tr>\n",
       "    <tr>\n",
       "      <th>3</th>\n",
       "      <td>bmw</td>\n",
       "      <td>1_series</td>\n",
       "      <td>2011</td>\n",
       "      <td>premium_unleaded_(required)</td>\n",
       "      <td>230.0</td>\n",
       "      <td>6.0</td>\n",
       "      <td>manual</td>\n",
       "      <td>rear_wheel_drive</td>\n",
       "      <td>2.0</td>\n",
       "      <td>luxury,performance</td>\n",
       "      <td>compact</td>\n",
       "      <td>coupe</td>\n",
       "      <td>28</td>\n",
       "      <td>18</td>\n",
       "      <td>3916</td>\n",
       "      <td>29450</td>\n",
       "    </tr>\n",
       "    <tr>\n",
       "      <th>4</th>\n",
       "      <td>bmw</td>\n",
       "      <td>1_series</td>\n",
       "      <td>2011</td>\n",
       "      <td>premium_unleaded_(required)</td>\n",
       "      <td>230.0</td>\n",
       "      <td>6.0</td>\n",
       "      <td>manual</td>\n",
       "      <td>rear_wheel_drive</td>\n",
       "      <td>2.0</td>\n",
       "      <td>luxury</td>\n",
       "      <td>compact</td>\n",
       "      <td>convertible</td>\n",
       "      <td>28</td>\n",
       "      <td>18</td>\n",
       "      <td>3916</td>\n",
       "      <td>34500</td>\n",
       "    </tr>\n",
       "  </tbody>\n",
       "</table>\n",
       "</div>"
      ],
      "text/plain": [
       "  make       model  year             engine_fuel_type  engine_hp   \n",
       "0  bmw  1_series_m  2011  premium_unleaded_(required)      335.0  \\\n",
       "1  bmw    1_series  2011  premium_unleaded_(required)      300.0   \n",
       "2  bmw    1_series  2011  premium_unleaded_(required)      300.0   \n",
       "3  bmw    1_series  2011  premium_unleaded_(required)      230.0   \n",
       "4  bmw    1_series  2011  premium_unleaded_(required)      230.0   \n",
       "\n",
       "   engine_cylinders transmission_type     driven_wheels  number_of_doors   \n",
       "0               6.0            manual  rear_wheel_drive              2.0  \\\n",
       "1               6.0            manual  rear_wheel_drive              2.0   \n",
       "2               6.0            manual  rear_wheel_drive              2.0   \n",
       "3               6.0            manual  rear_wheel_drive              2.0   \n",
       "4               6.0            manual  rear_wheel_drive              2.0   \n",
       "\n",
       "                         market_category vehicle_size vehicle_style   \n",
       "0  factory_tuner,luxury,high-performance      compact         coupe  \\\n",
       "1                     luxury,performance      compact   convertible   \n",
       "2                luxury,high-performance      compact         coupe   \n",
       "3                     luxury,performance      compact         coupe   \n",
       "4                                 luxury      compact   convertible   \n",
       "\n",
       "   highway_mpg  city_mpg  popularity   msrp  \n",
       "0           26        19        3916  46135  \n",
       "1           28        19        3916  40650  \n",
       "2           28        20        3916  36350  \n",
       "3           28        18        3916  29450  \n",
       "4           28        18        3916  34500  "
      ]
     },
     "execution_count": 10,
     "metadata": {},
     "output_type": "execute_result"
    }
   ],
   "source": [
    "df.head()"
   ]
  },
  {
   "cell_type": "code",
   "execution_count": 11,
   "id": "d8d1d871-f1c7-4265-9326-54e8a7f84794",
   "metadata": {
    "execution": {
     "iopub.execute_input": "2023-09-25T04:21:45.666736Z",
     "iopub.status.busy": "2023-09-25T04:21:45.666643Z",
     "iopub.status.idle": "2023-09-25T04:21:45.671541Z",
     "shell.execute_reply": "2023-09-25T04:21:45.670685Z",
     "shell.execute_reply.started": "2023-09-25T04:21:45.666726Z"
    },
    "tags": []
   },
   "outputs": [
    {
     "data": {
      "text/plain": [
       "make                  object\n",
       "model                 object\n",
       "year                   int64\n",
       "engine_fuel_type      object\n",
       "engine_hp            float64\n",
       "engine_cylinders     float64\n",
       "transmission_type     object\n",
       "driven_wheels         object\n",
       "number_of_doors      float64\n",
       "market_category       object\n",
       "vehicle_size          object\n",
       "vehicle_style         object\n",
       "highway_mpg            int64\n",
       "city_mpg               int64\n",
       "popularity             int64\n",
       "msrp                   int64\n",
       "dtype: object"
      ]
     },
     "execution_count": 11,
     "metadata": {},
     "output_type": "execute_result"
    }
   ],
   "source": [
    "df.dtypes"
   ]
  },
  {
   "cell_type": "markdown",
   "id": "56a13200-5ab5-42fd-85cc-9307d2a97571",
   "metadata": {},
   "source": [
    "### Exploratory Analysis"
   ]
  },
  {
   "cell_type": "code",
   "execution_count": 12,
   "id": "8597aeb0-2e1b-4634-907d-2cf9fe01a43c",
   "metadata": {
    "execution": {
     "iopub.execute_input": "2023-09-25T04:21:45.672311Z",
     "iopub.status.busy": "2023-09-25T04:21:45.672205Z",
     "iopub.status.idle": "2023-09-25T04:21:45.685097Z",
     "shell.execute_reply": "2023-09-25T04:21:45.684764Z",
     "shell.execute_reply.started": "2023-09-25T04:21:45.672301Z"
    },
    "tags": []
   },
   "outputs": [
    {
     "name": "stdout",
     "output_type": "stream",
     "text": [
      "make\n",
      "['bmw' 'audi' 'fiat' 'mercedes-benz' 'chrysler']\n",
      "48\n",
      "\n",
      "model\n",
      "['1_series_m' '1_series' '100' '124_spider' '190-class']\n",
      "914\n",
      "\n",
      "year\n",
      "[2011 2012 2013 1992 1993]\n",
      "28\n",
      "\n",
      "engine_fuel_type\n",
      "['premium_unleaded_(required)' 'regular_unleaded'\n",
      " 'premium_unleaded_(recommended)' 'flex-fuel_(unleaded/e85)' 'diesel']\n",
      "10\n",
      "\n",
      "engine_hp\n",
      "[335. 300. 230. 320. 172.]\n",
      "356\n",
      "\n",
      "engine_cylinders\n",
      "[ 6.  4.  5.  8. 12.]\n",
      "9\n",
      "\n",
      "transmission_type\n",
      "['manual' 'automatic' 'automated_manual' 'direct_drive' 'unknown']\n",
      "5\n",
      "\n",
      "driven_wheels\n",
      "['rear_wheel_drive' 'front_wheel_drive' 'all_wheel_drive'\n",
      " 'four_wheel_drive']\n",
      "4\n",
      "\n",
      "number_of_doors\n",
      "[ 2.  4.  3. nan]\n",
      "3\n",
      "\n",
      "market_category\n",
      "['factory_tuner,luxury,high-performance' 'luxury,performance'\n",
      " 'luxury,high-performance' 'luxury' 'performance']\n",
      "71\n",
      "\n",
      "vehicle_size\n",
      "['compact' 'midsize' 'large']\n",
      "3\n",
      "\n",
      "vehicle_style\n",
      "['coupe' 'convertible' 'sedan' 'wagon' '4dr_hatchback']\n",
      "16\n",
      "\n",
      "highway_mpg\n",
      "[26 28 27 25 24]\n",
      "59\n",
      "\n",
      "city_mpg\n",
      "[19 20 18 17 16]\n",
      "69\n",
      "\n",
      "popularity\n",
      "[3916 3105  819  617 1013]\n",
      "48\n",
      "\n",
      "msrp\n",
      "[46135 40650 36350 29450 34500]\n",
      "6049\n",
      "\n"
     ]
    }
   ],
   "source": [
    "for col in df.columns: \n",
    "    print(col)\n",
    "    print(df[col].unique()[:5])\n",
    "    print(df[col].nunique())\n",
    "    print()"
   ]
  },
  {
   "cell_type": "code",
   "execution_count": 13,
   "id": "312d4c0f-7955-4e41-bede-222c64de90cc",
   "metadata": {
    "execution": {
     "iopub.execute_input": "2023-09-25T04:21:45.685640Z",
     "iopub.status.busy": "2023-09-25T04:21:45.685546Z",
     "iopub.status.idle": "2023-09-25T04:21:46.186205Z",
     "shell.execute_reply": "2023-09-25T04:21:46.182491Z",
     "shell.execute_reply.started": "2023-09-25T04:21:45.685630Z"
    },
    "tags": []
   },
   "outputs": [],
   "source": [
    "import matplotlib as plt\n",
    "import seaborn as sns"
   ]
  },
  {
   "cell_type": "code",
   "execution_count": 14,
   "id": "d542eb2e-408f-45fe-a2f9-7bfcfcb87738",
   "metadata": {
    "execution": {
     "iopub.execute_input": "2023-09-25T04:21:46.186816Z",
     "iopub.status.busy": "2023-09-25T04:21:46.186671Z",
     "iopub.status.idle": "2023-09-25T04:21:46.193209Z",
     "shell.execute_reply": "2023-09-25T04:21:46.192933Z",
     "shell.execute_reply.started": "2023-09-25T04:21:46.186806Z"
    },
    "tags": []
   },
   "outputs": [],
   "source": [
    "%matplotlib inline"
   ]
  },
  {
   "cell_type": "code",
   "execution_count": 15,
   "id": "7b7d5304-095e-419f-bed5-f698d1fbfa1a",
   "metadata": {
    "execution": {
     "iopub.execute_input": "2023-09-25T04:21:46.193695Z",
     "iopub.status.busy": "2023-09-25T04:21:46.193598Z",
     "iopub.status.idle": "2023-09-25T04:21:46.310791Z",
     "shell.execute_reply": "2023-09-25T04:21:46.310018Z",
     "shell.execute_reply.started": "2023-09-25T04:21:46.193685Z"
    },
    "tags": []
   },
   "outputs": [
    {
     "data": {
      "text/plain": [
       "<Axes: xlabel='msrp', ylabel='Count'>"
      ]
     },
     "execution_count": 15,
     "metadata": {},
     "output_type": "execute_result"
    },
    {
     "data": {
      "image/png": "[encoded data removed]",
      "text/plain": [
       "<Figure size 640x480 with 1 Axes>"
      ]
     },
     "metadata": {},
     "output_type": "display_data"
    }
   ],
   "source": [
    "sns.histplot(df.msrp[df.msrp <= 100000], bins=50)"
   ]
  },
  {
   "cell_type": "code",
   "execution_count": 16,
   "id": "2f453058-34ed-41a5-b7e9-e8da30d67d9e",
   "metadata": {
    "execution": {
     "iopub.execute_input": "2023-09-25T04:21:46.311532Z",
     "iopub.status.busy": "2023-09-25T04:21:46.311432Z",
     "iopub.status.idle": "2023-09-25T04:21:46.319468Z",
     "shell.execute_reply": "2023-09-25T04:21:46.318336Z",
     "shell.execute_reply.started": "2023-09-25T04:21:46.311523Z"
    },
    "tags": []
   },
   "outputs": [
    {
     "data": {
      "text/plain": [
       "make                    0\n",
       "model                   0\n",
       "year                    0\n",
       "engine_fuel_type        3\n",
       "engine_hp              69\n",
       "engine_cylinders       30\n",
       "transmission_type       0\n",
       "driven_wheels           0\n",
       "number_of_doors         6\n",
       "market_category      3742\n",
       "vehicle_size            0\n",
       "vehicle_style           0\n",
       "highway_mpg             0\n",
       "city_mpg                0\n",
       "popularity              0\n",
       "msrp                    0\n",
       "dtype: int64"
      ]
     },
     "execution_count": 16,
     "metadata": {},
     "output_type": "execute_result"
    }
   ],
   "source": [
    "df.isnull().sum()"
   ]
  },
  {
   "cell_type": "code",
   "execution_count": 17,
   "id": "8bcb61ae-883c-4ef2-8556-c7dd1f9f990c",
   "metadata": {
    "execution": {
     "iopub.execute_input": "2023-09-25T04:21:46.320282Z",
     "iopub.status.busy": "2023-09-25T04:21:46.320046Z",
     "iopub.status.idle": "2023-09-25T04:21:46.323576Z",
     "shell.execute_reply": "2023-09-25T04:21:46.322770Z",
     "shell.execute_reply.started": "2023-09-25T04:21:46.320250Z"
    },
    "tags": []
   },
   "outputs": [],
   "source": [
    "price_logs = np.log1p(df.msrp)"
   ]
  },
  {
   "cell_type": "code",
   "execution_count": 18,
   "id": "b1ef45ff-23b9-4a5e-8c0a-89f37242c76a",
   "metadata": {
    "execution": {
     "iopub.execute_input": "2023-09-25T04:21:46.324412Z",
     "iopub.status.busy": "2023-09-25T04:21:46.324316Z",
     "iopub.status.idle": "2023-09-25T04:21:46.467293Z",
     "shell.execute_reply": "2023-09-25T04:21:46.466519Z",
     "shell.execute_reply.started": "2023-09-25T04:21:46.324403Z"
    },
    "tags": []
   },
   "outputs": [
    {
     "data": {
      "text/plain": [
       "<Axes: xlabel='msrp', ylabel='Count'>"
      ]
     },
     "execution_count": 18,
     "metadata": {},
     "output_type": "execute_result"
    },
    {
     "data": {
      "image/png": "[encoded data removed]",
      "text/plain": [
       "<Figure size 640x480 with 1 Axes>"
      ]
     },
     "metadata": {},
     "output_type": "display_data"
    }
   ],
   "source": [
    "sns.histplot(price_logs, bins=50)"
   ]
  },
  {
   "cell_type": "markdown",
   "id": "634d3fa6-1949-412f-a20d-abcd9f32d15f",
   "metadata": {},
   "source": [
    "### Setting up Validation Framework"
   ]
  },
  {
   "cell_type": "code",
   "execution_count": 19,
   "id": "55b60700-e3a9-4260-8821-52dbb8186ace",
   "metadata": {
    "execution": {
     "iopub.execute_input": "2023-09-25T04:21:46.468040Z",
     "iopub.status.busy": "2023-09-25T04:21:46.467937Z",
     "iopub.status.idle": "2023-09-25T04:21:46.471723Z",
     "shell.execute_reply": "2023-09-25T04:21:46.471011Z",
     "shell.execute_reply.started": "2023-09-25T04:21:46.468030Z"
    },
    "tags": []
   },
   "outputs": [],
   "source": [
    "int(len(df) * 0.20)\n",
    "np.random.seed(2)"
   ]
  },
  {
   "cell_type": "code",
   "execution_count": 20,
   "id": "f4421c92-3fb1-43e9-b291-d1154d501995",
   "metadata": {
    "execution": {
     "iopub.execute_input": "2023-09-25T04:21:46.472977Z",
     "iopub.status.busy": "2023-09-25T04:21:46.472713Z",
     "iopub.status.idle": "2023-09-25T04:21:46.476450Z",
     "shell.execute_reply": "2023-09-25T04:21:46.475745Z",
     "shell.execute_reply.started": "2023-09-25T04:21:46.472900Z"
    },
    "tags": []
   },
   "outputs": [],
   "source": [
    "n = len(df)\n",
    "n_val = int(n * 0.20)\n",
    "n_test = int(n * 0.20)\n",
    "n_train = n - n_val - n_test"
   ]
  },
  {
   "cell_type": "code",
   "execution_count": 21,
   "id": "457fc3e9-c1ad-4b8c-a4cc-15ee4f8f5483",
   "metadata": {
    "execution": {
     "iopub.execute_input": "2023-09-25T04:21:46.477637Z",
     "iopub.status.busy": "2023-09-25T04:21:46.477522Z",
     "iopub.status.idle": "2023-09-25T04:21:46.480557Z",
     "shell.execute_reply": "2023-09-25T04:21:46.479842Z",
     "shell.execute_reply.started": "2023-09-25T04:21:46.477627Z"
    },
    "tags": []
   },
   "outputs": [],
   "source": [
    "idx = np.arange(n)"
   ]
  },
  {
   "cell_type": "code",
   "execution_count": 22,
   "id": "1a3fd492-7b82-48c3-88ab-29fb35d162bb",
   "metadata": {
    "execution": {
     "iopub.execute_input": "2023-09-25T04:21:46.488831Z",
     "iopub.status.busy": "2023-09-25T04:21:46.488592Z",
     "iopub.status.idle": "2023-09-25T04:21:46.492894Z",
     "shell.execute_reply": "2023-09-25T04:21:46.491855Z",
     "shell.execute_reply.started": "2023-09-25T04:21:46.488817Z"
    },
    "tags": []
   },
   "outputs": [],
   "source": [
    "np.random.shuffle(idx)"
   ]
  },
  {
   "cell_type": "code",
   "execution_count": 23,
   "id": "00e4d76d-e299-4588-8c32-859d658dd651",
   "metadata": {
    "execution": {
     "iopub.execute_input": "2023-09-25T04:21:46.493464Z",
     "iopub.status.busy": "2023-09-25T04:21:46.493372Z",
     "iopub.status.idle": "2023-09-25T04:21:46.508976Z",
     "shell.execute_reply": "2023-09-25T04:21:46.508299Z",
     "shell.execute_reply.started": "2023-09-25T04:21:46.493455Z"
    },
    "tags": []
   },
   "outputs": [
    {
     "data": {
      "text/html": [
       "<div>\n",
       "<style scoped>\n",
       "    .dataframe tbody tr th:only-of-type {\n",
       "        vertical-align: middle;\n",
       "    }\n",
       "\n",
       "    .dataframe tbody tr th {\n",
       "        vertical-align: top;\n",
       "    }\n",
       "\n",
       "    .dataframe thead th {\n",
       "        text-align: right;\n",
       "    }\n",
       "</style>\n",
       "<table border=\"1\" class=\"dataframe\">\n",
       "  <thead>\n",
       "    <tr style=\"text-align: right;\">\n",
       "      <th></th>\n",
       "      <th>make</th>\n",
       "      <th>model</th>\n",
       "      <th>year</th>\n",
       "      <th>engine_fuel_type</th>\n",
       "      <th>engine_hp</th>\n",
       "      <th>engine_cylinders</th>\n",
       "      <th>transmission_type</th>\n",
       "      <th>driven_wheels</th>\n",
       "      <th>number_of_doors</th>\n",
       "      <th>market_category</th>\n",
       "      <th>vehicle_size</th>\n",
       "      <th>vehicle_style</th>\n",
       "      <th>highway_mpg</th>\n",
       "      <th>city_mpg</th>\n",
       "      <th>popularity</th>\n",
       "      <th>msrp</th>\n",
       "    </tr>\n",
       "  </thead>\n",
       "  <tbody>\n",
       "    <tr>\n",
       "      <th>2735</th>\n",
       "      <td>chevrolet</td>\n",
       "      <td>cobalt</td>\n",
       "      <td>2008</td>\n",
       "      <td>regular_unleaded</td>\n",
       "      <td>148.0</td>\n",
       "      <td>4.0</td>\n",
       "      <td>manual</td>\n",
       "      <td>front_wheel_drive</td>\n",
       "      <td>2.0</td>\n",
       "      <td>NaN</td>\n",
       "      <td>compact</td>\n",
       "      <td>coupe</td>\n",
       "      <td>33</td>\n",
       "      <td>24</td>\n",
       "      <td>1385</td>\n",
       "      <td>14410</td>\n",
       "    </tr>\n",
       "    <tr>\n",
       "      <th>6720</th>\n",
       "      <td>toyota</td>\n",
       "      <td>matrix</td>\n",
       "      <td>2012</td>\n",
       "      <td>regular_unleaded</td>\n",
       "      <td>132.0</td>\n",
       "      <td>4.0</td>\n",
       "      <td>automatic</td>\n",
       "      <td>front_wheel_drive</td>\n",
       "      <td>4.0</td>\n",
       "      <td>hatchback</td>\n",
       "      <td>compact</td>\n",
       "      <td>4dr_hatchback</td>\n",
       "      <td>32</td>\n",
       "      <td>25</td>\n",
       "      <td>2031</td>\n",
       "      <td>19685</td>\n",
       "    </tr>\n",
       "    <tr>\n",
       "      <th>5878</th>\n",
       "      <td>subaru</td>\n",
       "      <td>impreza</td>\n",
       "      <td>2016</td>\n",
       "      <td>regular_unleaded</td>\n",
       "      <td>148.0</td>\n",
       "      <td>4.0</td>\n",
       "      <td>automatic</td>\n",
       "      <td>all_wheel_drive</td>\n",
       "      <td>4.0</td>\n",
       "      <td>hatchback</td>\n",
       "      <td>compact</td>\n",
       "      <td>4dr_hatchback</td>\n",
       "      <td>37</td>\n",
       "      <td>28</td>\n",
       "      <td>640</td>\n",
       "      <td>19795</td>\n",
       "    </tr>\n",
       "    <tr>\n",
       "      <th>11190</th>\n",
       "      <td>volkswagen</td>\n",
       "      <td>vanagon</td>\n",
       "      <td>1991</td>\n",
       "      <td>regular_unleaded</td>\n",
       "      <td>90.0</td>\n",
       "      <td>4.0</td>\n",
       "      <td>manual</td>\n",
       "      <td>rear_wheel_drive</td>\n",
       "      <td>3.0</td>\n",
       "      <td>NaN</td>\n",
       "      <td>large</td>\n",
       "      <td>passenger_minivan</td>\n",
       "      <td>18</td>\n",
       "      <td>16</td>\n",
       "      <td>873</td>\n",
       "      <td>2000</td>\n",
       "    </tr>\n",
       "    <tr>\n",
       "      <th>4554</th>\n",
       "      <td>ford</td>\n",
       "      <td>f-150</td>\n",
       "      <td>2017</td>\n",
       "      <td>flex-fuel_(unleaded/e85)</td>\n",
       "      <td>385.0</td>\n",
       "      <td>8.0</td>\n",
       "      <td>automatic</td>\n",
       "      <td>four_wheel_drive</td>\n",
       "      <td>4.0</td>\n",
       "      <td>flex_fuel</td>\n",
       "      <td>large</td>\n",
       "      <td>crew_cab_pickup</td>\n",
       "      <td>21</td>\n",
       "      <td>15</td>\n",
       "      <td>5657</td>\n",
       "      <td>56260</td>\n",
       "    </tr>\n",
       "    <tr>\n",
       "      <th>...</th>\n",
       "      <td>...</td>\n",
       "      <td>...</td>\n",
       "      <td>...</td>\n",
       "      <td>...</td>\n",
       "      <td>...</td>\n",
       "      <td>...</td>\n",
       "      <td>...</td>\n",
       "      <td>...</td>\n",
       "      <td>...</td>\n",
       "      <td>...</td>\n",
       "      <td>...</td>\n",
       "      <td>...</td>\n",
       "      <td>...</td>\n",
       "      <td>...</td>\n",
       "      <td>...</td>\n",
       "      <td>...</td>\n",
       "    </tr>\n",
       "    <tr>\n",
       "      <th>2514</th>\n",
       "      <td>chevrolet</td>\n",
       "      <td>chevy_van</td>\n",
       "      <td>1998</td>\n",
       "      <td>regular_unleaded</td>\n",
       "      <td>200.0</td>\n",
       "      <td>6.0</td>\n",
       "      <td>automatic</td>\n",
       "      <td>rear_wheel_drive</td>\n",
       "      <td>3.0</td>\n",
       "      <td>NaN</td>\n",
       "      <td>midsize</td>\n",
       "      <td>cargo_van</td>\n",
       "      <td>18</td>\n",
       "      <td>13</td>\n",
       "      <td>1385</td>\n",
       "      <td>2052</td>\n",
       "    </tr>\n",
       "    <tr>\n",
       "      <th>11798</th>\n",
       "      <td>subaru</td>\n",
       "      <td>xv_crosstrek</td>\n",
       "      <td>2014</td>\n",
       "      <td>regular_unleaded</td>\n",
       "      <td>160.0</td>\n",
       "      <td>4.0</td>\n",
       "      <td>automatic</td>\n",
       "      <td>all_wheel_drive</td>\n",
       "      <td>4.0</td>\n",
       "      <td>crossover,hybrid</td>\n",
       "      <td>compact</td>\n",
       "      <td>4dr_suv</td>\n",
       "      <td>33</td>\n",
       "      <td>29</td>\n",
       "      <td>640</td>\n",
       "      <td>25995</td>\n",
       "    </tr>\n",
       "    <tr>\n",
       "      <th>6637</th>\n",
       "      <td>dodge</td>\n",
       "      <td>magnum</td>\n",
       "      <td>2006</td>\n",
       "      <td>regular_unleaded</td>\n",
       "      <td>250.0</td>\n",
       "      <td>6.0</td>\n",
       "      <td>automatic</td>\n",
       "      <td>all_wheel_drive</td>\n",
       "      <td>4.0</td>\n",
       "      <td>NaN</td>\n",
       "      <td>large</td>\n",
       "      <td>wagon</td>\n",
       "      <td>22</td>\n",
       "      <td>15</td>\n",
       "      <td>1851</td>\n",
       "      <td>29100</td>\n",
       "    </tr>\n",
       "    <tr>\n",
       "      <th>2575</th>\n",
       "      <td>honda</td>\n",
       "      <td>civic</td>\n",
       "      <td>2016</td>\n",
       "      <td>regular_unleaded</td>\n",
       "      <td>174.0</td>\n",
       "      <td>4.0</td>\n",
       "      <td>automatic</td>\n",
       "      <td>front_wheel_drive</td>\n",
       "      <td>4.0</td>\n",
       "      <td>NaN</td>\n",
       "      <td>midsize</td>\n",
       "      <td>sedan</td>\n",
       "      <td>42</td>\n",
       "      <td>31</td>\n",
       "      <td>2202</td>\n",
       "      <td>22200</td>\n",
       "    </tr>\n",
       "    <tr>\n",
       "      <th>7336</th>\n",
       "      <td>subaru</td>\n",
       "      <td>outback</td>\n",
       "      <td>2015</td>\n",
       "      <td>regular_unleaded</td>\n",
       "      <td>256.0</td>\n",
       "      <td>6.0</td>\n",
       "      <td>automatic</td>\n",
       "      <td>all_wheel_drive</td>\n",
       "      <td>4.0</td>\n",
       "      <td>crossover</td>\n",
       "      <td>midsize</td>\n",
       "      <td>4dr_suv</td>\n",
       "      <td>27</td>\n",
       "      <td>20</td>\n",
       "      <td>640</td>\n",
       "      <td>32995</td>\n",
       "    </tr>\n",
       "  </tbody>\n",
       "</table>\n",
       "<p>11914 rows × 16 columns</p>\n",
       "</div>"
      ],
      "text/plain": [
       "             make         model  year          engine_fuel_type  engine_hp   \n",
       "2735    chevrolet        cobalt  2008          regular_unleaded      148.0  \\\n",
       "6720       toyota        matrix  2012          regular_unleaded      132.0   \n",
       "5878       subaru       impreza  2016          regular_unleaded      148.0   \n",
       "11190  volkswagen       vanagon  1991          regular_unleaded       90.0   \n",
       "4554         ford         f-150  2017  flex-fuel_(unleaded/e85)      385.0   \n",
       "...           ...           ...   ...                       ...        ...   \n",
       "2514    chevrolet     chevy_van  1998          regular_unleaded      200.0   \n",
       "11798      subaru  xv_crosstrek  2014          regular_unleaded      160.0   \n",
       "6637        dodge        magnum  2006          regular_unleaded      250.0   \n",
       "2575        honda         civic  2016          regular_unleaded      174.0   \n",
       "7336       subaru       outback  2015          regular_unleaded      256.0   \n",
       "\n",
       "       engine_cylinders transmission_type      driven_wheels  number_of_doors   \n",
       "2735                4.0            manual  front_wheel_drive              2.0  \\\n",
       "6720                4.0         automatic  front_wheel_drive              4.0   \n",
       "5878                4.0         automatic    all_wheel_drive              4.0   \n",
       "11190               4.0            manual   rear_wheel_drive              3.0   \n",
       "4554                8.0         automatic   four_wheel_drive              4.0   \n",
       "...                 ...               ...                ...              ...   \n",
       "2514                6.0         automatic   rear_wheel_drive              3.0   \n",
       "11798               4.0         automatic    all_wheel_drive              4.0   \n",
       "6637                6.0         automatic    all_wheel_drive              4.0   \n",
       "2575                4.0         automatic  front_wheel_drive              4.0   \n",
       "7336                6.0         automatic    all_wheel_drive              4.0   \n",
       "\n",
       "        market_category vehicle_size      vehicle_style  highway_mpg   \n",
       "2735                NaN      compact              coupe           33  \\\n",
       "6720          hatchback      compact      4dr_hatchback           32   \n",
       "5878          hatchback      compact      4dr_hatchback           37   \n",
       "11190               NaN        large  passenger_minivan           18   \n",
       "4554          flex_fuel        large    crew_cab_pickup           21   \n",
       "...                 ...          ...                ...          ...   \n",
       "2514                NaN      midsize          cargo_van           18   \n",
       "11798  crossover,hybrid      compact            4dr_suv           33   \n",
       "6637                NaN        large              wagon           22   \n",
       "2575                NaN      midsize              sedan           42   \n",
       "7336          crossover      midsize            4dr_suv           27   \n",
       "\n",
       "       city_mpg  popularity   msrp  \n",
       "2735         24        1385  14410  \n",
       "6720         25        2031  19685  \n",
       "5878         28         640  19795  \n",
       "11190        16         873   2000  \n",
       "4554         15        5657  56260  \n",
       "...         ...         ...    ...  \n",
       "2514         13        1385   2052  \n",
       "11798        29         640  25995  \n",
       "6637         15        1851  29100  \n",
       "2575         31        2202  22200  \n",
       "7336         20         640  32995  \n",
       "\n",
       "[11914 rows x 16 columns]"
      ]
     },
     "execution_count": 23,
     "metadata": {},
     "output_type": "execute_result"
    }
   ],
   "source": [
    "df_shuffled = df.iloc[idx]\n",
    "df_shuffled"
   ]
  },
  {
   "cell_type": "code",
   "execution_count": 24,
   "id": "34c8decf-2fb4-413a-8dd2-878028c09dfb",
   "metadata": {
    "execution": {
     "iopub.execute_input": "2023-09-25T04:21:46.510437Z",
     "iopub.status.busy": "2023-09-25T04:21:46.510046Z",
     "iopub.status.idle": "2023-09-25T04:21:46.515647Z",
     "shell.execute_reply": "2023-09-25T04:21:46.515254Z",
     "shell.execute_reply.started": "2023-09-25T04:21:46.510423Z"
    },
    "tags": []
   },
   "outputs": [],
   "source": [
    "df_train = df_shuffled.iloc[:n_train].copy()\n",
    "df_val = df_shuffled.iloc[n_train:n_train+n_val].copy()\n",
    "df_test = df_shuffled.iloc[n_train+n_val:].copy()"
   ]
  },
  {
   "cell_type": "code",
   "execution_count": 25,
   "id": "274c654e-9ea1-41fa-b1d3-ea6b2e6f0c0d",
   "metadata": {
    "execution": {
     "iopub.execute_input": "2023-09-25T04:21:46.516258Z",
     "iopub.status.busy": "2023-09-25T04:21:46.516164Z",
     "iopub.status.idle": "2023-09-25T04:21:46.521232Z",
     "shell.execute_reply": "2023-09-25T04:21:46.520857Z",
     "shell.execute_reply.started": "2023-09-25T04:21:46.516248Z"
    },
    "tags": []
   },
   "outputs": [],
   "source": [
    "#drop the index col as it not really required\n",
    "df_train = df_train.reset_index(drop=True)\n",
    "df_val = df_val.reset_index(drop=True)\n",
    "df_test = df_test.reset_index(drop=True)"
   ]
  },
  {
   "cell_type": "code",
   "execution_count": 26,
   "id": "64ea9bb1-c38c-4d28-beea-cd9b9087a4af",
   "metadata": {
    "execution": {
     "iopub.execute_input": "2023-09-25T04:21:46.521875Z",
     "iopub.status.busy": "2023-09-25T04:21:46.521790Z",
     "iopub.status.idle": "2023-09-25T04:21:46.525682Z",
     "shell.execute_reply": "2023-09-25T04:21:46.524906Z",
     "shell.execute_reply.started": "2023-09-25T04:21:46.521866Z"
    },
    "tags": []
   },
   "outputs": [],
   "source": [
    "y_train_orig = df_train.msrp.values\n",
    "y_val_orig = df_val.msrp.values\n",
    "y_test_orig = df_test.msrp.values"
   ]
  },
  {
   "cell_type": "code",
   "execution_count": 27,
   "id": "b05ef955-74d7-403b-ad2c-831c4349f90b",
   "metadata": {
    "execution": {
     "iopub.execute_input": "2023-09-25T04:21:46.526664Z",
     "iopub.status.busy": "2023-09-25T04:21:46.526572Z",
     "iopub.status.idle": "2023-09-25T04:21:46.530642Z",
     "shell.execute_reply": "2023-09-25T04:21:46.530017Z",
     "shell.execute_reply.started": "2023-09-25T04:21:46.526654Z"
    },
    "tags": []
   },
   "outputs": [],
   "source": [
    "y_train = np.log1p(df_train.msrp.values)\n",
    "y_val = np.log1p( df_val.msrp.values)\n",
    "y_test = np.log1p(df_test.msrp.values)"
   ]
  },
  {
   "cell_type": "code",
   "execution_count": 28,
   "id": "fcd68530-3e00-4816-9be0-8e11b8981d9c",
   "metadata": {
    "execution": {
     "iopub.execute_input": "2023-09-25T04:21:46.531671Z",
     "iopub.status.busy": "2023-09-25T04:21:46.531564Z",
     "iopub.status.idle": "2023-09-25T04:21:46.535551Z",
     "shell.execute_reply": "2023-09-25T04:21:46.534424Z",
     "shell.execute_reply.started": "2023-09-25T04:21:46.531661Z"
    },
    "tags": []
   },
   "outputs": [],
   "source": [
    "del df_train['msrp']\n",
    "del df_val['msrp']\n",
    "del df_test['msrp']"
   ]
  },
  {
   "cell_type": "code",
   "execution_count": 29,
   "id": "d881c93c-be13-4b8f-8495-c7ff038ee6f8",
   "metadata": {
    "execution": {
     "iopub.execute_input": "2023-09-25T04:21:46.538971Z",
     "iopub.status.busy": "2023-09-25T04:21:46.537158Z",
     "iopub.status.idle": "2023-09-25T04:21:46.552319Z",
     "shell.execute_reply": "2023-09-25T04:21:46.551647Z",
     "shell.execute_reply.started": "2023-09-25T04:21:46.538863Z"
    },
    "tags": []
   },
   "outputs": [
    {
     "data": {
      "text/html": [
       "<div>\n",
       "<style scoped>\n",
       "    .dataframe tbody tr th:only-of-type {\n",
       "        vertical-align: middle;\n",
       "    }\n",
       "\n",
       "    .dataframe tbody tr th {\n",
       "        vertical-align: top;\n",
       "    }\n",
       "\n",
       "    .dataframe thead th {\n",
       "        text-align: right;\n",
       "    }\n",
       "</style>\n",
       "<table border=\"1\" class=\"dataframe\">\n",
       "  <thead>\n",
       "    <tr style=\"text-align: right;\">\n",
       "      <th></th>\n",
       "      <th>make</th>\n",
       "      <th>model</th>\n",
       "      <th>year</th>\n",
       "      <th>engine_fuel_type</th>\n",
       "      <th>engine_hp</th>\n",
       "      <th>engine_cylinders</th>\n",
       "      <th>transmission_type</th>\n",
       "      <th>driven_wheels</th>\n",
       "      <th>number_of_doors</th>\n",
       "      <th>market_category</th>\n",
       "      <th>vehicle_size</th>\n",
       "      <th>vehicle_style</th>\n",
       "      <th>highway_mpg</th>\n",
       "      <th>city_mpg</th>\n",
       "      <th>popularity</th>\n",
       "    </tr>\n",
       "  </thead>\n",
       "  <tbody>\n",
       "    <tr>\n",
       "      <th>0</th>\n",
       "      <td>chevrolet</td>\n",
       "      <td>cobalt</td>\n",
       "      <td>2008</td>\n",
       "      <td>regular_unleaded</td>\n",
       "      <td>148.0</td>\n",
       "      <td>4.0</td>\n",
       "      <td>manual</td>\n",
       "      <td>front_wheel_drive</td>\n",
       "      <td>2.0</td>\n",
       "      <td>NaN</td>\n",
       "      <td>compact</td>\n",
       "      <td>coupe</td>\n",
       "      <td>33</td>\n",
       "      <td>24</td>\n",
       "      <td>1385</td>\n",
       "    </tr>\n",
       "    <tr>\n",
       "      <th>1</th>\n",
       "      <td>toyota</td>\n",
       "      <td>matrix</td>\n",
       "      <td>2012</td>\n",
       "      <td>regular_unleaded</td>\n",
       "      <td>132.0</td>\n",
       "      <td>4.0</td>\n",
       "      <td>automatic</td>\n",
       "      <td>front_wheel_drive</td>\n",
       "      <td>4.0</td>\n",
       "      <td>hatchback</td>\n",
       "      <td>compact</td>\n",
       "      <td>4dr_hatchback</td>\n",
       "      <td>32</td>\n",
       "      <td>25</td>\n",
       "      <td>2031</td>\n",
       "    </tr>\n",
       "    <tr>\n",
       "      <th>2</th>\n",
       "      <td>subaru</td>\n",
       "      <td>impreza</td>\n",
       "      <td>2016</td>\n",
       "      <td>regular_unleaded</td>\n",
       "      <td>148.0</td>\n",
       "      <td>4.0</td>\n",
       "      <td>automatic</td>\n",
       "      <td>all_wheel_drive</td>\n",
       "      <td>4.0</td>\n",
       "      <td>hatchback</td>\n",
       "      <td>compact</td>\n",
       "      <td>4dr_hatchback</td>\n",
       "      <td>37</td>\n",
       "      <td>28</td>\n",
       "      <td>640</td>\n",
       "    </tr>\n",
       "    <tr>\n",
       "      <th>3</th>\n",
       "      <td>volkswagen</td>\n",
       "      <td>vanagon</td>\n",
       "      <td>1991</td>\n",
       "      <td>regular_unleaded</td>\n",
       "      <td>90.0</td>\n",
       "      <td>4.0</td>\n",
       "      <td>manual</td>\n",
       "      <td>rear_wheel_drive</td>\n",
       "      <td>3.0</td>\n",
       "      <td>NaN</td>\n",
       "      <td>large</td>\n",
       "      <td>passenger_minivan</td>\n",
       "      <td>18</td>\n",
       "      <td>16</td>\n",
       "      <td>873</td>\n",
       "    </tr>\n",
       "    <tr>\n",
       "      <th>4</th>\n",
       "      <td>ford</td>\n",
       "      <td>f-150</td>\n",
       "      <td>2017</td>\n",
       "      <td>flex-fuel_(unleaded/e85)</td>\n",
       "      <td>385.0</td>\n",
       "      <td>8.0</td>\n",
       "      <td>automatic</td>\n",
       "      <td>four_wheel_drive</td>\n",
       "      <td>4.0</td>\n",
       "      <td>flex_fuel</td>\n",
       "      <td>large</td>\n",
       "      <td>crew_cab_pickup</td>\n",
       "      <td>21</td>\n",
       "      <td>15</td>\n",
       "      <td>5657</td>\n",
       "    </tr>\n",
       "    <tr>\n",
       "      <th>...</th>\n",
       "      <td>...</td>\n",
       "      <td>...</td>\n",
       "      <td>...</td>\n",
       "      <td>...</td>\n",
       "      <td>...</td>\n",
       "      <td>...</td>\n",
       "      <td>...</td>\n",
       "      <td>...</td>\n",
       "      <td>...</td>\n",
       "      <td>...</td>\n",
       "      <td>...</td>\n",
       "      <td>...</td>\n",
       "      <td>...</td>\n",
       "      <td>...</td>\n",
       "      <td>...</td>\n",
       "    </tr>\n",
       "    <tr>\n",
       "      <th>7145</th>\n",
       "      <td>bmw</td>\n",
       "      <td>4_series</td>\n",
       "      <td>2015</td>\n",
       "      <td>premium_unleaded_(required)</td>\n",
       "      <td>300.0</td>\n",
       "      <td>6.0</td>\n",
       "      <td>automatic</td>\n",
       "      <td>rear_wheel_drive</td>\n",
       "      <td>2.0</td>\n",
       "      <td>luxury,performance</td>\n",
       "      <td>midsize</td>\n",
       "      <td>convertible</td>\n",
       "      <td>31</td>\n",
       "      <td>20</td>\n",
       "      <td>3916</td>\n",
       "    </tr>\n",
       "    <tr>\n",
       "      <th>7146</th>\n",
       "      <td>volkswagen</td>\n",
       "      <td>beetle</td>\n",
       "      <td>2015</td>\n",
       "      <td>premium_unleaded_(recommended)</td>\n",
       "      <td>210.0</td>\n",
       "      <td>4.0</td>\n",
       "      <td>automated_manual</td>\n",
       "      <td>front_wheel_drive</td>\n",
       "      <td>2.0</td>\n",
       "      <td>hatchback,performance</td>\n",
       "      <td>compact</td>\n",
       "      <td>2dr_hatchback</td>\n",
       "      <td>30</td>\n",
       "      <td>24</td>\n",
       "      <td>873</td>\n",
       "    </tr>\n",
       "    <tr>\n",
       "      <th>7147</th>\n",
       "      <td>gmc</td>\n",
       "      <td>sierra_1500</td>\n",
       "      <td>2015</td>\n",
       "      <td>flex-fuel_(unleaded/e85)</td>\n",
       "      <td>285.0</td>\n",
       "      <td>6.0</td>\n",
       "      <td>automatic</td>\n",
       "      <td>four_wheel_drive</td>\n",
       "      <td>4.0</td>\n",
       "      <td>flex_fuel</td>\n",
       "      <td>large</td>\n",
       "      <td>extended_cab_pickup</td>\n",
       "      <td>22</td>\n",
       "      <td>17</td>\n",
       "      <td>549</td>\n",
       "    </tr>\n",
       "    <tr>\n",
       "      <th>7148</th>\n",
       "      <td>rolls-royce</td>\n",
       "      <td>ghost</td>\n",
       "      <td>2014</td>\n",
       "      <td>premium_unleaded_(required)</td>\n",
       "      <td>563.0</td>\n",
       "      <td>12.0</td>\n",
       "      <td>automatic</td>\n",
       "      <td>rear_wheel_drive</td>\n",
       "      <td>4.0</td>\n",
       "      <td>exotic,luxury,performance</td>\n",
       "      <td>large</td>\n",
       "      <td>sedan</td>\n",
       "      <td>21</td>\n",
       "      <td>13</td>\n",
       "      <td>86</td>\n",
       "    </tr>\n",
       "    <tr>\n",
       "      <th>7149</th>\n",
       "      <td>volkswagen</td>\n",
       "      <td>cc</td>\n",
       "      <td>2017</td>\n",
       "      <td>premium_unleaded_(recommended)</td>\n",
       "      <td>200.0</td>\n",
       "      <td>4.0</td>\n",
       "      <td>automated_manual</td>\n",
       "      <td>front_wheel_drive</td>\n",
       "      <td>4.0</td>\n",
       "      <td>performance</td>\n",
       "      <td>midsize</td>\n",
       "      <td>sedan</td>\n",
       "      <td>31</td>\n",
       "      <td>22</td>\n",
       "      <td>873</td>\n",
       "    </tr>\n",
       "  </tbody>\n",
       "</table>\n",
       "<p>7150 rows × 15 columns</p>\n",
       "</div>"
      ],
      "text/plain": [
       "             make        model  year                engine_fuel_type   \n",
       "0       chevrolet       cobalt  2008                regular_unleaded  \\\n",
       "1          toyota       matrix  2012                regular_unleaded   \n",
       "2          subaru      impreza  2016                regular_unleaded   \n",
       "3      volkswagen      vanagon  1991                regular_unleaded   \n",
       "4            ford        f-150  2017        flex-fuel_(unleaded/e85)   \n",
       "...           ...          ...   ...                             ...   \n",
       "7145          bmw     4_series  2015     premium_unleaded_(required)   \n",
       "7146   volkswagen       beetle  2015  premium_unleaded_(recommended)   \n",
       "7147          gmc  sierra_1500  2015        flex-fuel_(unleaded/e85)   \n",
       "7148  rolls-royce        ghost  2014     premium_unleaded_(required)   \n",
       "7149   volkswagen           cc  2017  premium_unleaded_(recommended)   \n",
       "\n",
       "      engine_hp  engine_cylinders transmission_type      driven_wheels   \n",
       "0         148.0               4.0            manual  front_wheel_drive  \\\n",
       "1         132.0               4.0         automatic  front_wheel_drive   \n",
       "2         148.0               4.0         automatic    all_wheel_drive   \n",
       "3          90.0               4.0            manual   rear_wheel_drive   \n",
       "4         385.0               8.0         automatic   four_wheel_drive   \n",
       "...         ...               ...               ...                ...   \n",
       "7145      300.0               6.0         automatic   rear_wheel_drive   \n",
       "7146      210.0               4.0  automated_manual  front_wheel_drive   \n",
       "7147      285.0               6.0         automatic   four_wheel_drive   \n",
       "7148      563.0              12.0         automatic   rear_wheel_drive   \n",
       "7149      200.0               4.0  automated_manual  front_wheel_drive   \n",
       "\n",
       "      number_of_doors            market_category vehicle_size   \n",
       "0                 2.0                        NaN      compact  \\\n",
       "1                 4.0                  hatchback      compact   \n",
       "2                 4.0                  hatchback      compact   \n",
       "3                 3.0                        NaN        large   \n",
       "4                 4.0                  flex_fuel        large   \n",
       "...               ...                        ...          ...   \n",
       "7145              2.0         luxury,performance      midsize   \n",
       "7146              2.0      hatchback,performance      compact   \n",
       "7147              4.0                  flex_fuel        large   \n",
       "7148              4.0  exotic,luxury,performance        large   \n",
       "7149              4.0                performance      midsize   \n",
       "\n",
       "            vehicle_style  highway_mpg  city_mpg  popularity  \n",
       "0                   coupe           33        24        1385  \n",
       "1           4dr_hatchback           32        25        2031  \n",
       "2           4dr_hatchback           37        28         640  \n",
       "3       passenger_minivan           18        16         873  \n",
       "4         crew_cab_pickup           21        15        5657  \n",
       "...                   ...          ...       ...         ...  \n",
       "7145          convertible           31        20        3916  \n",
       "7146        2dr_hatchback           30        24         873  \n",
       "7147  extended_cab_pickup           22        17         549  \n",
       "7148                sedan           21        13          86  \n",
       "7149                sedan           31        22         873  \n",
       "\n",
       "[7150 rows x 15 columns]"
      ]
     },
     "execution_count": 29,
     "metadata": {},
     "output_type": "execute_result"
    }
   ],
   "source": [
    "df_train"
   ]
  },
  {
   "cell_type": "markdown",
   "id": "2c24c4a2-e7ba-49aa-89ad-dde3a5cd199c",
   "metadata": {},
   "source": [
    "## Linear Regression"
   ]
  },
  {
   "cell_type": "code",
   "execution_count": 30,
   "id": "8cb691cc-1988-4784-bf88-6c37da17495b",
   "metadata": {
    "execution": {
     "iopub.execute_input": "2023-09-25T04:21:46.554222Z",
     "iopub.status.busy": "2023-09-25T04:21:46.554070Z",
     "iopub.status.idle": "2023-09-25T04:21:46.560207Z",
     "shell.execute_reply": "2023-09-25T04:21:46.559432Z",
     "shell.execute_reply.started": "2023-09-25T04:21:46.554212Z"
    },
    "tags": []
   },
   "outputs": [
    {
     "data": {
      "text/plain": [
       "make                                 rolls-royce\n",
       "model                     phantom_drophead_coupe\n",
       "year                                        2015\n",
       "engine_fuel_type     premium_unleaded_(required)\n",
       "engine_hp                                  453.0\n",
       "engine_cylinders                            12.0\n",
       "transmission_type                      automatic\n",
       "driven_wheels                   rear_wheel_drive\n",
       "number_of_doors                              2.0\n",
       "market_category        exotic,luxury,performance\n",
       "vehicle_size                               large\n",
       "vehicle_style                        convertible\n",
       "highway_mpg                                   19\n",
       "city_mpg                                      11\n",
       "popularity                                    86\n",
       "Name: 10, dtype: object"
      ]
     },
     "execution_count": 30,
     "metadata": {},
     "output_type": "execute_result"
    }
   ],
   "source": [
    "df_train.loc[10]"
   ]
  },
  {
   "cell_type": "code",
   "execution_count": 31,
   "id": "4ba92456-2a92-439d-b56e-02886861c356",
   "metadata": {
    "execution": {
     "iopub.execute_input": "2023-09-25T04:21:46.561478Z",
     "iopub.status.busy": "2023-09-25T04:21:46.561365Z",
     "iopub.status.idle": "2023-09-25T04:21:46.564571Z",
     "shell.execute_reply": "2023-09-25T04:21:46.563938Z",
     "shell.execute_reply.started": "2023-09-25T04:21:46.561468Z"
    },
    "tags": []
   },
   "outputs": [],
   "source": [
    "xi = [453,11,86]"
   ]
  },
  {
   "cell_type": "code",
   "execution_count": 32,
   "id": "90379f56-a95d-4a3f-9e93-38c30fe2b03f",
   "metadata": {
    "execution": {
     "iopub.execute_input": "2023-09-25T04:21:46.566045Z",
     "iopub.status.busy": "2023-09-25T04:21:46.565906Z",
     "iopub.status.idle": "2023-09-25T04:21:46.569579Z",
     "shell.execute_reply": "2023-09-25T04:21:46.568891Z",
     "shell.execute_reply.started": "2023-09-25T04:21:46.566034Z"
    },
    "tags": []
   },
   "outputs": [],
   "source": [
    "w0 = 7.17  #bias \n",
    "w = [0.01,0.04,0.002] # weight"
   ]
  },
  {
   "cell_type": "code",
   "execution_count": 33,
   "id": "9799f98a-782a-49dd-8a3b-8dcca304b85f",
   "metadata": {
    "execution": {
     "iopub.execute_input": "2023-09-25T04:21:46.571704Z",
     "iopub.status.busy": "2023-09-25T04:21:46.571366Z",
     "iopub.status.idle": "2023-09-25T04:21:46.576851Z",
     "shell.execute_reply": "2023-09-25T04:21:46.575567Z",
     "shell.execute_reply.started": "2023-09-25T04:21:46.571692Z"
    },
    "tags": []
   },
   "outputs": [],
   "source": [
    "def linear_regression(xi):\n",
    "    n = len(xi)\n",
    "    pred = w0\n",
    "    for i in range(n):\n",
    "        pred = pred + w[i]* xi[i]\n",
    "    return pred"
   ]
  },
  {
   "cell_type": "code",
   "execution_count": 34,
   "id": "4887e71b-8e0c-41e2-9975-d399cf8f5bd1",
   "metadata": {
    "execution": {
     "iopub.execute_input": "2023-09-25T04:21:46.577845Z",
     "iopub.status.busy": "2023-09-25T04:21:46.577729Z",
     "iopub.status.idle": "2023-09-25T04:21:46.582520Z",
     "shell.execute_reply": "2023-09-25T04:21:46.581853Z",
     "shell.execute_reply.started": "2023-09-25T04:21:46.577834Z"
    },
    "tags": []
   },
   "outputs": [
    {
     "data": {
      "text/plain": [
       "12.312"
      ]
     },
     "execution_count": 34,
     "metadata": {},
     "output_type": "execute_result"
    }
   ],
   "source": [
    "linear_regression(xi)"
   ]
  },
  {
   "cell_type": "code",
   "execution_count": 35,
   "id": "67b28b73-4d11-49ec-8000-cd755663455d",
   "metadata": {
    "execution": {
     "iopub.execute_input": "2023-09-25T04:21:46.584220Z",
     "iopub.status.busy": "2023-09-25T04:21:46.583857Z",
     "iopub.status.idle": "2023-09-25T04:21:46.617902Z",
     "shell.execute_reply": "2023-09-25T04:21:46.616993Z",
     "shell.execute_reply.started": "2023-09-25T04:21:46.584185Z"
    },
    "tags": []
   },
   "outputs": [
    {
     "data": {
      "text/plain": [
       "222347.2221101062"
      ]
     },
     "execution_count": 35,
     "metadata": {},
     "output_type": "execute_result"
    }
   ],
   "source": [
    "np.expm1(12.312)"
   ]
  },
  {
   "cell_type": "markdown",
   "id": "03641483-077f-4042-85c0-cebd8fa7d875",
   "metadata": {},
   "source": [
    "### Linear Regression Vector Form"
   ]
  },
  {
   "cell_type": "code",
   "execution_count": 36,
   "id": "63d1466d-45e7-471d-a3ad-1c149d648981",
   "metadata": {
    "execution": {
     "iopub.execute_input": "2023-09-25T04:21:46.626174Z",
     "iopub.status.busy": "2023-09-25T04:21:46.621878Z",
     "iopub.status.idle": "2023-09-25T04:21:46.630066Z",
     "shell.execute_reply": "2023-09-25T04:21:46.629410Z",
     "shell.execute_reply.started": "2023-09-25T04:21:46.626093Z"
    },
    "tags": []
   },
   "outputs": [],
   "source": [
    "def dot(xi, w):\n",
    "    n = len(xi)\n",
    "    res = 0.0\n",
    "    \n",
    "    for i in range(n):\n",
    "        res += xi[i] * w[i]\n",
    "    return res"
   ]
  },
  {
   "cell_type": "code",
   "execution_count": 37,
   "id": "056ba938-8afe-4df3-8f27-f6923d29b0d2",
   "metadata": {
    "execution": {
     "iopub.execute_input": "2023-09-25T04:21:46.630863Z",
     "iopub.status.busy": "2023-09-25T04:21:46.630770Z",
     "iopub.status.idle": "2023-09-25T04:21:46.633906Z",
     "shell.execute_reply": "2023-09-25T04:21:46.633262Z",
     "shell.execute_reply.started": "2023-09-25T04:21:46.630853Z"
    },
    "tags": []
   },
   "outputs": [],
   "source": [
    "def linear_regression(xi):\n",
    "    return w0 + dot(xi, w)"
   ]
  },
  {
   "cell_type": "code",
   "execution_count": 38,
   "id": "a85a7d37-4e86-460f-b18e-2befdf49634e",
   "metadata": {
    "execution": {
     "iopub.execute_input": "2023-09-25T04:21:46.634748Z",
     "iopub.status.busy": "2023-09-25T04:21:46.634659Z",
     "iopub.status.idle": "2023-09-25T04:21:46.639007Z",
     "shell.execute_reply": "2023-09-25T04:21:46.638085Z",
     "shell.execute_reply.started": "2023-09-25T04:21:46.634739Z"
    },
    "tags": []
   },
   "outputs": [
    {
     "data": {
      "text/plain": [
       "12.312000000000001"
      ]
     },
     "execution_count": 38,
     "metadata": {},
     "output_type": "execute_result"
    }
   ],
   "source": [
    "linear_regression(xi)"
   ]
  },
  {
   "cell_type": "code",
   "execution_count": 39,
   "id": "ca59d56e-c8b1-4ff9-b0a7-f2509c4b942e",
   "metadata": {
    "execution": {
     "iopub.execute_input": "2023-09-25T04:21:46.640223Z",
     "iopub.status.busy": "2023-09-25T04:21:46.639872Z",
     "iopub.status.idle": "2023-09-25T04:21:46.642932Z",
     "shell.execute_reply": "2023-09-25T04:21:46.642304Z",
     "shell.execute_reply.started": "2023-09-25T04:21:46.640210Z"
    },
    "tags": []
   },
   "outputs": [],
   "source": [
    "# For more consistent pattern we could assume xi[0] = 1, w[0] = w0(bias)\n",
    "\n",
    "xi = [1] + xi\n",
    "w = [w0] + w"
   ]
  },
  {
   "cell_type": "code",
   "execution_count": 40,
   "id": "f4ecac70-acdb-40b1-94f6-015567086100",
   "metadata": {
    "execution": {
     "iopub.execute_input": "2023-09-25T04:21:46.644482Z",
     "iopub.status.busy": "2023-09-25T04:21:46.644368Z",
     "iopub.status.idle": "2023-09-25T04:21:46.647677Z",
     "shell.execute_reply": "2023-09-25T04:21:46.646946Z",
     "shell.execute_reply.started": "2023-09-25T04:21:46.644472Z"
    },
    "tags": []
   },
   "outputs": [],
   "source": [
    "def linear_regression(xi):\n",
    "    return dot(xi, w)"
   ]
  },
  {
   "cell_type": "code",
   "execution_count": 41,
   "id": "a3198718-3efa-435b-9079-482eec2312af",
   "metadata": {
    "execution": {
     "iopub.execute_input": "2023-09-25T04:21:46.649658Z",
     "iopub.status.busy": "2023-09-25T04:21:46.649524Z",
     "iopub.status.idle": "2023-09-25T04:21:46.655074Z",
     "shell.execute_reply": "2023-09-25T04:21:46.653833Z",
     "shell.execute_reply.started": "2023-09-25T04:21:46.649647Z"
    },
    "tags": []
   },
   "outputs": [
    {
     "data": {
      "text/plain": [
       "12.312"
      ]
     },
     "execution_count": 41,
     "metadata": {},
     "output_type": "execute_result"
    }
   ],
   "source": [
    "linear_regression(xi)"
   ]
  },
  {
   "cell_type": "markdown",
   "id": "64b6468a-293e-430e-8aae-292f267c1d21",
   "metadata": {},
   "source": [
    "## Training a Linear Regression Model"
   ]
  },
  {
   "cell_type": "code",
   "execution_count": 42,
   "id": "d48b2a45-bb76-4fbc-9e55-2c0281e983c9",
   "metadata": {
    "execution": {
     "iopub.execute_input": "2023-09-25T04:21:46.656236Z",
     "iopub.status.busy": "2023-09-25T04:21:46.656120Z",
     "iopub.status.idle": "2023-09-25T04:21:46.661042Z",
     "shell.execute_reply": "2023-09-25T04:21:46.660485Z",
     "shell.execute_reply.started": "2023-09-25T04:21:46.656224Z"
    },
    "tags": []
   },
   "outputs": [],
   "source": [
    "# w = inv(x).y \n",
    "# problem is sometimes inverse doesn't exist of the X\n",
    "# to remedy it we have GRAM Matrix transpose(X).X \n",
    "\n",
    "#  inv(trans(X).X) (trans(X).X) w = inv(tran(X).X). trans(X) y \n",
    "# or w = inv(tran(X).X). trans(X) y\n",
    "\n",
    "\n",
    "def train_linear_regression(X, y):\n",
    "    ones = np.ones(X.shape[0])\n",
    "    X = np.column_stack([ones, X])\n",
    "\n",
    "    XTX = X.T.dot(X) # grams matrix\n",
    "    XTX_inv = np.linalg.inv(XTX)\n",
    "    w = XTX_inv.dot(X.T).dot(y)\n",
    "    \n",
    "    return w[0], w[1:]"
   ]
  },
  {
   "cell_type": "markdown",
   "id": "ee092813-a86a-40d9-a453-e106a35b151a",
   "metadata": {},
   "source": [
    "## Car price baseline model"
   ]
  },
  {
   "cell_type": "code",
   "execution_count": 43,
   "id": "42691485-5d93-400c-b699-bb1f618c7173",
   "metadata": {
    "execution": {
     "iopub.execute_input": "2023-09-25T04:21:46.661783Z",
     "iopub.status.busy": "2023-09-25T04:21:46.661592Z",
     "iopub.status.idle": "2023-09-25T04:21:46.672739Z",
     "shell.execute_reply": "2023-09-25T04:21:46.672374Z",
     "shell.execute_reply.started": "2023-09-25T04:21:46.661769Z"
    },
    "tags": []
   },
   "outputs": [
    {
     "data": {
      "text/html": [
       "<div>\n",
       "<style scoped>\n",
       "    .dataframe tbody tr th:only-of-type {\n",
       "        vertical-align: middle;\n",
       "    }\n",
       "\n",
       "    .dataframe tbody tr th {\n",
       "        vertical-align: top;\n",
       "    }\n",
       "\n",
       "    .dataframe thead th {\n",
       "        text-align: right;\n",
       "    }\n",
       "</style>\n",
       "<table border=\"1\" class=\"dataframe\">\n",
       "  <thead>\n",
       "    <tr style=\"text-align: right;\">\n",
       "      <th></th>\n",
       "      <th>make</th>\n",
       "      <th>model</th>\n",
       "      <th>year</th>\n",
       "      <th>engine_fuel_type</th>\n",
       "      <th>engine_hp</th>\n",
       "      <th>engine_cylinders</th>\n",
       "      <th>transmission_type</th>\n",
       "      <th>driven_wheels</th>\n",
       "      <th>number_of_doors</th>\n",
       "      <th>market_category</th>\n",
       "      <th>vehicle_size</th>\n",
       "      <th>vehicle_style</th>\n",
       "      <th>highway_mpg</th>\n",
       "      <th>city_mpg</th>\n",
       "      <th>popularity</th>\n",
       "    </tr>\n",
       "  </thead>\n",
       "  <tbody>\n",
       "    <tr>\n",
       "      <th>0</th>\n",
       "      <td>chevrolet</td>\n",
       "      <td>cobalt</td>\n",
       "      <td>2008</td>\n",
       "      <td>regular_unleaded</td>\n",
       "      <td>148.0</td>\n",
       "      <td>4.0</td>\n",
       "      <td>manual</td>\n",
       "      <td>front_wheel_drive</td>\n",
       "      <td>2.0</td>\n",
       "      <td>NaN</td>\n",
       "      <td>compact</td>\n",
       "      <td>coupe</td>\n",
       "      <td>33</td>\n",
       "      <td>24</td>\n",
       "      <td>1385</td>\n",
       "    </tr>\n",
       "    <tr>\n",
       "      <th>1</th>\n",
       "      <td>toyota</td>\n",
       "      <td>matrix</td>\n",
       "      <td>2012</td>\n",
       "      <td>regular_unleaded</td>\n",
       "      <td>132.0</td>\n",
       "      <td>4.0</td>\n",
       "      <td>automatic</td>\n",
       "      <td>front_wheel_drive</td>\n",
       "      <td>4.0</td>\n",
       "      <td>hatchback</td>\n",
       "      <td>compact</td>\n",
       "      <td>4dr_hatchback</td>\n",
       "      <td>32</td>\n",
       "      <td>25</td>\n",
       "      <td>2031</td>\n",
       "    </tr>\n",
       "    <tr>\n",
       "      <th>2</th>\n",
       "      <td>subaru</td>\n",
       "      <td>impreza</td>\n",
       "      <td>2016</td>\n",
       "      <td>regular_unleaded</td>\n",
       "      <td>148.0</td>\n",
       "      <td>4.0</td>\n",
       "      <td>automatic</td>\n",
       "      <td>all_wheel_drive</td>\n",
       "      <td>4.0</td>\n",
       "      <td>hatchback</td>\n",
       "      <td>compact</td>\n",
       "      <td>4dr_hatchback</td>\n",
       "      <td>37</td>\n",
       "      <td>28</td>\n",
       "      <td>640</td>\n",
       "    </tr>\n",
       "    <tr>\n",
       "      <th>3</th>\n",
       "      <td>volkswagen</td>\n",
       "      <td>vanagon</td>\n",
       "      <td>1991</td>\n",
       "      <td>regular_unleaded</td>\n",
       "      <td>90.0</td>\n",
       "      <td>4.0</td>\n",
       "      <td>manual</td>\n",
       "      <td>rear_wheel_drive</td>\n",
       "      <td>3.0</td>\n",
       "      <td>NaN</td>\n",
       "      <td>large</td>\n",
       "      <td>passenger_minivan</td>\n",
       "      <td>18</td>\n",
       "      <td>16</td>\n",
       "      <td>873</td>\n",
       "    </tr>\n",
       "    <tr>\n",
       "      <th>4</th>\n",
       "      <td>ford</td>\n",
       "      <td>f-150</td>\n",
       "      <td>2017</td>\n",
       "      <td>flex-fuel_(unleaded/e85)</td>\n",
       "      <td>385.0</td>\n",
       "      <td>8.0</td>\n",
       "      <td>automatic</td>\n",
       "      <td>four_wheel_drive</td>\n",
       "      <td>4.0</td>\n",
       "      <td>flex_fuel</td>\n",
       "      <td>large</td>\n",
       "      <td>crew_cab_pickup</td>\n",
       "      <td>21</td>\n",
       "      <td>15</td>\n",
       "      <td>5657</td>\n",
       "    </tr>\n",
       "    <tr>\n",
       "      <th>...</th>\n",
       "      <td>...</td>\n",
       "      <td>...</td>\n",
       "      <td>...</td>\n",
       "      <td>...</td>\n",
       "      <td>...</td>\n",
       "      <td>...</td>\n",
       "      <td>...</td>\n",
       "      <td>...</td>\n",
       "      <td>...</td>\n",
       "      <td>...</td>\n",
       "      <td>...</td>\n",
       "      <td>...</td>\n",
       "      <td>...</td>\n",
       "      <td>...</td>\n",
       "      <td>...</td>\n",
       "    </tr>\n",
       "    <tr>\n",
       "      <th>7145</th>\n",
       "      <td>bmw</td>\n",
       "      <td>4_series</td>\n",
       "      <td>2015</td>\n",
       "      <td>premium_unleaded_(required)</td>\n",
       "      <td>300.0</td>\n",
       "      <td>6.0</td>\n",
       "      <td>automatic</td>\n",
       "      <td>rear_wheel_drive</td>\n",
       "      <td>2.0</td>\n",
       "      <td>luxury,performance</td>\n",
       "      <td>midsize</td>\n",
       "      <td>convertible</td>\n",
       "      <td>31</td>\n",
       "      <td>20</td>\n",
       "      <td>3916</td>\n",
       "    </tr>\n",
       "    <tr>\n",
       "      <th>7146</th>\n",
       "      <td>volkswagen</td>\n",
       "      <td>beetle</td>\n",
       "      <td>2015</td>\n",
       "      <td>premium_unleaded_(recommended)</td>\n",
       "      <td>210.0</td>\n",
       "      <td>4.0</td>\n",
       "      <td>automated_manual</td>\n",
       "      <td>front_wheel_drive</td>\n",
       "      <td>2.0</td>\n",
       "      <td>hatchback,performance</td>\n",
       "      <td>compact</td>\n",
       "      <td>2dr_hatchback</td>\n",
       "      <td>30</td>\n",
       "      <td>24</td>\n",
       "      <td>873</td>\n",
       "    </tr>\n",
       "    <tr>\n",
       "      <th>7147</th>\n",
       "      <td>gmc</td>\n",
       "      <td>sierra_1500</td>\n",
       "      <td>2015</td>\n",
       "      <td>flex-fuel_(unleaded/e85)</td>\n",
       "      <td>285.0</td>\n",
       "      <td>6.0</td>\n",
       "      <td>automatic</td>\n",
       "      <td>four_wheel_drive</td>\n",
       "      <td>4.0</td>\n",
       "      <td>flex_fuel</td>\n",
       "      <td>large</td>\n",
       "      <td>extended_cab_pickup</td>\n",
       "      <td>22</td>\n",
       "      <td>17</td>\n",
       "      <td>549</td>\n",
       "    </tr>\n",
       "    <tr>\n",
       "      <th>7148</th>\n",
       "      <td>rolls-royce</td>\n",
       "      <td>ghost</td>\n",
       "      <td>2014</td>\n",
       "      <td>premium_unleaded_(required)</td>\n",
       "      <td>563.0</td>\n",
       "      <td>12.0</td>\n",
       "      <td>automatic</td>\n",
       "      <td>rear_wheel_drive</td>\n",
       "      <td>4.0</td>\n",
       "      <td>exotic,luxury,performance</td>\n",
       "      <td>large</td>\n",
       "      <td>sedan</td>\n",
       "      <td>21</td>\n",
       "      <td>13</td>\n",
       "      <td>86</td>\n",
       "    </tr>\n",
       "    <tr>\n",
       "      <th>7149</th>\n",
       "      <td>volkswagen</td>\n",
       "      <td>cc</td>\n",
       "      <td>2017</td>\n",
       "      <td>premium_unleaded_(recommended)</td>\n",
       "      <td>200.0</td>\n",
       "      <td>4.0</td>\n",
       "      <td>automated_manual</td>\n",
       "      <td>front_wheel_drive</td>\n",
       "      <td>4.0</td>\n",
       "      <td>performance</td>\n",
       "      <td>midsize</td>\n",
       "      <td>sedan</td>\n",
       "      <td>31</td>\n",
       "      <td>22</td>\n",
       "      <td>873</td>\n",
       "    </tr>\n",
       "  </tbody>\n",
       "</table>\n",
       "<p>7150 rows × 15 columns</p>\n",
       "</div>"
      ],
      "text/plain": [
       "             make        model  year                engine_fuel_type   \n",
       "0       chevrolet       cobalt  2008                regular_unleaded  \\\n",
       "1          toyota       matrix  2012                regular_unleaded   \n",
       "2          subaru      impreza  2016                regular_unleaded   \n",
       "3      volkswagen      vanagon  1991                regular_unleaded   \n",
       "4            ford        f-150  2017        flex-fuel_(unleaded/e85)   \n",
       "...           ...          ...   ...                             ...   \n",
       "7145          bmw     4_series  2015     premium_unleaded_(required)   \n",
       "7146   volkswagen       beetle  2015  premium_unleaded_(recommended)   \n",
       "7147          gmc  sierra_1500  2015        flex-fuel_(unleaded/e85)   \n",
       "7148  rolls-royce        ghost  2014     premium_unleaded_(required)   \n",
       "7149   volkswagen           cc  2017  premium_unleaded_(recommended)   \n",
       "\n",
       "      engine_hp  engine_cylinders transmission_type      driven_wheels   \n",
       "0         148.0               4.0            manual  front_wheel_drive  \\\n",
       "1         132.0               4.0         automatic  front_wheel_drive   \n",
       "2         148.0               4.0         automatic    all_wheel_drive   \n",
       "3          90.0               4.0            manual   rear_wheel_drive   \n",
       "4         385.0               8.0         automatic   four_wheel_drive   \n",
       "...         ...               ...               ...                ...   \n",
       "7145      300.0               6.0         automatic   rear_wheel_drive   \n",
       "7146      210.0               4.0  automated_manual  front_wheel_drive   \n",
       "7147      285.0               6.0         automatic   four_wheel_drive   \n",
       "7148      563.0              12.0         automatic   rear_wheel_drive   \n",
       "7149      200.0               4.0  automated_manual  front_wheel_drive   \n",
       "\n",
       "      number_of_doors            market_category vehicle_size   \n",
       "0                 2.0                        NaN      compact  \\\n",
       "1                 4.0                  hatchback      compact   \n",
       "2                 4.0                  hatchback      compact   \n",
       "3                 3.0                        NaN        large   \n",
       "4                 4.0                  flex_fuel        large   \n",
       "...               ...                        ...          ...   \n",
       "7145              2.0         luxury,performance      midsize   \n",
       "7146              2.0      hatchback,performance      compact   \n",
       "7147              4.0                  flex_fuel        large   \n",
       "7148              4.0  exotic,luxury,performance        large   \n",
       "7149              4.0                performance      midsize   \n",
       "\n",
       "            vehicle_style  highway_mpg  city_mpg  popularity  \n",
       "0                   coupe           33        24        1385  \n",
       "1           4dr_hatchback           32        25        2031  \n",
       "2           4dr_hatchback           37        28         640  \n",
       "3       passenger_minivan           18        16         873  \n",
       "4         crew_cab_pickup           21        15        5657  \n",
       "...                   ...          ...       ...         ...  \n",
       "7145          convertible           31        20        3916  \n",
       "7146        2dr_hatchback           30        24         873  \n",
       "7147  extended_cab_pickup           22        17         549  \n",
       "7148                sedan           21        13          86  \n",
       "7149                sedan           31        22         873  \n",
       "\n",
       "[7150 rows x 15 columns]"
      ]
     },
     "execution_count": 43,
     "metadata": {},
     "output_type": "execute_result"
    }
   ],
   "source": [
    "df_train"
   ]
  },
  {
   "cell_type": "code",
   "execution_count": 44,
   "id": "4fb0d50f-1a61-484c-a877-fbcabdb57a71",
   "metadata": {
    "execution": {
     "iopub.execute_input": "2023-09-25T04:21:46.673290Z",
     "iopub.status.busy": "2023-09-25T04:21:46.673187Z",
     "iopub.status.idle": "2023-09-25T04:21:46.676988Z",
     "shell.execute_reply": "2023-09-25T04:21:46.676687Z",
     "shell.execute_reply.started": "2023-09-25T04:21:46.673279Z"
    },
    "tags": []
   },
   "outputs": [
    {
     "data": {
      "text/plain": [
       "make                  object\n",
       "model                 object\n",
       "year                   int64\n",
       "engine_fuel_type      object\n",
       "engine_hp            float64\n",
       "engine_cylinders     float64\n",
       "transmission_type     object\n",
       "driven_wheels         object\n",
       "number_of_doors      float64\n",
       "market_category       object\n",
       "vehicle_size          object\n",
       "vehicle_style         object\n",
       "highway_mpg            int64\n",
       "city_mpg               int64\n",
       "popularity             int64\n",
       "dtype: object"
      ]
     },
     "execution_count": 44,
     "metadata": {},
     "output_type": "execute_result"
    }
   ],
   "source": [
    "df_train.dtypes"
   ]
  },
  {
   "cell_type": "code",
   "execution_count": 45,
   "id": "15fc9ef9-eb0a-4d4e-991e-429b17835318",
   "metadata": {
    "execution": {
     "iopub.execute_input": "2023-09-25T04:21:46.677461Z",
     "iopub.status.busy": "2023-09-25T04:21:46.677367Z",
     "iopub.status.idle": "2023-09-25T04:21:46.679833Z",
     "shell.execute_reply": "2023-09-25T04:21:46.679484Z",
     "shell.execute_reply.started": "2023-09-25T04:21:46.677451Z"
    },
    "tags": []
   },
   "outputs": [],
   "source": [
    "base = ['engine_hp','engine_cylinders','highway_mpg','city_mpg','popularity']"
   ]
  },
  {
   "cell_type": "code",
   "execution_count": 46,
   "id": "69ea6d7b-fe4f-45da-ba0f-fbeb34fc09f6",
   "metadata": {
    "execution": {
     "iopub.execute_input": "2023-09-25T04:21:46.680460Z",
     "iopub.status.busy": "2023-09-25T04:21:46.680352Z",
     "iopub.status.idle": "2023-09-25T04:21:46.687653Z",
     "shell.execute_reply": "2023-09-25T04:21:46.687329Z",
     "shell.execute_reply.started": "2023-09-25T04:21:46.680450Z"
    },
    "tags": []
   },
   "outputs": [
    {
     "data": {
      "text/html": [
       "<div>\n",
       "<style scoped>\n",
       "    .dataframe tbody tr th:only-of-type {\n",
       "        vertical-align: middle;\n",
       "    }\n",
       "\n",
       "    .dataframe tbody tr th {\n",
       "        vertical-align: top;\n",
       "    }\n",
       "\n",
       "    .dataframe thead th {\n",
       "        text-align: right;\n",
       "    }\n",
       "</style>\n",
       "<table border=\"1\" class=\"dataframe\">\n",
       "  <thead>\n",
       "    <tr style=\"text-align: right;\">\n",
       "      <th></th>\n",
       "      <th>engine_hp</th>\n",
       "      <th>engine_cylinders</th>\n",
       "      <th>highway_mpg</th>\n",
       "      <th>city_mpg</th>\n",
       "      <th>popularity</th>\n",
       "    </tr>\n",
       "  </thead>\n",
       "  <tbody>\n",
       "    <tr>\n",
       "      <th>0</th>\n",
       "      <td>148.0</td>\n",
       "      <td>4.0</td>\n",
       "      <td>33</td>\n",
       "      <td>24</td>\n",
       "      <td>1385</td>\n",
       "    </tr>\n",
       "    <tr>\n",
       "      <th>1</th>\n",
       "      <td>132.0</td>\n",
       "      <td>4.0</td>\n",
       "      <td>32</td>\n",
       "      <td>25</td>\n",
       "      <td>2031</td>\n",
       "    </tr>\n",
       "    <tr>\n",
       "      <th>2</th>\n",
       "      <td>148.0</td>\n",
       "      <td>4.0</td>\n",
       "      <td>37</td>\n",
       "      <td>28</td>\n",
       "      <td>640</td>\n",
       "    </tr>\n",
       "    <tr>\n",
       "      <th>3</th>\n",
       "      <td>90.0</td>\n",
       "      <td>4.0</td>\n",
       "      <td>18</td>\n",
       "      <td>16</td>\n",
       "      <td>873</td>\n",
       "    </tr>\n",
       "    <tr>\n",
       "      <th>4</th>\n",
       "      <td>385.0</td>\n",
       "      <td>8.0</td>\n",
       "      <td>21</td>\n",
       "      <td>15</td>\n",
       "      <td>5657</td>\n",
       "    </tr>\n",
       "    <tr>\n",
       "      <th>...</th>\n",
       "      <td>...</td>\n",
       "      <td>...</td>\n",
       "      <td>...</td>\n",
       "      <td>...</td>\n",
       "      <td>...</td>\n",
       "    </tr>\n",
       "    <tr>\n",
       "      <th>7145</th>\n",
       "      <td>300.0</td>\n",
       "      <td>6.0</td>\n",
       "      <td>31</td>\n",
       "      <td>20</td>\n",
       "      <td>3916</td>\n",
       "    </tr>\n",
       "    <tr>\n",
       "      <th>7146</th>\n",
       "      <td>210.0</td>\n",
       "      <td>4.0</td>\n",
       "      <td>30</td>\n",
       "      <td>24</td>\n",
       "      <td>873</td>\n",
       "    </tr>\n",
       "    <tr>\n",
       "      <th>7147</th>\n",
       "      <td>285.0</td>\n",
       "      <td>6.0</td>\n",
       "      <td>22</td>\n",
       "      <td>17</td>\n",
       "      <td>549</td>\n",
       "    </tr>\n",
       "    <tr>\n",
       "      <th>7148</th>\n",
       "      <td>563.0</td>\n",
       "      <td>12.0</td>\n",
       "      <td>21</td>\n",
       "      <td>13</td>\n",
       "      <td>86</td>\n",
       "    </tr>\n",
       "    <tr>\n",
       "      <th>7149</th>\n",
       "      <td>200.0</td>\n",
       "      <td>4.0</td>\n",
       "      <td>31</td>\n",
       "      <td>22</td>\n",
       "      <td>873</td>\n",
       "    </tr>\n",
       "  </tbody>\n",
       "</table>\n",
       "<p>7150 rows × 5 columns</p>\n",
       "</div>"
      ],
      "text/plain": [
       "      engine_hp  engine_cylinders  highway_mpg  city_mpg  popularity\n",
       "0         148.0               4.0           33        24        1385\n",
       "1         132.0               4.0           32        25        2031\n",
       "2         148.0               4.0           37        28         640\n",
       "3          90.0               4.0           18        16         873\n",
       "4         385.0               8.0           21        15        5657\n",
       "...         ...               ...          ...       ...         ...\n",
       "7145      300.0               6.0           31        20        3916\n",
       "7146      210.0               4.0           30        24         873\n",
       "7147      285.0               6.0           22        17         549\n",
       "7148      563.0              12.0           21        13          86\n",
       "7149      200.0               4.0           31        22         873\n",
       "\n",
       "[7150 rows x 5 columns]"
      ]
     },
     "execution_count": 46,
     "metadata": {},
     "output_type": "execute_result"
    }
   ],
   "source": [
    "X_train = df_train[base]\n",
    "X_train"
   ]
  },
  {
   "cell_type": "code",
   "execution_count": 47,
   "id": "699be3e7-eec3-4520-99b5-61b7a7123e05",
   "metadata": {
    "execution": {
     "iopub.execute_input": "2023-09-25T04:21:46.688447Z",
     "iopub.status.busy": "2023-09-25T04:21:46.688292Z",
     "iopub.status.idle": "2023-09-25T04:21:46.692381Z",
     "shell.execute_reply": "2023-09-25T04:21:46.691553Z",
     "shell.execute_reply.started": "2023-09-25T04:21:46.688434Z"
    },
    "tags": []
   },
   "outputs": [
    {
     "data": {
      "text/plain": [
       "engine_hp           40\n",
       "engine_cylinders    14\n",
       "highway_mpg          0\n",
       "city_mpg             0\n",
       "popularity           0\n",
       "dtype: int64"
      ]
     },
     "execution_count": 47,
     "metadata": {},
     "output_type": "execute_result"
    }
   ],
   "source": [
    "X_train.isnull().sum()"
   ]
  },
  {
   "cell_type": "code",
   "execution_count": 48,
   "id": "ca5171ee-b5ce-4354-8bac-942dc7846388",
   "metadata": {
    "execution": {
     "iopub.execute_input": "2023-09-25T04:21:46.692984Z",
     "iopub.status.busy": "2023-09-25T04:21:46.692872Z",
     "iopub.status.idle": "2023-09-25T04:21:46.695685Z",
     "shell.execute_reply": "2023-09-25T04:21:46.695347Z",
     "shell.execute_reply.started": "2023-09-25T04:21:46.692968Z"
    },
    "tags": []
   },
   "outputs": [],
   "source": [
    "X_train = X_train.fillna(0)"
   ]
  },
  {
   "cell_type": "code",
   "execution_count": 49,
   "id": "6b9c269c-a839-40a1-be01-4546fe7fe9d7",
   "metadata": {
    "execution": {
     "iopub.execute_input": "2023-09-25T04:21:46.696499Z",
     "iopub.status.busy": "2023-09-25T04:21:46.696395Z",
     "iopub.status.idle": "2023-09-25T04:21:46.701584Z",
     "shell.execute_reply": "2023-09-25T04:21:46.701317Z",
     "shell.execute_reply.started": "2023-09-25T04:21:46.696489Z"
    },
    "tags": []
   },
   "outputs": [
    {
     "data": {
      "text/plain": [
       "engine_hp           0\n",
       "engine_cylinders    0\n",
       "highway_mpg         0\n",
       "city_mpg            0\n",
       "popularity          0\n",
       "dtype: int64"
      ]
     },
     "execution_count": 49,
     "metadata": {},
     "output_type": "execute_result"
    }
   ],
   "source": [
    "X_train.isnull().sum()"
   ]
  },
  {
   "cell_type": "code",
   "execution_count": 50,
   "id": "b780e93a-d955-4f66-af3e-d20d58854553",
   "metadata": {
    "execution": {
     "iopub.execute_input": "2023-09-25T04:21:46.702634Z",
     "iopub.status.busy": "2023-09-25T04:21:46.702458Z",
     "iopub.status.idle": "2023-09-25T04:21:46.707744Z",
     "shell.execute_reply": "2023-09-25T04:21:46.706971Z",
     "shell.execute_reply.started": "2023-09-25T04:21:46.702621Z"
    },
    "tags": []
   },
   "outputs": [],
   "source": [
    "w0, w = train_linear_regression(X_train, y_train)"
   ]
  },
  {
   "cell_type": "code",
   "execution_count": 51,
   "id": "5daf2c11-0d7d-4b47-8b1a-e6191dadda2f",
   "metadata": {
    "execution": {
     "iopub.execute_input": "2023-09-25T04:21:46.710253Z",
     "iopub.status.busy": "2023-09-25T04:21:46.708935Z",
     "iopub.status.idle": "2023-09-25T04:21:46.715939Z",
     "shell.execute_reply": "2023-09-25T04:21:46.715221Z",
     "shell.execute_reply.started": "2023-09-25T04:21:46.710217Z"
    },
    "tags": []
   },
   "outputs": [
    {
     "data": {
      "text/plain": [
       "array([ 9.70589522e-03, -1.59103494e-01,  1.43792133e-02,  1.49441072e-02,\n",
       "       -9.06908672e-06])"
      ]
     },
     "execution_count": 51,
     "metadata": {},
     "output_type": "execute_result"
    }
   ],
   "source": [
    "w"
   ]
  },
  {
   "cell_type": "code",
   "execution_count": 52,
   "id": "f4113f55-4ee3-45ad-b322-d1caf3b2ce1c",
   "metadata": {
    "execution": {
     "iopub.execute_input": "2023-09-25T04:21:46.717495Z",
     "iopub.status.busy": "2023-09-25T04:21:46.717152Z",
     "iopub.status.idle": "2023-09-25T04:21:46.768130Z",
     "shell.execute_reply": "2023-09-25T04:21:46.753822Z",
     "shell.execute_reply.started": "2023-09-25T04:21:46.717471Z"
    },
    "tags": []
   },
   "outputs": [],
   "source": [
    "y_pred = w0 + X_train.dot(w)"
   ]
  },
  {
   "cell_type": "code",
   "execution_count": 53,
   "id": "a686d56b-b768-4d40-bc21-2b2c9a6841be",
   "metadata": {
    "execution": {
     "iopub.execute_input": "2023-09-25T04:21:46.771958Z",
     "iopub.status.busy": "2023-09-25T04:21:46.770505Z",
     "iopub.status.idle": "2023-09-25T04:21:46.992338Z",
     "shell.execute_reply": "2023-09-25T04:21:46.991621Z",
     "shell.execute_reply.started": "2023-09-25T04:21:46.771942Z"
    },
    "tags": []
   },
   "outputs": [
    {
     "data": {
      "text/plain": [
       "<Axes: ylabel='Count'>"
      ]
     },
     "execution_count": 53,
     "metadata": {},
     "output_type": "execute_result"
    },
    {
     "data": {
      "image/png": "[encoded data removed]",
      "text/plain": [
       "<Figure size 640x480 with 1 Axes>"
      ]
     },
     "metadata": {},
     "output_type": "display_data"
    }
   ],
   "source": [
    "sns.histplot(y_pred, color='red' , bins=50)\n",
    "sns.histplot(y_train, color='blue', bins=50)"
   ]
  },
  {
   "cell_type": "markdown",
   "id": "82498f5d-95aa-4274-8072-17eb56fa7893",
   "metadata": {},
   "source": [
    "## RMSE (Root Mean Square Error)"
   ]
  },
  {
   "cell_type": "code",
   "execution_count": 54,
   "id": "77e72353-c5a1-4625-aebb-c7cc347dae91",
   "metadata": {
    "execution": {
     "iopub.execute_input": "2023-09-25T04:21:46.994105Z",
     "iopub.status.busy": "2023-09-25T04:21:46.993698Z",
     "iopub.status.idle": "2023-09-25T04:21:46.997218Z",
     "shell.execute_reply": "2023-09-25T04:21:46.996481Z",
     "shell.execute_reply.started": "2023-09-25T04:21:46.994093Z"
    },
    "tags": []
   },
   "outputs": [],
   "source": [
    "def rmse(y, y_pred):\n",
    "    error = y - y_pred\n",
    "    se = error ** 2\n",
    "    mse = se.mean()\n",
    "    rmse = np.sqrt(mse)\n",
    "    return rmse"
   ]
  },
  {
   "cell_type": "code",
   "execution_count": 55,
   "id": "04930b0e-5cdc-4eb8-88b7-a06671117712",
   "metadata": {
    "execution": {
     "iopub.execute_input": "2023-09-25T04:21:46.998447Z",
     "iopub.status.busy": "2023-09-25T04:21:46.998163Z",
     "iopub.status.idle": "2023-09-25T04:21:47.003815Z",
     "shell.execute_reply": "2023-09-25T04:21:47.002860Z",
     "shell.execute_reply.started": "2023-09-25T04:21:46.998386Z"
    },
    "tags": []
   },
   "outputs": [
    {
     "data": {
      "text/plain": [
       "0.7554192603920132"
      ]
     },
     "execution_count": 55,
     "metadata": {},
     "output_type": "execute_result"
    }
   ],
   "source": [
    "rmse(y_train, y_pred)"
   ]
  },
  {
   "cell_type": "markdown",
   "id": "32293890-c05a-4218-bf9d-2434fbe71d7b",
   "metadata": {},
   "source": [
    "## Validating the model "
   ]
  },
  {
   "cell_type": "code",
   "execution_count": 56,
   "id": "66cbdbd7-fe45-4c2a-9a39-7a22d78310e4",
   "metadata": {
    "execution": {
     "iopub.execute_input": "2023-09-25T04:21:47.005913Z",
     "iopub.status.busy": "2023-09-25T04:21:47.005629Z",
     "iopub.status.idle": "2023-09-25T04:21:47.010208Z",
     "shell.execute_reply": "2023-09-25T04:21:47.009018Z",
     "shell.execute_reply.started": "2023-09-25T04:21:47.005897Z"
    },
    "tags": []
   },
   "outputs": [],
   "source": [
    "base = ['engine_hp','engine_cylinders','highway_mpg','city_mpg','popularity']\n",
    "\n",
    "def prepare_X(df):\n",
    "    df_num = df[base]\n",
    "    df_num = df_num.fillna(0)\n",
    "    X = df_num.values\n",
    "    return X"
   ]
  },
  {
   "cell_type": "code",
   "execution_count": 57,
   "id": "4929cf46-0b2a-4eb0-8db6-72c1f246eb20",
   "metadata": {
    "execution": {
     "iopub.execute_input": "2023-09-25T04:21:47.012268Z",
     "iopub.status.busy": "2023-09-25T04:21:47.011906Z",
     "iopub.status.idle": "2023-09-25T04:21:47.017412Z",
     "shell.execute_reply": "2023-09-25T04:21:47.016643Z",
     "shell.execute_reply.started": "2023-09-25T04:21:47.012256Z"
    },
    "tags": []
   },
   "outputs": [],
   "source": [
    "# training the model\n",
    "X_train = prepare_X(df_train)\n",
    "w0, w = train_linear_regression(X_train, y_train)"
   ]
  },
  {
   "cell_type": "code",
   "execution_count": 58,
   "id": "77eebccf-3c8d-410a-ac97-cf9f91c16936",
   "metadata": {
    "execution": {
     "iopub.execute_input": "2023-09-25T04:21:47.019205Z",
     "iopub.status.busy": "2023-09-25T04:21:47.018844Z",
     "iopub.status.idle": "2023-09-25T04:21:47.063947Z",
     "shell.execute_reply": "2023-09-25T04:21:47.063042Z",
     "shell.execute_reply.started": "2023-09-25T04:21:47.019176Z"
    },
    "tags": []
   },
   "outputs": [],
   "source": [
    "# applying the model on validation dataset\n",
    "X_val = prepare_X(df_val)\n",
    "y_pred = w0  + X_val.dot(w)"
   ]
  },
  {
   "cell_type": "code",
   "execution_count": 59,
   "id": "298e7a09-12e2-4035-bed0-e7eac0140ec3",
   "metadata": {
    "execution": {
     "iopub.execute_input": "2023-09-25T04:21:47.077558Z",
     "iopub.status.busy": "2023-09-25T04:21:47.073672Z",
     "iopub.status.idle": "2023-09-25T04:21:47.110111Z",
     "shell.execute_reply": "2023-09-25T04:21:47.101859Z",
     "shell.execute_reply.started": "2023-09-25T04:21:47.077520Z"
    },
    "tags": []
   },
   "outputs": [
    {
     "data": {
      "text/plain": [
       "0.7616530991301608"
      ]
     },
     "execution_count": 59,
     "metadata": {},
     "output_type": "execute_result"
    }
   ],
   "source": [
    "#check the error\n",
    "rmse(y_pred, y_val)"
   ]
  },
  {
   "cell_type": "markdown",
   "id": "2a82e995-8953-4af3-a1fb-c4d0fbfe039b",
   "metadata": {},
   "source": [
    "## Simple feature engineering"
   ]
  },
  {
   "cell_type": "code",
   "execution_count": 60,
   "id": "a3d8faf5-2744-4296-9280-26eb0b6709e3",
   "metadata": {
    "execution": {
     "iopub.execute_input": "2023-09-25T04:21:47.111421Z",
     "iopub.status.busy": "2023-09-25T04:21:47.111165Z",
     "iopub.status.idle": "2023-09-25T04:21:47.132362Z",
     "shell.execute_reply": "2023-09-25T04:21:47.130575Z",
     "shell.execute_reply.started": "2023-09-25T04:21:47.111397Z"
    },
    "tags": []
   },
   "outputs": [],
   "source": [
    "#so idea is age of the car is biggest factor in it's price, so let's get the age"
   ]
  },
  {
   "cell_type": "code",
   "execution_count": 61,
   "id": "74069147-9751-4f2c-961b-4d9c8976c71c",
   "metadata": {
    "execution": {
     "iopub.execute_input": "2023-09-25T04:21:47.133714Z",
     "iopub.status.busy": "2023-09-25T04:21:47.133591Z",
     "iopub.status.idle": "2023-09-25T04:21:47.142716Z",
     "shell.execute_reply": "2023-09-25T04:21:47.141087Z",
     "shell.execute_reply.started": "2023-09-25T04:21:47.133704Z"
    },
    "tags": []
   },
   "outputs": [],
   "source": [
    "def prepare_X(df):\n",
    "    df = df.copy()\n",
    "    df['age'] = df.year.max() - df.year\n",
    "    features = base + ['age']\n",
    "    df_num = df[features]\n",
    "    df_num = df_num.fillna(0)\n",
    "    X = df_num.values\n",
    "    return X"
   ]
  },
  {
   "cell_type": "code",
   "execution_count": 62,
   "id": "8dcff7c0-f9a2-4d70-90af-5077410f02fb",
   "metadata": {
    "execution": {
     "iopub.execute_input": "2023-09-25T04:21:47.144686Z",
     "iopub.status.busy": "2023-09-25T04:21:47.144232Z",
     "iopub.status.idle": "2023-09-25T04:21:47.165878Z",
     "shell.execute_reply": "2023-09-25T04:21:47.164581Z",
     "shell.execute_reply.started": "2023-09-25T04:21:47.144671Z"
    },
    "tags": []
   },
   "outputs": [],
   "source": [
    "# training the model\n",
    "X_train = prepare_X(df_train)\n",
    "w0, w = train_linear_regression(X_train, y_train)"
   ]
  },
  {
   "cell_type": "code",
   "execution_count": 63,
   "id": "8402aa17-c317-4c62-9404-9958e3f1ec83",
   "metadata": {
    "execution": {
     "iopub.execute_input": "2023-09-25T04:21:47.173044Z",
     "iopub.status.busy": "2023-09-25T04:21:47.172648Z",
     "iopub.status.idle": "2023-09-25T04:21:47.182830Z",
     "shell.execute_reply": "2023-09-25T04:21:47.181843Z",
     "shell.execute_reply.started": "2023-09-25T04:21:47.173014Z"
    },
    "tags": []
   },
   "outputs": [],
   "source": [
    "# applying the model on validation dataset\n",
    "X_val = prepare_X(df_val)\n",
    "y_pred = w0  + X_val.dot(w)"
   ]
  },
  {
   "cell_type": "code",
   "execution_count": 64,
   "id": "1b3a56ad-8670-4720-8c6c-fd0b9f86be62",
   "metadata": {
    "execution": {
     "iopub.execute_input": "2023-09-25T04:21:47.184778Z",
     "iopub.status.busy": "2023-09-25T04:21:47.184057Z",
     "iopub.status.idle": "2023-09-25T04:21:47.192347Z",
     "shell.execute_reply": "2023-09-25T04:21:47.190940Z",
     "shell.execute_reply.started": "2023-09-25T04:21:47.184743Z"
    },
    "tags": []
   },
   "outputs": [
    {
     "data": {
      "text/plain": [
       "0.5172055461058325"
      ]
     },
     "execution_count": 64,
     "metadata": {},
     "output_type": "execute_result"
    }
   ],
   "source": [
    "#check the error\n",
    "rmse(y_pred, y_val)"
   ]
  },
  {
   "cell_type": "code",
   "execution_count": 65,
   "id": "155686ac-a770-4495-a918-23a27b26e1e9",
   "metadata": {
    "execution": {
     "iopub.execute_input": "2023-09-25T04:21:47.195006Z",
     "iopub.status.busy": "2023-09-25T04:21:47.194213Z",
     "iopub.status.idle": "2023-09-25T04:21:47.432648Z",
     "shell.execute_reply": "2023-09-25T04:21:47.431824Z",
     "shell.execute_reply.started": "2023-09-25T04:21:47.194978Z"
    },
    "tags": []
   },
   "outputs": [
    {
     "data": {
      "text/plain": [
       "<Axes: ylabel='Count'>"
      ]
     },
     "execution_count": 65,
     "metadata": {},
     "output_type": "execute_result"
    },
    {
     "data": {
      "image/png": "[encoded data removed]",
      "text/plain": [
       "<Figure size 640x480 with 1 Axes>"
      ]
     },
     "metadata": {},
     "output_type": "display_data"
    }
   ],
   "source": [
    "sns.histplot(y_pred, color='red' , bins=50)\n",
    "sns.histplot(y_val, color='blue', bins=50)"
   ]
  },
  {
   "cell_type": "markdown",
   "id": "fbc0a26e-b3da-4eb5-bf57-b290ed94d8e2",
   "metadata": {},
   "source": [
    "## Cateogrical Values"
   ]
  },
  {
   "cell_type": "code",
   "execution_count": 66,
   "id": "2dae95dc-ceb2-4a0e-9553-6e125a1797f7",
   "metadata": {
    "execution": {
     "iopub.execute_input": "2023-09-25T04:21:47.447298Z",
     "iopub.status.busy": "2023-09-25T04:21:47.447115Z",
     "iopub.status.idle": "2023-09-25T04:21:47.450991Z",
     "shell.execute_reply": "2023-09-25T04:21:47.449860Z",
     "shell.execute_reply.started": "2023-09-25T04:21:47.447287Z"
    },
    "tags": []
   },
   "outputs": [],
   "source": [
    "def prepare_X(df):\n",
    "    df = df.copy()\n",
    "    features = base.copy()\n",
    "    \n",
    "    df['age'] = df.year.max() - df.year\n",
    "    features.append('age')\n",
    "    \n",
    "    df_num = df[features]\n",
    "    df_num = df_num.fillna(0)\n",
    "    X = df_num.values\n",
    "    return X"
   ]
  },
  {
   "cell_type": "code",
   "execution_count": 67,
   "id": "5df9157e-39b1-42c9-9022-a9e3bcad9607",
   "metadata": {
    "execution": {
     "iopub.execute_input": "2023-09-25T04:21:47.461229Z",
     "iopub.status.busy": "2023-09-25T04:21:47.461072Z",
     "iopub.status.idle": "2023-09-25T04:21:47.465787Z",
     "shell.execute_reply": "2023-09-25T04:21:47.465302Z",
     "shell.execute_reply.started": "2023-09-25T04:21:47.461218Z"
    },
    "tags": []
   },
   "outputs": [
    {
     "data": {
      "text/plain": [
       "['chevrolet', 'ford', 'volkswagen', 'toyota', 'dodge']"
      ]
     },
     "execution_count": 67,
     "metadata": {},
     "output_type": "execute_result"
    }
   ],
   "source": [
    "list(df.make.value_counts().head().index)"
   ]
  },
  {
   "cell_type": "code",
   "execution_count": 68,
   "id": "747f7b5f-d80c-4219-947a-d91a537d4a5f",
   "metadata": {
    "execution": {
     "iopub.execute_input": "2023-09-25T04:21:47.466475Z",
     "iopub.status.busy": "2023-09-25T04:21:47.466386Z",
     "iopub.status.idle": "2023-09-25T04:21:47.471153Z",
     "shell.execute_reply": "2023-09-25T04:21:47.469933Z",
     "shell.execute_reply.started": "2023-09-25T04:21:47.466466Z"
    },
    "tags": []
   },
   "outputs": [
    {
     "data": {
      "text/plain": [
       "make                  object\n",
       "model                 object\n",
       "year                   int64\n",
       "engine_fuel_type      object\n",
       "engine_hp            float64\n",
       "engine_cylinders     float64\n",
       "transmission_type     object\n",
       "driven_wheels         object\n",
       "number_of_doors      float64\n",
       "market_category       object\n",
       "vehicle_size          object\n",
       "vehicle_style         object\n",
       "highway_mpg            int64\n",
       "city_mpg               int64\n",
       "popularity             int64\n",
       "msrp                   int64\n",
       "dtype: object"
      ]
     },
     "execution_count": 68,
     "metadata": {},
     "output_type": "execute_result"
    }
   ],
   "source": [
    "df.dtypes"
   ]
  },
  {
   "cell_type": "code",
   "execution_count": 69,
   "id": "203612af-7da8-4725-8a8d-2a3ee5191b32",
   "metadata": {
    "execution": {
     "iopub.execute_input": "2023-09-25T04:21:47.472780Z",
     "iopub.status.busy": "2023-09-25T04:21:47.472647Z",
     "iopub.status.idle": "2023-09-25T04:21:47.476177Z",
     "shell.execute_reply": "2023-09-25T04:21:47.475383Z",
     "shell.execute_reply.started": "2023-09-25T04:21:47.472770Z"
    },
    "tags": []
   },
   "outputs": [],
   "source": [
    "# cateogrical_values =  list(df.dtypes[df.dtypes == 'object'].index)\n",
    "# cateogrical_values.append('number_of_doors')\n",
    "\n",
    "cateogrical_values = ['make', 'engine_fuel_type', 'transmission_type', 'driven_wheels', 'market_category', 'vehicle_size', 'vehicle_style','number_of_doors' ] "
   ]
  },
  {
   "cell_type": "code",
   "execution_count": 70,
   "id": "2ec693dc-b61d-4271-8937-72b9f46f7f70",
   "metadata": {
    "execution": {
     "iopub.execute_input": "2023-09-25T04:21:47.477918Z",
     "iopub.status.busy": "2023-09-25T04:21:47.477196Z",
     "iopub.status.idle": "2023-09-25T04:21:47.489840Z",
     "shell.execute_reply": "2023-09-25T04:21:47.489018Z",
     "shell.execute_reply.started": "2023-09-25T04:21:47.477875Z"
    },
    "tags": []
   },
   "outputs": [],
   "source": [
    "cateogries = {}\n",
    "\n",
    "for c in cateogrical_values: \n",
    "    cateogries[c] = list(df[c].value_counts().head().index)\n",
    "\n",
    "cateogries['number_of_doors'] = [int(x) for x in (cateogries['number_of_doors'])]"
   ]
  },
  {
   "cell_type": "code",
   "execution_count": 71,
   "id": "fec01a3f-f7b3-4140-9ad8-75e50b0e6bd6",
   "metadata": {
    "execution": {
     "iopub.execute_input": "2023-09-25T04:21:47.491035Z",
     "iopub.status.busy": "2023-09-25T04:21:47.490935Z",
     "iopub.status.idle": "2023-09-25T04:21:47.496324Z",
     "shell.execute_reply": "2023-09-25T04:21:47.495412Z",
     "shell.execute_reply.started": "2023-09-25T04:21:47.491025Z"
    },
    "tags": []
   },
   "outputs": [
    {
     "data": {
      "text/plain": [
       "{'make': ['chevrolet', 'ford', 'volkswagen', 'toyota', 'dodge'],\n",
       " 'engine_fuel_type': ['regular_unleaded',\n",
       "  'premium_unleaded_(required)',\n",
       "  'premium_unleaded_(recommended)',\n",
       "  'flex-fuel_(unleaded/e85)',\n",
       "  'diesel'],\n",
       " 'transmission_type': ['automatic',\n",
       "  'manual',\n",
       "  'automated_manual',\n",
       "  'direct_drive',\n",
       "  'unknown'],\n",
       " 'driven_wheels': ['front_wheel_drive',\n",
       "  'rear_wheel_drive',\n",
       "  'all_wheel_drive',\n",
       "  'four_wheel_drive'],\n",
       " 'market_category': ['crossover',\n",
       "  'flex_fuel',\n",
       "  'luxury',\n",
       "  'luxury,performance',\n",
       "  'hatchback'],\n",
       " 'vehicle_size': ['compact', 'midsize', 'large'],\n",
       " 'vehicle_style': ['sedan',\n",
       "  '4dr_suv',\n",
       "  'coupe',\n",
       "  'convertible',\n",
       "  '4dr_hatchback'],\n",
       " 'number_of_doors': [4, 2, 3]}"
      ]
     },
     "execution_count": 71,
     "metadata": {},
     "output_type": "execute_result"
    }
   ],
   "source": [
    "cateogries"
   ]
  },
  {
   "cell_type": "code",
   "execution_count": 72,
   "id": "17553c4c-48a1-4abf-b806-be46799a5f0c",
   "metadata": {
    "execution": {
     "iopub.execute_input": "2023-09-25T04:21:47.498147Z",
     "iopub.status.busy": "2023-09-25T04:21:47.498007Z",
     "iopub.status.idle": "2023-09-25T04:21:47.504972Z",
     "shell.execute_reply": "2023-09-25T04:21:47.504094Z",
     "shell.execute_reply.started": "2023-09-25T04:21:47.498135Z"
    },
    "tags": []
   },
   "outputs": [],
   "source": [
    "def prepare_X(df):\n",
    "    df = df.copy()\n",
    "    features = base.copy()\n",
    "    \n",
    "    df['age'] = df.year.max() - df.year\n",
    "    features.append('age')\n",
    "    \n",
    "    for c, values in cateogries.items():\n",
    "        for v in values: \n",
    "            df['%s_%s' % (c, v)] = (df[c] == v).astype(int)\n",
    "            features.append('%s_%s' % (c, v))\n",
    "    # print(features) \n",
    "    df_num = df[features]\n",
    "    df_num = df_num.fillna(0)\n",
    "    X = df_num.values\n",
    "    return X"
   ]
  },
  {
   "cell_type": "code",
   "execution_count": 73,
   "id": "49c45b04-d19c-4fa2-b8c3-9c53248ede61",
   "metadata": {
    "execution": {
     "iopub.execute_input": "2023-09-25T04:21:47.505623Z",
     "iopub.status.busy": "2023-09-25T04:21:47.505520Z",
     "iopub.status.idle": "2023-09-25T04:21:47.534706Z",
     "shell.execute_reply": "2023-09-25T04:21:47.533603Z",
     "shell.execute_reply.started": "2023-09-25T04:21:47.505613Z"
    },
    "tags": []
   },
   "outputs": [],
   "source": [
    "# training the model\n",
    "X_train = prepare_X(df_train)\n",
    "w0, w = train_linear_regression(X_train, y_train)"
   ]
  },
  {
   "cell_type": "code",
   "execution_count": 74,
   "id": "a8280647-02ad-42a2-9553-ea5290019f90",
   "metadata": {
    "execution": {
     "iopub.execute_input": "2023-09-25T04:21:47.538937Z",
     "iopub.status.busy": "2023-09-25T04:21:47.535955Z",
     "iopub.status.idle": "2023-09-25T04:21:47.585588Z",
     "shell.execute_reply": "2023-09-25T04:21:47.584104Z",
     "shell.execute_reply.started": "2023-09-25T04:21:47.538880Z"
    },
    "tags": []
   },
   "outputs": [],
   "source": [
    "# applying the model on validation dataset\n",
    "X_val = prepare_X(df_val)\n",
    "y_pred = w0  + X_val.dot(w)"
   ]
  },
  {
   "cell_type": "code",
   "execution_count": 75,
   "id": "12355892-11cf-497d-a289-59ec9f24bc4b",
   "metadata": {
    "execution": {
     "iopub.execute_input": "2023-09-25T04:21:47.592925Z",
     "iopub.status.busy": "2023-09-25T04:21:47.589817Z",
     "iopub.status.idle": "2023-09-25T04:21:47.615802Z",
     "shell.execute_reply": "2023-09-25T04:21:47.610868Z",
     "shell.execute_reply.started": "2023-09-25T04:21:47.592886Z"
    },
    "tags": []
   },
   "outputs": [
    {
     "data": {
      "text/plain": [
       "124.88519689912196"
      ]
     },
     "execution_count": 75,
     "metadata": {},
     "output_type": "execute_result"
    }
   ],
   "source": [
    "#check the error\n",
    "rmse(y_val, y_pred)"
   ]
  },
  {
   "cell_type": "code",
   "execution_count": 76,
   "id": "4ed346de-f49c-457d-8a76-0924b0a562ad",
   "metadata": {
    "execution": {
     "iopub.execute_input": "2023-09-25T04:21:47.626800Z",
     "iopub.status.busy": "2023-09-25T04:21:47.618977Z",
     "iopub.status.idle": "2023-09-25T04:21:47.632072Z",
     "shell.execute_reply": "2023-09-25T04:21:47.631418Z",
     "shell.execute_reply.started": "2023-09-25T04:21:47.626760Z"
    },
    "tags": []
   },
   "outputs": [
    {
     "data": {
      "text/plain": [
       "-2.423065273102114e+16"
      ]
     },
     "execution_count": 76,
     "metadata": {},
     "output_type": "execute_result"
    }
   ],
   "source": [
    "w0"
   ]
  },
  {
   "cell_type": "markdown",
   "id": "5d9ef76a-411b-4000-b3c3-a24982c3c7ab",
   "metadata": {},
   "source": [
    "## Regularisation"
   ]
  },
  {
   "cell_type": "markdown",
   "id": "e6a3a4e9-9479-4652-9a6b-0a14db2fcd38",
   "metadata": {},
   "source": [
    "So we are tyring to find the inverse of X.TX, but it doesn't always exists, example when \n",
    "one column is linear combination of other, so to mitigate it we add a small number to the main diagonal of the matrix, which will make it different enough , so that we can have inverse possible."
   ]
  },
  {
   "cell_type": "markdown",
   "id": "18946989-0d5a-4e5b-9c21-5e14b17fee4b",
   "metadata": {
    "tags": []
   },
   "source": [
    "In previous example also the same thing happened, though they differ by very small number like .0000001 it doesn't produce singular matrix error, but the idea is same it is very large and means wrong too. "
   ]
  },
  {
   "cell_type": "code",
   "execution_count": 77,
   "id": "7fcd56ae-f456-46e0-afda-e58914a9d7e7",
   "metadata": {
    "execution": {
     "iopub.execute_input": "2023-09-25T04:21:47.633840Z",
     "iopub.status.busy": "2023-09-25T04:21:47.633331Z",
     "iopub.status.idle": "2023-09-25T04:21:47.638940Z",
     "shell.execute_reply": "2023-09-25T04:21:47.637981Z",
     "shell.execute_reply.started": "2023-09-25T04:21:47.633817Z"
    },
    "tags": []
   },
   "outputs": [],
   "source": [
    "def train_linear_regression_regularistaion(X, y, r=0.01):\n",
    "    ones = np.ones(X.shape[0])\n",
    "    X = np.column_stack([ones, X])\n",
    "\n",
    "    XTX = X.T.dot(X) # grams matrix\n",
    "    XTX = XTX + r*np.eye(XTX.shape[0])\n",
    "    \n",
    "    XTX_inv = np.linalg.inv(XTX)\n",
    "    w = XTX_inv.dot(X.T).dot(y)\n",
    "    \n",
    "    return w[0], w[1:]"
   ]
  },
  {
   "cell_type": "code",
   "execution_count": 78,
   "id": "931640e6-a71b-46a3-a954-a26f2bcda2f4",
   "metadata": {
    "execution": {
     "iopub.execute_input": "2023-09-25T04:21:47.640742Z",
     "iopub.status.busy": "2023-09-25T04:21:47.640412Z",
     "iopub.status.idle": "2023-09-25T04:21:47.682030Z",
     "shell.execute_reply": "2023-09-25T04:21:47.681278Z",
     "shell.execute_reply.started": "2023-09-25T04:21:47.640727Z"
    },
    "tags": []
   },
   "outputs": [],
   "source": [
    "# training the model\n",
    "X_train = prepare_X(df_train)\n",
    "w0, w = train_linear_regression_regularistaion(X_train, y_train)"
   ]
  },
  {
   "cell_type": "code",
   "execution_count": 79,
   "id": "a0711d14-e7bd-4025-a5fe-c919d8d67fa6",
   "metadata": {
    "execution": {
     "iopub.execute_input": "2023-09-25T04:21:47.683810Z",
     "iopub.status.busy": "2023-09-25T04:21:47.683172Z",
     "iopub.status.idle": "2023-09-25T04:21:47.701075Z",
     "shell.execute_reply": "2023-09-25T04:21:47.700332Z",
     "shell.execute_reply.started": "2023-09-25T04:21:47.683780Z"
    },
    "tags": []
   },
   "outputs": [],
   "source": [
    "# applying the model on validation dataset\n",
    "X_val = prepare_X(df_val)\n",
    "y_pred = w0  + X_val.dot(w)"
   ]
  },
  {
   "cell_type": "code",
   "execution_count": 80,
   "id": "d88d59cc-49ac-4e8d-b48c-85cdf8686b81",
   "metadata": {
    "execution": {
     "iopub.execute_input": "2023-09-25T04:21:47.703290Z",
     "iopub.status.busy": "2023-09-25T04:21:47.702555Z",
     "iopub.status.idle": "2023-09-25T04:21:47.709081Z",
     "shell.execute_reply": "2023-09-25T04:21:47.708155Z",
     "shell.execute_reply.started": "2023-09-25T04:21:47.703256Z"
    },
    "tags": []
   },
   "outputs": [
    {
     "data": {
      "text/plain": [
       "0.45652199013847417"
      ]
     },
     "execution_count": 80,
     "metadata": {},
     "output_type": "execute_result"
    }
   ],
   "source": [
    "#check the error\n",
    "rmse(y_pred, y_val)"
   ]
  },
  {
   "cell_type": "markdown",
   "id": "70d76b5c-c8bd-4987-b6de-4515c5b3ac74",
   "metadata": {},
   "source": [
    "Ofcourse now we need to find the optimal value of regularistaion parameter(r), so that we get better results."
   ]
  },
  {
   "cell_type": "markdown",
   "id": "c2a9a4d3-c343-4249-b8b3-4616da228b98",
   "metadata": {},
   "source": [
    "## Tuning the Model"
   ]
  },
  {
   "cell_type": "code",
   "execution_count": 81,
   "id": "ce48e004-9fa2-433e-9b5c-e4470d970803",
   "metadata": {
    "execution": {
     "iopub.execute_input": "2023-09-25T04:21:47.732056Z",
     "iopub.status.busy": "2023-09-25T04:21:47.731679Z",
     "iopub.status.idle": "2023-09-25T04:21:48.086243Z",
     "shell.execute_reply": "2023-09-25T04:21:48.084766Z",
     "shell.execute_reply.started": "2023-09-25T04:21:47.732026Z"
    },
    "tags": []
   },
   "outputs": [
    {
     "name": "stdout",
     "output_type": "stream",
     "text": [
      " r:: 0.0, score:: 124.88519689912196\n",
      " r:: 1e-05, score:: 0.4565169992513124\n",
      " r:: 0.0001, score:: 0.4565170649473902\n",
      " r:: 0.001, score:: 0.45651750876603997\n",
      " r:: 0.01, score:: 0.45652199013847417\n",
      " r:: 0.1, score:: 0.4565692763033549\n",
      " r:: 1, score:: 0.45722043179968336\n"
     ]
    }
   ],
   "source": [
    "for r in [0.0, 0.00001, 0.0001, 0.001, 0.01, 0.1, 1]:\n",
    "    X_train = prepare_X(df_train)\n",
    "    w0, w = train_linear_regression_regularistaion(X_train, y_train, r)\n",
    "    \n",
    "    # applying the model on validation dataset\n",
    "    X_val = prepare_X(df_val)\n",
    "    y_pred = w0  + X_val.dot(w)\n",
    "    \n",
    "    #check the error\n",
    "    score = rmse(y_pred, y_val)\n",
    "    \n",
    "    print(f\" r:: {r}, score:: {score}\")\n",
    "    print"
   ]
  },
  {
   "cell_type": "code",
   "execution_count": 82,
   "id": "2461c78f-6d73-4266-9ae1-bcc877b9fe34",
   "metadata": {
    "execution": {
     "iopub.execute_input": "2023-09-25T04:24:56.282284Z",
     "iopub.status.busy": "2023-09-25T04:24:56.281590Z",
     "iopub.status.idle": "2023-09-25T04:24:56.439722Z",
     "shell.execute_reply": "2023-09-25T04:24:56.398261Z",
     "shell.execute_reply.started": "2023-09-25T04:24:56.282234Z"
    },
    "tags": []
   },
   "outputs": [
    {
     "data": {
      "text/plain": [
       "0.45651750876603997"
      ]
     },
     "execution_count": 82,
     "metadata": {},
     "output_type": "execute_result"
    }
   ],
   "source": [
    "r = 0.001 \n",
    "X_train = prepare_X(df_train)\n",
    "w0, w = train_linear_regression_regularistaion(X_train, y_train, r)\n",
    "\n",
    "# applying the model on validation dataset\n",
    "X_val = prepare_X(df_val)\n",
    "y_pred = w0  + X_val.dot(w)\n",
    "\n",
    "#check the error\n",
    "score = rmse(y_pred, y_val)\n",
    "score"
   ]
  },
  {
   "cell_type": "markdown",
   "id": "93ad6c31-6710-49eb-97b5-b63c5da40157",
   "metadata": {},
   "source": [
    "## Full Train the model "
   ]
  },
  {
   "cell_type": "markdown",
   "id": "8ba1e16b-fb5f-42ae-ba05-371b2067e58c",
   "metadata": {},
   "source": [
    "So, now we would use the whole train+val dataset to train the model and will now finally test on validate dataset"
   ]
  },
  {
   "cell_type": "code",
   "execution_count": 83,
   "id": "5bcd511d-ee16-4fcf-b5e8-d6c87a176cfc",
   "metadata": {
    "execution": {
     "iopub.execute_input": "2023-09-25T04:25:08.101710Z",
     "iopub.status.busy": "2023-09-25T04:25:08.101020Z",
     "iopub.status.idle": "2023-09-25T04:25:08.112333Z",
     "shell.execute_reply": "2023-09-25T04:25:08.111287Z",
     "shell.execute_reply.started": "2023-09-25T04:25:08.101660Z"
    },
    "tags": []
   },
   "outputs": [],
   "source": [
    "df_full_train = pd.concat([df_train, df_val])"
   ]
  },
  {
   "cell_type": "code",
   "execution_count": 84,
   "id": "2a9b9ad2-e47e-416b-b3e7-aaac109fd8ba",
   "metadata": {
    "execution": {
     "iopub.execute_input": "2023-09-25T04:25:47.113039Z",
     "iopub.status.busy": "2023-09-25T04:25:47.112634Z",
     "iopub.status.idle": "2023-09-25T04:25:47.126757Z",
     "shell.execute_reply": "2023-09-25T04:25:47.125685Z",
     "shell.execute_reply.started": "2023-09-25T04:25:47.113010Z"
    },
    "tags": []
   },
   "outputs": [],
   "source": [
    "df_full_train = df_full_train.reset_index(drop=True)"
   ]
  },
  {
   "cell_type": "code",
   "execution_count": 85,
   "id": "62ddb91f-1900-490e-bc0f-3a98a7b90498",
   "metadata": {
    "execution": {
     "iopub.execute_input": "2023-09-25T04:25:52.037572Z",
     "iopub.status.busy": "2023-09-25T04:25:52.037168Z",
     "iopub.status.idle": "2023-09-25T04:25:52.063494Z",
     "shell.execute_reply": "2023-09-25T04:25:52.062993Z",
     "shell.execute_reply.started": "2023-09-25T04:25:52.037546Z"
    },
    "tags": []
   },
   "outputs": [
    {
     "data": {
      "text/html": [
       "<div>\n",
       "<style scoped>\n",
       "    .dataframe tbody tr th:only-of-type {\n",
       "        vertical-align: middle;\n",
       "    }\n",
       "\n",
       "    .dataframe tbody tr th {\n",
       "        vertical-align: top;\n",
       "    }\n",
       "\n",
       "    .dataframe thead th {\n",
       "        text-align: right;\n",
       "    }\n",
       "</style>\n",
       "<table border=\"1\" class=\"dataframe\">\n",
       "  <thead>\n",
       "    <tr style=\"text-align: right;\">\n",
       "      <th></th>\n",
       "      <th>make</th>\n",
       "      <th>model</th>\n",
       "      <th>year</th>\n",
       "      <th>engine_fuel_type</th>\n",
       "      <th>engine_hp</th>\n",
       "      <th>engine_cylinders</th>\n",
       "      <th>transmission_type</th>\n",
       "      <th>driven_wheels</th>\n",
       "      <th>number_of_doors</th>\n",
       "      <th>market_category</th>\n",
       "      <th>vehicle_size</th>\n",
       "      <th>vehicle_style</th>\n",
       "      <th>highway_mpg</th>\n",
       "      <th>city_mpg</th>\n",
       "      <th>popularity</th>\n",
       "    </tr>\n",
       "  </thead>\n",
       "  <tbody>\n",
       "    <tr>\n",
       "      <th>0</th>\n",
       "      <td>chevrolet</td>\n",
       "      <td>cobalt</td>\n",
       "      <td>2008</td>\n",
       "      <td>regular_unleaded</td>\n",
       "      <td>148.0</td>\n",
       "      <td>4.0</td>\n",
       "      <td>manual</td>\n",
       "      <td>front_wheel_drive</td>\n",
       "      <td>2.0</td>\n",
       "      <td>NaN</td>\n",
       "      <td>compact</td>\n",
       "      <td>coupe</td>\n",
       "      <td>33</td>\n",
       "      <td>24</td>\n",
       "      <td>1385</td>\n",
       "    </tr>\n",
       "    <tr>\n",
       "      <th>1</th>\n",
       "      <td>toyota</td>\n",
       "      <td>matrix</td>\n",
       "      <td>2012</td>\n",
       "      <td>regular_unleaded</td>\n",
       "      <td>132.0</td>\n",
       "      <td>4.0</td>\n",
       "      <td>automatic</td>\n",
       "      <td>front_wheel_drive</td>\n",
       "      <td>4.0</td>\n",
       "      <td>hatchback</td>\n",
       "      <td>compact</td>\n",
       "      <td>4dr_hatchback</td>\n",
       "      <td>32</td>\n",
       "      <td>25</td>\n",
       "      <td>2031</td>\n",
       "    </tr>\n",
       "    <tr>\n",
       "      <th>2</th>\n",
       "      <td>subaru</td>\n",
       "      <td>impreza</td>\n",
       "      <td>2016</td>\n",
       "      <td>regular_unleaded</td>\n",
       "      <td>148.0</td>\n",
       "      <td>4.0</td>\n",
       "      <td>automatic</td>\n",
       "      <td>all_wheel_drive</td>\n",
       "      <td>4.0</td>\n",
       "      <td>hatchback</td>\n",
       "      <td>compact</td>\n",
       "      <td>4dr_hatchback</td>\n",
       "      <td>37</td>\n",
       "      <td>28</td>\n",
       "      <td>640</td>\n",
       "    </tr>\n",
       "    <tr>\n",
       "      <th>3</th>\n",
       "      <td>volkswagen</td>\n",
       "      <td>vanagon</td>\n",
       "      <td>1991</td>\n",
       "      <td>regular_unleaded</td>\n",
       "      <td>90.0</td>\n",
       "      <td>4.0</td>\n",
       "      <td>manual</td>\n",
       "      <td>rear_wheel_drive</td>\n",
       "      <td>3.0</td>\n",
       "      <td>NaN</td>\n",
       "      <td>large</td>\n",
       "      <td>passenger_minivan</td>\n",
       "      <td>18</td>\n",
       "      <td>16</td>\n",
       "      <td>873</td>\n",
       "    </tr>\n",
       "    <tr>\n",
       "      <th>4</th>\n",
       "      <td>ford</td>\n",
       "      <td>f-150</td>\n",
       "      <td>2017</td>\n",
       "      <td>flex-fuel_(unleaded/e85)</td>\n",
       "      <td>385.0</td>\n",
       "      <td>8.0</td>\n",
       "      <td>automatic</td>\n",
       "      <td>four_wheel_drive</td>\n",
       "      <td>4.0</td>\n",
       "      <td>flex_fuel</td>\n",
       "      <td>large</td>\n",
       "      <td>crew_cab_pickup</td>\n",
       "      <td>21</td>\n",
       "      <td>15</td>\n",
       "      <td>5657</td>\n",
       "    </tr>\n",
       "    <tr>\n",
       "      <th>...</th>\n",
       "      <td>...</td>\n",
       "      <td>...</td>\n",
       "      <td>...</td>\n",
       "      <td>...</td>\n",
       "      <td>...</td>\n",
       "      <td>...</td>\n",
       "      <td>...</td>\n",
       "      <td>...</td>\n",
       "      <td>...</td>\n",
       "      <td>...</td>\n",
       "      <td>...</td>\n",
       "      <td>...</td>\n",
       "      <td>...</td>\n",
       "      <td>...</td>\n",
       "      <td>...</td>\n",
       "    </tr>\n",
       "    <tr>\n",
       "      <th>9527</th>\n",
       "      <td>volvo</td>\n",
       "      <td>v60</td>\n",
       "      <td>2015</td>\n",
       "      <td>regular_unleaded</td>\n",
       "      <td>240.0</td>\n",
       "      <td>4.0</td>\n",
       "      <td>automatic</td>\n",
       "      <td>front_wheel_drive</td>\n",
       "      <td>4.0</td>\n",
       "      <td>luxury</td>\n",
       "      <td>midsize</td>\n",
       "      <td>wagon</td>\n",
       "      <td>37</td>\n",
       "      <td>25</td>\n",
       "      <td>870</td>\n",
       "    </tr>\n",
       "    <tr>\n",
       "      <th>9528</th>\n",
       "      <td>maserati</td>\n",
       "      <td>granturismo_convertible</td>\n",
       "      <td>2015</td>\n",
       "      <td>premium_unleaded_(required)</td>\n",
       "      <td>444.0</td>\n",
       "      <td>8.0</td>\n",
       "      <td>automatic</td>\n",
       "      <td>rear_wheel_drive</td>\n",
       "      <td>2.0</td>\n",
       "      <td>exotic,luxury,high-performance</td>\n",
       "      <td>midsize</td>\n",
       "      <td>convertible</td>\n",
       "      <td>20</td>\n",
       "      <td>13</td>\n",
       "      <td>238</td>\n",
       "    </tr>\n",
       "    <tr>\n",
       "      <th>9529</th>\n",
       "      <td>cadillac</td>\n",
       "      <td>escalade_hybrid</td>\n",
       "      <td>2013</td>\n",
       "      <td>regular_unleaded</td>\n",
       "      <td>332.0</td>\n",
       "      <td>8.0</td>\n",
       "      <td>automatic</td>\n",
       "      <td>rear_wheel_drive</td>\n",
       "      <td>4.0</td>\n",
       "      <td>luxury,hybrid</td>\n",
       "      <td>large</td>\n",
       "      <td>4dr_suv</td>\n",
       "      <td>23</td>\n",
       "      <td>20</td>\n",
       "      <td>1624</td>\n",
       "    </tr>\n",
       "    <tr>\n",
       "      <th>9530</th>\n",
       "      <td>mitsubishi</td>\n",
       "      <td>lancer</td>\n",
       "      <td>2016</td>\n",
       "      <td>regular_unleaded</td>\n",
       "      <td>148.0</td>\n",
       "      <td>4.0</td>\n",
       "      <td>manual</td>\n",
       "      <td>front_wheel_drive</td>\n",
       "      <td>4.0</td>\n",
       "      <td>NaN</td>\n",
       "      <td>compact</td>\n",
       "      <td>sedan</td>\n",
       "      <td>34</td>\n",
       "      <td>24</td>\n",
       "      <td>436</td>\n",
       "    </tr>\n",
       "    <tr>\n",
       "      <th>9531</th>\n",
       "      <td>kia</td>\n",
       "      <td>sorento</td>\n",
       "      <td>2015</td>\n",
       "      <td>regular_unleaded</td>\n",
       "      <td>290.0</td>\n",
       "      <td>6.0</td>\n",
       "      <td>automatic</td>\n",
       "      <td>front_wheel_drive</td>\n",
       "      <td>4.0</td>\n",
       "      <td>crossover</td>\n",
       "      <td>midsize</td>\n",
       "      <td>4dr_suv</td>\n",
       "      <td>25</td>\n",
       "      <td>18</td>\n",
       "      <td>1720</td>\n",
       "    </tr>\n",
       "  </tbody>\n",
       "</table>\n",
       "<p>9532 rows × 15 columns</p>\n",
       "</div>"
      ],
      "text/plain": [
       "            make                    model  year             engine_fuel_type   \n",
       "0      chevrolet                   cobalt  2008             regular_unleaded  \\\n",
       "1         toyota                   matrix  2012             regular_unleaded   \n",
       "2         subaru                  impreza  2016             regular_unleaded   \n",
       "3     volkswagen                  vanagon  1991             regular_unleaded   \n",
       "4           ford                    f-150  2017     flex-fuel_(unleaded/e85)   \n",
       "...          ...                      ...   ...                          ...   \n",
       "9527       volvo                      v60  2015             regular_unleaded   \n",
       "9528    maserati  granturismo_convertible  2015  premium_unleaded_(required)   \n",
       "9529    cadillac          escalade_hybrid  2013             regular_unleaded   \n",
       "9530  mitsubishi                   lancer  2016             regular_unleaded   \n",
       "9531         kia                  sorento  2015             regular_unleaded   \n",
       "\n",
       "      engine_hp  engine_cylinders transmission_type      driven_wheels   \n",
       "0         148.0               4.0            manual  front_wheel_drive  \\\n",
       "1         132.0               4.0         automatic  front_wheel_drive   \n",
       "2         148.0               4.0         automatic    all_wheel_drive   \n",
       "3          90.0               4.0            manual   rear_wheel_drive   \n",
       "4         385.0               8.0         automatic   four_wheel_drive   \n",
       "...         ...               ...               ...                ...   \n",
       "9527      240.0               4.0         automatic  front_wheel_drive   \n",
       "9528      444.0               8.0         automatic   rear_wheel_drive   \n",
       "9529      332.0               8.0         automatic   rear_wheel_drive   \n",
       "9530      148.0               4.0            manual  front_wheel_drive   \n",
       "9531      290.0               6.0         automatic  front_wheel_drive   \n",
       "\n",
       "      number_of_doors                 market_category vehicle_size   \n",
       "0                 2.0                             NaN      compact  \\\n",
       "1                 4.0                       hatchback      compact   \n",
       "2                 4.0                       hatchback      compact   \n",
       "3                 3.0                             NaN        large   \n",
       "4                 4.0                       flex_fuel        large   \n",
       "...               ...                             ...          ...   \n",
       "9527              4.0                          luxury      midsize   \n",
       "9528              2.0  exotic,luxury,high-performance      midsize   \n",
       "9529              4.0                   luxury,hybrid        large   \n",
       "9530              4.0                             NaN      compact   \n",
       "9531              4.0                       crossover      midsize   \n",
       "\n",
       "          vehicle_style  highway_mpg  city_mpg  popularity  \n",
       "0                 coupe           33        24        1385  \n",
       "1         4dr_hatchback           32        25        2031  \n",
       "2         4dr_hatchback           37        28         640  \n",
       "3     passenger_minivan           18        16         873  \n",
       "4       crew_cab_pickup           21        15        5657  \n",
       "...                 ...          ...       ...         ...  \n",
       "9527              wagon           37        25         870  \n",
       "9528        convertible           20        13         238  \n",
       "9529            4dr_suv           23        20        1624  \n",
       "9530              sedan           34        24         436  \n",
       "9531            4dr_suv           25        18        1720  \n",
       "\n",
       "[9532 rows x 15 columns]"
      ]
     },
     "execution_count": 85,
     "metadata": {},
     "output_type": "execute_result"
    }
   ],
   "source": [
    "df_full_train"
   ]
  },
  {
   "cell_type": "code",
   "execution_count": 86,
   "id": "6fe72a6f-cc1e-4302-901a-e1b983046d8e",
   "metadata": {
    "execution": {
     "iopub.execute_input": "2023-09-25T04:27:58.028602Z",
     "iopub.status.busy": "2023-09-25T04:27:58.028181Z",
     "iopub.status.idle": "2023-09-25T04:27:58.079805Z",
     "shell.execute_reply": "2023-09-25T04:27:58.079373Z",
     "shell.execute_reply.started": "2023-09-25T04:27:58.028575Z"
    },
    "tags": []
   },
   "outputs": [],
   "source": [
    "X_full_train = prepare_X(df_full_train)"
   ]
  },
  {
   "cell_type": "code",
   "execution_count": 87,
   "id": "2232d75f-2cef-469e-8c99-098adb679352",
   "metadata": {
    "execution": {
     "iopub.execute_input": "2023-09-25T04:28:03.907994Z",
     "iopub.status.busy": "2023-09-25T04:28:03.907506Z",
     "iopub.status.idle": "2023-09-25T04:28:03.917157Z",
     "shell.execute_reply": "2023-09-25T04:28:03.916067Z",
     "shell.execute_reply.started": "2023-09-25T04:28:03.907944Z"
    },
    "tags": []
   },
   "outputs": [
    {
     "data": {
      "text/plain": [
       "array([ 9.57574708,  9.887663  ,  9.89323518, ..., 11.21756062,\n",
       "        9.77542688, 10.1924563 ])"
      ]
     },
     "execution_count": 87,
     "metadata": {},
     "output_type": "execute_result"
    }
   ],
   "source": [
    "y_full_train = np.concatenate([y_train, y_val])\n",
    "y_full_train"
   ]
  },
  {
   "cell_type": "code",
   "execution_count": 88,
   "id": "3932ca84-95ca-4726-a05b-4d406310b1a1",
   "metadata": {
    "execution": {
     "iopub.execute_input": "2023-09-25T04:28:10.111716Z",
     "iopub.status.busy": "2023-09-25T04:28:10.111256Z",
     "iopub.status.idle": "2023-09-25T04:28:10.183758Z",
     "shell.execute_reply": "2023-09-25T04:28:10.182440Z",
     "shell.execute_reply.started": "2023-09-25T04:28:10.111688Z"
    },
    "tags": []
   },
   "outputs": [],
   "source": [
    "r = 0.001 \n",
    "w0, w = train_linear_regression_regularistaion(X_full_train, y_full_train, r)\n"
   ]
  },
  {
   "cell_type": "code",
   "execution_count": 89,
   "id": "71f5bbcc-99dc-40a4-bb02-560c855a60b6",
   "metadata": {
    "execution": {
     "iopub.execute_input": "2023-09-25T04:28:13.005601Z",
     "iopub.status.busy": "2023-09-25T04:28:13.004906Z",
     "iopub.status.idle": "2023-09-25T04:28:13.086026Z",
     "shell.execute_reply": "2023-09-25T04:28:13.046580Z",
     "shell.execute_reply.started": "2023-09-25T04:28:13.005550Z"
    },
    "tags": []
   },
   "outputs": [
    {
     "data": {
      "text/plain": [
       "0.4517749305535384"
      ]
     },
     "execution_count": 89,
     "metadata": {},
     "output_type": "execute_result"
    }
   ],
   "source": [
    "# applying the model on test dataset\n",
    "X_test = prepare_X(df_test)\n",
    "y_pred = w0  + X_test.dot(w)\n",
    "\n",
    "#check the error\n",
    "score = rmse(y_pred, y_test)\n",
    "score"
   ]
  },
  {
   "cell_type": "markdown",
   "id": "c424ecb7-aef9-49bd-9257-a1e351f6ff60",
   "metadata": {},
   "source": [
    "## Use the model "
   ]
  },
  {
   "cell_type": "code",
   "execution_count": 90,
   "id": "0a262767-ac5b-415c-a662-ae4ed4f0b315",
   "metadata": {
    "execution": {
     "iopub.execute_input": "2023-09-25T04:28:59.554953Z",
     "iopub.status.busy": "2023-09-25T04:28:59.554494Z",
     "iopub.status.idle": "2023-09-25T04:28:59.563871Z",
     "shell.execute_reply": "2023-09-25T04:28:59.562934Z",
     "shell.execute_reply.started": "2023-09-25T04:28:59.554922Z"
    },
    "tags": []
   },
   "outputs": [
    {
     "data": {
      "text/plain": [
       "{'make': 'toyota',\n",
       " 'model': 'sienna',\n",
       " 'year': 2015,\n",
       " 'engine_fuel_type': 'regular_unleaded',\n",
       " 'engine_hp': 266.0,\n",
       " 'engine_cylinders': 6.0,\n",
       " 'transmission_type': 'automatic',\n",
       " 'driven_wheels': 'front_wheel_drive',\n",
       " 'number_of_doors': 4.0,\n",
       " 'market_category': nan,\n",
       " 'vehicle_size': 'large',\n",
       " 'vehicle_style': 'passenger_minivan',\n",
       " 'highway_mpg': 25,\n",
       " 'city_mpg': 18,\n",
       " 'popularity': 2031}"
      ]
     },
     "execution_count": 90,
     "metadata": {},
     "output_type": "execute_result"
    }
   ],
   "source": [
    "# pretend this data is from user from website\n",
    "car = df_test.iloc[20].to_dict()\n",
    "car"
   ]
  },
  {
   "cell_type": "code",
   "execution_count": 91,
   "id": "499d8bac-9b54-499e-83c3-f520608fbb82",
   "metadata": {
    "execution": {
     "iopub.execute_input": "2023-09-25T04:29:04.388121Z",
     "iopub.status.busy": "2023-09-25T04:29:04.387485Z",
     "iopub.status.idle": "2023-09-25T04:29:04.396995Z",
     "shell.execute_reply": "2023-09-25T04:29:04.395884Z",
     "shell.execute_reply.started": "2023-09-25T04:29:04.388070Z"
    },
    "tags": []
   },
   "outputs": [],
   "source": [
    "df_small = pd.DataFrame([car])"
   ]
  },
  {
   "cell_type": "code",
   "execution_count": 92,
   "id": "3a9a7163-3e7c-4a37-8790-3893f08710bd",
   "metadata": {
    "execution": {
     "iopub.execute_input": "2023-09-25T04:29:08.224916Z",
     "iopub.status.busy": "2023-09-25T04:29:08.224193Z",
     "iopub.status.idle": "2023-09-25T04:29:08.255362Z",
     "shell.execute_reply": "2023-09-25T04:29:08.254729Z",
     "shell.execute_reply.started": "2023-09-25T04:29:08.224865Z"
    },
    "tags": []
   },
   "outputs": [],
   "source": [
    "X_small = prepare_X(df_small)"
   ]
  },
  {
   "cell_type": "code",
   "execution_count": 93,
   "id": "b1b91dde-91d0-4c02-83d0-f243ae8417c6",
   "metadata": {
    "execution": {
     "iopub.execute_input": "2023-09-25T04:29:11.177868Z",
     "iopub.status.busy": "2023-09-25T04:29:11.177148Z",
     "iopub.status.idle": "2023-09-25T04:29:11.184299Z",
     "shell.execute_reply": "2023-09-25T04:29:11.183021Z",
     "shell.execute_reply.started": "2023-09-25T04:29:11.177815Z"
    },
    "tags": []
   },
   "outputs": [],
   "source": [
    "y_pred = w0 + X_small.dot(w)"
   ]
  },
  {
   "cell_type": "code",
   "execution_count": 94,
   "id": "086db0e0-687a-4b13-b5eb-35a12a41abab",
   "metadata": {
    "execution": {
     "iopub.execute_input": "2023-09-25T04:29:15.545534Z",
     "iopub.status.busy": "2023-09-25T04:29:15.545108Z",
     "iopub.status.idle": "2023-09-25T04:29:15.551190Z",
     "shell.execute_reply": "2023-09-25T04:29:15.550026Z",
     "shell.execute_reply.started": "2023-09-25T04:29:15.545508Z"
    },
    "tags": []
   },
   "outputs": [],
   "source": [
    "y_pred = y_pred[0]"
   ]
  },
  {
   "cell_type": "code",
   "execution_count": 95,
   "id": "fbedfefb-ed98-440c-9229-ff99ce95c680",
   "metadata": {
    "execution": {
     "iopub.execute_input": "2023-09-25T04:29:18.349193Z",
     "iopub.status.busy": "2023-09-25T04:29:18.348777Z",
     "iopub.status.idle": "2023-09-25T04:29:18.357035Z",
     "shell.execute_reply": "2023-09-25T04:29:18.355922Z",
     "shell.execute_reply.started": "2023-09-25T04:29:18.349166Z"
    },
    "tags": []
   },
   "outputs": [
    {
     "data": {
      "text/plain": [
       "42465.46928903871"
      ]
     },
     "execution_count": 95,
     "metadata": {},
     "output_type": "execute_result"
    }
   ],
   "source": [
    "np.expm1(y_pred)"
   ]
  },
  {
   "cell_type": "code",
   "execution_count": 96,
   "id": "2f053ce5-4a2b-4a25-a206-2364b596f485",
   "metadata": {
    "execution": {
     "iopub.execute_input": "2023-09-25T04:29:21.433228Z",
     "iopub.status.busy": "2023-09-25T04:29:21.432484Z",
     "iopub.status.idle": "2023-09-25T04:29:21.440676Z",
     "shell.execute_reply": "2023-09-25T04:29:21.439761Z",
     "shell.execute_reply.started": "2023-09-25T04:29:21.433197Z"
    },
    "tags": []
   },
   "outputs": [
    {
     "data": {
      "text/plain": [
       "10.463131911491967"
      ]
     },
     "execution_count": 96,
     "metadata": {},
     "output_type": "execute_result"
    }
   ],
   "source": [
    "y_test[20]"
   ]
  },
  {
   "cell_type": "code",
   "execution_count": 97,
   "id": "6b1014fe-3c72-4298-8643-e1ad83cc8e48",
   "metadata": {
    "execution": {
     "iopub.execute_input": "2023-09-25T04:29:24.682138Z",
     "iopub.status.busy": "2023-09-25T04:29:24.681712Z",
     "iopub.status.idle": "2023-09-25T04:29:24.690334Z",
     "shell.execute_reply": "2023-09-25T04:29:24.689176Z",
     "shell.execute_reply.started": "2023-09-25T04:29:24.682112Z"
    },
    "tags": []
   },
   "outputs": [
    {
     "data": {
      "text/plain": [
       "35000.00000000001"
      ]
     },
     "execution_count": 97,
     "metadata": {},
     "output_type": "execute_result"
    }
   ],
   "source": [
    "np.expm1(10.463131911491967)"
   ]
  }
 ],
 "metadata": {
  "kernelspec": {
   "display_name": "Python 3 (ipykernel)",
   "language": "python",
   "name": "python3"
  },
  "language_info": {
   "codemirror_mode": {
    "name": "ipython",
    "version": 3
   },
   "file_extension": ".py",
   "mimetype": "text/x-python",
   "name": "python",
   "nbconvert_exporter": "python",
   "pygments_lexer": "ipython3",
   "version": "3.9.18"
  }
 },
 "nbformat": 4,
 "nbformat_minor": 5
}
