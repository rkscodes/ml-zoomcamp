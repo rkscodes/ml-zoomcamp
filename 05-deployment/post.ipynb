{
 "cells": [
  {
   "cell_type": "code",
   "execution_count": 1,
   "id": "6f01aa0d-d3f8-4f85-a9e1-dcb0d3d412a7",
   "metadata": {
    "execution": {
     "iopub.execute_input": "2023-10-10T13:49:52.012530Z",
     "iopub.status.busy": "2023-10-10T13:49:52.012057Z",
     "iopub.status.idle": "2023-10-10T13:49:52.076033Z",
     "shell.execute_reply": "2023-10-10T13:49:52.075550Z",
     "shell.execute_reply.started": "2023-10-10T13:49:52.012497Z"
    },
    "tags": []
   },
   "outputs": [],
   "source": [
    "import requests"
   ]
  },
  {
   "cell_type": "code",
   "execution_count": 2,
   "id": "deea5d99-db4f-416d-932e-0d9562ce7c2c",
   "metadata": {
    "execution": {
     "iopub.execute_input": "2023-10-10T13:50:34.615623Z",
     "iopub.status.busy": "2023-10-10T13:50:34.614838Z",
     "iopub.status.idle": "2023-10-10T13:50:34.621577Z",
     "shell.execute_reply": "2023-10-10T13:50:34.620551Z",
     "shell.execute_reply.started": "2023-10-10T13:50:34.615556Z"
    },
    "tags": []
   },
   "outputs": [],
   "source": [
    "url = \"http://127.0.0.1:6969/predict\""
   ]
  },
  {
   "cell_type": "code",
   "execution_count": 3,
   "id": "8dc293cd-6c6f-4450-b13f-a8c6a2792682",
   "metadata": {
    "execution": {
     "iopub.execute_input": "2023-10-10T13:51:02.859186Z",
     "iopub.status.busy": "2023-10-10T13:51:02.858314Z",
     "iopub.status.idle": "2023-10-10T13:51:02.868150Z",
     "shell.execute_reply": "2023-10-10T13:51:02.867328Z",
     "shell.execute_reply.started": "2023-10-10T13:51:02.859124Z"
    },
    "tags": []
   },
   "outputs": [],
   "source": [
    "customer = {\n",
    "  'customerid': '8879-zkjof',\n",
    "  'gender': 'female',\n",
    "  'seniorcitizen': 0,\n",
    "  'partner': 'no',\n",
    "  'dependents': 'no',\n",
    "  'tenure': 41,\n",
    "  'phoneservice': 'yes',\n",
    "  'multiplelines': 'no',\n",
    "  'internetservice': 'dsl',\n",
    "  'onlinesecurity': 'yes',\n",
    "  'onlinebackup': 'no',\n",
    "  'deviceprotection': 'yes',\n",
    "  'techsupport': 'yes',\n",
    "  'streamingtv': 'yes',\n",
    "  'streamingmovies': 'yes',\n",
    "  'contract': 'one_year',\n",
    "  'paperlessbilling': 'yes',\n",
    "  'paymentmethod': 'bank_transfer_(automatic)',\n",
    "  'monthlycharges': 79.85,\n",
    "  'totalcharges': 3320.75\n",
    "}"
   ]
  },
  {
   "cell_type": "code",
   "execution_count": 9,
   "id": "23ba7bc2-6e92-4b89-aeab-d73ca2becbd8",
   "metadata": {
    "execution": {
     "iopub.execute_input": "2023-10-10T14:02:01.946283Z",
     "iopub.status.busy": "2023-10-10T14:02:01.945577Z",
     "iopub.status.idle": "2023-10-10T14:02:01.965806Z",
     "shell.execute_reply": "2023-10-10T14:02:01.965025Z",
     "shell.execute_reply.started": "2023-10-10T14:02:01.946235Z"
    },
    "tags": []
   },
   "outputs": [
    {
     "data": {
      "text/plain": [
       "{'churn': False, 'churn_probability': 0.062242955411537994}"
      ]
     },
     "execution_count": 9,
     "metadata": {},
     "output_type": "execute_result"
    }
   ],
   "source": [
    "requests.post(url, json=customer).json()"
   ]
  }
 ],
 "metadata": {
  "kernelspec": {
   "display_name": "Python 3 (ipykernel)",
   "language": "python",
   "name": "python3"
  },
  "language_info": {
   "codemirror_mode": {
    "name": "ipython",
    "version": 3
   },
   "file_extension": ".py",
   "mimetype": "text/x-python",
   "name": "python",
   "nbconvert_exporter": "python",
   "pygments_lexer": "ipython3",
   "version": "3.9.18"
  }
 },
 "nbformat": 4,
 "nbformat_minor": 5
}
