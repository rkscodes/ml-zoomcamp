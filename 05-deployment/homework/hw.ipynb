{
 "cells": [
  {
   "cell_type": "code",
   "execution_count": 7,
   "id": "fedf8cd9-ed27-49b6-92db-a1d8b1e27d83",
   "metadata": {
    "tags": []
   },
   "outputs": [],
   "source": [
    "import pandas as pd\n",
    "import numpy as np \n",
    "import pickle"
   ]
  },
  {
   "cell_type": "code",
   "execution_count": 5,
   "id": "0b0f9959-97d9-4d0d-88dc-b99d467cb097",
   "metadata": {},
   "outputs": [],
   "source": [
    "# PREFIX=\"https://raw.githubusercontent.com/DataTalksClub/machine-learning-zoomcamp/master/cohorts/2023/05-deployment/homework\"\n",
    "# !wget $PREFIX/model1.bin\n",
    "# !wget $PREFIX/dv.bin"
   ]
  },
  {
   "cell_type": "code",
   "execution_count": 8,
   "id": "a84d22af-fd72-4724-80c1-d34c2b025cd8",
   "metadata": {
    "tags": []
   },
   "outputs": [
    {
     "name": "stderr",
     "output_type": "stream",
     "text": [
      "/home/ramkrishnas/micromamba/envs/mb/lib/python3.9/site-packages/sklearn/base.py:318: UserWarning: Trying to unpickle estimator DictVectorizer from version 1.3.1 when using version 1.2.2. This might lead to breaking code or invalid results. Use at your own risk. For more info please refer to:\n",
      "https://scikit-learn.org/stable/model_persistence.html#security-maintainability-limitations\n",
      "  warnings.warn(\n",
      "/home/ramkrishnas/micromamba/envs/mb/lib/python3.9/site-packages/sklearn/base.py:318: UserWarning: Trying to unpickle estimator LogisticRegression from version 1.3.1 when using version 1.2.2. This might lead to breaking code or invalid results. Use at your own risk. For more info please refer to:\n",
      "https://scikit-learn.org/stable/model_persistence.html#security-maintainability-limitations\n",
      "  warnings.warn(\n"
     ]
    }
   ],
   "source": [
    "\n",
    "with open('dv.bin', 'rb') as f: \n",
    "    dv = pickle.load(f)\n",
    "    \n",
    "with open('model1.bin', 'rb') as f: \n",
    "    model = pickle.load(f)\n"
   ]
  },
  {
   "cell_type": "code",
   "execution_count": 11,
   "id": "2611f9a1-44ac-4905-a5ae-9b8dacea7360",
   "metadata": {
    "tags": []
   },
   "outputs": [],
   "source": [
    "client = {\"job\": \"retired\", \"duration\": 445, \"poutcome\": \"success\"}"
   ]
  },
  {
   "cell_type": "code",
   "execution_count": 13,
   "id": "182c1503-6633-4059-b181-ab008bbe2567",
   "metadata": {
    "tags": []
   },
   "outputs": [],
   "source": [
    "X_transform = dv.transform(client)"
   ]
  },
  {
   "cell_type": "code",
   "execution_count": 17,
   "id": "c1cef1ef-3e0f-492e-821a-d6d6fc708532",
   "metadata": {
    "tags": []
   },
   "outputs": [
    {
     "data": {
      "text/plain": [
       "array([[0.098, 0.902]])"
      ]
     },
     "execution_count": 17,
     "metadata": {},
     "output_type": "execute_result"
    }
   ],
   "source": [
    "model.predict_proba(X_transform).round(3)"
   ]
  },
  {
   "cell_type": "code",
   "execution_count": 18,
   "id": "83bb740b-094e-4e0a-8969-8d6b4b98f899",
   "metadata": {
    "tags": []
   },
   "outputs": [],
   "source": [
    "client = {\"job\": \"unknown\", \"duration\": 270, \"poutcome\": \"failure\"}\n",
    "X_tranform = dv.transform(client)"
   ]
  },
  {
   "cell_type": "code",
   "execution_count": 20,
   "id": "31121e2a-65e7-4302-9d94-b109f9420549",
   "metadata": {
    "tags": []
   },
   "outputs": [
    {
     "data": {
      "text/plain": [
       "0.14"
      ]
     },
     "execution_count": 20,
     "metadata": {},
     "output_type": "execute_result"
    }
   ],
   "source": [
    "model.predict_proba(X_tranform)[0][1].round(3)"
   ]
  },
  {
   "cell_type": "code",
   "execution_count": 21,
   "id": "749919c9-5cd4-4562-b704-3b3048eb2d08",
   "metadata": {
    "tags": []
   },
   "outputs": [
    {
     "data": {
      "text/plain": [
       "0.902"
      ]
     },
     "execution_count": 21,
     "metadata": {},
     "output_type": "execute_result"
    }
   ],
   "source": [
    "client = {\"job\": \"retired\", \"duration\": 445, \"poutcome\": \"success\"}\n",
    "X_tranform = dv.transform(client)\n",
    "model.predict_proba(X_tranform)[0][1].round(3)"
   ]
  }
 ],
 "metadata": {
  "kernelspec": {
   "display_name": "Python 3 (ipykernel)",
   "language": "python",
   "name": "python3"
  },
  "language_info": {
   "codemirror_mode": {
    "name": "ipython",
    "version": 3
   },
   "file_extension": ".py",
   "mimetype": "text/x-python",
   "name": "python",
   "nbconvert_exporter": "python",
   "pygments_lexer": "ipython3",
   "version": "3.9.18"
  }
 },
 "nbformat": 4,
 "nbformat_minor": 5
}
