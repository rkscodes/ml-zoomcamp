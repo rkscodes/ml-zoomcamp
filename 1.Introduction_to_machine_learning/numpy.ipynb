{
 "cells": [
  {
   "cell_type": "code",
   "execution_count": 1,
   "id": "c27b049e-2fc0-48af-aa1e-5e7caa33463e",
   "metadata": {
    "tags": []
   },
   "outputs": [],
   "source": [
    "import numpy as np"
   ]
  },
  {
   "cell_type": "code",
   "execution_count": 2,
   "id": "5b29ee23-94c8-4c3c-b401-3e6bfd7a37df",
   "metadata": {
    "tags": []
   },
   "outputs": [],
   "source": [
    "zeros = np.zeros(10)"
   ]
  },
  {
   "cell_type": "code",
   "execution_count": 3,
   "id": "18a41fca-3232-4ed1-80bf-d90c31748cd0",
   "metadata": {
    "tags": []
   },
   "outputs": [
    {
     "data": {
      "text/plain": [
       "array([0., 0., 0., 0., 0., 0., 0., 0., 0., 0.])"
      ]
     },
     "execution_count": 3,
     "metadata": {},
     "output_type": "execute_result"
    }
   ],
   "source": [
    "zeros"
   ]
  },
  {
   "cell_type": "code",
   "execution_count": 4,
   "id": "b6dd8586-f9f0-4cc4-8f9b-120d635afaa3",
   "metadata": {
    "tags": []
   },
   "outputs": [
    {
     "data": {
      "text/plain": [
       "array([1., 1., 1., 1., 1., 1., 1., 1., 1., 1.])"
      ]
     },
     "execution_count": 4,
     "metadata": {},
     "output_type": "execute_result"
    }
   ],
   "source": [
    "ones = np.ones(10)\n",
    "ones"
   ]
  },
  {
   "cell_type": "code",
   "execution_count": 5,
   "id": "0c6484ea-a4c5-4e27-8450-1af7b9a53766",
   "metadata": {
    "tags": []
   },
   "outputs": [
    {
     "data": {
      "text/plain": [
       "array([10, 10, 10, 10, 10])"
      ]
     },
     "execution_count": 5,
     "metadata": {},
     "output_type": "execute_result"
    }
   ],
   "source": [
    "tens = np.repeat(10, 5)\n",
    "tens"
   ]
  },
  {
   "cell_type": "code",
   "execution_count": 7,
   "id": "52ad348b-7a2c-4cb7-a813-f49670d393e1",
   "metadata": {
    "tags": []
   },
   "outputs": [
    {
     "data": {
      "text/plain": [
       "array([1, 1, 1, 2, 2, 2, 3, 3, 3])"
      ]
     },
     "execution_count": 7,
     "metadata": {},
     "output_type": "execute_result"
    }
   ],
   "source": [
    "repeat = np.repeat([1,2,3], 3)\n",
    "repeat "
   ]
  },
  {
   "cell_type": "code",
   "execution_count": 8,
   "id": "f3d66001-4e2c-4571-95fc-040a4bc38df9",
   "metadata": {
    "tags": []
   },
   "outputs": [
    {
     "data": {
      "text/plain": [
       "array([1, 1, 2, 2, 2, 3, 3])"
      ]
     },
     "execution_count": 8,
     "metadata": {},
     "output_type": "execute_result"
    }
   ],
   "source": [
    "repeat_more = np.repeat([1,2,3], [2,3,2])\n",
    "repeat_more"
   ]
  },
  {
   "cell_type": "markdown",
   "id": "c2907f9c-5eb4-4e49-825e-537fa62f83cf",
   "metadata": {},
   "source": [
    "This is interesting way to access multiple cols"
   ]
  },
  {
   "cell_type": "code",
   "execution_count": 10,
   "id": "0abecf70-7624-4fde-9f15-042e8224fa4b",
   "metadata": {
    "tags": []
   },
   "outputs": [
    {
     "name": "stdout",
     "output_type": "stream",
     "text": [
      "[1 2 1]\n"
     ]
    }
   ],
   "source": [
    "print(repeat_more[[1,2,0]])"
   ]
  },
  {
   "cell_type": "code",
   "execution_count": 12,
   "id": "aa327b53-b851-4488-af3e-a17b205b6193",
   "metadata": {
    "tags": []
   },
   "outputs": [
    {
     "data": {
      "text/plain": [
       "array([1, 2, 3, 4, 5])"
      ]
     },
     "execution_count": 12,
     "metadata": {},
     "output_type": "execute_result"
    }
   ],
   "source": [
    "array = [1,2,3,4,5]\n",
    "numpy_array = np.array(array)\n",
    "numpy_array"
   ]
  },
  {
   "cell_type": "code",
   "execution_count": 13,
   "id": "39196fe2-7724-44c7-a180-fea90233aae0",
   "metadata": {
    "tags": []
   },
   "outputs": [
    {
     "data": {
      "text/plain": [
       "numpy.ndarray"
      ]
     },
     "execution_count": 13,
     "metadata": {},
     "output_type": "execute_result"
    }
   ],
   "source": [
    "type(numpy_array)"
   ]
  },
  {
   "cell_type": "code",
   "execution_count": 14,
   "id": "0bb43997-8fd5-4916-bb48-c2be3f40d822",
   "metadata": {
    "tags": []
   },
   "outputs": [
    {
     "data": {
      "text/plain": [
       "array([ 0,  1,  2,  3,  4,  5,  6,  7,  8,  9, 10])"
      ]
     },
     "execution_count": 14,
     "metadata": {},
     "output_type": "execute_result"
    }
   ],
   "source": [
    "arange = np.arange(11)\n",
    "arange"
   ]
  },
  {
   "cell_type": "code",
   "execution_count": 17,
   "id": "b5766402-5944-4539-bfff-cc2dc01012f5",
   "metadata": {
    "tags": []
   },
   "outputs": [
    {
     "data": {
      "text/plain": [
       "array([0. , 0.1, 0.2, 0.3, 0.4, 0.5, 0.6, 0.7, 0.8, 0.9, 1. ])"
      ]
     },
     "execution_count": 17,
     "metadata": {},
     "output_type": "execute_result"
    }
   ],
   "source": [
    "linspace = np.linspace(0,1,11)\n",
    "linspace"
   ]
  },
  {
   "cell_type": "code",
   "execution_count": 20,
   "id": "6e240c6e-8179-4a5a-9220-fecb49b05805",
   "metadata": {
    "tags": []
   },
   "outputs": [
    {
     "data": {
      "text/plain": [
       "array([0, 0, 0, 0, 0, 0, 0, 0, 0, 0], dtype=uint8)"
      ]
     },
     "execution_count": 20,
     "metadata": {},
     "output_type": "execute_result"
    }
   ],
   "source": [
    "zeros = np.zeros(10, dtype=\"uint8\")\n",
    "zeros"
   ]
  },
  {
   "cell_type": "code",
   "execution_count": 21,
   "id": "1b469fc9-1438-4f5e-a02b-21084b817ec3",
   "metadata": {
    "tags": []
   },
   "outputs": [
    {
     "data": {
      "text/plain": [
       "array([[0, 0],\n",
       "       [0, 0],\n",
       "       [0, 0]], dtype=int8)"
      ]
     },
     "execution_count": 21,
     "metadata": {},
     "output_type": "execute_result"
    }
   ],
   "source": [
    "zeros = np.zeros((3,2), dtype=\"int8\")\n",
    "zeros"
   ]
  },
  {
   "cell_type": "code",
   "execution_count": 7,
   "id": "aa1b4aeb-0715-4720-ace2-7faf9d7ada90",
   "metadata": {
    "tags": []
   },
   "outputs": [
    {
     "data": {
      "text/plain": [
       "array([[293., 293.],\n",
       "       [293., 293.],\n",
       "       [293., 293.]])"
      ]
     },
     "execution_count": 7,
     "metadata": {},
     "output_type": "execute_result"
    }
   ],
   "source": [
    "random = np.full((3,2), 293, dtype=\"float64\")\n",
    "random"
   ]
  },
  {
   "cell_type": "code",
   "execution_count": 8,
   "id": "b0fd0453-f5fb-4e62-a310-a437709c8f21",
   "metadata": {},
   "outputs": [
    {
     "data": {
      "text/plain": [
       "(3, 2)"
      ]
     },
     "execution_count": 8,
     "metadata": {},
     "output_type": "execute_result"
    }
   ],
   "source": [
    "random.shape"
   ]
  },
  {
   "cell_type": "code",
   "execution_count": 10,
   "id": "adf08e1b-9c3c-424f-a84c-2149a18381ba",
   "metadata": {
    "tags": []
   },
   "outputs": [
    {
     "data": {
      "text/plain": [
       "array([[1, 2, 3],\n",
       "       [4, 5, 6],\n",
       "       [7, 8, 9]])"
      ]
     },
     "execution_count": 10,
     "metadata": {},
     "output_type": "execute_result"
    }
   ],
   "source": [
    "numbers = [\n",
    "    [1, 2, 3],\n",
    "    [4, 5, 6],\n",
    "    [7, 8, 9]\n",
    "]\n",
    "np_number = np.array(numbers)\n",
    "np_number"
   ]
  },
  {
   "cell_type": "code",
   "execution_count": 12,
   "id": "c398fe67-523a-4d63-9fec-3a405e2832eb",
   "metadata": {
    "tags": []
   },
   "outputs": [
    {
     "data": {
      "text/plain": [
       "1"
      ]
     },
     "execution_count": 12,
     "metadata": {},
     "output_type": "execute_result"
    }
   ],
   "source": [
    "np_number[0,0]"
   ]
  },
  {
   "cell_type": "code",
   "execution_count": 13,
   "id": "7e38f3df-10ba-4df9-8e73-7c66075a4cc0",
   "metadata": {
    "tags": []
   },
   "outputs": [
    {
     "data": {
      "text/plain": [
       "array([3, 6, 9])"
      ]
     },
     "execution_count": 13,
     "metadata": {},
     "output_type": "execute_result"
    }
   ],
   "source": [
    "np_number[:, 2]"
   ]
  },
  {
   "cell_type": "code",
   "execution_count": 14,
   "id": "3ff34907-d0a7-4029-bed7-81adfa78a97d",
   "metadata": {
    "tags": []
   },
   "outputs": [
    {
     "data": {
      "text/plain": [
       "array([7, 8, 9])"
      ]
     },
     "execution_count": 14,
     "metadata": {},
     "output_type": "execute_result"
    }
   ],
   "source": [
    "np_number[2, :]"
   ]
  },
  {
   "cell_type": "code",
   "execution_count": 16,
   "id": "b037de6f-9fd9-44a1-9e6e-7af421f5276d",
   "metadata": {
    "tags": []
   },
   "outputs": [
    {
     "data": {
      "text/plain": [
       "array([[7, 8, 9],\n",
       "       [4, 5, 6],\n",
       "       [7, 8, 9]])"
      ]
     },
     "execution_count": 16,
     "metadata": {},
     "output_type": "execute_result"
    }
   ],
   "source": [
    "np_number[0] = [7,8,9]\n",
    "np_number"
   ]
  },
  {
   "cell_type": "code",
   "execution_count": 17,
   "id": "29e6a319-33d1-47a5-b534-8381aa199f3b",
   "metadata": {
    "tags": []
   },
   "outputs": [
    {
     "data": {
      "text/plain": [
       "array([[7, 8, 1],\n",
       "       [4, 5, 2],\n",
       "       [7, 8, 3]])"
      ]
     },
     "execution_count": 17,
     "metadata": {},
     "output_type": "execute_result"
    }
   ],
   "source": [
    "np_number[:, 2] = [1,2,3]\n",
    "np_number"
   ]
  },
  {
   "cell_type": "markdown",
   "id": "3712bf61-2889-4f31-a08f-f222a613ba59",
   "metadata": {},
   "source": [
    "Random array "
   ]
  },
  {
   "cell_type": "code",
   "execution_count": 33,
   "id": "559ddda3-5e00-40bf-a4a9-9eb833eb1066",
   "metadata": {
    "tags": []
   },
   "outputs": [
    {
     "data": {
      "text/plain": [
       "array([[0.22199317, 0.87073231],\n",
       "       [0.20671916, 0.91861091],\n",
       "       [0.48841119, 0.61174386],\n",
       "       [0.76590786, 0.51841799],\n",
       "       [0.2968005 , 0.18772123]])"
      ]
     },
     "execution_count": 33,
     "metadata": {},
     "output_type": "execute_result"
    }
   ],
   "source": [
    "np.random.seed(5)\n",
    "random = np.random.rand(5,2)\n",
    "random"
   ]
  },
  {
   "cell_type": "code",
   "execution_count": 35,
   "id": "4dbeabf7-9579-485d-b10f-e0371ceaa4cd",
   "metadata": {
    "tags": []
   },
   "outputs": [
    {
     "data": {
      "text/plain": [
       "array([[-1.51117956,  0.64484751],\n",
       "       [-0.98060789, -0.85685315],\n",
       "       [-0.87187918, -0.42250793],\n",
       "       [ 0.99643983,  0.71242127],\n",
       "       [ 0.05914424, -0.36331088]])"
      ]
     },
     "execution_count": 35,
     "metadata": {},
     "output_type": "execute_result"
    }
   ],
   "source": [
    "random = np.random.randn(5,2)\n",
    "random"
   ]
  },
  {
   "cell_type": "code",
   "execution_count": 37,
   "id": "cc8b4f7c-9695-44f9-8946-d7a81f2c9b20",
   "metadata": {
    "tags": []
   },
   "outputs": [
    {
     "data": {
      "text/plain": [
       "array([[21, 77, 75],\n",
       "       [65, 13, 88],\n",
       "       [37, 39, 43],\n",
       "       [99, 95, 17],\n",
       "       [26, 24, 41],\n",
       "       [19, 48, 57],\n",
       "       [26, 15, 44],\n",
       "       [55, 69, 34],\n",
       "       [23, 41, 42],\n",
       "       [86, 54, 15]])"
      ]
     },
     "execution_count": 37,
     "metadata": {},
     "output_type": "execute_result"
    }
   ],
   "source": [
    "# generate a random int between 10 and 100(exclusive) with sizze 10,3\n",
    "\n",
    "random = np.random.randint(low=10, high=100, size=(10,3))\n",
    "random\n"
   ]
  },
  {
   "cell_type": "code",
   "execution_count": 39,
   "id": "741a1b52-0af3-43f2-afc2-851ead3f0f7a",
   "metadata": {
    "tags": []
   },
   "outputs": [
    {
     "name": "stdout",
     "output_type": "stream",
     "text": [
      "before shuffle [0 1 2 3 4]\n",
      "after shuffle [3 1 4 0 2]\n"
     ]
    }
   ],
   "source": [
    "#shuffle the array \n",
    "idx = np.arange(5)\n",
    "print('before shuffle', idx)\n",
    "np.random.shuffle(idx)\n",
    "print('after shuffle', idx)"
   ]
  },
  {
   "cell_type": "code",
   "execution_count": 40,
   "id": "6ad87c3c-2e17-4969-a89f-79793a924c52",
   "metadata": {
    "tags": []
   },
   "outputs": [
    {
     "data": {
      "text/plain": [
       "array([0, 1, 2, 3, 4])"
      ]
     },
     "execution_count": 40,
     "metadata": {},
     "output_type": "execute_result"
    }
   ],
   "source": [
    "#so numpy array are vectorized, means arithemtic applies to all \n",
    "arr = np.arange(5)\n",
    "arr*2\n",
    "arr"
   ]
  },
  {
   "cell_type": "markdown",
   "id": "758498d6-5234-4330-a77a-f6dac69e0342",
   "metadata": {},
   "source": [
    "It's also possible to have do the operation on two arrays if they have, same shape"
   ]
  },
  {
   "cell_type": "code",
   "execution_count": 41,
   "id": "a49b88b7-1f9b-428a-ba71-4a1c6625992a",
   "metadata": {
    "tags": []
   },
   "outputs": [],
   "source": [
    "noise = 0.01 * np.random.rand(5)\n",
    "numbers = np.arange(5)"
   ]
  },
  {
   "cell_type": "code",
   "execution_count": 42,
   "id": "4bc6f4df-56bb-427e-9db8-cfa26124fc48",
   "metadata": {
    "tags": []
   },
   "outputs": [
    {
     "data": {
      "text/plain": [
       "array([3.77274637e-03, 1.00383903e+00, 2.00302002e+00, 3.00195131e+00,\n",
       "       4.00736315e+00])"
      ]
     },
     "execution_count": 42,
     "metadata": {},
     "output_type": "execute_result"
    }
   ],
   "source": [
    "result = noise + numbers\n",
    "result"
   ]
  },
  {
   "cell_type": "code",
   "execution_count": 43,
   "id": "8524d14d-424f-40e8-947c-033687b683d4",
   "metadata": {
    "tags": []
   },
   "outputs": [
    {
     "data": {
      "text/plain": [
       "array([3.8000e-03, 1.0038e+00, 2.0030e+00, 3.0020e+00, 4.0074e+00])"
      ]
     },
     "execution_count": 43,
     "metadata": {},
     "output_type": "execute_result"
    }
   ],
   "source": [
    "result.round(4)"
   ]
  },
  {
   "cell_type": "code",
   "execution_count": 46,
   "id": "92eceeed-bfd3-4f0f-a3f1-c6b3c2e8514a",
   "metadata": {
    "tags": []
   },
   "outputs": [
    {
     "data": {
      "text/plain": [
       "array([0.7056, 0.7225, 0.4096])"
      ]
     },
     "execution_count": 46,
     "metadata": {},
     "output_type": "execute_result"
    }
   ],
   "source": [
    "pred = np.random.rand(3).round(2)\n",
    "pred = pred * pred\n",
    "pred"
   ]
  },
  {
   "cell_type": "code",
   "execution_count": 48,
   "id": "218cda42-75ab-4253-93f9-86f61ab82b3b",
   "metadata": {
    "tags": []
   },
   "outputs": [
    {
     "data": {
      "text/plain": [
       "array([2.02506136, 2.05957572, 1.50621518])"
      ]
     },
     "execution_count": 48,
     "metadata": {},
     "output_type": "execute_result"
    }
   ],
   "source": [
    "pred_exp = np.exp(pred) # exponent\n",
    "pred_exp"
   ]
  },
  {
   "cell_type": "code",
   "execution_count": 50,
   "id": "dd1f59a3-231f-4a87-857c-39e942399423",
   "metadata": {
    "tags": []
   },
   "outputs": [
    {
     "data": {
      "text/plain": [
       "array([-0.34870677, -0.32503786, -0.89257421])"
      ]
     },
     "execution_count": 50,
     "metadata": {},
     "output_type": "execute_result"
    }
   ],
   "source": [
    "pred_exp = np.log(pred)\n",
    "pred_exp"
   ]
  },
  {
   "cell_type": "code",
   "execution_count": 52,
   "id": "fcf09314-cd31-4e1a-a4f4-aad4fcd71687",
   "metadata": {
    "tags": []
   },
   "outputs": [
    {
     "data": {
      "text/plain": [
       "array([0.84, 0.85, 0.64])"
      ]
     },
     "execution_count": 52,
     "metadata": {},
     "output_type": "execute_result"
    }
   ],
   "source": [
    "pred_exp = np.sqrt(pred)\n",
    "pred_exp"
   ]
  },
  {
   "cell_type": "markdown",
   "id": "3403c496-07ea-4dd0-825f-3506d1501a78",
   "metadata": {},
   "source": [
    "Boolean expression could also be applied to the array"
   ]
  },
  {
   "cell_type": "code",
   "execution_count": 53,
   "id": "645e634e-0da3-4fac-8af8-e1192f25422c",
   "metadata": {
    "tags": []
   },
   "outputs": [
    {
     "data": {
      "text/plain": [
       "array([0.13, 0.18, 0.32, 0.96, 0.23])"
      ]
     },
     "execution_count": 53,
     "metadata": {},
     "output_type": "execute_result"
    }
   ],
   "source": [
    "pred = np.random.rand(5).round(2)\n",
    "pred"
   ]
  },
  {
   "cell_type": "code",
   "execution_count": 54,
   "id": "e18d055e-1d77-4759-ae7c-25951c8fa62b",
   "metadata": {
    "tags": []
   },
   "outputs": [
    {
     "data": {
      "text/plain": [
       "array([False, False, False,  True, False])"
      ]
     },
     "execution_count": 54,
     "metadata": {},
     "output_type": "execute_result"
    }
   ],
   "source": [
    "output = pred > .4\n",
    "output"
   ]
  },
  {
   "cell_type": "code",
   "execution_count": 56,
   "id": "1e879058-4464-4368-8e16-6026974784d7",
   "metadata": {
    "tags": []
   },
   "outputs": [
    {
     "name": "stdout",
     "output_type": "stream",
     "text": [
      "[ 0.185  2.611  0.371 -1.418  0.571  0.488  0.581 -0.424  0.413 -0.569]\n",
      "[0.934 0.716 0.128 0.122 0.605 0.984 0.904 0.261 0.597 0.334]\n"
     ]
    }
   ],
   "source": [
    "pred1 = np.random.randn(10).round(3)\n",
    "pred2 = np.random.rand(10).round(3)\n",
    "print(pred1)\n",
    "print(pred2)"
   ]
  },
  {
   "cell_type": "code",
   "execution_count": 57,
   "id": "a8ff211c-6fbf-47ba-8027-8564fa0102b0",
   "metadata": {
    "tags": []
   },
   "outputs": [
    {
     "data": {
      "text/plain": [
       "array([False,  True,  True, False, False, False, False, False, False,\n",
       "       False])"
      ]
     },
     "execution_count": 57,
     "metadata": {},
     "output_type": "execute_result"
    }
   ],
   "source": [
    "output = pred1 >= pred2\n",
    "output"
   ]
  },
  {
   "cell_type": "markdown",
   "id": "7e843196-8e90-4f2b-bebd-ee9990a760a7",
   "metadata": {},
   "source": [
    "Summarizing Operations"
   ]
  },
  {
   "cell_type": "code",
   "execution_count": 58,
   "id": "2e6fc504-c77d-4966-a5b9-349e9a2ba067",
   "metadata": {
    "tags": []
   },
   "outputs": [
    {
     "data": {
      "text/plain": [
       "array([0.45, 0.64, 0.34])"
      ]
     },
     "execution_count": 58,
     "metadata": {},
     "output_type": "execute_result"
    }
   ],
   "source": [
    "pred = np.random.rand(3).round(2)\n",
    "pred"
   ]
  },
  {
   "cell_type": "code",
   "execution_count": 59,
   "id": "31b14e56-3704-4a94-b3d2-82fb057718fe",
   "metadata": {
    "tags": []
   },
   "outputs": [
    {
     "data": {
      "text/plain": [
       "1.4300000000000002"
      ]
     },
     "execution_count": 59,
     "metadata": {},
     "output_type": "execute_result"
    }
   ],
   "source": [
    "pred.sum()"
   ]
  },
  {
   "cell_type": "code",
   "execution_count": 60,
   "id": "010b2365-5571-4b6a-82f5-8906fcffaec2",
   "metadata": {
    "tags": []
   },
   "outputs": [
    {
     "ename": "AttributeError",
     "evalue": "'numpy.ndarray' object has no attribute 'avg'",
     "output_type": "error",
     "traceback": [
      "\u001b[0;31m---------------------------------------------------------------------------\u001b[0m",
      "\u001b[0;31mAttributeError\u001b[0m                            Traceback (most recent call last)",
      "Cell \u001b[0;32mIn[60], line 1\u001b[0m\n\u001b[0;32m----> 1\u001b[0m \u001b[43mpred\u001b[49m\u001b[38;5;241;43m.\u001b[39;49m\u001b[43mavg\u001b[49m()\n",
      "\u001b[0;31mAttributeError\u001b[0m: 'numpy.ndarray' object has no attribute 'avg'"
     ]
    }
   ],
   "source": [
    "pred.avg()"
   ]
  },
  {
   "cell_type": "code",
   "execution_count": 61,
   "id": "88c01e0a-1805-45a7-9393-9663b113bfef",
   "metadata": {
    "tags": []
   },
   "outputs": [
    {
     "data": {
      "text/plain": [
       "0.34"
      ]
     },
     "execution_count": 61,
     "metadata": {},
     "output_type": "execute_result"
    }
   ],
   "source": [
    "pred.min()"
   ]
  },
  {
   "cell_type": "code",
   "execution_count": 62,
   "id": "5811c088-5f75-4b9b-bcb1-6f2d6dee7b88",
   "metadata": {
    "tags": []
   },
   "outputs": [
    {
     "data": {
      "text/plain": [
       "0.64"
      ]
     },
     "execution_count": 62,
     "metadata": {},
     "output_type": "execute_result"
    }
   ],
   "source": [
    "pred.max()"
   ]
  },
  {
   "cell_type": "code",
   "execution_count": 64,
   "id": "99eaa17c-059d-44b5-b54b-1b9baddae5da",
   "metadata": {
    "tags": []
   },
   "outputs": [
    {
     "data": {
      "text/plain": [
       "0.47666666666666674"
      ]
     },
     "execution_count": 64,
     "metadata": {},
     "output_type": "execute_result"
    }
   ],
   "source": [
    "pred.mean()"
   ]
  },
  {
   "cell_type": "code",
   "execution_count": 65,
   "id": "0e06ad2a-eccf-4381-bc12-60206e68a1e7",
   "metadata": {
    "tags": []
   },
   "outputs": [
    {
     "data": {
      "text/plain": [
       "0.1239175353029407"
      ]
     },
     "execution_count": 65,
     "metadata": {},
     "output_type": "execute_result"
    }
   ],
   "source": [
    "pred.std()"
   ]
  },
  {
   "cell_type": "markdown",
   "id": "26601972-a853-4220-95bb-3418ebe742e1",
   "metadata": {},
   "source": [
    "it’s also possible to apply these operations to rows or columns separately."
   ]
  },
  {
   "cell_type": "code",
   "execution_count": 71,
   "id": "51f07555-cb4f-4ea1-9aa2-758d52265a92",
   "metadata": {
    "tags": []
   },
   "outputs": [
    {
     "data": {
      "text/plain": [
       "array([[0.1 , 0.34, 0.82, 0.92, 0.76],\n",
       "       [0.88, 0.85, 0.17, 0.58, 0.35],\n",
       "       [0.74, 0.03, 0.17, 0.13, 0.98],\n",
       "       [0.93, 0.71, 0.94, 0.74, 0.38],\n",
       "       [0.89, 0.58, 0.83, 0.1 , 0.12]])"
      ]
     },
     "execution_count": 71,
     "metadata": {},
     "output_type": "execute_result"
    }
   ],
   "source": [
    "array = np.random.rand(5,5).round(2)\n",
    "array"
   ]
  },
  {
   "cell_type": "code",
   "execution_count": 72,
   "id": "7efd0ffa-ec3f-456a-8433-4a7b4c7e72f8",
   "metadata": {
    "tags": []
   },
   "outputs": [
    {
     "data": {
      "text/plain": [
       "array([0.92, 0.88, 0.98, 0.94, 0.89])"
      ]
     },
     "execution_count": 72,
     "metadata": {},
     "output_type": "execute_result"
    }
   ],
   "source": [
    "maximum = array.max(axis=1)\n",
    "maximum"
   ]
  },
  {
   "cell_type": "code",
   "execution_count": 73,
   "id": "f1bd696b-7bbc-4083-83a1-6130312baf60",
   "metadata": {
    "tags": []
   },
   "outputs": [
    {
     "data": {
      "text/plain": [
       "array([3.54, 2.51, 2.93, 2.47, 2.59])"
      ]
     },
     "execution_count": 73,
     "metadata": {},
     "output_type": "execute_result"
    }
   ],
   "source": [
    "sum_col = array.sum(axis=0)\n",
    "sum_col"
   ]
  },
  {
   "cell_type": "markdown",
   "id": "3a9e256e-51d4-4354-aa63-0120d09d49a7",
   "metadata": {},
   "source": [
    "Sorting a numpy array "
   ]
  },
  {
   "cell_type": "code",
   "execution_count": 83,
   "id": "543f23f4-ebac-40ff-9d8d-3f30aeb940a9",
   "metadata": {
    "tags": []
   },
   "outputs": [
    {
     "data": {
      "text/plain": [
       "array([0.7 , 0.9 , 0.76, 0.76])"
      ]
     },
     "execution_count": 83,
     "metadata": {},
     "output_type": "execute_result"
    }
   ],
   "source": [
    "pred = np.random.rand(4).round(2)\n",
    "pred"
   ]
  },
  {
   "cell_type": "code",
   "execution_count": 84,
   "id": "a0c07d35-d273-4922-9b7a-7f7d64a5db79",
   "metadata": {
    "tags": []
   },
   "outputs": [
    {
     "name": "stdout",
     "output_type": "stream",
     "text": [
      "[0.7  0.76 0.76 0.9 ]\n",
      "[0.7  0.9  0.76 0.76]\n"
     ]
    }
   ],
   "source": [
    "print(np.sort(pred))\n",
    "print(pred)"
   ]
  },
  {
   "cell_type": "code",
   "execution_count": 79,
   "id": "d7751853-f503-4483-a8ce-b2c9267aa68d",
   "metadata": {
    "tags": []
   },
   "outputs": [
    {
     "name": "stdout",
     "output_type": "stream",
     "text": [
      "[0.17 0.43 0.53 0.74]\n"
     ]
    }
   ],
   "source": [
    "pred.sort()\n",
    "print(pred)"
   ]
  },
  {
   "cell_type": "code",
   "execution_count": 85,
   "id": "59b155fa-1230-4f2a-9df1-e15e4b59d379",
   "metadata": {
    "tags": []
   },
   "outputs": [
    {
     "data": {
      "text/plain": [
       "array([0, 2, 3, 1])"
      ]
     },
     "execution_count": 85,
     "metadata": {},
     "output_type": "execute_result"
    }
   ],
   "source": [
    "pred.argsort()"
   ]
  },
  {
   "cell_type": "markdown",
   "id": "81301435-ebcf-4062-843c-5784a80585ca",
   "metadata": {},
   "source": [
    "Reshaping the numpy array"
   ]
  },
  {
   "cell_type": "code",
   "execution_count": 88,
   "id": "0220eec3-9942-4735-800b-04d3e25a4291",
   "metadata": {
    "tags": []
   },
   "outputs": [
    {
     "data": {
      "text/plain": [
       "array([ 0,  1,  2,  3,  4,  5,  6,  7,  8,  9, 10, 11])"
      ]
     },
     "execution_count": 88,
     "metadata": {},
     "output_type": "execute_result"
    }
   ],
   "source": [
    "arr = np.arange(12)\n",
    "arr"
   ]
  },
  {
   "cell_type": "code",
   "execution_count": 89,
   "id": "54349833-a8c4-42bc-b3a5-fbabfde77d7a",
   "metadata": {
    "tags": []
   },
   "outputs": [
    {
     "data": {
      "text/plain": [
       "(12,)"
      ]
     },
     "execution_count": 89,
     "metadata": {},
     "output_type": "execute_result"
    }
   ],
   "source": [
    "arr.shape"
   ]
  },
  {
   "cell_type": "code",
   "execution_count": 91,
   "id": "39a241c1-e5d7-4a45-bc9c-e3efd8220488",
   "metadata": {
    "tags": []
   },
   "outputs": [
    {
     "data": {
      "text/plain": [
       "array([[ 0,  1,  2,  3],\n",
       "       [ 4,  5,  6,  7],\n",
       "       [ 8,  9, 10, 11]])"
      ]
     },
     "execution_count": 91,
     "metadata": {},
     "output_type": "execute_result"
    }
   ],
   "source": [
    "arr.reshape(3,4)"
   ]
  },
  {
   "cell_type": "markdown",
   "id": "03537e15-18a1-44da-8f27-1277b93061db",
   "metadata": {},
   "source": [
    "Combining two arrays together "
   ]
  },
  {
   "cell_type": "code",
   "execution_count": 92,
   "id": "490721e9-5b82-4ec9-911f-b69db05b5758",
   "metadata": {
    "tags": []
   },
   "outputs": [],
   "source": [
    "vec = np.arange(3)\n",
    "mat = np.arange(6).reshape(3, 2)"
   ]
  },
  {
   "cell_type": "code",
   "execution_count": 96,
   "id": "58a2d977-5b58-434c-a389-ba64486d72e6",
   "metadata": {
    "tags": []
   },
   "outputs": [
    {
     "name": "stdout",
     "output_type": "stream",
     "text": [
      "[0 1 2]\n",
      "[[0 1]\n",
      " [2 3]\n",
      " [4 5]]\n"
     ]
    }
   ],
   "source": [
    "print(vec)\n",
    "print(mat)"
   ]
  },
  {
   "cell_type": "code",
   "execution_count": 95,
   "id": "dcdc8ef5-fe13-4c87-84a7-61f3c37be2f3",
   "metadata": {
    "tags": []
   },
   "outputs": [
    {
     "data": {
      "text/plain": [
       "array([0, 1, 2, 0, 1, 2])"
      ]
     },
     "execution_count": 95,
     "metadata": {},
     "output_type": "execute_result"
    }
   ],
   "source": [
    "np.concatenate([vec, vec])"
   ]
  },
  {
   "cell_type": "code",
   "execution_count": 97,
   "id": "f3339c6a-13c1-4677-86c1-8754d91a21e6",
   "metadata": {
    "tags": []
   },
   "outputs": [
    {
     "data": {
      "text/plain": [
       "array([0, 1, 2, 0, 1, 2])"
      ]
     },
     "execution_count": 97,
     "metadata": {},
     "output_type": "execute_result"
    }
   ],
   "source": [
    "np.hstack([vec,vec])"
   ]
  },
  {
   "cell_type": "markdown",
   "id": "8463b31e-a5e0-4434-918a-986797a17bdc",
   "metadata": {},
   "source": [
    "But there is difference in how hstack and concatenate works on two dimensional array"
   ]
  },
  {
   "cell_type": "markdown",
   "id": "bc91a658-b884-4546-9560-02b111804a24",
   "metadata": {},
   "source": [
    "concatenate: takes one dimensional array and returns big one dimensional array"
   ]
  },
  {
   "cell_type": "code",
   "execution_count": 98,
   "id": "06d04dcc-0d1e-4a0d-8293-ae955a4aa4b7",
   "metadata": {
    "tags": []
   },
   "outputs": [
    {
     "data": {
      "text/plain": [
       "array([[0, 1],\n",
       "       [2, 3],\n",
       "       [4, 5],\n",
       "       [0, 1],\n",
       "       [2, 3],\n",
       "       [4, 5]])"
      ]
     },
     "execution_count": 98,
     "metadata": {},
     "output_type": "execute_result"
    }
   ],
   "source": [
    "np.concatenate([mat,mat])"
   ]
  },
  {
   "cell_type": "code",
   "execution_count": 111,
   "id": "08cf284c-5180-4da4-b4f6-9d10e28d4f60",
   "metadata": {
    "tags": []
   },
   "outputs": [
    {
     "data": {
      "text/plain": [
       "array([[0, 1, 0, 1],\n",
       "       [2, 3, 2, 3],\n",
       "       [4, 5, 4, 5]])"
      ]
     },
     "execution_count": 111,
     "metadata": {},
     "output_type": "execute_result"
    }
   ],
   "source": [
    "hstack = np.hstack([mat, mat])\n",
    "hstack"
   ]
  },
  {
   "cell_type": "code",
   "execution_count": 109,
   "id": "45ecd1ec-6b0a-4f67-9a78-020942ee36b0",
   "metadata": {
    "tags": []
   },
   "outputs": [
    {
     "data": {
      "text/plain": [
       "array([[0, 1, 0, 1],\n",
       "       [2, 3, 2, 3],\n",
       "       [4, 5, 4, 5],\n",
       "       [0, 1, 0, 1],\n",
       "       [2, 3, 2, 3],\n",
       "       [4, 5, 4, 5]])"
      ]
     },
     "execution_count": 109,
     "metadata": {},
     "output_type": "execute_result"
    }
   ],
   "source": [
    "np.vstack([hstack, hstack])"
   ]
  },
  {
   "cell_type": "code",
   "execution_count": 107,
   "id": "6ed696b1-0639-4b92-be30-0b53df744ea9",
   "metadata": {
    "tags": []
   },
   "outputs": [
    {
     "data": {
      "text/plain": [
       "array([[0, 1, 0, 1],\n",
       "       [2, 3, 2, 3],\n",
       "       [4, 5, 4, 5]])"
      ]
     },
     "execution_count": 107,
     "metadata": {},
     "output_type": "execute_result"
    }
   ],
   "source": [
    "np.column_stack([mat, mat])"
   ]
  },
  {
   "cell_type": "code",
   "execution_count": 114,
   "id": "646e8d46-ed2e-43a3-83db-13e0b7377a1c",
   "metadata": {
    "tags": []
   },
   "outputs": [
    {
     "data": {
      "text/plain": [
       "array([[0, 2, 4],\n",
       "       [1, 3, 5],\n",
       "       [0, 1, 2]])"
      ]
     },
     "execution_count": 114,
     "metadata": {},
     "output_type": "execute_result"
    }
   ],
   "source": [
    "# vstack can also stack togehter stack and matricies\n",
    "\n",
    "np.vstack([mat.T, vec])"
   ]
  },
  {
   "cell_type": "code",
   "execution_count": null,
   "id": "d6280a8e-ee43-4f99-af22-b2c6c7fd0f80",
   "metadata": {},
   "outputs": [],
   "source": []
  }
 ],
 "metadata": {
  "kernelspec": {
   "display_name": "Python 3 (ipykernel)",
   "language": "python",
   "name": "python3"
  },
  "language_info": {
   "codemirror_mode": {
    "name": "ipython",
    "version": 3
   },
   "file_extension": ".py",
   "mimetype": "text/x-python",
   "name": "python",
   "nbconvert_exporter": "python",
   "pygments_lexer": "ipython3",
   "version": "3.9.16"
  }
 },
 "nbformat": 4,
 "nbformat_minor": 5
}
