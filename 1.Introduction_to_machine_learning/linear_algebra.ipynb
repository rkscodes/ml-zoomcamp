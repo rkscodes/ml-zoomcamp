{
 "cells": [
  {
   "cell_type": "code",
   "execution_count": 2,
   "id": "4c37fc9b-641d-491d-a6e6-38b7d1cacbb6",
   "metadata": {
    "tags": []
   },
   "outputs": [],
   "source": [
    "import numpy as np "
   ]
  },
  {
   "cell_type": "code",
   "execution_count": 3,
   "id": "698b2575-7c5a-416d-acab-029849de6051",
   "metadata": {
    "tags": []
   },
   "outputs": [
    {
     "data": {
      "text/plain": [
       "array([ 6,  8, 16, 12])"
      ]
     },
     "execution_count": 3,
     "metadata": {},
     "output_type": "execute_result"
    }
   ],
   "source": [
    "u = np.array([2, 7, 5, 6])\n",
    "v = np.array([3, 4, 8, 6])\n",
    "\n",
    "# addition \n",
    "u + v\n",
    "\n",
    "# subtraction \n",
    "u - v\n",
    "\n",
    "# scalar multiplication \n",
    "2 * v"
   ]
  },
  {
   "cell_type": "code",
   "execution_count": 16,
   "id": "53203ec5-4463-4464-ab31-761b816bd342",
   "metadata": {
    "tags": []
   },
   "outputs": [],
   "source": [
    "#Vector-vector multiplication\n",
    "\n",
    "def vector_vector_multiplication(u,v):\n",
    "    assert u.shape[0] == v.shape[0]\n",
    "    \n",
    "    result = 0 \n",
    "    size = u.shape[0]\n",
    "    for i in range(size):\n",
    "        result += u[i] * v[i]\n",
    "    return result\n",
    "        "
   ]
  },
  {
   "cell_type": "code",
   "execution_count": 11,
   "id": "80c19888-db6d-4ed8-904f-2ec0fdf83bb1",
   "metadata": {
    "tags": []
   },
   "outputs": [],
   "source": [
    "def vector_vector_multiplication_(u, v):\n",
    "    assert u.shape[0] == v.shape[0]\n",
    "    \n",
    "    n = u.shape[0]\n",
    "    \n",
    "    result = 0.0\n",
    "\n",
    "    for i in range(n):\n",
    "        result = result + u[i] * v[i]\n",
    "    \n",
    "    return result"
   ]
  },
  {
   "cell_type": "code",
   "execution_count": 17,
   "id": "dc1d7ddd-9ed8-4431-837d-1939730d474b",
   "metadata": {
    "tags": []
   },
   "outputs": [
    {
     "data": {
      "text/plain": [
       "True"
      ]
     },
     "execution_count": 17,
     "metadata": {},
     "output_type": "execute_result"
    }
   ],
   "source": [
    "vector_vector_multiplication(u,v) == vector_vector_multiplication_(u,v)"
   ]
  },
  {
   "cell_type": "code",
   "execution_count": 40,
   "id": "6e36cdbb-1d2b-4f73-a89c-0ed3214c3889",
   "metadata": {
    "tags": []
   },
   "outputs": [],
   "source": [
    "#Matrix-vector multiplication\n",
    "\n",
    "def matrix_vector_multiplication(U, v):\n",
    "    assert U.shape[1] == v.shape[0]\n",
    "    size = U.shape[0]\n",
    "    result = np.ones(size)\n",
    "    for i in range(size):\n",
    "        result[i] = vector_vector_multiplication(U[i], v)\n",
    "    return result\n",
    "        "
   ]
  },
  {
   "cell_type": "code",
   "execution_count": 39,
   "id": "c87c58bd-9cc2-4967-83f7-2d95b5dbcd07",
   "metadata": {
    "tags": []
   },
   "outputs": [
    {
     "data": {
      "text/plain": [
       "array([[0.34, 0.45, 0.23, 0.19],\n",
       "       [0.86, 0.89, 0.36, 0.29],\n",
       "       [0.9 , 0.01, 0.2 , 0.39],\n",
       "       [0.23, 0.12, 0.95, 0.21]])"
      ]
     },
     "execution_count": 39,
     "metadata": {},
     "output_type": "execute_result"
    }
   ],
   "source": [
    "U= np.random.rand(4,4).round(2)\n",
    "U"
   ]
  },
  {
   "cell_type": "code",
   "execution_count": 41,
   "id": "11cb9daa-0bdc-436e-814a-32ec2bd981b2",
   "metadata": {
    "tags": []
   },
   "outputs": [],
   "source": [
    "# og implementation\n",
    "def matrix_vector_multiplication_(U, v):\n",
    "    assert U.shape[1] == v.shape[0]\n",
    "    \n",
    "    num_rows = U.shape[0]\n",
    "    \n",
    "    result = np.zeros(num_rows)\n",
    "    \n",
    "    for i in range(num_rows):\n",
    "        result[i] = vector_vector_multiplication(U[i], v)\n",
    "    \n",
    "    return result"
   ]
  },
  {
   "cell_type": "code",
   "execution_count": 45,
   "id": "96837461-4d24-46fa-a348-cf279c251a48",
   "metadata": {
    "tags": []
   },
   "outputs": [
    {
     "data": {
      "text/plain": [
       "array([ True,  True,  True,  True])"
      ]
     },
     "execution_count": 45,
     "metadata": {},
     "output_type": "execute_result"
    }
   ],
   "source": [
    "matrix_vector_multiplication_(U,v) == matrix_vector_multiplication(U,v)"
   ]
  },
  {
   "cell_type": "code",
   "execution_count": 47,
   "id": "d5d928fe-43e7-401f-92f9-8f1be36054d1",
   "metadata": {
    "tags": []
   },
   "outputs": [],
   "source": [
    "## matrix matrix multiplication\n",
    "\n",
    "def matrix_matrix_multiplication(U,V):\n",
    "    assert U.shape[1] == V.shape[0]\n",
    "    size = V.shape[1]\n",
    "    result = np.ones(U.shape[0], V.shape[1])\n",
    "    \n",
    "    for i in range(shape):\n",
    "        result[:, i] = matrix_vector_multiplication(U, V[:, i])\n",
    "    \n",
    "    return result"
   ]
  },
  {
   "cell_type": "code",
   "execution_count": 49,
   "id": "82debcd9-ef74-4d6e-909d-8b3b671a9172",
   "metadata": {
    "tags": []
   },
   "outputs": [],
   "source": [
    "V  = np.random.randint(low=10, high=100, size=(4,4))"
   ]
  },
  {
   "cell_type": "code",
   "execution_count": 50,
   "id": "77a6f763-bdf5-40f1-b640-f4506d7f9c01",
   "metadata": {
    "tags": []
   },
   "outputs": [
    {
     "data": {
      "text/plain": [
       "array([[15, 72, 91, 68],\n",
       "       [15, 16, 15, 21],\n",
       "       [35, 55, 61, 50],\n",
       "       [22, 98, 57, 64]])"
      ]
     },
     "execution_count": 50,
     "metadata": {},
     "output_type": "execute_result"
    }
   ],
   "source": [
    "V"
   ]
  },
  {
   "cell_type": "code",
   "execution_count": 52,
   "id": "0f481980-ee0a-475d-aa6d-6680fcae3394",
   "metadata": {
    "tags": []
   },
   "outputs": [],
   "source": [
    "def matrix_matrix_multiplication_(U, V):\n",
    "    assert U.shape[1] == V.shape[0]\n",
    "    \n",
    "    num_rows = U.shape[0]\n",
    "    num_cols = V.shape[1]\n",
    "    \n",
    "    result = np.zeros((num_rows, num_cols))\n",
    "    \n",
    "    for i in range(num_cols):\n",
    "        vi = V[:, i]\n",
    "        Uvi = matrix_vector_multiplication(U, vi)\n",
    "        result[:, i] = Uvi\n",
    "    \n",
    "    return result"
   ]
  },
  {
   "cell_type": "code",
   "execution_count": 54,
   "id": "533fe4d9-137a-46ba-b9ec-cd2edc10b51c",
   "metadata": {
    "tags": []
   },
   "outputs": [
    {
     "data": {
      "text/plain": [
       "array([[ 24.08,  62.95,  62.55,  56.23],\n",
       "       [ 45.23, 124.38, 130.1 , 113.73],\n",
       "       [ 29.23, 114.18, 116.48,  96.37],\n",
       "       [ 43.12,  91.31,  92.65,  79.1 ]])"
      ]
     },
     "execution_count": 54,
     "metadata": {},
     "output_type": "execute_result"
    }
   ],
   "source": [
    "matrix_matrix_multiplication(U,V)"
   ]
  },
  {
   "cell_type": "code",
   "execution_count": 55,
   "id": "becaf535-6de9-46ba-9d67-1d76d3237c94",
   "metadata": {
    "tags": []
   },
   "outputs": [
    {
     "data": {
      "text/plain": [
       "array([[ 24.08,  62.95,  62.55,  56.23],\n",
       "       [ 45.23, 124.38, 130.1 , 113.73],\n",
       "       [ 29.23, 114.18, 116.48,  96.37],\n",
       "       [ 43.12,  91.31,  92.65,  79.1 ]])"
      ]
     },
     "execution_count": 55,
     "metadata": {},
     "output_type": "execute_result"
    }
   ],
   "source": [
    "matrix_matrix_multiplication_(U,V)"
   ]
  }
 ],
 "metadata": {
  "kernelspec": {
   "display_name": "Python 3 (ipykernel)",
   "language": "python",
   "name": "python3"
  },
  "language_info": {
   "codemirror_mode": {
    "name": "ipython",
    "version": 3
   },
   "file_extension": ".py",
   "mimetype": "text/x-python",
   "name": "python",
   "nbconvert_exporter": "python",
   "pygments_lexer": "ipython3",
   "version": "3.9.16"
  }
 },
 "nbformat": 4,
 "nbformat_minor": 5
}
