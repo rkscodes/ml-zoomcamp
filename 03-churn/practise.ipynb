{
 "cells": [
  {
   "cell_type": "code",
   "execution_count": 22,
   "id": "de190230-266a-4193-8b20-dedb43aefc0c",
   "metadata": {
    "tags": []
   },
   "outputs": [],
   "source": [
    "import numpy as np \n",
    "import pandas as pd\n",
    "import seaborn as sns"
   ]
  },
  {
   "cell_type": "code",
   "execution_count": 23,
   "id": "74d23ab9-6dc8-4405-b3de-54a473d996da",
   "metadata": {
    "tags": []
   },
   "outputs": [],
   "source": [
    "df = pd.read_csv('churn.csv')"
   ]
  },
  {
   "cell_type": "code",
   "execution_count": 24,
   "id": "7c38eda9-ea6b-45dd-b657-15885e6edbd7",
   "metadata": {
    "tags": []
   },
   "outputs": [
    {
     "data": {
      "text/html": [
       "<div>\n",
       "<style scoped>\n",
       "    .dataframe tbody tr th:only-of-type {\n",
       "        vertical-align: middle;\n",
       "    }\n",
       "\n",
       "    .dataframe tbody tr th {\n",
       "        vertical-align: top;\n",
       "    }\n",
       "\n",
       "    .dataframe thead th {\n",
       "        text-align: right;\n",
       "    }\n",
       "</style>\n",
       "<table border=\"1\" class=\"dataframe\">\n",
       "  <thead>\n",
       "    <tr style=\"text-align: right;\">\n",
       "      <th></th>\n",
       "      <th>customerID</th>\n",
       "      <th>gender</th>\n",
       "      <th>SeniorCitizen</th>\n",
       "      <th>Partner</th>\n",
       "      <th>Dependents</th>\n",
       "      <th>tenure</th>\n",
       "      <th>PhoneService</th>\n",
       "      <th>MultipleLines</th>\n",
       "      <th>InternetService</th>\n",
       "      <th>OnlineSecurity</th>\n",
       "      <th>...</th>\n",
       "      <th>DeviceProtection</th>\n",
       "      <th>TechSupport</th>\n",
       "      <th>StreamingTV</th>\n",
       "      <th>StreamingMovies</th>\n",
       "      <th>Contract</th>\n",
       "      <th>PaperlessBilling</th>\n",
       "      <th>PaymentMethod</th>\n",
       "      <th>MonthlyCharges</th>\n",
       "      <th>TotalCharges</th>\n",
       "      <th>Churn</th>\n",
       "    </tr>\n",
       "  </thead>\n",
       "  <tbody>\n",
       "    <tr>\n",
       "      <th>0</th>\n",
       "      <td>7590-VHVEG</td>\n",
       "      <td>Female</td>\n",
       "      <td>0</td>\n",
       "      <td>Yes</td>\n",
       "      <td>No</td>\n",
       "      <td>1</td>\n",
       "      <td>No</td>\n",
       "      <td>No phone service</td>\n",
       "      <td>DSL</td>\n",
       "      <td>No</td>\n",
       "      <td>...</td>\n",
       "      <td>No</td>\n",
       "      <td>No</td>\n",
       "      <td>No</td>\n",
       "      <td>No</td>\n",
       "      <td>Month-to-month</td>\n",
       "      <td>Yes</td>\n",
       "      <td>Electronic check</td>\n",
       "      <td>29.85</td>\n",
       "      <td>29.85</td>\n",
       "      <td>No</td>\n",
       "    </tr>\n",
       "    <tr>\n",
       "      <th>1</th>\n",
       "      <td>5575-GNVDE</td>\n",
       "      <td>Male</td>\n",
       "      <td>0</td>\n",
       "      <td>No</td>\n",
       "      <td>No</td>\n",
       "      <td>34</td>\n",
       "      <td>Yes</td>\n",
       "      <td>No</td>\n",
       "      <td>DSL</td>\n",
       "      <td>Yes</td>\n",
       "      <td>...</td>\n",
       "      <td>Yes</td>\n",
       "      <td>No</td>\n",
       "      <td>No</td>\n",
       "      <td>No</td>\n",
       "      <td>One year</td>\n",
       "      <td>No</td>\n",
       "      <td>Mailed check</td>\n",
       "      <td>56.95</td>\n",
       "      <td>1889.5</td>\n",
       "      <td>No</td>\n",
       "    </tr>\n",
       "    <tr>\n",
       "      <th>2</th>\n",
       "      <td>3668-QPYBK</td>\n",
       "      <td>Male</td>\n",
       "      <td>0</td>\n",
       "      <td>No</td>\n",
       "      <td>No</td>\n",
       "      <td>2</td>\n",
       "      <td>Yes</td>\n",
       "      <td>No</td>\n",
       "      <td>DSL</td>\n",
       "      <td>Yes</td>\n",
       "      <td>...</td>\n",
       "      <td>No</td>\n",
       "      <td>No</td>\n",
       "      <td>No</td>\n",
       "      <td>No</td>\n",
       "      <td>Month-to-month</td>\n",
       "      <td>Yes</td>\n",
       "      <td>Mailed check</td>\n",
       "      <td>53.85</td>\n",
       "      <td>108.15</td>\n",
       "      <td>Yes</td>\n",
       "    </tr>\n",
       "    <tr>\n",
       "      <th>3</th>\n",
       "      <td>7795-CFOCW</td>\n",
       "      <td>Male</td>\n",
       "      <td>0</td>\n",
       "      <td>No</td>\n",
       "      <td>No</td>\n",
       "      <td>45</td>\n",
       "      <td>No</td>\n",
       "      <td>No phone service</td>\n",
       "      <td>DSL</td>\n",
       "      <td>Yes</td>\n",
       "      <td>...</td>\n",
       "      <td>Yes</td>\n",
       "      <td>Yes</td>\n",
       "      <td>No</td>\n",
       "      <td>No</td>\n",
       "      <td>One year</td>\n",
       "      <td>No</td>\n",
       "      <td>Bank transfer (automatic)</td>\n",
       "      <td>42.30</td>\n",
       "      <td>1840.75</td>\n",
       "      <td>No</td>\n",
       "    </tr>\n",
       "    <tr>\n",
       "      <th>4</th>\n",
       "      <td>9237-HQITU</td>\n",
       "      <td>Female</td>\n",
       "      <td>0</td>\n",
       "      <td>No</td>\n",
       "      <td>No</td>\n",
       "      <td>2</td>\n",
       "      <td>Yes</td>\n",
       "      <td>No</td>\n",
       "      <td>Fiber optic</td>\n",
       "      <td>No</td>\n",
       "      <td>...</td>\n",
       "      <td>No</td>\n",
       "      <td>No</td>\n",
       "      <td>No</td>\n",
       "      <td>No</td>\n",
       "      <td>Month-to-month</td>\n",
       "      <td>Yes</td>\n",
       "      <td>Electronic check</td>\n",
       "      <td>70.70</td>\n",
       "      <td>151.65</td>\n",
       "      <td>Yes</td>\n",
       "    </tr>\n",
       "    <tr>\n",
       "      <th>...</th>\n",
       "      <td>...</td>\n",
       "      <td>...</td>\n",
       "      <td>...</td>\n",
       "      <td>...</td>\n",
       "      <td>...</td>\n",
       "      <td>...</td>\n",
       "      <td>...</td>\n",
       "      <td>...</td>\n",
       "      <td>...</td>\n",
       "      <td>...</td>\n",
       "      <td>...</td>\n",
       "      <td>...</td>\n",
       "      <td>...</td>\n",
       "      <td>...</td>\n",
       "      <td>...</td>\n",
       "      <td>...</td>\n",
       "      <td>...</td>\n",
       "      <td>...</td>\n",
       "      <td>...</td>\n",
       "      <td>...</td>\n",
       "      <td>...</td>\n",
       "    </tr>\n",
       "    <tr>\n",
       "      <th>7038</th>\n",
       "      <td>6840-RESVB</td>\n",
       "      <td>Male</td>\n",
       "      <td>0</td>\n",
       "      <td>Yes</td>\n",
       "      <td>Yes</td>\n",
       "      <td>24</td>\n",
       "      <td>Yes</td>\n",
       "      <td>Yes</td>\n",
       "      <td>DSL</td>\n",
       "      <td>Yes</td>\n",
       "      <td>...</td>\n",
       "      <td>Yes</td>\n",
       "      <td>Yes</td>\n",
       "      <td>Yes</td>\n",
       "      <td>Yes</td>\n",
       "      <td>One year</td>\n",
       "      <td>Yes</td>\n",
       "      <td>Mailed check</td>\n",
       "      <td>84.80</td>\n",
       "      <td>1990.5</td>\n",
       "      <td>No</td>\n",
       "    </tr>\n",
       "    <tr>\n",
       "      <th>7039</th>\n",
       "      <td>2234-XADUH</td>\n",
       "      <td>Female</td>\n",
       "      <td>0</td>\n",
       "      <td>Yes</td>\n",
       "      <td>Yes</td>\n",
       "      <td>72</td>\n",
       "      <td>Yes</td>\n",
       "      <td>Yes</td>\n",
       "      <td>Fiber optic</td>\n",
       "      <td>No</td>\n",
       "      <td>...</td>\n",
       "      <td>Yes</td>\n",
       "      <td>No</td>\n",
       "      <td>Yes</td>\n",
       "      <td>Yes</td>\n",
       "      <td>One year</td>\n",
       "      <td>Yes</td>\n",
       "      <td>Credit card (automatic)</td>\n",
       "      <td>103.20</td>\n",
       "      <td>7362.9</td>\n",
       "      <td>No</td>\n",
       "    </tr>\n",
       "    <tr>\n",
       "      <th>7040</th>\n",
       "      <td>4801-JZAZL</td>\n",
       "      <td>Female</td>\n",
       "      <td>0</td>\n",
       "      <td>Yes</td>\n",
       "      <td>Yes</td>\n",
       "      <td>11</td>\n",
       "      <td>No</td>\n",
       "      <td>No phone service</td>\n",
       "      <td>DSL</td>\n",
       "      <td>Yes</td>\n",
       "      <td>...</td>\n",
       "      <td>No</td>\n",
       "      <td>No</td>\n",
       "      <td>No</td>\n",
       "      <td>No</td>\n",
       "      <td>Month-to-month</td>\n",
       "      <td>Yes</td>\n",
       "      <td>Electronic check</td>\n",
       "      <td>29.60</td>\n",
       "      <td>346.45</td>\n",
       "      <td>No</td>\n",
       "    </tr>\n",
       "    <tr>\n",
       "      <th>7041</th>\n",
       "      <td>8361-LTMKD</td>\n",
       "      <td>Male</td>\n",
       "      <td>1</td>\n",
       "      <td>Yes</td>\n",
       "      <td>No</td>\n",
       "      <td>4</td>\n",
       "      <td>Yes</td>\n",
       "      <td>Yes</td>\n",
       "      <td>Fiber optic</td>\n",
       "      <td>No</td>\n",
       "      <td>...</td>\n",
       "      <td>No</td>\n",
       "      <td>No</td>\n",
       "      <td>No</td>\n",
       "      <td>No</td>\n",
       "      <td>Month-to-month</td>\n",
       "      <td>Yes</td>\n",
       "      <td>Mailed check</td>\n",
       "      <td>74.40</td>\n",
       "      <td>306.6</td>\n",
       "      <td>Yes</td>\n",
       "    </tr>\n",
       "    <tr>\n",
       "      <th>7042</th>\n",
       "      <td>3186-AJIEK</td>\n",
       "      <td>Male</td>\n",
       "      <td>0</td>\n",
       "      <td>No</td>\n",
       "      <td>No</td>\n",
       "      <td>66</td>\n",
       "      <td>Yes</td>\n",
       "      <td>No</td>\n",
       "      <td>Fiber optic</td>\n",
       "      <td>Yes</td>\n",
       "      <td>...</td>\n",
       "      <td>Yes</td>\n",
       "      <td>Yes</td>\n",
       "      <td>Yes</td>\n",
       "      <td>Yes</td>\n",
       "      <td>Two year</td>\n",
       "      <td>Yes</td>\n",
       "      <td>Bank transfer (automatic)</td>\n",
       "      <td>105.65</td>\n",
       "      <td>6844.5</td>\n",
       "      <td>No</td>\n",
       "    </tr>\n",
       "  </tbody>\n",
       "</table>\n",
       "<p>7043 rows × 21 columns</p>\n",
       "</div>"
      ],
      "text/plain": [
       "      customerID  gender  SeniorCitizen Partner Dependents  tenure   \n",
       "0     7590-VHVEG  Female              0     Yes         No       1  \\\n",
       "1     5575-GNVDE    Male              0      No         No      34   \n",
       "2     3668-QPYBK    Male              0      No         No       2   \n",
       "3     7795-CFOCW    Male              0      No         No      45   \n",
       "4     9237-HQITU  Female              0      No         No       2   \n",
       "...          ...     ...            ...     ...        ...     ...   \n",
       "7038  6840-RESVB    Male              0     Yes        Yes      24   \n",
       "7039  2234-XADUH  Female              0     Yes        Yes      72   \n",
       "7040  4801-JZAZL  Female              0     Yes        Yes      11   \n",
       "7041  8361-LTMKD    Male              1     Yes         No       4   \n",
       "7042  3186-AJIEK    Male              0      No         No      66   \n",
       "\n",
       "     PhoneService     MultipleLines InternetService OnlineSecurity  ...   \n",
       "0              No  No phone service             DSL             No  ...  \\\n",
       "1             Yes                No             DSL            Yes  ...   \n",
       "2             Yes                No             DSL            Yes  ...   \n",
       "3              No  No phone service             DSL            Yes  ...   \n",
       "4             Yes                No     Fiber optic             No  ...   \n",
       "...           ...               ...             ...            ...  ...   \n",
       "7038          Yes               Yes             DSL            Yes  ...   \n",
       "7039          Yes               Yes     Fiber optic             No  ...   \n",
       "7040           No  No phone service             DSL            Yes  ...   \n",
       "7041          Yes               Yes     Fiber optic             No  ...   \n",
       "7042          Yes                No     Fiber optic            Yes  ...   \n",
       "\n",
       "     DeviceProtection TechSupport StreamingTV StreamingMovies        Contract   \n",
       "0                  No          No          No              No  Month-to-month  \\\n",
       "1                 Yes          No          No              No        One year   \n",
       "2                  No          No          No              No  Month-to-month   \n",
       "3                 Yes         Yes          No              No        One year   \n",
       "4                  No          No          No              No  Month-to-month   \n",
       "...               ...         ...         ...             ...             ...   \n",
       "7038              Yes         Yes         Yes             Yes        One year   \n",
       "7039              Yes          No         Yes             Yes        One year   \n",
       "7040               No          No          No              No  Month-to-month   \n",
       "7041               No          No          No              No  Month-to-month   \n",
       "7042              Yes         Yes         Yes             Yes        Two year   \n",
       "\n",
       "     PaperlessBilling              PaymentMethod MonthlyCharges  TotalCharges   \n",
       "0                 Yes           Electronic check          29.85         29.85  \\\n",
       "1                  No               Mailed check          56.95        1889.5   \n",
       "2                 Yes               Mailed check          53.85        108.15   \n",
       "3                  No  Bank transfer (automatic)          42.30       1840.75   \n",
       "4                 Yes           Electronic check          70.70        151.65   \n",
       "...               ...                        ...            ...           ...   \n",
       "7038              Yes               Mailed check          84.80        1990.5   \n",
       "7039              Yes    Credit card (automatic)         103.20        7362.9   \n",
       "7040              Yes           Electronic check          29.60        346.45   \n",
       "7041              Yes               Mailed check          74.40         306.6   \n",
       "7042              Yes  Bank transfer (automatic)         105.65        6844.5   \n",
       "\n",
       "     Churn  \n",
       "0       No  \n",
       "1       No  \n",
       "2      Yes  \n",
       "3       No  \n",
       "4      Yes  \n",
       "...    ...  \n",
       "7038    No  \n",
       "7039    No  \n",
       "7040    No  \n",
       "7041   Yes  \n",
       "7042    No  \n",
       "\n",
       "[7043 rows x 21 columns]"
      ]
     },
     "execution_count": 24,
     "metadata": {},
     "output_type": "execute_result"
    }
   ],
   "source": [
    "df"
   ]
  },
  {
   "cell_type": "code",
   "execution_count": 25,
   "id": "bc8b01a4-0b1c-4241-af57-3ce4d5eea1b6",
   "metadata": {
    "tags": []
   },
   "outputs": [],
   "source": [
    "## Cleaning "
   ]
  },
  {
   "cell_type": "code",
   "execution_count": 26,
   "id": "0bc72a4d-7e23-4f4b-afe4-269ac7ee020f",
   "metadata": {
    "tags": []
   },
   "outputs": [],
   "source": [
    "df.columns = df.columns.str.lower().str.replace(' ', '_')"
   ]
  },
  {
   "cell_type": "code",
   "execution_count": 27,
   "id": "4f375df7-b5a2-450a-82a7-0aea0584d757",
   "metadata": {
    "tags": []
   },
   "outputs": [
    {
     "data": {
      "text/plain": [
       "Index(['customerid', 'gender', 'seniorcitizen', 'partner', 'dependents',\n",
       "       'tenure', 'phoneservice', 'multiplelines', 'internetservice',\n",
       "       'onlinesecurity', 'onlinebackup', 'deviceprotection', 'techsupport',\n",
       "       'streamingtv', 'streamingmovies', 'contract', 'paperlessbilling',\n",
       "       'paymentmethod', 'monthlycharges', 'totalcharges', 'churn'],\n",
       "      dtype='object')"
      ]
     },
     "execution_count": 27,
     "metadata": {},
     "output_type": "execute_result"
    }
   ],
   "source": [
    "df.columns"
   ]
  },
  {
   "cell_type": "code",
   "execution_count": 28,
   "id": "0ef57b52-4449-4469-81ab-f8eeef741a3b",
   "metadata": {
    "tags": []
   },
   "outputs": [],
   "source": [
    "string_cols = list(df.dtypes[df.dtypes=='object'].index)"
   ]
  },
  {
   "cell_type": "code",
   "execution_count": 29,
   "id": "83cfd8e9-0f12-40e1-9f0a-f708e63dec10",
   "metadata": {
    "tags": []
   },
   "outputs": [],
   "source": [
    "for col in string_cols: \n",
    "    df[col] = df[col].str.lower().str.replace(' ', '_')"
   ]
  },
  {
   "cell_type": "code",
   "execution_count": 30,
   "id": "955fcae8-311e-4ee0-84a9-e6558f472257",
   "metadata": {
    "tags": []
   },
   "outputs": [
    {
     "data": {
      "text/html": [
       "<div>\n",
       "<style scoped>\n",
       "    .dataframe tbody tr th:only-of-type {\n",
       "        vertical-align: middle;\n",
       "    }\n",
       "\n",
       "    .dataframe tbody tr th {\n",
       "        vertical-align: top;\n",
       "    }\n",
       "\n",
       "    .dataframe thead th {\n",
       "        text-align: right;\n",
       "    }\n",
       "</style>\n",
       "<table border=\"1\" class=\"dataframe\">\n",
       "  <thead>\n",
       "    <tr style=\"text-align: right;\">\n",
       "      <th></th>\n",
       "      <th>customerid</th>\n",
       "      <th>gender</th>\n",
       "      <th>seniorcitizen</th>\n",
       "      <th>partner</th>\n",
       "      <th>dependents</th>\n",
       "      <th>tenure</th>\n",
       "      <th>phoneservice</th>\n",
       "      <th>multiplelines</th>\n",
       "      <th>internetservice</th>\n",
       "      <th>onlinesecurity</th>\n",
       "      <th>...</th>\n",
       "      <th>deviceprotection</th>\n",
       "      <th>techsupport</th>\n",
       "      <th>streamingtv</th>\n",
       "      <th>streamingmovies</th>\n",
       "      <th>contract</th>\n",
       "      <th>paperlessbilling</th>\n",
       "      <th>paymentmethod</th>\n",
       "      <th>monthlycharges</th>\n",
       "      <th>totalcharges</th>\n",
       "      <th>churn</th>\n",
       "    </tr>\n",
       "  </thead>\n",
       "  <tbody>\n",
       "    <tr>\n",
       "      <th>0</th>\n",
       "      <td>7590-vhveg</td>\n",
       "      <td>female</td>\n",
       "      <td>0</td>\n",
       "      <td>yes</td>\n",
       "      <td>no</td>\n",
       "      <td>1</td>\n",
       "      <td>no</td>\n",
       "      <td>no_phone_service</td>\n",
       "      <td>dsl</td>\n",
       "      <td>no</td>\n",
       "      <td>...</td>\n",
       "      <td>no</td>\n",
       "      <td>no</td>\n",
       "      <td>no</td>\n",
       "      <td>no</td>\n",
       "      <td>month-to-month</td>\n",
       "      <td>yes</td>\n",
       "      <td>electronic_check</td>\n",
       "      <td>29.85</td>\n",
       "      <td>29.85</td>\n",
       "      <td>no</td>\n",
       "    </tr>\n",
       "    <tr>\n",
       "      <th>1</th>\n",
       "      <td>5575-gnvde</td>\n",
       "      <td>male</td>\n",
       "      <td>0</td>\n",
       "      <td>no</td>\n",
       "      <td>no</td>\n",
       "      <td>34</td>\n",
       "      <td>yes</td>\n",
       "      <td>no</td>\n",
       "      <td>dsl</td>\n",
       "      <td>yes</td>\n",
       "      <td>...</td>\n",
       "      <td>yes</td>\n",
       "      <td>no</td>\n",
       "      <td>no</td>\n",
       "      <td>no</td>\n",
       "      <td>one_year</td>\n",
       "      <td>no</td>\n",
       "      <td>mailed_check</td>\n",
       "      <td>56.95</td>\n",
       "      <td>1889.5</td>\n",
       "      <td>no</td>\n",
       "    </tr>\n",
       "    <tr>\n",
       "      <th>2</th>\n",
       "      <td>3668-qpybk</td>\n",
       "      <td>male</td>\n",
       "      <td>0</td>\n",
       "      <td>no</td>\n",
       "      <td>no</td>\n",
       "      <td>2</td>\n",
       "      <td>yes</td>\n",
       "      <td>no</td>\n",
       "      <td>dsl</td>\n",
       "      <td>yes</td>\n",
       "      <td>...</td>\n",
       "      <td>no</td>\n",
       "      <td>no</td>\n",
       "      <td>no</td>\n",
       "      <td>no</td>\n",
       "      <td>month-to-month</td>\n",
       "      <td>yes</td>\n",
       "      <td>mailed_check</td>\n",
       "      <td>53.85</td>\n",
       "      <td>108.15</td>\n",
       "      <td>yes</td>\n",
       "    </tr>\n",
       "    <tr>\n",
       "      <th>3</th>\n",
       "      <td>7795-cfocw</td>\n",
       "      <td>male</td>\n",
       "      <td>0</td>\n",
       "      <td>no</td>\n",
       "      <td>no</td>\n",
       "      <td>45</td>\n",
       "      <td>no</td>\n",
       "      <td>no_phone_service</td>\n",
       "      <td>dsl</td>\n",
       "      <td>yes</td>\n",
       "      <td>...</td>\n",
       "      <td>yes</td>\n",
       "      <td>yes</td>\n",
       "      <td>no</td>\n",
       "      <td>no</td>\n",
       "      <td>one_year</td>\n",
       "      <td>no</td>\n",
       "      <td>bank_transfer_(automatic)</td>\n",
       "      <td>42.30</td>\n",
       "      <td>1840.75</td>\n",
       "      <td>no</td>\n",
       "    </tr>\n",
       "    <tr>\n",
       "      <th>4</th>\n",
       "      <td>9237-hqitu</td>\n",
       "      <td>female</td>\n",
       "      <td>0</td>\n",
       "      <td>no</td>\n",
       "      <td>no</td>\n",
       "      <td>2</td>\n",
       "      <td>yes</td>\n",
       "      <td>no</td>\n",
       "      <td>fiber_optic</td>\n",
       "      <td>no</td>\n",
       "      <td>...</td>\n",
       "      <td>no</td>\n",
       "      <td>no</td>\n",
       "      <td>no</td>\n",
       "      <td>no</td>\n",
       "      <td>month-to-month</td>\n",
       "      <td>yes</td>\n",
       "      <td>electronic_check</td>\n",
       "      <td>70.70</td>\n",
       "      <td>151.65</td>\n",
       "      <td>yes</td>\n",
       "    </tr>\n",
       "    <tr>\n",
       "      <th>...</th>\n",
       "      <td>...</td>\n",
       "      <td>...</td>\n",
       "      <td>...</td>\n",
       "      <td>...</td>\n",
       "      <td>...</td>\n",
       "      <td>...</td>\n",
       "      <td>...</td>\n",
       "      <td>...</td>\n",
       "      <td>...</td>\n",
       "      <td>...</td>\n",
       "      <td>...</td>\n",
       "      <td>...</td>\n",
       "      <td>...</td>\n",
       "      <td>...</td>\n",
       "      <td>...</td>\n",
       "      <td>...</td>\n",
       "      <td>...</td>\n",
       "      <td>...</td>\n",
       "      <td>...</td>\n",
       "      <td>...</td>\n",
       "      <td>...</td>\n",
       "    </tr>\n",
       "    <tr>\n",
       "      <th>7038</th>\n",
       "      <td>6840-resvb</td>\n",
       "      <td>male</td>\n",
       "      <td>0</td>\n",
       "      <td>yes</td>\n",
       "      <td>yes</td>\n",
       "      <td>24</td>\n",
       "      <td>yes</td>\n",
       "      <td>yes</td>\n",
       "      <td>dsl</td>\n",
       "      <td>yes</td>\n",
       "      <td>...</td>\n",
       "      <td>yes</td>\n",
       "      <td>yes</td>\n",
       "      <td>yes</td>\n",
       "      <td>yes</td>\n",
       "      <td>one_year</td>\n",
       "      <td>yes</td>\n",
       "      <td>mailed_check</td>\n",
       "      <td>84.80</td>\n",
       "      <td>1990.5</td>\n",
       "      <td>no</td>\n",
       "    </tr>\n",
       "    <tr>\n",
       "      <th>7039</th>\n",
       "      <td>2234-xaduh</td>\n",
       "      <td>female</td>\n",
       "      <td>0</td>\n",
       "      <td>yes</td>\n",
       "      <td>yes</td>\n",
       "      <td>72</td>\n",
       "      <td>yes</td>\n",
       "      <td>yes</td>\n",
       "      <td>fiber_optic</td>\n",
       "      <td>no</td>\n",
       "      <td>...</td>\n",
       "      <td>yes</td>\n",
       "      <td>no</td>\n",
       "      <td>yes</td>\n",
       "      <td>yes</td>\n",
       "      <td>one_year</td>\n",
       "      <td>yes</td>\n",
       "      <td>credit_card_(automatic)</td>\n",
       "      <td>103.20</td>\n",
       "      <td>7362.9</td>\n",
       "      <td>no</td>\n",
       "    </tr>\n",
       "    <tr>\n",
       "      <th>7040</th>\n",
       "      <td>4801-jzazl</td>\n",
       "      <td>female</td>\n",
       "      <td>0</td>\n",
       "      <td>yes</td>\n",
       "      <td>yes</td>\n",
       "      <td>11</td>\n",
       "      <td>no</td>\n",
       "      <td>no_phone_service</td>\n",
       "      <td>dsl</td>\n",
       "      <td>yes</td>\n",
       "      <td>...</td>\n",
       "      <td>no</td>\n",
       "      <td>no</td>\n",
       "      <td>no</td>\n",
       "      <td>no</td>\n",
       "      <td>month-to-month</td>\n",
       "      <td>yes</td>\n",
       "      <td>electronic_check</td>\n",
       "      <td>29.60</td>\n",
       "      <td>346.45</td>\n",
       "      <td>no</td>\n",
       "    </tr>\n",
       "    <tr>\n",
       "      <th>7041</th>\n",
       "      <td>8361-ltmkd</td>\n",
       "      <td>male</td>\n",
       "      <td>1</td>\n",
       "      <td>yes</td>\n",
       "      <td>no</td>\n",
       "      <td>4</td>\n",
       "      <td>yes</td>\n",
       "      <td>yes</td>\n",
       "      <td>fiber_optic</td>\n",
       "      <td>no</td>\n",
       "      <td>...</td>\n",
       "      <td>no</td>\n",
       "      <td>no</td>\n",
       "      <td>no</td>\n",
       "      <td>no</td>\n",
       "      <td>month-to-month</td>\n",
       "      <td>yes</td>\n",
       "      <td>mailed_check</td>\n",
       "      <td>74.40</td>\n",
       "      <td>306.6</td>\n",
       "      <td>yes</td>\n",
       "    </tr>\n",
       "    <tr>\n",
       "      <th>7042</th>\n",
       "      <td>3186-ajiek</td>\n",
       "      <td>male</td>\n",
       "      <td>0</td>\n",
       "      <td>no</td>\n",
       "      <td>no</td>\n",
       "      <td>66</td>\n",
       "      <td>yes</td>\n",
       "      <td>no</td>\n",
       "      <td>fiber_optic</td>\n",
       "      <td>yes</td>\n",
       "      <td>...</td>\n",
       "      <td>yes</td>\n",
       "      <td>yes</td>\n",
       "      <td>yes</td>\n",
       "      <td>yes</td>\n",
       "      <td>two_year</td>\n",
       "      <td>yes</td>\n",
       "      <td>bank_transfer_(automatic)</td>\n",
       "      <td>105.65</td>\n",
       "      <td>6844.5</td>\n",
       "      <td>no</td>\n",
       "    </tr>\n",
       "  </tbody>\n",
       "</table>\n",
       "<p>7043 rows × 21 columns</p>\n",
       "</div>"
      ],
      "text/plain": [
       "      customerid  gender  seniorcitizen partner dependents  tenure   \n",
       "0     7590-vhveg  female              0     yes         no       1  \\\n",
       "1     5575-gnvde    male              0      no         no      34   \n",
       "2     3668-qpybk    male              0      no         no       2   \n",
       "3     7795-cfocw    male              0      no         no      45   \n",
       "4     9237-hqitu  female              0      no         no       2   \n",
       "...          ...     ...            ...     ...        ...     ...   \n",
       "7038  6840-resvb    male              0     yes        yes      24   \n",
       "7039  2234-xaduh  female              0     yes        yes      72   \n",
       "7040  4801-jzazl  female              0     yes        yes      11   \n",
       "7041  8361-ltmkd    male              1     yes         no       4   \n",
       "7042  3186-ajiek    male              0      no         no      66   \n",
       "\n",
       "     phoneservice     multiplelines internetservice onlinesecurity  ...   \n",
       "0              no  no_phone_service             dsl             no  ...  \\\n",
       "1             yes                no             dsl            yes  ...   \n",
       "2             yes                no             dsl            yes  ...   \n",
       "3              no  no_phone_service             dsl            yes  ...   \n",
       "4             yes                no     fiber_optic             no  ...   \n",
       "...           ...               ...             ...            ...  ...   \n",
       "7038          yes               yes             dsl            yes  ...   \n",
       "7039          yes               yes     fiber_optic             no  ...   \n",
       "7040           no  no_phone_service             dsl            yes  ...   \n",
       "7041          yes               yes     fiber_optic             no  ...   \n",
       "7042          yes                no     fiber_optic            yes  ...   \n",
       "\n",
       "     deviceprotection techsupport streamingtv streamingmovies        contract   \n",
       "0                  no          no          no              no  month-to-month  \\\n",
       "1                 yes          no          no              no        one_year   \n",
       "2                  no          no          no              no  month-to-month   \n",
       "3                 yes         yes          no              no        one_year   \n",
       "4                  no          no          no              no  month-to-month   \n",
       "...               ...         ...         ...             ...             ...   \n",
       "7038              yes         yes         yes             yes        one_year   \n",
       "7039              yes          no         yes             yes        one_year   \n",
       "7040               no          no          no              no  month-to-month   \n",
       "7041               no          no          no              no  month-to-month   \n",
       "7042              yes         yes         yes             yes        two_year   \n",
       "\n",
       "     paperlessbilling              paymentmethod monthlycharges  totalcharges   \n",
       "0                 yes           electronic_check          29.85         29.85  \\\n",
       "1                  no               mailed_check          56.95        1889.5   \n",
       "2                 yes               mailed_check          53.85        108.15   \n",
       "3                  no  bank_transfer_(automatic)          42.30       1840.75   \n",
       "4                 yes           electronic_check          70.70        151.65   \n",
       "...               ...                        ...            ...           ...   \n",
       "7038              yes               mailed_check          84.80        1990.5   \n",
       "7039              yes    credit_card_(automatic)         103.20        7362.9   \n",
       "7040              yes           electronic_check          29.60        346.45   \n",
       "7041              yes               mailed_check          74.40         306.6   \n",
       "7042              yes  bank_transfer_(automatic)         105.65        6844.5   \n",
       "\n",
       "     churn  \n",
       "0       no  \n",
       "1       no  \n",
       "2      yes  \n",
       "3       no  \n",
       "4      yes  \n",
       "...    ...  \n",
       "7038    no  \n",
       "7039    no  \n",
       "7040    no  \n",
       "7041   yes  \n",
       "7042    no  \n",
       "\n",
       "[7043 rows x 21 columns]"
      ]
     },
     "execution_count": 30,
     "metadata": {},
     "output_type": "execute_result"
    }
   ],
   "source": [
    "df"
   ]
  },
  {
   "cell_type": "code",
   "execution_count": 31,
   "id": "1f36442d-6786-4114-a2c0-7e54e9b0dcae",
   "metadata": {
    "tags": []
   },
   "outputs": [],
   "source": [
    "df.totalcharges = pd.to_numeric(df.totalcharges, errors='coerce')"
   ]
  },
  {
   "cell_type": "code",
   "execution_count": 32,
   "id": "9e32daaa-5360-4fea-8841-c149b004673c",
   "metadata": {
    "tags": []
   },
   "outputs": [
    {
     "data": {
      "text/plain": [
       "customerid           0\n",
       "gender               0\n",
       "seniorcitizen        0\n",
       "partner              0\n",
       "dependents           0\n",
       "tenure               0\n",
       "phoneservice         0\n",
       "multiplelines        0\n",
       "internetservice      0\n",
       "onlinesecurity       0\n",
       "onlinebackup         0\n",
       "deviceprotection     0\n",
       "techsupport          0\n",
       "streamingtv          0\n",
       "streamingmovies      0\n",
       "contract             0\n",
       "paperlessbilling     0\n",
       "paymentmethod        0\n",
       "monthlycharges       0\n",
       "totalcharges        11\n",
       "churn                0\n",
       "dtype: int64"
      ]
     },
     "execution_count": 32,
     "metadata": {},
     "output_type": "execute_result"
    }
   ],
   "source": [
    "df.isnull().sum()"
   ]
  },
  {
   "cell_type": "code",
   "execution_count": 33,
   "id": "dad74c35-499f-475f-ae70-3959ade7d3bc",
   "metadata": {
    "tags": []
   },
   "outputs": [],
   "source": [
    "df.totalcharges =  df.totalcharges.fillna(0)"
   ]
  },
  {
   "cell_type": "code",
   "execution_count": 34,
   "id": "a4dae8db-19e5-496a-ab7b-8699d7f24f01",
   "metadata": {
    "tags": []
   },
   "outputs": [
    {
     "data": {
      "text/plain": [
       "count    7043.000000\n",
       "mean     2279.734304\n",
       "std      2266.794470\n",
       "min         0.000000\n",
       "25%       398.550000\n",
       "50%      1394.550000\n",
       "75%      3786.600000\n",
       "max      8684.800000\n",
       "Name: totalcharges, dtype: float64"
      ]
     },
     "execution_count": 34,
     "metadata": {},
     "output_type": "execute_result"
    }
   ],
   "source": [
    "df.totalcharges.describe()"
   ]
  },
  {
   "cell_type": "code",
   "execution_count": 35,
   "id": "25abc25e-7829-4134-9461-c8e6b82ae399",
   "metadata": {
    "tags": []
   },
   "outputs": [],
   "source": [
    "df.churn = (df.churn == 'yes').astype(int)"
   ]
  },
  {
   "cell_type": "code",
   "execution_count": 36,
   "id": "77fbee76-a72d-49c1-b085-34ca22d73d2c",
   "metadata": {
    "tags": []
   },
   "outputs": [
    {
     "data": {
      "text/plain": [
       "0       0\n",
       "1       0\n",
       "2       1\n",
       "3       0\n",
       "4       1\n",
       "       ..\n",
       "7038    0\n",
       "7039    0\n",
       "7040    0\n",
       "7041    1\n",
       "7042    0\n",
       "Name: churn, Length: 7043, dtype: int64"
      ]
     },
     "execution_count": 36,
     "metadata": {},
     "output_type": "execute_result"
    }
   ],
   "source": [
    "df.churn"
   ]
  },
  {
   "cell_type": "code",
   "execution_count": 38,
   "id": "e05b9f95-9fa3-4519-9bf7-11c9b0b5942a",
   "metadata": {
    "tags": []
   },
   "outputs": [],
   "source": [
    "## Setting up the framework for ML "
   ]
  },
  {
   "cell_type": "code",
   "execution_count": 40,
   "id": "8159a8e6-7f31-4d2b-99f2-1b69e8cbeb6a",
   "metadata": {
    "tags": []
   },
   "outputs": [],
   "source": [
    "from sklearn.model_selection import train_test_split"
   ]
  },
  {
   "cell_type": "code",
   "execution_count": 43,
   "id": "6d7d9817-5022-4272-82f0-e6de46cd9a0e",
   "metadata": {
    "tags": []
   },
   "outputs": [],
   "source": [
    "df_full_train, df_test = train_test_split(df, test_size=0.2, random_state=1)"
   ]
  },
  {
   "cell_type": "code",
   "execution_count": 47,
   "id": "63ca8066-220c-46d8-9754-e0e75dbdeb39",
   "metadata": {},
   "outputs": [],
   "source": [
    "df_train, df_val = train_test_split(df_full_train, test_size=0.25, random_state=1)"
   ]
  },
  {
   "cell_type": "code",
   "execution_count": 49,
   "id": "8ba6c7be-bdc9-4496-bc69-5b36fe466b34",
   "metadata": {
    "tags": []
   },
   "outputs": [
    {
     "data": {
      "text/plain": [
       "(4225, 1409, 1409)"
      ]
     },
     "execution_count": 49,
     "metadata": {},
     "output_type": "execute_result"
    }
   ],
   "source": [
    "len(df_train), len(df_val), len(df_test)"
   ]
  },
  {
   "cell_type": "code",
   "execution_count": null,
   "id": "f157b72b-ecf9-4a69-85af-8344b13e1aed",
   "metadata": {},
   "outputs": [],
   "source": []
  },
  {
   "cell_type": "code",
   "execution_count": 60,
   "id": "1ba3d3b6-528f-4c54-91e6-2c3657291f0a",
   "metadata": {
    "tags": []
   },
   "outputs": [],
   "source": [
    "##EDA"
   ]
  },
  {
   "cell_type": "code",
   "execution_count": 52,
   "id": "374c90bc-bac3-4aca-ba39-67c3bad4f290",
   "metadata": {
    "tags": []
   },
   "outputs": [
    {
     "data": {
      "text/plain": [
       "churn\n",
       "0    4113\n",
       "1    1521\n",
       "Name: count, dtype: int64"
      ]
     },
     "execution_count": 52,
     "metadata": {},
     "output_type": "execute_result"
    }
   ],
   "source": [
    "df_train_full.churn.value_counts()"
   ]
  },
  {
   "cell_type": "code",
   "execution_count": 53,
   "id": "31382c36-701f-4a50-88a4-8945d7a742a2",
   "metadata": {
    "tags": []
   },
   "outputs": [
    {
     "data": {
      "text/plain": [
       "0.27"
      ]
     },
     "execution_count": 53,
     "metadata": {},
     "output_type": "execute_result"
    }
   ],
   "source": [
    "global_mean = df_train_full.churn.mean()\n",
    "round(global_mean,3)"
   ]
  },
  {
   "cell_type": "code",
   "execution_count": 54,
   "id": "cbf3f247-034f-417f-92e5-91d543a7c29a",
   "metadata": {
    "tags": []
   },
   "outputs": [
    {
     "data": {
      "text/plain": [
       "['gender',\n",
       " 'partner',\n",
       " 'dependents',\n",
       " 'phoneservice',\n",
       " 'multiplelines',\n",
       " 'internetservice',\n",
       " 'onlinesecurity',\n",
       " 'onlinebackup',\n",
       " 'deviceprotection',\n",
       " 'techsupport',\n",
       " 'streamingtv',\n",
       " 'streamingmovies',\n",
       " 'contract',\n",
       " 'paperlessbilling',\n",
       " 'paymentmethod',\n",
       " 'seniorcitizen']"
      ]
     },
     "execution_count": 54,
     "metadata": {},
     "output_type": "execute_result"
    }
   ],
   "source": [
    "categorical_cols = string_cols + ['seniorcitizen']\n",
    "\n",
    "categorical_cols.remove('totalcharges')\n",
    "categorical_cols.remove('churn')\n",
    "categorical_cols.remove('customerid')\n",
    "\n",
    "categorical_cols"
   ]
  },
  {
   "cell_type": "code",
   "execution_count": 56,
   "id": "463c17e2-792e-4cf2-be05-391dc7781cb6",
   "metadata": {
    "tags": []
   },
   "outputs": [],
   "source": [
    "numerical_cols = ['tenure', 'monthlycharges', 'totalcharges']"
   ]
  },
  {
   "cell_type": "code",
   "execution_count": 57,
   "id": "b51a4204-aab9-4d20-a098-2d08b2b8078a",
   "metadata": {
    "tags": []
   },
   "outputs": [
    {
     "data": {
      "text/plain": [
       "gender              2\n",
       "partner             2\n",
       "dependents          2\n",
       "phoneservice        2\n",
       "multiplelines       3\n",
       "internetservice     3\n",
       "onlinesecurity      3\n",
       "onlinebackup        3\n",
       "deviceprotection    3\n",
       "techsupport         3\n",
       "streamingtv         3\n",
       "streamingmovies     3\n",
       "contract            3\n",
       "paperlessbilling    2\n",
       "paymentmethod       4\n",
       "seniorcitizen       2\n",
       "dtype: int64"
      ]
     },
     "execution_count": 57,
     "metadata": {},
     "output_type": "execute_result"
    }
   ],
   "source": [
    "df_train_full[categorical_cols].nunique()"
   ]
  },
  {
   "cell_type": "code",
   "execution_count": 58,
   "id": "a8869985-f08e-4b76-a11b-5f33ec7c2277",
   "metadata": {
    "tags": []
   },
   "outputs": [],
   "source": [
    "# Feature importance "
   ]
  },
  {
   "cell_type": "code",
   "execution_count": 59,
   "id": "024495b8-a159-46e4-a703-fb07f0c3f2de",
   "metadata": {
    "tags": []
   },
   "outputs": [
    {
     "data": {
      "text/plain": [
       "0.26996805111821087"
      ]
     },
     "execution_count": 59,
     "metadata": {},
     "output_type": "execute_result"
    }
   ],
   "source": [
    "global_mean"
   ]
  },
  {
   "cell_type": "code",
   "execution_count": 64,
   "id": "86e12b3f-d45b-4632-b39c-20b1bad142ef",
   "metadata": {
    "tags": []
   },
   "outputs": [
    {
     "name": "stderr",
     "output_type": "stream",
     "text": [
      "/var/folders/tv/6kgdwg3s7fs1tkgvw2yrbyrh0000gn/T/ipykernel_37983/2063405850.py:1: UserWarning: Boolean Series key will be reindexed to match DataFrame index.\n",
      "  female_mean = df_full_train[df.gender == 'female'].churn.mean()\n",
      "/var/folders/tv/6kgdwg3s7fs1tkgvw2yrbyrh0000gn/T/ipykernel_37983/2063405850.py:3: UserWarning: Boolean Series key will be reindexed to match DataFrame index.\n",
      "  male_mean = df_full_train[df.gender == 'male'].churn.mean()\n"
     ]
    },
    {
     "data": {
      "text/plain": [
       "0.2632135306553911"
      ]
     },
     "execution_count": 64,
     "metadata": {},
     "output_type": "execute_result"
    }
   ],
   "source": [
    "female_mean = df_full_train[df.gender == 'female'].churn.mean()\n",
    "female_mean.round(3)\n",
    "male_mean = df_full_train[df.gender == 'male'].churn.mean()\n",
    "male_mean"
   ]
  },
  {
   "cell_type": "code",
   "execution_count": 66,
   "id": "35626712-45de-403a-b14e-2967af195db6",
   "metadata": {
    "tags": []
   },
   "outputs": [
    {
     "data": {
      "text/plain": [
       "1.0253955354648652"
      ]
     },
     "execution_count": 66,
     "metadata": {},
     "output_type": "execute_result"
    }
   ],
   "source": [
    "female_mean/global_mean"
   ]
  },
  {
   "cell_type": "code",
   "execution_count": 67,
   "id": "43d9cf8a-5c5f-4918-8cf9-17b773b14367",
   "metadata": {
    "tags": []
   },
   "outputs": [
    {
     "data": {
      "text/plain": [
       "0.9749802969838747"
      ]
     },
     "execution_count": 67,
     "metadata": {},
     "output_type": "execute_result"
    }
   ],
   "source": [
    "male_mean/global_mean"
   ]
  },
  {
   "cell_type": "code",
   "execution_count": 69,
   "id": "0e3d7487-d098-48a9-b116-4dc5a6bf272b",
   "metadata": {
    "tags": []
   },
   "outputs": [
    {
     "name": "stdout",
     "output_type": "stream",
     "text": [
      "partner == yes: 0.205\n",
      "partner == no : 0.33\n"
     ]
    }
   ],
   "source": [
    "partner_yes = df_train_full[df_train_full.partner == 'yes'].churn.mean()\n",
    "print('partner == yes:', round(partner_yes, 3))\n",
    "\n",
    "partner_no = df_train_full[df_train_full.partner == 'no'].churn.mean()\n",
    "print('partner == no :', round(partner_no, 3))"
   ]
  },
  {
   "cell_type": "code",
   "execution_count": 70,
   "id": "33fbaa65-079c-4817-b2f4-3560788571b1",
   "metadata": {
    "tags": []
   },
   "outputs": [],
   "source": [
    "df_group  = df_train_full.groupby(by='gender').churn.agg(['mean'])"
   ]
  },
  {
   "cell_type": "code",
   "execution_count": 73,
   "id": "ae249497-8c91-49e7-ae5c-bab65e0b5b92",
   "metadata": {
    "tags": []
   },
   "outputs": [
    {
     "data": {
      "text/html": [
       "<div>\n",
       "<style scoped>\n",
       "    .dataframe tbody tr th:only-of-type {\n",
       "        vertical-align: middle;\n",
       "    }\n",
       "\n",
       "    .dataframe tbody tr th {\n",
       "        vertical-align: top;\n",
       "    }\n",
       "\n",
       "    .dataframe thead th {\n",
       "        text-align: right;\n",
       "    }\n",
       "</style>\n",
       "<table border=\"1\" class=\"dataframe\">\n",
       "  <thead>\n",
       "    <tr style=\"text-align: right;\">\n",
       "      <th></th>\n",
       "      <th>mean</th>\n",
       "      <th>diff</th>\n",
       "      <th>ratio</th>\n",
       "    </tr>\n",
       "    <tr>\n",
       "      <th>gender</th>\n",
       "      <th></th>\n",
       "      <th></th>\n",
       "      <th></th>\n",
       "    </tr>\n",
       "  </thead>\n",
       "  <tbody>\n",
       "    <tr>\n",
       "      <th>female</th>\n",
       "      <td>0.276824</td>\n",
       "      <td>0.006856</td>\n",
       "      <td>1.025396</td>\n",
       "    </tr>\n",
       "    <tr>\n",
       "      <th>male</th>\n",
       "      <td>0.263214</td>\n",
       "      <td>-0.006755</td>\n",
       "      <td>0.974980</td>\n",
       "    </tr>\n",
       "  </tbody>\n",
       "</table>\n",
       "</div>"
      ],
      "text/plain": [
       "            mean      diff     ratio\n",
       "gender                              \n",
       "female  0.276824  0.006856  1.025396\n",
       "male    0.263214 -0.006755  0.974980"
      ]
     },
     "execution_count": 73,
     "metadata": {},
     "output_type": "execute_result"
    }
   ],
   "source": [
    "df_group['diff'] = df_group['mean'] - global_mean\n",
    "df_group['ratio'] = df_group['mean'] / global_mean\n",
    "df_group"
   ]
  },
  {
   "cell_type": "code",
   "execution_count": 74,
   "id": "19dbe148-4dd7-4b1d-b198-c21eb6d92946",
   "metadata": {
    "tags": []
   },
   "outputs": [],
   "source": [
    "from IPython.display import display"
   ]
  },
  {
   "cell_type": "code",
   "execution_count": 77,
   "id": "1673b16a-4900-46d7-a8fa-249f72861208",
   "metadata": {
    "tags": []
   },
   "outputs": [
    {
     "data": {
      "text/html": [
       "<div>\n",
       "<style scoped>\n",
       "    .dataframe tbody tr th:only-of-type {\n",
       "        vertical-align: middle;\n",
       "    }\n",
       "\n",
       "    .dataframe tbody tr th {\n",
       "        vertical-align: top;\n",
       "    }\n",
       "\n",
       "    .dataframe thead th {\n",
       "        text-align: right;\n",
       "    }\n",
       "</style>\n",
       "<table border=\"1\" class=\"dataframe\">\n",
       "  <thead>\n",
       "    <tr style=\"text-align: right;\">\n",
       "      <th></th>\n",
       "      <th>mean</th>\n",
       "      <th>diff</th>\n",
       "      <th>ratio</th>\n",
       "    </tr>\n",
       "    <tr>\n",
       "      <th>gender</th>\n",
       "      <th></th>\n",
       "      <th></th>\n",
       "      <th></th>\n",
       "    </tr>\n",
       "  </thead>\n",
       "  <tbody>\n",
       "    <tr>\n",
       "      <th>female</th>\n",
       "      <td>0.276824</td>\n",
       "      <td>0.006856</td>\n",
       "      <td>1.025396</td>\n",
       "    </tr>\n",
       "    <tr>\n",
       "      <th>male</th>\n",
       "      <td>0.263214</td>\n",
       "      <td>-0.006755</td>\n",
       "      <td>0.974980</td>\n",
       "    </tr>\n",
       "  </tbody>\n",
       "</table>\n",
       "</div>"
      ],
      "text/plain": [
       "            mean      diff     ratio\n",
       "gender                              \n",
       "female  0.276824  0.006856  1.025396\n",
       "male    0.263214 -0.006755  0.974980"
      ]
     },
     "metadata": {},
     "output_type": "display_data"
    },
    {
     "name": "stdout",
     "output_type": "stream",
     "text": [
      "\n"
     ]
    },
    {
     "data": {
      "text/html": [
       "<div>\n",
       "<style scoped>\n",
       "    .dataframe tbody tr th:only-of-type {\n",
       "        vertical-align: middle;\n",
       "    }\n",
       "\n",
       "    .dataframe tbody tr th {\n",
       "        vertical-align: top;\n",
       "    }\n",
       "\n",
       "    .dataframe thead th {\n",
       "        text-align: right;\n",
       "    }\n",
       "</style>\n",
       "<table border=\"1\" class=\"dataframe\">\n",
       "  <thead>\n",
       "    <tr style=\"text-align: right;\">\n",
       "      <th></th>\n",
       "      <th>mean</th>\n",
       "      <th>diff</th>\n",
       "      <th>ratio</th>\n",
       "    </tr>\n",
       "    <tr>\n",
       "      <th>partner</th>\n",
       "      <th></th>\n",
       "      <th></th>\n",
       "      <th></th>\n",
       "    </tr>\n",
       "  </thead>\n",
       "  <tbody>\n",
       "    <tr>\n",
       "      <th>no</th>\n",
       "      <td>0.329809</td>\n",
       "      <td>0.059841</td>\n",
       "      <td>1.221659</td>\n",
       "    </tr>\n",
       "    <tr>\n",
       "      <th>yes</th>\n",
       "      <td>0.205033</td>\n",
       "      <td>-0.064935</td>\n",
       "      <td>0.759472</td>\n",
       "    </tr>\n",
       "  </tbody>\n",
       "</table>\n",
       "</div>"
      ],
      "text/plain": [
       "             mean      diff     ratio\n",
       "partner                              \n",
       "no       0.329809  0.059841  1.221659\n",
       "yes      0.205033 -0.064935  0.759472"
      ]
     },
     "metadata": {},
     "output_type": "display_data"
    },
    {
     "name": "stdout",
     "output_type": "stream",
     "text": [
      "\n"
     ]
    },
    {
     "data": {
      "text/html": [
       "<div>\n",
       "<style scoped>\n",
       "    .dataframe tbody tr th:only-of-type {\n",
       "        vertical-align: middle;\n",
       "    }\n",
       "\n",
       "    .dataframe tbody tr th {\n",
       "        vertical-align: top;\n",
       "    }\n",
       "\n",
       "    .dataframe thead th {\n",
       "        text-align: right;\n",
       "    }\n",
       "</style>\n",
       "<table border=\"1\" class=\"dataframe\">\n",
       "  <thead>\n",
       "    <tr style=\"text-align: right;\">\n",
       "      <th></th>\n",
       "      <th>mean</th>\n",
       "      <th>diff</th>\n",
       "      <th>ratio</th>\n",
       "    </tr>\n",
       "    <tr>\n",
       "      <th>dependents</th>\n",
       "      <th></th>\n",
       "      <th></th>\n",
       "      <th></th>\n",
       "    </tr>\n",
       "  </thead>\n",
       "  <tbody>\n",
       "    <tr>\n",
       "      <th>no</th>\n",
       "      <td>0.313760</td>\n",
       "      <td>0.043792</td>\n",
       "      <td>1.162212</td>\n",
       "    </tr>\n",
       "    <tr>\n",
       "      <th>yes</th>\n",
       "      <td>0.165666</td>\n",
       "      <td>-0.104302</td>\n",
       "      <td>0.613651</td>\n",
       "    </tr>\n",
       "  </tbody>\n",
       "</table>\n",
       "</div>"
      ],
      "text/plain": [
       "                mean      diff     ratio\n",
       "dependents                              \n",
       "no          0.313760  0.043792  1.162212\n",
       "yes         0.165666 -0.104302  0.613651"
      ]
     },
     "metadata": {},
     "output_type": "display_data"
    },
    {
     "name": "stdout",
     "output_type": "stream",
     "text": [
      "\n"
     ]
    },
    {
     "data": {
      "text/html": [
       "<div>\n",
       "<style scoped>\n",
       "    .dataframe tbody tr th:only-of-type {\n",
       "        vertical-align: middle;\n",
       "    }\n",
       "\n",
       "    .dataframe tbody tr th {\n",
       "        vertical-align: top;\n",
       "    }\n",
       "\n",
       "    .dataframe thead th {\n",
       "        text-align: right;\n",
       "    }\n",
       "</style>\n",
       "<table border=\"1\" class=\"dataframe\">\n",
       "  <thead>\n",
       "    <tr style=\"text-align: right;\">\n",
       "      <th></th>\n",
       "      <th>mean</th>\n",
       "      <th>diff</th>\n",
       "      <th>ratio</th>\n",
       "    </tr>\n",
       "    <tr>\n",
       "      <th>phoneservice</th>\n",
       "      <th></th>\n",
       "      <th></th>\n",
       "      <th></th>\n",
       "    </tr>\n",
       "  </thead>\n",
       "  <tbody>\n",
       "    <tr>\n",
       "      <th>no</th>\n",
       "      <td>0.241316</td>\n",
       "      <td>-0.028652</td>\n",
       "      <td>0.893870</td>\n",
       "    </tr>\n",
       "    <tr>\n",
       "      <th>yes</th>\n",
       "      <td>0.273049</td>\n",
       "      <td>0.003081</td>\n",
       "      <td>1.011412</td>\n",
       "    </tr>\n",
       "  </tbody>\n",
       "</table>\n",
       "</div>"
      ],
      "text/plain": [
       "                  mean      diff     ratio\n",
       "phoneservice                              \n",
       "no            0.241316 -0.028652  0.893870\n",
       "yes           0.273049  0.003081  1.011412"
      ]
     },
     "metadata": {},
     "output_type": "display_data"
    },
    {
     "name": "stdout",
     "output_type": "stream",
     "text": [
      "\n"
     ]
    },
    {
     "data": {
      "text/html": [
       "<div>\n",
       "<style scoped>\n",
       "    .dataframe tbody tr th:only-of-type {\n",
       "        vertical-align: middle;\n",
       "    }\n",
       "\n",
       "    .dataframe tbody tr th {\n",
       "        vertical-align: top;\n",
       "    }\n",
       "\n",
       "    .dataframe thead th {\n",
       "        text-align: right;\n",
       "    }\n",
       "</style>\n",
       "<table border=\"1\" class=\"dataframe\">\n",
       "  <thead>\n",
       "    <tr style=\"text-align: right;\">\n",
       "      <th></th>\n",
       "      <th>mean</th>\n",
       "      <th>diff</th>\n",
       "      <th>ratio</th>\n",
       "    </tr>\n",
       "    <tr>\n",
       "      <th>multiplelines</th>\n",
       "      <th></th>\n",
       "      <th></th>\n",
       "      <th></th>\n",
       "    </tr>\n",
       "  </thead>\n",
       "  <tbody>\n",
       "    <tr>\n",
       "      <th>no</th>\n",
       "      <td>0.257407</td>\n",
       "      <td>-0.012561</td>\n",
       "      <td>0.953474</td>\n",
       "    </tr>\n",
       "    <tr>\n",
       "      <th>no_phone_service</th>\n",
       "      <td>0.241316</td>\n",
       "      <td>-0.028652</td>\n",
       "      <td>0.893870</td>\n",
       "    </tr>\n",
       "    <tr>\n",
       "      <th>yes</th>\n",
       "      <td>0.290742</td>\n",
       "      <td>0.020773</td>\n",
       "      <td>1.076948</td>\n",
       "    </tr>\n",
       "  </tbody>\n",
       "</table>\n",
       "</div>"
      ],
      "text/plain": [
       "                      mean      diff     ratio\n",
       "multiplelines                                 \n",
       "no                0.257407 -0.012561  0.953474\n",
       "no_phone_service  0.241316 -0.028652  0.893870\n",
       "yes               0.290742  0.020773  1.076948"
      ]
     },
     "metadata": {},
     "output_type": "display_data"
    },
    {
     "name": "stdout",
     "output_type": "stream",
     "text": [
      "\n"
     ]
    },
    {
     "data": {
      "text/html": [
       "<div>\n",
       "<style scoped>\n",
       "    .dataframe tbody tr th:only-of-type {\n",
       "        vertical-align: middle;\n",
       "    }\n",
       "\n",
       "    .dataframe tbody tr th {\n",
       "        vertical-align: top;\n",
       "    }\n",
       "\n",
       "    .dataframe thead th {\n",
       "        text-align: right;\n",
       "    }\n",
       "</style>\n",
       "<table border=\"1\" class=\"dataframe\">\n",
       "  <thead>\n",
       "    <tr style=\"text-align: right;\">\n",
       "      <th></th>\n",
       "      <th>mean</th>\n",
       "      <th>diff</th>\n",
       "      <th>ratio</th>\n",
       "    </tr>\n",
       "    <tr>\n",
       "      <th>internetservice</th>\n",
       "      <th></th>\n",
       "      <th></th>\n",
       "      <th></th>\n",
       "    </tr>\n",
       "  </thead>\n",
       "  <tbody>\n",
       "    <tr>\n",
       "      <th>dsl</th>\n",
       "      <td>0.192347</td>\n",
       "      <td>-0.077621</td>\n",
       "      <td>0.712482</td>\n",
       "    </tr>\n",
       "    <tr>\n",
       "      <th>fiber_optic</th>\n",
       "      <td>0.425171</td>\n",
       "      <td>0.155203</td>\n",
       "      <td>1.574895</td>\n",
       "    </tr>\n",
       "    <tr>\n",
       "      <th>no</th>\n",
       "      <td>0.077805</td>\n",
       "      <td>-0.192163</td>\n",
       "      <td>0.288201</td>\n",
       "    </tr>\n",
       "  </tbody>\n",
       "</table>\n",
       "</div>"
      ],
      "text/plain": [
       "                     mean      diff     ratio\n",
       "internetservice                              \n",
       "dsl              0.192347 -0.077621  0.712482\n",
       "fiber_optic      0.425171  0.155203  1.574895\n",
       "no               0.077805 -0.192163  0.288201"
      ]
     },
     "metadata": {},
     "output_type": "display_data"
    },
    {
     "name": "stdout",
     "output_type": "stream",
     "text": [
      "\n"
     ]
    },
    {
     "data": {
      "text/html": [
       "<div>\n",
       "<style scoped>\n",
       "    .dataframe tbody tr th:only-of-type {\n",
       "        vertical-align: middle;\n",
       "    }\n",
       "\n",
       "    .dataframe tbody tr th {\n",
       "        vertical-align: top;\n",
       "    }\n",
       "\n",
       "    .dataframe thead th {\n",
       "        text-align: right;\n",
       "    }\n",
       "</style>\n",
       "<table border=\"1\" class=\"dataframe\">\n",
       "  <thead>\n",
       "    <tr style=\"text-align: right;\">\n",
       "      <th></th>\n",
       "      <th>mean</th>\n",
       "      <th>diff</th>\n",
       "      <th>ratio</th>\n",
       "    </tr>\n",
       "    <tr>\n",
       "      <th>onlinesecurity</th>\n",
       "      <th></th>\n",
       "      <th></th>\n",
       "      <th></th>\n",
       "    </tr>\n",
       "  </thead>\n",
       "  <tbody>\n",
       "    <tr>\n",
       "      <th>no</th>\n",
       "      <td>0.420921</td>\n",
       "      <td>0.150953</td>\n",
       "      <td>1.559152</td>\n",
       "    </tr>\n",
       "    <tr>\n",
       "      <th>no_internet_service</th>\n",
       "      <td>0.077805</td>\n",
       "      <td>-0.192163</td>\n",
       "      <td>0.288201</td>\n",
       "    </tr>\n",
       "    <tr>\n",
       "      <th>yes</th>\n",
       "      <td>0.153226</td>\n",
       "      <td>-0.116742</td>\n",
       "      <td>0.567570</td>\n",
       "    </tr>\n",
       "  </tbody>\n",
       "</table>\n",
       "</div>"
      ],
      "text/plain": [
       "                         mean      diff     ratio\n",
       "onlinesecurity                                   \n",
       "no                   0.420921  0.150953  1.559152\n",
       "no_internet_service  0.077805 -0.192163  0.288201\n",
       "yes                  0.153226 -0.116742  0.567570"
      ]
     },
     "metadata": {},
     "output_type": "display_data"
    },
    {
     "name": "stdout",
     "output_type": "stream",
     "text": [
      "\n"
     ]
    },
    {
     "data": {
      "text/html": [
       "<div>\n",
       "<style scoped>\n",
       "    .dataframe tbody tr th:only-of-type {\n",
       "        vertical-align: middle;\n",
       "    }\n",
       "\n",
       "    .dataframe tbody tr th {\n",
       "        vertical-align: top;\n",
       "    }\n",
       "\n",
       "    .dataframe thead th {\n",
       "        text-align: right;\n",
       "    }\n",
       "</style>\n",
       "<table border=\"1\" class=\"dataframe\">\n",
       "  <thead>\n",
       "    <tr style=\"text-align: right;\">\n",
       "      <th></th>\n",
       "      <th>mean</th>\n",
       "      <th>diff</th>\n",
       "      <th>ratio</th>\n",
       "    </tr>\n",
       "    <tr>\n",
       "      <th>onlinebackup</th>\n",
       "      <th></th>\n",
       "      <th></th>\n",
       "      <th></th>\n",
       "    </tr>\n",
       "  </thead>\n",
       "  <tbody>\n",
       "    <tr>\n",
       "      <th>no</th>\n",
       "      <td>0.404323</td>\n",
       "      <td>0.134355</td>\n",
       "      <td>1.497672</td>\n",
       "    </tr>\n",
       "    <tr>\n",
       "      <th>no_internet_service</th>\n",
       "      <td>0.077805</td>\n",
       "      <td>-0.192163</td>\n",
       "      <td>0.288201</td>\n",
       "    </tr>\n",
       "    <tr>\n",
       "      <th>yes</th>\n",
       "      <td>0.217232</td>\n",
       "      <td>-0.052736</td>\n",
       "      <td>0.804660</td>\n",
       "    </tr>\n",
       "  </tbody>\n",
       "</table>\n",
       "</div>"
      ],
      "text/plain": [
       "                         mean      diff     ratio\n",
       "onlinebackup                                     \n",
       "no                   0.404323  0.134355  1.497672\n",
       "no_internet_service  0.077805 -0.192163  0.288201\n",
       "yes                  0.217232 -0.052736  0.804660"
      ]
     },
     "metadata": {},
     "output_type": "display_data"
    },
    {
     "name": "stdout",
     "output_type": "stream",
     "text": [
      "\n"
     ]
    },
    {
     "data": {
      "text/html": [
       "<div>\n",
       "<style scoped>\n",
       "    .dataframe tbody tr th:only-of-type {\n",
       "        vertical-align: middle;\n",
       "    }\n",
       "\n",
       "    .dataframe tbody tr th {\n",
       "        vertical-align: top;\n",
       "    }\n",
       "\n",
       "    .dataframe thead th {\n",
       "        text-align: right;\n",
       "    }\n",
       "</style>\n",
       "<table border=\"1\" class=\"dataframe\">\n",
       "  <thead>\n",
       "    <tr style=\"text-align: right;\">\n",
       "      <th></th>\n",
       "      <th>mean</th>\n",
       "      <th>diff</th>\n",
       "      <th>ratio</th>\n",
       "    </tr>\n",
       "    <tr>\n",
       "      <th>deviceprotection</th>\n",
       "      <th></th>\n",
       "      <th></th>\n",
       "      <th></th>\n",
       "    </tr>\n",
       "  </thead>\n",
       "  <tbody>\n",
       "    <tr>\n",
       "      <th>no</th>\n",
       "      <td>0.395875</td>\n",
       "      <td>0.125907</td>\n",
       "      <td>1.466379</td>\n",
       "    </tr>\n",
       "    <tr>\n",
       "      <th>no_internet_service</th>\n",
       "      <td>0.077805</td>\n",
       "      <td>-0.192163</td>\n",
       "      <td>0.288201</td>\n",
       "    </tr>\n",
       "    <tr>\n",
       "      <th>yes</th>\n",
       "      <td>0.230412</td>\n",
       "      <td>-0.039556</td>\n",
       "      <td>0.853480</td>\n",
       "    </tr>\n",
       "  </tbody>\n",
       "</table>\n",
       "</div>"
      ],
      "text/plain": [
       "                         mean      diff     ratio\n",
       "deviceprotection                                 \n",
       "no                   0.395875  0.125907  1.466379\n",
       "no_internet_service  0.077805 -0.192163  0.288201\n",
       "yes                  0.230412 -0.039556  0.853480"
      ]
     },
     "metadata": {},
     "output_type": "display_data"
    },
    {
     "name": "stdout",
     "output_type": "stream",
     "text": [
      "\n"
     ]
    },
    {
     "data": {
      "text/html": [
       "<div>\n",
       "<style scoped>\n",
       "    .dataframe tbody tr th:only-of-type {\n",
       "        vertical-align: middle;\n",
       "    }\n",
       "\n",
       "    .dataframe tbody tr th {\n",
       "        vertical-align: top;\n",
       "    }\n",
       "\n",
       "    .dataframe thead th {\n",
       "        text-align: right;\n",
       "    }\n",
       "</style>\n",
       "<table border=\"1\" class=\"dataframe\">\n",
       "  <thead>\n",
       "    <tr style=\"text-align: right;\">\n",
       "      <th></th>\n",
       "      <th>mean</th>\n",
       "      <th>diff</th>\n",
       "      <th>ratio</th>\n",
       "    </tr>\n",
       "    <tr>\n",
       "      <th>techsupport</th>\n",
       "      <th></th>\n",
       "      <th></th>\n",
       "      <th></th>\n",
       "    </tr>\n",
       "  </thead>\n",
       "  <tbody>\n",
       "    <tr>\n",
       "      <th>no</th>\n",
       "      <td>0.418914</td>\n",
       "      <td>0.148946</td>\n",
       "      <td>1.551717</td>\n",
       "    </tr>\n",
       "    <tr>\n",
       "      <th>no_internet_service</th>\n",
       "      <td>0.077805</td>\n",
       "      <td>-0.192163</td>\n",
       "      <td>0.288201</td>\n",
       "    </tr>\n",
       "    <tr>\n",
       "      <th>yes</th>\n",
       "      <td>0.159926</td>\n",
       "      <td>-0.110042</td>\n",
       "      <td>0.592390</td>\n",
       "    </tr>\n",
       "  </tbody>\n",
       "</table>\n",
       "</div>"
      ],
      "text/plain": [
       "                         mean      diff     ratio\n",
       "techsupport                                      \n",
       "no                   0.418914  0.148946  1.551717\n",
       "no_internet_service  0.077805 -0.192163  0.288201\n",
       "yes                  0.159926 -0.110042  0.592390"
      ]
     },
     "metadata": {},
     "output_type": "display_data"
    },
    {
     "name": "stdout",
     "output_type": "stream",
     "text": [
      "\n"
     ]
    },
    {
     "data": {
      "text/html": [
       "<div>\n",
       "<style scoped>\n",
       "    .dataframe tbody tr th:only-of-type {\n",
       "        vertical-align: middle;\n",
       "    }\n",
       "\n",
       "    .dataframe tbody tr th {\n",
       "        vertical-align: top;\n",
       "    }\n",
       "\n",
       "    .dataframe thead th {\n",
       "        text-align: right;\n",
       "    }\n",
       "</style>\n",
       "<table border=\"1\" class=\"dataframe\">\n",
       "  <thead>\n",
       "    <tr style=\"text-align: right;\">\n",
       "      <th></th>\n",
       "      <th>mean</th>\n",
       "      <th>diff</th>\n",
       "      <th>ratio</th>\n",
       "    </tr>\n",
       "    <tr>\n",
       "      <th>streamingtv</th>\n",
       "      <th></th>\n",
       "      <th></th>\n",
       "      <th></th>\n",
       "    </tr>\n",
       "  </thead>\n",
       "  <tbody>\n",
       "    <tr>\n",
       "      <th>no</th>\n",
       "      <td>0.342832</td>\n",
       "      <td>0.072864</td>\n",
       "      <td>1.269897</td>\n",
       "    </tr>\n",
       "    <tr>\n",
       "      <th>no_internet_service</th>\n",
       "      <td>0.077805</td>\n",
       "      <td>-0.192163</td>\n",
       "      <td>0.288201</td>\n",
       "    </tr>\n",
       "    <tr>\n",
       "      <th>yes</th>\n",
       "      <td>0.302723</td>\n",
       "      <td>0.032755</td>\n",
       "      <td>1.121328</td>\n",
       "    </tr>\n",
       "  </tbody>\n",
       "</table>\n",
       "</div>"
      ],
      "text/plain": [
       "                         mean      diff     ratio\n",
       "streamingtv                                      \n",
       "no                   0.342832  0.072864  1.269897\n",
       "no_internet_service  0.077805 -0.192163  0.288201\n",
       "yes                  0.302723  0.032755  1.121328"
      ]
     },
     "metadata": {},
     "output_type": "display_data"
    },
    {
     "name": "stdout",
     "output_type": "stream",
     "text": [
      "\n"
     ]
    },
    {
     "data": {
      "text/html": [
       "<div>\n",
       "<style scoped>\n",
       "    .dataframe tbody tr th:only-of-type {\n",
       "        vertical-align: middle;\n",
       "    }\n",
       "\n",
       "    .dataframe tbody tr th {\n",
       "        vertical-align: top;\n",
       "    }\n",
       "\n",
       "    .dataframe thead th {\n",
       "        text-align: right;\n",
       "    }\n",
       "</style>\n",
       "<table border=\"1\" class=\"dataframe\">\n",
       "  <thead>\n",
       "    <tr style=\"text-align: right;\">\n",
       "      <th></th>\n",
       "      <th>mean</th>\n",
       "      <th>diff</th>\n",
       "      <th>ratio</th>\n",
       "    </tr>\n",
       "    <tr>\n",
       "      <th>streamingmovies</th>\n",
       "      <th></th>\n",
       "      <th></th>\n",
       "      <th></th>\n",
       "    </tr>\n",
       "  </thead>\n",
       "  <tbody>\n",
       "    <tr>\n",
       "      <th>no</th>\n",
       "      <td>0.338906</td>\n",
       "      <td>0.068938</td>\n",
       "      <td>1.255358</td>\n",
       "    </tr>\n",
       "    <tr>\n",
       "      <th>no_internet_service</th>\n",
       "      <td>0.077805</td>\n",
       "      <td>-0.192163</td>\n",
       "      <td>0.288201</td>\n",
       "    </tr>\n",
       "    <tr>\n",
       "      <th>yes</th>\n",
       "      <td>0.307273</td>\n",
       "      <td>0.037305</td>\n",
       "      <td>1.138182</td>\n",
       "    </tr>\n",
       "  </tbody>\n",
       "</table>\n",
       "</div>"
      ],
      "text/plain": [
       "                         mean      diff     ratio\n",
       "streamingmovies                                  \n",
       "no                   0.338906  0.068938  1.255358\n",
       "no_internet_service  0.077805 -0.192163  0.288201\n",
       "yes                  0.307273  0.037305  1.138182"
      ]
     },
     "metadata": {},
     "output_type": "display_data"
    },
    {
     "name": "stdout",
     "output_type": "stream",
     "text": [
      "\n"
     ]
    },
    {
     "data": {
      "text/html": [
       "<div>\n",
       "<style scoped>\n",
       "    .dataframe tbody tr th:only-of-type {\n",
       "        vertical-align: middle;\n",
       "    }\n",
       "\n",
       "    .dataframe tbody tr th {\n",
       "        vertical-align: top;\n",
       "    }\n",
       "\n",
       "    .dataframe thead th {\n",
       "        text-align: right;\n",
       "    }\n",
       "</style>\n",
       "<table border=\"1\" class=\"dataframe\">\n",
       "  <thead>\n",
       "    <tr style=\"text-align: right;\">\n",
       "      <th></th>\n",
       "      <th>mean</th>\n",
       "      <th>diff</th>\n",
       "      <th>ratio</th>\n",
       "    </tr>\n",
       "    <tr>\n",
       "      <th>contract</th>\n",
       "      <th></th>\n",
       "      <th></th>\n",
       "      <th></th>\n",
       "    </tr>\n",
       "  </thead>\n",
       "  <tbody>\n",
       "    <tr>\n",
       "      <th>month-to-month</th>\n",
       "      <td>0.431701</td>\n",
       "      <td>0.161733</td>\n",
       "      <td>1.599082</td>\n",
       "    </tr>\n",
       "    <tr>\n",
       "      <th>one_year</th>\n",
       "      <td>0.120573</td>\n",
       "      <td>-0.149395</td>\n",
       "      <td>0.446621</td>\n",
       "    </tr>\n",
       "    <tr>\n",
       "      <th>two_year</th>\n",
       "      <td>0.028274</td>\n",
       "      <td>-0.241694</td>\n",
       "      <td>0.104730</td>\n",
       "    </tr>\n",
       "  </tbody>\n",
       "</table>\n",
       "</div>"
      ],
      "text/plain": [
       "                    mean      diff     ratio\n",
       "contract                                    \n",
       "month-to-month  0.431701  0.161733  1.599082\n",
       "one_year        0.120573 -0.149395  0.446621\n",
       "two_year        0.028274 -0.241694  0.104730"
      ]
     },
     "metadata": {},
     "output_type": "display_data"
    },
    {
     "name": "stdout",
     "output_type": "stream",
     "text": [
      "\n"
     ]
    },
    {
     "data": {
      "text/html": [
       "<div>\n",
       "<style scoped>\n",
       "    .dataframe tbody tr th:only-of-type {\n",
       "        vertical-align: middle;\n",
       "    }\n",
       "\n",
       "    .dataframe tbody tr th {\n",
       "        vertical-align: top;\n",
       "    }\n",
       "\n",
       "    .dataframe thead th {\n",
       "        text-align: right;\n",
       "    }\n",
       "</style>\n",
       "<table border=\"1\" class=\"dataframe\">\n",
       "  <thead>\n",
       "    <tr style=\"text-align: right;\">\n",
       "      <th></th>\n",
       "      <th>mean</th>\n",
       "      <th>diff</th>\n",
       "      <th>ratio</th>\n",
       "    </tr>\n",
       "    <tr>\n",
       "      <th>paperlessbilling</th>\n",
       "      <th></th>\n",
       "      <th></th>\n",
       "      <th></th>\n",
       "    </tr>\n",
       "  </thead>\n",
       "  <tbody>\n",
       "    <tr>\n",
       "      <th>no</th>\n",
       "      <td>0.172071</td>\n",
       "      <td>-0.097897</td>\n",
       "      <td>0.637375</td>\n",
       "    </tr>\n",
       "    <tr>\n",
       "      <th>yes</th>\n",
       "      <td>0.338151</td>\n",
       "      <td>0.068183</td>\n",
       "      <td>1.252560</td>\n",
       "    </tr>\n",
       "  </tbody>\n",
       "</table>\n",
       "</div>"
      ],
      "text/plain": [
       "                      mean      diff     ratio\n",
       "paperlessbilling                              \n",
       "no                0.172071 -0.097897  0.637375\n",
       "yes               0.338151  0.068183  1.252560"
      ]
     },
     "metadata": {},
     "output_type": "display_data"
    },
    {
     "name": "stdout",
     "output_type": "stream",
     "text": [
      "\n"
     ]
    },
    {
     "data": {
      "text/html": [
       "<div>\n",
       "<style scoped>\n",
       "    .dataframe tbody tr th:only-of-type {\n",
       "        vertical-align: middle;\n",
       "    }\n",
       "\n",
       "    .dataframe tbody tr th {\n",
       "        vertical-align: top;\n",
       "    }\n",
       "\n",
       "    .dataframe thead th {\n",
       "        text-align: right;\n",
       "    }\n",
       "</style>\n",
       "<table border=\"1\" class=\"dataframe\">\n",
       "  <thead>\n",
       "    <tr style=\"text-align: right;\">\n",
       "      <th></th>\n",
       "      <th>mean</th>\n",
       "      <th>diff</th>\n",
       "      <th>ratio</th>\n",
       "    </tr>\n",
       "    <tr>\n",
       "      <th>paymentmethod</th>\n",
       "      <th></th>\n",
       "      <th></th>\n",
       "      <th></th>\n",
       "    </tr>\n",
       "  </thead>\n",
       "  <tbody>\n",
       "    <tr>\n",
       "      <th>bank_transfer_(automatic)</th>\n",
       "      <td>0.168171</td>\n",
       "      <td>-0.101797</td>\n",
       "      <td>0.622928</td>\n",
       "    </tr>\n",
       "    <tr>\n",
       "      <th>credit_card_(automatic)</th>\n",
       "      <td>0.164339</td>\n",
       "      <td>-0.105630</td>\n",
       "      <td>0.608733</td>\n",
       "    </tr>\n",
       "    <tr>\n",
       "      <th>electronic_check</th>\n",
       "      <td>0.455890</td>\n",
       "      <td>0.185922</td>\n",
       "      <td>1.688682</td>\n",
       "    </tr>\n",
       "    <tr>\n",
       "      <th>mailed_check</th>\n",
       "      <td>0.193870</td>\n",
       "      <td>-0.076098</td>\n",
       "      <td>0.718121</td>\n",
       "    </tr>\n",
       "  </tbody>\n",
       "</table>\n",
       "</div>"
      ],
      "text/plain": [
       "                               mean      diff     ratio\n",
       "paymentmethod                                          \n",
       "bank_transfer_(automatic)  0.168171 -0.101797  0.622928\n",
       "credit_card_(automatic)    0.164339 -0.105630  0.608733\n",
       "electronic_check           0.455890  0.185922  1.688682\n",
       "mailed_check               0.193870 -0.076098  0.718121"
      ]
     },
     "metadata": {},
     "output_type": "display_data"
    },
    {
     "name": "stdout",
     "output_type": "stream",
     "text": [
      "\n"
     ]
    },
    {
     "data": {
      "text/html": [
       "<div>\n",
       "<style scoped>\n",
       "    .dataframe tbody tr th:only-of-type {\n",
       "        vertical-align: middle;\n",
       "    }\n",
       "\n",
       "    .dataframe tbody tr th {\n",
       "        vertical-align: top;\n",
       "    }\n",
       "\n",
       "    .dataframe thead th {\n",
       "        text-align: right;\n",
       "    }\n",
       "</style>\n",
       "<table border=\"1\" class=\"dataframe\">\n",
       "  <thead>\n",
       "    <tr style=\"text-align: right;\">\n",
       "      <th></th>\n",
       "      <th>mean</th>\n",
       "      <th>diff</th>\n",
       "      <th>ratio</th>\n",
       "    </tr>\n",
       "    <tr>\n",
       "      <th>seniorcitizen</th>\n",
       "      <th></th>\n",
       "      <th></th>\n",
       "      <th></th>\n",
       "    </tr>\n",
       "  </thead>\n",
       "  <tbody>\n",
       "    <tr>\n",
       "      <th>0</th>\n",
       "      <td>0.242270</td>\n",
       "      <td>-0.027698</td>\n",
       "      <td>0.897403</td>\n",
       "    </tr>\n",
       "    <tr>\n",
       "      <th>1</th>\n",
       "      <td>0.413377</td>\n",
       "      <td>0.143409</td>\n",
       "      <td>1.531208</td>\n",
       "    </tr>\n",
       "  </tbody>\n",
       "</table>\n",
       "</div>"
      ],
      "text/plain": [
       "                   mean      diff     ratio\n",
       "seniorcitizen                              \n",
       "0              0.242270 -0.027698  0.897403\n",
       "1              0.413377  0.143409  1.531208"
      ]
     },
     "metadata": {},
     "output_type": "display_data"
    },
    {
     "name": "stdout",
     "output_type": "stream",
     "text": [
      "\n"
     ]
    }
   ],
   "source": [
    "for col in categorical_cols: \n",
    "    df_group = df_full_train.groupby(by=col).churn.agg(['mean'])\n",
    "    df_group['diff'] = df_group['mean'] - global_mean\n",
    "    df_group['ratio'] = df_group['mean'] / global_mean\n",
    "    display(df_group)\n",
    "    print()"
   ]
  },
  {
   "cell_type": "code",
   "execution_count": 85,
   "id": "d998caee-6bac-4b2c-a0e7-ff32eede619c",
   "metadata": {
    "tags": []
   },
   "outputs": [],
   "source": [
    "## Feature Importance (Mututal Score)"
   ]
  },
  {
   "cell_type": "code",
   "execution_count": 79,
   "id": "2820bc25-7995-450a-a4a5-343e47e84a32",
   "metadata": {
    "tags": []
   },
   "outputs": [],
   "source": [
    "from sklearn.metrics import mutual_info_score"
   ]
  },
  {
   "cell_type": "code",
   "execution_count": 84,
   "id": "3b193c25-b4c7-4fbf-aa10-68ee75727ded",
   "metadata": {
    "tags": []
   },
   "outputs": [
    {
     "data": {
      "text/plain": [
       "contract            0.098320\n",
       "onlinesecurity      0.063085\n",
       "techsupport         0.061032\n",
       "internetservice     0.055868\n",
       "onlinebackup        0.046923\n",
       "deviceprotection    0.043453\n",
       "paymentmethod       0.043210\n",
       "streamingtv         0.031853\n",
       "streamingmovies     0.031581\n",
       "paperlessbilling    0.017589\n",
       "dependents          0.012346\n",
       "partner             0.009968\n",
       "seniorcitizen       0.009410\n",
       "multiplelines       0.000857\n",
       "phoneservice        0.000229\n",
       "gender              0.000117\n",
       "dtype: float64"
      ]
     },
     "execution_count": 84,
     "metadata": {},
     "output_type": "execute_result"
    }
   ],
   "source": [
    "def calculate_mi(series):\n",
    "    return mutual_info_score(df_train_full.churn , series)\n",
    "\n",
    "df_mi = df_train_full[categorical_cols].apply(calculate_mi)\n",
    "df_mi = df_mi.sort_values(ascending=False)\n",
    "\n",
    "df_mi[:]"
   ]
  },
  {
   "cell_type": "code",
   "execution_count": 86,
   "id": "2d99bcb1-c8d3-48bd-9b78-5e93168b42fb",
   "metadata": {
    "tags": []
   },
   "outputs": [],
   "source": [
    "## Feature importance, correlation"
   ]
  },
  {
   "cell_type": "code",
   "execution_count": 88,
   "id": "d54f2c71-8441-4f4b-b2de-faa0c056381d",
   "metadata": {
    "tags": []
   },
   "outputs": [
    {
     "data": {
      "text/plain": [
       "tenure           -0.351885\n",
       "monthlycharges    0.196805\n",
       "totalcharges     -0.196353\n",
       "dtype: float64"
      ]
     },
     "execution_count": 88,
     "metadata": {},
     "output_type": "execute_result"
    }
   ],
   "source": [
    "df_train_full[numerical_cols].corrwith(df_train_full.churn)"
   ]
  },
  {
   "cell_type": "code",
   "execution_count": 89,
   "id": "b29c4deb-2cf8-4e56-823d-33d281c80182",
   "metadata": {
    "tags": []
   },
   "outputs": [],
   "source": [
    "## One-hot encoding"
   ]
  },
  {
   "cell_type": "code",
   "execution_count": 91,
   "id": "8e8d35ce-57fc-47aa-b25c-70a1997043aa",
   "metadata": {
    "tags": []
   },
   "outputs": [],
   "source": [
    "from sklearn.feature_extraction import DictVectorizer"
   ]
  },
  {
   "cell_type": "code",
   "execution_count": 92,
   "id": "bb0b2da4-288e-4ae6-8da9-e1db0746dcd8",
   "metadata": {
    "tags": []
   },
   "outputs": [],
   "source": [
    "dv = DictVectorizer(sparse=False)"
   ]
  },
  {
   "cell_type": "code",
   "execution_count": 93,
   "id": "6d11cca4-3308-492b-8fa9-f76dac2fa2d5",
   "metadata": {
    "tags": []
   },
   "outputs": [],
   "source": [
    "dicts = df_train[categorical_cols+ numerical_cols].to_dict(orient='records')"
   ]
  },
  {
   "cell_type": "code",
   "execution_count": 96,
   "id": "3849ffdc-883f-4e19-9df5-39cf9cc0c8a1",
   "metadata": {
    "tags": []
   },
   "outputs": [
    {
     "data": {
      "text/plain": [
       "[{'gender': 'female',\n",
       "  'partner': 'yes',\n",
       "  'dependents': 'yes',\n",
       "  'phoneservice': 'yes',\n",
       "  'multiplelines': 'yes',\n",
       "  'internetservice': 'fiber_optic',\n",
       "  'onlinesecurity': 'yes',\n",
       "  'onlinebackup': 'yes',\n",
       "  'deviceprotection': 'yes',\n",
       "  'techsupport': 'yes',\n",
       "  'streamingtv': 'yes',\n",
       "  'streamingmovies': 'yes',\n",
       "  'contract': 'two_year',\n",
       "  'paperlessbilling': 'yes',\n",
       "  'paymentmethod': 'electronic_check',\n",
       "  'seniorcitizen': 0,\n",
       "  'tenure': 72,\n",
       "  'monthlycharges': 115.5,\n",
       "  'totalcharges': 8425.15},\n",
       " {'gender': 'male',\n",
       "  'partner': 'no',\n",
       "  'dependents': 'no',\n",
       "  'phoneservice': 'yes',\n",
       "  'multiplelines': 'yes',\n",
       "  'internetservice': 'fiber_optic',\n",
       "  'onlinesecurity': 'no',\n",
       "  'onlinebackup': 'yes',\n",
       "  'deviceprotection': 'yes',\n",
       "  'techsupport': 'no',\n",
       "  'streamingtv': 'no',\n",
       "  'streamingmovies': 'yes',\n",
       "  'contract': 'month-to-month',\n",
       "  'paperlessbilling': 'yes',\n",
       "  'paymentmethod': 'electronic_check',\n",
       "  'seniorcitizen': 0,\n",
       "  'tenure': 10,\n",
       "  'monthlycharges': 95.25,\n",
       "  'totalcharges': 1021.55}]"
      ]
     },
     "execution_count": 96,
     "metadata": {},
     "output_type": "execute_result"
    }
   ],
   "source": [
    "dicts[:2]"
   ]
  },
  {
   "cell_type": "code",
   "execution_count": 97,
   "id": "a588c789-cc38-427b-b971-b8a14114822e",
   "metadata": {
    "tags": []
   },
   "outputs": [],
   "source": [
    "X_train = dv.fit_transform(dicts)"
   ]
  },
  {
   "cell_type": "code",
   "execution_count": 98,
   "id": "91e7119c-dafa-4e02-ae17-884b6d7e1a90",
   "metadata": {
    "tags": []
   },
   "outputs": [
    {
     "data": {
      "text/plain": [
       "array([[0.00000e+00, 0.00000e+00, 1.00000e+00, ..., 1.00000e+00,\n",
       "        7.20000e+01, 8.42515e+03],\n",
       "       [1.00000e+00, 0.00000e+00, 0.00000e+00, ..., 0.00000e+00,\n",
       "        1.00000e+01, 1.02155e+03],\n",
       "       [1.00000e+00, 0.00000e+00, 0.00000e+00, ..., 0.00000e+00,\n",
       "        5.00000e+00, 4.13650e+02],\n",
       "       ...,\n",
       "       [1.00000e+00, 0.00000e+00, 0.00000e+00, ..., 1.00000e+00,\n",
       "        2.00000e+00, 1.90050e+02],\n",
       "       [0.00000e+00, 0.00000e+00, 1.00000e+00, ..., 0.00000e+00,\n",
       "        2.70000e+01, 7.61950e+02],\n",
       "       [1.00000e+00, 0.00000e+00, 0.00000e+00, ..., 0.00000e+00,\n",
       "        9.00000e+00, 7.51650e+02]])"
      ]
     },
     "execution_count": 98,
     "metadata": {},
     "output_type": "execute_result"
    }
   ],
   "source": [
    "X_train"
   ]
  },
  {
   "cell_type": "code",
   "execution_count": 100,
   "id": "0d2510a1-58ee-4b6c-9993-32c95648c317",
   "metadata": {
    "tags": []
   },
   "outputs": [
    {
     "data": {
      "text/plain": [
       "array(['contract=month-to-month', 'contract=one_year',\n",
       "       'contract=two_year', 'dependents=no', 'dependents=yes',\n",
       "       'deviceprotection=no', 'deviceprotection=no_internet_service',\n",
       "       'deviceprotection=yes', 'gender=female', 'gender=male',\n",
       "       'internetservice=dsl', 'internetservice=fiber_optic',\n",
       "       'internetservice=no', 'monthlycharges', 'multiplelines=no',\n",
       "       'multiplelines=no_phone_service', 'multiplelines=yes',\n",
       "       'onlinebackup=no', 'onlinebackup=no_internet_service',\n",
       "       'onlinebackup=yes', 'onlinesecurity=no',\n",
       "       'onlinesecurity=no_internet_service', 'onlinesecurity=yes',\n",
       "       'paperlessbilling=no', 'paperlessbilling=yes', 'partner=no',\n",
       "       'partner=yes', 'paymentmethod=bank_transfer_(automatic)',\n",
       "       'paymentmethod=credit_card_(automatic)',\n",
       "       'paymentmethod=electronic_check', 'paymentmethod=mailed_check',\n",
       "       'phoneservice=no', 'phoneservice=yes', 'seniorcitizen',\n",
       "       'streamingmovies=no', 'streamingmovies=no_internet_service',\n",
       "       'streamingmovies=yes', 'streamingtv=no',\n",
       "       'streamingtv=no_internet_service', 'streamingtv=yes',\n",
       "       'techsupport=no', 'techsupport=no_internet_service',\n",
       "       'techsupport=yes', 'tenure', 'totalcharges'], dtype=object)"
      ]
     },
     "execution_count": 100,
     "metadata": {},
     "output_type": "execute_result"
    }
   ],
   "source": [
    "dv.get_feature_names_out()"
   ]
  },
  {
   "cell_type": "code",
   "execution_count": 111,
   "id": "6488e8fa-90b2-4d7f-890a-54a9bc386acf",
   "metadata": {
    "tags": []
   },
   "outputs": [
    {
     "data": {
      "text/plain": [
       "Index(['month-to-month', 'two_year'], dtype='object', name='contract')"
      ]
     },
     "execution_count": 111,
     "metadata": {},
     "output_type": "execute_result"
    }
   ],
   "source": [
    "df_full_train.contract.value_counts().head(2).index"
   ]
  },
  {
   "cell_type": "code",
   "execution_count": 113,
   "id": "ed0082c4-b96c-4ef9-bd0f-faff76a39144",
   "metadata": {
    "tags": []
   },
   "outputs": [],
   "source": [
    "# one task is to select only required cols from this output"
   ]
  },
  {
   "cell_type": "code",
   "execution_count": 118,
   "id": "5716ae55-a9b1-4087-9db7-876aed60afdc",
   "metadata": {
    "tags": []
   },
   "outputs": [],
   "source": [
    "df = pd.DataFrame(X_train, columns=dv.get_feature_names_out())"
   ]
  },
  {
   "cell_type": "code",
   "execution_count": 119,
   "id": "749173e6-6da6-432e-a3f9-ce7075e84f0e",
   "metadata": {
    "tags": []
   },
   "outputs": [
    {
     "data": {
      "text/html": [
       "<div>\n",
       "<style scoped>\n",
       "    .dataframe tbody tr th:only-of-type {\n",
       "        vertical-align: middle;\n",
       "    }\n",
       "\n",
       "    .dataframe tbody tr th {\n",
       "        vertical-align: top;\n",
       "    }\n",
       "\n",
       "    .dataframe thead th {\n",
       "        text-align: right;\n",
       "    }\n",
       "</style>\n",
       "<table border=\"1\" class=\"dataframe\">\n",
       "  <thead>\n",
       "    <tr style=\"text-align: right;\">\n",
       "      <th></th>\n",
       "      <th>contract=month-to-month</th>\n",
       "      <th>contract=one_year</th>\n",
       "      <th>contract=two_year</th>\n",
       "      <th>dependents=no</th>\n",
       "      <th>dependents=yes</th>\n",
       "      <th>deviceprotection=no</th>\n",
       "      <th>deviceprotection=no_internet_service</th>\n",
       "      <th>deviceprotection=yes</th>\n",
       "      <th>gender=female</th>\n",
       "      <th>gender=male</th>\n",
       "      <th>...</th>\n",
       "      <th>streamingmovies=no_internet_service</th>\n",
       "      <th>streamingmovies=yes</th>\n",
       "      <th>streamingtv=no</th>\n",
       "      <th>streamingtv=no_internet_service</th>\n",
       "      <th>streamingtv=yes</th>\n",
       "      <th>techsupport=no</th>\n",
       "      <th>techsupport=no_internet_service</th>\n",
       "      <th>techsupport=yes</th>\n",
       "      <th>tenure</th>\n",
       "      <th>totalcharges</th>\n",
       "    </tr>\n",
       "  </thead>\n",
       "  <tbody>\n",
       "    <tr>\n",
       "      <th>0</th>\n",
       "      <td>0.0</td>\n",
       "      <td>0.0</td>\n",
       "      <td>1.0</td>\n",
       "      <td>0.0</td>\n",
       "      <td>1.0</td>\n",
       "      <td>0.0</td>\n",
       "      <td>0.0</td>\n",
       "      <td>1.0</td>\n",
       "      <td>1.0</td>\n",
       "      <td>0.0</td>\n",
       "      <td>...</td>\n",
       "      <td>0.0</td>\n",
       "      <td>1.0</td>\n",
       "      <td>0.0</td>\n",
       "      <td>0.0</td>\n",
       "      <td>1.0</td>\n",
       "      <td>0.0</td>\n",
       "      <td>0.0</td>\n",
       "      <td>1.0</td>\n",
       "      <td>72.0</td>\n",
       "      <td>8425.15</td>\n",
       "    </tr>\n",
       "    <tr>\n",
       "      <th>1</th>\n",
       "      <td>1.0</td>\n",
       "      <td>0.0</td>\n",
       "      <td>0.0</td>\n",
       "      <td>1.0</td>\n",
       "      <td>0.0</td>\n",
       "      <td>0.0</td>\n",
       "      <td>0.0</td>\n",
       "      <td>1.0</td>\n",
       "      <td>0.0</td>\n",
       "      <td>1.0</td>\n",
       "      <td>...</td>\n",
       "      <td>0.0</td>\n",
       "      <td>1.0</td>\n",
       "      <td>1.0</td>\n",
       "      <td>0.0</td>\n",
       "      <td>0.0</td>\n",
       "      <td>1.0</td>\n",
       "      <td>0.0</td>\n",
       "      <td>0.0</td>\n",
       "      <td>10.0</td>\n",
       "      <td>1021.55</td>\n",
       "    </tr>\n",
       "    <tr>\n",
       "      <th>2</th>\n",
       "      <td>1.0</td>\n",
       "      <td>0.0</td>\n",
       "      <td>0.0</td>\n",
       "      <td>1.0</td>\n",
       "      <td>0.0</td>\n",
       "      <td>1.0</td>\n",
       "      <td>0.0</td>\n",
       "      <td>0.0</td>\n",
       "      <td>1.0</td>\n",
       "      <td>0.0</td>\n",
       "      <td>...</td>\n",
       "      <td>0.0</td>\n",
       "      <td>0.0</td>\n",
       "      <td>1.0</td>\n",
       "      <td>0.0</td>\n",
       "      <td>0.0</td>\n",
       "      <td>1.0</td>\n",
       "      <td>0.0</td>\n",
       "      <td>0.0</td>\n",
       "      <td>5.0</td>\n",
       "      <td>413.65</td>\n",
       "    </tr>\n",
       "    <tr>\n",
       "      <th>3</th>\n",
       "      <td>1.0</td>\n",
       "      <td>0.0</td>\n",
       "      <td>0.0</td>\n",
       "      <td>0.0</td>\n",
       "      <td>1.0</td>\n",
       "      <td>1.0</td>\n",
       "      <td>0.0</td>\n",
       "      <td>0.0</td>\n",
       "      <td>1.0</td>\n",
       "      <td>0.0</td>\n",
       "      <td>...</td>\n",
       "      <td>0.0</td>\n",
       "      <td>0.0</td>\n",
       "      <td>0.0</td>\n",
       "      <td>0.0</td>\n",
       "      <td>1.0</td>\n",
       "      <td>1.0</td>\n",
       "      <td>0.0</td>\n",
       "      <td>0.0</td>\n",
       "      <td>5.0</td>\n",
       "      <td>356.10</td>\n",
       "    </tr>\n",
       "    <tr>\n",
       "      <th>4</th>\n",
       "      <td>0.0</td>\n",
       "      <td>0.0</td>\n",
       "      <td>1.0</td>\n",
       "      <td>1.0</td>\n",
       "      <td>0.0</td>\n",
       "      <td>0.0</td>\n",
       "      <td>1.0</td>\n",
       "      <td>0.0</td>\n",
       "      <td>1.0</td>\n",
       "      <td>0.0</td>\n",
       "      <td>...</td>\n",
       "      <td>1.0</td>\n",
       "      <td>0.0</td>\n",
       "      <td>0.0</td>\n",
       "      <td>1.0</td>\n",
       "      <td>0.0</td>\n",
       "      <td>0.0</td>\n",
       "      <td>1.0</td>\n",
       "      <td>0.0</td>\n",
       "      <td>18.0</td>\n",
       "      <td>370.50</td>\n",
       "    </tr>\n",
       "    <tr>\n",
       "      <th>...</th>\n",
       "      <td>...</td>\n",
       "      <td>...</td>\n",
       "      <td>...</td>\n",
       "      <td>...</td>\n",
       "      <td>...</td>\n",
       "      <td>...</td>\n",
       "      <td>...</td>\n",
       "      <td>...</td>\n",
       "      <td>...</td>\n",
       "      <td>...</td>\n",
       "      <td>...</td>\n",
       "      <td>...</td>\n",
       "      <td>...</td>\n",
       "      <td>...</td>\n",
       "      <td>...</td>\n",
       "      <td>...</td>\n",
       "      <td>...</td>\n",
       "      <td>...</td>\n",
       "      <td>...</td>\n",
       "      <td>...</td>\n",
       "      <td>...</td>\n",
       "    </tr>\n",
       "    <tr>\n",
       "      <th>4220</th>\n",
       "      <td>0.0</td>\n",
       "      <td>1.0</td>\n",
       "      <td>0.0</td>\n",
       "      <td>0.0</td>\n",
       "      <td>1.0</td>\n",
       "      <td>0.0</td>\n",
       "      <td>0.0</td>\n",
       "      <td>1.0</td>\n",
       "      <td>0.0</td>\n",
       "      <td>1.0</td>\n",
       "      <td>...</td>\n",
       "      <td>0.0</td>\n",
       "      <td>1.0</td>\n",
       "      <td>0.0</td>\n",
       "      <td>0.0</td>\n",
       "      <td>1.0</td>\n",
       "      <td>1.0</td>\n",
       "      <td>0.0</td>\n",
       "      <td>0.0</td>\n",
       "      <td>52.0</td>\n",
       "      <td>4079.55</td>\n",
       "    </tr>\n",
       "    <tr>\n",
       "      <th>4221</th>\n",
       "      <td>1.0</td>\n",
       "      <td>0.0</td>\n",
       "      <td>0.0</td>\n",
       "      <td>1.0</td>\n",
       "      <td>0.0</td>\n",
       "      <td>1.0</td>\n",
       "      <td>0.0</td>\n",
       "      <td>0.0</td>\n",
       "      <td>0.0</td>\n",
       "      <td>1.0</td>\n",
       "      <td>...</td>\n",
       "      <td>0.0</td>\n",
       "      <td>0.0</td>\n",
       "      <td>1.0</td>\n",
       "      <td>0.0</td>\n",
       "      <td>0.0</td>\n",
       "      <td>1.0</td>\n",
       "      <td>0.0</td>\n",
       "      <td>0.0</td>\n",
       "      <td>18.0</td>\n",
       "      <td>476.80</td>\n",
       "    </tr>\n",
       "    <tr>\n",
       "      <th>4222</th>\n",
       "      <td>1.0</td>\n",
       "      <td>0.0</td>\n",
       "      <td>0.0</td>\n",
       "      <td>0.0</td>\n",
       "      <td>1.0</td>\n",
       "      <td>0.0</td>\n",
       "      <td>0.0</td>\n",
       "      <td>1.0</td>\n",
       "      <td>0.0</td>\n",
       "      <td>1.0</td>\n",
       "      <td>...</td>\n",
       "      <td>0.0</td>\n",
       "      <td>1.0</td>\n",
       "      <td>1.0</td>\n",
       "      <td>0.0</td>\n",
       "      <td>0.0</td>\n",
       "      <td>0.0</td>\n",
       "      <td>0.0</td>\n",
       "      <td>1.0</td>\n",
       "      <td>2.0</td>\n",
       "      <td>190.05</td>\n",
       "    </tr>\n",
       "    <tr>\n",
       "      <th>4223</th>\n",
       "      <td>0.0</td>\n",
       "      <td>0.0</td>\n",
       "      <td>1.0</td>\n",
       "      <td>0.0</td>\n",
       "      <td>1.0</td>\n",
       "      <td>0.0</td>\n",
       "      <td>1.0</td>\n",
       "      <td>0.0</td>\n",
       "      <td>1.0</td>\n",
       "      <td>0.0</td>\n",
       "      <td>...</td>\n",
       "      <td>1.0</td>\n",
       "      <td>0.0</td>\n",
       "      <td>0.0</td>\n",
       "      <td>1.0</td>\n",
       "      <td>0.0</td>\n",
       "      <td>0.0</td>\n",
       "      <td>1.0</td>\n",
       "      <td>0.0</td>\n",
       "      <td>27.0</td>\n",
       "      <td>761.95</td>\n",
       "    </tr>\n",
       "    <tr>\n",
       "      <th>4224</th>\n",
       "      <td>1.0</td>\n",
       "      <td>0.0</td>\n",
       "      <td>0.0</td>\n",
       "      <td>1.0</td>\n",
       "      <td>0.0</td>\n",
       "      <td>1.0</td>\n",
       "      <td>0.0</td>\n",
       "      <td>0.0</td>\n",
       "      <td>1.0</td>\n",
       "      <td>0.0</td>\n",
       "      <td>...</td>\n",
       "      <td>0.0</td>\n",
       "      <td>0.0</td>\n",
       "      <td>0.0</td>\n",
       "      <td>0.0</td>\n",
       "      <td>1.0</td>\n",
       "      <td>1.0</td>\n",
       "      <td>0.0</td>\n",
       "      <td>0.0</td>\n",
       "      <td>9.0</td>\n",
       "      <td>751.65</td>\n",
       "    </tr>\n",
       "  </tbody>\n",
       "</table>\n",
       "<p>4225 rows × 45 columns</p>\n",
       "</div>"
      ],
      "text/plain": [
       "      contract=month-to-month  contract=one_year  contract=two_year   \n",
       "0                         0.0                0.0                1.0  \\\n",
       "1                         1.0                0.0                0.0   \n",
       "2                         1.0                0.0                0.0   \n",
       "3                         1.0                0.0                0.0   \n",
       "4                         0.0                0.0                1.0   \n",
       "...                       ...                ...                ...   \n",
       "4220                      0.0                1.0                0.0   \n",
       "4221                      1.0                0.0                0.0   \n",
       "4222                      1.0                0.0                0.0   \n",
       "4223                      0.0                0.0                1.0   \n",
       "4224                      1.0                0.0                0.0   \n",
       "\n",
       "      dependents=no  dependents=yes  deviceprotection=no   \n",
       "0               0.0             1.0                  0.0  \\\n",
       "1               1.0             0.0                  0.0   \n",
       "2               1.0             0.0                  1.0   \n",
       "3               0.0             1.0                  1.0   \n",
       "4               1.0             0.0                  0.0   \n",
       "...             ...             ...                  ...   \n",
       "4220            0.0             1.0                  0.0   \n",
       "4221            1.0             0.0                  1.0   \n",
       "4222            0.0             1.0                  0.0   \n",
       "4223            0.0             1.0                  0.0   \n",
       "4224            1.0             0.0                  1.0   \n",
       "\n",
       "      deviceprotection=no_internet_service  deviceprotection=yes   \n",
       "0                                      0.0                   1.0  \\\n",
       "1                                      0.0                   1.0   \n",
       "2                                      0.0                   0.0   \n",
       "3                                      0.0                   0.0   \n",
       "4                                      1.0                   0.0   \n",
       "...                                    ...                   ...   \n",
       "4220                                   0.0                   1.0   \n",
       "4221                                   0.0                   0.0   \n",
       "4222                                   0.0                   1.0   \n",
       "4223                                   1.0                   0.0   \n",
       "4224                                   0.0                   0.0   \n",
       "\n",
       "      gender=female  gender=male  ...  streamingmovies=no_internet_service   \n",
       "0               1.0          0.0  ...                                  0.0  \\\n",
       "1               0.0          1.0  ...                                  0.0   \n",
       "2               1.0          0.0  ...                                  0.0   \n",
       "3               1.0          0.0  ...                                  0.0   \n",
       "4               1.0          0.0  ...                                  1.0   \n",
       "...             ...          ...  ...                                  ...   \n",
       "4220            0.0          1.0  ...                                  0.0   \n",
       "4221            0.0          1.0  ...                                  0.0   \n",
       "4222            0.0          1.0  ...                                  0.0   \n",
       "4223            1.0          0.0  ...                                  1.0   \n",
       "4224            1.0          0.0  ...                                  0.0   \n",
       "\n",
       "      streamingmovies=yes  streamingtv=no  streamingtv=no_internet_service   \n",
       "0                     1.0             0.0                              0.0  \\\n",
       "1                     1.0             1.0                              0.0   \n",
       "2                     0.0             1.0                              0.0   \n",
       "3                     0.0             0.0                              0.0   \n",
       "4                     0.0             0.0                              1.0   \n",
       "...                   ...             ...                              ...   \n",
       "4220                  1.0             0.0                              0.0   \n",
       "4221                  0.0             1.0                              0.0   \n",
       "4222                  1.0             1.0                              0.0   \n",
       "4223                  0.0             0.0                              1.0   \n",
       "4224                  0.0             0.0                              0.0   \n",
       "\n",
       "      streamingtv=yes  techsupport=no  techsupport=no_internet_service   \n",
       "0                 1.0             0.0                              0.0  \\\n",
       "1                 0.0             1.0                              0.0   \n",
       "2                 0.0             1.0                              0.0   \n",
       "3                 1.0             1.0                              0.0   \n",
       "4                 0.0             0.0                              1.0   \n",
       "...               ...             ...                              ...   \n",
       "4220              1.0             1.0                              0.0   \n",
       "4221              0.0             1.0                              0.0   \n",
       "4222              0.0             0.0                              0.0   \n",
       "4223              0.0             0.0                              1.0   \n",
       "4224              1.0             1.0                              0.0   \n",
       "\n",
       "      techsupport=yes  tenure  totalcharges  \n",
       "0                 1.0    72.0       8425.15  \n",
       "1                 0.0    10.0       1021.55  \n",
       "2                 0.0     5.0        413.65  \n",
       "3                 0.0     5.0        356.10  \n",
       "4                 0.0    18.0        370.50  \n",
       "...               ...     ...           ...  \n",
       "4220              0.0    52.0       4079.55  \n",
       "4221              0.0    18.0        476.80  \n",
       "4222              1.0     2.0        190.05  \n",
       "4223              0.0    27.0        761.95  \n",
       "4224              0.0     9.0        751.65  \n",
       "\n",
       "[4225 rows x 45 columns]"
      ]
     },
     "execution_count": 119,
     "metadata": {},
     "output_type": "execute_result"
    }
   ],
   "source": [
    "df"
   ]
  },
  {
   "cell_type": "code",
   "execution_count": 120,
   "id": "83d32afd-233f-44e1-9c78-f72d74e91815",
   "metadata": {
    "tags": []
   },
   "outputs": [],
   "source": [
    "del df['techsupport=no_internet_service']"
   ]
  },
  {
   "cell_type": "code",
   "execution_count": 121,
   "id": "14d7d217-2b25-4124-bad2-f15d4045f7a2",
   "metadata": {
    "tags": []
   },
   "outputs": [
    {
     "data": {
      "text/html": [
       "<div>\n",
       "<style scoped>\n",
       "    .dataframe tbody tr th:only-of-type {\n",
       "        vertical-align: middle;\n",
       "    }\n",
       "\n",
       "    .dataframe tbody tr th {\n",
       "        vertical-align: top;\n",
       "    }\n",
       "\n",
       "    .dataframe thead th {\n",
       "        text-align: right;\n",
       "    }\n",
       "</style>\n",
       "<table border=\"1\" class=\"dataframe\">\n",
       "  <thead>\n",
       "    <tr style=\"text-align: right;\">\n",
       "      <th></th>\n",
       "      <th>contract=month-to-month</th>\n",
       "      <th>contract=one_year</th>\n",
       "      <th>contract=two_year</th>\n",
       "      <th>dependents=no</th>\n",
       "      <th>dependents=yes</th>\n",
       "      <th>deviceprotection=no</th>\n",
       "      <th>deviceprotection=no_internet_service</th>\n",
       "      <th>deviceprotection=yes</th>\n",
       "      <th>gender=female</th>\n",
       "      <th>gender=male</th>\n",
       "      <th>...</th>\n",
       "      <th>streamingmovies=no</th>\n",
       "      <th>streamingmovies=no_internet_service</th>\n",
       "      <th>streamingmovies=yes</th>\n",
       "      <th>streamingtv=no</th>\n",
       "      <th>streamingtv=no_internet_service</th>\n",
       "      <th>streamingtv=yes</th>\n",
       "      <th>techsupport=no</th>\n",
       "      <th>techsupport=yes</th>\n",
       "      <th>tenure</th>\n",
       "      <th>totalcharges</th>\n",
       "    </tr>\n",
       "  </thead>\n",
       "  <tbody>\n",
       "    <tr>\n",
       "      <th>0</th>\n",
       "      <td>0.0</td>\n",
       "      <td>0.0</td>\n",
       "      <td>1.0</td>\n",
       "      <td>0.0</td>\n",
       "      <td>1.0</td>\n",
       "      <td>0.0</td>\n",
       "      <td>0.0</td>\n",
       "      <td>1.0</td>\n",
       "      <td>1.0</td>\n",
       "      <td>0.0</td>\n",
       "      <td>...</td>\n",
       "      <td>0.0</td>\n",
       "      <td>0.0</td>\n",
       "      <td>1.0</td>\n",
       "      <td>0.0</td>\n",
       "      <td>0.0</td>\n",
       "      <td>1.0</td>\n",
       "      <td>0.0</td>\n",
       "      <td>1.0</td>\n",
       "      <td>72.0</td>\n",
       "      <td>8425.15</td>\n",
       "    </tr>\n",
       "    <tr>\n",
       "      <th>1</th>\n",
       "      <td>1.0</td>\n",
       "      <td>0.0</td>\n",
       "      <td>0.0</td>\n",
       "      <td>1.0</td>\n",
       "      <td>0.0</td>\n",
       "      <td>0.0</td>\n",
       "      <td>0.0</td>\n",
       "      <td>1.0</td>\n",
       "      <td>0.0</td>\n",
       "      <td>1.0</td>\n",
       "      <td>...</td>\n",
       "      <td>0.0</td>\n",
       "      <td>0.0</td>\n",
       "      <td>1.0</td>\n",
       "      <td>1.0</td>\n",
       "      <td>0.0</td>\n",
       "      <td>0.0</td>\n",
       "      <td>1.0</td>\n",
       "      <td>0.0</td>\n",
       "      <td>10.0</td>\n",
       "      <td>1021.55</td>\n",
       "    </tr>\n",
       "    <tr>\n",
       "      <th>2</th>\n",
       "      <td>1.0</td>\n",
       "      <td>0.0</td>\n",
       "      <td>0.0</td>\n",
       "      <td>1.0</td>\n",
       "      <td>0.0</td>\n",
       "      <td>1.0</td>\n",
       "      <td>0.0</td>\n",
       "      <td>0.0</td>\n",
       "      <td>1.0</td>\n",
       "      <td>0.0</td>\n",
       "      <td>...</td>\n",
       "      <td>1.0</td>\n",
       "      <td>0.0</td>\n",
       "      <td>0.0</td>\n",
       "      <td>1.0</td>\n",
       "      <td>0.0</td>\n",
       "      <td>0.0</td>\n",
       "      <td>1.0</td>\n",
       "      <td>0.0</td>\n",
       "      <td>5.0</td>\n",
       "      <td>413.65</td>\n",
       "    </tr>\n",
       "    <tr>\n",
       "      <th>3</th>\n",
       "      <td>1.0</td>\n",
       "      <td>0.0</td>\n",
       "      <td>0.0</td>\n",
       "      <td>0.0</td>\n",
       "      <td>1.0</td>\n",
       "      <td>1.0</td>\n",
       "      <td>0.0</td>\n",
       "      <td>0.0</td>\n",
       "      <td>1.0</td>\n",
       "      <td>0.0</td>\n",
       "      <td>...</td>\n",
       "      <td>1.0</td>\n",
       "      <td>0.0</td>\n",
       "      <td>0.0</td>\n",
       "      <td>0.0</td>\n",
       "      <td>0.0</td>\n",
       "      <td>1.0</td>\n",
       "      <td>1.0</td>\n",
       "      <td>0.0</td>\n",
       "      <td>5.0</td>\n",
       "      <td>356.10</td>\n",
       "    </tr>\n",
       "    <tr>\n",
       "      <th>4</th>\n",
       "      <td>0.0</td>\n",
       "      <td>0.0</td>\n",
       "      <td>1.0</td>\n",
       "      <td>1.0</td>\n",
       "      <td>0.0</td>\n",
       "      <td>0.0</td>\n",
       "      <td>1.0</td>\n",
       "      <td>0.0</td>\n",
       "      <td>1.0</td>\n",
       "      <td>0.0</td>\n",
       "      <td>...</td>\n",
       "      <td>0.0</td>\n",
       "      <td>1.0</td>\n",
       "      <td>0.0</td>\n",
       "      <td>0.0</td>\n",
       "      <td>1.0</td>\n",
       "      <td>0.0</td>\n",
       "      <td>0.0</td>\n",
       "      <td>0.0</td>\n",
       "      <td>18.0</td>\n",
       "      <td>370.50</td>\n",
       "    </tr>\n",
       "    <tr>\n",
       "      <th>...</th>\n",
       "      <td>...</td>\n",
       "      <td>...</td>\n",
       "      <td>...</td>\n",
       "      <td>...</td>\n",
       "      <td>...</td>\n",
       "      <td>...</td>\n",
       "      <td>...</td>\n",
       "      <td>...</td>\n",
       "      <td>...</td>\n",
       "      <td>...</td>\n",
       "      <td>...</td>\n",
       "      <td>...</td>\n",
       "      <td>...</td>\n",
       "      <td>...</td>\n",
       "      <td>...</td>\n",
       "      <td>...</td>\n",
       "      <td>...</td>\n",
       "      <td>...</td>\n",
       "      <td>...</td>\n",
       "      <td>...</td>\n",
       "      <td>...</td>\n",
       "    </tr>\n",
       "    <tr>\n",
       "      <th>4220</th>\n",
       "      <td>0.0</td>\n",
       "      <td>1.0</td>\n",
       "      <td>0.0</td>\n",
       "      <td>0.0</td>\n",
       "      <td>1.0</td>\n",
       "      <td>0.0</td>\n",
       "      <td>0.0</td>\n",
       "      <td>1.0</td>\n",
       "      <td>0.0</td>\n",
       "      <td>1.0</td>\n",
       "      <td>...</td>\n",
       "      <td>0.0</td>\n",
       "      <td>0.0</td>\n",
       "      <td>1.0</td>\n",
       "      <td>0.0</td>\n",
       "      <td>0.0</td>\n",
       "      <td>1.0</td>\n",
       "      <td>1.0</td>\n",
       "      <td>0.0</td>\n",
       "      <td>52.0</td>\n",
       "      <td>4079.55</td>\n",
       "    </tr>\n",
       "    <tr>\n",
       "      <th>4221</th>\n",
       "      <td>1.0</td>\n",
       "      <td>0.0</td>\n",
       "      <td>0.0</td>\n",
       "      <td>1.0</td>\n",
       "      <td>0.0</td>\n",
       "      <td>1.0</td>\n",
       "      <td>0.0</td>\n",
       "      <td>0.0</td>\n",
       "      <td>0.0</td>\n",
       "      <td>1.0</td>\n",
       "      <td>...</td>\n",
       "      <td>1.0</td>\n",
       "      <td>0.0</td>\n",
       "      <td>0.0</td>\n",
       "      <td>1.0</td>\n",
       "      <td>0.0</td>\n",
       "      <td>0.0</td>\n",
       "      <td>1.0</td>\n",
       "      <td>0.0</td>\n",
       "      <td>18.0</td>\n",
       "      <td>476.80</td>\n",
       "    </tr>\n",
       "    <tr>\n",
       "      <th>4222</th>\n",
       "      <td>1.0</td>\n",
       "      <td>0.0</td>\n",
       "      <td>0.0</td>\n",
       "      <td>0.0</td>\n",
       "      <td>1.0</td>\n",
       "      <td>0.0</td>\n",
       "      <td>0.0</td>\n",
       "      <td>1.0</td>\n",
       "      <td>0.0</td>\n",
       "      <td>1.0</td>\n",
       "      <td>...</td>\n",
       "      <td>0.0</td>\n",
       "      <td>0.0</td>\n",
       "      <td>1.0</td>\n",
       "      <td>1.0</td>\n",
       "      <td>0.0</td>\n",
       "      <td>0.0</td>\n",
       "      <td>0.0</td>\n",
       "      <td>1.0</td>\n",
       "      <td>2.0</td>\n",
       "      <td>190.05</td>\n",
       "    </tr>\n",
       "    <tr>\n",
       "      <th>4223</th>\n",
       "      <td>0.0</td>\n",
       "      <td>0.0</td>\n",
       "      <td>1.0</td>\n",
       "      <td>0.0</td>\n",
       "      <td>1.0</td>\n",
       "      <td>0.0</td>\n",
       "      <td>1.0</td>\n",
       "      <td>0.0</td>\n",
       "      <td>1.0</td>\n",
       "      <td>0.0</td>\n",
       "      <td>...</td>\n",
       "      <td>0.0</td>\n",
       "      <td>1.0</td>\n",
       "      <td>0.0</td>\n",
       "      <td>0.0</td>\n",
       "      <td>1.0</td>\n",
       "      <td>0.0</td>\n",
       "      <td>0.0</td>\n",
       "      <td>0.0</td>\n",
       "      <td>27.0</td>\n",
       "      <td>761.95</td>\n",
       "    </tr>\n",
       "    <tr>\n",
       "      <th>4224</th>\n",
       "      <td>1.0</td>\n",
       "      <td>0.0</td>\n",
       "      <td>0.0</td>\n",
       "      <td>1.0</td>\n",
       "      <td>0.0</td>\n",
       "      <td>1.0</td>\n",
       "      <td>0.0</td>\n",
       "      <td>0.0</td>\n",
       "      <td>1.0</td>\n",
       "      <td>0.0</td>\n",
       "      <td>...</td>\n",
       "      <td>1.0</td>\n",
       "      <td>0.0</td>\n",
       "      <td>0.0</td>\n",
       "      <td>0.0</td>\n",
       "      <td>0.0</td>\n",
       "      <td>1.0</td>\n",
       "      <td>1.0</td>\n",
       "      <td>0.0</td>\n",
       "      <td>9.0</td>\n",
       "      <td>751.65</td>\n",
       "    </tr>\n",
       "  </tbody>\n",
       "</table>\n",
       "<p>4225 rows × 44 columns</p>\n",
       "</div>"
      ],
      "text/plain": [
       "      contract=month-to-month  contract=one_year  contract=two_year   \n",
       "0                         0.0                0.0                1.0  \\\n",
       "1                         1.0                0.0                0.0   \n",
       "2                         1.0                0.0                0.0   \n",
       "3                         1.0                0.0                0.0   \n",
       "4                         0.0                0.0                1.0   \n",
       "...                       ...                ...                ...   \n",
       "4220                      0.0                1.0                0.0   \n",
       "4221                      1.0                0.0                0.0   \n",
       "4222                      1.0                0.0                0.0   \n",
       "4223                      0.0                0.0                1.0   \n",
       "4224                      1.0                0.0                0.0   \n",
       "\n",
       "      dependents=no  dependents=yes  deviceprotection=no   \n",
       "0               0.0             1.0                  0.0  \\\n",
       "1               1.0             0.0                  0.0   \n",
       "2               1.0             0.0                  1.0   \n",
       "3               0.0             1.0                  1.0   \n",
       "4               1.0             0.0                  0.0   \n",
       "...             ...             ...                  ...   \n",
       "4220            0.0             1.0                  0.0   \n",
       "4221            1.0             0.0                  1.0   \n",
       "4222            0.0             1.0                  0.0   \n",
       "4223            0.0             1.0                  0.0   \n",
       "4224            1.0             0.0                  1.0   \n",
       "\n",
       "      deviceprotection=no_internet_service  deviceprotection=yes   \n",
       "0                                      0.0                   1.0  \\\n",
       "1                                      0.0                   1.0   \n",
       "2                                      0.0                   0.0   \n",
       "3                                      0.0                   0.0   \n",
       "4                                      1.0                   0.0   \n",
       "...                                    ...                   ...   \n",
       "4220                                   0.0                   1.0   \n",
       "4221                                   0.0                   0.0   \n",
       "4222                                   0.0                   1.0   \n",
       "4223                                   1.0                   0.0   \n",
       "4224                                   0.0                   0.0   \n",
       "\n",
       "      gender=female  gender=male  ...  streamingmovies=no   \n",
       "0               1.0          0.0  ...                 0.0  \\\n",
       "1               0.0          1.0  ...                 0.0   \n",
       "2               1.0          0.0  ...                 1.0   \n",
       "3               1.0          0.0  ...                 1.0   \n",
       "4               1.0          0.0  ...                 0.0   \n",
       "...             ...          ...  ...                 ...   \n",
       "4220            0.0          1.0  ...                 0.0   \n",
       "4221            0.0          1.0  ...                 1.0   \n",
       "4222            0.0          1.0  ...                 0.0   \n",
       "4223            1.0          0.0  ...                 0.0   \n",
       "4224            1.0          0.0  ...                 1.0   \n",
       "\n",
       "      streamingmovies=no_internet_service  streamingmovies=yes   \n",
       "0                                     0.0                  1.0  \\\n",
       "1                                     0.0                  1.0   \n",
       "2                                     0.0                  0.0   \n",
       "3                                     0.0                  0.0   \n",
       "4                                     1.0                  0.0   \n",
       "...                                   ...                  ...   \n",
       "4220                                  0.0                  1.0   \n",
       "4221                                  0.0                  0.0   \n",
       "4222                                  0.0                  1.0   \n",
       "4223                                  1.0                  0.0   \n",
       "4224                                  0.0                  0.0   \n",
       "\n",
       "      streamingtv=no  streamingtv=no_internet_service  streamingtv=yes   \n",
       "0                0.0                              0.0              1.0  \\\n",
       "1                1.0                              0.0              0.0   \n",
       "2                1.0                              0.0              0.0   \n",
       "3                0.0                              0.0              1.0   \n",
       "4                0.0                              1.0              0.0   \n",
       "...              ...                              ...              ...   \n",
       "4220             0.0                              0.0              1.0   \n",
       "4221             1.0                              0.0              0.0   \n",
       "4222             1.0                              0.0              0.0   \n",
       "4223             0.0                              1.0              0.0   \n",
       "4224             0.0                              0.0              1.0   \n",
       "\n",
       "      techsupport=no  techsupport=yes  tenure  totalcharges  \n",
       "0                0.0              1.0    72.0       8425.15  \n",
       "1                1.0              0.0    10.0       1021.55  \n",
       "2                1.0              0.0     5.0        413.65  \n",
       "3                1.0              0.0     5.0        356.10  \n",
       "4                0.0              0.0    18.0        370.50  \n",
       "...              ...              ...     ...           ...  \n",
       "4220             1.0              0.0    52.0       4079.55  \n",
       "4221             1.0              0.0    18.0        476.80  \n",
       "4222             0.0              1.0     2.0        190.05  \n",
       "4223             0.0              0.0    27.0        761.95  \n",
       "4224             1.0              0.0     9.0        751.65  \n",
       "\n",
       "[4225 rows x 44 columns]"
      ]
     },
     "execution_count": 121,
     "metadata": {},
     "output_type": "execute_result"
    }
   ],
   "source": [
    "df"
   ]
  },
  {
   "cell_type": "code",
   "execution_count": 124,
   "id": "e94a2e9f-9814-4713-98ca-9306599bc845",
   "metadata": {
    "tags": []
   },
   "outputs": [],
   "source": [
    "X = df.values"
   ]
  },
  {
   "cell_type": "code",
   "execution_count": 125,
   "id": "83b25a94-f3ce-42e4-8887-4940ccaa6224",
   "metadata": {
    "tags": []
   },
   "outputs": [],
   "source": [
    "## Logistic Regression"
   ]
  },
  {
   "cell_type": "code",
   "execution_count": 127,
   "id": "7fae6100-34c1-481c-a904-718632891679",
   "metadata": {
    "tags": []
   },
   "outputs": [],
   "source": [
    "def sigmoid(z):\n",
    "    return 1/(1 + np.exp(-z))"
   ]
  },
  {
   "cell_type": "code",
   "execution_count": 128,
   "id": "e0e28415-4e71-43fe-a15a-90e7ead13ef2",
   "metadata": {
    "collapsed": true,
    "jupyter": {
     "outputs_hidden": true
    },
    "tags": []
   },
   "outputs": [
    {
     "data": {
      "text/plain": [
       "array([-7.        , -6.98598599, -6.97197197, -6.95795796, -6.94394394,\n",
       "       -6.92992993, -6.91591592, -6.9019019 , -6.88788789, -6.87387387,\n",
       "       -6.85985986, -6.84584585, -6.83183183, -6.81781782, -6.8038038 ,\n",
       "       -6.78978979, -6.77577578, -6.76176176, -6.74774775, -6.73373373,\n",
       "       -6.71971972, -6.70570571, -6.69169169, -6.67767768, -6.66366366,\n",
       "       -6.64964965, -6.63563564, -6.62162162, -6.60760761, -6.59359359,\n",
       "       -6.57957958, -6.56556557, -6.55155155, -6.53753754, -6.52352352,\n",
       "       -6.50950951, -6.4954955 , -6.48148148, -6.46746747, -6.45345345,\n",
       "       -6.43943944, -6.42542543, -6.41141141, -6.3973974 , -6.38338338,\n",
       "       -6.36936937, -6.35535536, -6.34134134, -6.32732733, -6.31331331,\n",
       "       -6.2992993 , -6.28528529, -6.27127127, -6.25725726, -6.24324324,\n",
       "       -6.22922923, -6.21521522, -6.2012012 , -6.18718719, -6.17317317,\n",
       "       -6.15915916, -6.14514515, -6.13113113, -6.11711712, -6.1031031 ,\n",
       "       -6.08908909, -6.07507508, -6.06106106, -6.04704705, -6.03303303,\n",
       "       -6.01901902, -6.00500501, -5.99099099, -5.97697698, -5.96296296,\n",
       "       -5.94894895, -5.93493493, -5.92092092, -5.90690691, -5.89289289,\n",
       "       -5.87887888, -5.86486486, -5.85085085, -5.83683684, -5.82282282,\n",
       "       -5.80880881, -5.79479479, -5.78078078, -5.76676677, -5.75275275,\n",
       "       -5.73873874, -5.72472472, -5.71071071, -5.6966967 , -5.68268268,\n",
       "       -5.66866867, -5.65465465, -5.64064064, -5.62662663, -5.61261261,\n",
       "       -5.5985986 , -5.58458458, -5.57057057, -5.55655656, -5.54254254,\n",
       "       -5.52852853, -5.51451451, -5.5005005 , -5.48648649, -5.47247247,\n",
       "       -5.45845846, -5.44444444, -5.43043043, -5.41641642, -5.4024024 ,\n",
       "       -5.38838839, -5.37437437, -5.36036036, -5.34634635, -5.33233233,\n",
       "       -5.31831832, -5.3043043 , -5.29029029, -5.27627628, -5.26226226,\n",
       "       -5.24824825, -5.23423423, -5.22022022, -5.20620621, -5.19219219,\n",
       "       -5.17817818, -5.16416416, -5.15015015, -5.13613614, -5.12212212,\n",
       "       -5.10810811, -5.09409409, -5.08008008, -5.06606607, -5.05205205,\n",
       "       -5.03803804, -5.02402402, -5.01001001, -4.995996  , -4.98198198,\n",
       "       -4.96796797, -4.95395395, -4.93993994, -4.92592593, -4.91191191,\n",
       "       -4.8978979 , -4.88388388, -4.86986987, -4.85585586, -4.84184184,\n",
       "       -4.82782783, -4.81381381, -4.7997998 , -4.78578579, -4.77177177,\n",
       "       -4.75775776, -4.74374374, -4.72972973, -4.71571572, -4.7017017 ,\n",
       "       -4.68768769, -4.67367367, -4.65965966, -4.64564565, -4.63163163,\n",
       "       -4.61761762, -4.6036036 , -4.58958959, -4.57557558, -4.56156156,\n",
       "       -4.54754755, -4.53353353, -4.51951952, -4.50550551, -4.49149149,\n",
       "       -4.47747748, -4.46346346, -4.44944945, -4.43543544, -4.42142142,\n",
       "       -4.40740741, -4.39339339, -4.37937938, -4.36536537, -4.35135135,\n",
       "       -4.33733734, -4.32332332, -4.30930931, -4.2952953 , -4.28128128,\n",
       "       -4.26726727, -4.25325325, -4.23923924, -4.22522523, -4.21121121,\n",
       "       -4.1971972 , -4.18318318, -4.16916917, -4.15515516, -4.14114114,\n",
       "       -4.12712713, -4.11311311, -4.0990991 , -4.08508509, -4.07107107,\n",
       "       -4.05705706, -4.04304304, -4.02902903, -4.01501502, -4.001001  ,\n",
       "       -3.98698699, -3.97297297, -3.95895896, -3.94494494, -3.93093093,\n",
       "       -3.91691692, -3.9029029 , -3.88888889, -3.87487487, -3.86086086,\n",
       "       -3.84684685, -3.83283283, -3.81881882, -3.8048048 , -3.79079079,\n",
       "       -3.77677678, -3.76276276, -3.74874875, -3.73473473, -3.72072072,\n",
       "       -3.70670671, -3.69269269, -3.67867868, -3.66466466, -3.65065065,\n",
       "       -3.63663664, -3.62262262, -3.60860861, -3.59459459, -3.58058058,\n",
       "       -3.56656657, -3.55255255, -3.53853854, -3.52452452, -3.51051051,\n",
       "       -3.4964965 , -3.48248248, -3.46846847, -3.45445445, -3.44044044,\n",
       "       -3.42642643, -3.41241241, -3.3983984 , -3.38438438, -3.37037037,\n",
       "       -3.35635636, -3.34234234, -3.32832833, -3.31431431, -3.3003003 ,\n",
       "       -3.28628629, -3.27227227, -3.25825826, -3.24424424, -3.23023023,\n",
       "       -3.21621622, -3.2022022 , -3.18818819, -3.17417417, -3.16016016,\n",
       "       -3.14614615, -3.13213213, -3.11811812, -3.1041041 , -3.09009009,\n",
       "       -3.07607608, -3.06206206, -3.04804805, -3.03403403, -3.02002002,\n",
       "       -3.00600601, -2.99199199, -2.97797798, -2.96396396, -2.94994995,\n",
       "       -2.93593594, -2.92192192, -2.90790791, -2.89389389, -2.87987988,\n",
       "       -2.86586587, -2.85185185, -2.83783784, -2.82382382, -2.80980981,\n",
       "       -2.7957958 , -2.78178178, -2.76776777, -2.75375375, -2.73973974,\n",
       "       -2.72572573, -2.71171171, -2.6976977 , -2.68368368, -2.66966967,\n",
       "       -2.65565566, -2.64164164, -2.62762763, -2.61361361, -2.5995996 ,\n",
       "       -2.58558559, -2.57157157, -2.55755756, -2.54354354, -2.52952953,\n",
       "       -2.51551552, -2.5015015 , -2.48748749, -2.47347347, -2.45945946,\n",
       "       -2.44544545, -2.43143143, -2.41741742, -2.4034034 , -2.38938939,\n",
       "       -2.37537538, -2.36136136, -2.34734735, -2.33333333, -2.31931932,\n",
       "       -2.30530531, -2.29129129, -2.27727728, -2.26326326, -2.24924925,\n",
       "       -2.23523524, -2.22122122, -2.20720721, -2.19319319, -2.17917918,\n",
       "       -2.16516517, -2.15115115, -2.13713714, -2.12312312, -2.10910911,\n",
       "       -2.0950951 , -2.08108108, -2.06706707, -2.05305305, -2.03903904,\n",
       "       -2.02502503, -2.01101101, -1.996997  , -1.98298298, -1.96896897,\n",
       "       -1.95495495, -1.94094094, -1.92692693, -1.91291291, -1.8988989 ,\n",
       "       -1.88488488, -1.87087087, -1.85685686, -1.84284284, -1.82882883,\n",
       "       -1.81481481, -1.8008008 , -1.78678679, -1.77277277, -1.75875876,\n",
       "       -1.74474474, -1.73073073, -1.71671672, -1.7027027 , -1.68868869,\n",
       "       -1.67467467, -1.66066066, -1.64664665, -1.63263263, -1.61861862,\n",
       "       -1.6046046 , -1.59059059, -1.57657658, -1.56256256, -1.54854855,\n",
       "       -1.53453453, -1.52052052, -1.50650651, -1.49249249, -1.47847848,\n",
       "       -1.46446446, -1.45045045, -1.43643644, -1.42242242, -1.40840841,\n",
       "       -1.39439439, -1.38038038, -1.36636637, -1.35235235, -1.33833834,\n",
       "       -1.32432432, -1.31031031, -1.2962963 , -1.28228228, -1.26826827,\n",
       "       -1.25425425, -1.24024024, -1.22622623, -1.21221221, -1.1981982 ,\n",
       "       -1.18418418, -1.17017017, -1.15615616, -1.14214214, -1.12812813,\n",
       "       -1.11411411, -1.1001001 , -1.08608609, -1.07207207, -1.05805806,\n",
       "       -1.04404404, -1.03003003, -1.01601602, -1.002002  , -0.98798799,\n",
       "       -0.97397397, -0.95995996, -0.94594595, -0.93193193, -0.91791792,\n",
       "       -0.9039039 , -0.88988989, -0.87587588, -0.86186186, -0.84784785,\n",
       "       -0.83383383, -0.81981982, -0.80580581, -0.79179179, -0.77777778,\n",
       "       -0.76376376, -0.74974975, -0.73573574, -0.72172172, -0.70770771,\n",
       "       -0.69369369, -0.67967968, -0.66566567, -0.65165165, -0.63763764,\n",
       "       -0.62362362, -0.60960961, -0.5955956 , -0.58158158, -0.56756757,\n",
       "       -0.55355355, -0.53953954, -0.52552553, -0.51151151, -0.4974975 ,\n",
       "       -0.48348348, -0.46946947, -0.45545546, -0.44144144, -0.42742743,\n",
       "       -0.41341341, -0.3993994 , -0.38538539, -0.37137137, -0.35735736,\n",
       "       -0.34334334, -0.32932933, -0.31531532, -0.3013013 , -0.28728729,\n",
       "       -0.27327327, -0.25925926, -0.24524525, -0.23123123, -0.21721722,\n",
       "       -0.2032032 , -0.18918919, -0.17517518, -0.16116116, -0.14714715,\n",
       "       -0.13313313, -0.11911912, -0.10510511, -0.09109109, -0.07707708,\n",
       "       -0.06306306, -0.04904905, -0.03503504, -0.02102102, -0.00700701,\n",
       "        0.00700701,  0.02102102,  0.03503504,  0.04904905,  0.06306306,\n",
       "        0.07707708,  0.09109109,  0.10510511,  0.11911912,  0.13313313,\n",
       "        0.14714715,  0.16116116,  0.17517518,  0.18918919,  0.2032032 ,\n",
       "        0.21721722,  0.23123123,  0.24524525,  0.25925926,  0.27327327,\n",
       "        0.28728729,  0.3013013 ,  0.31531532,  0.32932933,  0.34334334,\n",
       "        0.35735736,  0.37137137,  0.38538539,  0.3993994 ,  0.41341341,\n",
       "        0.42742743,  0.44144144,  0.45545546,  0.46946947,  0.48348348,\n",
       "        0.4974975 ,  0.51151151,  0.52552553,  0.53953954,  0.55355355,\n",
       "        0.56756757,  0.58158158,  0.5955956 ,  0.60960961,  0.62362362,\n",
       "        0.63763764,  0.65165165,  0.66566567,  0.67967968,  0.69369369,\n",
       "        0.70770771,  0.72172172,  0.73573574,  0.74974975,  0.76376376,\n",
       "        0.77777778,  0.79179179,  0.80580581,  0.81981982,  0.83383383,\n",
       "        0.84784785,  0.86186186,  0.87587588,  0.88988989,  0.9039039 ,\n",
       "        0.91791792,  0.93193193,  0.94594595,  0.95995996,  0.97397397,\n",
       "        0.98798799,  1.002002  ,  1.01601602,  1.03003003,  1.04404404,\n",
       "        1.05805806,  1.07207207,  1.08608609,  1.1001001 ,  1.11411411,\n",
       "        1.12812813,  1.14214214,  1.15615616,  1.17017017,  1.18418418,\n",
       "        1.1981982 ,  1.21221221,  1.22622623,  1.24024024,  1.25425425,\n",
       "        1.26826827,  1.28228228,  1.2962963 ,  1.31031031,  1.32432432,\n",
       "        1.33833834,  1.35235235,  1.36636637,  1.38038038,  1.39439439,\n",
       "        1.40840841,  1.42242242,  1.43643644,  1.45045045,  1.46446446,\n",
       "        1.47847848,  1.49249249,  1.50650651,  1.52052052,  1.53453453,\n",
       "        1.54854855,  1.56256256,  1.57657658,  1.59059059,  1.6046046 ,\n",
       "        1.61861862,  1.63263263,  1.64664665,  1.66066066,  1.67467467,\n",
       "        1.68868869,  1.7027027 ,  1.71671672,  1.73073073,  1.74474474,\n",
       "        1.75875876,  1.77277277,  1.78678679,  1.8008008 ,  1.81481481,\n",
       "        1.82882883,  1.84284284,  1.85685686,  1.87087087,  1.88488488,\n",
       "        1.8988989 ,  1.91291291,  1.92692693,  1.94094094,  1.95495495,\n",
       "        1.96896897,  1.98298298,  1.996997  ,  2.01101101,  2.02502503,\n",
       "        2.03903904,  2.05305305,  2.06706707,  2.08108108,  2.0950951 ,\n",
       "        2.10910911,  2.12312312,  2.13713714,  2.15115115,  2.16516517,\n",
       "        2.17917918,  2.19319319,  2.20720721,  2.22122122,  2.23523524,\n",
       "        2.24924925,  2.26326326,  2.27727728,  2.29129129,  2.30530531,\n",
       "        2.31931932,  2.33333333,  2.34734735,  2.36136136,  2.37537538,\n",
       "        2.38938939,  2.4034034 ,  2.41741742,  2.43143143,  2.44544545,\n",
       "        2.45945946,  2.47347347,  2.48748749,  2.5015015 ,  2.51551552,\n",
       "        2.52952953,  2.54354354,  2.55755756,  2.57157157,  2.58558559,\n",
       "        2.5995996 ,  2.61361361,  2.62762763,  2.64164164,  2.65565566,\n",
       "        2.66966967,  2.68368368,  2.6976977 ,  2.71171171,  2.72572573,\n",
       "        2.73973974,  2.75375375,  2.76776777,  2.78178178,  2.7957958 ,\n",
       "        2.80980981,  2.82382382,  2.83783784,  2.85185185,  2.86586587,\n",
       "        2.87987988,  2.89389389,  2.90790791,  2.92192192,  2.93593594,\n",
       "        2.94994995,  2.96396396,  2.97797798,  2.99199199,  3.00600601,\n",
       "        3.02002002,  3.03403403,  3.04804805,  3.06206206,  3.07607608,\n",
       "        3.09009009,  3.1041041 ,  3.11811812,  3.13213213,  3.14614615,\n",
       "        3.16016016,  3.17417417,  3.18818819,  3.2022022 ,  3.21621622,\n",
       "        3.23023023,  3.24424424,  3.25825826,  3.27227227,  3.28628629,\n",
       "        3.3003003 ,  3.31431431,  3.32832833,  3.34234234,  3.35635636,\n",
       "        3.37037037,  3.38438438,  3.3983984 ,  3.41241241,  3.42642643,\n",
       "        3.44044044,  3.45445445,  3.46846847,  3.48248248,  3.4964965 ,\n",
       "        3.51051051,  3.52452452,  3.53853854,  3.55255255,  3.56656657,\n",
       "        3.58058058,  3.59459459,  3.60860861,  3.62262262,  3.63663664,\n",
       "        3.65065065,  3.66466466,  3.67867868,  3.69269269,  3.70670671,\n",
       "        3.72072072,  3.73473473,  3.74874875,  3.76276276,  3.77677678,\n",
       "        3.79079079,  3.8048048 ,  3.81881882,  3.83283283,  3.84684685,\n",
       "        3.86086086,  3.87487487,  3.88888889,  3.9029029 ,  3.91691692,\n",
       "        3.93093093,  3.94494494,  3.95895896,  3.97297297,  3.98698699,\n",
       "        4.001001  ,  4.01501502,  4.02902903,  4.04304304,  4.05705706,\n",
       "        4.07107107,  4.08508509,  4.0990991 ,  4.11311311,  4.12712713,\n",
       "        4.14114114,  4.15515516,  4.16916917,  4.18318318,  4.1971972 ,\n",
       "        4.21121121,  4.22522523,  4.23923924,  4.25325325,  4.26726727,\n",
       "        4.28128128,  4.2952953 ,  4.30930931,  4.32332332,  4.33733734,\n",
       "        4.35135135,  4.36536537,  4.37937938,  4.39339339,  4.40740741,\n",
       "        4.42142142,  4.43543544,  4.44944945,  4.46346346,  4.47747748,\n",
       "        4.49149149,  4.50550551,  4.51951952,  4.53353353,  4.54754755,\n",
       "        4.56156156,  4.57557558,  4.58958959,  4.6036036 ,  4.61761762,\n",
       "        4.63163163,  4.64564565,  4.65965966,  4.67367367,  4.68768769,\n",
       "        4.7017017 ,  4.71571572,  4.72972973,  4.74374374,  4.75775776,\n",
       "        4.77177177,  4.78578579,  4.7997998 ,  4.81381381,  4.82782783,\n",
       "        4.84184184,  4.85585586,  4.86986987,  4.88388388,  4.8978979 ,\n",
       "        4.91191191,  4.92592593,  4.93993994,  4.95395395,  4.96796797,\n",
       "        4.98198198,  4.995996  ,  5.01001001,  5.02402402,  5.03803804,\n",
       "        5.05205205,  5.06606607,  5.08008008,  5.09409409,  5.10810811,\n",
       "        5.12212212,  5.13613614,  5.15015015,  5.16416416,  5.17817818,\n",
       "        5.19219219,  5.20620621,  5.22022022,  5.23423423,  5.24824825,\n",
       "        5.26226226,  5.27627628,  5.29029029,  5.3043043 ,  5.31831832,\n",
       "        5.33233233,  5.34634635,  5.36036036,  5.37437437,  5.38838839,\n",
       "        5.4024024 ,  5.41641642,  5.43043043,  5.44444444,  5.45845846,\n",
       "        5.47247247,  5.48648649,  5.5005005 ,  5.51451451,  5.52852853,\n",
       "        5.54254254,  5.55655656,  5.57057057,  5.58458458,  5.5985986 ,\n",
       "        5.61261261,  5.62662663,  5.64064064,  5.65465465,  5.66866867,\n",
       "        5.68268268,  5.6966967 ,  5.71071071,  5.72472472,  5.73873874,\n",
       "        5.75275275,  5.76676677,  5.78078078,  5.79479479,  5.80880881,\n",
       "        5.82282282,  5.83683684,  5.85085085,  5.86486486,  5.87887888,\n",
       "        5.89289289,  5.90690691,  5.92092092,  5.93493493,  5.94894895,\n",
       "        5.96296296,  5.97697698,  5.99099099,  6.00500501,  6.01901902,\n",
       "        6.03303303,  6.04704705,  6.06106106,  6.07507508,  6.08908909,\n",
       "        6.1031031 ,  6.11711712,  6.13113113,  6.14514515,  6.15915916,\n",
       "        6.17317317,  6.18718719,  6.2012012 ,  6.21521522,  6.22922923,\n",
       "        6.24324324,  6.25725726,  6.27127127,  6.28528529,  6.2992993 ,\n",
       "        6.31331331,  6.32732733,  6.34134134,  6.35535536,  6.36936937,\n",
       "        6.38338338,  6.3973974 ,  6.41141141,  6.42542543,  6.43943944,\n",
       "        6.45345345,  6.46746747,  6.48148148,  6.4954955 ,  6.50950951,\n",
       "        6.52352352,  6.53753754,  6.55155155,  6.56556557,  6.57957958,\n",
       "        6.59359359,  6.60760761,  6.62162162,  6.63563564,  6.64964965,\n",
       "        6.66366366,  6.67767768,  6.69169169,  6.70570571,  6.71971972,\n",
       "        6.73373373,  6.74774775,  6.76176176,  6.77577578,  6.78978979,\n",
       "        6.8038038 ,  6.81781782,  6.83183183,  6.84584585,  6.85985986,\n",
       "        6.87387387,  6.88788789,  6.9019019 ,  6.91591592,  6.92992993,\n",
       "        6.94394394,  6.95795796,  6.97197197,  6.98598599,  7.        ])"
      ]
     },
     "execution_count": 128,
     "metadata": {},
     "output_type": "execute_result"
    }
   ],
   "source": [
    "z= np.linspace(-7,7,1000)\n",
    "z"
   ]
  },
  {
   "cell_type": "code",
   "execution_count": 131,
   "id": "23cb29de-f2e7-4e83-bb36-2b838b74e6bc",
   "metadata": {
    "tags": []
   },
   "outputs": [],
   "source": [
    "import matplotlib.pyplot as plt"
   ]
  },
  {
   "cell_type": "code",
   "execution_count": 132,
   "id": "1091af00-7d96-4377-bc87-c222b516a62c",
   "metadata": {
    "tags": []
   },
   "outputs": [
    {
     "data": {
      "text/plain": [
       "[<matplotlib.lines.Line2D at 0x280dabbb0>]"
      ]
     },
     "execution_count": 132,
     "metadata": {},
     "output_type": "execute_result"
    },
    {
     "data": {
      "image/png": "[encoded data removed]",
      "text/plain": [
       "<Figure size 640x480 with 1 Axes>"
      ]
     },
     "metadata": {},
     "output_type": "display_data"
    }
   ],
   "source": [
    "plt.plot(z, sigmoid(z))"
   ]
  },
  {
   "cell_type": "code",
   "execution_count": 133,
   "id": "84a7ec33-8026-483d-92e2-13cbfa2bc24e",
   "metadata": {
    "tags": []
   },
   "outputs": [],
   "source": [
    "# Using the library\n",
    "\n",
    "from sklearn.linear_model import LogisticRegression"
   ]
  },
  {
   "cell_type": "code",
   "execution_count": 134,
   "id": "1975f781-619f-41a5-b3b3-87ac492a9061",
   "metadata": {
    "tags": []
   },
   "outputs": [],
   "source": [
    "model = LogisticRegression()"
   ]
  },
  {
   "cell_type": "code",
   "execution_count": 136,
   "id": "37d8d9a3-ec24-434a-9e42-cf69d630e45d",
   "metadata": {
    "tags": []
   },
   "outputs": [
    {
     "data": {
      "text/html": [
       "<style>#sk-container-id-1 {color: black;background-color: white;}#sk-container-id-1 pre{padding: 0;}#sk-container-id-1 div.sk-toggleable {background-color: white;}#sk-container-id-1 label.sk-toggleable__label {cursor: pointer;display: block;width: 100%;margin-bottom: 0;padding: 0.3em;box-sizing: border-box;text-align: center;}#sk-container-id-1 label.sk-toggleable__label-arrow:before {content: \"▸\";float: left;margin-right: 0.25em;color: #696969;}#sk-container-id-1 label.sk-toggleable__label-arrow:hover:before {color: black;}#sk-container-id-1 div.sk-estimator:hover label.sk-toggleable__label-arrow:before {color: black;}#sk-container-id-1 div.sk-toggleable__content {max-height: 0;max-width: 0;overflow: hidden;text-align: left;background-color: #f0f8ff;}#sk-container-id-1 div.sk-toggleable__content pre {margin: 0.2em;color: black;border-radius: 0.25em;background-color: #f0f8ff;}#sk-container-id-1 input.sk-toggleable__control:checked~div.sk-toggleable__content {max-height: 200px;max-width: 100%;overflow: auto;}#sk-container-id-1 input.sk-toggleable__control:checked~label.sk-toggleable__label-arrow:before {content: \"▾\";}#sk-container-id-1 div.sk-estimator input.sk-toggleable__control:checked~label.sk-toggleable__label {background-color: #d4ebff;}#sk-container-id-1 div.sk-label input.sk-toggleable__control:checked~label.sk-toggleable__label {background-color: #d4ebff;}#sk-container-id-1 input.sk-hidden--visually {border: 0;clip: rect(1px 1px 1px 1px);clip: rect(1px, 1px, 1px, 1px);height: 1px;margin: -1px;overflow: hidden;padding: 0;position: absolute;width: 1px;}#sk-container-id-1 div.sk-estimator {font-family: monospace;background-color: #f0f8ff;border: 1px dotted black;border-radius: 0.25em;box-sizing: border-box;margin-bottom: 0.5em;}#sk-container-id-1 div.sk-estimator:hover {background-color: #d4ebff;}#sk-container-id-1 div.sk-parallel-item::after {content: \"\";width: 100%;border-bottom: 1px solid gray;flex-grow: 1;}#sk-container-id-1 div.sk-label:hover label.sk-toggleable__label {background-color: #d4ebff;}#sk-container-id-1 div.sk-serial::before {content: \"\";position: absolute;border-left: 1px solid gray;box-sizing: border-box;top: 0;bottom: 0;left: 50%;z-index: 0;}#sk-container-id-1 div.sk-serial {display: flex;flex-direction: column;align-items: center;background-color: white;padding-right: 0.2em;padding-left: 0.2em;position: relative;}#sk-container-id-1 div.sk-item {position: relative;z-index: 1;}#sk-container-id-1 div.sk-parallel {display: flex;align-items: stretch;justify-content: center;background-color: white;position: relative;}#sk-container-id-1 div.sk-item::before, #sk-container-id-1 div.sk-parallel-item::before {content: \"\";position: absolute;border-left: 1px solid gray;box-sizing: border-box;top: 0;bottom: 0;left: 50%;z-index: -1;}#sk-container-id-1 div.sk-parallel-item {display: flex;flex-direction: column;z-index: 1;position: relative;background-color: white;}#sk-container-id-1 div.sk-parallel-item:first-child::after {align-self: flex-end;width: 50%;}#sk-container-id-1 div.sk-parallel-item:last-child::after {align-self: flex-start;width: 50%;}#sk-container-id-1 div.sk-parallel-item:only-child::after {width: 0;}#sk-container-id-1 div.sk-dashed-wrapped {border: 1px dashed gray;margin: 0 0.4em 0.5em 0.4em;box-sizing: border-box;padding-bottom: 0.4em;background-color: white;}#sk-container-id-1 div.sk-label label {font-family: monospace;font-weight: bold;display: inline-block;line-height: 1.2em;}#sk-container-id-1 div.sk-label-container {text-align: center;}#sk-container-id-1 div.sk-container {/* jupyter's `normalize.less` sets `[hidden] { display: none; }` but bootstrap.min.css set `[hidden] { display: none !important; }` so we also need the `!important` here to be able to override the default hidden behavior on the sphinx rendered scikit-learn.org. See: https://github.com/scikit-learn/scikit-learn/issues/21755 */display: inline-block !important;position: relative;}#sk-container-id-1 div.sk-text-repr-fallback {display: none;}</style><div id=\"sk-container-id-1\" class=\"sk-top-container\"><div class=\"sk-text-repr-fallback\"><pre>LogisticRegression()</pre><b>In a Jupyter environment, please rerun this cell to show the HTML representation or trust the notebook. <br />On GitHub, the HTML representation is unable to render, please try loading this page with nbviewer.org.</b></div><div class=\"sk-container\" hidden><div class=\"sk-item\"><div class=\"sk-estimator sk-toggleable\"><input class=\"sk-toggleable__control sk-hidden--visually\" id=\"sk-estimator-id-1\" type=\"checkbox\" checked><label for=\"sk-estimator-id-1\" class=\"sk-toggleable__label sk-toggleable__label-arrow\">LogisticRegression</label><div class=\"sk-toggleable__content\"><pre>LogisticRegression()</pre></div></div></div></div></div>"
      ],
      "text/plain": [
       "LogisticRegression()"
      ]
     },
     "execution_count": 136,
     "metadata": {},
     "output_type": "execute_result"
    }
   ],
   "source": [
    "model.fit(X_train, df_train.churn)"
   ]
  },
  {
   "cell_type": "code",
   "execution_count": 137,
   "id": "0d977cce-852d-4e4a-ab65-e99d9921b7e2",
   "metadata": {
    "tags": []
   },
   "outputs": [
    {
     "data": {
      "text/plain": [
       "array([[ 4.74728989e-01, -1.74869006e-01, -4.07540172e-01,\n",
       "        -2.96902290e-02, -7.79899595e-02,  6.26829693e-02,\n",
       "        -8.89744467e-02, -8.13887111e-02, -3.43109338e-02,\n",
       "        -7.33692547e-02, -3.35203862e-01,  3.16498120e-01,\n",
       "        -8.89744467e-02,  3.67464279e-03, -2.58135772e-01,\n",
       "         1.41441033e-01,  9.01455016e-03,  6.25302301e-02,\n",
       "        -8.89744467e-02, -8.12359718e-02,  2.65580955e-01,\n",
       "        -8.89744467e-02, -2.84286697e-01, -2.31200043e-01,\n",
       "         1.23519854e-01, -1.66024719e-01,  5.83445301e-02,\n",
       "        -8.70071706e-02, -3.20564699e-02,  7.04811082e-02,\n",
       "        -5.90976563e-02,  1.41441033e-01, -2.49121222e-01,\n",
       "         2.15470448e-01, -1.20362991e-01, -8.89744467e-02,\n",
       "         1.01657249e-01, -7.08926581e-02, -8.89744467e-02,\n",
       "         5.21869163e-02,  2.13375103e-01, -8.89744467e-02,\n",
       "        -2.32080845e-01, -7.04056028e-02,  3.82373660e-04]])"
      ]
     },
     "execution_count": 137,
     "metadata": {},
     "output_type": "execute_result"
    }
   ],
   "source": [
    "model.coef_"
   ]
  },
  {
   "cell_type": "code",
   "execution_count": 139,
   "id": "838c66fc-343b-4630-9808-440124069151",
   "metadata": {
    "tags": []
   },
   "outputs": [
    {
     "data": {
      "text/plain": [
       "-0.10903521054753158"
      ]
     },
     "execution_count": 139,
     "metadata": {},
     "output_type": "execute_result"
    }
   ],
   "source": [
    "model.intercept_[0]"
   ]
  },
  {
   "cell_type": "code",
   "execution_count": 142,
   "id": "3aad26df-27ad-446f-8f3c-c79a08777c62",
   "metadata": {
    "tags": []
   },
   "outputs": [],
   "source": [
    "dicts = df_val[categorical_cols + numerical_cols].to_dict(orient='records')\n",
    "X_val = dv.transform(dicts)"
   ]
  },
  {
   "cell_type": "code",
   "execution_count": 143,
   "id": "6e1b16f6-10ef-47db-b77b-d22ee12d75a6",
   "metadata": {
    "tags": []
   },
   "outputs": [],
   "source": [
    "y_pred = model.predict_proba(X_val)"
   ]
  },
  {
   "cell_type": "code",
   "execution_count": 144,
   "id": "ca1935e6-3296-4d76-a4b8-474f862be5bb",
   "metadata": {
    "tags": []
   },
   "outputs": [],
   "source": [
    "churn_decision = y_pred[:,1] >= 0.5"
   ]
  },
  {
   "cell_type": "code",
   "execution_count": 146,
   "id": "c11796f8-1b1f-4c6e-9528-a35a16982c3c",
   "metadata": {
    "tags": []
   },
   "outputs": [
    {
     "data": {
      "text/plain": [
       "2504    8433-wxgna\n",
       "4597    3440-jpscl\n",
       "2343    2637-fkfsy\n",
       "5591    7228-omtpn\n",
       "4482    6711-fldfb\n",
       "           ...    \n",
       "2611    5976-jcjrh\n",
       "4211    2034-cgrhz\n",
       "3999    5276-kqwhg\n",
       "6240    6521-yytyi\n",
       "5282    3049-solay\n",
       "Name: customerid, Length: 311, dtype: object"
      ]
     },
     "execution_count": 146,
     "metadata": {},
     "output_type": "execute_result"
    }
   ],
   "source": [
    "df_val[churn_decision].customerid"
   ]
  },
  {
   "cell_type": "code",
   "execution_count": 148,
   "id": "8b707f83-0ffd-45e7-920c-f244234a2a68",
   "metadata": {
    "tags": []
   },
   "outputs": [
    {
     "data": {
      "text/plain": [
       "0.8034066713981547"
      ]
     },
     "execution_count": 148,
     "metadata": {},
     "output_type": "execute_result"
    }
   ],
   "source": [
    "(churn_decision == df_val.churn).mean()"
   ]
  },
  {
   "cell_type": "code",
   "execution_count": 153,
   "id": "d18940c1-6cc9-4940-a8e4-ffff425904db",
   "metadata": {
    "tags": []
   },
   "outputs": [
    {
     "data": {
      "text/plain": [
       "[('contract=month-to-month', 0.4747289894879337),\n",
       " ('contract=one_year', -0.17486900578801876),\n",
       " ('contract=two_year', -0.4075401721774871),\n",
       " ('dependents=no', -0.02969022896361361),\n",
       " ('dependents=yes', -0.07798995952314267),\n",
       " ('deviceprotection=no', 0.06268296933931139),\n",
       " ('deviceprotection=no_internet_service', -0.08897444674527225),\n",
       " ('deviceprotection=yes', -0.08138871107336117),\n",
       " ('gender=female', -0.03431093381219623),\n",
       " ('gender=male', -0.07336925466927982),\n",
       " ('internetservice=dsl', -0.33520386215587095),\n",
       " ('internetservice=fiber_optic', 0.316498120418771),\n",
       " ('internetservice=no', -0.08897444674527225),\n",
       " ('monthlycharges', 0.00367464278844214),\n",
       " ('multiplelines=no', -0.25813577167650975),\n",
       " ('multiplelines=no_phone_service', 0.14144103303785843),\n",
       " ('multiplelines=yes', 0.009014550156805507),\n",
       " ('onlinebackup=no', 0.06253023006733983),\n",
       " ('onlinebackup=no_internet_service', -0.08897444674527225),\n",
       " ('onlinebackup=yes', -0.08123597180356219),\n",
       " ('onlinesecurity=no', 0.2655809553810022),\n",
       " ('onlinesecurity=no_internet_service', -0.08897444674527225),\n",
       " ('onlinesecurity=yes', -0.28428669711366067),\n",
       " ('paperlessbilling=no', -0.23120004254266976),\n",
       " ('paperlessbilling=yes', 0.12351985406251623),\n",
       " ('partner=no', -0.16602471861782145),\n",
       " ('partner=yes', 0.05834453013774324),\n",
       " ('paymentmethod=bank_transfer_(automatic)', -0.08700717055908996),\n",
       " ('paymentmethod=credit_card_(automatic)', -0.03205646986651967),\n",
       " ('paymentmethod=electronic_check', 0.07048110820239986),\n",
       " ('paymentmethod=mailed_check', -0.05909765625267108),\n",
       " ('phoneservice=no', 0.14144103303785843),\n",
       " ('phoneservice=yes', -0.2491212215203445),\n",
       " ('seniorcitizen', 0.21547044759142428),\n",
       " ('streamingmovies=no', -0.12036299086381227),\n",
       " ('streamingmovies=no_internet_service', -0.08897444674527225),\n",
       " ('streamingmovies=yes', 0.10165724912900799),\n",
       " ('streamingtv=no', -0.0708926580546171),\n",
       " ('streamingtv=no_internet_service', -0.08897444674527225),\n",
       " ('streamingtv=yes', 0.05218691631895322),\n",
       " ('techsupport=no', 0.21337510338000487),\n",
       " ('techsupport=no_internet_service', -0.08897444674527225),\n",
       " ('techsupport=yes', -0.23208084511375632),\n",
       " ('tenure', -0.07040560283870452),\n",
       " ('totalcharges', 0.0003823736596060978)]"
      ]
     },
     "execution_count": 153,
     "metadata": {},
     "output_type": "execute_result"
    }
   ],
   "source": [
    "## modle interpertation \n",
    "\n",
    "list(zip(dv.get_feature_names_out(),model.coef_[0]))"
   ]
  },
  {
   "cell_type": "code",
   "execution_count": 154,
   "id": "d97bf16c-fd16-44f9-8f07-4da490910701",
   "metadata": {
    "tags": []
   },
   "outputs": [],
   "source": [
    "## Using the model "
   ]
  },
  {
   "cell_type": "code",
   "execution_count": 168,
   "id": "a775d233-dd4a-4aeb-aede-580120569b98",
   "metadata": {
    "tags": []
   },
   "outputs": [],
   "source": [
    "#let's first do a full train \n",
    "\n",
    "dicts = df_full_train[categorical_cols+numerical_cols].to_dict(orient='records')\n"
   ]
  },
  {
   "cell_type": "code",
   "execution_count": 170,
   "id": "8143b75a-60a8-4cfc-ba5d-08ee3d79832b",
   "metadata": {
    "tags": []
   },
   "outputs": [],
   "source": [
    "X_full_train = dv.fit_transform(dicts)"
   ]
  },
  {
   "cell_type": "code",
   "execution_count": 173,
   "id": "2f503242-98c9-4965-9995-e97505b6701c",
   "metadata": {
    "tags": []
   },
   "outputs": [],
   "source": [
    "y_full_train = df_full_train.churn.values"
   ]
  },
  {
   "cell_type": "code",
   "execution_count": 174,
   "id": "4b860623-f10d-4aa3-961f-14ec07c716a4",
   "metadata": {
    "tags": []
   },
   "outputs": [
    {
     "data": {
      "text/html": [
       "<style>#sk-container-id-2 {color: black;background-color: white;}#sk-container-id-2 pre{padding: 0;}#sk-container-id-2 div.sk-toggleable {background-color: white;}#sk-container-id-2 label.sk-toggleable__label {cursor: pointer;display: block;width: 100%;margin-bottom: 0;padding: 0.3em;box-sizing: border-box;text-align: center;}#sk-container-id-2 label.sk-toggleable__label-arrow:before {content: \"▸\";float: left;margin-right: 0.25em;color: #696969;}#sk-container-id-2 label.sk-toggleable__label-arrow:hover:before {color: black;}#sk-container-id-2 div.sk-estimator:hover label.sk-toggleable__label-arrow:before {color: black;}#sk-container-id-2 div.sk-toggleable__content {max-height: 0;max-width: 0;overflow: hidden;text-align: left;background-color: #f0f8ff;}#sk-container-id-2 div.sk-toggleable__content pre {margin: 0.2em;color: black;border-radius: 0.25em;background-color: #f0f8ff;}#sk-container-id-2 input.sk-toggleable__control:checked~div.sk-toggleable__content {max-height: 200px;max-width: 100%;overflow: auto;}#sk-container-id-2 input.sk-toggleable__control:checked~label.sk-toggleable__label-arrow:before {content: \"▾\";}#sk-container-id-2 div.sk-estimator input.sk-toggleable__control:checked~label.sk-toggleable__label {background-color: #d4ebff;}#sk-container-id-2 div.sk-label input.sk-toggleable__control:checked~label.sk-toggleable__label {background-color: #d4ebff;}#sk-container-id-2 input.sk-hidden--visually {border: 0;clip: rect(1px 1px 1px 1px);clip: rect(1px, 1px, 1px, 1px);height: 1px;margin: -1px;overflow: hidden;padding: 0;position: absolute;width: 1px;}#sk-container-id-2 div.sk-estimator {font-family: monospace;background-color: #f0f8ff;border: 1px dotted black;border-radius: 0.25em;box-sizing: border-box;margin-bottom: 0.5em;}#sk-container-id-2 div.sk-estimator:hover {background-color: #d4ebff;}#sk-container-id-2 div.sk-parallel-item::after {content: \"\";width: 100%;border-bottom: 1px solid gray;flex-grow: 1;}#sk-container-id-2 div.sk-label:hover label.sk-toggleable__label {background-color: #d4ebff;}#sk-container-id-2 div.sk-serial::before {content: \"\";position: absolute;border-left: 1px solid gray;box-sizing: border-box;top: 0;bottom: 0;left: 50%;z-index: 0;}#sk-container-id-2 div.sk-serial {display: flex;flex-direction: column;align-items: center;background-color: white;padding-right: 0.2em;padding-left: 0.2em;position: relative;}#sk-container-id-2 div.sk-item {position: relative;z-index: 1;}#sk-container-id-2 div.sk-parallel {display: flex;align-items: stretch;justify-content: center;background-color: white;position: relative;}#sk-container-id-2 div.sk-item::before, #sk-container-id-2 div.sk-parallel-item::before {content: \"\";position: absolute;border-left: 1px solid gray;box-sizing: border-box;top: 0;bottom: 0;left: 50%;z-index: -1;}#sk-container-id-2 div.sk-parallel-item {display: flex;flex-direction: column;z-index: 1;position: relative;background-color: white;}#sk-container-id-2 div.sk-parallel-item:first-child::after {align-self: flex-end;width: 50%;}#sk-container-id-2 div.sk-parallel-item:last-child::after {align-self: flex-start;width: 50%;}#sk-container-id-2 div.sk-parallel-item:only-child::after {width: 0;}#sk-container-id-2 div.sk-dashed-wrapped {border: 1px dashed gray;margin: 0 0.4em 0.5em 0.4em;box-sizing: border-box;padding-bottom: 0.4em;background-color: white;}#sk-container-id-2 div.sk-label label {font-family: monospace;font-weight: bold;display: inline-block;line-height: 1.2em;}#sk-container-id-2 div.sk-label-container {text-align: center;}#sk-container-id-2 div.sk-container {/* jupyter's `normalize.less` sets `[hidden] { display: none; }` but bootstrap.min.css set `[hidden] { display: none !important; }` so we also need the `!important` here to be able to override the default hidden behavior on the sphinx rendered scikit-learn.org. See: https://github.com/scikit-learn/scikit-learn/issues/21755 */display: inline-block !important;position: relative;}#sk-container-id-2 div.sk-text-repr-fallback {display: none;}</style><div id=\"sk-container-id-2\" class=\"sk-top-container\"><div class=\"sk-text-repr-fallback\"><pre>LogisticRegression()</pre><b>In a Jupyter environment, please rerun this cell to show the HTML representation or trust the notebook. <br />On GitHub, the HTML representation is unable to render, please try loading this page with nbviewer.org.</b></div><div class=\"sk-container\" hidden><div class=\"sk-item\"><div class=\"sk-estimator sk-toggleable\"><input class=\"sk-toggleable__control sk-hidden--visually\" id=\"sk-estimator-id-2\" type=\"checkbox\" checked><label for=\"sk-estimator-id-2\" class=\"sk-toggleable__label sk-toggleable__label-arrow\">LogisticRegression</label><div class=\"sk-toggleable__content\"><pre>LogisticRegression()</pre></div></div></div></div></div>"
      ],
      "text/plain": [
       "LogisticRegression()"
      ]
     },
     "execution_count": 174,
     "metadata": {},
     "output_type": "execute_result"
    }
   ],
   "source": [
    "model = LogisticRegression()\n",
    "model.fit(X_full_train, y_full_train)"
   ]
  },
  {
   "cell_type": "code",
   "execution_count": 175,
   "id": "dfa44529-ff7f-4fd6-9e64-aaf25258d179",
   "metadata": {
    "tags": []
   },
   "outputs": [],
   "source": [
    "dict_test = df_test[numerical_cols + categorical_cols].to_dict(orient='records')"
   ]
  },
  {
   "cell_type": "code",
   "execution_count": 176,
   "id": "1e264140-584d-4540-8c73-b3bf0da7ad0c",
   "metadata": {
    "tags": []
   },
   "outputs": [],
   "source": [
    "X_test = dv.fit_transform(dict_test)"
   ]
  },
  {
   "cell_type": "code",
   "execution_count": 179,
   "id": "4a619bbe-bc79-4242-9c5e-3414e064521c",
   "metadata": {
    "tags": []
   },
   "outputs": [],
   "source": [
    "y_pred = model.predict(X_test)"
   ]
  },
  {
   "cell_type": "code",
   "execution_count": 181,
   "id": "15fb995f-78ac-41f1-bb03-813f136f0548",
   "metadata": {
    "tags": []
   },
   "outputs": [
    {
     "data": {
      "text/plain": [
       "0.815471965933286"
      ]
     },
     "execution_count": 181,
     "metadata": {},
     "output_type": "execute_result"
    }
   ],
   "source": [
    "(y_pred == df_test.churn.values).mean()"
   ]
  },
  {
   "cell_type": "code",
   "execution_count": 182,
   "id": "fa0e68a4-6b7b-452f-8bb2-b6d0d3382825",
   "metadata": {
    "tags": []
   },
   "outputs": [],
   "source": [
    "customer = df_test.iloc[10].to_dict()"
   ]
  },
  {
   "cell_type": "code",
   "execution_count": 183,
   "id": "e7ad566a-2e9d-416d-8eb8-d0a8e868d13c",
   "metadata": {
    "tags": []
   },
   "outputs": [],
   "source": [
    "del customer['churn']"
   ]
  },
  {
   "cell_type": "code",
   "execution_count": 158,
   "id": "c949154a-7c03-4ebf-b2e8-b5bd02142e98",
   "metadata": {
    "tags": []
   },
   "outputs": [
    {
     "data": {
      "text/plain": [
       "{'customerid': '0111-klbqg',\n",
       " 'gender': 'male',\n",
       " 'seniorcitizen': 1,\n",
       " 'partner': 'yes',\n",
       " 'dependents': 'yes',\n",
       " 'tenure': 32,\n",
       " 'phoneservice': 'yes',\n",
       " 'multiplelines': 'no',\n",
       " 'internetservice': 'fiber_optic',\n",
       " 'onlinesecurity': 'no',\n",
       " 'onlinebackup': 'yes',\n",
       " 'deviceprotection': 'no',\n",
       " 'techsupport': 'no',\n",
       " 'streamingtv': 'yes',\n",
       " 'streamingmovies': 'yes',\n",
       " 'contract': 'month-to-month',\n",
       " 'paperlessbilling': 'yes',\n",
       " 'paymentmethod': 'mailed_check',\n",
       " 'monthlycharges': 93.95,\n",
       " 'totalcharges': 2861.45}"
      ]
     },
     "execution_count": 158,
     "metadata": {},
     "output_type": "execute_result"
    }
   ],
   "source": [
    "customer"
   ]
  },
  {
   "cell_type": "code",
   "execution_count": 159,
   "id": "4a052fe1-0991-4c95-91b5-a6bb12cca084",
   "metadata": {
    "tags": []
   },
   "outputs": [],
   "source": [
    "X_customer = dv.transform(customer)"
   ]
  },
  {
   "cell_type": "code",
   "execution_count": 160,
   "id": "7a7602c5-c972-47d0-ab7c-d6f821c39dbd",
   "metadata": {
    "tags": []
   },
   "outputs": [
    {
     "data": {
      "text/plain": [
       "array([[1.00000e+00, 0.00000e+00, 0.00000e+00, 0.00000e+00, 1.00000e+00,\n",
       "        1.00000e+00, 0.00000e+00, 0.00000e+00, 0.00000e+00, 1.00000e+00,\n",
       "        0.00000e+00, 1.00000e+00, 0.00000e+00, 9.39500e+01, 1.00000e+00,\n",
       "        0.00000e+00, 0.00000e+00, 0.00000e+00, 0.00000e+00, 1.00000e+00,\n",
       "        1.00000e+00, 0.00000e+00, 0.00000e+00, 0.00000e+00, 1.00000e+00,\n",
       "        0.00000e+00, 1.00000e+00, 0.00000e+00, 0.00000e+00, 0.00000e+00,\n",
       "        1.00000e+00, 0.00000e+00, 1.00000e+00, 1.00000e+00, 0.00000e+00,\n",
       "        0.00000e+00, 1.00000e+00, 0.00000e+00, 0.00000e+00, 1.00000e+00,\n",
       "        1.00000e+00, 0.00000e+00, 0.00000e+00, 3.20000e+01, 2.86145e+03]])"
      ]
     },
     "execution_count": 160,
     "metadata": {},
     "output_type": "execute_result"
    }
   ],
   "source": [
    "X_customer"
   ]
  },
  {
   "cell_type": "code",
   "execution_count": 163,
   "id": "03919487-9817-4bd5-a293-431807455c4d",
   "metadata": {
    "tags": []
   },
   "outputs": [
    {
     "data": {
      "text/plain": [
       "1"
      ]
     },
     "execution_count": 163,
     "metadata": {},
     "output_type": "execute_result"
    }
   ],
   "source": [
    "model.predict(X_customer)[0]"
   ]
  },
  {
   "cell_type": "code",
   "execution_count": 164,
   "id": "ab0893b2-bf1c-48fc-a362-155a927f94b0",
   "metadata": {
    "tags": []
   },
   "outputs": [
    {
     "data": {
      "text/plain": [
       "0"
      ]
     },
     "execution_count": 164,
     "metadata": {},
     "output_type": "execute_result"
    }
   ],
   "source": [
    "df_test.iloc[10].churn"
   ]
  },
  {
   "cell_type": "code",
   "execution_count": 165,
   "id": "54efefc0-6bcf-4cef-95e1-1da634887a1f",
   "metadata": {
    "tags": []
   },
   "outputs": [
    {
     "data": {
      "text/plain": [
       "array([[0.45947494, 0.54052506]])"
      ]
     },
     "execution_count": 165,
     "metadata": {},
     "output_type": "execute_result"
    }
   ],
   "source": [
    "model.predict_proba(X_customer)"
   ]
  },
  {
   "cell_type": "code",
   "execution_count": null,
   "id": "acc5c0e4-07c4-4548-8237-a3122a3cf043",
   "metadata": {},
   "outputs": [],
   "source": []
  }
 ],
 "metadata": {
  "kernelspec": {
   "display_name": "Python 3 (ipykernel)",
   "language": "python",
   "name": "python3"
  },
  "language_info": {
   "codemirror_mode": {
    "name": "ipython",
    "version": 3
   },
   "file_extension": ".py",
   "mimetype": "text/x-python",
   "name": "python",
   "nbconvert_exporter": "python",
   "pygments_lexer": "ipython3",
   "version": "3.9.16"
  }
 },
 "nbformat": 4,
 "nbformat_minor": 5
}
