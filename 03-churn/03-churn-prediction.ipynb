{
 "cells": [
  {
   "cell_type": "code",
   "execution_count": 534,
   "id": "78be41f3-640c-420b-819c-32d9ac9b3a5e",
   "metadata": {
    "tags": []
   },
   "outputs": [],
   "source": [
    "import numpy as np \n",
    "import pandas as pd\n",
    "import seaborn as sns"
   ]
  },
  {
   "cell_type": "code",
   "execution_count": 535,
   "id": "fd972266-9c1b-49de-903f-1dd82b06f9bc",
   "metadata": {
    "tags": []
   },
   "outputs": [],
   "source": [
    "data = \"https://raw.githubusercontent.com/alexeygrigorev/mlbookcamp-code/d12a1a3cdb62c5646282ebe51a4a1e1cf93f47a6/chapter-03-churn-prediction/WA_Fn-UseC_-Telco-Customer-Churn.csv\""
   ]
  },
  {
   "cell_type": "code",
   "execution_count": 536,
   "id": "4101ce8f-76cb-47a9-b9ee-deb459519996",
   "metadata": {
    "tags": []
   },
   "outputs": [],
   "source": [
    "#!wget $data"
   ]
  },
  {
   "cell_type": "code",
   "execution_count": 537,
   "id": "a6a20a5b-1873-4209-922b-ad5782f110ad",
   "metadata": {},
   "outputs": [],
   "source": [
    "df = pd.read_csv('churn.csv')"
   ]
  },
  {
   "cell_type": "code",
   "execution_count": 538,
   "id": "24392088-2042-4029-a58f-3bb1eeba3d04",
   "metadata": {
    "tags": []
   },
   "outputs": [
    {
     "data": {
      "text/html": [
       "<div>\n",
       "<style scoped>\n",
       "    .dataframe tbody tr th:only-of-type {\n",
       "        vertical-align: middle;\n",
       "    }\n",
       "\n",
       "    .dataframe tbody tr th {\n",
       "        vertical-align: top;\n",
       "    }\n",
       "\n",
       "    .dataframe thead th {\n",
       "        text-align: right;\n",
       "    }\n",
       "</style>\n",
       "<table border=\"1\" class=\"dataframe\">\n",
       "  <thead>\n",
       "    <tr style=\"text-align: right;\">\n",
       "      <th></th>\n",
       "      <th>customerID</th>\n",
       "      <th>gender</th>\n",
       "      <th>SeniorCitizen</th>\n",
       "      <th>Partner</th>\n",
       "      <th>Dependents</th>\n",
       "      <th>tenure</th>\n",
       "      <th>PhoneService</th>\n",
       "      <th>MultipleLines</th>\n",
       "      <th>InternetService</th>\n",
       "      <th>OnlineSecurity</th>\n",
       "      <th>...</th>\n",
       "      <th>DeviceProtection</th>\n",
       "      <th>TechSupport</th>\n",
       "      <th>StreamingTV</th>\n",
       "      <th>StreamingMovies</th>\n",
       "      <th>Contract</th>\n",
       "      <th>PaperlessBilling</th>\n",
       "      <th>PaymentMethod</th>\n",
       "      <th>MonthlyCharges</th>\n",
       "      <th>TotalCharges</th>\n",
       "      <th>Churn</th>\n",
       "    </tr>\n",
       "  </thead>\n",
       "  <tbody>\n",
       "    <tr>\n",
       "      <th>0</th>\n",
       "      <td>7590-VHVEG</td>\n",
       "      <td>Female</td>\n",
       "      <td>0</td>\n",
       "      <td>Yes</td>\n",
       "      <td>No</td>\n",
       "      <td>1</td>\n",
       "      <td>No</td>\n",
       "      <td>No phone service</td>\n",
       "      <td>DSL</td>\n",
       "      <td>No</td>\n",
       "      <td>...</td>\n",
       "      <td>No</td>\n",
       "      <td>No</td>\n",
       "      <td>No</td>\n",
       "      <td>No</td>\n",
       "      <td>Month-to-month</td>\n",
       "      <td>Yes</td>\n",
       "      <td>Electronic check</td>\n",
       "      <td>29.85</td>\n",
       "      <td>29.85</td>\n",
       "      <td>No</td>\n",
       "    </tr>\n",
       "    <tr>\n",
       "      <th>1</th>\n",
       "      <td>5575-GNVDE</td>\n",
       "      <td>Male</td>\n",
       "      <td>0</td>\n",
       "      <td>No</td>\n",
       "      <td>No</td>\n",
       "      <td>34</td>\n",
       "      <td>Yes</td>\n",
       "      <td>No</td>\n",
       "      <td>DSL</td>\n",
       "      <td>Yes</td>\n",
       "      <td>...</td>\n",
       "      <td>Yes</td>\n",
       "      <td>No</td>\n",
       "      <td>No</td>\n",
       "      <td>No</td>\n",
       "      <td>One year</td>\n",
       "      <td>No</td>\n",
       "      <td>Mailed check</td>\n",
       "      <td>56.95</td>\n",
       "      <td>1889.5</td>\n",
       "      <td>No</td>\n",
       "    </tr>\n",
       "    <tr>\n",
       "      <th>2</th>\n",
       "      <td>3668-QPYBK</td>\n",
       "      <td>Male</td>\n",
       "      <td>0</td>\n",
       "      <td>No</td>\n",
       "      <td>No</td>\n",
       "      <td>2</td>\n",
       "      <td>Yes</td>\n",
       "      <td>No</td>\n",
       "      <td>DSL</td>\n",
       "      <td>Yes</td>\n",
       "      <td>...</td>\n",
       "      <td>No</td>\n",
       "      <td>No</td>\n",
       "      <td>No</td>\n",
       "      <td>No</td>\n",
       "      <td>Month-to-month</td>\n",
       "      <td>Yes</td>\n",
       "      <td>Mailed check</td>\n",
       "      <td>53.85</td>\n",
       "      <td>108.15</td>\n",
       "      <td>Yes</td>\n",
       "    </tr>\n",
       "    <tr>\n",
       "      <th>3</th>\n",
       "      <td>7795-CFOCW</td>\n",
       "      <td>Male</td>\n",
       "      <td>0</td>\n",
       "      <td>No</td>\n",
       "      <td>No</td>\n",
       "      <td>45</td>\n",
       "      <td>No</td>\n",
       "      <td>No phone service</td>\n",
       "      <td>DSL</td>\n",
       "      <td>Yes</td>\n",
       "      <td>...</td>\n",
       "      <td>Yes</td>\n",
       "      <td>Yes</td>\n",
       "      <td>No</td>\n",
       "      <td>No</td>\n",
       "      <td>One year</td>\n",
       "      <td>No</td>\n",
       "      <td>Bank transfer (automatic)</td>\n",
       "      <td>42.30</td>\n",
       "      <td>1840.75</td>\n",
       "      <td>No</td>\n",
       "    </tr>\n",
       "    <tr>\n",
       "      <th>4</th>\n",
       "      <td>9237-HQITU</td>\n",
       "      <td>Female</td>\n",
       "      <td>0</td>\n",
       "      <td>No</td>\n",
       "      <td>No</td>\n",
       "      <td>2</td>\n",
       "      <td>Yes</td>\n",
       "      <td>No</td>\n",
       "      <td>Fiber optic</td>\n",
       "      <td>No</td>\n",
       "      <td>...</td>\n",
       "      <td>No</td>\n",
       "      <td>No</td>\n",
       "      <td>No</td>\n",
       "      <td>No</td>\n",
       "      <td>Month-to-month</td>\n",
       "      <td>Yes</td>\n",
       "      <td>Electronic check</td>\n",
       "      <td>70.70</td>\n",
       "      <td>151.65</td>\n",
       "      <td>Yes</td>\n",
       "    </tr>\n",
       "    <tr>\n",
       "      <th>...</th>\n",
       "      <td>...</td>\n",
       "      <td>...</td>\n",
       "      <td>...</td>\n",
       "      <td>...</td>\n",
       "      <td>...</td>\n",
       "      <td>...</td>\n",
       "      <td>...</td>\n",
       "      <td>...</td>\n",
       "      <td>...</td>\n",
       "      <td>...</td>\n",
       "      <td>...</td>\n",
       "      <td>...</td>\n",
       "      <td>...</td>\n",
       "      <td>...</td>\n",
       "      <td>...</td>\n",
       "      <td>...</td>\n",
       "      <td>...</td>\n",
       "      <td>...</td>\n",
       "      <td>...</td>\n",
       "      <td>...</td>\n",
       "      <td>...</td>\n",
       "    </tr>\n",
       "    <tr>\n",
       "      <th>7038</th>\n",
       "      <td>6840-RESVB</td>\n",
       "      <td>Male</td>\n",
       "      <td>0</td>\n",
       "      <td>Yes</td>\n",
       "      <td>Yes</td>\n",
       "      <td>24</td>\n",
       "      <td>Yes</td>\n",
       "      <td>Yes</td>\n",
       "      <td>DSL</td>\n",
       "      <td>Yes</td>\n",
       "      <td>...</td>\n",
       "      <td>Yes</td>\n",
       "      <td>Yes</td>\n",
       "      <td>Yes</td>\n",
       "      <td>Yes</td>\n",
       "      <td>One year</td>\n",
       "      <td>Yes</td>\n",
       "      <td>Mailed check</td>\n",
       "      <td>84.80</td>\n",
       "      <td>1990.5</td>\n",
       "      <td>No</td>\n",
       "    </tr>\n",
       "    <tr>\n",
       "      <th>7039</th>\n",
       "      <td>2234-XADUH</td>\n",
       "      <td>Female</td>\n",
       "      <td>0</td>\n",
       "      <td>Yes</td>\n",
       "      <td>Yes</td>\n",
       "      <td>72</td>\n",
       "      <td>Yes</td>\n",
       "      <td>Yes</td>\n",
       "      <td>Fiber optic</td>\n",
       "      <td>No</td>\n",
       "      <td>...</td>\n",
       "      <td>Yes</td>\n",
       "      <td>No</td>\n",
       "      <td>Yes</td>\n",
       "      <td>Yes</td>\n",
       "      <td>One year</td>\n",
       "      <td>Yes</td>\n",
       "      <td>Credit card (automatic)</td>\n",
       "      <td>103.20</td>\n",
       "      <td>7362.9</td>\n",
       "      <td>No</td>\n",
       "    </tr>\n",
       "    <tr>\n",
       "      <th>7040</th>\n",
       "      <td>4801-JZAZL</td>\n",
       "      <td>Female</td>\n",
       "      <td>0</td>\n",
       "      <td>Yes</td>\n",
       "      <td>Yes</td>\n",
       "      <td>11</td>\n",
       "      <td>No</td>\n",
       "      <td>No phone service</td>\n",
       "      <td>DSL</td>\n",
       "      <td>Yes</td>\n",
       "      <td>...</td>\n",
       "      <td>No</td>\n",
       "      <td>No</td>\n",
       "      <td>No</td>\n",
       "      <td>No</td>\n",
       "      <td>Month-to-month</td>\n",
       "      <td>Yes</td>\n",
       "      <td>Electronic check</td>\n",
       "      <td>29.60</td>\n",
       "      <td>346.45</td>\n",
       "      <td>No</td>\n",
       "    </tr>\n",
       "    <tr>\n",
       "      <th>7041</th>\n",
       "      <td>8361-LTMKD</td>\n",
       "      <td>Male</td>\n",
       "      <td>1</td>\n",
       "      <td>Yes</td>\n",
       "      <td>No</td>\n",
       "      <td>4</td>\n",
       "      <td>Yes</td>\n",
       "      <td>Yes</td>\n",
       "      <td>Fiber optic</td>\n",
       "      <td>No</td>\n",
       "      <td>...</td>\n",
       "      <td>No</td>\n",
       "      <td>No</td>\n",
       "      <td>No</td>\n",
       "      <td>No</td>\n",
       "      <td>Month-to-month</td>\n",
       "      <td>Yes</td>\n",
       "      <td>Mailed check</td>\n",
       "      <td>74.40</td>\n",
       "      <td>306.6</td>\n",
       "      <td>Yes</td>\n",
       "    </tr>\n",
       "    <tr>\n",
       "      <th>7042</th>\n",
       "      <td>3186-AJIEK</td>\n",
       "      <td>Male</td>\n",
       "      <td>0</td>\n",
       "      <td>No</td>\n",
       "      <td>No</td>\n",
       "      <td>66</td>\n",
       "      <td>Yes</td>\n",
       "      <td>No</td>\n",
       "      <td>Fiber optic</td>\n",
       "      <td>Yes</td>\n",
       "      <td>...</td>\n",
       "      <td>Yes</td>\n",
       "      <td>Yes</td>\n",
       "      <td>Yes</td>\n",
       "      <td>Yes</td>\n",
       "      <td>Two year</td>\n",
       "      <td>Yes</td>\n",
       "      <td>Bank transfer (automatic)</td>\n",
       "      <td>105.65</td>\n",
       "      <td>6844.5</td>\n",
       "      <td>No</td>\n",
       "    </tr>\n",
       "  </tbody>\n",
       "</table>\n",
       "<p>7043 rows × 21 columns</p>\n",
       "</div>"
      ],
      "text/plain": [
       "      customerID  gender  SeniorCitizen Partner Dependents  tenure   \n",
       "0     7590-VHVEG  Female              0     Yes         No       1  \\\n",
       "1     5575-GNVDE    Male              0      No         No      34   \n",
       "2     3668-QPYBK    Male              0      No         No       2   \n",
       "3     7795-CFOCW    Male              0      No         No      45   \n",
       "4     9237-HQITU  Female              0      No         No       2   \n",
       "...          ...     ...            ...     ...        ...     ...   \n",
       "7038  6840-RESVB    Male              0     Yes        Yes      24   \n",
       "7039  2234-XADUH  Female              0     Yes        Yes      72   \n",
       "7040  4801-JZAZL  Female              0     Yes        Yes      11   \n",
       "7041  8361-LTMKD    Male              1     Yes         No       4   \n",
       "7042  3186-AJIEK    Male              0      No         No      66   \n",
       "\n",
       "     PhoneService     MultipleLines InternetService OnlineSecurity  ...   \n",
       "0              No  No phone service             DSL             No  ...  \\\n",
       "1             Yes                No             DSL            Yes  ...   \n",
       "2             Yes                No             DSL            Yes  ...   \n",
       "3              No  No phone service             DSL            Yes  ...   \n",
       "4             Yes                No     Fiber optic             No  ...   \n",
       "...           ...               ...             ...            ...  ...   \n",
       "7038          Yes               Yes             DSL            Yes  ...   \n",
       "7039          Yes               Yes     Fiber optic             No  ...   \n",
       "7040           No  No phone service             DSL            Yes  ...   \n",
       "7041          Yes               Yes     Fiber optic             No  ...   \n",
       "7042          Yes                No     Fiber optic            Yes  ...   \n",
       "\n",
       "     DeviceProtection TechSupport StreamingTV StreamingMovies        Contract   \n",
       "0                  No          No          No              No  Month-to-month  \\\n",
       "1                 Yes          No          No              No        One year   \n",
       "2                  No          No          No              No  Month-to-month   \n",
       "3                 Yes         Yes          No              No        One year   \n",
       "4                  No          No          No              No  Month-to-month   \n",
       "...               ...         ...         ...             ...             ...   \n",
       "7038              Yes         Yes         Yes             Yes        One year   \n",
       "7039              Yes          No         Yes             Yes        One year   \n",
       "7040               No          No          No              No  Month-to-month   \n",
       "7041               No          No          No              No  Month-to-month   \n",
       "7042              Yes         Yes         Yes             Yes        Two year   \n",
       "\n",
       "     PaperlessBilling              PaymentMethod MonthlyCharges  TotalCharges   \n",
       "0                 Yes           Electronic check          29.85         29.85  \\\n",
       "1                  No               Mailed check          56.95        1889.5   \n",
       "2                 Yes               Mailed check          53.85        108.15   \n",
       "3                  No  Bank transfer (automatic)          42.30       1840.75   \n",
       "4                 Yes           Electronic check          70.70        151.65   \n",
       "...               ...                        ...            ...           ...   \n",
       "7038              Yes               Mailed check          84.80        1990.5   \n",
       "7039              Yes    Credit card (automatic)         103.20        7362.9   \n",
       "7040              Yes           Electronic check          29.60        346.45   \n",
       "7041              Yes               Mailed check          74.40         306.6   \n",
       "7042              Yes  Bank transfer (automatic)         105.65        6844.5   \n",
       "\n",
       "     Churn  \n",
       "0       No  \n",
       "1       No  \n",
       "2      Yes  \n",
       "3       No  \n",
       "4      Yes  \n",
       "...    ...  \n",
       "7038    No  \n",
       "7039    No  \n",
       "7040    No  \n",
       "7041   Yes  \n",
       "7042    No  \n",
       "\n",
       "[7043 rows x 21 columns]"
      ]
     },
     "execution_count": 538,
     "metadata": {},
     "output_type": "execute_result"
    }
   ],
   "source": [
    "df"
   ]
  },
  {
   "cell_type": "markdown",
   "id": "498cd8e2-2c6c-4285-a0b8-f78f12ddd313",
   "metadata": {},
   "source": [
    "### A bit of cleaning "
   ]
  },
  {
   "cell_type": "code",
   "execution_count": 539,
   "id": "b6c21315-2c7b-413a-b037-f5c7b5644eb1",
   "metadata": {
    "tags": []
   },
   "outputs": [],
   "source": [
    "df.columns = df.columns.str.lower().str.replace(' ', '_')"
   ]
  },
  {
   "cell_type": "code",
   "execution_count": 540,
   "id": "510d54c1-3a98-4081-94fe-db8413a2e6c5",
   "metadata": {
    "tags": []
   },
   "outputs": [
    {
     "data": {
      "text/plain": [
       "Index(['customerid', 'gender', 'seniorcitizen', 'partner', 'dependents',\n",
       "       'tenure', 'phoneservice', 'multiplelines', 'internetservice',\n",
       "       'onlinesecurity', 'onlinebackup', 'deviceprotection', 'techsupport',\n",
       "       'streamingtv', 'streamingmovies', 'contract', 'paperlessbilling',\n",
       "       'paymentmethod', 'monthlycharges', 'totalcharges', 'churn'],\n",
       "      dtype='object')"
      ]
     },
     "execution_count": 540,
     "metadata": {},
     "output_type": "execute_result"
    }
   ],
   "source": [
    "df.columns"
   ]
  },
  {
   "cell_type": "code",
   "execution_count": 541,
   "id": "478b65c9-8543-4cb2-b7ff-3066f9630320",
   "metadata": {
    "tags": []
   },
   "outputs": [],
   "source": [
    "string_cols = list(df.dtypes[df.dtypes=='object'].index)"
   ]
  },
  {
   "cell_type": "code",
   "execution_count": 542,
   "id": "9dd86a74-c848-40ea-a44a-d86e189bb7d2",
   "metadata": {
    "tags": []
   },
   "outputs": [],
   "source": [
    "for col in string_cols:\n",
    "    df[col] = df[col].str.lower().str.replace(' ', '_')"
   ]
  },
  {
   "cell_type": "code",
   "execution_count": 543,
   "id": "b5c1052d-39b1-4609-ac81-f77a60819e15",
   "metadata": {
    "tags": []
   },
   "outputs": [
    {
     "data": {
      "text/html": [
       "<div>\n",
       "<style scoped>\n",
       "    .dataframe tbody tr th:only-of-type {\n",
       "        vertical-align: middle;\n",
       "    }\n",
       "\n",
       "    .dataframe tbody tr th {\n",
       "        vertical-align: top;\n",
       "    }\n",
       "\n",
       "    .dataframe thead th {\n",
       "        text-align: right;\n",
       "    }\n",
       "</style>\n",
       "<table border=\"1\" class=\"dataframe\">\n",
       "  <thead>\n",
       "    <tr style=\"text-align: right;\">\n",
       "      <th></th>\n",
       "      <th>customerid</th>\n",
       "      <th>gender</th>\n",
       "      <th>seniorcitizen</th>\n",
       "      <th>partner</th>\n",
       "      <th>dependents</th>\n",
       "      <th>tenure</th>\n",
       "      <th>phoneservice</th>\n",
       "      <th>multiplelines</th>\n",
       "      <th>internetservice</th>\n",
       "      <th>onlinesecurity</th>\n",
       "      <th>...</th>\n",
       "      <th>deviceprotection</th>\n",
       "      <th>techsupport</th>\n",
       "      <th>streamingtv</th>\n",
       "      <th>streamingmovies</th>\n",
       "      <th>contract</th>\n",
       "      <th>paperlessbilling</th>\n",
       "      <th>paymentmethod</th>\n",
       "      <th>monthlycharges</th>\n",
       "      <th>totalcharges</th>\n",
       "      <th>churn</th>\n",
       "    </tr>\n",
       "  </thead>\n",
       "  <tbody>\n",
       "    <tr>\n",
       "      <th>0</th>\n",
       "      <td>7590-vhveg</td>\n",
       "      <td>female</td>\n",
       "      <td>0</td>\n",
       "      <td>yes</td>\n",
       "      <td>no</td>\n",
       "      <td>1</td>\n",
       "      <td>no</td>\n",
       "      <td>no_phone_service</td>\n",
       "      <td>dsl</td>\n",
       "      <td>no</td>\n",
       "      <td>...</td>\n",
       "      <td>no</td>\n",
       "      <td>no</td>\n",
       "      <td>no</td>\n",
       "      <td>no</td>\n",
       "      <td>month-to-month</td>\n",
       "      <td>yes</td>\n",
       "      <td>electronic_check</td>\n",
       "      <td>29.85</td>\n",
       "      <td>29.85</td>\n",
       "      <td>no</td>\n",
       "    </tr>\n",
       "    <tr>\n",
       "      <th>1</th>\n",
       "      <td>5575-gnvde</td>\n",
       "      <td>male</td>\n",
       "      <td>0</td>\n",
       "      <td>no</td>\n",
       "      <td>no</td>\n",
       "      <td>34</td>\n",
       "      <td>yes</td>\n",
       "      <td>no</td>\n",
       "      <td>dsl</td>\n",
       "      <td>yes</td>\n",
       "      <td>...</td>\n",
       "      <td>yes</td>\n",
       "      <td>no</td>\n",
       "      <td>no</td>\n",
       "      <td>no</td>\n",
       "      <td>one_year</td>\n",
       "      <td>no</td>\n",
       "      <td>mailed_check</td>\n",
       "      <td>56.95</td>\n",
       "      <td>1889.5</td>\n",
       "      <td>no</td>\n",
       "    </tr>\n",
       "    <tr>\n",
       "      <th>2</th>\n",
       "      <td>3668-qpybk</td>\n",
       "      <td>male</td>\n",
       "      <td>0</td>\n",
       "      <td>no</td>\n",
       "      <td>no</td>\n",
       "      <td>2</td>\n",
       "      <td>yes</td>\n",
       "      <td>no</td>\n",
       "      <td>dsl</td>\n",
       "      <td>yes</td>\n",
       "      <td>...</td>\n",
       "      <td>no</td>\n",
       "      <td>no</td>\n",
       "      <td>no</td>\n",
       "      <td>no</td>\n",
       "      <td>month-to-month</td>\n",
       "      <td>yes</td>\n",
       "      <td>mailed_check</td>\n",
       "      <td>53.85</td>\n",
       "      <td>108.15</td>\n",
       "      <td>yes</td>\n",
       "    </tr>\n",
       "    <tr>\n",
       "      <th>3</th>\n",
       "      <td>7795-cfocw</td>\n",
       "      <td>male</td>\n",
       "      <td>0</td>\n",
       "      <td>no</td>\n",
       "      <td>no</td>\n",
       "      <td>45</td>\n",
       "      <td>no</td>\n",
       "      <td>no_phone_service</td>\n",
       "      <td>dsl</td>\n",
       "      <td>yes</td>\n",
       "      <td>...</td>\n",
       "      <td>yes</td>\n",
       "      <td>yes</td>\n",
       "      <td>no</td>\n",
       "      <td>no</td>\n",
       "      <td>one_year</td>\n",
       "      <td>no</td>\n",
       "      <td>bank_transfer_(automatic)</td>\n",
       "      <td>42.30</td>\n",
       "      <td>1840.75</td>\n",
       "      <td>no</td>\n",
       "    </tr>\n",
       "    <tr>\n",
       "      <th>4</th>\n",
       "      <td>9237-hqitu</td>\n",
       "      <td>female</td>\n",
       "      <td>0</td>\n",
       "      <td>no</td>\n",
       "      <td>no</td>\n",
       "      <td>2</td>\n",
       "      <td>yes</td>\n",
       "      <td>no</td>\n",
       "      <td>fiber_optic</td>\n",
       "      <td>no</td>\n",
       "      <td>...</td>\n",
       "      <td>no</td>\n",
       "      <td>no</td>\n",
       "      <td>no</td>\n",
       "      <td>no</td>\n",
       "      <td>month-to-month</td>\n",
       "      <td>yes</td>\n",
       "      <td>electronic_check</td>\n",
       "      <td>70.70</td>\n",
       "      <td>151.65</td>\n",
       "      <td>yes</td>\n",
       "    </tr>\n",
       "    <tr>\n",
       "      <th>...</th>\n",
       "      <td>...</td>\n",
       "      <td>...</td>\n",
       "      <td>...</td>\n",
       "      <td>...</td>\n",
       "      <td>...</td>\n",
       "      <td>...</td>\n",
       "      <td>...</td>\n",
       "      <td>...</td>\n",
       "      <td>...</td>\n",
       "      <td>...</td>\n",
       "      <td>...</td>\n",
       "      <td>...</td>\n",
       "      <td>...</td>\n",
       "      <td>...</td>\n",
       "      <td>...</td>\n",
       "      <td>...</td>\n",
       "      <td>...</td>\n",
       "      <td>...</td>\n",
       "      <td>...</td>\n",
       "      <td>...</td>\n",
       "      <td>...</td>\n",
       "    </tr>\n",
       "    <tr>\n",
       "      <th>7038</th>\n",
       "      <td>6840-resvb</td>\n",
       "      <td>male</td>\n",
       "      <td>0</td>\n",
       "      <td>yes</td>\n",
       "      <td>yes</td>\n",
       "      <td>24</td>\n",
       "      <td>yes</td>\n",
       "      <td>yes</td>\n",
       "      <td>dsl</td>\n",
       "      <td>yes</td>\n",
       "      <td>...</td>\n",
       "      <td>yes</td>\n",
       "      <td>yes</td>\n",
       "      <td>yes</td>\n",
       "      <td>yes</td>\n",
       "      <td>one_year</td>\n",
       "      <td>yes</td>\n",
       "      <td>mailed_check</td>\n",
       "      <td>84.80</td>\n",
       "      <td>1990.5</td>\n",
       "      <td>no</td>\n",
       "    </tr>\n",
       "    <tr>\n",
       "      <th>7039</th>\n",
       "      <td>2234-xaduh</td>\n",
       "      <td>female</td>\n",
       "      <td>0</td>\n",
       "      <td>yes</td>\n",
       "      <td>yes</td>\n",
       "      <td>72</td>\n",
       "      <td>yes</td>\n",
       "      <td>yes</td>\n",
       "      <td>fiber_optic</td>\n",
       "      <td>no</td>\n",
       "      <td>...</td>\n",
       "      <td>yes</td>\n",
       "      <td>no</td>\n",
       "      <td>yes</td>\n",
       "      <td>yes</td>\n",
       "      <td>one_year</td>\n",
       "      <td>yes</td>\n",
       "      <td>credit_card_(automatic)</td>\n",
       "      <td>103.20</td>\n",
       "      <td>7362.9</td>\n",
       "      <td>no</td>\n",
       "    </tr>\n",
       "    <tr>\n",
       "      <th>7040</th>\n",
       "      <td>4801-jzazl</td>\n",
       "      <td>female</td>\n",
       "      <td>0</td>\n",
       "      <td>yes</td>\n",
       "      <td>yes</td>\n",
       "      <td>11</td>\n",
       "      <td>no</td>\n",
       "      <td>no_phone_service</td>\n",
       "      <td>dsl</td>\n",
       "      <td>yes</td>\n",
       "      <td>...</td>\n",
       "      <td>no</td>\n",
       "      <td>no</td>\n",
       "      <td>no</td>\n",
       "      <td>no</td>\n",
       "      <td>month-to-month</td>\n",
       "      <td>yes</td>\n",
       "      <td>electronic_check</td>\n",
       "      <td>29.60</td>\n",
       "      <td>346.45</td>\n",
       "      <td>no</td>\n",
       "    </tr>\n",
       "    <tr>\n",
       "      <th>7041</th>\n",
       "      <td>8361-ltmkd</td>\n",
       "      <td>male</td>\n",
       "      <td>1</td>\n",
       "      <td>yes</td>\n",
       "      <td>no</td>\n",
       "      <td>4</td>\n",
       "      <td>yes</td>\n",
       "      <td>yes</td>\n",
       "      <td>fiber_optic</td>\n",
       "      <td>no</td>\n",
       "      <td>...</td>\n",
       "      <td>no</td>\n",
       "      <td>no</td>\n",
       "      <td>no</td>\n",
       "      <td>no</td>\n",
       "      <td>month-to-month</td>\n",
       "      <td>yes</td>\n",
       "      <td>mailed_check</td>\n",
       "      <td>74.40</td>\n",
       "      <td>306.6</td>\n",
       "      <td>yes</td>\n",
       "    </tr>\n",
       "    <tr>\n",
       "      <th>7042</th>\n",
       "      <td>3186-ajiek</td>\n",
       "      <td>male</td>\n",
       "      <td>0</td>\n",
       "      <td>no</td>\n",
       "      <td>no</td>\n",
       "      <td>66</td>\n",
       "      <td>yes</td>\n",
       "      <td>no</td>\n",
       "      <td>fiber_optic</td>\n",
       "      <td>yes</td>\n",
       "      <td>...</td>\n",
       "      <td>yes</td>\n",
       "      <td>yes</td>\n",
       "      <td>yes</td>\n",
       "      <td>yes</td>\n",
       "      <td>two_year</td>\n",
       "      <td>yes</td>\n",
       "      <td>bank_transfer_(automatic)</td>\n",
       "      <td>105.65</td>\n",
       "      <td>6844.5</td>\n",
       "      <td>no</td>\n",
       "    </tr>\n",
       "  </tbody>\n",
       "</table>\n",
       "<p>7043 rows × 21 columns</p>\n",
       "</div>"
      ],
      "text/plain": [
       "      customerid  gender  seniorcitizen partner dependents  tenure   \n",
       "0     7590-vhveg  female              0     yes         no       1  \\\n",
       "1     5575-gnvde    male              0      no         no      34   \n",
       "2     3668-qpybk    male              0      no         no       2   \n",
       "3     7795-cfocw    male              0      no         no      45   \n",
       "4     9237-hqitu  female              0      no         no       2   \n",
       "...          ...     ...            ...     ...        ...     ...   \n",
       "7038  6840-resvb    male              0     yes        yes      24   \n",
       "7039  2234-xaduh  female              0     yes        yes      72   \n",
       "7040  4801-jzazl  female              0     yes        yes      11   \n",
       "7041  8361-ltmkd    male              1     yes         no       4   \n",
       "7042  3186-ajiek    male              0      no         no      66   \n",
       "\n",
       "     phoneservice     multiplelines internetservice onlinesecurity  ...   \n",
       "0              no  no_phone_service             dsl             no  ...  \\\n",
       "1             yes                no             dsl            yes  ...   \n",
       "2             yes                no             dsl            yes  ...   \n",
       "3              no  no_phone_service             dsl            yes  ...   \n",
       "4             yes                no     fiber_optic             no  ...   \n",
       "...           ...               ...             ...            ...  ...   \n",
       "7038          yes               yes             dsl            yes  ...   \n",
       "7039          yes               yes     fiber_optic             no  ...   \n",
       "7040           no  no_phone_service             dsl            yes  ...   \n",
       "7041          yes               yes     fiber_optic             no  ...   \n",
       "7042          yes                no     fiber_optic            yes  ...   \n",
       "\n",
       "     deviceprotection techsupport streamingtv streamingmovies        contract   \n",
       "0                  no          no          no              no  month-to-month  \\\n",
       "1                 yes          no          no              no        one_year   \n",
       "2                  no          no          no              no  month-to-month   \n",
       "3                 yes         yes          no              no        one_year   \n",
       "4                  no          no          no              no  month-to-month   \n",
       "...               ...         ...         ...             ...             ...   \n",
       "7038              yes         yes         yes             yes        one_year   \n",
       "7039              yes          no         yes             yes        one_year   \n",
       "7040               no          no          no              no  month-to-month   \n",
       "7041               no          no          no              no  month-to-month   \n",
       "7042              yes         yes         yes             yes        two_year   \n",
       "\n",
       "     paperlessbilling              paymentmethod monthlycharges  totalcharges   \n",
       "0                 yes           electronic_check          29.85         29.85  \\\n",
       "1                  no               mailed_check          56.95        1889.5   \n",
       "2                 yes               mailed_check          53.85        108.15   \n",
       "3                  no  bank_transfer_(automatic)          42.30       1840.75   \n",
       "4                 yes           electronic_check          70.70        151.65   \n",
       "...               ...                        ...            ...           ...   \n",
       "7038              yes               mailed_check          84.80        1990.5   \n",
       "7039              yes    credit_card_(automatic)         103.20        7362.9   \n",
       "7040              yes           electronic_check          29.60        346.45   \n",
       "7041              yes               mailed_check          74.40         306.6   \n",
       "7042              yes  bank_transfer_(automatic)         105.65        6844.5   \n",
       "\n",
       "     churn  \n",
       "0       no  \n",
       "1       no  \n",
       "2      yes  \n",
       "3       no  \n",
       "4      yes  \n",
       "...    ...  \n",
       "7038    no  \n",
       "7039    no  \n",
       "7040    no  \n",
       "7041   yes  \n",
       "7042    no  \n",
       "\n",
       "[7043 rows x 21 columns]"
      ]
     },
     "execution_count": 543,
     "metadata": {},
     "output_type": "execute_result"
    }
   ],
   "source": [
    "df"
   ]
  },
  {
   "cell_type": "code",
   "execution_count": 544,
   "id": "a0dbad9d-dfdf-4f7e-8a80-8cb652be00f8",
   "metadata": {
    "tags": []
   },
   "outputs": [
    {
     "data": {
      "text/html": [
       "<div>\n",
       "<style scoped>\n",
       "    .dataframe tbody tr th:only-of-type {\n",
       "        vertical-align: middle;\n",
       "    }\n",
       "\n",
       "    .dataframe tbody tr th {\n",
       "        vertical-align: top;\n",
       "    }\n",
       "\n",
       "    .dataframe thead th {\n",
       "        text-align: right;\n",
       "    }\n",
       "</style>\n",
       "<table border=\"1\" class=\"dataframe\">\n",
       "  <thead>\n",
       "    <tr style=\"text-align: right;\">\n",
       "      <th></th>\n",
       "      <th>0</th>\n",
       "      <th>1</th>\n",
       "      <th>2</th>\n",
       "      <th>3</th>\n",
       "      <th>4</th>\n",
       "      <th>5</th>\n",
       "      <th>6</th>\n",
       "      <th>7</th>\n",
       "      <th>8</th>\n",
       "      <th>9</th>\n",
       "      <th>...</th>\n",
       "      <th>7033</th>\n",
       "      <th>7034</th>\n",
       "      <th>7035</th>\n",
       "      <th>7036</th>\n",
       "      <th>7037</th>\n",
       "      <th>7038</th>\n",
       "      <th>7039</th>\n",
       "      <th>7040</th>\n",
       "      <th>7041</th>\n",
       "      <th>7042</th>\n",
       "    </tr>\n",
       "  </thead>\n",
       "  <tbody>\n",
       "    <tr>\n",
       "      <th>customerid</th>\n",
       "      <td>7590-vhveg</td>\n",
       "      <td>5575-gnvde</td>\n",
       "      <td>3668-qpybk</td>\n",
       "      <td>7795-cfocw</td>\n",
       "      <td>9237-hqitu</td>\n",
       "      <td>9305-cdskc</td>\n",
       "      <td>1452-kiovk</td>\n",
       "      <td>6713-okomc</td>\n",
       "      <td>7892-pookp</td>\n",
       "      <td>6388-tabgu</td>\n",
       "      <td>...</td>\n",
       "      <td>9767-fflem</td>\n",
       "      <td>0639-tsiqw</td>\n",
       "      <td>8456-qdavc</td>\n",
       "      <td>7750-eyxwz</td>\n",
       "      <td>2569-wgero</td>\n",
       "      <td>6840-resvb</td>\n",
       "      <td>2234-xaduh</td>\n",
       "      <td>4801-jzazl</td>\n",
       "      <td>8361-ltmkd</td>\n",
       "      <td>3186-ajiek</td>\n",
       "    </tr>\n",
       "    <tr>\n",
       "      <th>gender</th>\n",
       "      <td>female</td>\n",
       "      <td>male</td>\n",
       "      <td>male</td>\n",
       "      <td>male</td>\n",
       "      <td>female</td>\n",
       "      <td>female</td>\n",
       "      <td>male</td>\n",
       "      <td>female</td>\n",
       "      <td>female</td>\n",
       "      <td>male</td>\n",
       "      <td>...</td>\n",
       "      <td>male</td>\n",
       "      <td>female</td>\n",
       "      <td>male</td>\n",
       "      <td>female</td>\n",
       "      <td>female</td>\n",
       "      <td>male</td>\n",
       "      <td>female</td>\n",
       "      <td>female</td>\n",
       "      <td>male</td>\n",
       "      <td>male</td>\n",
       "    </tr>\n",
       "    <tr>\n",
       "      <th>seniorcitizen</th>\n",
       "      <td>0</td>\n",
       "      <td>0</td>\n",
       "      <td>0</td>\n",
       "      <td>0</td>\n",
       "      <td>0</td>\n",
       "      <td>0</td>\n",
       "      <td>0</td>\n",
       "      <td>0</td>\n",
       "      <td>0</td>\n",
       "      <td>0</td>\n",
       "      <td>...</td>\n",
       "      <td>0</td>\n",
       "      <td>0</td>\n",
       "      <td>0</td>\n",
       "      <td>0</td>\n",
       "      <td>0</td>\n",
       "      <td>0</td>\n",
       "      <td>0</td>\n",
       "      <td>0</td>\n",
       "      <td>1</td>\n",
       "      <td>0</td>\n",
       "    </tr>\n",
       "    <tr>\n",
       "      <th>partner</th>\n",
       "      <td>yes</td>\n",
       "      <td>no</td>\n",
       "      <td>no</td>\n",
       "      <td>no</td>\n",
       "      <td>no</td>\n",
       "      <td>no</td>\n",
       "      <td>no</td>\n",
       "      <td>no</td>\n",
       "      <td>yes</td>\n",
       "      <td>no</td>\n",
       "      <td>...</td>\n",
       "      <td>no</td>\n",
       "      <td>no</td>\n",
       "      <td>no</td>\n",
       "      <td>no</td>\n",
       "      <td>no</td>\n",
       "      <td>yes</td>\n",
       "      <td>yes</td>\n",
       "      <td>yes</td>\n",
       "      <td>yes</td>\n",
       "      <td>no</td>\n",
       "    </tr>\n",
       "    <tr>\n",
       "      <th>dependents</th>\n",
       "      <td>no</td>\n",
       "      <td>no</td>\n",
       "      <td>no</td>\n",
       "      <td>no</td>\n",
       "      <td>no</td>\n",
       "      <td>no</td>\n",
       "      <td>yes</td>\n",
       "      <td>no</td>\n",
       "      <td>no</td>\n",
       "      <td>yes</td>\n",
       "      <td>...</td>\n",
       "      <td>no</td>\n",
       "      <td>no</td>\n",
       "      <td>no</td>\n",
       "      <td>no</td>\n",
       "      <td>no</td>\n",
       "      <td>yes</td>\n",
       "      <td>yes</td>\n",
       "      <td>yes</td>\n",
       "      <td>no</td>\n",
       "      <td>no</td>\n",
       "    </tr>\n",
       "    <tr>\n",
       "      <th>tenure</th>\n",
       "      <td>1</td>\n",
       "      <td>34</td>\n",
       "      <td>2</td>\n",
       "      <td>45</td>\n",
       "      <td>2</td>\n",
       "      <td>8</td>\n",
       "      <td>22</td>\n",
       "      <td>10</td>\n",
       "      <td>28</td>\n",
       "      <td>62</td>\n",
       "      <td>...</td>\n",
       "      <td>38</td>\n",
       "      <td>67</td>\n",
       "      <td>19</td>\n",
       "      <td>12</td>\n",
       "      <td>72</td>\n",
       "      <td>24</td>\n",
       "      <td>72</td>\n",
       "      <td>11</td>\n",
       "      <td>4</td>\n",
       "      <td>66</td>\n",
       "    </tr>\n",
       "    <tr>\n",
       "      <th>phoneservice</th>\n",
       "      <td>no</td>\n",
       "      <td>yes</td>\n",
       "      <td>yes</td>\n",
       "      <td>no</td>\n",
       "      <td>yes</td>\n",
       "      <td>yes</td>\n",
       "      <td>yes</td>\n",
       "      <td>no</td>\n",
       "      <td>yes</td>\n",
       "      <td>yes</td>\n",
       "      <td>...</td>\n",
       "      <td>yes</td>\n",
       "      <td>yes</td>\n",
       "      <td>yes</td>\n",
       "      <td>no</td>\n",
       "      <td>yes</td>\n",
       "      <td>yes</td>\n",
       "      <td>yes</td>\n",
       "      <td>no</td>\n",
       "      <td>yes</td>\n",
       "      <td>yes</td>\n",
       "    </tr>\n",
       "    <tr>\n",
       "      <th>multiplelines</th>\n",
       "      <td>no_phone_service</td>\n",
       "      <td>no</td>\n",
       "      <td>no</td>\n",
       "      <td>no_phone_service</td>\n",
       "      <td>no</td>\n",
       "      <td>yes</td>\n",
       "      <td>yes</td>\n",
       "      <td>no_phone_service</td>\n",
       "      <td>yes</td>\n",
       "      <td>no</td>\n",
       "      <td>...</td>\n",
       "      <td>no</td>\n",
       "      <td>yes</td>\n",
       "      <td>no</td>\n",
       "      <td>no_phone_service</td>\n",
       "      <td>no</td>\n",
       "      <td>yes</td>\n",
       "      <td>yes</td>\n",
       "      <td>no_phone_service</td>\n",
       "      <td>yes</td>\n",
       "      <td>no</td>\n",
       "    </tr>\n",
       "    <tr>\n",
       "      <th>internetservice</th>\n",
       "      <td>dsl</td>\n",
       "      <td>dsl</td>\n",
       "      <td>dsl</td>\n",
       "      <td>dsl</td>\n",
       "      <td>fiber_optic</td>\n",
       "      <td>fiber_optic</td>\n",
       "      <td>fiber_optic</td>\n",
       "      <td>dsl</td>\n",
       "      <td>fiber_optic</td>\n",
       "      <td>dsl</td>\n",
       "      <td>...</td>\n",
       "      <td>fiber_optic</td>\n",
       "      <td>fiber_optic</td>\n",
       "      <td>fiber_optic</td>\n",
       "      <td>dsl</td>\n",
       "      <td>no</td>\n",
       "      <td>dsl</td>\n",
       "      <td>fiber_optic</td>\n",
       "      <td>dsl</td>\n",
       "      <td>fiber_optic</td>\n",
       "      <td>fiber_optic</td>\n",
       "    </tr>\n",
       "    <tr>\n",
       "      <th>onlinesecurity</th>\n",
       "      <td>no</td>\n",
       "      <td>yes</td>\n",
       "      <td>yes</td>\n",
       "      <td>yes</td>\n",
       "      <td>no</td>\n",
       "      <td>no</td>\n",
       "      <td>no</td>\n",
       "      <td>yes</td>\n",
       "      <td>no</td>\n",
       "      <td>yes</td>\n",
       "      <td>...</td>\n",
       "      <td>no</td>\n",
       "      <td>yes</td>\n",
       "      <td>no</td>\n",
       "      <td>no</td>\n",
       "      <td>no_internet_service</td>\n",
       "      <td>yes</td>\n",
       "      <td>no</td>\n",
       "      <td>yes</td>\n",
       "      <td>no</td>\n",
       "      <td>yes</td>\n",
       "    </tr>\n",
       "    <tr>\n",
       "      <th>onlinebackup</th>\n",
       "      <td>yes</td>\n",
       "      <td>no</td>\n",
       "      <td>yes</td>\n",
       "      <td>no</td>\n",
       "      <td>no</td>\n",
       "      <td>no</td>\n",
       "      <td>yes</td>\n",
       "      <td>no</td>\n",
       "      <td>no</td>\n",
       "      <td>yes</td>\n",
       "      <td>...</td>\n",
       "      <td>no</td>\n",
       "      <td>yes</td>\n",
       "      <td>no</td>\n",
       "      <td>yes</td>\n",
       "      <td>no_internet_service</td>\n",
       "      <td>no</td>\n",
       "      <td>yes</td>\n",
       "      <td>no</td>\n",
       "      <td>no</td>\n",
       "      <td>no</td>\n",
       "    </tr>\n",
       "    <tr>\n",
       "      <th>deviceprotection</th>\n",
       "      <td>no</td>\n",
       "      <td>yes</td>\n",
       "      <td>no</td>\n",
       "      <td>yes</td>\n",
       "      <td>no</td>\n",
       "      <td>yes</td>\n",
       "      <td>no</td>\n",
       "      <td>no</td>\n",
       "      <td>yes</td>\n",
       "      <td>no</td>\n",
       "      <td>...</td>\n",
       "      <td>no</td>\n",
       "      <td>yes</td>\n",
       "      <td>no</td>\n",
       "      <td>yes</td>\n",
       "      <td>no_internet_service</td>\n",
       "      <td>yes</td>\n",
       "      <td>yes</td>\n",
       "      <td>no</td>\n",
       "      <td>no</td>\n",
       "      <td>yes</td>\n",
       "    </tr>\n",
       "    <tr>\n",
       "      <th>techsupport</th>\n",
       "      <td>no</td>\n",
       "      <td>no</td>\n",
       "      <td>no</td>\n",
       "      <td>yes</td>\n",
       "      <td>no</td>\n",
       "      <td>no</td>\n",
       "      <td>no</td>\n",
       "      <td>no</td>\n",
       "      <td>yes</td>\n",
       "      <td>no</td>\n",
       "      <td>...</td>\n",
       "      <td>no</td>\n",
       "      <td>no</td>\n",
       "      <td>no</td>\n",
       "      <td>yes</td>\n",
       "      <td>no_internet_service</td>\n",
       "      <td>yes</td>\n",
       "      <td>no</td>\n",
       "      <td>no</td>\n",
       "      <td>no</td>\n",
       "      <td>yes</td>\n",
       "    </tr>\n",
       "    <tr>\n",
       "      <th>streamingtv</th>\n",
       "      <td>no</td>\n",
       "      <td>no</td>\n",
       "      <td>no</td>\n",
       "      <td>no</td>\n",
       "      <td>no</td>\n",
       "      <td>yes</td>\n",
       "      <td>yes</td>\n",
       "      <td>no</td>\n",
       "      <td>yes</td>\n",
       "      <td>no</td>\n",
       "      <td>...</td>\n",
       "      <td>no</td>\n",
       "      <td>yes</td>\n",
       "      <td>yes</td>\n",
       "      <td>yes</td>\n",
       "      <td>no_internet_service</td>\n",
       "      <td>yes</td>\n",
       "      <td>yes</td>\n",
       "      <td>no</td>\n",
       "      <td>no</td>\n",
       "      <td>yes</td>\n",
       "    </tr>\n",
       "    <tr>\n",
       "      <th>streamingmovies</th>\n",
       "      <td>no</td>\n",
       "      <td>no</td>\n",
       "      <td>no</td>\n",
       "      <td>no</td>\n",
       "      <td>no</td>\n",
       "      <td>yes</td>\n",
       "      <td>no</td>\n",
       "      <td>no</td>\n",
       "      <td>yes</td>\n",
       "      <td>no</td>\n",
       "      <td>...</td>\n",
       "      <td>no</td>\n",
       "      <td>no</td>\n",
       "      <td>no</td>\n",
       "      <td>yes</td>\n",
       "      <td>no_internet_service</td>\n",
       "      <td>yes</td>\n",
       "      <td>yes</td>\n",
       "      <td>no</td>\n",
       "      <td>no</td>\n",
       "      <td>yes</td>\n",
       "    </tr>\n",
       "    <tr>\n",
       "      <th>contract</th>\n",
       "      <td>month-to-month</td>\n",
       "      <td>one_year</td>\n",
       "      <td>month-to-month</td>\n",
       "      <td>one_year</td>\n",
       "      <td>month-to-month</td>\n",
       "      <td>month-to-month</td>\n",
       "      <td>month-to-month</td>\n",
       "      <td>month-to-month</td>\n",
       "      <td>month-to-month</td>\n",
       "      <td>one_year</td>\n",
       "      <td>...</td>\n",
       "      <td>month-to-month</td>\n",
       "      <td>month-to-month</td>\n",
       "      <td>month-to-month</td>\n",
       "      <td>one_year</td>\n",
       "      <td>two_year</td>\n",
       "      <td>one_year</td>\n",
       "      <td>one_year</td>\n",
       "      <td>month-to-month</td>\n",
       "      <td>month-to-month</td>\n",
       "      <td>two_year</td>\n",
       "    </tr>\n",
       "    <tr>\n",
       "      <th>paperlessbilling</th>\n",
       "      <td>yes</td>\n",
       "      <td>no</td>\n",
       "      <td>yes</td>\n",
       "      <td>no</td>\n",
       "      <td>yes</td>\n",
       "      <td>yes</td>\n",
       "      <td>yes</td>\n",
       "      <td>no</td>\n",
       "      <td>yes</td>\n",
       "      <td>no</td>\n",
       "      <td>...</td>\n",
       "      <td>yes</td>\n",
       "      <td>yes</td>\n",
       "      <td>yes</td>\n",
       "      <td>no</td>\n",
       "      <td>yes</td>\n",
       "      <td>yes</td>\n",
       "      <td>yes</td>\n",
       "      <td>yes</td>\n",
       "      <td>yes</td>\n",
       "      <td>yes</td>\n",
       "    </tr>\n",
       "    <tr>\n",
       "      <th>paymentmethod</th>\n",
       "      <td>electronic_check</td>\n",
       "      <td>mailed_check</td>\n",
       "      <td>mailed_check</td>\n",
       "      <td>bank_transfer_(automatic)</td>\n",
       "      <td>electronic_check</td>\n",
       "      <td>electronic_check</td>\n",
       "      <td>credit_card_(automatic)</td>\n",
       "      <td>mailed_check</td>\n",
       "      <td>electronic_check</td>\n",
       "      <td>bank_transfer_(automatic)</td>\n",
       "      <td>...</td>\n",
       "      <td>credit_card_(automatic)</td>\n",
       "      <td>credit_card_(automatic)</td>\n",
       "      <td>bank_transfer_(automatic)</td>\n",
       "      <td>electronic_check</td>\n",
       "      <td>bank_transfer_(automatic)</td>\n",
       "      <td>mailed_check</td>\n",
       "      <td>credit_card_(automatic)</td>\n",
       "      <td>electronic_check</td>\n",
       "      <td>mailed_check</td>\n",
       "      <td>bank_transfer_(automatic)</td>\n",
       "    </tr>\n",
       "    <tr>\n",
       "      <th>monthlycharges</th>\n",
       "      <td>29.85</td>\n",
       "      <td>56.95</td>\n",
       "      <td>53.85</td>\n",
       "      <td>42.3</td>\n",
       "      <td>70.7</td>\n",
       "      <td>99.65</td>\n",
       "      <td>89.1</td>\n",
       "      <td>29.75</td>\n",
       "      <td>104.8</td>\n",
       "      <td>56.15</td>\n",
       "      <td>...</td>\n",
       "      <td>69.5</td>\n",
       "      <td>102.95</td>\n",
       "      <td>78.7</td>\n",
       "      <td>60.65</td>\n",
       "      <td>21.15</td>\n",
       "      <td>84.8</td>\n",
       "      <td>103.2</td>\n",
       "      <td>29.6</td>\n",
       "      <td>74.4</td>\n",
       "      <td>105.65</td>\n",
       "    </tr>\n",
       "    <tr>\n",
       "      <th>totalcharges</th>\n",
       "      <td>29.85</td>\n",
       "      <td>1889.5</td>\n",
       "      <td>108.15</td>\n",
       "      <td>1840.75</td>\n",
       "      <td>151.65</td>\n",
       "      <td>820.5</td>\n",
       "      <td>1949.4</td>\n",
       "      <td>301.9</td>\n",
       "      <td>3046.05</td>\n",
       "      <td>3487.95</td>\n",
       "      <td>...</td>\n",
       "      <td>2625.25</td>\n",
       "      <td>6886.25</td>\n",
       "      <td>1495.1</td>\n",
       "      <td>743.3</td>\n",
       "      <td>1419.4</td>\n",
       "      <td>1990.5</td>\n",
       "      <td>7362.9</td>\n",
       "      <td>346.45</td>\n",
       "      <td>306.6</td>\n",
       "      <td>6844.5</td>\n",
       "    </tr>\n",
       "    <tr>\n",
       "      <th>churn</th>\n",
       "      <td>no</td>\n",
       "      <td>no</td>\n",
       "      <td>yes</td>\n",
       "      <td>no</td>\n",
       "      <td>yes</td>\n",
       "      <td>yes</td>\n",
       "      <td>no</td>\n",
       "      <td>no</td>\n",
       "      <td>yes</td>\n",
       "      <td>no</td>\n",
       "      <td>...</td>\n",
       "      <td>no</td>\n",
       "      <td>yes</td>\n",
       "      <td>no</td>\n",
       "      <td>no</td>\n",
       "      <td>no</td>\n",
       "      <td>no</td>\n",
       "      <td>no</td>\n",
       "      <td>no</td>\n",
       "      <td>yes</td>\n",
       "      <td>no</td>\n",
       "    </tr>\n",
       "  </tbody>\n",
       "</table>\n",
       "<p>21 rows × 7043 columns</p>\n",
       "</div>"
      ],
      "text/plain": [
       "                              0             1               2      \n",
       "customerid              7590-vhveg    5575-gnvde      3668-qpybk  \\\n",
       "gender                      female          male            male   \n",
       "seniorcitizen                    0             0               0   \n",
       "partner                        yes            no              no   \n",
       "dependents                      no            no              no   \n",
       "tenure                           1            34               2   \n",
       "phoneservice                    no           yes             yes   \n",
       "multiplelines     no_phone_service            no              no   \n",
       "internetservice                dsl           dsl             dsl   \n",
       "onlinesecurity                  no           yes             yes   \n",
       "onlinebackup                   yes            no             yes   \n",
       "deviceprotection                no           yes              no   \n",
       "techsupport                     no            no              no   \n",
       "streamingtv                     no            no              no   \n",
       "streamingmovies                 no            no              no   \n",
       "contract            month-to-month      one_year  month-to-month   \n",
       "paperlessbilling               yes            no             yes   \n",
       "paymentmethod     electronic_check  mailed_check    mailed_check   \n",
       "monthlycharges               29.85         56.95           53.85   \n",
       "totalcharges                 29.85        1889.5          108.15   \n",
       "churn                           no            no             yes   \n",
       "\n",
       "                                       3                 4      \n",
       "customerid                       7795-cfocw        9237-hqitu  \\\n",
       "gender                                 male            female   \n",
       "seniorcitizen                             0                 0   \n",
       "partner                                  no                no   \n",
       "dependents                               no                no   \n",
       "tenure                                   45                 2   \n",
       "phoneservice                             no               yes   \n",
       "multiplelines              no_phone_service                no   \n",
       "internetservice                         dsl       fiber_optic   \n",
       "onlinesecurity                          yes                no   \n",
       "onlinebackup                             no                no   \n",
       "deviceprotection                        yes                no   \n",
       "techsupport                             yes                no   \n",
       "streamingtv                              no                no   \n",
       "streamingmovies                          no                no   \n",
       "contract                           one_year    month-to-month   \n",
       "paperlessbilling                         no               yes   \n",
       "paymentmethod     bank_transfer_(automatic)  electronic_check   \n",
       "monthlycharges                         42.3              70.7   \n",
       "totalcharges                        1840.75            151.65   \n",
       "churn                                    no               yes   \n",
       "\n",
       "                              5                        6                 7      \n",
       "customerid              9305-cdskc               1452-kiovk        6713-okomc  \\\n",
       "gender                      female                     male            female   \n",
       "seniorcitizen                    0                        0                 0   \n",
       "partner                         no                       no                no   \n",
       "dependents                      no                      yes                no   \n",
       "tenure                           8                       22                10   \n",
       "phoneservice                   yes                      yes                no   \n",
       "multiplelines                  yes                      yes  no_phone_service   \n",
       "internetservice        fiber_optic              fiber_optic               dsl   \n",
       "onlinesecurity                  no                       no               yes   \n",
       "onlinebackup                    no                      yes                no   \n",
       "deviceprotection               yes                       no                no   \n",
       "techsupport                     no                       no                no   \n",
       "streamingtv                    yes                      yes                no   \n",
       "streamingmovies                yes                       no                no   \n",
       "contract            month-to-month           month-to-month    month-to-month   \n",
       "paperlessbilling               yes                      yes                no   \n",
       "paymentmethod     electronic_check  credit_card_(automatic)      mailed_check   \n",
       "monthlycharges               99.65                     89.1             29.75   \n",
       "totalcharges                 820.5                   1949.4             301.9   \n",
       "churn                          yes                       no                no   \n",
       "\n",
       "                              8                          9     ...   \n",
       "customerid              7892-pookp                 6388-tabgu  ...  \\\n",
       "gender                      female                       male  ...   \n",
       "seniorcitizen                    0                          0  ...   \n",
       "partner                        yes                         no  ...   \n",
       "dependents                      no                        yes  ...   \n",
       "tenure                          28                         62  ...   \n",
       "phoneservice                   yes                        yes  ...   \n",
       "multiplelines                  yes                         no  ...   \n",
       "internetservice        fiber_optic                        dsl  ...   \n",
       "onlinesecurity                  no                        yes  ...   \n",
       "onlinebackup                    no                        yes  ...   \n",
       "deviceprotection               yes                         no  ...   \n",
       "techsupport                    yes                         no  ...   \n",
       "streamingtv                    yes                         no  ...   \n",
       "streamingmovies                yes                         no  ...   \n",
       "contract            month-to-month                   one_year  ...   \n",
       "paperlessbilling               yes                         no  ...   \n",
       "paymentmethod     electronic_check  bank_transfer_(automatic)  ...   \n",
       "monthlycharges               104.8                      56.15  ...   \n",
       "totalcharges               3046.05                    3487.95  ...   \n",
       "churn                          yes                         no  ...   \n",
       "\n",
       "                                     7033                     7034   \n",
       "customerid                     9767-fflem               0639-tsiqw  \\\n",
       "gender                               male                   female   \n",
       "seniorcitizen                           0                        0   \n",
       "partner                                no                       no   \n",
       "dependents                             no                       no   \n",
       "tenure                                 38                       67   \n",
       "phoneservice                          yes                      yes   \n",
       "multiplelines                          no                      yes   \n",
       "internetservice               fiber_optic              fiber_optic   \n",
       "onlinesecurity                         no                      yes   \n",
       "onlinebackup                           no                      yes   \n",
       "deviceprotection                       no                      yes   \n",
       "techsupport                            no                       no   \n",
       "streamingtv                            no                      yes   \n",
       "streamingmovies                        no                       no   \n",
       "contract                   month-to-month           month-to-month   \n",
       "paperlessbilling                      yes                      yes   \n",
       "paymentmethod     credit_card_(automatic)  credit_card_(automatic)   \n",
       "monthlycharges                       69.5                   102.95   \n",
       "totalcharges                      2625.25                  6886.25   \n",
       "churn                                  no                      yes   \n",
       "\n",
       "                                       7035              7036   \n",
       "customerid                       8456-qdavc        7750-eyxwz  \\\n",
       "gender                                 male            female   \n",
       "seniorcitizen                             0                 0   \n",
       "partner                                  no                no   \n",
       "dependents                               no                no   \n",
       "tenure                                   19                12   \n",
       "phoneservice                            yes                no   \n",
       "multiplelines                            no  no_phone_service   \n",
       "internetservice                 fiber_optic               dsl   \n",
       "onlinesecurity                           no                no   \n",
       "onlinebackup                             no               yes   \n",
       "deviceprotection                         no               yes   \n",
       "techsupport                              no               yes   \n",
       "streamingtv                             yes               yes   \n",
       "streamingmovies                          no               yes   \n",
       "contract                     month-to-month          one_year   \n",
       "paperlessbilling                        yes                no   \n",
       "paymentmethod     bank_transfer_(automatic)  electronic_check   \n",
       "monthlycharges                         78.7             60.65   \n",
       "totalcharges                         1495.1             743.3   \n",
       "churn                                    no                no   \n",
       "\n",
       "                                       7037          7038   \n",
       "customerid                       2569-wgero    6840-resvb  \\\n",
       "gender                               female          male   \n",
       "seniorcitizen                             0             0   \n",
       "partner                                  no           yes   \n",
       "dependents                               no           yes   \n",
       "tenure                                   72            24   \n",
       "phoneservice                            yes           yes   \n",
       "multiplelines                            no           yes   \n",
       "internetservice                          no           dsl   \n",
       "onlinesecurity          no_internet_service           yes   \n",
       "onlinebackup            no_internet_service            no   \n",
       "deviceprotection        no_internet_service           yes   \n",
       "techsupport             no_internet_service           yes   \n",
       "streamingtv             no_internet_service           yes   \n",
       "streamingmovies         no_internet_service           yes   \n",
       "contract                           two_year      one_year   \n",
       "paperlessbilling                        yes           yes   \n",
       "paymentmethod     bank_transfer_(automatic)  mailed_check   \n",
       "monthlycharges                        21.15          84.8   \n",
       "totalcharges                         1419.4        1990.5   \n",
       "churn                                    no            no   \n",
       "\n",
       "                                     7039              7040            7041   \n",
       "customerid                     2234-xaduh        4801-jzazl      8361-ltmkd  \\\n",
       "gender                             female            female            male   \n",
       "seniorcitizen                           0                 0               1   \n",
       "partner                               yes               yes             yes   \n",
       "dependents                            yes               yes              no   \n",
       "tenure                                 72                11               4   \n",
       "phoneservice                          yes                no             yes   \n",
       "multiplelines                         yes  no_phone_service             yes   \n",
       "internetservice               fiber_optic               dsl     fiber_optic   \n",
       "onlinesecurity                         no               yes              no   \n",
       "onlinebackup                          yes                no              no   \n",
       "deviceprotection                      yes                no              no   \n",
       "techsupport                            no                no              no   \n",
       "streamingtv                           yes                no              no   \n",
       "streamingmovies                       yes                no              no   \n",
       "contract                         one_year    month-to-month  month-to-month   \n",
       "paperlessbilling                      yes               yes             yes   \n",
       "paymentmethod     credit_card_(automatic)  electronic_check    mailed_check   \n",
       "monthlycharges                      103.2              29.6            74.4   \n",
       "totalcharges                       7362.9            346.45           306.6   \n",
       "churn                                  no                no             yes   \n",
       "\n",
       "                                       7042  \n",
       "customerid                       3186-ajiek  \n",
       "gender                                 male  \n",
       "seniorcitizen                             0  \n",
       "partner                                  no  \n",
       "dependents                               no  \n",
       "tenure                                   66  \n",
       "phoneservice                            yes  \n",
       "multiplelines                            no  \n",
       "internetservice                 fiber_optic  \n",
       "onlinesecurity                          yes  \n",
       "onlinebackup                             no  \n",
       "deviceprotection                        yes  \n",
       "techsupport                             yes  \n",
       "streamingtv                             yes  \n",
       "streamingmovies                         yes  \n",
       "contract                           two_year  \n",
       "paperlessbilling                        yes  \n",
       "paymentmethod     bank_transfer_(automatic)  \n",
       "monthlycharges                       105.65  \n",
       "totalcharges                         6844.5  \n",
       "churn                                    no  \n",
       "\n",
       "[21 rows x 7043 columns]"
      ]
     },
     "execution_count": 544,
     "metadata": {},
     "output_type": "execute_result"
    }
   ],
   "source": [
    "df.T"
   ]
  },
  {
   "cell_type": "code",
   "execution_count": 545,
   "id": "ff8ec0ea-8367-436c-bb83-2472ba837ec7",
   "metadata": {
    "tags": []
   },
   "outputs": [
    {
     "data": {
      "text/plain": [
       "customerid           object\n",
       "gender               object\n",
       "seniorcitizen         int64\n",
       "partner              object\n",
       "dependents           object\n",
       "tenure                int64\n",
       "phoneservice         object\n",
       "multiplelines        object\n",
       "internetservice      object\n",
       "onlinesecurity       object\n",
       "onlinebackup         object\n",
       "deviceprotection     object\n",
       "techsupport          object\n",
       "streamingtv          object\n",
       "streamingmovies      object\n",
       "contract             object\n",
       "paperlessbilling     object\n",
       "paymentmethod        object\n",
       "monthlycharges      float64\n",
       "totalcharges         object\n",
       "churn                object\n",
       "dtype: object"
      ]
     },
     "execution_count": 545,
     "metadata": {},
     "output_type": "execute_result"
    }
   ],
   "source": [
    "df.dtypes"
   ]
  },
  {
   "cell_type": "code",
   "execution_count": 546,
   "id": "0aeb48ee-a3f7-4d94-8931-3bdb651f85f8",
   "metadata": {
    "tags": []
   },
   "outputs": [],
   "source": [
    "# df.totalcharges=  df.totalcharges.str.replace('_', '0')"
   ]
  },
  {
   "cell_type": "code",
   "execution_count": 547,
   "id": "ae58a82b-c713-4de1-9dda-4f568e59b373",
   "metadata": {
    "tags": []
   },
   "outputs": [],
   "source": [
    "df.totalcharges = pd.to_numeric(df.totalcharges, errors='coerce')"
   ]
  },
  {
   "cell_type": "code",
   "execution_count": 548,
   "id": "a0697e81-88e3-44b9-be59-d5f8ba9d8c19",
   "metadata": {
    "tags": []
   },
   "outputs": [
    {
     "data": {
      "text/plain": [
       "11"
      ]
     },
     "execution_count": 548,
     "metadata": {},
     "output_type": "execute_result"
    }
   ],
   "source": [
    "df.totalcharges.isnull().sum()"
   ]
  },
  {
   "cell_type": "code",
   "execution_count": 549,
   "id": "46bd21bd-edfd-4894-af42-cf5e8c2a35f6",
   "metadata": {
    "tags": []
   },
   "outputs": [],
   "source": [
    "df.totalcharges =  df.totalcharges.fillna(0)"
   ]
  },
  {
   "cell_type": "code",
   "execution_count": 550,
   "id": "5e34c0f2-b0ee-45d4-a956-533d4daf1aaf",
   "metadata": {
    "tags": []
   },
   "outputs": [
    {
     "data": {
      "text/plain": [
       "count    7043.000000\n",
       "mean     2279.734304\n",
       "std      2266.794470\n",
       "min         0.000000\n",
       "25%       398.550000\n",
       "50%      1394.550000\n",
       "75%      3786.600000\n",
       "max      8684.800000\n",
       "Name: totalcharges, dtype: float64"
      ]
     },
     "execution_count": 550,
     "metadata": {},
     "output_type": "execute_result"
    }
   ],
   "source": [
    "df.totalcharges.describe()"
   ]
  },
  {
   "cell_type": "code",
   "execution_count": 551,
   "id": "d3310489-3611-4317-b937-de86d5710fcd",
   "metadata": {
    "tags": []
   },
   "outputs": [],
   "source": [
    "df.churn = (df.churn == 'yes').astype(int)"
   ]
  },
  {
   "cell_type": "code",
   "execution_count": 552,
   "id": "e2eb6c9a-ebe9-4db6-83c8-d5313c2e96c1",
   "metadata": {
    "tags": []
   },
   "outputs": [
    {
     "data": {
      "text/plain": [
       "0       0\n",
       "1       0\n",
       "2       1\n",
       "3       0\n",
       "4       1\n",
       "       ..\n",
       "7038    0\n",
       "7039    0\n",
       "7040    0\n",
       "7041    1\n",
       "7042    0\n",
       "Name: churn, Length: 7043, dtype: int64"
      ]
     },
     "execution_count": 552,
     "metadata": {},
     "output_type": "execute_result"
    }
   ],
   "source": [
    "df.churn"
   ]
  },
  {
   "cell_type": "markdown",
   "id": "63debbc3-6cf2-458f-ba54-bf8486aa4791",
   "metadata": {},
   "source": [
    "### Setting up the framework "
   ]
  },
  {
   "cell_type": "code",
   "execution_count": 553,
   "id": "409837e4-716f-41b9-a122-a0af3da516a3",
   "metadata": {
    "tags": []
   },
   "outputs": [],
   "source": [
    "from sklearn.model_selection import train_test_split"
   ]
  },
  {
   "cell_type": "code",
   "execution_count": 554,
   "id": "8de5a133-5df0-4f05-ac4c-900522fef98b",
   "metadata": {
    "tags": []
   },
   "outputs": [],
   "source": [
    "df_train_full, df_test = train_test_split(df, test_size=0.2, random_state=1)"
   ]
  },
  {
   "cell_type": "code",
   "execution_count": 555,
   "id": "86c1deb1-6cdb-4f8c-861f-ba36f6533d24",
   "metadata": {
    "tags": []
   },
   "outputs": [
    {
     "data": {
      "text/plain": [
       "(1409, 5634)"
      ]
     },
     "execution_count": 555,
     "metadata": {},
     "output_type": "execute_result"
    }
   ],
   "source": [
    "len(df_test), len(df_train_full)"
   ]
  },
  {
   "cell_type": "code",
   "execution_count": 556,
   "id": "36b509c2-4983-495e-99b0-2cd49e54eb49",
   "metadata": {
    "tags": []
   },
   "outputs": [],
   "source": [
    "df_train , df_val = train_test_split(df_train_full, test_size=0.25, random_state=1)\n",
    "\n",
    "# x% of 80 is equal to 20 % of 100 % therefore x = 25"
   ]
  },
  {
   "cell_type": "code",
   "execution_count": 557,
   "id": "d2758deb-ff0e-4ce0-909b-4e7900dce6b7",
   "metadata": {
    "tags": []
   },
   "outputs": [
    {
     "data": {
      "text/plain": [
       "(4225, 1409)"
      ]
     },
     "execution_count": 557,
     "metadata": {},
     "output_type": "execute_result"
    }
   ],
   "source": [
    "len(df_train), len(df_val)"
   ]
  },
  {
   "cell_type": "code",
   "execution_count": 558,
   "id": "dcc5930a-cd7c-4321-b485-2a1253e9c061",
   "metadata": {
    "tags": []
   },
   "outputs": [],
   "source": [
    "y_train = df_train.churn.values\n",
    "y_val = df_val.churn.values"
   ]
  },
  {
   "cell_type": "code",
   "execution_count": 559,
   "id": "64ce93b3-0371-4645-9d6a-6db936a83bde",
   "metadata": {
    "tags": []
   },
   "outputs": [],
   "source": [
    "del df_train['churn']\n",
    "del df_val['churn']"
   ]
  },
  {
   "cell_type": "markdown",
   "id": "066f49be-ce73-46dd-8788-0762e990d19c",
   "metadata": {},
   "source": [
    "### EDA"
   ]
  },
  {
   "cell_type": "code",
   "execution_count": 560,
   "id": "997b21e1-6fd3-42e3-86bb-fd80ddf41ef5",
   "metadata": {
    "tags": []
   },
   "outputs": [
    {
     "data": {
      "text/plain": [
       "customerid          0\n",
       "gender              0\n",
       "seniorcitizen       0\n",
       "partner             0\n",
       "dependents          0\n",
       "tenure              0\n",
       "phoneservice        0\n",
       "multiplelines       0\n",
       "internetservice     0\n",
       "onlinesecurity      0\n",
       "onlinebackup        0\n",
       "deviceprotection    0\n",
       "techsupport         0\n",
       "streamingtv         0\n",
       "streamingmovies     0\n",
       "contract            0\n",
       "paperlessbilling    0\n",
       "paymentmethod       0\n",
       "monthlycharges      0\n",
       "totalcharges        0\n",
       "churn               0\n",
       "dtype: int64"
      ]
     },
     "execution_count": 560,
     "metadata": {},
     "output_type": "execute_result"
    }
   ],
   "source": [
    "df_train_full.isnull().sum()"
   ]
  },
  {
   "cell_type": "code",
   "execution_count": 561,
   "id": "940eaee0-b762-44ab-a8bc-9b0f1f4cde9a",
   "metadata": {
    "tags": []
   },
   "outputs": [
    {
     "data": {
      "text/plain": [
       "churn\n",
       "0    4113\n",
       "1    1521\n",
       "Name: count, dtype: int64"
      ]
     },
     "execution_count": 561,
     "metadata": {},
     "output_type": "execute_result"
    }
   ],
   "source": [
    "df_train_full.churn.value_counts()"
   ]
  },
  {
   "cell_type": "code",
   "execution_count": 562,
   "id": "357b409f-69ef-429e-a88b-0841fbeb6dbb",
   "metadata": {
    "tags": []
   },
   "outputs": [
    {
     "data": {
      "text/plain": [
       "0.27"
      ]
     },
     "execution_count": 562,
     "metadata": {},
     "output_type": "execute_result"
    }
   ],
   "source": [
    "global_mean = df_train_full.churn.mean()\n",
    "round(global_mean, 3)"
   ]
  },
  {
   "cell_type": "code",
   "execution_count": 563,
   "id": "c308d47e-64f2-4673-8a00-5120cd6c2376",
   "metadata": {
    "tags": []
   },
   "outputs": [
    {
     "data": {
      "text/plain": [
       "['gender',\n",
       " 'partner',\n",
       " 'dependents',\n",
       " 'phoneservice',\n",
       " 'multiplelines',\n",
       " 'internetservice',\n",
       " 'onlinesecurity',\n",
       " 'onlinebackup',\n",
       " 'deviceprotection',\n",
       " 'techsupport',\n",
       " 'streamingtv',\n",
       " 'streamingmovies',\n",
       " 'contract',\n",
       " 'paperlessbilling',\n",
       " 'paymentmethod',\n",
       " 'seniorcitizen']"
      ]
     },
     "execution_count": 563,
     "metadata": {},
     "output_type": "execute_result"
    }
   ],
   "source": [
    "categorical_cols = string_cols + ['seniorcitizen']\n",
    "\n",
    "categorical_cols.remove('totalcharges')\n",
    "categorical_cols.remove('churn')\n",
    "categorical_cols.remove('customerid')\n",
    "\n",
    "categorical_cols"
   ]
  },
  {
   "cell_type": "code",
   "execution_count": 564,
   "id": "02657c85-1733-4ddc-9ee2-55d67d8f99f9",
   "metadata": {
    "tags": []
   },
   "outputs": [],
   "source": [
    "numerical_cols = ['tenure', 'monthlycharges', 'totalcharges']"
   ]
  },
  {
   "cell_type": "code",
   "execution_count": 565,
   "id": "71b24871-c0e7-4f04-b82e-c7e5cdc35fcc",
   "metadata": {
    "tags": []
   },
   "outputs": [
    {
     "data": {
      "text/plain": [
       "gender              2\n",
       "partner             2\n",
       "dependents          2\n",
       "phoneservice        2\n",
       "multiplelines       3\n",
       "internetservice     3\n",
       "onlinesecurity      3\n",
       "onlinebackup        3\n",
       "deviceprotection    3\n",
       "techsupport         3\n",
       "streamingtv         3\n",
       "streamingmovies     3\n",
       "contract            3\n",
       "paperlessbilling    2\n",
       "paymentmethod       4\n",
       "seniorcitizen       2\n",
       "dtype: int64"
      ]
     },
     "execution_count": 565,
     "metadata": {},
     "output_type": "execute_result"
    }
   ],
   "source": [
    "df_train_full[categorical_cols].nunique()"
   ]
  },
  {
   "cell_type": "markdown",
   "id": "35c2fc77-f726-40c3-adf0-31c03b94e15e",
   "metadata": {},
   "source": [
    "### Feature importance"
   ]
  },
  {
   "cell_type": "code",
   "execution_count": 566,
   "id": "fc43c598-96cb-4ddc-9eef-8e26c6763040",
   "metadata": {
    "tags": []
   },
   "outputs": [],
   "source": [
    "# global_mean = df.churn.sum()/len(df.churn)\n",
    "global_mean = df_train_full.churn.mean().round(3)"
   ]
  },
  {
   "cell_type": "code",
   "execution_count": 567,
   "id": "a32b81ca-8687-4218-a1ea-230195f7eff8",
   "metadata": {
    "tags": []
   },
   "outputs": [
    {
     "data": {
      "text/plain": [
       "0.27"
      ]
     },
     "execution_count": 567,
     "metadata": {},
     "output_type": "execute_result"
    }
   ],
   "source": [
    "global_mean "
   ]
  },
  {
   "cell_type": "code",
   "execution_count": 568,
   "id": "c41a98f3-d9c7-4d1f-ae77-f8d5f0cb7dc1",
   "metadata": {
    "tags": []
   },
   "outputs": [
    {
     "name": "stdout",
     "output_type": "stream",
     "text": [
      "gender==female 0.277\n",
      "gender==male 0.263\n"
     ]
    }
   ],
   "source": [
    "female_mean = df_train_full[df_train_full.gender == 'female'].churn.mean()\n",
    "print('gender==female' , round(female_mean, 3))\n",
    "\n",
    "male_mean = df_train_full[df_train_full.gender == 'male'].churn.mean()\n",
    "print('gender==male' , round(male_mean, 3))"
   ]
  },
  {
   "cell_type": "code",
   "execution_count": 569,
   "id": "8d8cbc7e-b4d5-4301-9143-0027f9246246",
   "metadata": {
    "tags": []
   },
   "outputs": [
    {
     "data": {
      "text/plain": [
       "1.0252742012398663"
      ]
     },
     "execution_count": 569,
     "metadata": {},
     "output_type": "execute_result"
    }
   ],
   "source": [
    "female_mean/global_mean"
   ]
  },
  {
   "cell_type": "code",
   "execution_count": 570,
   "id": "899a1100-71e3-4cab-83d0-fdf463966b69",
   "metadata": {
    "tags": []
   },
   "outputs": [
    {
     "data": {
      "text/plain": [
       "0.9748649283533003"
      ]
     },
     "execution_count": 570,
     "metadata": {},
     "output_type": "execute_result"
    }
   ],
   "source": [
    "male_mean/global_mean"
   ]
  },
  {
   "cell_type": "code",
   "execution_count": 571,
   "id": "f42a4e23-f50a-4184-91a0-474e2a57997b",
   "metadata": {
    "tags": []
   },
   "outputs": [
    {
     "name": "stdout",
     "output_type": "stream",
     "text": [
      "partner == yes: 0.205\n",
      "partner == no : 0.33\n"
     ]
    }
   ],
   "source": [
    "partner_yes = df_train_full[df_train_full.partner == 'yes'].churn.mean()\n",
    "print('partner == yes:', round(partner_yes, 3))\n",
    "\n",
    "partner_no = df_train_full[df_train_full.partner == 'no'].churn.mean()\n",
    "print('partner == no :', round(partner_no, 3))"
   ]
  },
  {
   "cell_type": "code",
   "execution_count": 572,
   "id": "ef32495f-a012-4ae2-96f0-cb3c3acfde80",
   "metadata": {
    "tags": []
   },
   "outputs": [
    {
     "data": {
      "text/plain": [
       "0.7593826246675986"
      ]
     },
     "execution_count": 572,
     "metadata": {},
     "output_type": "execute_result"
    }
   ],
   "source": [
    "partner_yes / global_mean"
   ]
  },
  {
   "cell_type": "code",
   "execution_count": 573,
   "id": "9c11e538-3aee-4106-955d-6e56e85ed6a9",
   "metadata": {
    "tags": []
   },
   "outputs": [
    {
     "data": {
      "text/plain": [
       "1.22151482997322"
      ]
     },
     "execution_count": 573,
     "metadata": {},
     "output_type": "execute_result"
    }
   ],
   "source": [
    "partner_no / global_mean"
   ]
  },
  {
   "cell_type": "code",
   "execution_count": 574,
   "id": "f33596a6-ad4a-4afe-8c4f-e05f3ca44c7a",
   "metadata": {
    "tags": []
   },
   "outputs": [
    {
     "data": {
      "text/html": [
       "<div>\n",
       "<style scoped>\n",
       "    .dataframe tbody tr th:only-of-type {\n",
       "        vertical-align: middle;\n",
       "    }\n",
       "\n",
       "    .dataframe tbody tr th {\n",
       "        vertical-align: top;\n",
       "    }\n",
       "\n",
       "    .dataframe thead th {\n",
       "        text-align: right;\n",
       "    }\n",
       "</style>\n",
       "<table border=\"1\" class=\"dataframe\">\n",
       "  <thead>\n",
       "    <tr style=\"text-align: right;\">\n",
       "      <th></th>\n",
       "      <th>mean</th>\n",
       "      <th>diff</th>\n",
       "      <th>ratio</th>\n",
       "    </tr>\n",
       "    <tr>\n",
       "      <th>gender</th>\n",
       "      <th></th>\n",
       "      <th></th>\n",
       "      <th></th>\n",
       "    </tr>\n",
       "  </thead>\n",
       "  <tbody>\n",
       "    <tr>\n",
       "      <th>female</th>\n",
       "      <td>0.276824</td>\n",
       "      <td>0.006824</td>\n",
       "      <td>1.025274</td>\n",
       "    </tr>\n",
       "    <tr>\n",
       "      <th>male</th>\n",
       "      <td>0.263214</td>\n",
       "      <td>-0.006786</td>\n",
       "      <td>0.974865</td>\n",
       "    </tr>\n",
       "  </tbody>\n",
       "</table>\n",
       "</div>"
      ],
      "text/plain": [
       "            mean      diff     ratio\n",
       "gender                              \n",
       "female  0.276824  0.006824  1.025274\n",
       "male    0.263214 -0.006786  0.974865"
      ]
     },
     "execution_count": 574,
     "metadata": {},
     "output_type": "execute_result"
    }
   ],
   "source": [
    "df_group = df_train_full.groupby(by='gender').churn.agg(['mean'])\n",
    "df_group['diff'] = df_group['mean'] - global_mean\n",
    "df_group['ratio'] = df_group['mean'] /global_mean\n",
    "df_group"
   ]
  },
  {
   "cell_type": "code",
   "execution_count": 575,
   "id": "33c83a45-5628-480b-924f-e03fb1c28c2e",
   "metadata": {
    "tags": []
   },
   "outputs": [],
   "source": [
    "from IPython.display import display"
   ]
  },
  {
   "cell_type": "code",
   "execution_count": 576,
   "id": "9d90bc55-16c7-419b-b2a7-5fc64e9b6e09",
   "metadata": {
    "tags": []
   },
   "outputs": [
    {
     "data": {
      "text/html": [
       "<div>\n",
       "<style scoped>\n",
       "    .dataframe tbody tr th:only-of-type {\n",
       "        vertical-align: middle;\n",
       "    }\n",
       "\n",
       "    .dataframe tbody tr th {\n",
       "        vertical-align: top;\n",
       "    }\n",
       "\n",
       "    .dataframe thead th {\n",
       "        text-align: right;\n",
       "    }\n",
       "</style>\n",
       "<table border=\"1\" class=\"dataframe\">\n",
       "  <thead>\n",
       "    <tr style=\"text-align: right;\">\n",
       "      <th></th>\n",
       "      <th>mean</th>\n",
       "      <th>diff</th>\n",
       "      <th>ratio</th>\n",
       "    </tr>\n",
       "    <tr>\n",
       "      <th>gender</th>\n",
       "      <th></th>\n",
       "      <th></th>\n",
       "      <th></th>\n",
       "    </tr>\n",
       "  </thead>\n",
       "  <tbody>\n",
       "    <tr>\n",
       "      <th>female</th>\n",
       "      <td>0.276824</td>\n",
       "      <td>0.006824</td>\n",
       "      <td>1.025274</td>\n",
       "    </tr>\n",
       "    <tr>\n",
       "      <th>male</th>\n",
       "      <td>0.263214</td>\n",
       "      <td>-0.006786</td>\n",
       "      <td>0.974865</td>\n",
       "    </tr>\n",
       "  </tbody>\n",
       "</table>\n",
       "</div>"
      ],
      "text/plain": [
       "            mean      diff     ratio\n",
       "gender                              \n",
       "female  0.276824  0.006824  1.025274\n",
       "male    0.263214 -0.006786  0.974865"
      ]
     },
     "metadata": {},
     "output_type": "display_data"
    },
    {
     "name": "stdout",
     "output_type": "stream",
     "text": [
      "\n"
     ]
    },
    {
     "data": {
      "text/html": [
       "<div>\n",
       "<style scoped>\n",
       "    .dataframe tbody tr th:only-of-type {\n",
       "        vertical-align: middle;\n",
       "    }\n",
       "\n",
       "    .dataframe tbody tr th {\n",
       "        vertical-align: top;\n",
       "    }\n",
       "\n",
       "    .dataframe thead th {\n",
       "        text-align: right;\n",
       "    }\n",
       "</style>\n",
       "<table border=\"1\" class=\"dataframe\">\n",
       "  <thead>\n",
       "    <tr style=\"text-align: right;\">\n",
       "      <th></th>\n",
       "      <th>mean</th>\n",
       "      <th>diff</th>\n",
       "      <th>ratio</th>\n",
       "    </tr>\n",
       "    <tr>\n",
       "      <th>partner</th>\n",
       "      <th></th>\n",
       "      <th></th>\n",
       "      <th></th>\n",
       "    </tr>\n",
       "  </thead>\n",
       "  <tbody>\n",
       "    <tr>\n",
       "      <th>no</th>\n",
       "      <td>0.329809</td>\n",
       "      <td>0.059809</td>\n",
       "      <td>1.221515</td>\n",
       "    </tr>\n",
       "    <tr>\n",
       "      <th>yes</th>\n",
       "      <td>0.205033</td>\n",
       "      <td>-0.064967</td>\n",
       "      <td>0.759383</td>\n",
       "    </tr>\n",
       "  </tbody>\n",
       "</table>\n",
       "</div>"
      ],
      "text/plain": [
       "             mean      diff     ratio\n",
       "partner                              \n",
       "no       0.329809  0.059809  1.221515\n",
       "yes      0.205033 -0.064967  0.759383"
      ]
     },
     "metadata": {},
     "output_type": "display_data"
    },
    {
     "name": "stdout",
     "output_type": "stream",
     "text": [
      "\n"
     ]
    },
    {
     "data": {
      "text/html": [
       "<div>\n",
       "<style scoped>\n",
       "    .dataframe tbody tr th:only-of-type {\n",
       "        vertical-align: middle;\n",
       "    }\n",
       "\n",
       "    .dataframe tbody tr th {\n",
       "        vertical-align: top;\n",
       "    }\n",
       "\n",
       "    .dataframe thead th {\n",
       "        text-align: right;\n",
       "    }\n",
       "</style>\n",
       "<table border=\"1\" class=\"dataframe\">\n",
       "  <thead>\n",
       "    <tr style=\"text-align: right;\">\n",
       "      <th></th>\n",
       "      <th>mean</th>\n",
       "      <th>diff</th>\n",
       "      <th>ratio</th>\n",
       "    </tr>\n",
       "    <tr>\n",
       "      <th>dependents</th>\n",
       "      <th></th>\n",
       "      <th></th>\n",
       "      <th></th>\n",
       "    </tr>\n",
       "  </thead>\n",
       "  <tbody>\n",
       "    <tr>\n",
       "      <th>no</th>\n",
       "      <td>0.313760</td>\n",
       "      <td>0.043760</td>\n",
       "      <td>1.162074</td>\n",
       "    </tr>\n",
       "    <tr>\n",
       "      <th>yes</th>\n",
       "      <td>0.165666</td>\n",
       "      <td>-0.104334</td>\n",
       "      <td>0.613579</td>\n",
       "    </tr>\n",
       "  </tbody>\n",
       "</table>\n",
       "</div>"
      ],
      "text/plain": [
       "                mean      diff     ratio\n",
       "dependents                              \n",
       "no          0.313760  0.043760  1.162074\n",
       "yes         0.165666 -0.104334  0.613579"
      ]
     },
     "metadata": {},
     "output_type": "display_data"
    },
    {
     "name": "stdout",
     "output_type": "stream",
     "text": [
      "\n"
     ]
    },
    {
     "data": {
      "text/html": [
       "<div>\n",
       "<style scoped>\n",
       "    .dataframe tbody tr th:only-of-type {\n",
       "        vertical-align: middle;\n",
       "    }\n",
       "\n",
       "    .dataframe tbody tr th {\n",
       "        vertical-align: top;\n",
       "    }\n",
       "\n",
       "    .dataframe thead th {\n",
       "        text-align: right;\n",
       "    }\n",
       "</style>\n",
       "<table border=\"1\" class=\"dataframe\">\n",
       "  <thead>\n",
       "    <tr style=\"text-align: right;\">\n",
       "      <th></th>\n",
       "      <th>mean</th>\n",
       "      <th>diff</th>\n",
       "      <th>ratio</th>\n",
       "    </tr>\n",
       "    <tr>\n",
       "      <th>phoneservice</th>\n",
       "      <th></th>\n",
       "      <th></th>\n",
       "      <th></th>\n",
       "    </tr>\n",
       "  </thead>\n",
       "  <tbody>\n",
       "    <tr>\n",
       "      <th>no</th>\n",
       "      <td>0.241316</td>\n",
       "      <td>-0.028684</td>\n",
       "      <td>0.893764</td>\n",
       "    </tr>\n",
       "    <tr>\n",
       "      <th>yes</th>\n",
       "      <td>0.273049</td>\n",
       "      <td>0.003049</td>\n",
       "      <td>1.011292</td>\n",
       "    </tr>\n",
       "  </tbody>\n",
       "</table>\n",
       "</div>"
      ],
      "text/plain": [
       "                  mean      diff     ratio\n",
       "phoneservice                              \n",
       "no            0.241316 -0.028684  0.893764\n",
       "yes           0.273049  0.003049  1.011292"
      ]
     },
     "metadata": {},
     "output_type": "display_data"
    },
    {
     "name": "stdout",
     "output_type": "stream",
     "text": [
      "\n"
     ]
    },
    {
     "data": {
      "text/html": [
       "<div>\n",
       "<style scoped>\n",
       "    .dataframe tbody tr th:only-of-type {\n",
       "        vertical-align: middle;\n",
       "    }\n",
       "\n",
       "    .dataframe tbody tr th {\n",
       "        vertical-align: top;\n",
       "    }\n",
       "\n",
       "    .dataframe thead th {\n",
       "        text-align: right;\n",
       "    }\n",
       "</style>\n",
       "<table border=\"1\" class=\"dataframe\">\n",
       "  <thead>\n",
       "    <tr style=\"text-align: right;\">\n",
       "      <th></th>\n",
       "      <th>mean</th>\n",
       "      <th>diff</th>\n",
       "      <th>ratio</th>\n",
       "    </tr>\n",
       "    <tr>\n",
       "      <th>multiplelines</th>\n",
       "      <th></th>\n",
       "      <th></th>\n",
       "      <th></th>\n",
       "    </tr>\n",
       "  </thead>\n",
       "  <tbody>\n",
       "    <tr>\n",
       "      <th>no</th>\n",
       "      <td>0.257407</td>\n",
       "      <td>-0.012593</td>\n",
       "      <td>0.953361</td>\n",
       "    </tr>\n",
       "    <tr>\n",
       "      <th>no_phone_service</th>\n",
       "      <td>0.241316</td>\n",
       "      <td>-0.028684</td>\n",
       "      <td>0.893764</td>\n",
       "    </tr>\n",
       "    <tr>\n",
       "      <th>yes</th>\n",
       "      <td>0.290742</td>\n",
       "      <td>0.020742</td>\n",
       "      <td>1.076820</td>\n",
       "    </tr>\n",
       "  </tbody>\n",
       "</table>\n",
       "</div>"
      ],
      "text/plain": [
       "                      mean      diff     ratio\n",
       "multiplelines                                 \n",
       "no                0.257407 -0.012593  0.953361\n",
       "no_phone_service  0.241316 -0.028684  0.893764\n",
       "yes               0.290742  0.020742  1.076820"
      ]
     },
     "metadata": {},
     "output_type": "display_data"
    },
    {
     "name": "stdout",
     "output_type": "stream",
     "text": [
      "\n"
     ]
    },
    {
     "data": {
      "text/html": [
       "<div>\n",
       "<style scoped>\n",
       "    .dataframe tbody tr th:only-of-type {\n",
       "        vertical-align: middle;\n",
       "    }\n",
       "\n",
       "    .dataframe tbody tr th {\n",
       "        vertical-align: top;\n",
       "    }\n",
       "\n",
       "    .dataframe thead th {\n",
       "        text-align: right;\n",
       "    }\n",
       "</style>\n",
       "<table border=\"1\" class=\"dataframe\">\n",
       "  <thead>\n",
       "    <tr style=\"text-align: right;\">\n",
       "      <th></th>\n",
       "      <th>mean</th>\n",
       "      <th>diff</th>\n",
       "      <th>ratio</th>\n",
       "    </tr>\n",
       "    <tr>\n",
       "      <th>internetservice</th>\n",
       "      <th></th>\n",
       "      <th></th>\n",
       "      <th></th>\n",
       "    </tr>\n",
       "  </thead>\n",
       "  <tbody>\n",
       "    <tr>\n",
       "      <th>dsl</th>\n",
       "      <td>0.192347</td>\n",
       "      <td>-0.077653</td>\n",
       "      <td>0.712398</td>\n",
       "    </tr>\n",
       "    <tr>\n",
       "      <th>fiber_optic</th>\n",
       "      <td>0.425171</td>\n",
       "      <td>0.155171</td>\n",
       "      <td>1.574709</td>\n",
       "    </tr>\n",
       "    <tr>\n",
       "      <th>no</th>\n",
       "      <td>0.077805</td>\n",
       "      <td>-0.192195</td>\n",
       "      <td>0.288167</td>\n",
       "    </tr>\n",
       "  </tbody>\n",
       "</table>\n",
       "</div>"
      ],
      "text/plain": [
       "                     mean      diff     ratio\n",
       "internetservice                              \n",
       "dsl              0.192347 -0.077653  0.712398\n",
       "fiber_optic      0.425171  0.155171  1.574709\n",
       "no               0.077805 -0.192195  0.288167"
      ]
     },
     "metadata": {},
     "output_type": "display_data"
    },
    {
     "name": "stdout",
     "output_type": "stream",
     "text": [
      "\n"
     ]
    },
    {
     "data": {
      "text/html": [
       "<div>\n",
       "<style scoped>\n",
       "    .dataframe tbody tr th:only-of-type {\n",
       "        vertical-align: middle;\n",
       "    }\n",
       "\n",
       "    .dataframe tbody tr th {\n",
       "        vertical-align: top;\n",
       "    }\n",
       "\n",
       "    .dataframe thead th {\n",
       "        text-align: right;\n",
       "    }\n",
       "</style>\n",
       "<table border=\"1\" class=\"dataframe\">\n",
       "  <thead>\n",
       "    <tr style=\"text-align: right;\">\n",
       "      <th></th>\n",
       "      <th>mean</th>\n",
       "      <th>diff</th>\n",
       "      <th>ratio</th>\n",
       "    </tr>\n",
       "    <tr>\n",
       "      <th>onlinesecurity</th>\n",
       "      <th></th>\n",
       "      <th></th>\n",
       "      <th></th>\n",
       "    </tr>\n",
       "  </thead>\n",
       "  <tbody>\n",
       "    <tr>\n",
       "      <th>no</th>\n",
       "      <td>0.420921</td>\n",
       "      <td>0.150921</td>\n",
       "      <td>1.558967</td>\n",
       "    </tr>\n",
       "    <tr>\n",
       "      <th>no_internet_service</th>\n",
       "      <td>0.077805</td>\n",
       "      <td>-0.192195</td>\n",
       "      <td>0.288167</td>\n",
       "    </tr>\n",
       "    <tr>\n",
       "      <th>yes</th>\n",
       "      <td>0.153226</td>\n",
       "      <td>-0.116774</td>\n",
       "      <td>0.567503</td>\n",
       "    </tr>\n",
       "  </tbody>\n",
       "</table>\n",
       "</div>"
      ],
      "text/plain": [
       "                         mean      diff     ratio\n",
       "onlinesecurity                                   \n",
       "no                   0.420921  0.150921  1.558967\n",
       "no_internet_service  0.077805 -0.192195  0.288167\n",
       "yes                  0.153226 -0.116774  0.567503"
      ]
     },
     "metadata": {},
     "output_type": "display_data"
    },
    {
     "name": "stdout",
     "output_type": "stream",
     "text": [
      "\n"
     ]
    },
    {
     "data": {
      "text/html": [
       "<div>\n",
       "<style scoped>\n",
       "    .dataframe tbody tr th:only-of-type {\n",
       "        vertical-align: middle;\n",
       "    }\n",
       "\n",
       "    .dataframe tbody tr th {\n",
       "        vertical-align: top;\n",
       "    }\n",
       "\n",
       "    .dataframe thead th {\n",
       "        text-align: right;\n",
       "    }\n",
       "</style>\n",
       "<table border=\"1\" class=\"dataframe\">\n",
       "  <thead>\n",
       "    <tr style=\"text-align: right;\">\n",
       "      <th></th>\n",
       "      <th>mean</th>\n",
       "      <th>diff</th>\n",
       "      <th>ratio</th>\n",
       "    </tr>\n",
       "    <tr>\n",
       "      <th>onlinebackup</th>\n",
       "      <th></th>\n",
       "      <th></th>\n",
       "      <th></th>\n",
       "    </tr>\n",
       "  </thead>\n",
       "  <tbody>\n",
       "    <tr>\n",
       "      <th>no</th>\n",
       "      <td>0.404323</td>\n",
       "      <td>0.134323</td>\n",
       "      <td>1.497494</td>\n",
       "    </tr>\n",
       "    <tr>\n",
       "      <th>no_internet_service</th>\n",
       "      <td>0.077805</td>\n",
       "      <td>-0.192195</td>\n",
       "      <td>0.288167</td>\n",
       "    </tr>\n",
       "    <tr>\n",
       "      <th>yes</th>\n",
       "      <td>0.217232</td>\n",
       "      <td>-0.052768</td>\n",
       "      <td>0.804564</td>\n",
       "    </tr>\n",
       "  </tbody>\n",
       "</table>\n",
       "</div>"
      ],
      "text/plain": [
       "                         mean      diff     ratio\n",
       "onlinebackup                                     \n",
       "no                   0.404323  0.134323  1.497494\n",
       "no_internet_service  0.077805 -0.192195  0.288167\n",
       "yes                  0.217232 -0.052768  0.804564"
      ]
     },
     "metadata": {},
     "output_type": "display_data"
    },
    {
     "name": "stdout",
     "output_type": "stream",
     "text": [
      "\n"
     ]
    },
    {
     "data": {
      "text/html": [
       "<div>\n",
       "<style scoped>\n",
       "    .dataframe tbody tr th:only-of-type {\n",
       "        vertical-align: middle;\n",
       "    }\n",
       "\n",
       "    .dataframe tbody tr th {\n",
       "        vertical-align: top;\n",
       "    }\n",
       "\n",
       "    .dataframe thead th {\n",
       "        text-align: right;\n",
       "    }\n",
       "</style>\n",
       "<table border=\"1\" class=\"dataframe\">\n",
       "  <thead>\n",
       "    <tr style=\"text-align: right;\">\n",
       "      <th></th>\n",
       "      <th>mean</th>\n",
       "      <th>diff</th>\n",
       "      <th>ratio</th>\n",
       "    </tr>\n",
       "    <tr>\n",
       "      <th>deviceprotection</th>\n",
       "      <th></th>\n",
       "      <th></th>\n",
       "      <th></th>\n",
       "    </tr>\n",
       "  </thead>\n",
       "  <tbody>\n",
       "    <tr>\n",
       "      <th>no</th>\n",
       "      <td>0.395875</td>\n",
       "      <td>0.125875</td>\n",
       "      <td>1.466205</td>\n",
       "    </tr>\n",
       "    <tr>\n",
       "      <th>no_internet_service</th>\n",
       "      <td>0.077805</td>\n",
       "      <td>-0.192195</td>\n",
       "      <td>0.288167</td>\n",
       "    </tr>\n",
       "    <tr>\n",
       "      <th>yes</th>\n",
       "      <td>0.230412</td>\n",
       "      <td>-0.039588</td>\n",
       "      <td>0.853379</td>\n",
       "    </tr>\n",
       "  </tbody>\n",
       "</table>\n",
       "</div>"
      ],
      "text/plain": [
       "                         mean      diff     ratio\n",
       "deviceprotection                                 \n",
       "no                   0.395875  0.125875  1.466205\n",
       "no_internet_service  0.077805 -0.192195  0.288167\n",
       "yes                  0.230412 -0.039588  0.853379"
      ]
     },
     "metadata": {},
     "output_type": "display_data"
    },
    {
     "name": "stdout",
     "output_type": "stream",
     "text": [
      "\n"
     ]
    },
    {
     "data": {
      "text/html": [
       "<div>\n",
       "<style scoped>\n",
       "    .dataframe tbody tr th:only-of-type {\n",
       "        vertical-align: middle;\n",
       "    }\n",
       "\n",
       "    .dataframe tbody tr th {\n",
       "        vertical-align: top;\n",
       "    }\n",
       "\n",
       "    .dataframe thead th {\n",
       "        text-align: right;\n",
       "    }\n",
       "</style>\n",
       "<table border=\"1\" class=\"dataframe\">\n",
       "  <thead>\n",
       "    <tr style=\"text-align: right;\">\n",
       "      <th></th>\n",
       "      <th>mean</th>\n",
       "      <th>diff</th>\n",
       "      <th>ratio</th>\n",
       "    </tr>\n",
       "    <tr>\n",
       "      <th>techsupport</th>\n",
       "      <th></th>\n",
       "      <th></th>\n",
       "      <th></th>\n",
       "    </tr>\n",
       "  </thead>\n",
       "  <tbody>\n",
       "    <tr>\n",
       "      <th>no</th>\n",
       "      <td>0.418914</td>\n",
       "      <td>0.148914</td>\n",
       "      <td>1.551534</td>\n",
       "    </tr>\n",
       "    <tr>\n",
       "      <th>no_internet_service</th>\n",
       "      <td>0.077805</td>\n",
       "      <td>-0.192195</td>\n",
       "      <td>0.288167</td>\n",
       "    </tr>\n",
       "    <tr>\n",
       "      <th>yes</th>\n",
       "      <td>0.159926</td>\n",
       "      <td>-0.110074</td>\n",
       "      <td>0.592320</td>\n",
       "    </tr>\n",
       "  </tbody>\n",
       "</table>\n",
       "</div>"
      ],
      "text/plain": [
       "                         mean      diff     ratio\n",
       "techsupport                                      \n",
       "no                   0.418914  0.148914  1.551534\n",
       "no_internet_service  0.077805 -0.192195  0.288167\n",
       "yes                  0.159926 -0.110074  0.592320"
      ]
     },
     "metadata": {},
     "output_type": "display_data"
    },
    {
     "name": "stdout",
     "output_type": "stream",
     "text": [
      "\n"
     ]
    },
    {
     "data": {
      "text/html": [
       "<div>\n",
       "<style scoped>\n",
       "    .dataframe tbody tr th:only-of-type {\n",
       "        vertical-align: middle;\n",
       "    }\n",
       "\n",
       "    .dataframe tbody tr th {\n",
       "        vertical-align: top;\n",
       "    }\n",
       "\n",
       "    .dataframe thead th {\n",
       "        text-align: right;\n",
       "    }\n",
       "</style>\n",
       "<table border=\"1\" class=\"dataframe\">\n",
       "  <thead>\n",
       "    <tr style=\"text-align: right;\">\n",
       "      <th></th>\n",
       "      <th>mean</th>\n",
       "      <th>diff</th>\n",
       "      <th>ratio</th>\n",
       "    </tr>\n",
       "    <tr>\n",
       "      <th>streamingtv</th>\n",
       "      <th></th>\n",
       "      <th></th>\n",
       "      <th></th>\n",
       "    </tr>\n",
       "  </thead>\n",
       "  <tbody>\n",
       "    <tr>\n",
       "      <th>no</th>\n",
       "      <td>0.342832</td>\n",
       "      <td>0.072832</td>\n",
       "      <td>1.269747</td>\n",
       "    </tr>\n",
       "    <tr>\n",
       "      <th>no_internet_service</th>\n",
       "      <td>0.077805</td>\n",
       "      <td>-0.192195</td>\n",
       "      <td>0.288167</td>\n",
       "    </tr>\n",
       "    <tr>\n",
       "      <th>yes</th>\n",
       "      <td>0.302723</td>\n",
       "      <td>0.032723</td>\n",
       "      <td>1.121195</td>\n",
       "    </tr>\n",
       "  </tbody>\n",
       "</table>\n",
       "</div>"
      ],
      "text/plain": [
       "                         mean      diff     ratio\n",
       "streamingtv                                      \n",
       "no                   0.342832  0.072832  1.269747\n",
       "no_internet_service  0.077805 -0.192195  0.288167\n",
       "yes                  0.302723  0.032723  1.121195"
      ]
     },
     "metadata": {},
     "output_type": "display_data"
    },
    {
     "name": "stdout",
     "output_type": "stream",
     "text": [
      "\n"
     ]
    },
    {
     "data": {
      "text/html": [
       "<div>\n",
       "<style scoped>\n",
       "    .dataframe tbody tr th:only-of-type {\n",
       "        vertical-align: middle;\n",
       "    }\n",
       "\n",
       "    .dataframe tbody tr th {\n",
       "        vertical-align: top;\n",
       "    }\n",
       "\n",
       "    .dataframe thead th {\n",
       "        text-align: right;\n",
       "    }\n",
       "</style>\n",
       "<table border=\"1\" class=\"dataframe\">\n",
       "  <thead>\n",
       "    <tr style=\"text-align: right;\">\n",
       "      <th></th>\n",
       "      <th>mean</th>\n",
       "      <th>diff</th>\n",
       "      <th>ratio</th>\n",
       "    </tr>\n",
       "    <tr>\n",
       "      <th>streamingmovies</th>\n",
       "      <th></th>\n",
       "      <th></th>\n",
       "      <th></th>\n",
       "    </tr>\n",
       "  </thead>\n",
       "  <tbody>\n",
       "    <tr>\n",
       "      <th>no</th>\n",
       "      <td>0.338906</td>\n",
       "      <td>0.068906</td>\n",
       "      <td>1.255209</td>\n",
       "    </tr>\n",
       "    <tr>\n",
       "      <th>no_internet_service</th>\n",
       "      <td>0.077805</td>\n",
       "      <td>-0.192195</td>\n",
       "      <td>0.288167</td>\n",
       "    </tr>\n",
       "    <tr>\n",
       "      <th>yes</th>\n",
       "      <td>0.307273</td>\n",
       "      <td>0.037273</td>\n",
       "      <td>1.138047</td>\n",
       "    </tr>\n",
       "  </tbody>\n",
       "</table>\n",
       "</div>"
      ],
      "text/plain": [
       "                         mean      diff     ratio\n",
       "streamingmovies                                  \n",
       "no                   0.338906  0.068906  1.255209\n",
       "no_internet_service  0.077805 -0.192195  0.288167\n",
       "yes                  0.307273  0.037273  1.138047"
      ]
     },
     "metadata": {},
     "output_type": "display_data"
    },
    {
     "name": "stdout",
     "output_type": "stream",
     "text": [
      "\n"
     ]
    },
    {
     "data": {
      "text/html": [
       "<div>\n",
       "<style scoped>\n",
       "    .dataframe tbody tr th:only-of-type {\n",
       "        vertical-align: middle;\n",
       "    }\n",
       "\n",
       "    .dataframe tbody tr th {\n",
       "        vertical-align: top;\n",
       "    }\n",
       "\n",
       "    .dataframe thead th {\n",
       "        text-align: right;\n",
       "    }\n",
       "</style>\n",
       "<table border=\"1\" class=\"dataframe\">\n",
       "  <thead>\n",
       "    <tr style=\"text-align: right;\">\n",
       "      <th></th>\n",
       "      <th>mean</th>\n",
       "      <th>diff</th>\n",
       "      <th>ratio</th>\n",
       "    </tr>\n",
       "    <tr>\n",
       "      <th>contract</th>\n",
       "      <th></th>\n",
       "      <th></th>\n",
       "      <th></th>\n",
       "    </tr>\n",
       "  </thead>\n",
       "  <tbody>\n",
       "    <tr>\n",
       "      <th>month-to-month</th>\n",
       "      <td>0.431701</td>\n",
       "      <td>0.161701</td>\n",
       "      <td>1.598893</td>\n",
       "    </tr>\n",
       "    <tr>\n",
       "      <th>one_year</th>\n",
       "      <td>0.120573</td>\n",
       "      <td>-0.149427</td>\n",
       "      <td>0.446568</td>\n",
       "    </tr>\n",
       "    <tr>\n",
       "      <th>two_year</th>\n",
       "      <td>0.028274</td>\n",
       "      <td>-0.241726</td>\n",
       "      <td>0.104718</td>\n",
       "    </tr>\n",
       "  </tbody>\n",
       "</table>\n",
       "</div>"
      ],
      "text/plain": [
       "                    mean      diff     ratio\n",
       "contract                                    \n",
       "month-to-month  0.431701  0.161701  1.598893\n",
       "one_year        0.120573 -0.149427  0.446568\n",
       "two_year        0.028274 -0.241726  0.104718"
      ]
     },
     "metadata": {},
     "output_type": "display_data"
    },
    {
     "name": "stdout",
     "output_type": "stream",
     "text": [
      "\n"
     ]
    },
    {
     "data": {
      "text/html": [
       "<div>\n",
       "<style scoped>\n",
       "    .dataframe tbody tr th:only-of-type {\n",
       "        vertical-align: middle;\n",
       "    }\n",
       "\n",
       "    .dataframe tbody tr th {\n",
       "        vertical-align: top;\n",
       "    }\n",
       "\n",
       "    .dataframe thead th {\n",
       "        text-align: right;\n",
       "    }\n",
       "</style>\n",
       "<table border=\"1\" class=\"dataframe\">\n",
       "  <thead>\n",
       "    <tr style=\"text-align: right;\">\n",
       "      <th></th>\n",
       "      <th>mean</th>\n",
       "      <th>diff</th>\n",
       "      <th>ratio</th>\n",
       "    </tr>\n",
       "    <tr>\n",
       "      <th>paperlessbilling</th>\n",
       "      <th></th>\n",
       "      <th></th>\n",
       "      <th></th>\n",
       "    </tr>\n",
       "  </thead>\n",
       "  <tbody>\n",
       "    <tr>\n",
       "      <th>no</th>\n",
       "      <td>0.172071</td>\n",
       "      <td>-0.097929</td>\n",
       "      <td>0.637300</td>\n",
       "    </tr>\n",
       "    <tr>\n",
       "      <th>yes</th>\n",
       "      <td>0.338151</td>\n",
       "      <td>0.068151</td>\n",
       "      <td>1.252412</td>\n",
       "    </tr>\n",
       "  </tbody>\n",
       "</table>\n",
       "</div>"
      ],
      "text/plain": [
       "                      mean      diff     ratio\n",
       "paperlessbilling                              \n",
       "no                0.172071 -0.097929  0.637300\n",
       "yes               0.338151  0.068151  1.252412"
      ]
     },
     "metadata": {},
     "output_type": "display_data"
    },
    {
     "name": "stdout",
     "output_type": "stream",
     "text": [
      "\n"
     ]
    },
    {
     "data": {
      "text/html": [
       "<div>\n",
       "<style scoped>\n",
       "    .dataframe tbody tr th:only-of-type {\n",
       "        vertical-align: middle;\n",
       "    }\n",
       "\n",
       "    .dataframe tbody tr th {\n",
       "        vertical-align: top;\n",
       "    }\n",
       "\n",
       "    .dataframe thead th {\n",
       "        text-align: right;\n",
       "    }\n",
       "</style>\n",
       "<table border=\"1\" class=\"dataframe\">\n",
       "  <thead>\n",
       "    <tr style=\"text-align: right;\">\n",
       "      <th></th>\n",
       "      <th>mean</th>\n",
       "      <th>diff</th>\n",
       "      <th>ratio</th>\n",
       "    </tr>\n",
       "    <tr>\n",
       "      <th>paymentmethod</th>\n",
       "      <th></th>\n",
       "      <th></th>\n",
       "      <th></th>\n",
       "    </tr>\n",
       "  </thead>\n",
       "  <tbody>\n",
       "    <tr>\n",
       "      <th>bank_transfer_(automatic)</th>\n",
       "      <td>0.168171</td>\n",
       "      <td>-0.101829</td>\n",
       "      <td>0.622854</td>\n",
       "    </tr>\n",
       "    <tr>\n",
       "      <th>credit_card_(automatic)</th>\n",
       "      <td>0.164339</td>\n",
       "      <td>-0.105661</td>\n",
       "      <td>0.608661</td>\n",
       "    </tr>\n",
       "    <tr>\n",
       "      <th>electronic_check</th>\n",
       "      <td>0.455890</td>\n",
       "      <td>0.185890</td>\n",
       "      <td>1.688482</td>\n",
       "    </tr>\n",
       "    <tr>\n",
       "      <th>mailed_check</th>\n",
       "      <td>0.193870</td>\n",
       "      <td>-0.076130</td>\n",
       "      <td>0.718036</td>\n",
       "    </tr>\n",
       "  </tbody>\n",
       "</table>\n",
       "</div>"
      ],
      "text/plain": [
       "                               mean      diff     ratio\n",
       "paymentmethod                                          \n",
       "bank_transfer_(automatic)  0.168171 -0.101829  0.622854\n",
       "credit_card_(automatic)    0.164339 -0.105661  0.608661\n",
       "electronic_check           0.455890  0.185890  1.688482\n",
       "mailed_check               0.193870 -0.076130  0.718036"
      ]
     },
     "metadata": {},
     "output_type": "display_data"
    },
    {
     "name": "stdout",
     "output_type": "stream",
     "text": [
      "\n"
     ]
    },
    {
     "data": {
      "text/html": [
       "<div>\n",
       "<style scoped>\n",
       "    .dataframe tbody tr th:only-of-type {\n",
       "        vertical-align: middle;\n",
       "    }\n",
       "\n",
       "    .dataframe tbody tr th {\n",
       "        vertical-align: top;\n",
       "    }\n",
       "\n",
       "    .dataframe thead th {\n",
       "        text-align: right;\n",
       "    }\n",
       "</style>\n",
       "<table border=\"1\" class=\"dataframe\">\n",
       "  <thead>\n",
       "    <tr style=\"text-align: right;\">\n",
       "      <th></th>\n",
       "      <th>mean</th>\n",
       "      <th>diff</th>\n",
       "      <th>ratio</th>\n",
       "    </tr>\n",
       "    <tr>\n",
       "      <th>seniorcitizen</th>\n",
       "      <th></th>\n",
       "      <th></th>\n",
       "      <th></th>\n",
       "    </tr>\n",
       "  </thead>\n",
       "  <tbody>\n",
       "    <tr>\n",
       "      <th>0</th>\n",
       "      <td>0.242270</td>\n",
       "      <td>-0.027730</td>\n",
       "      <td>0.897297</td>\n",
       "    </tr>\n",
       "    <tr>\n",
       "      <th>1</th>\n",
       "      <td>0.413377</td>\n",
       "      <td>0.143377</td>\n",
       "      <td>1.531027</td>\n",
       "    </tr>\n",
       "  </tbody>\n",
       "</table>\n",
       "</div>"
      ],
      "text/plain": [
       "                   mean      diff     ratio\n",
       "seniorcitizen                              \n",
       "0              0.242270 -0.027730  0.897297\n",
       "1              0.413377  0.143377  1.531027"
      ]
     },
     "metadata": {},
     "output_type": "display_data"
    },
    {
     "name": "stdout",
     "output_type": "stream",
     "text": [
      "\n"
     ]
    }
   ],
   "source": [
    "for col in categorical_cols: \n",
    "    df_group = df_train_full.groupby(by=col).churn.agg(['mean'])\n",
    "    df_group['diff'] = df_group['mean'] - global_mean\n",
    "    df_group['ratio'] = df_group['mean'] /global_mean\n",
    "    display(df_group)\n",
    "    print()"
   ]
  },
  {
   "cell_type": "markdown",
   "id": "e050463a-b4bf-45e5-80ae-06327df542df",
   "metadata": {
    "tags": []
   },
   "source": [
    "## Feature Importance : Mutual information, (cateogrical) "
   ]
  },
  {
   "cell_type": "code",
   "execution_count": 577,
   "id": "f59bbd2e-770d-4796-890d-4ad3b6da489c",
   "metadata": {
    "tags": []
   },
   "outputs": [],
   "source": [
    "from sklearn.metrics import mutual_info_score"
   ]
  },
  {
   "cell_type": "code",
   "execution_count": 578,
   "id": "907c0fe4-74f3-49ad-9b5a-f4db6e035e01",
   "metadata": {
    "tags": []
   },
   "outputs": [
    {
     "data": {
      "text/plain": [
       "contract            0.098320\n",
       "onlinesecurity      0.063085\n",
       "techsupport         0.061032\n",
       "internetservice     0.055868\n",
       "onlinebackup        0.046923\n",
       "deviceprotection    0.043453\n",
       "paymentmethod       0.043210\n",
       "streamingtv         0.031853\n",
       "streamingmovies     0.031581\n",
       "paperlessbilling    0.017589\n",
       "dependents          0.012346\n",
       "partner             0.009968\n",
       "seniorcitizen       0.009410\n",
       "multiplelines       0.000857\n",
       "phoneservice        0.000229\n",
       "gender              0.000117\n",
       "dtype: float64"
      ]
     },
     "execution_count": 578,
     "metadata": {},
     "output_type": "execute_result"
    }
   ],
   "source": [
    "def calculate_mi(series):\n",
    "    return mutual_info_score(series, df_train_full.churn)\n",
    "\n",
    "df_mi  = df_train_full[categorical_cols].apply(calculate_mi)\n",
    "df_mi = df_mi.sort_values(ascending=False)\n",
    "\n",
    "df_mi"
   ]
  },
  {
   "cell_type": "markdown",
   "id": "f706027c-8c20-4769-b835-1dbbc9e6379f",
   "metadata": {
    "tags": []
   },
   "source": [
    "## Feature Importance : Correlation, (numerical) "
   ]
  },
  {
   "cell_type": "code",
   "execution_count": 579,
   "id": "2610b27a-c193-4f4e-b99e-e647e75a686b",
   "metadata": {
    "tags": []
   },
   "outputs": [
    {
     "data": {
      "text/plain": [
       "tenure           -0.351885\n",
       "monthlycharges    0.196805\n",
       "totalcharges     -0.196353\n",
       "dtype: float64"
      ]
     },
     "execution_count": 579,
     "metadata": {},
     "output_type": "execute_result"
    }
   ],
   "source": [
    "df_train_full[numerical_cols].corrwith(df_train_full.churn)"
   ]
  },
  {
   "cell_type": "raw",
   "id": "389d6d47-f32f-47d3-ab99-3ad18f1b64cb",
   "metadata": {},
   "source": [
    "If tenure increase, churn is less likely \n",
    "If paying higher monthly charges, likely to churn"
   ]
  },
  {
   "cell_type": "markdown",
   "id": "e3f85533-7e05-4e7f-bb2c-badd5a31eb68",
   "metadata": {},
   "source": [
    "## One-hot encoding"
   ]
  },
  {
   "cell_type": "code",
   "execution_count": 580,
   "id": "4cccf8dc-477a-4914-af56-a37386bddffc",
   "metadata": {
    "tags": []
   },
   "outputs": [],
   "source": [
    "from sklearn.feature_extraction import DictVectorizer"
   ]
  },
  {
   "cell_type": "code",
   "execution_count": 581,
   "id": "a4ff9e1b-f3f4-47a5-9c5a-0e9b0ef0fef5",
   "metadata": {
    "tags": []
   },
   "outputs": [],
   "source": [
    "dv = DictVectorizer(sparse=False)"
   ]
  },
  {
   "cell_type": "code",
   "execution_count": 582,
   "id": "73462f49-4f3e-49c4-a7d6-3a49c7a24628",
   "metadata": {
    "tags": []
   },
   "outputs": [],
   "source": [
    "dicts = df_train[categorical_cols + numerical_cols].to_dict(orient=\"records\")"
   ]
  },
  {
   "cell_type": "code",
   "execution_count": 583,
   "id": "ad2dac7b-7f66-40c9-a55e-4243fe3328b5",
   "metadata": {
    "tags": []
   },
   "outputs": [
    {
     "data": {
      "text/html": [
       "<style>#sk-container-id-10 {color: black;background-color: white;}#sk-container-id-10 pre{padding: 0;}#sk-container-id-10 div.sk-toggleable {background-color: white;}#sk-container-id-10 label.sk-toggleable__label {cursor: pointer;display: block;width: 100%;margin-bottom: 0;padding: 0.3em;box-sizing: border-box;text-align: center;}#sk-container-id-10 label.sk-toggleable__label-arrow:before {content: \"▸\";float: left;margin-right: 0.25em;color: #696969;}#sk-container-id-10 label.sk-toggleable__label-arrow:hover:before {color: black;}#sk-container-id-10 div.sk-estimator:hover label.sk-toggleable__label-arrow:before {color: black;}#sk-container-id-10 div.sk-toggleable__content {max-height: 0;max-width: 0;overflow: hidden;text-align: left;background-color: #f0f8ff;}#sk-container-id-10 div.sk-toggleable__content pre {margin: 0.2em;color: black;border-radius: 0.25em;background-color: #f0f8ff;}#sk-container-id-10 input.sk-toggleable__control:checked~div.sk-toggleable__content {max-height: 200px;max-width: 100%;overflow: auto;}#sk-container-id-10 input.sk-toggleable__control:checked~label.sk-toggleable__label-arrow:before {content: \"▾\";}#sk-container-id-10 div.sk-estimator input.sk-toggleable__control:checked~label.sk-toggleable__label {background-color: #d4ebff;}#sk-container-id-10 div.sk-label input.sk-toggleable__control:checked~label.sk-toggleable__label {background-color: #d4ebff;}#sk-container-id-10 input.sk-hidden--visually {border: 0;clip: rect(1px 1px 1px 1px);clip: rect(1px, 1px, 1px, 1px);height: 1px;margin: -1px;overflow: hidden;padding: 0;position: absolute;width: 1px;}#sk-container-id-10 div.sk-estimator {font-family: monospace;background-color: #f0f8ff;border: 1px dotted black;border-radius: 0.25em;box-sizing: border-box;margin-bottom: 0.5em;}#sk-container-id-10 div.sk-estimator:hover {background-color: #d4ebff;}#sk-container-id-10 div.sk-parallel-item::after {content: \"\";width: 100%;border-bottom: 1px solid gray;flex-grow: 1;}#sk-container-id-10 div.sk-label:hover label.sk-toggleable__label {background-color: #d4ebff;}#sk-container-id-10 div.sk-serial::before {content: \"\";position: absolute;border-left: 1px solid gray;box-sizing: border-box;top: 0;bottom: 0;left: 50%;z-index: 0;}#sk-container-id-10 div.sk-serial {display: flex;flex-direction: column;align-items: center;background-color: white;padding-right: 0.2em;padding-left: 0.2em;position: relative;}#sk-container-id-10 div.sk-item {position: relative;z-index: 1;}#sk-container-id-10 div.sk-parallel {display: flex;align-items: stretch;justify-content: center;background-color: white;position: relative;}#sk-container-id-10 div.sk-item::before, #sk-container-id-10 div.sk-parallel-item::before {content: \"\";position: absolute;border-left: 1px solid gray;box-sizing: border-box;top: 0;bottom: 0;left: 50%;z-index: -1;}#sk-container-id-10 div.sk-parallel-item {display: flex;flex-direction: column;z-index: 1;position: relative;background-color: white;}#sk-container-id-10 div.sk-parallel-item:first-child::after {align-self: flex-end;width: 50%;}#sk-container-id-10 div.sk-parallel-item:last-child::after {align-self: flex-start;width: 50%;}#sk-container-id-10 div.sk-parallel-item:only-child::after {width: 0;}#sk-container-id-10 div.sk-dashed-wrapped {border: 1px dashed gray;margin: 0 0.4em 0.5em 0.4em;box-sizing: border-box;padding-bottom: 0.4em;background-color: white;}#sk-container-id-10 div.sk-label label {font-family: monospace;font-weight: bold;display: inline-block;line-height: 1.2em;}#sk-container-id-10 div.sk-label-container {text-align: center;}#sk-container-id-10 div.sk-container {/* jupyter's `normalize.less` sets `[hidden] { display: none; }` but bootstrap.min.css set `[hidden] { display: none !important; }` so we also need the `!important` here to be able to override the default hidden behavior on the sphinx rendered scikit-learn.org. See: https://github.com/scikit-learn/scikit-learn/issues/21755 */display: inline-block !important;position: relative;}#sk-container-id-10 div.sk-text-repr-fallback {display: none;}</style><div id=\"sk-container-id-10\" class=\"sk-top-container\"><div class=\"sk-text-repr-fallback\"><pre>DictVectorizer(sparse=False)</pre><b>In a Jupyter environment, please rerun this cell to show the HTML representation or trust the notebook. <br />On GitHub, the HTML representation is unable to render, please try loading this page with nbviewer.org.</b></div><div class=\"sk-container\" hidden><div class=\"sk-item\"><div class=\"sk-estimator sk-toggleable\"><input class=\"sk-toggleable__control sk-hidden--visually\" id=\"sk-estimator-id-10\" type=\"checkbox\" checked><label for=\"sk-estimator-id-10\" class=\"sk-toggleable__label sk-toggleable__label-arrow\">DictVectorizer</label><div class=\"sk-toggleable__content\"><pre>DictVectorizer(sparse=False)</pre></div></div></div></div></div>"
      ],
      "text/plain": [
       "DictVectorizer(sparse=False)"
      ]
     },
     "execution_count": 583,
     "metadata": {},
     "output_type": "execute_result"
    }
   ],
   "source": [
    "dv.fit(dicts)"
   ]
  },
  {
   "cell_type": "code",
   "execution_count": 584,
   "id": "824cbf95-6de0-477b-a3c7-c19eb8794461",
   "metadata": {
    "tags": []
   },
   "outputs": [],
   "source": [
    "X_train = dv.transform(dicts)"
   ]
  },
  {
   "cell_type": "code",
   "execution_count": 585,
   "id": "83f50008-7c0b-4271-bb49-ed51824fc00a",
   "metadata": {
    "tags": []
   },
   "outputs": [
    {
     "data": {
      "text/plain": [
       "array(['contract=month-to-month', 'contract=one_year',\n",
       "       'contract=two_year', 'dependents=no', 'dependents=yes',\n",
       "       'deviceprotection=no', 'deviceprotection=no_internet_service',\n",
       "       'deviceprotection=yes', 'gender=female', 'gender=male',\n",
       "       'internetservice=dsl', 'internetservice=fiber_optic',\n",
       "       'internetservice=no', 'monthlycharges', 'multiplelines=no',\n",
       "       'multiplelines=no_phone_service', 'multiplelines=yes',\n",
       "       'onlinebackup=no', 'onlinebackup=no_internet_service',\n",
       "       'onlinebackup=yes', 'onlinesecurity=no',\n",
       "       'onlinesecurity=no_internet_service', 'onlinesecurity=yes',\n",
       "       'paperlessbilling=no', 'paperlessbilling=yes', 'partner=no',\n",
       "       'partner=yes', 'paymentmethod=bank_transfer_(automatic)',\n",
       "       'paymentmethod=credit_card_(automatic)',\n",
       "       'paymentmethod=electronic_check', 'paymentmethod=mailed_check',\n",
       "       'phoneservice=no', 'phoneservice=yes', 'seniorcitizen',\n",
       "       'streamingmovies=no', 'streamingmovies=no_internet_service',\n",
       "       'streamingmovies=yes', 'streamingtv=no',\n",
       "       'streamingtv=no_internet_service', 'streamingtv=yes',\n",
       "       'techsupport=no', 'techsupport=no_internet_service',\n",
       "       'techsupport=yes', 'tenure', 'totalcharges'], dtype=object)"
      ]
     },
     "execution_count": 585,
     "metadata": {},
     "output_type": "execute_result"
    }
   ],
   "source": [
    "dv.get_feature_names_out()"
   ]
  },
  {
   "cell_type": "code",
   "execution_count": 586,
   "id": "6896304d-7967-42ef-bb60-1381c36c3ab5",
   "metadata": {
    "tags": []
   },
   "outputs": [],
   "source": [
    "val_dicts = df_val[categorical_cols+ numerical_cols].to_dict(orient=\"records\")"
   ]
  },
  {
   "cell_type": "code",
   "execution_count": 587,
   "id": "6d6b01aa-5784-4b18-90b7-108324ab9b4f",
   "metadata": {
    "tags": []
   },
   "outputs": [],
   "source": [
    "X_val = dv.transform(val_dicts)"
   ]
  },
  {
   "cell_type": "code",
   "execution_count": 588,
   "id": "e83c8530-9577-4a91-b4b0-da831de88c73",
   "metadata": {
    "tags": []
   },
   "outputs": [
    {
     "data": {
      "text/plain": [
       "array([[0.0000e+00, 0.0000e+00, 1.0000e+00, ..., 1.0000e+00, 7.1000e+01,\n",
       "        4.9734e+03],\n",
       "       [1.0000e+00, 0.0000e+00, 0.0000e+00, ..., 0.0000e+00, 1.0000e+00,\n",
       "        2.0750e+01],\n",
       "       [1.0000e+00, 0.0000e+00, 0.0000e+00, ..., 0.0000e+00, 1.0000e+00,\n",
       "        2.0350e+01],\n",
       "       ...,\n",
       "       [1.0000e+00, 0.0000e+00, 0.0000e+00, ..., 1.0000e+00, 1.8000e+01,\n",
       "        1.0581e+03],\n",
       "       [1.0000e+00, 0.0000e+00, 0.0000e+00, ..., 0.0000e+00, 1.0000e+00,\n",
       "        9.3300e+01],\n",
       "       [1.0000e+00, 0.0000e+00, 0.0000e+00, ..., 0.0000e+00, 3.0000e+00,\n",
       "        2.9285e+02]])"
      ]
     },
     "execution_count": 588,
     "metadata": {},
     "output_type": "execute_result"
    }
   ],
   "source": [
    "X_val"
   ]
  },
  {
   "cell_type": "markdown",
   "id": "be7a53ab-3fd9-416a-a8f9-58129b524aa6",
   "metadata": {},
   "source": [
    "## Logistic regression "
   ]
  },
  {
   "cell_type": "code",
   "execution_count": 589,
   "id": "16753be4-9302-42e2-be76-056380741d9b",
   "metadata": {
    "tags": []
   },
   "outputs": [],
   "source": [
    "def sigmoid(z):\n",
    "    return 1/(1 + np.exp(-z))"
   ]
  },
  {
   "cell_type": "code",
   "execution_count": 590,
   "id": "60098b46-80b7-47e9-8779-e0f85c910666",
   "metadata": {
    "collapsed": true,
    "jupyter": {
     "outputs_hidden": true
    },
    "tags": []
   },
   "outputs": [
    {
     "data": {
      "text/plain": [
       "array([-7.        , -6.85858586, -6.71717172, -6.57575758, -6.43434343,\n",
       "       -6.29292929, -6.15151515, -6.01010101, -5.86868687, -5.72727273,\n",
       "       -5.58585859, -5.44444444, -5.3030303 , -5.16161616, -5.02020202,\n",
       "       -4.87878788, -4.73737374, -4.5959596 , -4.45454545, -4.31313131,\n",
       "       -4.17171717, -4.03030303, -3.88888889, -3.74747475, -3.60606061,\n",
       "       -3.46464646, -3.32323232, -3.18181818, -3.04040404, -2.8989899 ,\n",
       "       -2.75757576, -2.61616162, -2.47474747, -2.33333333, -2.19191919,\n",
       "       -2.05050505, -1.90909091, -1.76767677, -1.62626263, -1.48484848,\n",
       "       -1.34343434, -1.2020202 , -1.06060606, -0.91919192, -0.77777778,\n",
       "       -0.63636364, -0.49494949, -0.35353535, -0.21212121, -0.07070707,\n",
       "        0.07070707,  0.21212121,  0.35353535,  0.49494949,  0.63636364,\n",
       "        0.77777778,  0.91919192,  1.06060606,  1.2020202 ,  1.34343434,\n",
       "        1.48484848,  1.62626263,  1.76767677,  1.90909091,  2.05050505,\n",
       "        2.19191919,  2.33333333,  2.47474747,  2.61616162,  2.75757576,\n",
       "        2.8989899 ,  3.04040404,  3.18181818,  3.32323232,  3.46464646,\n",
       "        3.60606061,  3.74747475,  3.88888889,  4.03030303,  4.17171717,\n",
       "        4.31313131,  4.45454545,  4.5959596 ,  4.73737374,  4.87878788,\n",
       "        5.02020202,  5.16161616,  5.3030303 ,  5.44444444,  5.58585859,\n",
       "        5.72727273,  5.86868687,  6.01010101,  6.15151515,  6.29292929,\n",
       "        6.43434343,  6.57575758,  6.71717172,  6.85858586,  7.        ])"
      ]
     },
     "execution_count": 590,
     "metadata": {},
     "output_type": "execute_result"
    }
   ],
   "source": [
    "z = np.linspace(-7,7,100)\n",
    "z"
   ]
  },
  {
   "cell_type": "code",
   "execution_count": 591,
   "id": "dbc51c8c-03cb-4cc0-946c-6e29e13f7067",
   "metadata": {
    "tags": []
   },
   "outputs": [],
   "source": [
    "import matplotlib.pyplot as plt\n"
   ]
  },
  {
   "cell_type": "code",
   "execution_count": 592,
   "id": "5edca393-0081-4ec8-8ba9-6e525ad0980f",
   "metadata": {
    "tags": []
   },
   "outputs": [
    {
     "data": {
      "text/plain": [
       "[<matplotlib.lines.Line2D at 0x29640d9a0>]"
      ]
     },
     "execution_count": 592,
     "metadata": {},
     "output_type": "execute_result"
    },
    {
     "data": {
      "image/png": "[encoded data removed]",
      "text/plain": [
       "<Figure size 640x480 with 1 Axes>"
      ]
     },
     "metadata": {},
     "output_type": "display_data"
    }
   ],
   "source": [
    "plt.plot(z, sigmoid(z))"
   ]
  },
  {
   "cell_type": "markdown",
   "id": "accb3b4e-87ab-4217-ab1e-0b770f82cb4f",
   "metadata": {},
   "source": [
    "### Using the library "
   ]
  },
  {
   "cell_type": "code",
   "execution_count": 593,
   "id": "bc92ed91-a5a6-45ee-b699-20379bc890bb",
   "metadata": {
    "tags": []
   },
   "outputs": [],
   "source": [
    "from sklearn.linear_model import LogisticRegression"
   ]
  },
  {
   "cell_type": "code",
   "execution_count": 594,
   "id": "1dc0025b-0d88-4037-805f-cc15d7c32449",
   "metadata": {
    "tags": []
   },
   "outputs": [],
   "source": [
    "model = LogisticRegression()"
   ]
  },
  {
   "cell_type": "code",
   "execution_count": 595,
   "id": "c9d72d6f-c199-43d6-b761-8e0fff5a8599",
   "metadata": {
    "tags": []
   },
   "outputs": [
    {
     "data": {
      "text/html": [
       "<style>#sk-container-id-11 {color: black;background-color: white;}#sk-container-id-11 pre{padding: 0;}#sk-container-id-11 div.sk-toggleable {background-color: white;}#sk-container-id-11 label.sk-toggleable__label {cursor: pointer;display: block;width: 100%;margin-bottom: 0;padding: 0.3em;box-sizing: border-box;text-align: center;}#sk-container-id-11 label.sk-toggleable__label-arrow:before {content: \"▸\";float: left;margin-right: 0.25em;color: #696969;}#sk-container-id-11 label.sk-toggleable__label-arrow:hover:before {color: black;}#sk-container-id-11 div.sk-estimator:hover label.sk-toggleable__label-arrow:before {color: black;}#sk-container-id-11 div.sk-toggleable__content {max-height: 0;max-width: 0;overflow: hidden;text-align: left;background-color: #f0f8ff;}#sk-container-id-11 div.sk-toggleable__content pre {margin: 0.2em;color: black;border-radius: 0.25em;background-color: #f0f8ff;}#sk-container-id-11 input.sk-toggleable__control:checked~div.sk-toggleable__content {max-height: 200px;max-width: 100%;overflow: auto;}#sk-container-id-11 input.sk-toggleable__control:checked~label.sk-toggleable__label-arrow:before {content: \"▾\";}#sk-container-id-11 div.sk-estimator input.sk-toggleable__control:checked~label.sk-toggleable__label {background-color: #d4ebff;}#sk-container-id-11 div.sk-label input.sk-toggleable__control:checked~label.sk-toggleable__label {background-color: #d4ebff;}#sk-container-id-11 input.sk-hidden--visually {border: 0;clip: rect(1px 1px 1px 1px);clip: rect(1px, 1px, 1px, 1px);height: 1px;margin: -1px;overflow: hidden;padding: 0;position: absolute;width: 1px;}#sk-container-id-11 div.sk-estimator {font-family: monospace;background-color: #f0f8ff;border: 1px dotted black;border-radius: 0.25em;box-sizing: border-box;margin-bottom: 0.5em;}#sk-container-id-11 div.sk-estimator:hover {background-color: #d4ebff;}#sk-container-id-11 div.sk-parallel-item::after {content: \"\";width: 100%;border-bottom: 1px solid gray;flex-grow: 1;}#sk-container-id-11 div.sk-label:hover label.sk-toggleable__label {background-color: #d4ebff;}#sk-container-id-11 div.sk-serial::before {content: \"\";position: absolute;border-left: 1px solid gray;box-sizing: border-box;top: 0;bottom: 0;left: 50%;z-index: 0;}#sk-container-id-11 div.sk-serial {display: flex;flex-direction: column;align-items: center;background-color: white;padding-right: 0.2em;padding-left: 0.2em;position: relative;}#sk-container-id-11 div.sk-item {position: relative;z-index: 1;}#sk-container-id-11 div.sk-parallel {display: flex;align-items: stretch;justify-content: center;background-color: white;position: relative;}#sk-container-id-11 div.sk-item::before, #sk-container-id-11 div.sk-parallel-item::before {content: \"\";position: absolute;border-left: 1px solid gray;box-sizing: border-box;top: 0;bottom: 0;left: 50%;z-index: -1;}#sk-container-id-11 div.sk-parallel-item {display: flex;flex-direction: column;z-index: 1;position: relative;background-color: white;}#sk-container-id-11 div.sk-parallel-item:first-child::after {align-self: flex-end;width: 50%;}#sk-container-id-11 div.sk-parallel-item:last-child::after {align-self: flex-start;width: 50%;}#sk-container-id-11 div.sk-parallel-item:only-child::after {width: 0;}#sk-container-id-11 div.sk-dashed-wrapped {border: 1px dashed gray;margin: 0 0.4em 0.5em 0.4em;box-sizing: border-box;padding-bottom: 0.4em;background-color: white;}#sk-container-id-11 div.sk-label label {font-family: monospace;font-weight: bold;display: inline-block;line-height: 1.2em;}#sk-container-id-11 div.sk-label-container {text-align: center;}#sk-container-id-11 div.sk-container {/* jupyter's `normalize.less` sets `[hidden] { display: none; }` but bootstrap.min.css set `[hidden] { display: none !important; }` so we also need the `!important` here to be able to override the default hidden behavior on the sphinx rendered scikit-learn.org. See: https://github.com/scikit-learn/scikit-learn/issues/21755 */display: inline-block !important;position: relative;}#sk-container-id-11 div.sk-text-repr-fallback {display: none;}</style><div id=\"sk-container-id-11\" class=\"sk-top-container\"><div class=\"sk-text-repr-fallback\"><pre>LogisticRegression()</pre><b>In a Jupyter environment, please rerun this cell to show the HTML representation or trust the notebook. <br />On GitHub, the HTML representation is unable to render, please try loading this page with nbviewer.org.</b></div><div class=\"sk-container\" hidden><div class=\"sk-item\"><div class=\"sk-estimator sk-toggleable\"><input class=\"sk-toggleable__control sk-hidden--visually\" id=\"sk-estimator-id-11\" type=\"checkbox\" checked><label for=\"sk-estimator-id-11\" class=\"sk-toggleable__label sk-toggleable__label-arrow\">LogisticRegression</label><div class=\"sk-toggleable__content\"><pre>LogisticRegression()</pre></div></div></div></div></div>"
      ],
      "text/plain": [
       "LogisticRegression()"
      ]
     },
     "execution_count": 595,
     "metadata": {},
     "output_type": "execute_result"
    }
   ],
   "source": [
    "model.fit(X_train, y_train)"
   ]
  },
  {
   "cell_type": "code",
   "execution_count": 596,
   "id": "f5ce9b1e-a61f-4d9d-b3a7-d6d004ebe266",
   "metadata": {
    "tags": []
   },
   "outputs": [
    {
     "data": {
      "text/plain": [
       "-0.10903521054753158"
      ]
     },
     "execution_count": 596,
     "metadata": {},
     "output_type": "execute_result"
    }
   ],
   "source": [
    "model.intercept_[0]"
   ]
  },
  {
   "cell_type": "code",
   "execution_count": 597,
   "id": "4db6735c-b021-4ca8-be15-920da83d1c90",
   "metadata": {
    "tags": []
   },
   "outputs": [
    {
     "data": {
      "text/plain": [
       "array([ 0.475, -0.175, -0.408, -0.03 , -0.078,  0.063, -0.089, -0.081,\n",
       "       -0.034, -0.073, -0.335,  0.316, -0.089,  0.004, -0.258,  0.141,\n",
       "        0.009,  0.063, -0.089, -0.081,  0.266, -0.089, -0.284, -0.231,\n",
       "        0.124, -0.166,  0.058, -0.087, -0.032,  0.07 , -0.059,  0.141,\n",
       "       -0.249,  0.215, -0.12 , -0.089,  0.102, -0.071, -0.089,  0.052,\n",
       "        0.213, -0.089, -0.232, -0.07 ,  0.   ])"
      ]
     },
     "execution_count": 597,
     "metadata": {},
     "output_type": "execute_result"
    }
   ],
   "source": [
    "model.coef_[0].round(3)"
   ]
  },
  {
   "cell_type": "code",
   "execution_count": 598,
   "id": "437c5ae3-2951-4fe3-b26b-d2df471952c5",
   "metadata": {
    "tags": []
   },
   "outputs": [],
   "source": [
    "y_pred = model.predict_proba(X_val)"
   ]
  },
  {
   "cell_type": "code",
   "execution_count": 599,
   "id": "66c0424a-676a-45bb-8200-ef16ffcac5ac",
   "metadata": {
    "tags": []
   },
   "outputs": [],
   "source": [
    "churn_decision =  y_pred[:,1] >= 0.5"
   ]
  },
  {
   "cell_type": "code",
   "execution_count": 600,
   "id": "064d1dca-b519-419e-a7b9-18917cdfe939",
   "metadata": {
    "tags": []
   },
   "outputs": [
    {
     "data": {
      "text/plain": [
       "2504    8433-wxgna\n",
       "4597    3440-jpscl\n",
       "2343    2637-fkfsy\n",
       "5591    7228-omtpn\n",
       "4482    6711-fldfb\n",
       "           ...    \n",
       "2611    5976-jcjrh\n",
       "4211    2034-cgrhz\n",
       "3999    5276-kqwhg\n",
       "6240    6521-yytyi\n",
       "5282    3049-solay\n",
       "Name: customerid, Length: 311, dtype: object"
      ]
     },
     "execution_count": 600,
     "metadata": {},
     "output_type": "execute_result"
    }
   ],
   "source": [
    "df_val[churn_decision].customerid # target them with promotional emails"
   ]
  },
  {
   "cell_type": "code",
   "execution_count": 601,
   "id": "2d15c041-7d9f-4540-bef7-3ab87bea2684",
   "metadata": {
    "tags": []
   },
   "outputs": [
    {
     "data": {
      "text/plain": [
       "0.8034066713981547"
      ]
     },
     "execution_count": 601,
     "metadata": {},
     "output_type": "execute_result"
    }
   ],
   "source": [
    "(churn_decision == y_val).mean() #This is the accuracy of the model"
   ]
  },
  {
   "cell_type": "markdown",
   "id": "dfc4b675-1ade-494d-9ce5-17b67694d0e8",
   "metadata": {},
   "source": [
    "## Model Interpetation"
   ]
  },
  {
   "cell_type": "code",
   "execution_count": 602,
   "id": "2a68e421-2f10-446f-8ae3-76fad8911a82",
   "metadata": {
    "tags": []
   },
   "outputs": [
    {
     "data": {
      "text/plain": [
       "{'contract=month-to-month': 0.475,\n",
       " 'contract=one_year': -0.175,\n",
       " 'contract=two_year': -0.408,\n",
       " 'dependents=no': -0.03,\n",
       " 'dependents=yes': -0.078,\n",
       " 'deviceprotection=no': 0.063,\n",
       " 'deviceprotection=no_internet_service': -0.089,\n",
       " 'deviceprotection=yes': -0.081,\n",
       " 'gender=female': -0.034,\n",
       " 'gender=male': -0.073,\n",
       " 'internetservice=dsl': -0.335,\n",
       " 'internetservice=fiber_optic': 0.316,\n",
       " 'internetservice=no': -0.089,\n",
       " 'monthlycharges': 0.004,\n",
       " 'multiplelines=no': -0.258,\n",
       " 'multiplelines=no_phone_service': 0.141,\n",
       " 'multiplelines=yes': 0.009,\n",
       " 'onlinebackup=no': 0.063,\n",
       " 'onlinebackup=no_internet_service': -0.089,\n",
       " 'onlinebackup=yes': -0.081,\n",
       " 'onlinesecurity=no': 0.266,\n",
       " 'onlinesecurity=no_internet_service': -0.089,\n",
       " 'onlinesecurity=yes': -0.284,\n",
       " 'paperlessbilling=no': -0.231,\n",
       " 'paperlessbilling=yes': 0.124,\n",
       " 'partner=no': -0.166,\n",
       " 'partner=yes': 0.058,\n",
       " 'paymentmethod=bank_transfer_(automatic)': -0.087,\n",
       " 'paymentmethod=credit_card_(automatic)': -0.032,\n",
       " 'paymentmethod=electronic_check': 0.07,\n",
       " 'paymentmethod=mailed_check': -0.059,\n",
       " 'phoneservice=no': 0.141,\n",
       " 'phoneservice=yes': -0.249,\n",
       " 'seniorcitizen': 0.215,\n",
       " 'streamingmovies=no': -0.12,\n",
       " 'streamingmovies=no_internet_service': -0.089,\n",
       " 'streamingmovies=yes': 0.102,\n",
       " 'streamingtv=no': -0.071,\n",
       " 'streamingtv=no_internet_service': -0.089,\n",
       " 'streamingtv=yes': 0.052,\n",
       " 'techsupport=no': 0.213,\n",
       " 'techsupport=no_internet_service': -0.089,\n",
       " 'techsupport=yes': -0.232,\n",
       " 'tenure': -0.07,\n",
       " 'totalcharges': 0.0}"
      ]
     },
     "execution_count": 602,
     "metadata": {},
     "output_type": "execute_result"
    }
   ],
   "source": [
    "dict(zip(dv.get_feature_names_out(), model.coef_[0].round(3)))"
   ]
  },
  {
   "cell_type": "markdown",
   "id": "d04af2a6-7120-4145-a4a3-944e2802c745",
   "metadata": {},
   "source": [
    "## Using the model"
   ]
  },
  {
   "cell_type": "code",
   "execution_count": 603,
   "id": "bb368b09-a2a0-412e-b064-e18d529aef33",
   "metadata": {
    "tags": []
   },
   "outputs": [],
   "source": [
    "dicts_full_train = df_train_full[categorical_cols+ numerical_cols].to_dict(orient='records')"
   ]
  },
  {
   "cell_type": "code",
   "execution_count": 604,
   "id": "46f227b2-08a5-4eda-98bb-83f50fdb7a4a",
   "metadata": {
    "tags": []
   },
   "outputs": [],
   "source": [
    "dv = DictVectorizer(sparse=False)"
   ]
  },
  {
   "cell_type": "code",
   "execution_count": 605,
   "id": "8aa9546c-636a-4656-88d5-9c7c2fffdcba",
   "metadata": {
    "tags": []
   },
   "outputs": [],
   "source": [
    "X_full_train = dv.fit_transform(dicts_full_train)"
   ]
  },
  {
   "cell_type": "code",
   "execution_count": 606,
   "id": "728d6115-8da1-4552-8563-958d454bfa77",
   "metadata": {
    "tags": []
   },
   "outputs": [],
   "source": [
    "y_full_train = df_train_full.churn.values"
   ]
  },
  {
   "cell_type": "code",
   "execution_count": 607,
   "id": "c166ca90-d148-4cf8-9e84-5c42e6482de1",
   "metadata": {
    "tags": []
   },
   "outputs": [
    {
     "data": {
      "text/html": [
       "<style>#sk-container-id-12 {color: black;background-color: white;}#sk-container-id-12 pre{padding: 0;}#sk-container-id-12 div.sk-toggleable {background-color: white;}#sk-container-id-12 label.sk-toggleable__label {cursor: pointer;display: block;width: 100%;margin-bottom: 0;padding: 0.3em;box-sizing: border-box;text-align: center;}#sk-container-id-12 label.sk-toggleable__label-arrow:before {content: \"▸\";float: left;margin-right: 0.25em;color: #696969;}#sk-container-id-12 label.sk-toggleable__label-arrow:hover:before {color: black;}#sk-container-id-12 div.sk-estimator:hover label.sk-toggleable__label-arrow:before {color: black;}#sk-container-id-12 div.sk-toggleable__content {max-height: 0;max-width: 0;overflow: hidden;text-align: left;background-color: #f0f8ff;}#sk-container-id-12 div.sk-toggleable__content pre {margin: 0.2em;color: black;border-radius: 0.25em;background-color: #f0f8ff;}#sk-container-id-12 input.sk-toggleable__control:checked~div.sk-toggleable__content {max-height: 200px;max-width: 100%;overflow: auto;}#sk-container-id-12 input.sk-toggleable__control:checked~label.sk-toggleable__label-arrow:before {content: \"▾\";}#sk-container-id-12 div.sk-estimator input.sk-toggleable__control:checked~label.sk-toggleable__label {background-color: #d4ebff;}#sk-container-id-12 div.sk-label input.sk-toggleable__control:checked~label.sk-toggleable__label {background-color: #d4ebff;}#sk-container-id-12 input.sk-hidden--visually {border: 0;clip: rect(1px 1px 1px 1px);clip: rect(1px, 1px, 1px, 1px);height: 1px;margin: -1px;overflow: hidden;padding: 0;position: absolute;width: 1px;}#sk-container-id-12 div.sk-estimator {font-family: monospace;background-color: #f0f8ff;border: 1px dotted black;border-radius: 0.25em;box-sizing: border-box;margin-bottom: 0.5em;}#sk-container-id-12 div.sk-estimator:hover {background-color: #d4ebff;}#sk-container-id-12 div.sk-parallel-item::after {content: \"\";width: 100%;border-bottom: 1px solid gray;flex-grow: 1;}#sk-container-id-12 div.sk-label:hover label.sk-toggleable__label {background-color: #d4ebff;}#sk-container-id-12 div.sk-serial::before {content: \"\";position: absolute;border-left: 1px solid gray;box-sizing: border-box;top: 0;bottom: 0;left: 50%;z-index: 0;}#sk-container-id-12 div.sk-serial {display: flex;flex-direction: column;align-items: center;background-color: white;padding-right: 0.2em;padding-left: 0.2em;position: relative;}#sk-container-id-12 div.sk-item {position: relative;z-index: 1;}#sk-container-id-12 div.sk-parallel {display: flex;align-items: stretch;justify-content: center;background-color: white;position: relative;}#sk-container-id-12 div.sk-item::before, #sk-container-id-12 div.sk-parallel-item::before {content: \"\";position: absolute;border-left: 1px solid gray;box-sizing: border-box;top: 0;bottom: 0;left: 50%;z-index: -1;}#sk-container-id-12 div.sk-parallel-item {display: flex;flex-direction: column;z-index: 1;position: relative;background-color: white;}#sk-container-id-12 div.sk-parallel-item:first-child::after {align-self: flex-end;width: 50%;}#sk-container-id-12 div.sk-parallel-item:last-child::after {align-self: flex-start;width: 50%;}#sk-container-id-12 div.sk-parallel-item:only-child::after {width: 0;}#sk-container-id-12 div.sk-dashed-wrapped {border: 1px dashed gray;margin: 0 0.4em 0.5em 0.4em;box-sizing: border-box;padding-bottom: 0.4em;background-color: white;}#sk-container-id-12 div.sk-label label {font-family: monospace;font-weight: bold;display: inline-block;line-height: 1.2em;}#sk-container-id-12 div.sk-label-container {text-align: center;}#sk-container-id-12 div.sk-container {/* jupyter's `normalize.less` sets `[hidden] { display: none; }` but bootstrap.min.css set `[hidden] { display: none !important; }` so we also need the `!important` here to be able to override the default hidden behavior on the sphinx rendered scikit-learn.org. See: https://github.com/scikit-learn/scikit-learn/issues/21755 */display: inline-block !important;position: relative;}#sk-container-id-12 div.sk-text-repr-fallback {display: none;}</style><div id=\"sk-container-id-12\" class=\"sk-top-container\"><div class=\"sk-text-repr-fallback\"><pre>LogisticRegression()</pre><b>In a Jupyter environment, please rerun this cell to show the HTML representation or trust the notebook. <br />On GitHub, the HTML representation is unable to render, please try loading this page with nbviewer.org.</b></div><div class=\"sk-container\" hidden><div class=\"sk-item\"><div class=\"sk-estimator sk-toggleable\"><input class=\"sk-toggleable__control sk-hidden--visually\" id=\"sk-estimator-id-12\" type=\"checkbox\" checked><label for=\"sk-estimator-id-12\" class=\"sk-toggleable__label sk-toggleable__label-arrow\">LogisticRegression</label><div class=\"sk-toggleable__content\"><pre>LogisticRegression()</pre></div></div></div></div></div>"
      ],
      "text/plain": [
       "LogisticRegression()"
      ]
     },
     "execution_count": 607,
     "metadata": {},
     "output_type": "execute_result"
    }
   ],
   "source": [
    "model = LogisticRegression()\n",
    "model.fit(X_full_train, y_full_train)"
   ]
  },
  {
   "cell_type": "code",
   "execution_count": 608,
   "id": "66b5f6d8-5026-4ba2-bfef-4bc674d0a9fe",
   "metadata": {
    "tags": []
   },
   "outputs": [],
   "source": [
    "dicts_test = df_test[categorical_cols + numerical_cols].to_dict(orient='records')"
   ]
  },
  {
   "cell_type": "code",
   "execution_count": 609,
   "id": "d985abdd-c2fe-4b3f-81b1-30df7dc19f8c",
   "metadata": {
    "tags": []
   },
   "outputs": [],
   "source": [
    "X_test = dv.fit_transform(dicts_test)"
   ]
  },
  {
   "cell_type": "code",
   "execution_count": 610,
   "id": "0a1f8859-89e7-4cad-b7f4-7de83bcd361e",
   "metadata": {
    "tags": []
   },
   "outputs": [],
   "source": [
    "y_test = df_test.churn,"
   ]
  },
  {
   "cell_type": "code",
   "execution_count": 611,
   "id": "3e93f750-e7de-41ff-a388-1d78b33b324a",
   "metadata": {
    "tags": []
   },
   "outputs": [],
   "source": [
    "y_prob = model.predict_proba(X_test)[:, 1]"
   ]
  },
  {
   "cell_type": "code",
   "execution_count": 612,
   "id": "1f9d01a7-8cf9-48f8-ae21-b48d523c794f",
   "metadata": {
    "tags": []
   },
   "outputs": [],
   "source": [
    "y_pred = (y_prob >= 0.5 )"
   ]
  },
  {
   "cell_type": "code",
   "execution_count": 613,
   "id": "195d7397-20f0-4041-8f0a-fab80e123007",
   "metadata": {
    "tags": []
   },
   "outputs": [
    {
     "data": {
      "text/plain": [
       "0.815471965933286"
      ]
     },
     "execution_count": 613,
     "metadata": {},
     "output_type": "execute_result"
    }
   ],
   "source": [
    "(y_pred == y_test).mean() #this many results are good"
   ]
  },
  {
   "cell_type": "markdown",
   "id": "5381c9fe-9e13-44a7-8b94-3d091ea72764",
   "metadata": {},
   "source": [
    "## Using the model "
   ]
  },
  {
   "cell_type": "code",
   "execution_count": 614,
   "id": "f84552f4-d59a-4560-a5cb-d3363fa72322",
   "metadata": {
    "tags": []
   },
   "outputs": [
    {
     "data": {
      "text/plain": [
       "{'customerid': '0111-klbqg',\n",
       " 'gender': 'male',\n",
       " 'seniorcitizen': 1,\n",
       " 'partner': 'yes',\n",
       " 'dependents': 'yes',\n",
       " 'tenure': 32,\n",
       " 'phoneservice': 'yes',\n",
       " 'multiplelines': 'no',\n",
       " 'internetservice': 'fiber_optic',\n",
       " 'onlinesecurity': 'no',\n",
       " 'onlinebackup': 'yes',\n",
       " 'deviceprotection': 'no',\n",
       " 'techsupport': 'no',\n",
       " 'streamingtv': 'yes',\n",
       " 'streamingmovies': 'yes',\n",
       " 'contract': 'month-to-month',\n",
       " 'paperlessbilling': 'yes',\n",
       " 'paymentmethod': 'mailed_check',\n",
       " 'monthlycharges': 93.95,\n",
       " 'totalcharges': 2861.45}"
      ]
     },
     "execution_count": 614,
     "metadata": {},
     "output_type": "execute_result"
    }
   ],
   "source": [
    "customer = df_test.iloc[10].to_dict()\n",
    "del customer['churn']\n",
    "customer"
   ]
  },
  {
   "cell_type": "code",
   "execution_count": 615,
   "id": "d0a00c45-ccbd-436d-9a28-f1fdfcff85ff",
   "metadata": {
    "tags": []
   },
   "outputs": [],
   "source": [
    "X_customer = dv.transform(customer)"
   ]
  },
  {
   "cell_type": "code",
   "execution_count": 616,
   "id": "c2832bb0-c8ab-4f97-a283-673fc0388c70",
   "metadata": {
    "tags": []
   },
   "outputs": [
    {
     "data": {
      "text/plain": [
       "array([[1.00000e+00, 0.00000e+00, 0.00000e+00, 0.00000e+00, 1.00000e+00,\n",
       "        1.00000e+00, 0.00000e+00, 0.00000e+00, 0.00000e+00, 1.00000e+00,\n",
       "        0.00000e+00, 1.00000e+00, 0.00000e+00, 9.39500e+01, 1.00000e+00,\n",
       "        0.00000e+00, 0.00000e+00, 0.00000e+00, 0.00000e+00, 1.00000e+00,\n",
       "        1.00000e+00, 0.00000e+00, 0.00000e+00, 0.00000e+00, 1.00000e+00,\n",
       "        0.00000e+00, 1.00000e+00, 0.00000e+00, 0.00000e+00, 0.00000e+00,\n",
       "        1.00000e+00, 0.00000e+00, 1.00000e+00, 1.00000e+00, 0.00000e+00,\n",
       "        0.00000e+00, 1.00000e+00, 0.00000e+00, 0.00000e+00, 1.00000e+00,\n",
       "        1.00000e+00, 0.00000e+00, 0.00000e+00, 3.20000e+01, 2.86145e+03]])"
      ]
     },
     "execution_count": 616,
     "metadata": {},
     "output_type": "execute_result"
    }
   ],
   "source": [
    "X_customer"
   ]
  },
  {
   "cell_type": "code",
   "execution_count": 617,
   "id": "b8c5200b-c68d-4fe3-82f5-311503e02ad6",
   "metadata": {
    "tags": []
   },
   "outputs": [
    {
     "data": {
      "text/plain": [
       "0"
      ]
     },
     "execution_count": 617,
     "metadata": {},
     "output_type": "execute_result"
    }
   ],
   "source": [
    "model.predict(X_customer)[0] #so it says this guy won't churn, which is true"
   ]
  },
  {
   "cell_type": "code",
   "execution_count": 618,
   "id": "96484677-f0bb-4bea-9c1d-77f99cae2038",
   "metadata": {
    "tags": []
   },
   "outputs": [
    {
     "data": {
      "text/plain": [
       "0"
      ]
     },
     "execution_count": 618,
     "metadata": {},
     "output_type": "execute_result"
    }
   ],
   "source": [
    "df_test.iloc[10].churn"
   ]
  },
  {
   "cell_type": "code",
   "execution_count": 619,
   "id": "0d4c1876-a2a6-41b1-bf65-e4f2cc2df66f",
   "metadata": {
    "tags": []
   },
   "outputs": [
    {
     "data": {
      "text/plain": [
       "array([0.4056811])"
      ]
     },
     "execution_count": 619,
     "metadata": {},
     "output_type": "execute_result"
    }
   ],
   "source": [
    "model.predict_proba(X_customer)[:,1]"
   ]
  },
  {
   "cell_type": "markdown",
   "id": "f5ad9fc3-b2dd-4711-b1f5-f74387b806e5",
   "metadata": {},
   "source": [
    "# Evaluation Matrix "
   ]
  },
  {
   "cell_type": "markdown",
   "id": "14819550-5adc-415b-9353-a46de8f88516",
   "metadata": {},
   "source": [
    "### 01- Accuracy "
   ]
  },
  {
   "cell_type": "code",
   "execution_count": 620,
   "id": "0b9c16bc-60aa-4bb1-b7b6-30545537414f",
   "metadata": {
    "tags": []
   },
   "outputs": [
    {
     "data": {
      "text/plain": [
       "1409"
      ]
     },
     "execution_count": 620,
     "metadata": {},
     "output_type": "execute_result"
    }
   ],
   "source": [
    "len(y_val)"
   ]
  },
  {
   "cell_type": "code",
   "execution_count": 621,
   "id": "358c0d1d-40f4-41ee-bd88-74c4faa83b8f",
   "metadata": {
    "tags": []
   },
   "outputs": [
    {
     "data": {
      "text/plain": [
       "1132"
      ]
     },
     "execution_count": 621,
     "metadata": {},
     "output_type": "execute_result"
    }
   ],
   "source": [
    "(y_val == churn_decision ).sum()"
   ]
  },
  {
   "cell_type": "code",
   "execution_count": 622,
   "id": "573dcaeb-f769-4cc9-822c-740e950e0885",
   "metadata": {
    "tags": []
   },
   "outputs": [
    {
     "data": {
      "text/plain": [
       "0.8034066713981547"
      ]
     },
     "execution_count": 622,
     "metadata": {},
     "output_type": "execute_result"
    }
   ],
   "source": [
    "1132/1409"
   ]
  },
  {
   "cell_type": "code",
   "execution_count": 623,
   "id": "5fd62002-12ea-4368-baa2-b0146ac4fbf5",
   "metadata": {
    "tags": []
   },
   "outputs": [
    {
     "data": {
      "text/plain": [
       "0.8034066713981547"
      ]
     },
     "execution_count": 623,
     "metadata": {},
     "output_type": "execute_result"
    }
   ],
   "source": [
    "# or this is same as \n",
    "(y_val == churn_decision ).mean()"
   ]
  },
  {
   "cell_type": "code",
   "execution_count": 631,
   "id": "c68d7b70-68ca-4aff-9f0e-2e755f020191",
   "metadata": {
    "tags": []
   },
   "outputs": [],
   "source": [
    "val_dict = df_val[categorical_cols + numerical_cols].to_dict(orient=\"records\")\n",
    "X_val = dv.fit_transform(val_dict)\n",
    "y_pred = model.predict_proba(X_val)[:, 1]"
   ]
  },
  {
   "cell_type": "code",
   "execution_count": 632,
   "id": "a2865bb3-c877-4ed7-81ba-77be6a0f6a84",
   "metadata": {
    "tags": []
   },
   "outputs": [
    {
     "data": {
      "text/plain": [
       "array([0.01054309, 0.16661655, 0.19319111, ..., 0.1357759 , 0.8126511 ,\n",
       "       0.83522369])"
      ]
     },
     "execution_count": 632,
     "metadata": {},
     "output_type": "execute_result"
    }
   ],
   "source": [
    "y_pred"
   ]
  },
  {
   "cell_type": "code",
   "execution_count": 670,
   "id": "0a409eed-9bb2-46b8-9f4a-e424b7eb4ff6",
   "metadata": {
    "tags": []
   },
   "outputs": [],
   "source": [
    "from sklearn.metrics import accuracy_score"
   ]
  },
  {
   "cell_type": "code",
   "execution_count": null,
   "id": "b64056f8-b2c3-432c-9180-71c19e12826c",
   "metadata": {},
   "outputs": [],
   "source": []
  },
  {
   "cell_type": "code",
   "execution_count": 671,
   "id": "f8e27e49-d015-40d0-b90b-05246a61af06",
   "metadata": {
    "tags": []
   },
   "outputs": [],
   "source": [
    "## But how can be sure that 0.5 is good metric for classification, so lets test\n",
    "thresholds = np.linspace(0, 1, 1000)\n",
    "\n",
    "scores = {}\n",
    "for t in thresholds:\n",
    "    # churn_decision = (y_pred >=t) \n",
    "    # score = (y_val == churn_decision).mean()\n",
    "    score = accuracy_score(y_val, y_pred>=t)\n",
    "    scores[t.round(3)] = score.round(5)"
   ]
  },
  {
   "cell_type": "code",
   "execution_count": 672,
   "id": "4a80fc30-dae1-4adb-8664-df94774639c9",
   "metadata": {
    "tags": []
   },
   "outputs": [
    {
     "data": {
      "text/plain": [
       "[(0.552, 0.81547),\n",
       " (0.556, 0.81547),\n",
       " (0.56, 0.81547),\n",
       " (0.561, 0.81547),\n",
       " (0.567, 0.81547)]"
      ]
     },
     "execution_count": 672,
     "metadata": {},
     "output_type": "execute_result"
    }
   ],
   "source": [
    "sorted(scores.items(), reverse=True, key= lambda x:x[1])[:5]"
   ]
  },
  {
   "cell_type": "code",
   "execution_count": 674,
   "id": "dfd29394-539c-4d5a-9857-e2a79d9fc11a",
   "metadata": {
    "tags": []
   },
   "outputs": [],
   "source": [
    "scores_list = [value for key, value in scores.items() ]"
   ]
  },
  {
   "cell_type": "code",
   "execution_count": 675,
   "id": "e1f04d87-ceab-4327-8a4d-47533c9ee3d6",
   "metadata": {
    "tags": []
   },
   "outputs": [
    {
     "data": {
      "text/plain": [
       "(1000, 1000)"
      ]
     },
     "execution_count": 675,
     "metadata": {},
     "output_type": "execute_result"
    }
   ],
   "source": [
    "len(scores_list) , len(thresholds)"
   ]
  },
  {
   "cell_type": "code",
   "execution_count": 676,
   "id": "c25d3cac-c81c-4802-8048-f4fa669754ac",
   "metadata": {
    "tags": []
   },
   "outputs": [
    {
     "data": {
      "text/plain": [
       "[<matplotlib.lines.Line2D at 0x297eca190>]"
      ]
     },
     "execution_count": 676,
     "metadata": {},
     "output_type": "execute_result"
    },
    {
     "data": {
      "image/png": "[encoded data removed]",
      "text/plain": [
       "<Figure size 640x480 with 1 Axes>"
      ]
     },
     "metadata": {},
     "output_type": "display_data"
    }
   ],
   "source": [
    "plt.plot(thresholds, scores_list)"
   ]
  },
  {
   "cell_type": "markdown",
   "id": "3932916b-658a-496b-833a-3007d4fec256",
   "metadata": {
    "tags": []
   },
   "source": [
    "### 02-Confusion Matrix"
   ]
  },
  {
   "cell_type": "code",
   "execution_count": 681,
   "id": "488ff36f-55b7-4e97-9fc6-b609a7812a48",
   "metadata": {
    "tags": []
   },
   "outputs": [],
   "source": [
    "actual_positive = y_val == 1 \n",
    "actual_negative = y_val ==0"
   ]
  },
  {
   "cell_type": "code",
   "execution_count": 693,
   "id": "f024a88c-e6bd-49ad-a08d-a777b6e23ba7",
   "metadata": {
    "tags": []
   },
   "outputs": [],
   "source": [
    "t = 0.5\n",
    "predicted_positive = y_pred >= t\n",
    "predicted_negative = y_pred <= t "
   ]
  },
  {
   "cell_type": "code",
   "execution_count": 691,
   "id": "008d045d-af52-4141-a637-a1d045d346d5",
   "metadata": {
    "tags": []
   },
   "outputs": [],
   "source": [
    "tp = (actual_positive & predicted_positive).sum()\n",
    "tn = (actual_negative & predicted_negative).sum()"
   ]
  },
  {
   "cell_type": "code",
   "execution_count": 692,
   "id": "669c3649-ba96-4784-aee9-d91b7b3e8797",
   "metadata": {
    "tags": []
   },
   "outputs": [
    {
     "data": {
      "text/plain": [
       "(210, 920)"
      ]
     },
     "execution_count": 692,
     "metadata": {},
     "output_type": "execute_result"
    }
   ],
   "source": [
    "tp,tn"
   ]
  },
  {
   "cell_type": "code",
   "execution_count": 694,
   "id": "c80fc5c0-8fc0-459c-850f-3ebd255109fc",
   "metadata": {
    "tags": []
   },
   "outputs": [],
   "source": [
    "fp = (actual_negative & predicted_positive).sum()\n",
    "fn = (predicted_negative & actual_positive).sum()"
   ]
  },
  {
   "cell_type": "code",
   "execution_count": 695,
   "id": "9f1e2ad4-06d1-4887-82b0-dcf9110da834",
   "metadata": {
    "tags": []
   },
   "outputs": [
    {
     "data": {
      "text/plain": [
       "(103, 176)"
      ]
     },
     "execution_count": 695,
     "metadata": {},
     "output_type": "execute_result"
    }
   ],
   "source": [
    "fp, fn"
   ]
  },
  {
   "cell_type": "code",
   "execution_count": 697,
   "id": "12ceeda9-b8ff-4205-b7aa-3d747b82e749",
   "metadata": {
    "tags": []
   },
   "outputs": [],
   "source": [
    "confusion_matrix = np.array([[tp, fp],[fn, tn]])"
   ]
  },
  {
   "cell_type": "code",
   "execution_count": 698,
   "id": "4aca18f8-6dc0-456b-9250-9e5896153a2d",
   "metadata": {
    "tags": []
   },
   "outputs": [
    {
     "data": {
      "text/plain": [
       "array([[210, 103],\n",
       "       [176, 920]])"
      ]
     },
     "execution_count": 698,
     "metadata": {},
     "output_type": "execute_result"
    }
   ],
   "source": [
    "confusion_matrix"
   ]
  },
  {
   "cell_type": "markdown",
   "id": "7e37b66c-8bb3-4ae4-8ff4-0be06a371448",
   "metadata": {
    "tags": []
   },
   "source": [
    "#### Formulas using matrix "
   ]
  },
  {
   "cell_type": "code",
   "execution_count": 700,
   "id": "cca4c1a5-b26c-4bb3-b714-dfdb4b2d4e11",
   "metadata": {
    "tags": []
   },
   "outputs": [],
   "source": [
    "accuracy = (tp + tn) / (tp +fp + tn + fn)"
   ]
  },
  {
   "cell_type": "code",
   "execution_count": 701,
   "id": "306ffaa5-db6e-4c21-9fb3-cf38e9817037",
   "metadata": {
    "tags": []
   },
   "outputs": [],
   "source": [
    "precision = tp / (tp + fp)"
   ]
  },
  {
   "cell_type": "code",
   "execution_count": 702,
   "id": "5d25abd4-8294-45fb-b66b-35d485a7f4e4",
   "metadata": {
    "tags": []
   },
   "outputs": [],
   "source": [
    "recall = tp / (tp + fn) "
   ]
  },
  {
   "cell_type": "code",
   "execution_count": 703,
   "id": "1b20edc2-fbd4-4fe7-8099-3cd2c6bf76a1",
   "metadata": {
    "tags": []
   },
   "outputs": [
    {
     "data": {
      "text/plain": [
       "(0.8019872249822569, 0.670926517571885, 0.5440414507772021)"
      ]
     },
     "execution_count": 703,
     "metadata": {},
     "output_type": "execute_result"
    }
   ],
   "source": [
    "accuracy , precision, recall"
   ]
  },
  {
   "cell_type": "code",
   "execution_count": 704,
   "id": "7bd471aa-a4a4-438f-8f76-054ef5537f6a",
   "metadata": {
    "tags": []
   },
   "outputs": [],
   "source": [
    "fpr = fp / (fp + tn )"
   ]
  },
  {
   "cell_type": "code",
   "execution_count": 706,
   "id": "5697d4c1-e9de-4fd0-9f02-2e7a21beb9b9",
   "metadata": {
    "tags": []
   },
   "outputs": [],
   "source": [
    "tpr = tp / (tp + fn)"
   ]
  },
  {
   "cell_type": "code",
   "execution_count": 707,
   "id": "1260d517-9e65-47ff-90ac-f2ab501d40e9",
   "metadata": {
    "tags": []
   },
   "outputs": [
    {
     "data": {
      "text/plain": [
       "(0.10068426197458455, 0.5440414507772021)"
      ]
     },
     "execution_count": 707,
     "metadata": {},
     "output_type": "execute_result"
    }
   ],
   "source": [
    "fpr, tpr"
   ]
  },
  {
   "cell_type": "code",
   "execution_count": 728,
   "id": "01ce0240-2a1d-48c0-a06b-977556402e5e",
   "metadata": {
    "tags": []
   },
   "outputs": [],
   "source": [
    "thresholds = np.linspace(0,1,101)\n",
    "\n",
    "scores = []\n",
    "for t in thresholds:\n",
    "    actual_positive = y_val == 1 \n",
    "    actual_negative = y_val ==0\n",
    "    \n",
    "    predicted_positive = y_pred >= t\n",
    "    predicted_negative = y_pred <= t \n",
    "    \n",
    "    tp = (actual_positive & predicted_positive).sum()\n",
    "    tn = (actual_negative & predicted_negative).sum()\n",
    "    \n",
    "    fp = (actual_negative & predicted_positive).sum()\n",
    "    fn = (predicted_negative & actual_positive).sum()\n",
    "    \n",
    "    scores.append([t, tp, fp, fn, tn])\n",
    "    "
   ]
  },
  {
   "cell_type": "code",
   "execution_count": 729,
   "id": "81cea475-131c-4e94-b79b-b925af113cc8",
   "metadata": {
    "tags": []
   },
   "outputs": [],
   "source": [
    "columns = ['threshold', 'tp', 'fp', 'fn', 'tn']\n",
    "df_scores = pd.DataFrame(scores, columns=columns)"
   ]
  },
  {
   "cell_type": "code",
   "execution_count": 730,
   "id": "b5f631bf-b2d7-41b1-ad5e-adaf6f6402df",
   "metadata": {
    "tags": []
   },
   "outputs": [
    {
     "data": {
      "text/html": [
       "<div>\n",
       "<style scoped>\n",
       "    .dataframe tbody tr th:only-of-type {\n",
       "        vertical-align: middle;\n",
       "    }\n",
       "\n",
       "    .dataframe tbody tr th {\n",
       "        vertical-align: top;\n",
       "    }\n",
       "\n",
       "    .dataframe thead th {\n",
       "        text-align: right;\n",
       "    }\n",
       "</style>\n",
       "<table border=\"1\" class=\"dataframe\">\n",
       "  <thead>\n",
       "    <tr style=\"text-align: right;\">\n",
       "      <th></th>\n",
       "      <th>threshold</th>\n",
       "      <th>tp</th>\n",
       "      <th>fp</th>\n",
       "      <th>fn</th>\n",
       "      <th>tn</th>\n",
       "    </tr>\n",
       "  </thead>\n",
       "  <tbody>\n",
       "    <tr>\n",
       "      <th>0</th>\n",
       "      <td>0.0</td>\n",
       "      <td>386</td>\n",
       "      <td>1023</td>\n",
       "      <td>0</td>\n",
       "      <td>0</td>\n",
       "    </tr>\n",
       "    <tr>\n",
       "      <th>10</th>\n",
       "      <td>0.1</td>\n",
       "      <td>365</td>\n",
       "      <td>556</td>\n",
       "      <td>21</td>\n",
       "      <td>467</td>\n",
       "    </tr>\n",
       "    <tr>\n",
       "      <th>20</th>\n",
       "      <td>0.2</td>\n",
       "      <td>330</td>\n",
       "      <td>338</td>\n",
       "      <td>56</td>\n",
       "      <td>685</td>\n",
       "    </tr>\n",
       "    <tr>\n",
       "      <th>30</th>\n",
       "      <td>0.3</td>\n",
       "      <td>293</td>\n",
       "      <td>226</td>\n",
       "      <td>93</td>\n",
       "      <td>797</td>\n",
       "    </tr>\n",
       "    <tr>\n",
       "      <th>40</th>\n",
       "      <td>0.4</td>\n",
       "      <td>249</td>\n",
       "      <td>166</td>\n",
       "      <td>137</td>\n",
       "      <td>857</td>\n",
       "    </tr>\n",
       "    <tr>\n",
       "      <th>50</th>\n",
       "      <td>0.5</td>\n",
       "      <td>210</td>\n",
       "      <td>103</td>\n",
       "      <td>176</td>\n",
       "      <td>920</td>\n",
       "    </tr>\n",
       "    <tr>\n",
       "      <th>60</th>\n",
       "      <td>0.6</td>\n",
       "      <td>158</td>\n",
       "      <td>50</td>\n",
       "      <td>228</td>\n",
       "      <td>973</td>\n",
       "    </tr>\n",
       "    <tr>\n",
       "      <th>70</th>\n",
       "      <td>0.7</td>\n",
       "      <td>93</td>\n",
       "      <td>20</td>\n",
       "      <td>293</td>\n",
       "      <td>1003</td>\n",
       "    </tr>\n",
       "    <tr>\n",
       "      <th>80</th>\n",
       "      <td>0.8</td>\n",
       "      <td>17</td>\n",
       "      <td>2</td>\n",
       "      <td>369</td>\n",
       "      <td>1021</td>\n",
       "    </tr>\n",
       "    <tr>\n",
       "      <th>90</th>\n",
       "      <td>0.9</td>\n",
       "      <td>0</td>\n",
       "      <td>0</td>\n",
       "      <td>386</td>\n",
       "      <td>1023</td>\n",
       "    </tr>\n",
       "    <tr>\n",
       "      <th>100</th>\n",
       "      <td>1.0</td>\n",
       "      <td>0</td>\n",
       "      <td>0</td>\n",
       "      <td>386</td>\n",
       "      <td>1023</td>\n",
       "    </tr>\n",
       "  </tbody>\n",
       "</table>\n",
       "</div>"
      ],
      "text/plain": [
       "     threshold   tp    fp   fn    tn\n",
       "0          0.0  386  1023    0     0\n",
       "10         0.1  365   556   21   467\n",
       "20         0.2  330   338   56   685\n",
       "30         0.3  293   226   93   797\n",
       "40         0.4  249   166  137   857\n",
       "50         0.5  210   103  176   920\n",
       "60         0.6  158    50  228   973\n",
       "70         0.7   93    20  293  1003\n",
       "80         0.8   17     2  369  1021\n",
       "90         0.9    0     0  386  1023\n",
       "100        1.0    0     0  386  1023"
      ]
     },
     "execution_count": 730,
     "metadata": {},
     "output_type": "execute_result"
    }
   ],
   "source": [
    "df_scores[::10].round(3)"
   ]
  },
  {
   "cell_type": "code",
   "execution_count": 731,
   "id": "0496f77a-6168-4ddb-b18e-f32b7896314f",
   "metadata": {
    "tags": []
   },
   "outputs": [],
   "source": [
    "df_scores['fpr'] = df_scores.fp / (df_scores.fp + df_scores.tn )\n",
    "df_scores['tpr'] = df_scores.tp / (df_scores.tp + df_scores.fn)"
   ]
  },
  {
   "cell_type": "code",
   "execution_count": 732,
   "id": "161bad0e-9975-4fbc-9fe7-3cc7207c8b3d",
   "metadata": {
    "tags": []
   },
   "outputs": [
    {
     "data": {
      "text/html": [
       "<div>\n",
       "<style scoped>\n",
       "    .dataframe tbody tr th:only-of-type {\n",
       "        vertical-align: middle;\n",
       "    }\n",
       "\n",
       "    .dataframe tbody tr th {\n",
       "        vertical-align: top;\n",
       "    }\n",
       "\n",
       "    .dataframe thead th {\n",
       "        text-align: right;\n",
       "    }\n",
       "</style>\n",
       "<table border=\"1\" class=\"dataframe\">\n",
       "  <thead>\n",
       "    <tr style=\"text-align: right;\">\n",
       "      <th></th>\n",
       "      <th>threshold</th>\n",
       "      <th>tp</th>\n",
       "      <th>fp</th>\n",
       "      <th>fn</th>\n",
       "      <th>tn</th>\n",
       "      <th>fpr</th>\n",
       "      <th>tpr</th>\n",
       "    </tr>\n",
       "  </thead>\n",
       "  <tbody>\n",
       "    <tr>\n",
       "      <th>0</th>\n",
       "      <td>0.00</td>\n",
       "      <td>386</td>\n",
       "      <td>1023</td>\n",
       "      <td>0</td>\n",
       "      <td>0</td>\n",
       "      <td>1.000000</td>\n",
       "      <td>1.000000</td>\n",
       "    </tr>\n",
       "    <tr>\n",
       "      <th>1</th>\n",
       "      <td>0.01</td>\n",
       "      <td>386</td>\n",
       "      <td>930</td>\n",
       "      <td>0</td>\n",
       "      <td>93</td>\n",
       "      <td>0.909091</td>\n",
       "      <td>1.000000</td>\n",
       "    </tr>\n",
       "    <tr>\n",
       "      <th>2</th>\n",
       "      <td>0.02</td>\n",
       "      <td>384</td>\n",
       "      <td>855</td>\n",
       "      <td>2</td>\n",
       "      <td>168</td>\n",
       "      <td>0.835777</td>\n",
       "      <td>0.994819</td>\n",
       "    </tr>\n",
       "    <tr>\n",
       "      <th>3</th>\n",
       "      <td>0.03</td>\n",
       "      <td>383</td>\n",
       "      <td>788</td>\n",
       "      <td>3</td>\n",
       "      <td>235</td>\n",
       "      <td>0.770283</td>\n",
       "      <td>0.992228</td>\n",
       "    </tr>\n",
       "    <tr>\n",
       "      <th>4</th>\n",
       "      <td>0.04</td>\n",
       "      <td>381</td>\n",
       "      <td>741</td>\n",
       "      <td>5</td>\n",
       "      <td>282</td>\n",
       "      <td>0.724340</td>\n",
       "      <td>0.987047</td>\n",
       "    </tr>\n",
       "    <tr>\n",
       "      <th>...</th>\n",
       "      <td>...</td>\n",
       "      <td>...</td>\n",
       "      <td>...</td>\n",
       "      <td>...</td>\n",
       "      <td>...</td>\n",
       "      <td>...</td>\n",
       "      <td>...</td>\n",
       "    </tr>\n",
       "    <tr>\n",
       "      <th>96</th>\n",
       "      <td>0.96</td>\n",
       "      <td>0</td>\n",
       "      <td>0</td>\n",
       "      <td>386</td>\n",
       "      <td>1023</td>\n",
       "      <td>0.000000</td>\n",
       "      <td>0.000000</td>\n",
       "    </tr>\n",
       "    <tr>\n",
       "      <th>97</th>\n",
       "      <td>0.97</td>\n",
       "      <td>0</td>\n",
       "      <td>0</td>\n",
       "      <td>386</td>\n",
       "      <td>1023</td>\n",
       "      <td>0.000000</td>\n",
       "      <td>0.000000</td>\n",
       "    </tr>\n",
       "    <tr>\n",
       "      <th>98</th>\n",
       "      <td>0.98</td>\n",
       "      <td>0</td>\n",
       "      <td>0</td>\n",
       "      <td>386</td>\n",
       "      <td>1023</td>\n",
       "      <td>0.000000</td>\n",
       "      <td>0.000000</td>\n",
       "    </tr>\n",
       "    <tr>\n",
       "      <th>99</th>\n",
       "      <td>0.99</td>\n",
       "      <td>0</td>\n",
       "      <td>0</td>\n",
       "      <td>386</td>\n",
       "      <td>1023</td>\n",
       "      <td>0.000000</td>\n",
       "      <td>0.000000</td>\n",
       "    </tr>\n",
       "    <tr>\n",
       "      <th>100</th>\n",
       "      <td>1.00</td>\n",
       "      <td>0</td>\n",
       "      <td>0</td>\n",
       "      <td>386</td>\n",
       "      <td>1023</td>\n",
       "      <td>0.000000</td>\n",
       "      <td>0.000000</td>\n",
       "    </tr>\n",
       "  </tbody>\n",
       "</table>\n",
       "<p>101 rows × 7 columns</p>\n",
       "</div>"
      ],
      "text/plain": [
       "     threshold   tp    fp   fn    tn       fpr       tpr\n",
       "0         0.00  386  1023    0     0  1.000000  1.000000\n",
       "1         0.01  386   930    0    93  0.909091  1.000000\n",
       "2         0.02  384   855    2   168  0.835777  0.994819\n",
       "3         0.03  383   788    3   235  0.770283  0.992228\n",
       "4         0.04  381   741    5   282  0.724340  0.987047\n",
       "..         ...  ...   ...  ...   ...       ...       ...\n",
       "96        0.96    0     0  386  1023  0.000000  0.000000\n",
       "97        0.97    0     0  386  1023  0.000000  0.000000\n",
       "98        0.98    0     0  386  1023  0.000000  0.000000\n",
       "99        0.99    0     0  386  1023  0.000000  0.000000\n",
       "100       1.00    0     0  386  1023  0.000000  0.000000\n",
       "\n",
       "[101 rows x 7 columns]"
      ]
     },
     "execution_count": 732,
     "metadata": {},
     "output_type": "execute_result"
    }
   ],
   "source": [
    "df_scores"
   ]
  },
  {
   "cell_type": "code",
   "execution_count": 754,
   "id": "10aaa1d6-6287-41b1-a6c4-22683173f61a",
   "metadata": {
    "tags": []
   },
   "outputs": [
    {
     "data": {
      "text/plain": [
       "<matplotlib.legend.Legend at 0x29a44dfa0>"
      ]
     },
     "execution_count": 754,
     "metadata": {},
     "output_type": "execute_result"
    },
    {
     "data": {
      "image/png": "[encoded data removed]",
      "text/plain": [
       "<Figure size 640x480 with 1 Axes>"
      ]
     },
     "metadata": {},
     "output_type": "display_data"
    }
   ],
   "source": [
    "plt.plot(df_scores.threshold, df_scores.fpr, label = 'fpr')\n",
    "plt.plot(df_scores.threshold, df_scores.tpr, label = 'tpr')\n",
    "\n",
    "plt.legend()"
   ]
  },
  {
   "cell_type": "markdown",
   "id": "40762ec4-b2bf-4866-b54e-71b5b5311f27",
   "metadata": {},
   "source": [
    "#### Random model "
   ]
  },
  {
   "cell_type": "code",
   "execution_count": 738,
   "id": "7ae392f0-dac3-4660-8836-b9392c904f1c",
   "metadata": {
    "tags": []
   },
   "outputs": [],
   "source": [
    "np.random.seed(1)\n",
    "y_rand = np.random.uniform(0,1, size= len(y_pred))"
   ]
  },
  {
   "cell_type": "code",
   "execution_count": 741,
   "id": "6d51b72a-1c09-4e61-9558-40b4e11374c3",
   "metadata": {
    "tags": []
   },
   "outputs": [
    {
     "data": {
      "text/plain": [
       "0.5017743080198722"
      ]
     },
     "execution_count": 741,
     "metadata": {},
     "output_type": "execute_result"
    }
   ],
   "source": [
    "((y_rand >= 0.5) == y_val).mean()"
   ]
  },
  {
   "cell_type": "code",
   "execution_count": 745,
   "id": "2286426c-9832-4df8-b803-b2b538b7e762",
   "metadata": {
    "tags": []
   },
   "outputs": [],
   "source": [
    "def tpr_fpr_dataframe(y_val, y_pred):\n",
    "    scores = []\n",
    "    for t in thresholds:\n",
    "        actual_positive = y_val == 1 \n",
    "        actual_negative = y_val ==0\n",
    "\n",
    "        predicted_positive = y_pred >= t\n",
    "        predicted_negative = y_pred <= t \n",
    "\n",
    "        tp = (actual_positive & predicted_positive).sum()\n",
    "        tn = (actual_negative & predicted_negative).sum()\n",
    "\n",
    "        fp = (actual_negative & predicted_positive).sum()\n",
    "        fn = (predicted_negative & actual_positive).sum()\n",
    "\n",
    "        scores.append([t, tp, fp, fn, tn])\n",
    "\n",
    "    columns = ['threshold', 'tp', 'fp', 'fn', 'tn']\n",
    "    df_scores = pd.DataFrame(scores, columns=columns)\n",
    "\n",
    "    df_scores['fpr'] = df_scores.fp / (df_scores.fp + df_scores.tn )\n",
    "    df_scores['tpr'] = df_scores.tp / (df_scores.tp + df_scores.fn)\n",
    "        \n",
    "    return df_scores\n",
    "        "
   ]
  },
  {
   "cell_type": "code",
   "execution_count": 748,
   "id": "b31dfd76-fcc6-4bfe-a150-9b364e6ea29a",
   "metadata": {
    "tags": []
   },
   "outputs": [],
   "source": [
    "df = tpr_fpr_dataframe(y_val, y_rand )"
   ]
  },
  {
   "cell_type": "code",
   "execution_count": 749,
   "id": "a7176ab5-8c6e-46ac-a8a2-e81e63bcbd1e",
   "metadata": {
    "tags": []
   },
   "outputs": [
    {
     "data": {
      "text/html": [
       "<div>\n",
       "<style scoped>\n",
       "    .dataframe tbody tr th:only-of-type {\n",
       "        vertical-align: middle;\n",
       "    }\n",
       "\n",
       "    .dataframe tbody tr th {\n",
       "        vertical-align: top;\n",
       "    }\n",
       "\n",
       "    .dataframe thead th {\n",
       "        text-align: right;\n",
       "    }\n",
       "</style>\n",
       "<table border=\"1\" class=\"dataframe\">\n",
       "  <thead>\n",
       "    <tr style=\"text-align: right;\">\n",
       "      <th></th>\n",
       "      <th>threshold</th>\n",
       "      <th>tp</th>\n",
       "      <th>fp</th>\n",
       "      <th>fn</th>\n",
       "      <th>tn</th>\n",
       "      <th>fpr</th>\n",
       "      <th>tpr</th>\n",
       "    </tr>\n",
       "  </thead>\n",
       "  <tbody>\n",
       "    <tr>\n",
       "      <th>0</th>\n",
       "      <td>0.00</td>\n",
       "      <td>386</td>\n",
       "      <td>1023</td>\n",
       "      <td>0</td>\n",
       "      <td>0</td>\n",
       "      <td>1.000000</td>\n",
       "      <td>1.000000</td>\n",
       "    </tr>\n",
       "    <tr>\n",
       "      <th>1</th>\n",
       "      <td>0.01</td>\n",
       "      <td>382</td>\n",
       "      <td>1013</td>\n",
       "      <td>4</td>\n",
       "      <td>10</td>\n",
       "      <td>0.990225</td>\n",
       "      <td>0.989637</td>\n",
       "    </tr>\n",
       "    <tr>\n",
       "      <th>2</th>\n",
       "      <td>0.02</td>\n",
       "      <td>379</td>\n",
       "      <td>993</td>\n",
       "      <td>7</td>\n",
       "      <td>30</td>\n",
       "      <td>0.970674</td>\n",
       "      <td>0.981865</td>\n",
       "    </tr>\n",
       "    <tr>\n",
       "      <th>3</th>\n",
       "      <td>0.03</td>\n",
       "      <td>375</td>\n",
       "      <td>979</td>\n",
       "      <td>11</td>\n",
       "      <td>44</td>\n",
       "      <td>0.956989</td>\n",
       "      <td>0.971503</td>\n",
       "    </tr>\n",
       "    <tr>\n",
       "      <th>4</th>\n",
       "      <td>0.04</td>\n",
       "      <td>372</td>\n",
       "      <td>969</td>\n",
       "      <td>14</td>\n",
       "      <td>54</td>\n",
       "      <td>0.947214</td>\n",
       "      <td>0.963731</td>\n",
       "    </tr>\n",
       "    <tr>\n",
       "      <th>...</th>\n",
       "      <td>...</td>\n",
       "      <td>...</td>\n",
       "      <td>...</td>\n",
       "      <td>...</td>\n",
       "      <td>...</td>\n",
       "      <td>...</td>\n",
       "      <td>...</td>\n",
       "    </tr>\n",
       "    <tr>\n",
       "      <th>96</th>\n",
       "      <td>0.96</td>\n",
       "      <td>14</td>\n",
       "      <td>41</td>\n",
       "      <td>372</td>\n",
       "      <td>982</td>\n",
       "      <td>0.040078</td>\n",
       "      <td>0.036269</td>\n",
       "    </tr>\n",
       "    <tr>\n",
       "      <th>97</th>\n",
       "      <td>0.97</td>\n",
       "      <td>11</td>\n",
       "      <td>36</td>\n",
       "      <td>375</td>\n",
       "      <td>987</td>\n",
       "      <td>0.035191</td>\n",
       "      <td>0.028497</td>\n",
       "    </tr>\n",
       "    <tr>\n",
       "      <th>98</th>\n",
       "      <td>0.98</td>\n",
       "      <td>8</td>\n",
       "      <td>19</td>\n",
       "      <td>378</td>\n",
       "      <td>1004</td>\n",
       "      <td>0.018573</td>\n",
       "      <td>0.020725</td>\n",
       "    </tr>\n",
       "    <tr>\n",
       "      <th>99</th>\n",
       "      <td>0.99</td>\n",
       "      <td>6</td>\n",
       "      <td>7</td>\n",
       "      <td>380</td>\n",
       "      <td>1016</td>\n",
       "      <td>0.006843</td>\n",
       "      <td>0.015544</td>\n",
       "    </tr>\n",
       "    <tr>\n",
       "      <th>100</th>\n",
       "      <td>1.00</td>\n",
       "      <td>0</td>\n",
       "      <td>0</td>\n",
       "      <td>386</td>\n",
       "      <td>1023</td>\n",
       "      <td>0.000000</td>\n",
       "      <td>0.000000</td>\n",
       "    </tr>\n",
       "  </tbody>\n",
       "</table>\n",
       "<p>101 rows × 7 columns</p>\n",
       "</div>"
      ],
      "text/plain": [
       "     threshold   tp    fp   fn    tn       fpr       tpr\n",
       "0         0.00  386  1023    0     0  1.000000  1.000000\n",
       "1         0.01  382  1013    4    10  0.990225  0.989637\n",
       "2         0.02  379   993    7    30  0.970674  0.981865\n",
       "3         0.03  375   979   11    44  0.956989  0.971503\n",
       "4         0.04  372   969   14    54  0.947214  0.963731\n",
       "..         ...  ...   ...  ...   ...       ...       ...\n",
       "96        0.96   14    41  372   982  0.040078  0.036269\n",
       "97        0.97   11    36  375   987  0.035191  0.028497\n",
       "98        0.98    8    19  378  1004  0.018573  0.020725\n",
       "99        0.99    6     7  380  1016  0.006843  0.015544\n",
       "100       1.00    0     0  386  1023  0.000000  0.000000\n",
       "\n",
       "[101 rows x 7 columns]"
      ]
     },
     "execution_count": 749,
     "metadata": {},
     "output_type": "execute_result"
    }
   ],
   "source": [
    "df"
   ]
  },
  {
   "cell_type": "code",
   "execution_count": 753,
   "id": "ec734dff-a72e-47f4-bc4c-dbbeb0b485dc",
   "metadata": {
    "tags": []
   },
   "outputs": [
    {
     "data": {
      "text/plain": [
       "<matplotlib.legend.Legend at 0x29a9a9d60>"
      ]
     },
     "execution_count": 753,
     "metadata": {},
     "output_type": "execute_result"
    },
    {
     "data": {
      "image/png": "[encoded data removed]",
      "text/plain": [
       "<Figure size 640x480 with 1 Axes>"
      ]
     },
     "metadata": {},
     "output_type": "display_data"
    }
   ],
   "source": [
    "plt.plot(df.threshold, df.fpr, label = 'fpr')\n",
    "plt.plot(df.threshold, df.tpr, label = 'tpr')\n",
    "\n",
    "plt.legend()"
   ]
  },
  {
   "cell_type": "markdown",
   "id": "9f2c51d2-27e0-41ad-8860-3f27258980a6",
   "metadata": {},
   "source": [
    "### Ideal Model \n",
    "The idea is to organize the y_pred in such a way that at threshold value one side is no churn and other is churn"
   ]
  },
  {
   "cell_type": "code",
   "execution_count": 756,
   "id": "c1325285-c8ae-4bcd-899c-17e5292200fa",
   "metadata": {
    "tags": []
   },
   "outputs": [
    {
     "data": {
      "text/plain": [
       "(1023, 386)"
      ]
     },
     "execution_count": 756,
     "metadata": {},
     "output_type": "execute_result"
    }
   ],
   "source": [
    "num_neg = (y_val == 0).sum()\n",
    "num_pos = (y_val == 1).sum()\n",
    "\n",
    "num_neg, num_pos"
   ]
  },
  {
   "cell_type": "code",
   "execution_count": 757,
   "id": "b465c265-d7fd-4c3e-81ae-d72aaa5234bb",
   "metadata": {
    "tags": []
   },
   "outputs": [
    {
     "data": {
      "text/plain": [
       "array([0, 0, 0, ..., 1, 1, 1])"
      ]
     },
     "execution_count": 757,
     "metadata": {},
     "output_type": "execute_result"
    }
   ],
   "source": [
    "y_ideal = np.repeat([0,1], [num_neg, num_pos])\n",
    "y_ideal"
   ]
  },
  {
   "cell_type": "code",
   "execution_count": 758,
   "id": "1dac5989-f362-412f-b37a-6c21bcf79482",
   "metadata": {
    "tags": []
   },
   "outputs": [
    {
     "data": {
      "text/plain": [
       "0.7260468417317246"
      ]
     },
     "execution_count": 758,
     "metadata": {},
     "output_type": "execute_result"
    }
   ],
   "source": [
    "1 - y_val.mean()"
   ]
  },
  {
   "cell_type": "code",
   "execution_count": 762,
   "id": "58c553ef-ba7a-429a-bd27-d79c1c1811ee",
   "metadata": {
    "tags": []
   },
   "outputs": [
    {
     "data": {
      "text/plain": [
       "1.0"
      ]
     },
     "execution_count": 762,
     "metadata": {},
     "output_type": "execute_result"
    }
   ],
   "source": [
    "y_ideal_pred = np.linspace(0,1,len(y_val)).round(3)\n",
    "((y_ideal_pred >= .72604 ) == y_ideal).mean()"
   ]
  },
  {
   "cell_type": "code",
   "execution_count": 764,
   "id": "5ea27955-2f13-4b19-be74-5516939a9c69",
   "metadata": {
    "tags": []
   },
   "outputs": [],
   "source": [
    "df_ideal = tpr_fpr_dataframe(y_ideal, y_ideal_pred)"
   ]
  },
  {
   "cell_type": "code",
   "execution_count": 767,
   "id": "951f2c50-738a-437b-9cf6-2edcd28dfe8f",
   "metadata": {
    "tags": []
   },
   "outputs": [
    {
     "data": {
      "text/plain": [
       "<matplotlib.legend.Legend at 0x29a660550>"
      ]
     },
     "execution_count": 767,
     "metadata": {},
     "output_type": "execute_result"
    },
    {
     "data": {
      "image/png": "[encoded data removed]",
      "text/plain": [
       "<Figure size 640x480 with 1 Axes>"
      ]
     },
     "metadata": {},
     "output_type": "display_data"
    }
   ],
   "source": [
    "plt.plot(df_ideal.threshold, df_ideal.fpr, label = 'fpr')\n",
    "plt.plot(df_ideal.threshold, df_ideal.tpr, label = 'tpr')\n",
    "plt.legend()"
   ]
  },
  {
   "cell_type": "markdown",
   "id": "2d7ae198-7169-4416-935b-e2322da2b7bd",
   "metadata": {},
   "source": [
    "### Putting everything together"
   ]
  },
  {
   "cell_type": "code",
   "execution_count": 772,
   "id": "dddd08e7-cfda-4206-9893-7b080ab53881",
   "metadata": {
    "tags": []
   },
   "outputs": [
    {
     "data": {
      "text/plain": [
       "<matplotlib.legend.Legend at 0x29a75bac0>"
      ]
     },
     "execution_count": 772,
     "metadata": {},
     "output_type": "execute_result"
    },
    {
     "data": {
      "image/png": "[encoded data removed]",
      "text/plain": [
       "<Figure size 640x480 with 1 Axes>"
      ]
     },
     "metadata": {},
     "output_type": "display_data"
    }
   ],
   "source": [
    "plt.plot(df_scores.threshold, df_scores.fpr, label = 'fpr')\n",
    "plt.plot(df_scores.threshold, df_scores.tpr, label = 'tpr')\n",
    "\n",
    "# plt.plot(df.threshold, df.fpr, label = 'fpr')\n",
    "# plt.plot(df.threshold, df.tpr, label = 'tpr')\n",
    "\n",
    "plt.plot(df_ideal.threshold, df_ideal.fpr, label = 'fpr', color='red')\n",
    "plt.plot(df_ideal.threshold, df_ideal.tpr, label = 'tpr', color='green')\n",
    "\n",
    "plt.legend()"
   ]
  },
  {
   "cell_type": "markdown",
   "id": "7043b8b9-a984-45bc-84dc-d6868da14a08",
   "metadata": {},
   "source": [
    "### ROC Curve"
   ]
  },
  {
   "cell_type": "code",
   "execution_count": 780,
   "id": "4c51c4ff-db06-4617-b403-dc481d8e9895",
   "metadata": {
    "tags": []
   },
   "outputs": [
    {
     "data": {
      "text/plain": [
       "Text(0, 0.5, 'TPR')"
      ]
     },
     "execution_count": 780,
     "metadata": {},
     "output_type": "execute_result"
    },
    {
     "data": {
      "image/png": "[encoded data removed]",
      "text/plain": [
       "<Figure size 600x600 with 1 Axes>"
      ]
     },
     "metadata": {},
     "output_type": "display_data"
    }
   ],
   "source": [
    "plt.figure(figsize=(6,6))\n",
    "\n",
    "plt.plot(df_scores.fpr, df_scores.tpr, label = 'model')\n",
    "# plt.plot(df.fpr, df.tpr, label = 'random')\n",
    "plt.plot([0,1], [0,1], label= 'random')\n",
    "# plt.plot(df_ideal.fpr, df_ideal.tpr, label = 'ideal')\n",
    "plt.legend()\n",
    "plt.xlabel('FPR')\n",
    "plt.ylabel('TPR')"
   ]
  },
  {
   "cell_type": "markdown",
   "id": "cbcba5d2-3b7b-4a34-a479-8f6f137a18b4",
   "metadata": {},
   "source": [
    "### Using the sckit learn "
   ]
  },
  {
   "cell_type": "code",
   "execution_count": 781,
   "id": "97bcb45f-7240-47bd-b453-ec0a2a1d98ac",
   "metadata": {
    "tags": []
   },
   "outputs": [],
   "source": [
    "from sklearn.metrics import roc_curve"
   ]
  },
  {
   "cell_type": "code",
   "execution_count": 782,
   "id": "66525afa-8902-42e9-b94e-7f265073886d",
   "metadata": {
    "tags": []
   },
   "outputs": [],
   "source": [
    "fpr, tpr, thresholds = roc_curve(y_val, y_pred)"
   ]
  },
  {
   "cell_type": "code",
   "execution_count": 784,
   "id": "41261849-4e5f-4fce-93a7-c20f76c8d49b",
   "metadata": {
    "tags": []
   },
   "outputs": [
    {
     "data": {
      "text/plain": [
       "Text(0, 0.5, 'TPR')"
      ]
     },
     "execution_count": 784,
     "metadata": {},
     "output_type": "execute_result"
    },
    {
     "data": {
      "image/png": "[encoded data removed]",
      "text/plain": [
       "<Figure size 600x600 with 1 Axes>"
      ]
     },
     "metadata": {},
     "output_type": "display_data"
    }
   ],
   "source": [
    "plt.figure(figsize=(6,6))\n",
    "\n",
    "plt.plot(fpr, tpr, label = 'model')\n",
    "# plt.plot(df.fpr, df.tpr, label = 'random')\n",
    "plt.plot([0,1], [0,1], label= 'random')\n",
    "# plt.plot(df_ideal.fpr, df_ideal.tpr, label = 'ideal')\n",
    "plt.legend()\n",
    "plt.xlabel('FPR')\n",
    "plt.ylabel('TPR')"
   ]
  },
  {
   "cell_type": "markdown",
   "id": "6e2d02e5-43e2-4a18-9534-9c5092bb3720",
   "metadata": {},
   "source": [
    "### ROC AUC"
   ]
  },
  {
   "cell_type": "code",
   "execution_count": 785,
   "id": "2e8be0b0-5654-4b6d-a8e3-c714d05efce9",
   "metadata": {
    "tags": []
   },
   "outputs": [],
   "source": [
    "from sklearn.metrics import auc"
   ]
  },
  {
   "cell_type": "code",
   "execution_count": 786,
   "id": "c5f47a73-77b2-457b-880e-e1737f8a91b3",
   "metadata": {
    "tags": []
   },
   "outputs": [
    {
     "data": {
      "text/plain": [
       "0.8510831193431895"
      ]
     },
     "execution_count": 786,
     "metadata": {},
     "output_type": "execute_result"
    }
   ],
   "source": [
    "auc(fpr, tpr)"
   ]
  },
  {
   "cell_type": "code",
   "execution_count": 787,
   "id": "7280f60b-e8bf-4151-b76f-e6f684823029",
   "metadata": {
    "tags": []
   },
   "outputs": [
    {
     "data": {
      "text/plain": [
       "0.8505943607899149"
      ]
     },
     "execution_count": 787,
     "metadata": {},
     "output_type": "execute_result"
    }
   ],
   "source": [
    "auc(df_scores.fpr, df_scores.tpr)"
   ]
  },
  {
   "cell_type": "code",
   "execution_count": 788,
   "id": "04c9c20d-9121-45b3-8de9-d7e284818351",
   "metadata": {
    "tags": []
   },
   "outputs": [],
   "source": [
    "## Shortcut to quickly get ROC AUC, without calculating tpr, fpr\n",
    "from sklearn.metrics import roc_auc_score\n"
   ]
  },
  {
   "cell_type": "code",
   "execution_count": 789,
   "id": "a3f44b09-900e-4af4-84d9-4008a84c8fa8",
   "metadata": {
    "tags": []
   },
   "outputs": [
    {
     "data": {
      "text/plain": [
       "0.8510831193431895"
      ]
     },
     "execution_count": 789,
     "metadata": {},
     "output_type": "execute_result"
    }
   ],
   "source": [
    "roc_auc_score(y_val, y_pred)"
   ]
  },
  {
   "cell_type": "code",
   "execution_count": 790,
   "id": "dea05ddf-2f0f-4ca8-9bce-40f789bfedde",
   "metadata": {
    "tags": []
   },
   "outputs": [],
   "source": [
    "## So ROC Auc gives probality of selecting postive example over negative example, so let's\n",
    "## implement it "
   ]
  },
  {
   "cell_type": "code",
   "execution_count": 791,
   "id": "2a56f4bf-a973-45d6-b5a6-6e0e90860d2a",
   "metadata": {
    "tags": []
   },
   "outputs": [],
   "source": [
    "pos = y_pred[y_val == 1]\n",
    "neg = y_pred[y_val == 0]"
   ]
  },
  {
   "cell_type": "code",
   "execution_count": 792,
   "id": "546e1437-c210-44fb-955e-86b5ce9e6cc7",
   "metadata": {
    "tags": []
   },
   "outputs": [],
   "source": [
    "import random"
   ]
  },
  {
   "cell_type": "code",
   "execution_count": 794,
   "id": "e465287d-94d6-4eee-ac38-8b1fa3367b08",
   "metadata": {
    "tags": []
   },
   "outputs": [
    {
     "data": {
      "text/plain": [
       "0.85278"
      ]
     },
     "execution_count": 794,
     "metadata": {},
     "output_type": "execute_result"
    }
   ],
   "source": [
    "n = 100000\n",
    "success = 0 \n",
    "\n",
    "for i in range(n):\n",
    "    pos_ind = random.randint(0, len(pos) -1)\n",
    "    neg_ind = random.randint(0, len(neg) -1)\n",
    "    \n",
    "    if pos[pos_ind] > neg[neg_ind]:\n",
    "        success += 1\n",
    "\n",
    "success/n"
   ]
  },
  {
   "cell_type": "code",
   "execution_count": 796,
   "id": "f2c60741-9811-4247-8ace-2ff15eca48f2",
   "metadata": {
    "tags": []
   },
   "outputs": [
    {
     "data": {
      "text/plain": [
       "0.85963"
      ]
     },
     "execution_count": 796,
     "metadata": {},
     "output_type": "execute_result"
    }
   ],
   "source": [
    "# Now doing same with numpy \n",
    "n = 100000\n",
    "\n",
    "pos_ind = np.random.randint(0, len(pos), size=n)\n",
    "neg_ind = np.random.randint(0, len(pos), size=n)\n",
    "\n",
    "(pos[pos_ind] > neg[neg_ind]).mean()"
   ]
  },
  {
   "cell_type": "markdown",
   "id": "083b1f3d-2ff6-472f-ba0a-489f8872768e",
   "metadata": {},
   "source": [
    "## Cross-Validation"
   ]
  },
  {
   "cell_type": "code",
   "execution_count": 819,
   "id": "839c9b96-0acc-40b2-bf97-d2c7b09e6da7",
   "metadata": {
    "tags": []
   },
   "outputs": [],
   "source": [
    "def train(df_train, y_train ,C=1.0):\n",
    "    dicts = df_train[categorical_cols + numerical_cols].to_dict(orient='records')\n",
    "    \n",
    "    dv = DictVectorizer(sparse=False)\n",
    "    X_train = dv.fit_transform(dicts)\n",
    "    \n",
    "    model = LogisticRegression(C=C, max_iter=1000)\n",
    "    model.fit(X_train, y_train)\n",
    "    \n",
    "    return dv, model "
   ]
  },
  {
   "cell_type": "code",
   "execution_count": 820,
   "id": "0793daf0-306d-4ce9-85b8-606469a8bbf6",
   "metadata": {
    "tags": []
   },
   "outputs": [],
   "source": [
    "dv, model = train(df_train, y_train)"
   ]
  },
  {
   "cell_type": "code",
   "execution_count": 821,
   "id": "1ba16e77-2bf7-4226-933c-19ddb0ef669c",
   "metadata": {
    "tags": []
   },
   "outputs": [],
   "source": [
    "def predict(df, dv, model):\n",
    "    dicts = df[categorical_cols + numerical_cols].to_dict(orient='records')\n",
    "    \n",
    "    X = dv.transform(dicts)\n",
    "    y_pred = model.predict_proba(X)[:,1]\n",
    "    \n",
    "    return y_pred"
   ]
  },
  {
   "cell_type": "code",
   "execution_count": 800,
   "id": "12d7c57c-6cc2-4be6-9f44-f07d2b87d231",
   "metadata": {
    "tags": []
   },
   "outputs": [
    {
     "data": {
      "text/plain": [
       "array([0.00899722, 0.20451861, 0.2122173 , ..., 0.13639118, 0.79976555,\n",
       "       0.83740295])"
      ]
     },
     "execution_count": 800,
     "metadata": {},
     "output_type": "execute_result"
    }
   ],
   "source": [
    "predict(df_val, dv, model)"
   ]
  },
  {
   "cell_type": "code",
   "execution_count": 802,
   "id": "33382f94-595a-46fe-9d1d-2abe791b2e69",
   "metadata": {
    "tags": []
   },
   "outputs": [],
   "source": [
    "# now let's do kfold validation \n",
    "from sklearn.model_selection import KFold"
   ]
  },
  {
   "cell_type": "code",
   "execution_count": 806,
   "id": "1cc1ff34-d525-4bbb-ae98-e25b5a3f0b95",
   "metadata": {
    "tags": []
   },
   "outputs": [
    {
     "data": {
      "text/plain": [
       "<generator object _BaseKFold.split at 0x29b4ad120>"
      ]
     },
     "execution_count": 806,
     "metadata": {},
     "output_type": "execute_result"
    }
   ],
   "source": [
    "kfold = KFold(n_splits = 10 , shuffle=True, random_state=1)\n",
    "kfold.split(df_train_full)"
   ]
  },
  {
   "cell_type": "code",
   "execution_count": 807,
   "id": "75716ee4-aed3-4d26-b9cb-25323165580d",
   "metadata": {
    "tags": []
   },
   "outputs": [],
   "source": [
    "train_idx , val_idx = next(kfold.split(df_train_full))"
   ]
  },
  {
   "cell_type": "code",
   "execution_count": 809,
   "id": "ee4f4466-18e7-4693-98ee-5a4f709f283c",
   "metadata": {
    "tags": []
   },
   "outputs": [
    {
     "data": {
      "text/plain": [
       "(5070, 564)"
      ]
     },
     "execution_count": 809,
     "metadata": {},
     "output_type": "execute_result"
    }
   ],
   "source": [
    "len(train_idx), len(val_idx)"
   ]
  },
  {
   "cell_type": "code",
   "execution_count": 810,
   "id": "b8f90e7c-02ee-416f-9fdb-251db067017b",
   "metadata": {
    "tags": []
   },
   "outputs": [
    {
     "data": {
      "text/html": [
       "<div>\n",
       "<style scoped>\n",
       "    .dataframe tbody tr th:only-of-type {\n",
       "        vertical-align: middle;\n",
       "    }\n",
       "\n",
       "    .dataframe tbody tr th {\n",
       "        vertical-align: top;\n",
       "    }\n",
       "\n",
       "    .dataframe thead th {\n",
       "        text-align: right;\n",
       "    }\n",
       "</style>\n",
       "<table border=\"1\" class=\"dataframe\">\n",
       "  <thead>\n",
       "    <tr style=\"text-align: right;\">\n",
       "      <th></th>\n",
       "      <th>customerid</th>\n",
       "      <th>gender</th>\n",
       "      <th>seniorcitizen</th>\n",
       "      <th>partner</th>\n",
       "      <th>dependents</th>\n",
       "      <th>tenure</th>\n",
       "      <th>phoneservice</th>\n",
       "      <th>multiplelines</th>\n",
       "      <th>internetservice</th>\n",
       "      <th>onlinesecurity</th>\n",
       "      <th>...</th>\n",
       "      <th>deviceprotection</th>\n",
       "      <th>techsupport</th>\n",
       "      <th>streamingtv</th>\n",
       "      <th>streamingmovies</th>\n",
       "      <th>contract</th>\n",
       "      <th>paperlessbilling</th>\n",
       "      <th>paymentmethod</th>\n",
       "      <th>monthlycharges</th>\n",
       "      <th>totalcharges</th>\n",
       "      <th>churn</th>\n",
       "    </tr>\n",
       "  </thead>\n",
       "  <tbody>\n",
       "    <tr>\n",
       "      <th>3676</th>\n",
       "      <td>2364-ufrom</td>\n",
       "      <td>male</td>\n",
       "      <td>0</td>\n",
       "      <td>no</td>\n",
       "      <td>no</td>\n",
       "      <td>30</td>\n",
       "      <td>yes</td>\n",
       "      <td>no</td>\n",
       "      <td>dsl</td>\n",
       "      <td>yes</td>\n",
       "      <td>...</td>\n",
       "      <td>no</td>\n",
       "      <td>yes</td>\n",
       "      <td>yes</td>\n",
       "      <td>no</td>\n",
       "      <td>one_year</td>\n",
       "      <td>no</td>\n",
       "      <td>electronic_check</td>\n",
       "      <td>70.40</td>\n",
       "      <td>2044.75</td>\n",
       "      <td>0</td>\n",
       "    </tr>\n",
       "    <tr>\n",
       "      <th>6672</th>\n",
       "      <td>2346-czyil</td>\n",
       "      <td>male</td>\n",
       "      <td>0</td>\n",
       "      <td>no</td>\n",
       "      <td>no</td>\n",
       "      <td>27</td>\n",
       "      <td>yes</td>\n",
       "      <td>no</td>\n",
       "      <td>no</td>\n",
       "      <td>no_internet_service</td>\n",
       "      <td>...</td>\n",
       "      <td>no_internet_service</td>\n",
       "      <td>no_internet_service</td>\n",
       "      <td>no_internet_service</td>\n",
       "      <td>no_internet_service</td>\n",
       "      <td>two_year</td>\n",
       "      <td>no</td>\n",
       "      <td>credit_card_(automatic)</td>\n",
       "      <td>20.35</td>\n",
       "      <td>531.60</td>\n",
       "      <td>0</td>\n",
       "    </tr>\n",
       "    <tr>\n",
       "      <th>6203</th>\n",
       "      <td>1090-pykci</td>\n",
       "      <td>female</td>\n",
       "      <td>0</td>\n",
       "      <td>yes</td>\n",
       "      <td>yes</td>\n",
       "      <td>69</td>\n",
       "      <td>yes</td>\n",
       "      <td>yes</td>\n",
       "      <td>fiber_optic</td>\n",
       "      <td>yes</td>\n",
       "      <td>...</td>\n",
       "      <td>yes</td>\n",
       "      <td>yes</td>\n",
       "      <td>yes</td>\n",
       "      <td>no</td>\n",
       "      <td>one_year</td>\n",
       "      <td>yes</td>\n",
       "      <td>credit_card_(automatic)</td>\n",
       "      <td>105.10</td>\n",
       "      <td>7234.80</td>\n",
       "      <td>0</td>\n",
       "    </tr>\n",
       "    <tr>\n",
       "      <th>1374</th>\n",
       "      <td>8999-ypybv</td>\n",
       "      <td>male</td>\n",
       "      <td>0</td>\n",
       "      <td>yes</td>\n",
       "      <td>yes</td>\n",
       "      <td>45</td>\n",
       "      <td>yes</td>\n",
       "      <td>no</td>\n",
       "      <td>dsl</td>\n",
       "      <td>yes</td>\n",
       "      <td>...</td>\n",
       "      <td>yes</td>\n",
       "      <td>yes</td>\n",
       "      <td>yes</td>\n",
       "      <td>yes</td>\n",
       "      <td>two_year</td>\n",
       "      <td>yes</td>\n",
       "      <td>mailed_check</td>\n",
       "      <td>84.35</td>\n",
       "      <td>3858.05</td>\n",
       "      <td>0</td>\n",
       "    </tr>\n",
       "    <tr>\n",
       "      <th>4902</th>\n",
       "      <td>5092-stpkp</td>\n",
       "      <td>female</td>\n",
       "      <td>0</td>\n",
       "      <td>no</td>\n",
       "      <td>no</td>\n",
       "      <td>24</td>\n",
       "      <td>yes</td>\n",
       "      <td>no</td>\n",
       "      <td>dsl</td>\n",
       "      <td>yes</td>\n",
       "      <td>...</td>\n",
       "      <td>no</td>\n",
       "      <td>yes</td>\n",
       "      <td>no</td>\n",
       "      <td>no</td>\n",
       "      <td>month-to-month</td>\n",
       "      <td>no</td>\n",
       "      <td>credit_card_(automatic)</td>\n",
       "      <td>56.35</td>\n",
       "      <td>1381.20</td>\n",
       "      <td>0</td>\n",
       "    </tr>\n",
       "    <tr>\n",
       "      <th>...</th>\n",
       "      <td>...</td>\n",
       "      <td>...</td>\n",
       "      <td>...</td>\n",
       "      <td>...</td>\n",
       "      <td>...</td>\n",
       "      <td>...</td>\n",
       "      <td>...</td>\n",
       "      <td>...</td>\n",
       "      <td>...</td>\n",
       "      <td>...</td>\n",
       "      <td>...</td>\n",
       "      <td>...</td>\n",
       "      <td>...</td>\n",
       "      <td>...</td>\n",
       "      <td>...</td>\n",
       "      <td>...</td>\n",
       "      <td>...</td>\n",
       "      <td>...</td>\n",
       "      <td>...</td>\n",
       "      <td>...</td>\n",
       "      <td>...</td>\n",
       "    </tr>\n",
       "    <tr>\n",
       "      <th>6121</th>\n",
       "      <td>7337-cinud</td>\n",
       "      <td>female</td>\n",
       "      <td>0</td>\n",
       "      <td>yes</td>\n",
       "      <td>yes</td>\n",
       "      <td>8</td>\n",
       "      <td>yes</td>\n",
       "      <td>no</td>\n",
       "      <td>no</td>\n",
       "      <td>no_internet_service</td>\n",
       "      <td>...</td>\n",
       "      <td>no_internet_service</td>\n",
       "      <td>no_internet_service</td>\n",
       "      <td>no_internet_service</td>\n",
       "      <td>no_internet_service</td>\n",
       "      <td>two_year</td>\n",
       "      <td>no</td>\n",
       "      <td>bank_transfer_(automatic)</td>\n",
       "      <td>19.50</td>\n",
       "      <td>159.35</td>\n",
       "      <td>0</td>\n",
       "    </tr>\n",
       "    <tr>\n",
       "      <th>562</th>\n",
       "      <td>3701-sfmuh</td>\n",
       "      <td>male</td>\n",
       "      <td>0</td>\n",
       "      <td>yes</td>\n",
       "      <td>yes</td>\n",
       "      <td>7</td>\n",
       "      <td>yes</td>\n",
       "      <td>no</td>\n",
       "      <td>dsl</td>\n",
       "      <td>yes</td>\n",
       "      <td>...</td>\n",
       "      <td>no</td>\n",
       "      <td>no</td>\n",
       "      <td>yes</td>\n",
       "      <td>yes</td>\n",
       "      <td>month-to-month</td>\n",
       "      <td>no</td>\n",
       "      <td>credit_card_(automatic)</td>\n",
       "      <td>69.70</td>\n",
       "      <td>516.15</td>\n",
       "      <td>0</td>\n",
       "    </tr>\n",
       "    <tr>\n",
       "      <th>2962</th>\n",
       "      <td>3237-ajgeh</td>\n",
       "      <td>female</td>\n",
       "      <td>0</td>\n",
       "      <td>yes</td>\n",
       "      <td>yes</td>\n",
       "      <td>3</td>\n",
       "      <td>no</td>\n",
       "      <td>no_phone_service</td>\n",
       "      <td>dsl</td>\n",
       "      <td>no</td>\n",
       "      <td>...</td>\n",
       "      <td>no</td>\n",
       "      <td>yes</td>\n",
       "      <td>no</td>\n",
       "      <td>no</td>\n",
       "      <td>month-to-month</td>\n",
       "      <td>yes</td>\n",
       "      <td>mailed_check</td>\n",
       "      <td>31.00</td>\n",
       "      <td>95.05</td>\n",
       "      <td>1</td>\n",
       "    </tr>\n",
       "    <tr>\n",
       "      <th>5056</th>\n",
       "      <td>3262-eidhv</td>\n",
       "      <td>female</td>\n",
       "      <td>0</td>\n",
       "      <td>yes</td>\n",
       "      <td>yes</td>\n",
       "      <td>72</td>\n",
       "      <td>yes</td>\n",
       "      <td>yes</td>\n",
       "      <td>dsl</td>\n",
       "      <td>yes</td>\n",
       "      <td>...</td>\n",
       "      <td>yes</td>\n",
       "      <td>yes</td>\n",
       "      <td>yes</td>\n",
       "      <td>yes</td>\n",
       "      <td>two_year</td>\n",
       "      <td>no</td>\n",
       "      <td>credit_card_(automatic)</td>\n",
       "      <td>84.70</td>\n",
       "      <td>5893.90</td>\n",
       "      <td>0</td>\n",
       "    </tr>\n",
       "    <tr>\n",
       "      <th>905</th>\n",
       "      <td>0781-lkxbr</td>\n",
       "      <td>male</td>\n",
       "      <td>1</td>\n",
       "      <td>no</td>\n",
       "      <td>no</td>\n",
       "      <td>9</td>\n",
       "      <td>yes</td>\n",
       "      <td>yes</td>\n",
       "      <td>fiber_optic</td>\n",
       "      <td>no</td>\n",
       "      <td>...</td>\n",
       "      <td>yes</td>\n",
       "      <td>no</td>\n",
       "      <td>yes</td>\n",
       "      <td>yes</td>\n",
       "      <td>month-to-month</td>\n",
       "      <td>yes</td>\n",
       "      <td>electronic_check</td>\n",
       "      <td>100.50</td>\n",
       "      <td>918.60</td>\n",
       "      <td>1</td>\n",
       "    </tr>\n",
       "  </tbody>\n",
       "</table>\n",
       "<p>564 rows × 21 columns</p>\n",
       "</div>"
      ],
      "text/plain": [
       "      customerid  gender  seniorcitizen partner dependents  tenure   \n",
       "3676  2364-ufrom    male              0      no         no      30  \\\n",
       "6672  2346-czyil    male              0      no         no      27   \n",
       "6203  1090-pykci  female              0     yes        yes      69   \n",
       "1374  8999-ypybv    male              0     yes        yes      45   \n",
       "4902  5092-stpkp  female              0      no         no      24   \n",
       "...          ...     ...            ...     ...        ...     ...   \n",
       "6121  7337-cinud  female              0     yes        yes       8   \n",
       "562   3701-sfmuh    male              0     yes        yes       7   \n",
       "2962  3237-ajgeh  female              0     yes        yes       3   \n",
       "5056  3262-eidhv  female              0     yes        yes      72   \n",
       "905   0781-lkxbr    male              1      no         no       9   \n",
       "\n",
       "     phoneservice     multiplelines internetservice       onlinesecurity  ...   \n",
       "3676          yes                no             dsl                  yes  ...  \\\n",
       "6672          yes                no              no  no_internet_service  ...   \n",
       "6203          yes               yes     fiber_optic                  yes  ...   \n",
       "1374          yes                no             dsl                  yes  ...   \n",
       "4902          yes                no             dsl                  yes  ...   \n",
       "...           ...               ...             ...                  ...  ...   \n",
       "6121          yes                no              no  no_internet_service  ...   \n",
       "562           yes                no             dsl                  yes  ...   \n",
       "2962           no  no_phone_service             dsl                   no  ...   \n",
       "5056          yes               yes             dsl                  yes  ...   \n",
       "905           yes               yes     fiber_optic                   no  ...   \n",
       "\n",
       "         deviceprotection          techsupport          streamingtv   \n",
       "3676                   no                  yes                  yes  \\\n",
       "6672  no_internet_service  no_internet_service  no_internet_service   \n",
       "6203                  yes                  yes                  yes   \n",
       "1374                  yes                  yes                  yes   \n",
       "4902                   no                  yes                   no   \n",
       "...                   ...                  ...                  ...   \n",
       "6121  no_internet_service  no_internet_service  no_internet_service   \n",
       "562                    no                   no                  yes   \n",
       "2962                   no                  yes                   no   \n",
       "5056                  yes                  yes                  yes   \n",
       "905                   yes                   no                  yes   \n",
       "\n",
       "          streamingmovies        contract paperlessbilling   \n",
       "3676                   no        one_year               no  \\\n",
       "6672  no_internet_service        two_year               no   \n",
       "6203                   no        one_year              yes   \n",
       "1374                  yes        two_year              yes   \n",
       "4902                   no  month-to-month               no   \n",
       "...                   ...             ...              ...   \n",
       "6121  no_internet_service        two_year               no   \n",
       "562                   yes  month-to-month               no   \n",
       "2962                   no  month-to-month              yes   \n",
       "5056                  yes        two_year               no   \n",
       "905                   yes  month-to-month              yes   \n",
       "\n",
       "                  paymentmethod monthlycharges  totalcharges  churn  \n",
       "3676           electronic_check          70.40       2044.75      0  \n",
       "6672    credit_card_(automatic)          20.35        531.60      0  \n",
       "6203    credit_card_(automatic)         105.10       7234.80      0  \n",
       "1374               mailed_check          84.35       3858.05      0  \n",
       "4902    credit_card_(automatic)          56.35       1381.20      0  \n",
       "...                         ...            ...           ...    ...  \n",
       "6121  bank_transfer_(automatic)          19.50        159.35      0  \n",
       "562     credit_card_(automatic)          69.70        516.15      0  \n",
       "2962               mailed_check          31.00         95.05      1  \n",
       "5056    credit_card_(automatic)          84.70       5893.90      0  \n",
       "905            electronic_check         100.50        918.60      1  \n",
       "\n",
       "[564 rows x 21 columns]"
      ]
     },
     "execution_count": 810,
     "metadata": {},
     "output_type": "execute_result"
    }
   ],
   "source": [
    "df_train_full.iloc[val_idx]"
   ]
  },
  {
   "cell_type": "code",
   "execution_count": 812,
   "id": "cb3ef668-6543-497d-8c80-3abfd6e8a8e0",
   "metadata": {
    "tags": []
   },
   "outputs": [],
   "source": [
    "# !poetry add tqdm"
   ]
  },
  {
   "cell_type": "code",
   "execution_count": 813,
   "id": "bd0cb31b-4ea3-439e-971c-1956e4032bde",
   "metadata": {
    "tags": []
   },
   "outputs": [],
   "source": [
    "from tqdm.auto import tqdm"
   ]
  },
  {
   "cell_type": "code",
   "execution_count": 825,
   "id": "305b5763-b07f-4819-b679-c51b3e77f031",
   "metadata": {
    "tags": []
   },
   "outputs": [
    {
     "data": {
      "application/vnd.jupyter.widget-view+json": {
       "model_id": "2147d04b1ec3498fbd6f521bde906693",
       "version_major": 2,
       "version_minor": 0
      },
      "text/plain": [
       "  0%|          | 0/9 [00:00<?, ?it/s]"
      ]
     },
     "metadata": {},
     "output_type": "display_data"
    },
    {
     "name": "stdout",
     "output_type": "stream",
     "text": [
      "C=1e-05 0.804 +- 0.013\n",
      "C=0.0001 0.811 +- 0.012\n",
      "C=0.001 0.826 +- 0.012\n",
      "C=0.01 0.840 +- 0.012\n",
      "C=0.05 0.841 +- 0.011\n",
      "C=1 0.840 +- 0.012\n",
      "C=2 0.841 +- 0.012\n",
      "C=5 0.841 +- 0.012\n",
      "C=10 0.841 +- 0.012\n"
     ]
    }
   ],
   "source": [
    "n_splits = 10 \n",
    "\n",
    "for C in tqdm([0.00001, 0.0001, 0.001, 0.01, .05, 1, 2, 5, 10], total =9):\n",
    "    kfold = KFold(n_splits = n_splits , shuffle=True, random_state=1)\n",
    "    auc_scores = []\n",
    "    for train_idx, val_idx in kfold.split(df_train_full):\n",
    "        df_train = df_train_full.iloc[train_idx]\n",
    "        df_val = df_train_full.iloc[val_idx]\n",
    "\n",
    "        y_train = df_train.churn.values\n",
    "        y_val = df_val.churn.values\n",
    "\n",
    "        dv, model = train(df_train, y_train,C)\n",
    "        y_pred = predict(df_val, dv, model)\n",
    "\n",
    "        auc = roc_auc_score(y_val, y_pred)\n",
    "\n",
    "        auc_scores.append(auc)\n",
    "        \n",
    "    print('C=%s %.3f +- %.3f' % (C, np.mean(auc_scores) , np.std(auc_scores)))"
   ]
  },
  {
   "cell_type": "code",
   "execution_count": 816,
   "id": "0f40f392-e5d0-4e75-a1ce-deb5620ce598",
   "metadata": {
    "tags": []
   },
   "outputs": [
    {
     "data": {
      "text/plain": [
       "[0.8479398247539081,\n",
       " 0.8410581683168317,\n",
       " 0.8557214756739697,\n",
       " 0.8333552794008724,\n",
       " 0.8262717121588089,\n",
       " 0.8342657342657342,\n",
       " 0.8412569195701727,\n",
       " 0.8186669829222013,\n",
       " 0.8452349192233585,\n",
       " 0.8621054754462034]"
      ]
     },
     "execution_count": 816,
     "metadata": {},
     "output_type": "execute_result"
    }
   ],
   "source": [
    "auc_scores"
   ]
  },
  {
   "cell_type": "code",
   "execution_count": 827,
   "id": "ea50067c-2454-4d67-a34d-a12c088a7eaa",
   "metadata": {
    "tags": []
   },
   "outputs": [
    {
     "data": {
      "text/plain": [
       "0.8572386167896259"
      ]
     },
     "execution_count": 827,
     "metadata": {},
     "output_type": "execute_result"
    }
   ],
   "source": [
    "dv, model = train(df_train_full, df_train_full.churn.values, C=1.0)\n",
    "y_pred = predict(df_test, dv, model)\n",
    "\n",
    "y_test = df_test.churn.values\n",
    "auc = roc_auc_score(y_test, y_pred)\n",
    "auc"
   ]
  }
 ],
 "metadata": {
  "kernelspec": {
   "display_name": "Python 3 (ipykernel)",
   "language": "python",
   "name": "python3"
  },
  "language_info": {
   "codemirror_mode": {
    "name": "ipython",
    "version": 3
   },
   "file_extension": ".py",
   "mimetype": "text/x-python",
   "name": "python",
   "nbconvert_exporter": "python",
   "pygments_lexer": "ipython3",
   "version": "3.9.16"
  }
 },
 "nbformat": 4,
 "nbformat_minor": 5
}
