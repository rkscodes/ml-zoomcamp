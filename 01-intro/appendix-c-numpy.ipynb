{
 "cells": [
  {
   "cell_type": "code",
   "execution_count": 1,
   "metadata": {
    "execution": {
     "iopub.execute_input": "2023-09-17T13:52:39.250216Z",
     "iopub.status.busy": "2023-09-17T13:52:39.249720Z",
     "iopub.status.idle": "2023-09-17T13:52:39.386520Z",
     "shell.execute_reply": "2023-09-17T13:52:39.351290Z",
     "shell.execute_reply.started": "2023-09-17T13:52:39.250165Z"
    },
    "tags": []
   },
   "outputs": [],
   "source": [
    "import numpy as np"
   ]
  },
  {
   "cell_type": "markdown",
   "metadata": {},
   "source": [
    "## NumPy arrays"
   ]
  },
  {
   "cell_type": "markdown",
   "metadata": {},
   "source": [
    "Creating arrays\n",
    "\n",
    "* `np.zeros`\n",
    "* `np.ones`\n",
    "* `np.full`\n",
    "* `np.repeat`\n",
    "* `np.array`\n",
    "* `np.arange`"
   ]
  },
  {
   "cell_type": "code",
   "execution_count": 2,
   "metadata": {
    "execution": {
     "iopub.execute_input": "2023-09-17T13:52:39.393915Z",
     "iopub.status.busy": "2023-09-17T13:52:39.393331Z",
     "iopub.status.idle": "2023-09-17T13:52:39.411152Z",
     "shell.execute_reply": "2023-09-17T13:52:39.410089Z",
     "shell.execute_reply.started": "2023-09-17T13:52:39.393890Z"
    },
    "tags": []
   },
   "outputs": [
    {
     "data": {
      "text/plain": [
       "array([0., 0., 0., 0., 0., 0., 0., 0., 0., 0.])"
      ]
     },
     "execution_count": 2,
     "metadata": {},
     "output_type": "execute_result"
    }
   ],
   "source": [
    "zeros = np.zeros(10)\n",
    "zeros"
   ]
  },
  {
   "cell_type": "code",
   "execution_count": 3,
   "metadata": {
    "execution": {
     "iopub.execute_input": "2023-09-17T13:52:39.412947Z",
     "iopub.status.busy": "2023-09-17T13:52:39.412704Z",
     "iopub.status.idle": "2023-09-17T13:52:39.419762Z",
     "shell.execute_reply": "2023-09-17T13:52:39.418888Z",
     "shell.execute_reply.started": "2023-09-17T13:52:39.412923Z"
    },
    "tags": []
   },
   "outputs": [
    {
     "data": {
      "text/plain": [
       "array([1., 1., 1., 1., 1., 1., 1., 1., 1., 1.])"
      ]
     },
     "execution_count": 3,
     "metadata": {},
     "output_type": "execute_result"
    }
   ],
   "source": [
    "ones = np.ones(10)\n",
    "ones"
   ]
  },
  {
   "cell_type": "code",
   "execution_count": 4,
   "metadata": {
    "execution": {
     "iopub.execute_input": "2023-09-17T13:52:39.421345Z",
     "iopub.status.busy": "2023-09-17T13:52:39.421103Z",
     "iopub.status.idle": "2023-09-17T13:52:39.426720Z",
     "shell.execute_reply": "2023-09-17T13:52:39.425921Z",
     "shell.execute_reply.started": "2023-09-17T13:52:39.421321Z"
    },
    "tags": []
   },
   "outputs": [
    {
     "data": {
      "text/plain": [
       "array([1, 1, 1, 1, 1, 1, 1, 1, 1, 1])"
      ]
     },
     "execution_count": 4,
     "metadata": {},
     "output_type": "execute_result"
    }
   ],
   "source": [
    "array = np.full(10, 1)\n",
    "array"
   ]
  },
  {
   "cell_type": "code",
   "execution_count": 5,
   "metadata": {
    "execution": {
     "iopub.execute_input": "2023-09-17T13:52:39.430488Z",
     "iopub.status.busy": "2023-09-17T13:52:39.430148Z",
     "iopub.status.idle": "2023-09-17T13:52:39.438299Z",
     "shell.execute_reply": "2023-09-17T13:52:39.437578Z",
     "shell.execute_reply.started": "2023-09-17T13:52:39.430463Z"
    },
    "tags": []
   },
   "outputs": [
    {
     "data": {
      "text/plain": [
       "array([0., 0., 0., 0., 0., 0., 0., 0., 0., 0.])"
      ]
     },
     "execution_count": 5,
     "metadata": {},
     "output_type": "execute_result"
    }
   ],
   "source": [
    "array = np.repeat(0.0, 10) \n",
    "array"
   ]
  },
  {
   "cell_type": "code",
   "execution_count": 6,
   "metadata": {
    "execution": {
     "iopub.execute_input": "2023-09-17T13:52:39.439736Z",
     "iopub.status.busy": "2023-09-17T13:52:39.439421Z",
     "iopub.status.idle": "2023-09-17T13:52:39.445613Z",
     "shell.execute_reply": "2023-09-17T13:52:39.444838Z",
     "shell.execute_reply.started": "2023-09-17T13:52:39.439709Z"
    },
    "tags": []
   },
   "outputs": [
    {
     "data": {
      "text/plain": [
       "array([0., 0., 0., 0., 0., 1., 1., 1., 1., 1.])"
      ]
     },
     "execution_count": 6,
     "metadata": {},
     "output_type": "execute_result"
    }
   ],
   "source": [
    "array = np.repeat([0.0, 1.0], 5)\n",
    "array"
   ]
  },
  {
   "cell_type": "code",
   "execution_count": 7,
   "metadata": {
    "execution": {
     "iopub.execute_input": "2023-09-17T13:52:39.447141Z",
     "iopub.status.busy": "2023-09-17T13:52:39.446631Z",
     "iopub.status.idle": "2023-09-17T13:52:39.453477Z",
     "shell.execute_reply": "2023-09-17T13:52:39.452418Z",
     "shell.execute_reply.started": "2023-09-17T13:52:39.447112Z"
    },
    "tags": []
   },
   "outputs": [
    {
     "data": {
      "text/plain": [
       "array([0., 0., 1., 1., 1.])"
      ]
     },
     "execution_count": 7,
     "metadata": {},
     "output_type": "execute_result"
    }
   ],
   "source": [
    "array = np.repeat([0.0, 1.0], [2, 3])\n",
    "array"
   ]
  },
  {
   "cell_type": "markdown",
   "metadata": {},
   "source": [
    "Accessing the element of an array by index:"
   ]
  },
  {
   "cell_type": "code",
   "execution_count": 8,
   "metadata": {
    "execution": {
     "iopub.execute_input": "2023-09-17T13:52:39.455238Z",
     "iopub.status.busy": "2023-09-17T13:52:39.454932Z",
     "iopub.status.idle": "2023-09-17T13:52:39.459736Z",
     "shell.execute_reply": "2023-09-17T13:52:39.458956Z",
     "shell.execute_reply.started": "2023-09-17T13:52:39.455214Z"
    },
    "tags": []
   },
   "outputs": [
    {
     "name": "stdout",
     "output_type": "stream",
     "text": [
      "0.0\n"
     ]
    }
   ],
   "source": [
    "el = array[1]\n",
    "print(el)"
   ]
  },
  {
   "cell_type": "markdown",
   "metadata": {},
   "source": [
    "Accessing multiple elements of an array by a list of indices:"
   ]
  },
  {
   "cell_type": "code",
   "execution_count": 9,
   "metadata": {
    "execution": {
     "iopub.execute_input": "2023-09-17T13:52:39.461328Z",
     "iopub.status.busy": "2023-09-17T13:52:39.461072Z",
     "iopub.status.idle": "2023-09-17T13:52:39.465120Z",
     "shell.execute_reply": "2023-09-17T13:52:39.464468Z",
     "shell.execute_reply.started": "2023-09-17T13:52:39.461304Z"
    },
    "tags": []
   },
   "outputs": [],
   "source": [
    "array = np.array([1,2,3,4,5,6,7])"
   ]
  },
  {
   "cell_type": "code",
   "execution_count": 10,
   "metadata": {
    "execution": {
     "iopub.execute_input": "2023-09-17T13:52:39.466940Z",
     "iopub.status.busy": "2023-09-17T13:52:39.466527Z",
     "iopub.status.idle": "2023-09-17T13:52:39.474658Z",
     "shell.execute_reply": "2023-09-17T13:52:39.472746Z",
     "shell.execute_reply.started": "2023-09-17T13:52:39.466882Z"
    },
    "tags": []
   },
   "outputs": [
    {
     "data": {
      "text/plain": [
       "array([5, 3, 1])"
      ]
     },
     "execution_count": 10,
     "metadata": {},
     "output_type": "execute_result"
    }
   ],
   "source": [
    "array[[4, 2, 0]]"
   ]
  },
  {
   "cell_type": "markdown",
   "metadata": {},
   "source": [
    "Assignment:"
   ]
  },
  {
   "cell_type": "code",
   "execution_count": 11,
   "metadata": {
    "execution": {
     "iopub.execute_input": "2023-09-17T13:52:39.476393Z",
     "iopub.status.busy": "2023-09-17T13:52:39.476038Z",
     "iopub.status.idle": "2023-09-17T13:52:39.480877Z",
     "shell.execute_reply": "2023-09-17T13:52:39.480202Z",
     "shell.execute_reply.started": "2023-09-17T13:52:39.476368Z"
    },
    "tags": []
   },
   "outputs": [
    {
     "name": "stdout",
     "output_type": "stream",
     "text": [
      "[1 1 3 4 5 6 7]\n"
     ]
    }
   ],
   "source": [
    "array[1] = 1\n",
    "print(array)"
   ]
  },
  {
   "cell_type": "markdown",
   "metadata": {},
   "source": [
    "Creating an array from a list with integers:"
   ]
  },
  {
   "cell_type": "code",
   "execution_count": 12,
   "metadata": {
    "execution": {
     "iopub.execute_input": "2023-09-17T13:52:39.483449Z",
     "iopub.status.busy": "2023-09-17T13:52:39.482911Z",
     "iopub.status.idle": "2023-09-17T13:52:39.491019Z",
     "shell.execute_reply": "2023-09-17T13:52:39.490110Z",
     "shell.execute_reply.started": "2023-09-17T13:52:39.483408Z"
    },
    "tags": []
   },
   "outputs": [
    {
     "data": {
      "text/plain": [
       "array([1, 2, 3, 4])"
      ]
     },
     "execution_count": 12,
     "metadata": {},
     "output_type": "execute_result"
    }
   ],
   "source": [
    "elements = [1, 2, 3, 4]\n",
    "array = np.array(elements)\n",
    "array"
   ]
  },
  {
   "cell_type": "markdown",
   "metadata": {},
   "source": [
    "Specifying the type of elements:"
   ]
  },
  {
   "cell_type": "code",
   "execution_count": 13,
   "metadata": {
    "execution": {
     "iopub.execute_input": "2023-09-17T13:52:39.492765Z",
     "iopub.status.busy": "2023-09-17T13:52:39.492443Z",
     "iopub.status.idle": "2023-09-17T13:52:39.498639Z",
     "shell.execute_reply": "2023-09-17T13:52:39.497740Z",
     "shell.execute_reply.started": "2023-09-17T13:52:39.492741Z"
    },
    "tags": []
   },
   "outputs": [
    {
     "data": {
      "text/plain": [
       "array([0, 0, 0, 0, 0, 0, 0, 0, 0, 0], dtype=uint8)"
      ]
     },
     "execution_count": 13,
     "metadata": {},
     "output_type": "execute_result"
    }
   ],
   "source": [
    "zeros = np.zeros(10, dtype=np.uint8)\n",
    "zeros"
   ]
  },
  {
   "cell_type": "markdown",
   "metadata": {},
   "source": [
    "`np.arange` for creating ranges:"
   ]
  },
  {
   "cell_type": "code",
   "execution_count": 14,
   "metadata": {
    "execution": {
     "iopub.execute_input": "2023-09-17T13:52:39.509113Z",
     "iopub.status.busy": "2023-09-17T13:52:39.508707Z",
     "iopub.status.idle": "2023-09-17T13:52:39.513956Z",
     "shell.execute_reply": "2023-09-17T13:52:39.512785Z",
     "shell.execute_reply.started": "2023-09-17T13:52:39.509084Z"
    },
    "tags": []
   },
   "outputs": [
    {
     "name": "stdout",
     "output_type": "stream",
     "text": [
      "0\n",
      "1\n",
      "2\n",
      "3\n",
      "4\n"
     ]
    }
   ],
   "source": [
    "for i in np.arange(5):\n",
    "    print(i)"
   ]
  },
  {
   "cell_type": "code",
   "execution_count": 15,
   "metadata": {
    "execution": {
     "iopub.execute_input": "2023-09-17T13:52:39.515858Z",
     "iopub.status.busy": "2023-09-17T13:52:39.515357Z",
     "iopub.status.idle": "2023-09-17T13:52:39.524242Z",
     "shell.execute_reply": "2023-09-17T13:52:39.522793Z",
     "shell.execute_reply.started": "2023-09-17T13:52:39.515829Z"
    },
    "tags": []
   },
   "outputs": [
    {
     "name": "stdout",
     "output_type": "stream",
     "text": [
      "1\n",
      "2\n",
      "3\n",
      "4\n"
     ]
    }
   ],
   "source": [
    "#Also you could mention start stop for arange()\n",
    "\n",
    "for i in np.arange(start=1, stop=5):\n",
    "    print(i)"
   ]
  },
  {
   "cell_type": "markdown",
   "metadata": {},
   "source": [
    "Linspace - for creating an array with elements from `start` till `end` of a certain size: "
   ]
  },
  {
   "cell_type": "code",
   "execution_count": 16,
   "metadata": {
    "execution": {
     "iopub.execute_input": "2023-09-17T13:52:39.525515Z",
     "iopub.status.busy": "2023-09-17T13:52:39.525382Z",
     "iopub.status.idle": "2023-09-17T13:52:39.531927Z",
     "shell.execute_reply": "2023-09-17T13:52:39.530926Z",
     "shell.execute_reply.started": "2023-09-17T13:52:39.525504Z"
    },
    "tags": []
   },
   "outputs": [
    {
     "data": {
      "text/plain": [
       "array([0. , 0.1, 0.2, 0.3, 0.4, 0.5, 0.6, 0.7, 0.8, 0.9, 1. ])"
      ]
     },
     "execution_count": 16,
     "metadata": {},
     "output_type": "execute_result"
    }
   ],
   "source": [
    "thresholds = np.linspace(0, 1, 11)\n",
    "thresholds"
   ]
  },
  {
   "cell_type": "markdown",
   "metadata": {},
   "source": [
    "Be careful with overflowing:"
   ]
  },
  {
   "cell_type": "code",
   "execution_count": 17,
   "metadata": {
    "execution": {
     "iopub.execute_input": "2023-09-17T13:52:39.534862Z",
     "iopub.status.busy": "2023-09-17T13:52:39.533103Z",
     "iopub.status.idle": "2023-09-17T13:52:39.543553Z",
     "shell.execute_reply": "2023-09-17T13:52:39.542442Z",
     "shell.execute_reply.started": "2023-09-17T13:52:39.534841Z"
    },
    "tags": []
   },
   "outputs": [
    {
     "data": {
      "text/plain": [
       "array([44,  0,  0,  0,  0,  0,  0,  0,  0,  0], dtype=uint8)"
      ]
     },
     "execution_count": 17,
     "metadata": {},
     "output_type": "execute_result"
    }
   ],
   "source": [
    "zeros[0] = 300\n",
    "zeros"
   ]
  },
  {
   "cell_type": "code",
   "execution_count": 18,
   "metadata": {
    "execution": {
     "iopub.execute_input": "2023-09-17T13:52:39.544886Z",
     "iopub.status.busy": "2023-09-17T13:52:39.544779Z",
     "iopub.status.idle": "2023-09-17T13:52:39.548716Z",
     "shell.execute_reply": "2023-09-17T13:52:39.548015Z",
     "shell.execute_reply.started": "2023-09-17T13:52:39.544877Z"
    },
    "tags": []
   },
   "outputs": [
    {
     "name": "stdout",
     "output_type": "stream",
     "text": [
      "44\n"
     ]
    }
   ],
   "source": [
    "zeros[0] = 300\n",
    "print(zeros[0])"
   ]
  },
  {
   "cell_type": "code",
   "execution_count": 19,
   "metadata": {
    "execution": {
     "iopub.execute_input": "2023-09-17T13:52:39.551964Z",
     "iopub.status.busy": "2023-09-17T13:52:39.551162Z",
     "iopub.status.idle": "2023-09-17T13:52:39.556483Z",
     "shell.execute_reply": "2023-09-17T13:52:39.555159Z",
     "shell.execute_reply.started": "2023-09-17T13:52:39.551948Z"
    },
    "scrolled": true,
    "tags": []
   },
   "outputs": [
    {
     "data": {
      "text/plain": [
       "44"
      ]
     },
     "execution_count": 19,
     "metadata": {},
     "output_type": "execute_result"
    }
   ],
   "source": [
    "300 % 256"
   ]
  },
  {
   "cell_type": "markdown",
   "metadata": {
    "tags": []
   },
   "source": [
    "## Multi-dimensional NumPy arrays"
   ]
  },
  {
   "cell_type": "markdown",
   "metadata": {},
   "source": [
    "Specify the shape with a tuple:"
   ]
  },
  {
   "cell_type": "code",
   "execution_count": 20,
   "metadata": {
    "execution": {
     "iopub.execute_input": "2023-09-17T13:52:39.557948Z",
     "iopub.status.busy": "2023-09-17T13:52:39.557800Z",
     "iopub.status.idle": "2023-09-17T13:52:39.563287Z",
     "shell.execute_reply": "2023-09-17T13:52:39.562426Z",
     "shell.execute_reply.started": "2023-09-17T13:52:39.557937Z"
    },
    "tags": []
   },
   "outputs": [
    {
     "data": {
      "text/plain": [
       "array([[0., 0.],\n",
       "       [0., 0.],\n",
       "       [0., 0.],\n",
       "       [0., 0.],\n",
       "       [0., 0.]], dtype=float32)"
      ]
     },
     "execution_count": 20,
     "metadata": {},
     "output_type": "execute_result"
    }
   ],
   "source": [
    "zeros = np.zeros((5, 2), dtype=np.float32)\n",
    "zeros"
   ]
  },
  {
   "cell_type": "code",
   "execution_count": 21,
   "metadata": {
    "execution": {
     "iopub.execute_input": "2023-09-17T13:52:39.564834Z",
     "iopub.status.busy": "2023-09-17T13:52:39.564700Z",
     "iopub.status.idle": "2023-09-17T13:52:39.568667Z",
     "shell.execute_reply": "2023-09-17T13:52:39.567628Z",
     "shell.execute_reply.started": "2023-09-17T13:52:39.564823Z"
    },
    "tags": []
   },
   "outputs": [
    {
     "name": "stdout",
     "output_type": "stream",
     "text": [
      "(5, 2)\n"
     ]
    }
   ],
   "source": [
    "print(zeros.shape)"
   ]
  },
  {
   "cell_type": "code",
   "execution_count": 22,
   "metadata": {
    "execution": {
     "iopub.execute_input": "2023-09-17T13:52:39.571690Z",
     "iopub.status.busy": "2023-09-17T13:52:39.570844Z",
     "iopub.status.idle": "2023-09-17T13:52:39.575634Z",
     "shell.execute_reply": "2023-09-17T13:52:39.574792Z",
     "shell.execute_reply.started": "2023-09-17T13:52:39.571674Z"
    },
    "tags": []
   },
   "outputs": [],
   "source": [
    "numbers = [\n",
    "    [1, 2, 3],\n",
    "    [4, 5, 6],\n",
    "    [7, 8, 9]\n",
    "]\n",
    "\n",
    "numbers = np.array(numbers)"
   ]
  },
  {
   "cell_type": "code",
   "execution_count": 23,
   "metadata": {
    "execution": {
     "iopub.execute_input": "2023-09-17T13:52:39.577083Z",
     "iopub.status.busy": "2023-09-17T13:52:39.576979Z",
     "iopub.status.idle": "2023-09-17T13:52:39.581251Z",
     "shell.execute_reply": "2023-09-17T13:52:39.579960Z",
     "shell.execute_reply.started": "2023-09-17T13:52:39.577074Z"
    },
    "tags": []
   },
   "outputs": [
    {
     "name": "stdout",
     "output_type": "stream",
     "text": [
      "2\n"
     ]
    }
   ],
   "source": [
    "print(numbers[0, 1])"
   ]
  },
  {
   "cell_type": "code",
   "execution_count": 24,
   "metadata": {
    "execution": {
     "iopub.execute_input": "2023-09-17T13:52:39.583308Z",
     "iopub.status.busy": "2023-09-17T13:52:39.582682Z",
     "iopub.status.idle": "2023-09-17T13:52:39.588332Z",
     "shell.execute_reply": "2023-09-17T13:52:39.587523Z",
     "shell.execute_reply.started": "2023-09-17T13:52:39.583274Z"
    },
    "tags": []
   },
   "outputs": [
    {
     "name": "stdout",
     "output_type": "stream",
     "text": [
      "2\n"
     ]
    }
   ],
   "source": [
    "#also can we use double bracket\n",
    "print(numbers[0][1])"
   ]
  },
  {
   "cell_type": "markdown",
   "metadata": {},
   "source": [
    "Assignment: use a tuple (row index, column index)"
   ]
  },
  {
   "cell_type": "code",
   "execution_count": 25,
   "metadata": {
    "execution": {
     "iopub.execute_input": "2023-09-17T13:52:39.589506Z",
     "iopub.status.busy": "2023-09-17T13:52:39.589399Z",
     "iopub.status.idle": "2023-09-17T13:52:39.593366Z",
     "shell.execute_reply": "2023-09-17T13:52:39.592696Z",
     "shell.execute_reply.started": "2023-09-17T13:52:39.589495Z"
    },
    "tags": []
   },
   "outputs": [],
   "source": [
    "numbers[0, 1] = 10"
   ]
  },
  {
   "cell_type": "code",
   "execution_count": 26,
   "metadata": {
    "execution": {
     "iopub.execute_input": "2023-09-17T13:52:39.594452Z",
     "iopub.status.busy": "2023-09-17T13:52:39.594222Z",
     "iopub.status.idle": "2023-09-17T13:52:39.599082Z",
     "shell.execute_reply": "2023-09-17T13:52:39.598140Z",
     "shell.execute_reply.started": "2023-09-17T13:52:39.594360Z"
    },
    "tags": []
   },
   "outputs": [
    {
     "data": {
      "text/plain": [
       "array([[ 1, 10,  3],\n",
       "       [ 4,  5,  6],\n",
       "       [ 7,  8,  9]])"
      ]
     },
     "execution_count": 26,
     "metadata": {},
     "output_type": "execute_result"
    }
   ],
   "source": [
    "numbers"
   ]
  },
  {
   "cell_type": "code",
   "execution_count": 27,
   "metadata": {
    "execution": {
     "iopub.execute_input": "2023-09-17T13:52:39.599891Z",
     "iopub.status.busy": "2023-09-17T13:52:39.599779Z",
     "iopub.status.idle": "2023-09-17T13:52:39.603581Z",
     "shell.execute_reply": "2023-09-17T13:52:39.603295Z",
     "shell.execute_reply.started": "2023-09-17T13:52:39.599881Z"
    },
    "tags": []
   },
   "outputs": [
    {
     "data": {
      "text/plain": [
       "array([ 1, 10,  3])"
      ]
     },
     "execution_count": 27,
     "metadata": {},
     "output_type": "execute_result"
    }
   ],
   "source": [
    "numbers[0]"
   ]
  },
  {
   "cell_type": "markdown",
   "metadata": {},
   "source": [
    "Slicing: getting a column:"
   ]
  },
  {
   "cell_type": "code",
   "execution_count": 28,
   "metadata": {
    "execution": {
     "iopub.execute_input": "2023-09-17T13:52:39.604434Z",
     "iopub.status.busy": "2023-09-17T13:52:39.604140Z",
     "iopub.status.idle": "2023-09-17T13:52:39.607566Z",
     "shell.execute_reply": "2023-09-17T13:52:39.607268Z",
     "shell.execute_reply.started": "2023-09-17T13:52:39.604422Z"
    },
    "tags": []
   },
   "outputs": [
    {
     "data": {
      "text/plain": [
       "array([10,  5,  8])"
      ]
     },
     "execution_count": 28,
     "metadata": {},
     "output_type": "execute_result"
    }
   ],
   "source": [
    "numbers[:, 1]"
   ]
  },
  {
   "cell_type": "markdown",
   "metadata": {},
   "source": [
    "Assigning a row:"
   ]
  },
  {
   "cell_type": "code",
   "execution_count": 29,
   "metadata": {
    "execution": {
     "iopub.execute_input": "2023-09-17T13:52:39.608125Z",
     "iopub.status.busy": "2023-09-17T13:52:39.608035Z",
     "iopub.status.idle": "2023-09-17T13:52:39.610677Z",
     "shell.execute_reply": "2023-09-17T13:52:39.610178Z",
     "shell.execute_reply.started": "2023-09-17T13:52:39.608115Z"
    },
    "tags": []
   },
   "outputs": [],
   "source": [
    "numbers[1] = [1, 1, 1]"
   ]
  },
  {
   "cell_type": "code",
   "execution_count": 30,
   "metadata": {
    "execution": {
     "iopub.execute_input": "2023-09-17T13:52:39.611338Z",
     "iopub.status.busy": "2023-09-17T13:52:39.611201Z",
     "iopub.status.idle": "2023-09-17T13:52:39.614296Z",
     "shell.execute_reply": "2023-09-17T13:52:39.613981Z",
     "shell.execute_reply.started": "2023-09-17T13:52:39.611328Z"
    },
    "tags": []
   },
   "outputs": [
    {
     "data": {
      "text/plain": [
       "array([[ 1, 10,  3],\n",
       "       [ 1,  1,  1],\n",
       "       [ 7,  8,  9]])"
      ]
     },
     "execution_count": 30,
     "metadata": {},
     "output_type": "execute_result"
    }
   ],
   "source": [
    "numbers"
   ]
  },
  {
   "cell_type": "markdown",
   "metadata": {},
   "source": [
    "Assigning a column:"
   ]
  },
  {
   "cell_type": "code",
   "execution_count": 31,
   "metadata": {
    "execution": {
     "iopub.execute_input": "2023-09-17T13:52:39.614897Z",
     "iopub.status.busy": "2023-09-17T13:52:39.614787Z",
     "iopub.status.idle": "2023-09-17T13:52:39.616662Z",
     "shell.execute_reply": "2023-09-17T13:52:39.616396Z",
     "shell.execute_reply.started": "2023-09-17T13:52:39.614887Z"
    },
    "tags": []
   },
   "outputs": [],
   "source": [
    "numbers[:, 2] = [9, 9, 9]"
   ]
  },
  {
   "cell_type": "code",
   "execution_count": 32,
   "metadata": {
    "execution": {
     "iopub.execute_input": "2023-09-17T13:52:39.617959Z",
     "iopub.status.busy": "2023-09-17T13:52:39.617712Z",
     "iopub.status.idle": "2023-09-17T13:52:39.621301Z",
     "shell.execute_reply": "2023-09-17T13:52:39.620941Z",
     "shell.execute_reply.started": "2023-09-17T13:52:39.617948Z"
    },
    "tags": []
   },
   "outputs": [
    {
     "data": {
      "text/plain": [
       "array([[ 1, 10,  9],\n",
       "       [ 1,  1,  9],\n",
       "       [ 7,  8,  9]])"
      ]
     },
     "execution_count": 32,
     "metadata": {},
     "output_type": "execute_result"
    }
   ],
   "source": [
    "numbers"
   ]
  },
  {
   "cell_type": "code",
   "execution_count": 33,
   "metadata": {
    "execution": {
     "iopub.execute_input": "2023-09-17T13:52:39.621925Z",
     "iopub.status.busy": "2023-09-17T13:52:39.621792Z",
     "iopub.status.idle": "2023-09-17T13:52:39.625199Z",
     "shell.execute_reply": "2023-09-17T13:52:39.624611Z",
     "shell.execute_reply.started": "2023-09-17T13:52:39.621915Z"
    },
    "tags": []
   },
   "outputs": [
    {
     "data": {
      "text/plain": [
       "array([1, 1, 9])"
      ]
     },
     "execution_count": 33,
     "metadata": {},
     "output_type": "execute_result"
    }
   ],
   "source": [
    "# Accessing mutiple index in 2d array\n",
    "numbers[[0,1,2], [0,1,2]]"
   ]
  },
  {
   "cell_type": "markdown",
   "metadata": {},
   "source": [
    "## Randomly generated arrays\n"
   ]
  },
  {
   "cell_type": "markdown",
   "metadata": {},
   "source": [
    "Uniform random numbers between 0 and 1 of shape (5, 2):"
   ]
  },
  {
   "cell_type": "code",
   "execution_count": 34,
   "metadata": {
    "execution": {
     "iopub.execute_input": "2023-09-17T13:52:39.625739Z",
     "iopub.status.busy": "2023-09-17T13:52:39.625639Z",
     "iopub.status.idle": "2023-09-17T13:52:39.628297Z",
     "shell.execute_reply": "2023-09-17T13:52:39.627996Z",
     "shell.execute_reply.started": "2023-09-17T13:52:39.625729Z"
    },
    "tags": []
   },
   "outputs": [
    {
     "data": {
      "text/plain": [
       "array([[0.08473468, 0.03732783],\n",
       "       [0.52343304, 0.70326264],\n",
       "       [0.40199151, 0.92631481],\n",
       "       [0.39477308, 0.28078725],\n",
       "       [0.8977485 , 0.17276739]])"
      ]
     },
     "execution_count": 34,
     "metadata": {},
     "output_type": "execute_result"
    }
   ],
   "source": [
    "np.random.rand(5, 2)"
   ]
  },
  {
   "cell_type": "markdown",
   "metadata": {},
   "source": [
    "Set seed for reproducibility:"
   ]
  },
  {
   "cell_type": "code",
   "execution_count": 35,
   "metadata": {
    "execution": {
     "iopub.execute_input": "2023-09-17T13:52:39.628809Z",
     "iopub.status.busy": "2023-09-17T13:52:39.628726Z",
     "iopub.status.idle": "2023-09-17T13:52:39.631285Z",
     "shell.execute_reply": "2023-09-17T13:52:39.630984Z",
     "shell.execute_reply.started": "2023-09-17T13:52:39.628801Z"
    },
    "tags": []
   },
   "outputs": [
    {
     "data": {
      "text/plain": [
       "array([[0.4359949 , 0.02592623],\n",
       "       [0.54966248, 0.43532239],\n",
       "       [0.4203678 , 0.33033482],\n",
       "       [0.20464863, 0.61927097],\n",
       "       [0.29965467, 0.26682728]])"
      ]
     },
     "execution_count": 35,
     "metadata": {},
     "output_type": "execute_result"
    }
   ],
   "source": [
    "np.random.seed(2)\n",
    "arr = np.random.rand(5, 2)\n",
    "arr"
   ]
  },
  {
   "cell_type": "code",
   "execution_count": 36,
   "metadata": {
    "execution": {
     "iopub.execute_input": "2023-09-17T13:52:39.632017Z",
     "iopub.status.busy": "2023-09-17T13:52:39.631919Z",
     "iopub.status.idle": "2023-09-17T13:52:39.635295Z",
     "shell.execute_reply": "2023-09-17T13:52:39.634969Z",
     "shell.execute_reply.started": "2023-09-17T13:52:39.632007Z"
    },
    "tags": []
   },
   "outputs": [
    {
     "data": {
      "text/plain": [
       "array([[-0.41675785, -0.05626683],\n",
       "       [-2.1361961 ,  1.64027081],\n",
       "       [-1.79343559, -0.84174737],\n",
       "       [ 0.50288142, -1.24528809],\n",
       "       [-1.05795222, -0.90900761]])"
      ]
     },
     "execution_count": 36,
     "metadata": {},
     "output_type": "execute_result"
    }
   ],
   "source": [
    "np.random.seed(2)\n",
    "np.random.randn(5, 2)"
   ]
  },
  {
   "cell_type": "markdown",
   "metadata": {},
   "source": [
    "Random integers between 0 and 99 (100 is not included)"
   ]
  },
  {
   "cell_type": "code",
   "execution_count": 37,
   "metadata": {
    "execution": {
     "iopub.execute_input": "2023-09-17T13:52:39.635900Z",
     "iopub.status.busy": "2023-09-17T13:52:39.635788Z",
     "iopub.status.idle": "2023-09-17T13:52:39.639666Z",
     "shell.execute_reply": "2023-09-17T13:52:39.638586Z",
     "shell.execute_reply.started": "2023-09-17T13:52:39.635891Z"
    },
    "tags": []
   },
   "outputs": [
    {
     "data": {
      "text/plain": [
       "array([[40, 15],\n",
       "       [72, 22],\n",
       "       [43, 82],\n",
       "       [75,  7],\n",
       "       [34, 49]])"
      ]
     },
     "execution_count": 37,
     "metadata": {},
     "output_type": "execute_result"
    }
   ],
   "source": [
    "np.random.seed(2)\n",
    "np.random.randint(low=0, high=100, size=(5, 2))"
   ]
  },
  {
   "cell_type": "code",
   "execution_count": 38,
   "metadata": {
    "execution": {
     "iopub.execute_input": "2023-09-17T13:52:39.640633Z",
     "iopub.status.busy": "2023-09-17T13:52:39.640317Z",
     "iopub.status.idle": "2023-09-17T13:52:39.644524Z",
     "shell.execute_reply": "2023-09-17T13:52:39.644018Z",
     "shell.execute_reply.started": "2023-09-17T13:52:39.640622Z"
    },
    "tags": []
   },
   "outputs": [
    {
     "data": {
      "text/plain": [
       "array([1, 8])"
      ]
     },
     "execution_count": 38,
     "metadata": {},
     "output_type": "execute_result"
    }
   ],
   "source": [
    "#You can also access the multiple element in 2d or more dimension array \n",
    "\n",
    "array = np.array([[[1,2],[3,4]],[[5,6],[7,8]]])\n",
    "\n",
    "array[[0,1],[0,1],[0,1]] # [x...], [y...], [z...]"
   ]
  },
  {
   "cell_type": "code",
   "execution_count": 39,
   "metadata": {
    "execution": {
     "iopub.execute_input": "2023-09-17T13:52:39.645165Z",
     "iopub.status.busy": "2023-09-17T13:52:39.644955Z",
     "iopub.status.idle": "2023-09-17T13:52:39.647241Z",
     "shell.execute_reply": "2023-09-17T13:52:39.646921Z",
     "shell.execute_reply.started": "2023-09-17T13:52:39.645153Z"
    },
    "tags": []
   },
   "outputs": [],
   "source": [
    "# 1. create array of size 10 with no 3 \n",
    "# np.full(10,3)\n",
    "\n",
    "# 2. create array of size 10,3 with 3 \n",
    "# np.full((10,3),3)\n",
    "\n",
    "# 3. Create an int array with normal disturbtion between 1 to 1000 of dimension 5*7\n",
    "# np.random.seed(1)\n",
    "# np.random.randint(size=(5,7), low=1, high=1000)"
   ]
  },
  {
   "cell_type": "markdown",
   "metadata": {},
   "source": [
    "## Element-wise operations"
   ]
  },
  {
   "cell_type": "code",
   "execution_count": 40,
   "metadata": {
    "execution": {
     "iopub.execute_input": "2023-09-17T13:52:39.647817Z",
     "iopub.status.busy": "2023-09-17T13:52:39.647713Z",
     "iopub.status.idle": "2023-09-17T13:52:39.650063Z",
     "shell.execute_reply": "2023-09-17T13:52:39.649816Z",
     "shell.execute_reply.started": "2023-09-17T13:52:39.647808Z"
    },
    "tags": []
   },
   "outputs": [
    {
     "data": {
      "text/plain": [
       "array([0, 1, 2, 3, 4])"
      ]
     },
     "execution_count": 40,
     "metadata": {},
     "output_type": "execute_result"
    }
   ],
   "source": [
    "rng = np.arange(5)\n",
    "rng"
   ]
  },
  {
   "cell_type": "markdown",
   "metadata": {},
   "source": [
    "Every item in the array is multiplied by 2:"
   ]
  },
  {
   "cell_type": "code",
   "execution_count": 41,
   "metadata": {
    "execution": {
     "iopub.execute_input": "2023-09-17T13:52:39.656393Z",
     "iopub.status.busy": "2023-09-17T13:52:39.656229Z",
     "iopub.status.idle": "2023-09-17T13:52:39.658901Z",
     "shell.execute_reply": "2023-09-17T13:52:39.658609Z",
     "shell.execute_reply.started": "2023-09-17T13:52:39.656383Z"
    },
    "tags": []
   },
   "outputs": [
    {
     "data": {
      "text/plain": [
       "array([0, 2, 4, 6, 8])"
      ]
     },
     "execution_count": 41,
     "metadata": {},
     "output_type": "execute_result"
    }
   ],
   "source": [
    "rng * 2"
   ]
  },
  {
   "cell_type": "code",
   "execution_count": 42,
   "metadata": {
    "execution": {
     "iopub.execute_input": "2023-09-17T13:52:39.659539Z",
     "iopub.status.busy": "2023-09-17T13:52:39.659392Z",
     "iopub.status.idle": "2023-09-17T13:52:39.663111Z",
     "shell.execute_reply": "2023-09-17T13:52:39.662608Z",
     "shell.execute_reply.started": "2023-09-17T13:52:39.659529Z"
    },
    "tags": []
   },
   "outputs": [
    {
     "data": {
      "text/plain": [
       "array([-0.5,  1. ,  2.5,  4. ,  5.5])"
      ]
     },
     "execution_count": 42,
     "metadata": {},
     "output_type": "execute_result"
    }
   ],
   "source": [
    "(rng - 1) * 3 / 2 + 1"
   ]
  },
  {
   "cell_type": "markdown",
   "metadata": {},
   "source": [
    "Adding one array with another"
   ]
  },
  {
   "cell_type": "code",
   "execution_count": 43,
   "metadata": {
    "execution": {
     "iopub.execute_input": "2023-09-17T13:52:39.663997Z",
     "iopub.status.busy": "2023-09-17T13:52:39.663748Z",
     "iopub.status.idle": "2023-09-17T13:52:39.667981Z",
     "shell.execute_reply": "2023-09-17T13:52:39.666789Z",
     "shell.execute_reply.started": "2023-09-17T13:52:39.663984Z"
    },
    "tags": []
   },
   "outputs": [
    {
     "data": {
      "text/plain": [
       "array([0.00435995, 0.00025926, 0.00549662, 0.00435322, 0.00420368])"
      ]
     },
     "execution_count": 43,
     "metadata": {},
     "output_type": "execute_result"
    }
   ],
   "source": [
    "np.random.seed(2)\n",
    "noise = 0.01 * np.random.rand(5)\n",
    "noise"
   ]
  },
  {
   "cell_type": "code",
   "execution_count": 44,
   "metadata": {
    "execution": {
     "iopub.execute_input": "2023-09-17T13:52:39.668875Z",
     "iopub.status.busy": "2023-09-17T13:52:39.668755Z",
     "iopub.status.idle": "2023-09-17T13:52:39.672143Z",
     "shell.execute_reply": "2023-09-17T13:52:39.671856Z",
     "shell.execute_reply.started": "2023-09-17T13:52:39.668866Z"
    },
    "tags": []
   },
   "outputs": [
    {
     "data": {
      "text/plain": [
       "array([0, 1, 2, 3, 4])"
      ]
     },
     "execution_count": 44,
     "metadata": {},
     "output_type": "execute_result"
    }
   ],
   "source": [
    "numbers = np.arange(5)\n",
    "numbers"
   ]
  },
  {
   "cell_type": "code",
   "execution_count": 45,
   "metadata": {
    "execution": {
     "iopub.execute_input": "2023-09-17T13:52:39.672609Z",
     "iopub.status.busy": "2023-09-17T13:52:39.672520Z",
     "iopub.status.idle": "2023-09-17T13:52:39.675035Z",
     "shell.execute_reply": "2023-09-17T13:52:39.674735Z",
     "shell.execute_reply.started": "2023-09-17T13:52:39.672600Z"
    },
    "tags": []
   },
   "outputs": [
    {
     "data": {
      "text/plain": [
       "array([0.00435995, 1.00025926, 2.00549662, 3.00435322, 4.00420368])"
      ]
     },
     "execution_count": 45,
     "metadata": {},
     "output_type": "execute_result"
    }
   ],
   "source": [
    "result = numbers + noise\n",
    "result"
   ]
  },
  {
   "cell_type": "markdown",
   "metadata": {},
   "source": [
    "Rounding the numbers to 4th digit:"
   ]
  },
  {
   "cell_type": "code",
   "execution_count": 46,
   "metadata": {
    "execution": {
     "iopub.execute_input": "2023-09-17T13:52:39.675563Z",
     "iopub.status.busy": "2023-09-17T13:52:39.675473Z",
     "iopub.status.idle": "2023-09-17T13:52:39.677886Z",
     "shell.execute_reply": "2023-09-17T13:52:39.677612Z",
     "shell.execute_reply.started": "2023-09-17T13:52:39.675554Z"
    },
    "tags": []
   },
   "outputs": [
    {
     "data": {
      "text/plain": [
       "array([0.0044, 1.0003, 2.0055, 3.0044, 4.0042])"
      ]
     },
     "execution_count": 46,
     "metadata": {},
     "output_type": "execute_result"
    }
   ],
   "source": [
    "result.round(4)"
   ]
  },
  {
   "cell_type": "markdown",
   "metadata": {},
   "source": [
    "Two ways to square each element:\n",
    "\n",
    "* element-wise multiplication with itself\n",
    "* the power operator (`**`)"
   ]
  },
  {
   "cell_type": "code",
   "execution_count": 47,
   "metadata": {
    "execution": {
     "iopub.execute_input": "2023-09-17T13:52:39.678479Z",
     "iopub.status.busy": "2023-09-17T13:52:39.678368Z",
     "iopub.status.idle": "2023-09-17T13:52:39.681351Z",
     "shell.execute_reply": "2023-09-17T13:52:39.681056Z",
     "shell.execute_reply.started": "2023-09-17T13:52:39.678469Z"
    },
    "tags": []
   },
   "outputs": [
    {
     "data": {
      "text/plain": [
       "array([0.44, 0.03, 0.55])"
      ]
     },
     "execution_count": 47,
     "metadata": {},
     "output_type": "execute_result"
    }
   ],
   "source": [
    "np.random.seed(2)\n",
    "pred = np.random.rand(3).round(2)\n",
    "pred"
   ]
  },
  {
   "cell_type": "code",
   "execution_count": 48,
   "metadata": {
    "execution": {
     "iopub.execute_input": "2023-09-17T13:52:39.681963Z",
     "iopub.status.busy": "2023-09-17T13:52:39.681850Z",
     "iopub.status.idle": "2023-09-17T13:52:39.685437Z",
     "shell.execute_reply": "2023-09-17T13:52:39.685093Z",
     "shell.execute_reply.started": "2023-09-17T13:52:39.681954Z"
    },
    "tags": []
   },
   "outputs": [
    {
     "data": {
      "text/plain": [
       "array([0.1936, 0.0009, 0.3025])"
      ]
     },
     "execution_count": 48,
     "metadata": {},
     "output_type": "execute_result"
    }
   ],
   "source": [
    "square = pred * pred\n",
    "square"
   ]
  },
  {
   "cell_type": "code",
   "execution_count": 49,
   "metadata": {
    "execution": {
     "iopub.execute_input": "2023-09-17T13:52:39.686649Z",
     "iopub.status.busy": "2023-09-17T13:52:39.686223Z",
     "iopub.status.idle": "2023-09-17T13:52:39.689912Z",
     "shell.execute_reply": "2023-09-17T13:52:39.689611Z",
     "shell.execute_reply.started": "2023-09-17T13:52:39.686633Z"
    },
    "tags": []
   },
   "outputs": [
    {
     "data": {
      "text/plain": [
       "array([0.1936, 0.0009, 0.3025])"
      ]
     },
     "execution_count": 49,
     "metadata": {},
     "output_type": "execute_result"
    }
   ],
   "source": [
    "square = pred ** 2\n",
    "square"
   ]
  },
  {
   "cell_type": "markdown",
   "metadata": {},
   "source": [
    "Other element-wise operations:\n",
    "\n",
    "- `exp`\n",
    "- `log`\n",
    "- `sqrt`"
   ]
  },
  {
   "cell_type": "code",
   "execution_count": 50,
   "metadata": {
    "execution": {
     "iopub.execute_input": "2023-09-17T13:52:39.690565Z",
     "iopub.status.busy": "2023-09-17T13:52:39.690424Z",
     "iopub.status.idle": "2023-09-17T13:52:39.693392Z",
     "shell.execute_reply": "2023-09-17T13:52:39.692839Z",
     "shell.execute_reply.started": "2023-09-17T13:52:39.690556Z"
    },
    "scrolled": true,
    "tags": []
   },
   "outputs": [
    {
     "data": {
      "text/plain": [
       "array([1.55270722, 1.03045453, 1.73325302])"
      ]
     },
     "execution_count": 50,
     "metadata": {},
     "output_type": "execute_result"
    }
   ],
   "source": [
    "np.exp(pred)"
   ]
  },
  {
   "cell_type": "code",
   "execution_count": 51,
   "metadata": {
    "execution": {
     "iopub.execute_input": "2023-09-17T13:52:39.694665Z",
     "iopub.status.busy": "2023-09-17T13:52:39.694157Z",
     "iopub.status.idle": "2023-09-17T13:52:39.699995Z",
     "shell.execute_reply": "2023-09-17T13:52:39.699712Z",
     "shell.execute_reply.started": "2023-09-17T13:52:39.694653Z"
    },
    "tags": []
   },
   "outputs": [
    {
     "data": {
      "text/plain": [
       "array([-0.82098055, -3.5065579 , -0.597837  ])"
      ]
     },
     "execution_count": 51,
     "metadata": {},
     "output_type": "execute_result"
    }
   ],
   "source": [
    "np.log(pred)"
   ]
  },
  {
   "cell_type": "code",
   "execution_count": 52,
   "metadata": {
    "execution": {
     "iopub.execute_input": "2023-09-17T13:52:39.701527Z",
     "iopub.status.busy": "2023-09-17T13:52:39.701223Z",
     "iopub.status.idle": "2023-09-17T13:52:39.704835Z",
     "shell.execute_reply": "2023-09-17T13:52:39.704509Z",
     "shell.execute_reply.started": "2023-09-17T13:52:39.701515Z"
    },
    "scrolled": true,
    "tags": []
   },
   "outputs": [
    {
     "data": {
      "text/plain": [
       "array([0.66332496, 0.17320508, 0.74161985])"
      ]
     },
     "execution_count": 52,
     "metadata": {},
     "output_type": "execute_result"
    }
   ],
   "source": [
    "np.sqrt(pred)"
   ]
  },
  {
   "cell_type": "markdown",
   "metadata": {},
   "source": [
    "### Comparison operations"
   ]
  },
  {
   "cell_type": "code",
   "execution_count": 53,
   "metadata": {
    "execution": {
     "iopub.execute_input": "2023-09-17T13:52:39.705994Z",
     "iopub.status.busy": "2023-09-17T13:52:39.705868Z",
     "iopub.status.idle": "2023-09-17T13:52:39.709429Z",
     "shell.execute_reply": "2023-09-17T13:52:39.709069Z",
     "shell.execute_reply.started": "2023-09-17T13:52:39.705984Z"
    },
    "scrolled": true,
    "tags": []
   },
   "outputs": [
    {
     "data": {
      "text/plain": [
       "array([0.44, 0.03, 0.55])"
      ]
     },
     "execution_count": 53,
     "metadata": {},
     "output_type": "execute_result"
    }
   ],
   "source": [
    "np.random.seed(2)\n",
    "pred = np.random.rand(3).round(2)\n",
    "pred"
   ]
  },
  {
   "cell_type": "code",
   "execution_count": 54,
   "metadata": {
    "execution": {
     "iopub.execute_input": "2023-09-17T13:52:39.709951Z",
     "iopub.status.busy": "2023-09-17T13:52:39.709853Z",
     "iopub.status.idle": "2023-09-17T13:52:39.713510Z",
     "shell.execute_reply": "2023-09-17T13:52:39.713201Z",
     "shell.execute_reply.started": "2023-09-17T13:52:39.709941Z"
    },
    "tags": []
   },
   "outputs": [
    {
     "data": {
      "text/plain": [
       "array([False, False,  True])"
      ]
     },
     "execution_count": 54,
     "metadata": {},
     "output_type": "execute_result"
    }
   ],
   "source": [
    "result = pred >= 0.5\n",
    "result"
   ]
  },
  {
   "cell_type": "code",
   "execution_count": 55,
   "metadata": {
    "execution": {
     "iopub.execute_input": "2023-09-17T13:52:39.714285Z",
     "iopub.status.busy": "2023-09-17T13:52:39.714178Z",
     "iopub.status.idle": "2023-09-17T13:52:39.718525Z",
     "shell.execute_reply": "2023-09-17T13:52:39.718019Z",
     "shell.execute_reply.started": "2023-09-17T13:52:39.714274Z"
    },
    "tags": []
   },
   "outputs": [],
   "source": [
    "np.random.seed(2)"
   ]
  },
  {
   "cell_type": "code",
   "execution_count": 56,
   "metadata": {
    "execution": {
     "iopub.execute_input": "2023-09-17T13:52:39.719006Z",
     "iopub.status.busy": "2023-09-17T13:52:39.718906Z",
     "iopub.status.idle": "2023-09-17T13:52:39.723845Z",
     "shell.execute_reply": "2023-09-17T13:52:39.723033Z",
     "shell.execute_reply.started": "2023-09-17T13:52:39.718996Z"
    },
    "tags": []
   },
   "outputs": [
    {
     "data": {
      "text/plain": [
       "array([0.44, 0.03, 0.55])"
      ]
     },
     "execution_count": 56,
     "metadata": {},
     "output_type": "execute_result"
    }
   ],
   "source": [
    "pred1 = np.random.rand(3).round(2)\n",
    "pred1"
   ]
  },
  {
   "cell_type": "code",
   "execution_count": 57,
   "metadata": {
    "execution": {
     "iopub.execute_input": "2023-09-17T13:52:39.725511Z",
     "iopub.status.busy": "2023-09-17T13:52:39.725358Z",
     "iopub.status.idle": "2023-09-17T13:52:39.729159Z",
     "shell.execute_reply": "2023-09-17T13:52:39.728618Z",
     "shell.execute_reply.started": "2023-09-17T13:52:39.725501Z"
    },
    "tags": []
   },
   "outputs": [
    {
     "data": {
      "text/plain": [
       "array([0.44, 0.42, 0.33])"
      ]
     },
     "execution_count": 57,
     "metadata": {},
     "output_type": "execute_result"
    }
   ],
   "source": [
    "pred2 = np.random.rand(3).round(2)\n",
    "pred2"
   ]
  },
  {
   "cell_type": "code",
   "execution_count": 58,
   "metadata": {
    "execution": {
     "iopub.execute_input": "2023-09-17T13:52:39.730487Z",
     "iopub.status.busy": "2023-09-17T13:52:39.730298Z",
     "iopub.status.idle": "2023-09-17T13:52:39.734378Z",
     "shell.execute_reply": "2023-09-17T13:52:39.733544Z",
     "shell.execute_reply.started": "2023-09-17T13:52:39.730473Z"
    },
    "tags": []
   },
   "outputs": [
    {
     "data": {
      "text/plain": [
       "array([ True, False,  True])"
      ]
     },
     "execution_count": 58,
     "metadata": {},
     "output_type": "execute_result"
    }
   ],
   "source": [
    "pred1 >= pred2"
   ]
  },
  {
   "cell_type": "code",
   "execution_count": 59,
   "metadata": {
    "execution": {
     "iopub.execute_input": "2023-09-17T13:52:39.735508Z",
     "iopub.status.busy": "2023-09-17T13:52:39.735337Z",
     "iopub.status.idle": "2023-09-17T13:52:39.737695Z",
     "shell.execute_reply": "2023-09-17T13:52:39.737317Z",
     "shell.execute_reply.started": "2023-09-17T13:52:39.735497Z"
    },
    "tags": []
   },
   "outputs": [],
   "source": [
    "np.random.seed(2)"
   ]
  },
  {
   "cell_type": "code",
   "execution_count": 60,
   "metadata": {
    "execution": {
     "iopub.execute_input": "2023-09-17T13:52:39.738589Z",
     "iopub.status.busy": "2023-09-17T13:52:39.738316Z",
     "iopub.status.idle": "2023-09-17T13:52:39.741843Z",
     "shell.execute_reply": "2023-09-17T13:52:39.741500Z",
     "shell.execute_reply.started": "2023-09-17T13:52:39.738579Z"
    },
    "tags": []
   },
   "outputs": [
    {
     "data": {
      "text/plain": [
       "array([ True, False,  True])"
      ]
     },
     "execution_count": 60,
     "metadata": {},
     "output_type": "execute_result"
    }
   ],
   "source": [
    "pred1 = np.random.rand(3) >= 0.3\n",
    "pred1"
   ]
  },
  {
   "cell_type": "code",
   "execution_count": 61,
   "metadata": {
    "execution": {
     "iopub.execute_input": "2023-09-17T13:52:39.742914Z",
     "iopub.status.busy": "2023-09-17T13:52:39.742778Z",
     "iopub.status.idle": "2023-09-17T13:52:39.746215Z",
     "shell.execute_reply": "2023-09-17T13:52:39.745926Z",
     "shell.execute_reply.started": "2023-09-17T13:52:39.742905Z"
    },
    "tags": []
   },
   "outputs": [
    {
     "data": {
      "text/plain": [
       "array([ True,  True, False])"
      ]
     },
     "execution_count": 61,
     "metadata": {},
     "output_type": "execute_result"
    }
   ],
   "source": [
    "pred2 = np.random.rand(3) >= 0.4\n",
    "pred2"
   ]
  },
  {
   "cell_type": "markdown",
   "metadata": {},
   "source": [
    "### Logical operations"
   ]
  },
  {
   "cell_type": "code",
   "execution_count": 62,
   "metadata": {
    "execution": {
     "iopub.execute_input": "2023-09-17T13:52:39.746875Z",
     "iopub.status.busy": "2023-09-17T13:52:39.746739Z",
     "iopub.status.idle": "2023-09-17T13:52:39.750223Z",
     "shell.execute_reply": "2023-09-17T13:52:39.749696Z",
     "shell.execute_reply.started": "2023-09-17T13:52:39.746866Z"
    },
    "tags": []
   },
   "outputs": [
    {
     "data": {
      "text/plain": [
       "array([ True, False, False])"
      ]
     },
     "execution_count": 62,
     "metadata": {},
     "output_type": "execute_result"
    }
   ],
   "source": [
    "pred1 & pred2"
   ]
  },
  {
   "cell_type": "code",
   "execution_count": 63,
   "metadata": {
    "execution": {
     "iopub.execute_input": "2023-09-17T13:52:39.751614Z",
     "iopub.status.busy": "2023-09-17T13:52:39.751427Z",
     "iopub.status.idle": "2023-09-17T13:52:39.754254Z",
     "shell.execute_reply": "2023-09-17T13:52:39.754002Z",
     "shell.execute_reply.started": "2023-09-17T13:52:39.751602Z"
    },
    "tags": []
   },
   "outputs": [
    {
     "data": {
      "text/plain": [
       "array([ True,  True,  True])"
      ]
     },
     "execution_count": 63,
     "metadata": {},
     "output_type": "execute_result"
    }
   ],
   "source": [
    "pred1 | pred2"
   ]
  },
  {
   "cell_type": "markdown",
   "metadata": {},
   "source": [
    "## Summarizing operations"
   ]
  },
  {
   "cell_type": "markdown",
   "metadata": {},
   "source": [
    "Summarizing operations process and array and return a single number "
   ]
  },
  {
   "cell_type": "code",
   "execution_count": 64,
   "metadata": {
    "execution": {
     "iopub.execute_input": "2023-09-17T13:52:39.754934Z",
     "iopub.status.busy": "2023-09-17T13:52:39.754785Z",
     "iopub.status.idle": "2023-09-17T13:52:39.757838Z",
     "shell.execute_reply": "2023-09-17T13:52:39.757474Z",
     "shell.execute_reply.started": "2023-09-17T13:52:39.754924Z"
    },
    "tags": []
   },
   "outputs": [
    {
     "data": {
      "text/plain": [
       "array([0.44, 0.03, 0.55])"
      ]
     },
     "execution_count": 64,
     "metadata": {},
     "output_type": "execute_result"
    }
   ],
   "source": [
    "np.random.seed(2)\n",
    "pred = np.random.rand(3).round(2)\n",
    "pred_sum = pred.sum()\n",
    "pred"
   ]
  },
  {
   "cell_type": "code",
   "execution_count": 65,
   "metadata": {
    "execution": {
     "iopub.execute_input": "2023-09-17T13:52:39.759007Z",
     "iopub.status.busy": "2023-09-17T13:52:39.758687Z",
     "iopub.status.idle": "2023-09-17T13:52:39.762429Z",
     "shell.execute_reply": "2023-09-17T13:52:39.761488Z",
     "shell.execute_reply.started": "2023-09-17T13:52:39.758799Z"
    },
    "tags": []
   },
   "outputs": [
    {
     "data": {
      "text/plain": [
       "1.02"
      ]
     },
     "execution_count": 65,
     "metadata": {},
     "output_type": "execute_result"
    }
   ],
   "source": [
    "pred_sum"
   ]
  },
  {
   "cell_type": "code",
   "execution_count": 66,
   "metadata": {
    "execution": {
     "iopub.execute_input": "2023-09-17T13:52:39.763271Z",
     "iopub.status.busy": "2023-09-17T13:52:39.763160Z",
     "iopub.status.idle": "2023-09-17T13:52:39.766068Z",
     "shell.execute_reply": "2023-09-17T13:52:39.765772Z",
     "shell.execute_reply.started": "2023-09-17T13:52:39.763260Z"
    },
    "tags": []
   },
   "outputs": [
    {
     "name": "stdout",
     "output_type": "stream",
     "text": [
      "min = 0.03\n",
      "mean = 0.34\n",
      "max = 0.55\n",
      "std = 0.22\n"
     ]
    }
   ],
   "source": [
    "print('min = %.2f' % pred.min())\n",
    "print('mean = %.2f' % pred.mean())\n",
    "print('max = %.2f' % pred.max())\n",
    "print('std = %.2f' % pred.std())"
   ]
  },
  {
   "cell_type": "markdown",
   "metadata": {},
   "source": [
    "For two-dimentional array it works in the same way:"
   ]
  },
  {
   "cell_type": "code",
   "execution_count": 67,
   "metadata": {
    "execution": {
     "iopub.execute_input": "2023-09-17T13:52:39.766657Z",
     "iopub.status.busy": "2023-09-17T13:52:39.766549Z",
     "iopub.status.idle": "2023-09-17T13:52:39.770030Z",
     "shell.execute_reply": "2023-09-17T13:52:39.769738Z",
     "shell.execute_reply.started": "2023-09-17T13:52:39.766648Z"
    },
    "tags": []
   },
   "outputs": [
    {
     "data": {
      "text/plain": [
       "array([[0.44, 0.03, 0.55],\n",
       "       [0.44, 0.42, 0.33],\n",
       "       [0.2 , 0.62, 0.3 ],\n",
       "       [0.27, 0.62, 0.53]])"
      ]
     },
     "execution_count": 67,
     "metadata": {},
     "output_type": "execute_result"
    }
   ],
   "source": [
    "np.random.seed(2)\n",
    "matrix = np.random.rand(4, 3).round(2)\n",
    "matrix"
   ]
  },
  {
   "cell_type": "code",
   "execution_count": 68,
   "metadata": {
    "execution": {
     "iopub.execute_input": "2023-09-17T13:52:39.770517Z",
     "iopub.status.busy": "2023-09-17T13:52:39.770423Z",
     "iopub.status.idle": "2023-09-17T13:52:39.773294Z",
     "shell.execute_reply": "2023-09-17T13:52:39.773024Z",
     "shell.execute_reply.started": "2023-09-17T13:52:39.770507Z"
    },
    "tags": []
   },
   "outputs": [
    {
     "data": {
      "text/plain": [
       "0.62"
      ]
     },
     "execution_count": 68,
     "metadata": {},
     "output_type": "execute_result"
    }
   ],
   "source": [
    "matrix.max()"
   ]
  },
  {
   "cell_type": "markdown",
   "metadata": {},
   "source": [
    "But we can specify the axis along which we apply the summarizing operation\n",
    "\n",
    "- `axis=1` - apply to each rows\n",
    "- `axis=0` - apply to each column"
   ]
  },
  {
   "cell_type": "code",
   "execution_count": 69,
   "metadata": {
    "execution": {
     "iopub.execute_input": "2023-09-17T13:52:39.774449Z",
     "iopub.status.busy": "2023-09-17T13:52:39.774295Z",
     "iopub.status.idle": "2023-09-17T13:52:39.777148Z",
     "shell.execute_reply": "2023-09-17T13:52:39.776777Z",
     "shell.execute_reply.started": "2023-09-17T13:52:39.774438Z"
    },
    "tags": []
   },
   "outputs": [
    {
     "data": {
      "text/plain": [
       "array([0.55, 0.44, 0.62, 0.62])"
      ]
     },
     "execution_count": 69,
     "metadata": {},
     "output_type": "execute_result"
    }
   ],
   "source": [
    "matrix.max(axis=1)"
   ]
  },
  {
   "cell_type": "code",
   "execution_count": 70,
   "metadata": {
    "execution": {
     "iopub.execute_input": "2023-09-17T13:52:39.777629Z",
     "iopub.status.busy": "2023-09-17T13:52:39.777529Z",
     "iopub.status.idle": "2023-09-17T13:52:39.781306Z",
     "shell.execute_reply": "2023-09-17T13:52:39.780679Z",
     "shell.execute_reply.started": "2023-09-17T13:52:39.777619Z"
    },
    "scrolled": true,
    "tags": []
   },
   "outputs": [
    {
     "data": {
      "text/plain": [
       "array([0.44, 0.62, 0.55])"
      ]
     },
     "execution_count": 70,
     "metadata": {},
     "output_type": "execute_result"
    }
   ],
   "source": [
    "matrix.max(axis=0)"
   ]
  },
  {
   "cell_type": "code",
   "execution_count": 71,
   "metadata": {
    "execution": {
     "iopub.execute_input": "2023-09-17T13:52:39.782630Z",
     "iopub.status.busy": "2023-09-17T13:52:39.782504Z",
     "iopub.status.idle": "2023-09-17T13:52:39.785994Z",
     "shell.execute_reply": "2023-09-17T13:52:39.785585Z",
     "shell.execute_reply.started": "2023-09-17T13:52:39.782619Z"
    },
    "tags": []
   },
   "outputs": [
    {
     "data": {
      "text/plain": [
       "array([1.02, 1.19, 1.12, 1.42])"
      ]
     },
     "execution_count": 71,
     "metadata": {},
     "output_type": "execute_result"
    }
   ],
   "source": [
    "matrix.sum(axis=1)"
   ]
  },
  {
   "cell_type": "markdown",
   "metadata": {},
   "source": [
    "## Sorting"
   ]
  },
  {
   "cell_type": "code",
   "execution_count": 72,
   "metadata": {
    "execution": {
     "iopub.execute_input": "2023-09-17T13:52:39.786654Z",
     "iopub.status.busy": "2023-09-17T13:52:39.786543Z",
     "iopub.status.idle": "2023-09-17T13:52:39.789598Z",
     "shell.execute_reply": "2023-09-17T13:52:39.789258Z",
     "shell.execute_reply.started": "2023-09-17T13:52:39.786644Z"
    },
    "tags": []
   },
   "outputs": [
    {
     "data": {
      "text/plain": [
       "array([0.44, 0.03, 0.55, 0.44])"
      ]
     },
     "execution_count": 72,
     "metadata": {},
     "output_type": "execute_result"
    }
   ],
   "source": [
    "np.random.seed(2)\n",
    "pred = np.random.rand(4).round(2)\n",
    "pred"
   ]
  },
  {
   "cell_type": "markdown",
   "metadata": {},
   "source": [
    "Creaters a new array:"
   ]
  },
  {
   "cell_type": "code",
   "execution_count": 73,
   "metadata": {
    "execution": {
     "iopub.execute_input": "2023-09-17T13:52:39.790338Z",
     "iopub.status.busy": "2023-09-17T13:52:39.790181Z",
     "iopub.status.idle": "2023-09-17T13:52:39.793454Z",
     "shell.execute_reply": "2023-09-17T13:52:39.792613Z",
     "shell.execute_reply.started": "2023-09-17T13:52:39.790328Z"
    },
    "tags": []
   },
   "outputs": [
    {
     "data": {
      "text/plain": [
       "array([0.03, 0.44, 0.44, 0.55])"
      ]
     },
     "execution_count": 73,
     "metadata": {},
     "output_type": "execute_result"
    }
   ],
   "source": [
    "np.sort(pred)"
   ]
  },
  {
   "cell_type": "code",
   "execution_count": 74,
   "metadata": {
    "execution": {
     "iopub.execute_input": "2023-09-17T13:52:39.794332Z",
     "iopub.status.busy": "2023-09-17T13:52:39.794156Z",
     "iopub.status.idle": "2023-09-17T13:52:39.797360Z",
     "shell.execute_reply": "2023-09-17T13:52:39.797046Z",
     "shell.execute_reply.started": "2023-09-17T13:52:39.794320Z"
    },
    "tags": []
   },
   "outputs": [
    {
     "data": {
      "text/plain": [
       "array([0.44, 0.03, 0.55, 0.44])"
      ]
     },
     "execution_count": 74,
     "metadata": {},
     "output_type": "execute_result"
    }
   ],
   "source": [
    "pred"
   ]
  },
  {
   "cell_type": "markdown",
   "metadata": {},
   "source": [
    "Sorts in place:"
   ]
  },
  {
   "cell_type": "code",
   "execution_count": 75,
   "metadata": {
    "execution": {
     "iopub.execute_input": "2023-09-17T13:52:39.798032Z",
     "iopub.status.busy": "2023-09-17T13:52:39.797922Z",
     "iopub.status.idle": "2023-09-17T13:52:39.800139Z",
     "shell.execute_reply": "2023-09-17T13:52:39.799830Z",
     "shell.execute_reply.started": "2023-09-17T13:52:39.798021Z"
    },
    "tags": []
   },
   "outputs": [],
   "source": [
    "pred.sort()"
   ]
  },
  {
   "cell_type": "code",
   "execution_count": 76,
   "metadata": {
    "execution": {
     "iopub.execute_input": "2023-09-17T13:52:39.801188Z",
     "iopub.status.busy": "2023-09-17T13:52:39.800756Z",
     "iopub.status.idle": "2023-09-17T13:52:39.803933Z",
     "shell.execute_reply": "2023-09-17T13:52:39.803494Z",
     "shell.execute_reply.started": "2023-09-17T13:52:39.801175Z"
    },
    "tags": []
   },
   "outputs": [
    {
     "data": {
      "text/plain": [
       "array([0.03, 0.44, 0.44, 0.55])"
      ]
     },
     "execution_count": 76,
     "metadata": {},
     "output_type": "execute_result"
    }
   ],
   "source": [
    "pred"
   ]
  },
  {
   "cell_type": "markdown",
   "metadata": {},
   "source": [
    "Argsort - instead of sorting, return the indexes of the array in sorted order"
   ]
  },
  {
   "cell_type": "code",
   "execution_count": 77,
   "metadata": {
    "execution": {
     "iopub.execute_input": "2023-09-17T13:52:39.804451Z",
     "iopub.status.busy": "2023-09-17T13:52:39.804351Z",
     "iopub.status.idle": "2023-09-17T13:52:39.808010Z",
     "shell.execute_reply": "2023-09-17T13:52:39.807720Z",
     "shell.execute_reply.started": "2023-09-17T13:52:39.804441Z"
    },
    "tags": []
   },
   "outputs": [
    {
     "data": {
      "text/plain": [
       "array([0.44, 0.03, 0.55, 0.44])"
      ]
     },
     "execution_count": 77,
     "metadata": {},
     "output_type": "execute_result"
    }
   ],
   "source": [
    "np.random.seed(2)\n",
    "pred = np.random.rand(4).round(2)\n",
    "pred"
   ]
  },
  {
   "cell_type": "code",
   "execution_count": 78,
   "metadata": {
    "execution": {
     "iopub.execute_input": "2023-09-17T13:52:39.808657Z",
     "iopub.status.busy": "2023-09-17T13:52:39.808557Z",
     "iopub.status.idle": "2023-09-17T13:52:39.811312Z",
     "shell.execute_reply": "2023-09-17T13:52:39.810904Z",
     "shell.execute_reply.started": "2023-09-17T13:52:39.808648Z"
    },
    "tags": []
   },
   "outputs": [],
   "source": [
    "idx = pred.argsort()"
   ]
  },
  {
   "cell_type": "code",
   "execution_count": 79,
   "metadata": {
    "execution": {
     "iopub.execute_input": "2023-09-17T13:52:39.811982Z",
     "iopub.status.busy": "2023-09-17T13:52:39.811872Z",
     "iopub.status.idle": "2023-09-17T13:52:39.815361Z",
     "shell.execute_reply": "2023-09-17T13:52:39.815096Z",
     "shell.execute_reply.started": "2023-09-17T13:52:39.811971Z"
    },
    "tags": []
   },
   "outputs": [
    {
     "data": {
      "text/plain": [
       "array([1, 0, 3, 2])"
      ]
     },
     "execution_count": 79,
     "metadata": {},
     "output_type": "execute_result"
    }
   ],
   "source": [
    "idx"
   ]
  },
  {
   "cell_type": "code",
   "execution_count": 80,
   "metadata": {
    "execution": {
     "iopub.execute_input": "2023-09-17T13:52:39.815989Z",
     "iopub.status.busy": "2023-09-17T13:52:39.815873Z",
     "iopub.status.idle": "2023-09-17T13:52:39.818990Z",
     "shell.execute_reply": "2023-09-17T13:52:39.818677Z",
     "shell.execute_reply.started": "2023-09-17T13:52:39.815979Z"
    },
    "scrolled": true,
    "tags": []
   },
   "outputs": [
    {
     "data": {
      "text/plain": [
       "array([0.03, 0.44, 0.44, 0.55])"
      ]
     },
     "execution_count": 80,
     "metadata": {},
     "output_type": "execute_result"
    }
   ],
   "source": [
    "pred[idx]"
   ]
  },
  {
   "cell_type": "code",
   "execution_count": 81,
   "metadata": {
    "execution": {
     "iopub.execute_input": "2023-09-17T13:52:39.819601Z",
     "iopub.status.busy": "2023-09-17T13:52:39.819505Z",
     "iopub.status.idle": "2023-09-17T13:52:39.823999Z",
     "shell.execute_reply": "2023-09-17T13:52:39.823443Z",
     "shell.execute_reply.started": "2023-09-17T13:52:39.819591Z"
    },
    "tags": []
   },
   "outputs": [
    {
     "name": "stdout",
     "output_type": "stream",
     "text": [
      "[[-1.79 -0.84  0.5  -1.25]\n",
      " [-1.06 -0.91  0.55  2.29]\n",
      " [ 0.04 -1.12  0.54 -0.6 ]]\n",
      "[[0 3 1 2]\n",
      " [0 1 2 3]\n",
      " [1 3 0 2]]\n",
      "[[0 3 1 2]\n",
      " [0 1 2 3]\n",
      " [1 3 0 2]]\n",
      "[[-1.79 -1.25 -0.84  0.5 ]\n",
      " [-1.06 -0.91  0.55  2.29]\n",
      " [-1.12 -0.6   0.04  0.54]]\n"
     ]
    },
    {
     "data": {
      "text/plain": [
       "array([[-1.79, -1.25, -0.84,  0.5 ],\n",
       "       [-1.06, -0.91,  0.55,  2.29],\n",
       "       [-1.12, -0.6 ,  0.04,  0.54]])"
      ]
     },
     "execution_count": 81,
     "metadata": {},
     "output_type": "execute_result"
    }
   ],
   "source": [
    "#Let's try Argsort on 2d array \n",
    "# So for more dimension you could choose to sort along any axis default is axis=1(row)\n",
    "\n",
    "array2d = np.random.randn(3,4).round(2)\n",
    "print(array2d)\n",
    "sortedindex = array2d.argsort(axis = 1)\n",
    "print(array2d.argsort())\n",
    "print(sortedindex)\n",
    "print(np.take_along_axis(array2d, sortedindex, axis=1))\n",
    "np.sort(array2d)\n",
    "# array2d.take_along_axis(sortedinddex, axis=1)"
   ]
  },
  {
   "cell_type": "markdown",
   "metadata": {},
   "source": [
    "## Reshaping"
   ]
  },
  {
   "cell_type": "markdown",
   "metadata": {},
   "source": [
    "The shape of an array cound be changed"
   ]
  },
  {
   "cell_type": "code",
   "execution_count": 82,
   "metadata": {
    "execution": {
     "iopub.execute_input": "2023-09-17T13:52:39.825589Z",
     "iopub.status.busy": "2023-09-17T13:52:39.825375Z",
     "iopub.status.idle": "2023-09-17T13:52:39.829728Z",
     "shell.execute_reply": "2023-09-17T13:52:39.829296Z",
     "shell.execute_reply.started": "2023-09-17T13:52:39.825546Z"
    },
    "tags": []
   },
   "outputs": [
    {
     "data": {
      "text/plain": [
       "array([ 0,  1,  2,  3,  4,  5,  6,  7,  8,  9, 10, 11])"
      ]
     },
     "execution_count": 82,
     "metadata": {},
     "output_type": "execute_result"
    }
   ],
   "source": [
    "rng = np.arange(12)\n",
    "rng"
   ]
  },
  {
   "cell_type": "code",
   "execution_count": 83,
   "metadata": {
    "execution": {
     "iopub.execute_input": "2023-09-17T13:52:39.830352Z",
     "iopub.status.busy": "2023-09-17T13:52:39.830255Z",
     "iopub.status.idle": "2023-09-17T13:52:39.833072Z",
     "shell.execute_reply": "2023-09-17T13:52:39.832743Z",
     "shell.execute_reply.started": "2023-09-17T13:52:39.830341Z"
    },
    "tags": []
   },
   "outputs": [
    {
     "data": {
      "text/plain": [
       "(12,)"
      ]
     },
     "execution_count": 83,
     "metadata": {},
     "output_type": "execute_result"
    }
   ],
   "source": [
    "rng.shape"
   ]
  },
  {
   "cell_type": "code",
   "execution_count": 84,
   "metadata": {
    "execution": {
     "iopub.execute_input": "2023-09-17T13:52:39.833662Z",
     "iopub.status.busy": "2023-09-17T13:52:39.833569Z",
     "iopub.status.idle": "2023-09-17T13:52:39.836700Z",
     "shell.execute_reply": "2023-09-17T13:52:39.836381Z",
     "shell.execute_reply.started": "2023-09-17T13:52:39.833652Z"
    },
    "tags": []
   },
   "outputs": [
    {
     "data": {
      "text/plain": [
       "array([[ 0,  1,  2],\n",
       "       [ 3,  4,  5],\n",
       "       [ 6,  7,  8],\n",
       "       [ 9, 10, 11]])"
      ]
     },
     "execution_count": 84,
     "metadata": {},
     "output_type": "execute_result"
    }
   ],
   "source": [
    "rng.reshape(4, 3)"
   ]
  },
  {
   "cell_type": "code",
   "execution_count": 85,
   "metadata": {
    "execution": {
     "iopub.execute_input": "2023-09-17T13:52:39.837136Z",
     "iopub.status.busy": "2023-09-17T13:52:39.837049Z",
     "iopub.status.idle": "2023-09-17T13:52:39.840274Z",
     "shell.execute_reply": "2023-09-17T13:52:39.839983Z",
     "shell.execute_reply.started": "2023-09-17T13:52:39.837127Z"
    },
    "tags": []
   },
   "outputs": [
    {
     "data": {
      "text/plain": [
       "array([[ 0,  4,  8],\n",
       "       [ 1,  5,  9],\n",
       "       [ 2,  6, 10],\n",
       "       [ 3,  7, 11]])"
      ]
     },
     "execution_count": 85,
     "metadata": {},
     "output_type": "execute_result"
    }
   ],
   "source": [
    "rng.reshape(4, 3, order='F')"
   ]
  },
  {
   "cell_type": "markdown",
   "metadata": {},
   "source": [
    "But number of rows x columns should be equal to the total number of elements"
   ]
  },
  {
   "cell_type": "code",
   "execution_count": 86,
   "metadata": {
    "execution": {
     "iopub.execute_input": "2023-09-17T13:52:39.840740Z",
     "iopub.status.busy": "2023-09-17T13:52:39.840643Z",
     "iopub.status.idle": "2023-09-17T13:52:39.843050Z",
     "shell.execute_reply": "2023-09-17T13:52:39.842763Z",
     "shell.execute_reply.started": "2023-09-17T13:52:39.840730Z"
    },
    "tags": []
   },
   "outputs": [],
   "source": [
    "# rng.reshape(4, 4)"
   ]
  },
  {
   "cell_type": "code",
   "execution_count": 87,
   "metadata": {
    "execution": {
     "iopub.execute_input": "2023-09-17T13:52:39.843559Z",
     "iopub.status.busy": "2023-09-17T13:52:39.843462Z",
     "iopub.status.idle": "2023-09-17T13:52:39.847592Z",
     "shell.execute_reply": "2023-09-17T13:52:39.847257Z",
     "shell.execute_reply.started": "2023-09-17T13:52:39.843549Z"
    },
    "tags": []
   },
   "outputs": [
    {
     "data": {
      "text/plain": [
       "array([0, 1, 2])"
      ]
     },
     "execution_count": 87,
     "metadata": {},
     "output_type": "execute_result"
    }
   ],
   "source": [
    "vec = np.arange(3)\n",
    "vec"
   ]
  },
  {
   "cell_type": "code",
   "execution_count": 88,
   "metadata": {
    "execution": {
     "iopub.execute_input": "2023-09-17T13:52:39.848177Z",
     "iopub.status.busy": "2023-09-17T13:52:39.848078Z",
     "iopub.status.idle": "2023-09-17T13:52:39.851771Z",
     "shell.execute_reply": "2023-09-17T13:52:39.851359Z",
     "shell.execute_reply.started": "2023-09-17T13:52:39.848167Z"
    },
    "tags": []
   },
   "outputs": [
    {
     "data": {
      "text/plain": [
       "array([[0, 1],\n",
       "       [2, 3],\n",
       "       [4, 5]])"
      ]
     },
     "execution_count": 88,
     "metadata": {},
     "output_type": "execute_result"
    }
   ],
   "source": [
    "mat = np.arange(6).reshape(3, 2)\n",
    "mat"
   ]
  },
  {
   "cell_type": "markdown",
   "metadata": {},
   "source": [
    "Putting mulitple arrays together:\n",
    "\n",
    "- `concatenate`\n",
    "- `hstack`\n",
    "- `vstack`\n",
    "- `column_stack`"
   ]
  },
  {
   "cell_type": "code",
   "execution_count": 89,
   "metadata": {
    "execution": {
     "iopub.execute_input": "2023-09-17T13:52:39.852275Z",
     "iopub.status.busy": "2023-09-17T13:52:39.852182Z",
     "iopub.status.idle": "2023-09-17T13:52:39.855342Z",
     "shell.execute_reply": "2023-09-17T13:52:39.854968Z",
     "shell.execute_reply.started": "2023-09-17T13:52:39.852265Z"
    },
    "tags": []
   },
   "outputs": [
    {
     "data": {
      "text/plain": [
       "array([0, 1, 2, 0, 1, 2])"
      ]
     },
     "execution_count": 89,
     "metadata": {},
     "output_type": "execute_result"
    }
   ],
   "source": [
    "np.concatenate([vec, vec])"
   ]
  },
  {
   "cell_type": "code",
   "execution_count": 90,
   "metadata": {
    "execution": {
     "iopub.execute_input": "2023-09-17T13:52:39.856146Z",
     "iopub.status.busy": "2023-09-17T13:52:39.855982Z",
     "iopub.status.idle": "2023-09-17T13:52:39.859711Z",
     "shell.execute_reply": "2023-09-17T13:52:39.859321Z",
     "shell.execute_reply.started": "2023-09-17T13:52:39.856119Z"
    },
    "tags": []
   },
   "outputs": [
    {
     "data": {
      "text/plain": [
       "array([0, 1, 2, 0, 1, 2])"
      ]
     },
     "execution_count": 90,
     "metadata": {},
     "output_type": "execute_result"
    }
   ],
   "source": [
    "np.hstack([vec, vec])"
   ]
  },
  {
   "cell_type": "code",
   "execution_count": 91,
   "metadata": {
    "execution": {
     "iopub.execute_input": "2023-09-17T13:52:39.860381Z",
     "iopub.status.busy": "2023-09-17T13:52:39.860121Z",
     "iopub.status.idle": "2023-09-17T13:52:39.862906Z",
     "shell.execute_reply": "2023-09-17T13:52:39.862466Z",
     "shell.execute_reply.started": "2023-09-17T13:52:39.860372Z"
    },
    "scrolled": true,
    "tags": []
   },
   "outputs": [
    {
     "data": {
      "text/plain": [
       "array([[0, 1, 0, 1],\n",
       "       [2, 3, 2, 3],\n",
       "       [4, 5, 4, 5]])"
      ]
     },
     "execution_count": 91,
     "metadata": {},
     "output_type": "execute_result"
    }
   ],
   "source": [
    "np.hstack([mat, mat])"
   ]
  },
  {
   "cell_type": "code",
   "execution_count": 92,
   "metadata": {
    "execution": {
     "iopub.execute_input": "2023-09-17T13:52:39.863570Z",
     "iopub.status.busy": "2023-09-17T13:52:39.863290Z",
     "iopub.status.idle": "2023-09-17T13:52:39.866087Z",
     "shell.execute_reply": "2023-09-17T13:52:39.865689Z",
     "shell.execute_reply.started": "2023-09-17T13:52:39.863559Z"
    },
    "scrolled": true,
    "tags": []
   },
   "outputs": [
    {
     "data": {
      "text/plain": [
       "array([[0, 1],\n",
       "       [2, 3],\n",
       "       [4, 5],\n",
       "       [0, 1],\n",
       "       [2, 3],\n",
       "       [4, 5]])"
      ]
     },
     "execution_count": 92,
     "metadata": {},
     "output_type": "execute_result"
    }
   ],
   "source": [
    "np.concatenate([mat, mat])"
   ]
  },
  {
   "cell_type": "code",
   "execution_count": null,
   "metadata": {},
   "outputs": [],
   "source": []
  },
  {
   "cell_type": "code",
   "execution_count": 93,
   "metadata": {
    "execution": {
     "iopub.execute_input": "2023-09-17T13:52:39.866600Z",
     "iopub.status.busy": "2023-09-17T13:52:39.866441Z",
     "iopub.status.idle": "2023-09-17T13:52:39.869670Z",
     "shell.execute_reply": "2023-09-17T13:52:39.869236Z",
     "shell.execute_reply.started": "2023-09-17T13:52:39.866588Z"
    },
    "scrolled": true,
    "tags": []
   },
   "outputs": [
    {
     "data": {
      "text/plain": [
       "array([[0, 0, 1],\n",
       "       [1, 2, 3],\n",
       "       [2, 4, 5]])"
      ]
     },
     "execution_count": 93,
     "metadata": {},
     "output_type": "execute_result"
    }
   ],
   "source": [
    "np.column_stack([vec, mat])"
   ]
  },
  {
   "cell_type": "code",
   "execution_count": 94,
   "metadata": {
    "execution": {
     "iopub.execute_input": "2023-09-17T13:52:39.870236Z",
     "iopub.status.busy": "2023-09-17T13:52:39.870138Z",
     "iopub.status.idle": "2023-09-17T13:52:39.873219Z",
     "shell.execute_reply": "2023-09-17T13:52:39.872876Z",
     "shell.execute_reply.started": "2023-09-17T13:52:39.870226Z"
    },
    "scrolled": true,
    "tags": []
   },
   "outputs": [
    {
     "data": {
      "text/plain": [
       "array([[0, 0],\n",
       "       [1, 1],\n",
       "       [2, 2]])"
      ]
     },
     "execution_count": 94,
     "metadata": {},
     "output_type": "execute_result"
    }
   ],
   "source": [
    "np.column_stack([vec, vec])"
   ]
  },
  {
   "cell_type": "code",
   "execution_count": 95,
   "metadata": {
    "execution": {
     "iopub.execute_input": "2023-09-17T13:52:39.873693Z",
     "iopub.status.busy": "2023-09-17T13:52:39.873606Z",
     "iopub.status.idle": "2023-09-17T13:52:39.878270Z",
     "shell.execute_reply": "2023-09-17T13:52:39.877965Z",
     "shell.execute_reply.started": "2023-09-17T13:52:39.873684Z"
    },
    "tags": []
   },
   "outputs": [
    {
     "data": {
      "text/plain": [
       "array([[0, 1, 2],\n",
       "       [0, 1, 2]])"
      ]
     },
     "execution_count": 95,
     "metadata": {},
     "output_type": "execute_result"
    }
   ],
   "source": [
    "np.vstack([vec, vec])"
   ]
  },
  {
   "cell_type": "code",
   "execution_count": 96,
   "metadata": {
    "execution": {
     "iopub.execute_input": "2023-09-17T13:52:39.879515Z",
     "iopub.status.busy": "2023-09-17T13:52:39.879359Z",
     "iopub.status.idle": "2023-09-17T13:52:39.882977Z",
     "shell.execute_reply": "2023-09-17T13:52:39.882469Z",
     "shell.execute_reply.started": "2023-09-17T13:52:39.879505Z"
    },
    "tags": []
   },
   "outputs": [
    {
     "data": {
      "text/plain": [
       "array([[0, 1],\n",
       "       [2, 3],\n",
       "       [4, 5],\n",
       "       [0, 1],\n",
       "       [2, 3],\n",
       "       [4, 5]])"
      ]
     },
     "execution_count": 96,
     "metadata": {},
     "output_type": "execute_result"
    }
   ],
   "source": [
    "np.vstack([mat, mat])"
   ]
  },
  {
   "cell_type": "markdown",
   "metadata": {},
   "source": [
    "Transpose"
   ]
  },
  {
   "cell_type": "code",
   "execution_count": 97,
   "metadata": {
    "execution": {
     "iopub.execute_input": "2023-09-17T13:52:39.883804Z",
     "iopub.status.busy": "2023-09-17T13:52:39.883643Z",
     "iopub.status.idle": "2023-09-17T13:52:39.887723Z",
     "shell.execute_reply": "2023-09-17T13:52:39.887363Z",
     "shell.execute_reply.started": "2023-09-17T13:52:39.883792Z"
    },
    "tags": []
   },
   "outputs": [
    {
     "data": {
      "text/plain": [
       "array([[0, 2, 4],\n",
       "       [1, 3, 5]])"
      ]
     },
     "execution_count": 97,
     "metadata": {},
     "output_type": "execute_result"
    }
   ],
   "source": [
    "mat.T"
   ]
  },
  {
   "cell_type": "code",
   "execution_count": 98,
   "metadata": {
    "execution": {
     "iopub.execute_input": "2023-09-17T13:52:39.888406Z",
     "iopub.status.busy": "2023-09-17T13:52:39.888304Z",
     "iopub.status.idle": "2023-09-17T13:52:39.892333Z",
     "shell.execute_reply": "2023-09-17T13:52:39.892007Z",
     "shell.execute_reply.started": "2023-09-17T13:52:39.888395Z"
    },
    "tags": []
   },
   "outputs": [
    {
     "data": {
      "text/plain": [
       "array([[0, 1, 2],\n",
       "       [0, 2, 4],\n",
       "       [1, 3, 5]])"
      ]
     },
     "execution_count": 98,
     "metadata": {},
     "output_type": "execute_result"
    }
   ],
   "source": [
    "np.vstack([vec, mat.T])"
   ]
  },
  {
   "cell_type": "markdown",
   "metadata": {},
   "source": [
    "## Slicing"
   ]
  },
  {
   "cell_type": "markdown",
   "metadata": {},
   "source": [
    "Taking a part of the array"
   ]
  },
  {
   "cell_type": "code",
   "execution_count": 99,
   "metadata": {
    "execution": {
     "iopub.execute_input": "2023-09-17T13:52:39.892960Z",
     "iopub.status.busy": "2023-09-17T13:52:39.892849Z",
     "iopub.status.idle": "2023-09-17T13:52:39.896017Z",
     "shell.execute_reply": "2023-09-17T13:52:39.895670Z",
     "shell.execute_reply.started": "2023-09-17T13:52:39.892951Z"
    },
    "scrolled": true,
    "tags": []
   },
   "outputs": [
    {
     "data": {
      "text/plain": [
       "array([[ 0,  1,  2],\n",
       "       [ 3,  4,  5],\n",
       "       [ 6,  7,  8],\n",
       "       [ 9, 10, 11],\n",
       "       [12, 13, 14]])"
      ]
     },
     "execution_count": 99,
     "metadata": {},
     "output_type": "execute_result"
    }
   ],
   "source": [
    "mat = np.arange(15).reshape(5, 3)\n",
    "mat"
   ]
  },
  {
   "cell_type": "code",
   "execution_count": 100,
   "metadata": {
    "execution": {
     "iopub.execute_input": "2023-09-17T13:52:39.896663Z",
     "iopub.status.busy": "2023-09-17T13:52:39.896509Z",
     "iopub.status.idle": "2023-09-17T13:52:39.899594Z",
     "shell.execute_reply": "2023-09-17T13:52:39.899289Z",
     "shell.execute_reply.started": "2023-09-17T13:52:39.896653Z"
    },
    "tags": []
   },
   "outputs": [
    {
     "data": {
      "text/plain": [
       "array([[0, 1, 2],\n",
       "       [3, 4, 5],\n",
       "       [6, 7, 8]])"
      ]
     },
     "execution_count": 100,
     "metadata": {},
     "output_type": "execute_result"
    }
   ],
   "source": [
    "mat[:3]"
   ]
  },
  {
   "cell_type": "code",
   "execution_count": 101,
   "metadata": {
    "execution": {
     "iopub.execute_input": "2023-09-17T13:52:39.900305Z",
     "iopub.status.busy": "2023-09-17T13:52:39.900202Z",
     "iopub.status.idle": "2023-09-17T13:52:39.904111Z",
     "shell.execute_reply": "2023-09-17T13:52:39.903495Z",
     "shell.execute_reply.started": "2023-09-17T13:52:39.900295Z"
    },
    "tags": []
   },
   "outputs": [
    {
     "data": {
      "text/plain": [
       "array([[3, 4],\n",
       "       [6, 7]])"
      ]
     },
     "execution_count": 101,
     "metadata": {},
     "output_type": "execute_result"
    }
   ],
   "source": [
    "mat[1:3, :2]"
   ]
  },
  {
   "cell_type": "code",
   "execution_count": 102,
   "metadata": {
    "execution": {
     "iopub.execute_input": "2023-09-17T13:52:39.904869Z",
     "iopub.status.busy": "2023-09-17T13:52:39.904765Z",
     "iopub.status.idle": "2023-09-17T13:52:39.908892Z",
     "shell.execute_reply": "2023-09-17T13:52:39.908435Z",
     "shell.execute_reply.started": "2023-09-17T13:52:39.904859Z"
    },
    "tags": []
   },
   "outputs": [
    {
     "data": {
      "text/plain": [
       "array([[ 2],\n",
       "       [ 5],\n",
       "       [ 8],\n",
       "       [11],\n",
       "       [14]])"
      ]
     },
     "execution_count": 102,
     "metadata": {},
     "output_type": "execute_result"
    }
   ],
   "source": [
    "mat[:, 2:3]"
   ]
  },
  {
   "cell_type": "code",
   "execution_count": 103,
   "metadata": {
    "execution": {
     "iopub.execute_input": "2023-09-17T13:52:39.909464Z",
     "iopub.status.busy": "2023-09-17T13:52:39.909352Z",
     "iopub.status.idle": "2023-09-17T13:52:39.912658Z",
     "shell.execute_reply": "2023-09-17T13:52:39.912328Z",
     "shell.execute_reply.started": "2023-09-17T13:52:39.909454Z"
    },
    "tags": []
   },
   "outputs": [
    {
     "data": {
      "text/plain": [
       "array([[3, 4],\n",
       "       [6, 7]])"
      ]
     },
     "execution_count": 103,
     "metadata": {},
     "output_type": "execute_result"
    }
   ],
   "source": [
    "mat[1:3, :2]"
   ]
  },
  {
   "cell_type": "code",
   "execution_count": 104,
   "metadata": {
    "execution": {
     "iopub.execute_input": "2023-09-17T13:52:39.913678Z",
     "iopub.status.busy": "2023-09-17T13:52:39.913536Z",
     "iopub.status.idle": "2023-09-17T13:52:39.916482Z",
     "shell.execute_reply": "2023-09-17T13:52:39.916139Z",
     "shell.execute_reply.started": "2023-09-17T13:52:39.913666Z"
    },
    "tags": []
   },
   "outputs": [
    {
     "data": {
      "text/plain": [
       "array([[ 9, 10, 11],\n",
       "       [ 0,  1,  2],\n",
       "       [ 3,  4,  5]])"
      ]
     },
     "execution_count": 104,
     "metadata": {},
     "output_type": "execute_result"
    }
   ],
   "source": [
    "mat[[3, 0, 1]] # accessing multiple rows at once"
   ]
  },
  {
   "cell_type": "code",
   "execution_count": 105,
   "metadata": {
    "execution": {
     "iopub.execute_input": "2023-09-17T13:52:39.917116Z",
     "iopub.status.busy": "2023-09-17T13:52:39.916964Z",
     "iopub.status.idle": "2023-09-17T13:52:39.919999Z",
     "shell.execute_reply": "2023-09-17T13:52:39.919672Z",
     "shell.execute_reply.started": "2023-09-17T13:52:39.917105Z"
    },
    "tags": []
   },
   "outputs": [
    {
     "data": {
      "text/plain": [
       "array([False,  True, False,  True, False])"
      ]
     },
     "execution_count": 105,
     "metadata": {},
     "output_type": "execute_result"
    }
   ],
   "source": [
    "mat[:, 0] % 2 == 1"
   ]
  },
  {
   "cell_type": "code",
   "execution_count": 106,
   "metadata": {
    "execution": {
     "iopub.execute_input": "2023-09-17T13:52:39.920801Z",
     "iopub.status.busy": "2023-09-17T13:52:39.920704Z",
     "iopub.status.idle": "2023-09-17T13:52:39.924900Z",
     "shell.execute_reply": "2023-09-17T13:52:39.924615Z",
     "shell.execute_reply.started": "2023-09-17T13:52:39.920791Z"
    },
    "tags": []
   },
   "outputs": [
    {
     "data": {
      "text/plain": [
       "array([[ 3,  4,  5],\n",
       "       [ 9, 10, 11]])"
      ]
     },
     "execution_count": 106,
     "metadata": {},
     "output_type": "execute_result"
    }
   ],
   "source": [
    "mat[mat[:, 0] % 2 == 1] #getting rows for which the internal index is passes as true"
   ]
  },
  {
   "cell_type": "markdown",
   "metadata": {},
   "source": [
    "## Linear Algebra\n",
    "### Multiplication"
   ]
  },
  {
   "cell_type": "markdown",
   "metadata": {},
   "source": [
    "Vector-vector multiplication"
   ]
  },
  {
   "cell_type": "code",
   "execution_count": 107,
   "metadata": {
    "execution": {
     "iopub.execute_input": "2023-09-17T13:52:39.925595Z",
     "iopub.status.busy": "2023-09-17T13:52:39.925374Z",
     "iopub.status.idle": "2023-09-17T13:52:39.928694Z",
     "shell.execute_reply": "2023-09-17T13:52:39.928313Z",
     "shell.execute_reply.started": "2023-09-17T13:52:39.925580Z"
    },
    "tags": []
   },
   "outputs": [
    {
     "data": {
      "text/plain": [
       "8"
      ]
     },
     "execution_count": 107,
     "metadata": {},
     "output_type": "execute_result"
    }
   ],
   "source": [
    "u = np.array([0, 1, 2])\n",
    "v = np.array([1, 2, 3])\n",
    "\n",
    "u.dot(v)"
   ]
  },
  {
   "cell_type": "markdown",
   "metadata": {},
   "source": [
    "Matrix-vector multiplication"
   ]
  },
  {
   "cell_type": "code",
   "execution_count": 108,
   "metadata": {
    "execution": {
     "iopub.execute_input": "2023-09-17T13:52:39.929199Z",
     "iopub.status.busy": "2023-09-17T13:52:39.929108Z",
     "iopub.status.idle": "2023-09-17T13:52:39.931411Z",
     "shell.execute_reply": "2023-09-17T13:52:39.931044Z",
     "shell.execute_reply.started": "2023-09-17T13:52:39.929189Z"
    },
    "tags": []
   },
   "outputs": [],
   "source": [
    "X = np.array([\n",
    "    [0, 1, 2],\n",
    "    [1, 2, 3],\n",
    "    [2, 3, 3]\n",
    "])"
   ]
  },
  {
   "cell_type": "code",
   "execution_count": 109,
   "metadata": {
    "execution": {
     "iopub.execute_input": "2023-09-17T13:52:39.932070Z",
     "iopub.status.busy": "2023-09-17T13:52:39.931971Z",
     "iopub.status.idle": "2023-09-17T13:52:39.935190Z",
     "shell.execute_reply": "2023-09-17T13:52:39.934861Z",
     "shell.execute_reply.started": "2023-09-17T13:52:39.932060Z"
    },
    "tags": []
   },
   "outputs": [
    {
     "data": {
      "text/plain": [
       "array([5, 8, 9])"
      ]
     },
     "execution_count": 109,
     "metadata": {},
     "output_type": "execute_result"
    }
   ],
   "source": [
    "X.dot(u)"
   ]
  },
  {
   "cell_type": "code",
   "execution_count": 110,
   "metadata": {
    "execution": {
     "iopub.execute_input": "2023-09-17T13:52:39.935669Z",
     "iopub.status.busy": "2023-09-17T13:52:39.935572Z",
     "iopub.status.idle": "2023-09-17T13:52:39.938365Z",
     "shell.execute_reply": "2023-09-17T13:52:39.937999Z",
     "shell.execute_reply.started": "2023-09-17T13:52:39.935658Z"
    },
    "tags": []
   },
   "outputs": [],
   "source": [
    "U = np.array([\n",
    "    [4, 5, 6],\n",
    "    [5, 6, 7],\n",
    "    [6, 7, 8]\n",
    "])"
   ]
  },
  {
   "cell_type": "code",
   "execution_count": 111,
   "metadata": {
    "execution": {
     "iopub.execute_input": "2023-09-17T13:52:39.939036Z",
     "iopub.status.busy": "2023-09-17T13:52:39.938933Z",
     "iopub.status.idle": "2023-09-17T13:52:39.942381Z",
     "shell.execute_reply": "2023-09-17T13:52:39.942061Z",
     "shell.execute_reply.started": "2023-09-17T13:52:39.939026Z"
    },
    "tags": []
   },
   "outputs": [
    {
     "data": {
      "text/plain": [
       "array([[17, 20, 23],\n",
       "       [32, 38, 44],\n",
       "       [41, 49, 57]])"
      ]
     },
     "execution_count": 111,
     "metadata": {},
     "output_type": "execute_result"
    }
   ],
   "source": [
    "X.dot(U)"
   ]
  },
  {
   "cell_type": "markdown",
   "metadata": {},
   "source": [
    "### Inverse"
   ]
  },
  {
   "cell_type": "markdown",
   "metadata": {},
   "source": [
    "To inverse a matrix, use `inv` function from `linalg` package"
   ]
  },
  {
   "cell_type": "code",
   "execution_count": 112,
   "metadata": {
    "execution": {
     "iopub.execute_input": "2023-09-17T13:52:39.943085Z",
     "iopub.status.busy": "2023-09-17T13:52:39.942972Z",
     "iopub.status.idle": "2023-09-17T13:52:39.945587Z",
     "shell.execute_reply": "2023-09-17T13:52:39.945281Z",
     "shell.execute_reply.started": "2023-09-17T13:52:39.943076Z"
    },
    "tags": []
   },
   "outputs": [],
   "source": [
    "A = np.array([\n",
    "    [0, 1, 2],\n",
    "    [1, 2, 3],\n",
    "    [2, 3, 3]\n",
    "])"
   ]
  },
  {
   "cell_type": "code",
   "execution_count": 113,
   "metadata": {
    "execution": {
     "iopub.execute_input": "2023-09-17T13:52:39.946331Z",
     "iopub.status.busy": "2023-09-17T13:52:39.946209Z",
     "iopub.status.idle": "2023-09-17T13:52:39.951205Z",
     "shell.execute_reply": "2023-09-17T13:52:39.950155Z",
     "shell.execute_reply.started": "2023-09-17T13:52:39.946322Z"
    },
    "tags": []
   },
   "outputs": [
    {
     "data": {
      "text/plain": [
       "array([[-3.,  3., -1.],\n",
       "       [ 3., -4.,  2.],\n",
       "       [-1.,  2., -1.]])"
      ]
     },
     "execution_count": 113,
     "metadata": {},
     "output_type": "execute_result"
    }
   ],
   "source": [
    "Ainv = np.linalg.inv(A)\n",
    "Ainv"
   ]
  },
  {
   "cell_type": "code",
   "execution_count": 114,
   "metadata": {
    "execution": {
     "iopub.execute_input": "2023-09-17T13:52:39.952621Z",
     "iopub.status.busy": "2023-09-17T13:52:39.952460Z",
     "iopub.status.idle": "2023-09-17T13:52:39.958145Z",
     "shell.execute_reply": "2023-09-17T13:52:39.957377Z",
     "shell.execute_reply.started": "2023-09-17T13:52:39.952610Z"
    },
    "tags": []
   },
   "outputs": [
    {
     "data": {
      "text/plain": [
       "array([[1., 0., 0.],\n",
       "       [0., 1., 0.],\n",
       "       [0., 0., 1.]])"
      ]
     },
     "execution_count": 114,
     "metadata": {},
     "output_type": "execute_result"
    }
   ],
   "source": [
    "A.dot(Ainv)"
   ]
  },
  {
   "cell_type": "markdown",
   "metadata": {},
   "source": [
    "B is not invertible (\"singular\"):"
   ]
  },
  {
   "cell_type": "code",
   "execution_count": 115,
   "metadata": {
    "execution": {
     "iopub.execute_input": "2023-09-17T13:52:39.959169Z",
     "iopub.status.busy": "2023-09-17T13:52:39.959061Z",
     "iopub.status.idle": "2023-09-17T13:52:39.962669Z",
     "shell.execute_reply": "2023-09-17T13:52:39.962020Z",
     "shell.execute_reply.started": "2023-09-17T13:52:39.959159Z"
    },
    "tags": []
   },
   "outputs": [],
   "source": [
    "B = np.array([\n",
    "    [0, 1, 1],\n",
    "    [1, 2, 3],\n",
    "    [2, 3, 5]\n",
    "])\n",
    "\n",
    "# np.linalg.inv(B)"
   ]
  },
  {
   "cell_type": "markdown",
   "metadata": {},
   "source": [
    "Note: When you need to solve _Ax = b_, you don't really to compute the inverse. You can use `solve`:"
   ]
  },
  {
   "cell_type": "code",
   "execution_count": 116,
   "metadata": {
    "execution": {
     "iopub.execute_input": "2023-09-17T13:52:39.964174Z",
     "iopub.status.busy": "2023-09-17T13:52:39.963560Z",
     "iopub.status.idle": "2023-09-17T13:52:39.968953Z",
     "shell.execute_reply": "2023-09-17T13:52:39.966405Z",
     "shell.execute_reply.started": "2023-09-17T13:52:39.964161Z"
    },
    "tags": []
   },
   "outputs": [],
   "source": [
    "b = np.array([1, 2, 3])"
   ]
  },
  {
   "cell_type": "code",
   "execution_count": 117,
   "metadata": {
    "execution": {
     "iopub.execute_input": "2023-09-17T13:52:39.971698Z",
     "iopub.status.busy": "2023-09-17T13:52:39.970722Z",
     "iopub.status.idle": "2023-09-17T13:52:39.976584Z",
     "shell.execute_reply": "2023-09-17T13:52:39.975615Z",
     "shell.execute_reply.started": "2023-09-17T13:52:39.971687Z"
    },
    "tags": []
   },
   "outputs": [
    {
     "data": {
      "text/plain": [
       "array([0., 1., 0.])"
      ]
     },
     "execution_count": 117,
     "metadata": {},
     "output_type": "execute_result"
    }
   ],
   "source": [
    "x = np.linalg.solve(A, b)\n",
    "x"
   ]
  },
  {
   "cell_type": "code",
   "execution_count": 118,
   "metadata": {
    "execution": {
     "iopub.execute_input": "2023-09-17T13:52:39.979386Z",
     "iopub.status.busy": "2023-09-17T13:52:39.978421Z",
     "iopub.status.idle": "2023-09-17T13:52:39.985687Z",
     "shell.execute_reply": "2023-09-17T13:52:39.984352Z",
     "shell.execute_reply.started": "2023-09-17T13:52:39.979348Z"
    },
    "tags": []
   },
   "outputs": [
    {
     "data": {
      "text/plain": [
       "array([1., 2., 3.])"
      ]
     },
     "execution_count": 118,
     "metadata": {},
     "output_type": "execute_result"
    }
   ],
   "source": [
    "A.dot(x)"
   ]
  }
 ],
 "metadata": {
  "kernelspec": {
   "display_name": "Python 3 (ipykernel)",
   "language": "python",
   "name": "python3"
  },
  "language_info": {
   "codemirror_mode": {
    "name": "ipython",
    "version": 3
   },
   "file_extension": ".py",
   "mimetype": "text/x-python",
   "name": "python",
   "nbconvert_exporter": "python",
   "pygments_lexer": "ipython3",
   "version": "3.9.18"
  }
 },
 "nbformat": 4,
 "nbformat_minor": 4
}
