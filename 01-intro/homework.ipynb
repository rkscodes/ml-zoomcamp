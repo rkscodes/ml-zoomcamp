{
 "cells": [
  {
   "cell_type": "code",
   "execution_count": 1,
   "id": "762d41d7-37cb-4fc0-8193-1ca81ed95e4b",
   "metadata": {
    "execution": {
     "iopub.execute_input": "2023-09-18T01:56:05.005600Z",
     "iopub.status.busy": "2023-09-18T01:56:05.005331Z",
     "iopub.status.idle": "2023-09-18T01:56:05.247603Z",
     "shell.execute_reply": "2023-09-18T01:56:05.246616Z",
     "shell.execute_reply.started": "2023-09-18T01:56:05.005573Z"
    },
    "tags": []
   },
   "outputs": [],
   "source": [
    "import pandas as pd\n",
    "import numpy as np "
   ]
  },
  {
   "cell_type": "code",
   "execution_count": 2,
   "id": "085491a0-cb2e-4205-b5b3-67a65daf9485",
   "metadata": {
    "execution": {
     "iopub.execute_input": "2023-09-18T01:56:05.263777Z",
     "iopub.status.busy": "2023-09-18T01:56:05.262946Z",
     "iopub.status.idle": "2023-09-18T01:56:05.933247Z",
     "shell.execute_reply": "2023-09-18T01:56:05.931153Z",
     "shell.execute_reply.started": "2023-09-18T01:56:05.263747Z"
    },
    "tags": []
   },
   "outputs": [
    {
     "name": "stdout",
     "output_type": "stream",
     "text": [
      "--2023-09-18 07:26:05--  https://raw.githubusercontent.com/alexeygrigorev/datasets/master/housing.csv\n",
      "Resolving raw.githubusercontent.com (raw.githubusercontent.com)... 2606:50c0:8000::154, 2606:50c0:8001::154, 2606:50c0:8002::154, ...\n",
      "Connecting to raw.githubusercontent.com (raw.githubusercontent.com)|2606:50c0:8000::154|:443... connected.\n",
      "HTTP request sent, awaiting response... 200 OK\n",
      "Length: 1423529 (1.4M) [text/plain]\n",
      "Saving to: ‘housing.csv.1’\n",
      "\n",
      "housing.csv.1       100%[===================>]   1.36M  7.29MB/s    in 0.2s    \n",
      "\n",
      "2023-09-18 07:26:05 (7.29 MB/s) - ‘housing.csv.1’ saved [1423529/1423529]\n",
      "\n"
     ]
    }
   ],
   "source": [
    "!wget https://raw.githubusercontent.com/alexeygrigorev/datasets/master/housing.csv"
   ]
  },
  {
   "cell_type": "code",
   "execution_count": 3,
   "id": "d07f0846-0780-4aaa-8b75-dd67141cf696",
   "metadata": {
    "execution": {
     "iopub.execute_input": "2023-09-18T01:56:05.937486Z",
     "iopub.status.busy": "2023-09-18T01:56:05.936846Z",
     "iopub.status.idle": "2023-09-18T01:56:05.987536Z",
     "shell.execute_reply": "2023-09-18T01:56:05.986921Z",
     "shell.execute_reply.started": "2023-09-18T01:56:05.937443Z"
    },
    "tags": []
   },
   "outputs": [
    {
     "data": {
      "text/html": [
       "<div>\n",
       "<style scoped>\n",
       "    .dataframe tbody tr th:only-of-type {\n",
       "        vertical-align: middle;\n",
       "    }\n",
       "\n",
       "    .dataframe tbody tr th {\n",
       "        vertical-align: top;\n",
       "    }\n",
       "\n",
       "    .dataframe thead th {\n",
       "        text-align: right;\n",
       "    }\n",
       "</style>\n",
       "<table border=\"1\" class=\"dataframe\">\n",
       "  <thead>\n",
       "    <tr style=\"text-align: right;\">\n",
       "      <th></th>\n",
       "      <th>longitude</th>\n",
       "      <th>latitude</th>\n",
       "      <th>housing_median_age</th>\n",
       "      <th>total_rooms</th>\n",
       "      <th>total_bedrooms</th>\n",
       "      <th>population</th>\n",
       "      <th>households</th>\n",
       "      <th>median_income</th>\n",
       "      <th>median_house_value</th>\n",
       "      <th>ocean_proximity</th>\n",
       "    </tr>\n",
       "  </thead>\n",
       "  <tbody>\n",
       "    <tr>\n",
       "      <th>0</th>\n",
       "      <td>-122.23</td>\n",
       "      <td>37.88</td>\n",
       "      <td>41.0</td>\n",
       "      <td>880.0</td>\n",
       "      <td>129.0</td>\n",
       "      <td>322.0</td>\n",
       "      <td>126.0</td>\n",
       "      <td>8.3252</td>\n",
       "      <td>452600.0</td>\n",
       "      <td>NEAR BAY</td>\n",
       "    </tr>\n",
       "    <tr>\n",
       "      <th>1</th>\n",
       "      <td>-122.22</td>\n",
       "      <td>37.86</td>\n",
       "      <td>21.0</td>\n",
       "      <td>7099.0</td>\n",
       "      <td>1106.0</td>\n",
       "      <td>2401.0</td>\n",
       "      <td>1138.0</td>\n",
       "      <td>8.3014</td>\n",
       "      <td>358500.0</td>\n",
       "      <td>NEAR BAY</td>\n",
       "    </tr>\n",
       "    <tr>\n",
       "      <th>2</th>\n",
       "      <td>-122.24</td>\n",
       "      <td>37.85</td>\n",
       "      <td>52.0</td>\n",
       "      <td>1467.0</td>\n",
       "      <td>190.0</td>\n",
       "      <td>496.0</td>\n",
       "      <td>177.0</td>\n",
       "      <td>7.2574</td>\n",
       "      <td>352100.0</td>\n",
       "      <td>NEAR BAY</td>\n",
       "    </tr>\n",
       "    <tr>\n",
       "      <th>3</th>\n",
       "      <td>-122.25</td>\n",
       "      <td>37.85</td>\n",
       "      <td>52.0</td>\n",
       "      <td>1274.0</td>\n",
       "      <td>235.0</td>\n",
       "      <td>558.0</td>\n",
       "      <td>219.0</td>\n",
       "      <td>5.6431</td>\n",
       "      <td>341300.0</td>\n",
       "      <td>NEAR BAY</td>\n",
       "    </tr>\n",
       "    <tr>\n",
       "      <th>4</th>\n",
       "      <td>-122.25</td>\n",
       "      <td>37.85</td>\n",
       "      <td>52.0</td>\n",
       "      <td>1627.0</td>\n",
       "      <td>280.0</td>\n",
       "      <td>565.0</td>\n",
       "      <td>259.0</td>\n",
       "      <td>3.8462</td>\n",
       "      <td>342200.0</td>\n",
       "      <td>NEAR BAY</td>\n",
       "    </tr>\n",
       "  </tbody>\n",
       "</table>\n",
       "</div>"
      ],
      "text/plain": [
       "   longitude  latitude  housing_median_age  total_rooms  total_bedrooms   \n",
       "0    -122.23     37.88                41.0        880.0           129.0  \\\n",
       "1    -122.22     37.86                21.0       7099.0          1106.0   \n",
       "2    -122.24     37.85                52.0       1467.0           190.0   \n",
       "3    -122.25     37.85                52.0       1274.0           235.0   \n",
       "4    -122.25     37.85                52.0       1627.0           280.0   \n",
       "\n",
       "   population  households  median_income  median_house_value ocean_proximity  \n",
       "0       322.0       126.0         8.3252            452600.0        NEAR BAY  \n",
       "1      2401.0      1138.0         8.3014            358500.0        NEAR BAY  \n",
       "2       496.0       177.0         7.2574            352100.0        NEAR BAY  \n",
       "3       558.0       219.0         5.6431            341300.0        NEAR BAY  \n",
       "4       565.0       259.0         3.8462            342200.0        NEAR BAY  "
      ]
     },
     "execution_count": 3,
     "metadata": {},
     "output_type": "execute_result"
    }
   ],
   "source": [
    "df = pd.read_csv('housing.csv')\n",
    "df.head()"
   ]
  },
  {
   "cell_type": "code",
   "execution_count": 4,
   "id": "b040d8c5-1d7f-48da-9e8d-23958bd6c8c8",
   "metadata": {
    "execution": {
     "iopub.execute_input": "2023-09-18T01:56:05.988904Z",
     "iopub.status.busy": "2023-09-18T01:56:05.988413Z",
     "iopub.status.idle": "2023-09-18T01:56:05.996415Z",
     "shell.execute_reply": "2023-09-18T01:56:05.995540Z",
     "shell.execute_reply.started": "2023-09-18T01:56:05.988881Z"
    },
    "tags": []
   },
   "outputs": [
    {
     "data": {
      "text/plain": [
       "longitude               0\n",
       "latitude                0\n",
       "housing_median_age      0\n",
       "total_rooms             0\n",
       "total_bedrooms        207\n",
       "population              0\n",
       "households              0\n",
       "median_income           0\n",
       "median_house_value      0\n",
       "ocean_proximity         0\n",
       "dtype: int64"
      ]
     },
     "execution_count": 4,
     "metadata": {},
     "output_type": "execute_result"
    }
   ],
   "source": [
    "df.isnull().sum()"
   ]
  },
  {
   "cell_type": "code",
   "execution_count": 5,
   "id": "9afa99c0-79aa-4ef8-9be4-a34f4a301e8b",
   "metadata": {
    "execution": {
     "iopub.execute_input": "2023-09-18T01:56:05.997372Z",
     "iopub.status.busy": "2023-09-18T01:56:05.997187Z",
     "iopub.status.idle": "2023-09-18T01:56:06.005797Z",
     "shell.execute_reply": "2023-09-18T01:56:06.005316Z",
     "shell.execute_reply.started": "2023-09-18T01:56:05.997355Z"
    },
    "tags": []
   },
   "outputs": [
    {
     "data": {
      "text/plain": [
       "longitude               844\n",
       "latitude                862\n",
       "housing_median_age       52\n",
       "total_rooms            5926\n",
       "total_bedrooms         1923\n",
       "population             3888\n",
       "households             1815\n",
       "median_income         12928\n",
       "median_house_value     3842\n",
       "ocean_proximity           5\n",
       "dtype: int64"
      ]
     },
     "execution_count": 5,
     "metadata": {},
     "output_type": "execute_result"
    }
   ],
   "source": [
    "df.nunique()"
   ]
  },
  {
   "cell_type": "code",
   "execution_count": 6,
   "id": "819a9041-2794-4c13-bbe9-54650a54fc50",
   "metadata": {
    "execution": {
     "iopub.execute_input": "2023-09-18T01:56:06.007118Z",
     "iopub.status.busy": "2023-09-18T01:56:06.006743Z",
     "iopub.status.idle": "2023-09-18T01:56:06.024469Z",
     "shell.execute_reply": "2023-09-18T01:56:06.024134Z",
     "shell.execute_reply.started": "2023-09-18T01:56:06.007103Z"
    },
    "tags": []
   },
   "outputs": [
    {
     "data": {
      "text/html": [
       "<div>\n",
       "<style scoped>\n",
       "    .dataframe tbody tr th:only-of-type {\n",
       "        vertical-align: middle;\n",
       "    }\n",
       "\n",
       "    .dataframe tbody tr th {\n",
       "        vertical-align: top;\n",
       "    }\n",
       "\n",
       "    .dataframe thead th {\n",
       "        text-align: right;\n",
       "    }\n",
       "</style>\n",
       "<table border=\"1\" class=\"dataframe\">\n",
       "  <thead>\n",
       "    <tr style=\"text-align: right;\">\n",
       "      <th></th>\n",
       "      <th>longitude</th>\n",
       "      <th>latitude</th>\n",
       "      <th>housing_median_age</th>\n",
       "      <th>total_rooms</th>\n",
       "      <th>total_bedrooms</th>\n",
       "      <th>population</th>\n",
       "      <th>households</th>\n",
       "      <th>median_income</th>\n",
       "      <th>median_house_value</th>\n",
       "    </tr>\n",
       "  </thead>\n",
       "  <tbody>\n",
       "    <tr>\n",
       "      <th>count</th>\n",
       "      <td>2290.000000</td>\n",
       "      <td>2290.000000</td>\n",
       "      <td>2290.000000</td>\n",
       "      <td>2290.000000</td>\n",
       "      <td>2270.000000</td>\n",
       "      <td>2290.000000</td>\n",
       "      <td>2290.000000</td>\n",
       "      <td>2290.000000</td>\n",
       "      <td>2290.000000</td>\n",
       "    </tr>\n",
       "    <tr>\n",
       "      <th>mean</th>\n",
       "      <td>-122.260694</td>\n",
       "      <td>37.801057</td>\n",
       "      <td>37.730131</td>\n",
       "      <td>2493.589520</td>\n",
       "      <td>514.182819</td>\n",
       "      <td>1230.317467</td>\n",
       "      <td>488.616157</td>\n",
       "      <td>4.172885</td>\n",
       "      <td>259212.311790</td>\n",
       "    </tr>\n",
       "    <tr>\n",
       "      <th>std</th>\n",
       "      <td>0.147004</td>\n",
       "      <td>0.185434</td>\n",
       "      <td>13.070385</td>\n",
       "      <td>1830.817022</td>\n",
       "      <td>367.887605</td>\n",
       "      <td>885.899035</td>\n",
       "      <td>350.598369</td>\n",
       "      <td>2.017427</td>\n",
       "      <td>122818.537064</td>\n",
       "    </tr>\n",
       "    <tr>\n",
       "      <th>min</th>\n",
       "      <td>-122.590000</td>\n",
       "      <td>37.350000</td>\n",
       "      <td>2.000000</td>\n",
       "      <td>8.000000</td>\n",
       "      <td>1.000000</td>\n",
       "      <td>8.000000</td>\n",
       "      <td>1.000000</td>\n",
       "      <td>0.499900</td>\n",
       "      <td>22500.000000</td>\n",
       "    </tr>\n",
       "    <tr>\n",
       "      <th>25%</th>\n",
       "      <td>-122.410000</td>\n",
       "      <td>37.730000</td>\n",
       "      <td>29.000000</td>\n",
       "      <td>1431.250000</td>\n",
       "      <td>289.000000</td>\n",
       "      <td>718.250000</td>\n",
       "      <td>275.000000</td>\n",
       "      <td>2.834750</td>\n",
       "      <td>162500.000000</td>\n",
       "    </tr>\n",
       "    <tr>\n",
       "      <th>50%</th>\n",
       "      <td>-122.250000</td>\n",
       "      <td>37.790000</td>\n",
       "      <td>39.000000</td>\n",
       "      <td>2083.000000</td>\n",
       "      <td>423.000000</td>\n",
       "      <td>1033.500000</td>\n",
       "      <td>406.000000</td>\n",
       "      <td>3.818650</td>\n",
       "      <td>233800.000000</td>\n",
       "    </tr>\n",
       "    <tr>\n",
       "      <th>75%</th>\n",
       "      <td>-122.140000</td>\n",
       "      <td>37.907500</td>\n",
       "      <td>52.000000</td>\n",
       "      <td>3029.750000</td>\n",
       "      <td>628.750000</td>\n",
       "      <td>1495.000000</td>\n",
       "      <td>599.250000</td>\n",
       "      <td>5.054425</td>\n",
       "      <td>345700.000000</td>\n",
       "    </tr>\n",
       "    <tr>\n",
       "      <th>max</th>\n",
       "      <td>-122.010000</td>\n",
       "      <td>38.340000</td>\n",
       "      <td>52.000000</td>\n",
       "      <td>18634.000000</td>\n",
       "      <td>3226.000000</td>\n",
       "      <td>8276.000000</td>\n",
       "      <td>3589.000000</td>\n",
       "      <td>15.000100</td>\n",
       "      <td>500001.000000</td>\n",
       "    </tr>\n",
       "  </tbody>\n",
       "</table>\n",
       "</div>"
      ],
      "text/plain": [
       "         longitude     latitude  housing_median_age   total_rooms   \n",
       "count  2290.000000  2290.000000         2290.000000   2290.000000  \\\n",
       "mean   -122.260694    37.801057           37.730131   2493.589520   \n",
       "std       0.147004     0.185434           13.070385   1830.817022   \n",
       "min    -122.590000    37.350000            2.000000      8.000000   \n",
       "25%    -122.410000    37.730000           29.000000   1431.250000   \n",
       "50%    -122.250000    37.790000           39.000000   2083.000000   \n",
       "75%    -122.140000    37.907500           52.000000   3029.750000   \n",
       "max    -122.010000    38.340000           52.000000  18634.000000   \n",
       "\n",
       "       total_bedrooms   population   households  median_income   \n",
       "count     2270.000000  2290.000000  2290.000000    2290.000000  \\\n",
       "mean       514.182819  1230.317467   488.616157       4.172885   \n",
       "std        367.887605   885.899035   350.598369       2.017427   \n",
       "min          1.000000     8.000000     1.000000       0.499900   \n",
       "25%        289.000000   718.250000   275.000000       2.834750   \n",
       "50%        423.000000  1033.500000   406.000000       3.818650   \n",
       "75%        628.750000  1495.000000   599.250000       5.054425   \n",
       "max       3226.000000  8276.000000  3589.000000      15.000100   \n",
       "\n",
       "       median_house_value  \n",
       "count         2290.000000  \n",
       "mean        259212.311790  \n",
       "std         122818.537064  \n",
       "min          22500.000000  \n",
       "25%         162500.000000  \n",
       "50%         233800.000000  \n",
       "75%         345700.000000  \n",
       "max         500001.000000  "
      ]
     },
     "execution_count": 6,
     "metadata": {},
     "output_type": "execute_result"
    }
   ],
   "source": [
    "df[df.ocean_proximity == \"NEAR BAY\"].describe()"
   ]
  },
  {
   "cell_type": "code",
   "execution_count": 7,
   "id": "dff9ed87-2827-445e-b34d-afa2d1f54f19",
   "metadata": {
    "execution": {
     "iopub.execute_input": "2023-09-18T01:56:06.026506Z",
     "iopub.status.busy": "2023-09-18T01:56:06.026288Z",
     "iopub.status.idle": "2023-09-18T01:56:06.044527Z",
     "shell.execute_reply": "2023-09-18T01:56:06.044065Z",
     "shell.execute_reply.started": "2023-09-18T01:56:06.026495Z"
    },
    "tags": []
   },
   "outputs": [
    {
     "data": {
      "text/html": [
       "<div>\n",
       "<style scoped>\n",
       "    .dataframe tbody tr th:only-of-type {\n",
       "        vertical-align: middle;\n",
       "    }\n",
       "\n",
       "    .dataframe tbody tr th {\n",
       "        vertical-align: top;\n",
       "    }\n",
       "\n",
       "    .dataframe thead th {\n",
       "        text-align: right;\n",
       "    }\n",
       "</style>\n",
       "<table border=\"1\" class=\"dataframe\">\n",
       "  <thead>\n",
       "    <tr style=\"text-align: right;\">\n",
       "      <th></th>\n",
       "      <th>longitude</th>\n",
       "      <th>latitude</th>\n",
       "      <th>housing_median_age</th>\n",
       "      <th>total_rooms</th>\n",
       "      <th>total_bedrooms</th>\n",
       "      <th>population</th>\n",
       "      <th>households</th>\n",
       "      <th>median_income</th>\n",
       "      <th>median_house_value</th>\n",
       "    </tr>\n",
       "  </thead>\n",
       "  <tbody>\n",
       "    <tr>\n",
       "      <th>count</th>\n",
       "      <td>20640.000000</td>\n",
       "      <td>20640.000000</td>\n",
       "      <td>20640.000000</td>\n",
       "      <td>20640.000000</td>\n",
       "      <td>20433.000000</td>\n",
       "      <td>20640.000000</td>\n",
       "      <td>20640.000000</td>\n",
       "      <td>20640.000000</td>\n",
       "      <td>20640.000000</td>\n",
       "    </tr>\n",
       "    <tr>\n",
       "      <th>mean</th>\n",
       "      <td>-119.569704</td>\n",
       "      <td>35.631861</td>\n",
       "      <td>28.639486</td>\n",
       "      <td>2635.763081</td>\n",
       "      <td>537.870553</td>\n",
       "      <td>1425.476744</td>\n",
       "      <td>499.539680</td>\n",
       "      <td>3.870671</td>\n",
       "      <td>206855.816909</td>\n",
       "    </tr>\n",
       "    <tr>\n",
       "      <th>std</th>\n",
       "      <td>2.003532</td>\n",
       "      <td>2.135952</td>\n",
       "      <td>12.585558</td>\n",
       "      <td>2181.615252</td>\n",
       "      <td>421.385070</td>\n",
       "      <td>1132.462122</td>\n",
       "      <td>382.329753</td>\n",
       "      <td>1.899822</td>\n",
       "      <td>115395.615874</td>\n",
       "    </tr>\n",
       "    <tr>\n",
       "      <th>min</th>\n",
       "      <td>-124.350000</td>\n",
       "      <td>32.540000</td>\n",
       "      <td>1.000000</td>\n",
       "      <td>2.000000</td>\n",
       "      <td>1.000000</td>\n",
       "      <td>3.000000</td>\n",
       "      <td>1.000000</td>\n",
       "      <td>0.499900</td>\n",
       "      <td>14999.000000</td>\n",
       "    </tr>\n",
       "    <tr>\n",
       "      <th>25%</th>\n",
       "      <td>-121.800000</td>\n",
       "      <td>33.930000</td>\n",
       "      <td>18.000000</td>\n",
       "      <td>1447.750000</td>\n",
       "      <td>296.000000</td>\n",
       "      <td>787.000000</td>\n",
       "      <td>280.000000</td>\n",
       "      <td>2.563400</td>\n",
       "      <td>119600.000000</td>\n",
       "    </tr>\n",
       "    <tr>\n",
       "      <th>50%</th>\n",
       "      <td>-118.490000</td>\n",
       "      <td>34.260000</td>\n",
       "      <td>29.000000</td>\n",
       "      <td>2127.000000</td>\n",
       "      <td>435.000000</td>\n",
       "      <td>1166.000000</td>\n",
       "      <td>409.000000</td>\n",
       "      <td>3.534800</td>\n",
       "      <td>179700.000000</td>\n",
       "    </tr>\n",
       "    <tr>\n",
       "      <th>75%</th>\n",
       "      <td>-118.010000</td>\n",
       "      <td>37.710000</td>\n",
       "      <td>37.000000</td>\n",
       "      <td>3148.000000</td>\n",
       "      <td>647.000000</td>\n",
       "      <td>1725.000000</td>\n",
       "      <td>605.000000</td>\n",
       "      <td>4.743250</td>\n",
       "      <td>264725.000000</td>\n",
       "    </tr>\n",
       "    <tr>\n",
       "      <th>max</th>\n",
       "      <td>-114.310000</td>\n",
       "      <td>41.950000</td>\n",
       "      <td>52.000000</td>\n",
       "      <td>39320.000000</td>\n",
       "      <td>6445.000000</td>\n",
       "      <td>35682.000000</td>\n",
       "      <td>6082.000000</td>\n",
       "      <td>15.000100</td>\n",
       "      <td>500001.000000</td>\n",
       "    </tr>\n",
       "  </tbody>\n",
       "</table>\n",
       "</div>"
      ],
      "text/plain": [
       "          longitude      latitude  housing_median_age   total_rooms   \n",
       "count  20640.000000  20640.000000        20640.000000  20640.000000  \\\n",
       "mean    -119.569704     35.631861           28.639486   2635.763081   \n",
       "std        2.003532      2.135952           12.585558   2181.615252   \n",
       "min     -124.350000     32.540000            1.000000      2.000000   \n",
       "25%     -121.800000     33.930000           18.000000   1447.750000   \n",
       "50%     -118.490000     34.260000           29.000000   2127.000000   \n",
       "75%     -118.010000     37.710000           37.000000   3148.000000   \n",
       "max     -114.310000     41.950000           52.000000  39320.000000   \n",
       "\n",
       "       total_bedrooms    population    households  median_income   \n",
       "count    20433.000000  20640.000000  20640.000000   20640.000000  \\\n",
       "mean       537.870553   1425.476744    499.539680       3.870671   \n",
       "std        421.385070   1132.462122    382.329753       1.899822   \n",
       "min          1.000000      3.000000      1.000000       0.499900   \n",
       "25%        296.000000    787.000000    280.000000       2.563400   \n",
       "50%        435.000000   1166.000000    409.000000       3.534800   \n",
       "75%        647.000000   1725.000000    605.000000       4.743250   \n",
       "max       6445.000000  35682.000000   6082.000000      15.000100   \n",
       "\n",
       "       median_house_value  \n",
       "count        20640.000000  \n",
       "mean        206855.816909  \n",
       "std         115395.615874  \n",
       "min          14999.000000  \n",
       "25%         119600.000000  \n",
       "50%         179700.000000  \n",
       "75%         264725.000000  \n",
       "max         500001.000000  "
      ]
     },
     "execution_count": 7,
     "metadata": {},
     "output_type": "execute_result"
    }
   ],
   "source": [
    "df.describe()"
   ]
  },
  {
   "cell_type": "code",
   "execution_count": 11,
   "id": "bdcd1d5c-7176-48a1-8599-b772a33a4c1f",
   "metadata": {
    "execution": {
     "iopub.execute_input": "2023-09-18T01:57:19.856036Z",
     "iopub.status.busy": "2023-09-18T01:57:19.855195Z",
     "iopub.status.idle": "2023-09-18T01:57:19.865358Z",
     "shell.execute_reply": "2023-09-18T01:57:19.864349Z",
     "shell.execute_reply.started": "2023-09-18T01:57:19.855978Z"
    },
    "tags": []
   },
   "outputs": [],
   "source": [
    "opr = df[df.ocean_proximity == \"ISLAND\"]"
   ]
  },
  {
   "cell_type": "code",
   "execution_count": 14,
   "id": "0713af29-db2f-423a-a798-956080443a0b",
   "metadata": {
    "execution": {
     "iopub.execute_input": "2023-09-18T01:58:36.005309Z",
     "iopub.status.busy": "2023-09-18T01:58:36.004508Z",
     "iopub.status.idle": "2023-09-18T01:58:36.013163Z",
     "shell.execute_reply": "2023-09-18T01:58:36.012267Z",
     "shell.execute_reply.started": "2023-09-18T01:58:36.005251Z"
    },
    "tags": []
   },
   "outputs": [],
   "source": [
    "opr = opr[['housing_median_age', 'total_rooms', 'total_bedrooms']]"
   ]
  },
  {
   "cell_type": "code",
   "execution_count": 23,
   "id": "8ca571c1-58b8-45d7-902c-e6100519f90f",
   "metadata": {
    "execution": {
     "iopub.execute_input": "2023-09-18T02:06:51.538597Z",
     "iopub.status.busy": "2023-09-18T02:06:51.537875Z",
     "iopub.status.idle": "2023-09-18T02:06:51.548184Z",
     "shell.execute_reply": "2023-09-18T02:06:51.547239Z",
     "shell.execute_reply.started": "2023-09-18T02:06:51.538547Z"
    },
    "tags": []
   },
   "outputs": [
    {
     "data": {
      "text/plain": [
       "array([[  27., 1675.,  521.],\n",
       "       [  52., 2359.,  591.],\n",
       "       [  52., 2127.,  512.],\n",
       "       [  52.,  996.,  264.],\n",
       "       [  29.,  716.,  214.]])"
      ]
     },
     "execution_count": 23,
     "metadata": {},
     "output_type": "execute_result"
    }
   ],
   "source": [
    "X = opr.to_numpy()\n",
    "X"
   ]
  },
  {
   "cell_type": "code",
   "execution_count": 25,
   "id": "0c3643cb-c36d-4583-9173-54ea02b88283",
   "metadata": {
    "execution": {
     "iopub.execute_input": "2023-09-18T02:10:16.068323Z",
     "iopub.status.busy": "2023-09-18T02:10:16.067904Z",
     "iopub.status.idle": "2023-09-18T02:10:16.076893Z",
     "shell.execute_reply": "2023-09-18T02:10:16.075674Z",
     "shell.execute_reply.started": "2023-09-18T02:10:16.068297Z"
    },
    "tags": []
   },
   "outputs": [
    {
     "data": {
      "text/plain": [
       "(3, 3)"
      ]
     },
     "execution_count": 25,
     "metadata": {},
     "output_type": "execute_result"
    }
   ],
   "source": [
    "XTX = X.T.dot(X)\n",
    "XTX.shape"
   ]
  },
  {
   "cell_type": "code",
   "execution_count": 26,
   "id": "06291600-9473-4ccd-b7af-ffb0f6ec9488",
   "metadata": {
    "execution": {
     "iopub.execute_input": "2023-09-18T02:10:19.571831Z",
     "iopub.status.busy": "2023-09-18T02:10:19.570951Z",
     "iopub.status.idle": "2023-09-18T02:10:19.577609Z",
     "shell.execute_reply": "2023-09-18T02:10:19.576533Z",
     "shell.execute_reply.started": "2023-09-18T02:10:19.571779Z"
    },
    "tags": []
   },
   "outputs": [],
   "source": [
    "y = [950, 1300, 800, 1000, 1300]"
   ]
  },
  {
   "cell_type": "code",
   "execution_count": 27,
   "id": "96250e2c-2cdc-4add-82a4-824a93689dbe",
   "metadata": {
    "execution": {
     "iopub.execute_input": "2023-09-18T02:10:24.589224Z",
     "iopub.status.busy": "2023-09-18T02:10:24.588453Z",
     "iopub.status.idle": "2023-09-18T02:10:24.597635Z",
     "shell.execute_reply": "2023-09-18T02:10:24.596578Z",
     "shell.execute_reply.started": "2023-09-18T02:10:24.589164Z"
    },
    "tags": []
   },
   "outputs": [],
   "source": [
    "XTXI = np.linalg.inv(XTX)"
   ]
  },
  {
   "cell_type": "code",
   "execution_count": 29,
   "id": "ebfdb67a-a7d4-451e-8451-6f0267a608b2",
   "metadata": {
    "execution": {
     "iopub.execute_input": "2023-09-18T02:10:37.936750Z",
     "iopub.status.busy": "2023-09-18T02:10:37.936010Z",
     "iopub.status.idle": "2023-09-18T02:10:37.947259Z",
     "shell.execute_reply": "2023-09-18T02:10:37.946511Z",
     "shell.execute_reply.started": "2023-09-18T02:10:37.936698Z"
    },
    "tags": []
   },
   "outputs": [
    {
     "data": {
      "text/plain": [
       "array([23.12330961, -1.48124183,  5.69922946])"
      ]
     },
     "execution_count": 29,
     "metadata": {},
     "output_type": "execute_result"
    }
   ],
   "source": [
    "XTXI.dot(X.T).dot(y)"
   ]
  }
 ],
 "metadata": {
  "kernelspec": {
   "display_name": "Python 3 (ipykernel)",
   "language": "python",
   "name": "python3"
  },
  "language_info": {
   "codemirror_mode": {
    "name": "ipython",
    "version": 3
   },
   "file_extension": ".py",
   "mimetype": "text/x-python",
   "name": "python",
   "nbconvert_exporter": "python",
   "pygments_lexer": "ipython3",
   "version": "3.9.18"
  }
 },
 "nbformat": 4,
 "nbformat_minor": 5
}
